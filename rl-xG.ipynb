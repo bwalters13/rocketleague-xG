{
 "cells": [
  {
   "cell_type": "code",
   "execution_count": 12,
   "metadata": {},
   "outputs": [],
   "source": [
    "import carball\n",
    "import gzip\n",
    "from carball.json_parser.game import Game\n",
    "from carball.analysis.analysis_manager import AnalysisManager\n",
    "import json\n",
    "import pandas as pd\n",
    "import numpy as np\n",
    "import seaborn as sns\n",
    "import matplotlib.animation as animation\n",
    "from matplotlib import rc\n",
    "import plotly.graph_objects as go\n",
    "from sklearn.linear_model import LogisticRegression\n",
    "rc('animation', html='html5')\n",
    "sns.set_context('talk')"
   ]
  },
  {
   "cell_type": "code",
   "execution_count": null,
   "metadata": {},
   "outputs": [],
   "source": [
    "player_cols = ['pos_x', 'pos_y', 'pos_z', 'vel_x', 'vel_y', 'vel_z',\n",
    "       'ang_vel_x', 'ang_vel_y', 'ang_vel_z', 'rot_x', 'rot_y', 'rot_z','boost']\n",
    "all_cols = []\n",
    "\n",
    "import os\n",
    "replays = []\n",
    "for root, dirs, files in os.walk(r\"C:\\Users\\blake\\Documents\\rlcsseason9\"):\n",
    "    for file in files:\n",
    "        if file.endswith(\".replay\"):\n",
    "            replays.append(os.path.join(root, file))\n",
    "for x in range(1,7):\n",
    "    for y in player_cols:\n",
    "        all_cols.append(y+'_p{}'.format(x))\n",
    "        \n",
    "def intersection(lst1, lst2): \n",
    "    lst3 = [value for value in lst1 if value in lst2] \n",
    "    return lst3 \n",
    "\n",
    "def get_shots(replay):\n",
    "    _json = carball.decompile_replay(replay)\n",
    "    game = Game()\n",
    "    game.initialize(loaded_json=_json)\n",
    "    analysis_manager = AnalysisManager(game)\n",
    "    analysis_manager.create_analysis()\n",
    "    game_info = get_players(game)\n",
    "    proto_object = analysis_manager.get_protobuf_data()\n",
    "    player_cols = ['pos_x', 'pos_y', 'pos_z', 'vel_x', 'vel_y', 'vel_z',\n",
    "           'ang_vel_x', 'ang_vel_y', 'ang_vel_z', 'rot_x', 'rot_y', 'rot_z','boost']\n",
    "    ball_cols = ['pos_x', 'pos_y', 'pos_z', 'vel_x', 'vel_y', 'vel_z',\n",
    "           'ang_vel_x', 'ang_vel_y', 'ang_vel_z', 'rot_x', 'rot_y', 'rot_z','frames','is_goal']\n",
    "\n",
    "    pdict = {\n",
    "        x.online_id : x.name\n",
    "        for x in game.players\n",
    "    }\n",
    "    df = analysis_manager.get_data_frame()\n",
    "    players = [x.name for x in game.players]\n",
    "    shot_frames = []\n",
    "    orangeshots = []\n",
    "    goal_frames = []\n",
    "    orangegoals = []\n",
    "    shooterid = []\n",
    "    js = analysis_manager.get_json_data()\n",
    "    for x in js['gameStats']['hits']:\n",
    "        pid = x['playerId']['id']\n",
    "        is_orange = game_info[game_info['id'] == pid].is_orange.values[0]\n",
    "        if 'shot' in x.keys() and x['frameNumber'] != df.index[-1]:\n",
    "            shooterid.append(pid)\n",
    "            if is_orange:\n",
    "                orangeshots.append(x['frameNumber'])\n",
    "            else:\n",
    "                shot_frames.append(x['frameNumber'])\n",
    "        \n",
    "        if 'goal' in x.keys():\n",
    "            if is_orange:\n",
    "                orangegoals.append(x['frameNumber'])\n",
    "            else:\n",
    "                goal_frames.append(x['frameNumber'])\n",
    "    #filter out goals that werent shot\n",
    "    goal_frames = intersection(shot_frames, goal_frames)\n",
    "    orangegoals = intersection(orangegoals, orangeshots)\n",
    "    \n",
    "    df = df.reset_index().rename(columns={'index':'frames'})\n",
    "    flat = get_flat_df(players, df)\n",
    "    df = df['ball']\n",
    "    df = df.reset_index().rename(columns={'index':'frames'})\n",
    "    \n",
    "    cols = ['pos_x', 'pos_y',  'vel_x', 'vel_y', 'ang_vel_x',\n",
    "           'ang_vel_y']\n",
    "    try:\n",
    "        df_orange = df[df.frames.isin(orangeshots)]\n",
    "        pl_orange = flat[flat.frames.isin(orangeshots)]\n",
    "        \n",
    "        df_orange[cols] = df_orange[cols].apply(lambda x : -x)\n",
    "        pl_orange[cols] = pl_orange[cols].apply(lambda x : -x)\n",
    "        df_orange.loc[df_orange.frames.isin(orangegoals), 'is_goal'] = 1\n",
    "    except:\n",
    "        df_orange = pd.DataFrame()\n",
    "    df.loc[df.frames.isin(goal_frames), 'is_goal'] = 1\n",
    "    df = df[df.frames.isin(shot_frames)]\n",
    "    pl = flat[flat.frames.isin(shot_frames)]\n",
    "    df = df.append(df_orange)\n",
    "    df = df.sort_values('frames')\n",
    "    \n",
    "    df['shooter_id'] = [pdict[x] for x in shooterid]  \n",
    "    test = pd.DataFrame()\n",
    "    for x,y in df.iterrows():\n",
    "        shooter = y['shooter_id']\n",
    "        print(\"SHOOTER:\", shooter)\n",
    "        is_orange = game_info.loc[game_info.name == shooter, 'is_orange'].values[0]\n",
    "        orange = game_info.loc[game_info.is_orange == True].name.values\n",
    "    \n",
    "        if is_orange == True:\n",
    "            temp_shooter = flat.loc[(flat.frames == y['frames']) & (flat.name == shooter), player_cols]\n",
    "            temp_orange = flat.loc[(flat.frames == y['frames']) & (flat.name != shooter) & (flat.name.isin(orange)), player_cols]\n",
    "            temp_blue = flat.loc[(flat.frames == y['frames']) & (~flat.name.isin(orange)), player_cols]\n",
    "            for dataframe in [temp_shooter, temp_orange, temp_blue]:\n",
    "                dataframe[cols] = dataframe[cols].apply(lambda x: -x)\n",
    "            temp = temp_shooter.values.flatten().tolist() + temp_orange.values.flatten().tolist() + temp_blue.values.flatten().tolist()\n",
    "        else:      \n",
    "            temp_shooter = flat.loc[(flat.frames == y['frames']) & (flat.name == shooter), player_cols]\n",
    "            temp_blue = flat.loc[(flat.frames == y['frames']) & (flat.name != shooter) & (~flat.name.isin(orange)), player_cols]\n",
    "            temp_orange = flat.loc[(flat.frames == y['frames']) & (flat.name.isin(orange)), player_cols]\n",
    "            temp = temp_shooter.values.flatten().tolist() + temp_blue.values.flatten().tolist() + temp_orange.values.flatten().tolist()\n",
    "        temp = pd.DataFrame(temp).T\n",
    "        temp['frames'] = y['frames']\n",
    "        temp = temp.merge(df[ball_cols],on='frames')\n",
    "        test = test.append(temp)\n",
    "    test['id'] = proto_object.game_metadata.match_guid\n",
    "    test['replay_name'] = replay\n",
    "    test['date'] = game.datetime\n",
    "    test.columns = all_cols + test.columns[78:].tolist()\n",
    "    return test\n",
    "\n",
    "shots_df = pd.DataFrame()\n",
    "for replay in replays:\n",
    "    sho = get_shots(replay)\n",
    "    shots_df = shots_df.append(sho).reset_index(drop=True)\n",
    "    \n",
    "shots_df.is_goal = shots_df.is_goal.fillna(0)"
   ]
  },
  {
   "cell_type": "code",
   "execution_count": 246,
   "metadata": {},
   "outputs": [],
   "source": [
    "shots_df = pd.read_csv('shots.csv')\n",
    "shots_df = shots_df.dropna()"
   ]
  },
  {
   "cell_type": "code",
   "execution_count": 247,
   "metadata": {},
   "outputs": [
    {
     "data": {
      "text/plain": [
       "<AxesSubplot:xlabel='pos_x_p1', ylabel='pos_y_p1'>"
      ]
     },
     "execution_count": 247,
     "metadata": {},
     "output_type": "execute_result"
    },
    {
     "data": {
      "image/png": "[encoded data removed]",
      "text/plain": [
       "<Figure size 432x288 with 1 Axes>"
      ]
     },
     "metadata": {
      "needs_background": "light"
     },
     "output_type": "display_data"
    }
   ],
   "source": [
    "shots_df.plot(x='pos_x_p1', y='pos_y_p1', kind='scatter')"
   ]
  },
  {
   "cell_type": "code",
   "execution_count": 248,
   "metadata": {},
   "outputs": [],
   "source": [
    "import os\n",
    "replays = []\n",
    "for root, dirs, files in os.walk(r\"C:\\Users\\blake\\Documents\\rlcsseason9\"):\n",
    "    for file in files:\n",
    "        if file.endswith(\".replay\"):\n",
    "            replays.append(os.path.join(root, file))"
   ]
  },
  {
   "cell_type": "code",
   "execution_count": 17,
   "metadata": {
    "collapsed": true,
    "jupyter": {
     "outputs_hidden": true
    }
   },
   "outputs": [
    {
     "data": {
      "text/plain": [
       ""
      ]
     },
     "execution_count": 17,
     "metadata": {},
     "output_type": "execute_result"
    }
   ],
   "source": [
    "replays"
   ]
  },
  {
   "cell_type": "code",
   "execution_count": 18,
   "metadata": {},
   "outputs": [],
   "source": [
    "def intersection(lst1, lst2): \n",
    "    lst3 = [value for value in lst1 if value in lst2] \n",
    "    return lst3 "
   ]
  },
  {
   "cell_type": "code",
   "execution_count": 19,
   "metadata": {},
   "outputs": [],
   "source": [
    "boost_locs = pd.DataFrame([[-3072.0, -4096.0, 73.0, 'big'],\n",
    "                           [ 3072.0, -4096.0, 73.0, 'big'],\n",
    "                           [-3584.0,     0.0, 73.0, 'big'],\n",
    "                           [ 3584.0,     0.0, 73.0, 'big'],\n",
    "                           [-3072.0,  4096.0, 73.0, 'big'],\n",
    "                           [ 3072.0,  4096.0, 73.0, 'big'],\n",
    "                           [    0.0, -4240.0, 70.0, 'small'],\n",
    "                           [-1792.0, -4184.0, 70.0, 'small'],\n",
    "                           [ 1792.0, -4184.0, 70.0, 'small'],\n",
    "                           [- 940.0, -3308.0, 70.0, 'small'],\n",
    "                           [  940.0, -3308.0, 70.0, 'small'],\n",
    "                           [    0.0, -2816.0, 70.0, 'small'],\n",
    "                           [-3584.0, -2484.0, 70.0, 'small'],\n",
    "                           [ 3584.0, -2484.0, 70.0, 'small'],\n",
    "                           [-1788.0, -2300.0, 70.0, 'small'],\n",
    "                           [ 1788.0, -2300.0, 70.0, 'small'],\n",
    "                           [-2048.0, -1036.0, 70.0, 'small'],\n",
    "                           [    0.0, -1024.0, 70.0, 'small'],\n",
    "                           [ 2048.0, -1036.0, 70.0, 'small'],\n",
    "                           [-1024.0,     0.0, 70.0, 'small'],\n",
    "                           [ 1024.0,     0.0, 70.0, 'small'],\n",
    "                           [-2048.0,  1036.0, 70.0, 'small'],\n",
    "                           [    0.0,  1024.0, 70.0, 'small'],\n",
    "                           [ 2048.0,  1036.0, 70.0, 'small'],\n",
    "                           [-1788.0,  2300.0, 70.0, 'small'],\n",
    "                           [ 1788.0,  2300.0, 70.0, 'small'],\n",
    "                           [-3584.0,  2484.0, 70.0, 'small'],\n",
    "                           [ 3584.0,  2484.0, 70.0, 'small'],\n",
    "                           [    0.0,  2816.0, 70.0, 'small'],\n",
    "                           [- 940.0,  3310.0, 70.0, 'small'],\n",
    "                           [  940.0,  3308.0, 70.0, 'small'],\n",
    "                           [-1792.0,  4184.0, 70.0, 'small'],\n",
    "                           [ 1792.0,  4184.0, 70.0, 'small'],\n",
    "                           [    0.0,  4240.0, 70.0, 'small']], \n",
    "                          columns=['boost_pad_x', 'boost_pad_y', \n",
    "                                   'boost_pad_z', 'boost_pad_type'])"
   ]
  },
  {
   "cell_type": "code",
   "execution_count": 292,
   "metadata": {},
   "outputs": [],
   "source": [
    "def show_play(fig, expected_goal, frame, is_goal):\n",
    "    is_goal = 'Goal' if is_goal == 1 else \"No Goal\"\n",
    "    fig = go.Figure(\n",
    "    data=[\n",
    "         go.Scatter(x=[-4096,-4096+1152], y=[5120-1152, 5120],\n",
    "                     mode=\"lines\",\n",
    "                     line=dict(width=2, color=\"blue\")),\n",
    "        go.Scatter(x=[-4096,-4096+1152], y=[5120-1152, 5120],\n",
    "                     mode=\"lines\",\n",
    "                     line=dict(width=2, color=\"blue\")),\n",
    "         go.Scatter(x=[4096,4096-1152], y=[5120-1152, 5120],\n",
    "                     mode=\"lines\",\n",
    "                     line=dict(width=2, color=\"blue\")),\n",
    "          go.Scatter(x=[-4096,-4096+1152], y=[-5120+1152, -5120],\n",
    "                     mode=\"lines\",\n",
    "                     line=dict(width=2, color=\"blue\")),\n",
    "         go.Scatter(x=[-4096,-4096+1152], y=[5120-1152, 5120],\n",
    "                     mode=\"lines\",\n",
    "                     line=dict(width=2, color=\"blue\")),\n",
    "         go.Scatter(x=[4096,4096-1152], y=[-5120+1152, -5120],\n",
    "                     mode=\"lines\",\n",
    "                     line=dict(width=2, color=\"blue\")),\n",
    "          \n",
    "          go.Scatter(x=[-4096,-4096], y=[5120-1152, -5120+1152],\n",
    "                     mode=\"lines\",\n",
    "                     line=dict(width=2, color=\"blue\")),\n",
    "          go.Scatter(x=[4096,4096], y=[5120-1152, -5120+1152],\n",
    "                     mode=\"lines\",\n",
    "                     line=dict(width=2, color=\"blue\")),\n",
    "          \n",
    "          go.Scatter(x=[-4096+1152,-893], y=[5120, 5120],\n",
    "                     mode=\"lines\",\n",
    "                     line=dict(width=2, color=\"blue\")),\n",
    "          go.Scatter(x=[4096-1152,893], y=[5120, 5120],\n",
    "                     mode=\"lines\",\n",
    "                     line=dict(width=2, color=\"blue\")),\n",
    "          go.Scatter(x=[-893,893], y=[5120, 5120],\n",
    "                     mode=\"lines\",\n",
    "                     line=dict(width=2, color=\"blue\")),\n",
    "          \n",
    "          go.Scatter(x=[-4096+1152,-893], y=[-5120, -5120],\n",
    "                     mode=\"lines\",\n",
    "                     line=dict(width=2, color=\"blue\")),\n",
    "          go.Scatter(x=[4096-1152,893], y=[-5120, -5120],\n",
    "                     mode=\"lines\",\n",
    "                     line=dict(width=2, color=\"blue\")),\n",
    "          go.Scatter(x=[-893,893], y=[-5120, -5120],\n",
    "                     mode=\"lines\",\n",
    "                     line=dict(width=2, color=\"blue\")),\n",
    "          \n",
    "          go.Scatter(x=[-893,893], y=[5120+880, 5120+880],\n",
    "                     mode=\"lines\",\n",
    "                     line=dict(width=2, color=\"blue\")),\n",
    "          go.Scatter(x=[893,893], y=[5120+880, 5120],\n",
    "                     mode=\"lines\",\n",
    "                     line=dict(width=2, color=\"blue\")),\n",
    "          go.Scatter(x=[-893,-893], y=[5120+880, 5120],\n",
    "                     mode=\"lines\",\n",
    "                     line=dict(width=2, color=\"blue\")),\n",
    "          \n",
    "          go.Scatter(x=[-893,893], y=[-5120-880, -5120-880],\n",
    "                     mode=\"lines\",\n",
    "                     line=dict(width=2, color=\"blue\")),\n",
    "          go.Scatter(x=[893,893], y=[-5120-880, -5120],\n",
    "                     mode=\"lines\",\n",
    "                     line=dict(width=2, color=\"blue\")),\n",
    "          go.Scatter(x=[-893,-893], y=[-5120-880, -5120],\n",
    "                     mode=\"lines\",\n",
    "                     line=dict(width=2, color=\"blue\")),\n",
    "          go.Scatter(x=boost_locs['boost_pad_x'],y=boost_locs['boost_pad_y'], mode='markers', marker=dict(color='pink'))\n",
    "         \n",
    "         ],\n",
    "    layout=go.Layout(\n",
    "        xaxis=dict(range=[-5000, 5000], autorange=False, zeroline=False),\n",
    "        yaxis=dict(range=[-6050, 6050], autorange=False, zeroline=False),\n",
    "        title_text=\"Expected Goal: {}\\n Result: {}\".format(expected_goal, is_goal), hovermode=\"closest\",\n",
    "        width=700,\n",
    "        height=800\n",
    "        \n",
    "        ),\n",
    "    \n",
    "    frames=[go.Frame(\n",
    "        \n",
    "        data=[go.Scatter(\n",
    "            x=flat_df.loc[(flat_df.frames == k),'pos_x'].values,\n",
    "            y=flat_df.loc[(flat_df.frames == k),'pos_y'].values,\n",
    "            mode=\"markers\",\n",
    "            \n",
    "            marker=dict(color=['orange' if game_info.loc[game_info.name == nm].is_orange.values[0] else 'blue' for nm in flat_df.name.unique()], \n",
    "                        size=10\n",
    "                       )),\n",
    "              go.Scatter(\n",
    "            x=[df_ball.loc[df_ball.frames == k,'pos_x'].values[0]],\n",
    "            y=[df_ball.loc[df_ball.frames == k,'pos_y'].values[0]],\n",
    "            mode=\"markers\",\n",
    "            marker=dict(color='black', size=10)\n",
    "                \n",
    "              )\n",
    "             ]\n",
    "            )\n",
    "\n",
    "        for k in df.loc[df.frames.between(frame-100,frame+150), 'frames'].values]\n",
    "    )\n",
    "    fig.update_layout(\n",
    "    autosize=False,\n",
    "    width=700,\n",
    "    height=800,\n",
    "    updatemenus=[dict(buttons = [dict(\n",
    "                                               args = [None, {\"frame\": {\"duration\": 30, \n",
    "                                                                        \"redraw\": False},\n",
    "                                                              \"fromcurrent\": True, \n",
    "                                                              \"transition\": {\"duration\": 0}}],\n",
    "                                               label = \"Play\",\n",
    "                                               method = \"animate\")],\n",
    "                                type='buttons',\n",
    "                                showactive=False,\n",
    "                                y=1,\n",
    "                                x=1.12,\n",
    "                                xanchor='right',\n",
    "                                yanchor='top')]\n",
    "    )\n",
    "    return fig"
   ]
  },
  {
   "cell_type": "code",
   "execution_count": 205,
   "metadata": {},
   "outputs": [],
   "source": [
    "def get_players(game):\n",
    "    df_players = pd.DataFrame()\n",
    "    for x in game.players:\n",
    "        df_players = (df_players.append(pd.DataFrame([x.online_id,x.name,x.is_orange]\n",
    "                                                    ).T,ignore_index=True))\n",
    "    df_players.columns = ['id','name','is_orange']\n",
    "        \n",
    "    return df_players\n",
    "\n",
    "def get_flat_df(players, df):\n",
    "    flat_df = pd.DataFrame()\n",
    "    for x in players:\n",
    "        frames = df['frames'].unique()\n",
    "        temp = df[x]\n",
    "        temp['frames'] = frames\n",
    "        temp['name'] = x\n",
    "        flat_df = flat_df.append(temp)\n",
    "    return flat_df\n",
    "\n",
    "def get_replay_df(replay_file):\n",
    "    _json = carball.decompile_replay(replay_file)\n",
    "    game = Game()\n",
    "    game.initialize(loaded_json=_json)\n",
    "\n",
    "    analysis_manager = AnalysisManager(game)\n",
    "    analysis_manager.create_analysis()\n",
    "    t = analysis_manager.get_json_data()\n",
    "    df = analysis_manager.get_data_frame()\n",
    "    df = df.reset_index().rename(columns={'index':'frames'})\n",
    "    df_ball = df['ball']\n",
    "    df_ball['frames'] = df['frames'].values\n",
    "    players = [x.name for x in game.players]\n",
    "    flat_df = get_flat_df(players, df)\n",
    "    print(game.name)\n",
    "    game_info = pd.DataFrame([[format(game.datetime,\"%Y%m%d%H%M%S\"),game.game_info.match_guid,game.name[4],game.id]],columns=['match_date','match_id','game_number','game_id'])\n",
    "    player_info = get_players(game)\n",
    "    players = [x.name for x in game.players]\n",
    "    game_info = pd.concat((game_info,player_info),axis=1)\n",
    "    game_info = game_info.fillna(method='ffill')\n",
    "    return df, flat_df, game_info, players, df_ball"
   ]
  },
  {
   "cell_type": "code",
   "execution_count": 206,
   "metadata": {},
   "outputs": [
    {
     "name": "stderr",
     "output_type": "stream",
     "text": [
      "Player RLCS Admin as player has no MatchScore.\n",
      "Score is not found for player\n",
      "Ignoring player: RLCS Admin as player has no team.\n",
      "Player RLCS Observer 1 as player has no MatchScore.\n",
      "Score is not found for player\n",
      "Ignoring player: RLCS Observer 1 as player has no team.\n",
      "Player RLCS Observer 3 as player has no MatchScore.\n",
      "Score is not found for player\n",
      "Ignoring player: RLCS Observer 3 as player has no team.\n",
      "Player RLCS Observer 2 as player has no MatchScore.\n",
      "Score is not found for player\n",
      "Ignoring player: RLCS Observer 2 as player has no team.\n",
      "Dropping these columns[('game', 'is_overtime')]\n",
      "The player never hit the ball during the \"carry\"\n",
      "The player never hit the ball during the \"carry\"\n",
      "C:\\Users\\blake\\AppData\\Roaming\\Python\\Python38\\site-packages\\numpy\\lib\\format.py:431: UserWarning:\n",
      "\n",
      "Stored array in format 3.0. It can only be read by NumPy >= 1.17\n",
      "\n",
      "<ipython-input-205-13e91061d822>:31: SettingWithCopyWarning:\n",
      "\n",
      "\n",
      "A value is trying to be set on a copy of a slice from a DataFrame.\n",
      "Try using .loc[row_indexer,col_indexer] = value instead\n",
      "\n",
      "See the caveats in the documentation: https://pandas.pydata.org/pandas-docs/stable/user_guide/indexing.html#returning-a-view-versus-a-copy\n",
      "\n",
      "<ipython-input-205-13e91061d822>:15: SettingWithCopyWarning:\n",
      "\n",
      "\n",
      "A value is trying to be set on a copy of a slice from a DataFrame.\n",
      "Try using .loc[row_indexer,col_indexer] = value instead\n",
      "\n",
      "See the caveats in the documentation: https://pandas.pydata.org/pandas-docs/stable/user_guide/indexing.html#returning-a-view-versus-a-copy\n",
      "\n",
      "<ipython-input-205-13e91061d822>:16: SettingWithCopyWarning:\n",
      "\n",
      "\n",
      "A value is trying to be set on a copy of a slice from a DataFrame.\n",
      "Try using .loc[row_indexer,col_indexer] = value instead\n",
      "\n",
      "See the caveats in the documentation: https://pandas.pydata.org/pandas-docs/stable/user_guide/indexing.html#returning-a-view-versus-a-copy\n",
      "\n"
     ]
    },
    {
     "name": "stdout",
     "output_type": "stream",
     "text": [
      "m1 g3 bb vs vert\n"
     ]
    }
   ],
   "source": [
    "df, flat_df, game_info, players, df_ball = get_replay_df(shots_df.replay_name.values[0])"
   ]
  },
  {
   "cell_type": "code",
   "execution_count": 202,
   "metadata": {},
   "outputs": [
    {
     "data": {
      "text/html": [
       "<div>\n",
       "<style scoped>\n",
       "    .dataframe tbody tr th:only-of-type {\n",
       "        vertical-align: middle;\n",
       "    }\n",
       "\n",
       "    .dataframe tbody tr th {\n",
       "        vertical-align: top;\n",
       "    }\n",
       "\n",
       "    .dataframe thead th {\n",
       "        text-align: right;\n",
       "    }\n",
       "</style>\n",
       "<table border=\"1\" class=\"dataframe\">\n",
       "  <thead>\n",
       "    <tr style=\"text-align: right;\">\n",
       "      <th></th>\n",
       "      <th>match_date</th>\n",
       "      <th>match_id</th>\n",
       "      <th>game_number</th>\n",
       "      <th>game_id</th>\n",
       "      <th>id</th>\n",
       "      <th>name</th>\n",
       "      <th>is_orange</th>\n",
       "    </tr>\n",
       "  </thead>\n",
       "  <tbody>\n",
       "    <tr>\n",
       "      <th>0</th>\n",
       "      <td>20200214104013</td>\n",
       "      <td>63BEE7A811EA4F58155129BBDFFAEFCB</td>\n",
       "      <td>3.0</td>\n",
       "      <td>44C89A1A44A4E626916BD69677565167</td>\n",
       "      <td>76561198246237074</td>\n",
       "      <td>doomayn 幸せ</td>\n",
       "      <td>True</td>\n",
       "    </tr>\n",
       "    <tr>\n",
       "      <th>1</th>\n",
       "      <td>20200214104013</td>\n",
       "      <td>63BEE7A811EA4F58155129BBDFFAEFCB</td>\n",
       "      <td>3.0</td>\n",
       "      <td>44C89A1A44A4E626916BD69677565167</td>\n",
       "      <td>76561198150969845</td>\n",
       "      <td>Kerian</td>\n",
       "      <td>False</td>\n",
       "    </tr>\n",
       "    <tr>\n",
       "      <th>2</th>\n",
       "      <td>20200214104013</td>\n",
       "      <td>63BEE7A811EA4F58155129BBDFFAEFCB</td>\n",
       "      <td>3.0</td>\n",
       "      <td>44C89A1A44A4E626916BD69677565167</td>\n",
       "      <td>76561198258466111</td>\n",
       "      <td>ExoTiiK</td>\n",
       "      <td>False</td>\n",
       "    </tr>\n",
       "    <tr>\n",
       "      <th>3</th>\n",
       "      <td>20200214104013</td>\n",
       "      <td>63BEE7A811EA4F58155129BBDFFAEFCB</td>\n",
       "      <td>3.0</td>\n",
       "      <td>44C89A1A44A4E626916BD69677565167</td>\n",
       "      <td>76561198303347154</td>\n",
       "      <td>Meloshisu</td>\n",
       "      <td>False</td>\n",
       "    </tr>\n",
       "    <tr>\n",
       "      <th>4</th>\n",
       "      <td>20200214104013</td>\n",
       "      <td>63BEE7A811EA4F58155129BBDFFAEFCB</td>\n",
       "      <td>3.0</td>\n",
       "      <td>44C89A1A44A4E626916BD69677565167</td>\n",
       "      <td>76561198008942341</td>\n",
       "      <td>Gnagflow06</td>\n",
       "      <td>True</td>\n",
       "    </tr>\n",
       "    <tr>\n",
       "      <th>5</th>\n",
       "      <td>20200214104013</td>\n",
       "      <td>63BEE7A811EA4F58155129BBDFFAEFCB</td>\n",
       "      <td>3.0</td>\n",
       "      <td>44C89A1A44A4E626916BD69677565167</td>\n",
       "      <td>76561198079884662</td>\n",
       "      <td>coKaaa</td>\n",
       "      <td>True</td>\n",
       "    </tr>\n",
       "  </tbody>\n",
       "</table>\n",
       "</div>"
      ],
      "text/plain": [
       "       match_date                          match_id  game_number  \\\n",
       "0  20200214104013  63BEE7A811EA4F58155129BBDFFAEFCB          3.0   \n",
       "1  20200214104013  63BEE7A811EA4F58155129BBDFFAEFCB          3.0   \n",
       "2  20200214104013  63BEE7A811EA4F58155129BBDFFAEFCB          3.0   \n",
       "3  20200214104013  63BEE7A811EA4F58155129BBDFFAEFCB          3.0   \n",
       "4  20200214104013  63BEE7A811EA4F58155129BBDFFAEFCB          3.0   \n",
       "5  20200214104013  63BEE7A811EA4F58155129BBDFFAEFCB          3.0   \n",
       "\n",
       "                            game_id                 id        name  is_orange  \n",
       "0  44C89A1A44A4E626916BD69677565167  76561198246237074  doomayn 幸せ       True  \n",
       "1  44C89A1A44A4E626916BD69677565167  76561198150969845      Kerian      False  \n",
       "2  44C89A1A44A4E626916BD69677565167  76561198258466111     ExoTiiK      False  \n",
       "3  44C89A1A44A4E626916BD69677565167  76561198303347154   Meloshisu      False  \n",
       "4  44C89A1A44A4E626916BD69677565167  76561198008942341  Gnagflow06       True  \n",
       "5  44C89A1A44A4E626916BD69677565167  76561198079884662      coKaaa       True  "
      ]
     },
     "execution_count": 202,
     "metadata": {},
     "output_type": "execute_result"
    }
   ],
   "source": [
    "game_info"
   ]
  },
  {
   "cell_type": "code",
   "execution_count": 271,
   "metadata": {},
   "outputs": [
    {
     "data": {
      "text/html": [
       "<div>\n",
       "<style scoped>\n",
       "    .dataframe tbody tr th:only-of-type {\n",
       "        vertical-align: middle;\n",
       "    }\n",
       "\n",
       "    .dataframe tbody tr th {\n",
       "        vertical-align: top;\n",
       "    }\n",
       "\n",
       "    .dataframe thead th {\n",
       "        text-align: right;\n",
       "    }\n",
       "</style>\n",
       "<table border=\"1\" class=\"dataframe\">\n",
       "  <thead>\n",
       "    <tr style=\"text-align: right;\">\n",
       "      <th></th>\n",
       "      <th>frames</th>\n",
       "      <th>replay_name</th>\n",
       "    </tr>\n",
       "  </thead>\n",
       "  <tbody>\n",
       "    <tr>\n",
       "      <th>0</th>\n",
       "      <td>173</td>\n",
       "      <td>C:\\Users\\blake\\Documents\\rlcsseason9\\RLCS Seas...</td>\n",
       "    </tr>\n",
       "    <tr>\n",
       "      <th>1</th>\n",
       "      <td>529</td>\n",
       "      <td>C:\\Users\\blake\\Documents\\rlcsseason9\\RLCS Seas...</td>\n",
       "    </tr>\n",
       "    <tr>\n",
       "      <th>2</th>\n",
       "      <td>1152</td>\n",
       "      <td>C:\\Users\\blake\\Documents\\rlcsseason9\\RLCS Seas...</td>\n",
       "    </tr>\n",
       "    <tr>\n",
       "      <th>3</th>\n",
       "      <td>1489</td>\n",
       "      <td>C:\\Users\\blake\\Documents\\rlcsseason9\\RLCS Seas...</td>\n",
       "    </tr>\n",
       "    <tr>\n",
       "      <th>4</th>\n",
       "      <td>4542</td>\n",
       "      <td>C:\\Users\\blake\\Documents\\rlcsseason9\\RLCS Seas...</td>\n",
       "    </tr>\n",
       "    <tr>\n",
       "      <th>...</th>\n",
       "      <td>...</td>\n",
       "      <td>...</td>\n",
       "    </tr>\n",
       "    <tr>\n",
       "      <th>6178</th>\n",
       "      <td>5806</td>\n",
       "      <td>C:\\Users\\blake\\Documents\\rlcsseason9\\RLCS Seas...</td>\n",
       "    </tr>\n",
       "    <tr>\n",
       "      <th>6179</th>\n",
       "      <td>6548</td>\n",
       "      <td>C:\\Users\\blake\\Documents\\rlcsseason9\\RLCS Seas...</td>\n",
       "    </tr>\n",
       "    <tr>\n",
       "      <th>6180</th>\n",
       "      <td>7138</td>\n",
       "      <td>C:\\Users\\blake\\Documents\\rlcsseason9\\RLCS Seas...</td>\n",
       "    </tr>\n",
       "    <tr>\n",
       "      <th>6181</th>\n",
       "      <td>7243</td>\n",
       "      <td>C:\\Users\\blake\\Documents\\rlcsseason9\\RLCS Seas...</td>\n",
       "    </tr>\n",
       "    <tr>\n",
       "      <th>6183</th>\n",
       "      <td>8001</td>\n",
       "      <td>C:\\Users\\blake\\Documents\\rlcsseason9\\RLCS Seas...</td>\n",
       "    </tr>\n",
       "  </tbody>\n",
       "</table>\n",
       "<p>5047 rows × 2 columns</p>\n",
       "</div>"
      ],
      "text/plain": [
       "      frames                                        replay_name\n",
       "0        173  C:\\Users\\blake\\Documents\\rlcsseason9\\RLCS Seas...\n",
       "1        529  C:\\Users\\blake\\Documents\\rlcsseason9\\RLCS Seas...\n",
       "2       1152  C:\\Users\\blake\\Documents\\rlcsseason9\\RLCS Seas...\n",
       "3       1489  C:\\Users\\blake\\Documents\\rlcsseason9\\RLCS Seas...\n",
       "4       4542  C:\\Users\\blake\\Documents\\rlcsseason9\\RLCS Seas...\n",
       "...      ...                                                ...\n",
       "6178    5806  C:\\Users\\blake\\Documents\\rlcsseason9\\RLCS Seas...\n",
       "6179    6548  C:\\Users\\blake\\Documents\\rlcsseason9\\RLCS Seas...\n",
       "6180    7138  C:\\Users\\blake\\Documents\\rlcsseason9\\RLCS Seas...\n",
       "6181    7243  C:\\Users\\blake\\Documents\\rlcsseason9\\RLCS Seas...\n",
       "6183    8001  C:\\Users\\blake\\Documents\\rlcsseason9\\RLCS Seas...\n",
       "\n",
       "[5047 rows x 2 columns]"
      ]
     },
     "execution_count": 271,
     "metadata": {},
     "output_type": "execute_result"
    }
   ],
   "source": [
    "shots_df[['frames', 'replay_name']]"
   ]
  },
  {
   "cell_type": "code",
   "execution_count": 249,
   "metadata": {},
   "outputs": [],
   "source": [
    "X_cols = shots_df.columns[:78].tolist() + shots_df.columns[80:91].tolist()\n",
    "pipeline = Pipeline([\n",
    "    ('std_scaler', StandardScaler())\n",
    "])"
   ]
  },
  {
   "cell_type": "code",
   "execution_count": 284,
   "metadata": {},
   "outputs": [],
   "source": [
    "X = shots_df[shots_df.columns[:78].tolist() + shots_df.columns[80:91].tolist()].values\n",
    "y = shots_df['is_goal'].values\n",
    "X = pipeline.fit_transform(X)\n",
    "train_indices = shots_df.index[:4000]\n",
    "test_indices = shots_df.index[4000:]"
   ]
  },
  {
   "cell_type": "code",
   "execution_count": 285,
   "metadata": {},
   "outputs": [],
   "source": [
    "X_train, X_test, y_train, y_test = X[:4000], X[4000:], y[:4000], y[4000:]"
   ]
  },
  {
   "cell_type": "code",
   "execution_count": 286,
   "metadata": {},
   "outputs": [],
   "source": [
    "#using weight since i have such an imbalanced dataset (a lot more missed shots than goals)\n",
    "w = {0:1, 1:99}"
   ]
  },
  {
   "cell_type": "code",
   "execution_count": 253,
   "metadata": {},
   "outputs": [],
   "source": [
    "clf = LogisticRegression(random_state=0, class_weight=w).fit(X_train, y_train)"
   ]
  },
  {
   "cell_type": "code",
   "execution_count": 295,
   "metadata": {},
   "outputs": [
    {
     "data": {
      "text/plain": [
       "0.0    3990\n",
       "1.0    1057\n",
       "Name: is_goal, dtype: int64"
      ]
     },
     "execution_count": 295,
     "metadata": {},
     "output_type": "execute_result"
    }
   ],
   "source": [
    "shots_df.is_goal.value_counts()"
   ]
  },
  {
   "cell_type": "code",
   "execution_count": 254,
   "metadata": {},
   "outputs": [
    {
     "data": {
      "text/plain": [
       "array([1., 1., 0., 1., 0.])"
      ]
     },
     "execution_count": 254,
     "metadata": {},
     "output_type": "execute_result"
    }
   ],
   "source": [
    "clf.predict(X_test[:5, :])"
   ]
  },
  {
   "cell_type": "code",
   "execution_count": 255,
   "metadata": {},
   "outputs": [
    {
     "data": {
      "text/plain": [
       "array([0.54666667, 0.56      , 0.57333333, 0.52266667])"
      ]
     },
     "execution_count": 255,
     "metadata": {},
     "output_type": "execute_result"
    }
   ],
   "source": [
    "from sklearn.model_selection import cross_val_score\n",
    "\n",
    "cross_val_score(clf, X_train, y_train, cv=4, scoring='accuracy')"
   ]
  },
  {
   "cell_type": "code",
   "execution_count": 256,
   "metadata": {},
   "outputs": [],
   "source": [
    "from sklearn.pipeline import Pipeline\n",
    "from sklearn.preprocessing import StandardScaler\n",
    "from sklearn.model_selection import cross_val_predict\n",
    "from sklearn.metrics import confusion_matrix"
   ]
  },
  {
   "cell_type": "code",
   "execution_count": 257,
   "metadata": {},
   "outputs": [
    {
     "name": "stderr",
     "output_type": "stream",
     "text": [
      "C:\\Users\\blake\\Anaconda3\\lib\\site-packages\\sklearn\\linear_model\\_logistic.py:762: ConvergenceWarning:\n",
      "\n",
      "lbfgs failed to converge (status=1):\n",
      "STOP: TOTAL NO. of ITERATIONS REACHED LIMIT.\n",
      "\n",
      "Increase the number of iterations (max_iter) or scale the data as shown in:\n",
      "    https://scikit-learn.org/stable/modules/preprocessing.html\n",
      "Please also refer to the documentation for alternative solver options:\n",
      "    https://scikit-learn.org/stable/modules/linear_model.html#logistic-regression\n",
      "\n",
      "C:\\Users\\blake\\Anaconda3\\lib\\site-packages\\sklearn\\linear_model\\_logistic.py:762: ConvergenceWarning:\n",
      "\n",
      "lbfgs failed to converge (status=1):\n",
      "STOP: TOTAL NO. of ITERATIONS REACHED LIMIT.\n",
      "\n",
      "Increase the number of iterations (max_iter) or scale the data as shown in:\n",
      "    https://scikit-learn.org/stable/modules/preprocessing.html\n",
      "Please also refer to the documentation for alternative solver options:\n",
      "    https://scikit-learn.org/stable/modules/linear_model.html#logistic-regression\n",
      "\n"
     ]
    }
   ],
   "source": [
    "y_train_pred = cross_val_predict(clf, X_train, y_train, cv=3)"
   ]
  },
  {
   "cell_type": "code",
   "execution_count": 258,
   "metadata": {},
   "outputs": [
    {
     "data": {
      "text/plain": [
       "array([[543, 633],\n",
       "       [ 25, 299]], dtype=int64)"
      ]
     },
     "execution_count": 258,
     "metadata": {},
     "output_type": "execute_result"
    }
   ],
   "source": [
    "confusion_matrix(y_train, y_train_pred)"
   ]
  },
  {
   "cell_type": "code",
   "execution_count": 259,
   "metadata": {},
   "outputs": [],
   "source": [
    "y_pred = clf.predict(X_test)"
   ]
  },
  {
   "cell_type": "code",
   "execution_count": 260,
   "metadata": {},
   "outputs": [
    {
     "data": {
      "text/plain": [
       "0.4905553989286721"
      ]
     },
     "execution_count": 260,
     "metadata": {},
     "output_type": "execute_result"
    }
   ],
   "source": [
    "clf.score(X_test, y_test)"
   ]
  },
  {
   "cell_type": "code",
   "execution_count": 261,
   "metadata": {},
   "outputs": [],
   "source": [
    "w = [{0:1000,1:100},{0:1000,1:10}, {0:1000,1:1.0}, \n",
    "     {0:500,1:1.0}, {0:400,1:1.0}, {0:300,1:1.0}, {0:200,1:1.0}, \n",
    "     {0:150,1:1.0}, {0:100,1:1.0}, {0:99,1:1.0}, {0:10,1:1.0}, \n",
    "     {0:0.01,1:1.0}, {0:0.01,1:10}, {0:0.01,1:100}, \n",
    "     {0:0.001,1:1.0}, {0:0.005,1:1.0}, {0:1.0,1:1.0}, \n",
    "     {0:1.0,1:0.1}, {0:10,1:0.1}, {0:100,1:0.1}, \n",
    "     {0:10,1:0.01}, {0:1.0,1:0.01}, {0:1.0,1:0.001}, {0:1.0,1:0.005}, \n",
    "     {0:1.0,1:10}, {0:1.0,1:99}, {0:1.0,1:100}, {0:1.0,1:150}, \n",
    "     {0:1.0,1:200}, {0:1.0,1:300},{0:1.0,1:400},{0:1.0,1:500}, \n",
    "     {0:1.0,1:1000}, {0:10,1:1000},{0:100,1:1000} ]\n",
    "hyperparam_grid = {\"class_weight\": w }"
   ]
  },
  {
   "cell_type": "code",
   "execution_count": 262,
   "metadata": {},
   "outputs": [
    {
     "name": "stdout",
     "output_type": "stream",
     "text": [
      "Best score: 0.8269050699300701 with param: {'class_weight': {0: 1.0, 1: 1.0}}\n"
     ]
    }
   ],
   "source": [
    "from sklearn.model_selection import GridSearchCV\n",
    "\n",
    "lg = LogisticRegression(random_state=0)\n",
    "grid = GridSearchCV(lg,hyperparam_grid,scoring=\"roc_auc\", cv=100, n_jobs=-1, refit=True)\n",
    "grid.fit(X,y)\n",
    "print(f'Best score: {grid.best_score_} with param: {grid.best_params_}')"
   ]
  },
  {
   "cell_type": "code",
   "execution_count": 274,
   "metadata": {},
   "outputs": [],
   "source": [
    "#turns out best weight is evenly distributed\n",
    "w = {0: 1, 1: 1}"
   ]
  },
  {
   "cell_type": "code",
   "execution_count": 275,
   "metadata": {},
   "outputs": [],
   "source": [
    "clf = LogisticRegression(random_state=0, class_weight=w).fit(X_train, y_train)"
   ]
  },
  {
   "cell_type": "code",
   "execution_count": 276,
   "metadata": {},
   "outputs": [
    {
     "data": {
      "text/plain": [
       "array([0.822, 0.813, 0.814, 0.809])"
      ]
     },
     "execution_count": 276,
     "metadata": {},
     "output_type": "execute_result"
    }
   ],
   "source": [
    "from sklearn.model_selection import cross_val_score\n",
    "\n",
    "cross_val_score(clf, X_train, y_train, cv=4, scoring='accuracy')"
   ]
  },
  {
   "cell_type": "code",
   "execution_count": 277,
   "metadata": {},
   "outputs": [],
   "source": [
    "y_train_pred = cross_val_predict(clf, X_train, y_train, cv=3)"
   ]
  },
  {
   "cell_type": "code",
   "execution_count": 278,
   "metadata": {},
   "outputs": [
    {
     "data": {
      "text/plain": [
       "array([[2951,  210],\n",
       "       [ 542,  297]], dtype=int64)"
      ]
     },
     "execution_count": 278,
     "metadata": {},
     "output_type": "execute_result"
    }
   ],
   "source": [
    "confusion_matrix(y_train, y_train_pred)"
   ]
  },
  {
   "cell_type": "code",
   "execution_count": 279,
   "metadata": {},
   "outputs": [
    {
     "data": {
      "text/plain": [
       "0.8194842406876791"
      ]
     },
     "execution_count": 279,
     "metadata": {},
     "output_type": "execute_result"
    }
   ],
   "source": [
    "clf.score(X_test, y_test)"
   ]
  },
  {
   "cell_type": "code",
   "execution_count": 287,
   "metadata": {},
   "outputs": [],
   "source": [
    "goal_probs = clf.predict_proba(X_test)[:, 1]"
   ]
  },
  {
   "cell_type": "code",
   "execution_count": 288,
   "metadata": {},
   "outputs": [],
   "source": [
    "results_df = shots_df.loc[test_indices]"
   ]
  },
  {
   "cell_type": "code",
   "execution_count": 289,
   "metadata": {},
   "outputs": [],
   "source": [
    "results_df['expected_goal'] = goal_probs"
   ]
  },
  {
   "cell_type": "code",
   "execution_count": 290,
   "metadata": {},
   "outputs": [
    {
     "data": {
      "text/html": [
       "<div>\n",
       "<style scoped>\n",
       "    .dataframe tbody tr th:only-of-type {\n",
       "        vertical-align: middle;\n",
       "    }\n",
       "\n",
       "    .dataframe tbody tr th {\n",
       "        vertical-align: top;\n",
       "    }\n",
       "\n",
       "    .dataframe thead th {\n",
       "        text-align: right;\n",
       "    }\n",
       "</style>\n",
       "<table border=\"1\" class=\"dataframe\">\n",
       "  <thead>\n",
       "    <tr style=\"text-align: right;\">\n",
       "      <th></th>\n",
       "      <th>pos_x_p1</th>\n",
       "      <th>pos_y_p1</th>\n",
       "      <th>pos_z_p1</th>\n",
       "      <th>vel_x_p1</th>\n",
       "      <th>vel_y_p1</th>\n",
       "      <th>vel_z_p1</th>\n",
       "      <th>ang_vel_x_p1</th>\n",
       "      <th>ang_vel_y_p1</th>\n",
       "      <th>ang_vel_z_p1</th>\n",
       "      <th>rot_x_p1</th>\n",
       "      <th>...</th>\n",
       "      <th>ang_vel_y</th>\n",
       "      <th>ang_vel_z</th>\n",
       "      <th>rot_x</th>\n",
       "      <th>rot_y</th>\n",
       "      <th>rot_z</th>\n",
       "      <th>is_goal</th>\n",
       "      <th>id</th>\n",
       "      <th>replay_name</th>\n",
       "      <th>date</th>\n",
       "      <th>expected_goal</th>\n",
       "    </tr>\n",
       "  </thead>\n",
       "  <tbody>\n",
       "    <tr>\n",
       "      <th>4921</th>\n",
       "      <td>2373.709961</td>\n",
       "      <td>3301.760010</td>\n",
       "      <td>996.080017</td>\n",
       "      <td>-12541.899414</td>\n",
       "      <td>15733.000488</td>\n",
       "      <td>-1220.000000</td>\n",
       "      <td>-2320.099945</td>\n",
       "      <td>264.099998</td>\n",
       "      <td>-1738.099976</td>\n",
       "      <td>-0.901524</td>\n",
       "      <td>...</td>\n",
       "      <td>898.399963</td>\n",
       "      <td>3361.499939</td>\n",
       "      <td>0.036974</td>\n",
       "      <td>0.882725</td>\n",
       "      <td>-1.983552</td>\n",
       "      <td>0.0</td>\n",
       "      <td>916019FC11EA6B0F87EF53BC777CAF14</td>\n",
       "      <td>C:\\Users\\blake\\Documents\\rlcsseason9\\RLCS Seas...</td>\n",
       "      <td>2020-03-20 21:08:46</td>\n",
       "      <td>0.135249</td>\n",
       "    </tr>\n",
       "    <tr>\n",
       "      <th>4922</th>\n",
       "      <td>-3369.100098</td>\n",
       "      <td>2239.370117</td>\n",
       "      <td>1002.840027</td>\n",
       "      <td>14710.600586</td>\n",
       "      <td>14377.500000</td>\n",
       "      <td>311.399994</td>\n",
       "      <td>5318.099976</td>\n",
       "      <td>-1402.299957</td>\n",
       "      <td>-26.099999</td>\n",
       "      <td>-0.502260</td>\n",
       "      <td>...</td>\n",
       "      <td>-298.600006</td>\n",
       "      <td>-4079.100037</td>\n",
       "      <td>-0.759213</td>\n",
       "      <td>0.452975</td>\n",
       "      <td>2.363330</td>\n",
       "      <td>0.0</td>\n",
       "      <td>746D9D8411EA6B0EB55153BC5FFA8FCB</td>\n",
       "      <td>C:\\Users\\blake\\Documents\\rlcsseason9\\RLCS Seas...</td>\n",
       "      <td>2020-03-20 21:01:13</td>\n",
       "      <td>0.044166</td>\n",
       "    </tr>\n",
       "    <tr>\n",
       "      <th>4925</th>\n",
       "      <td>3594.750000</td>\n",
       "      <td>1792.020020</td>\n",
       "      <td>379.140015</td>\n",
       "      <td>-5600.200195</td>\n",
       "      <td>21158.601074</td>\n",
       "      <td>3460.899963</td>\n",
       "      <td>-662.200012</td>\n",
       "      <td>-2512.799988</td>\n",
       "      <td>-4646.000061</td>\n",
       "      <td>-0.496193</td>\n",
       "      <td>...</td>\n",
       "      <td>871.100006</td>\n",
       "      <td>5934.299927</td>\n",
       "      <td>0.372164</td>\n",
       "      <td>1.117096</td>\n",
       "      <td>-0.334480</td>\n",
       "      <td>0.0</td>\n",
       "      <td>746D9D8411EA6B0EB55153BC5FFA8FCB</td>\n",
       "      <td>C:\\Users\\blake\\Documents\\rlcsseason9\\RLCS Seas...</td>\n",
       "      <td>2020-03-20 21:01:13</td>\n",
       "      <td>0.123071</td>\n",
       "    </tr>\n",
       "    <tr>\n",
       "      <th>4926</th>\n",
       "      <td>-3355.500000</td>\n",
       "      <td>1566.339966</td>\n",
       "      <td>259.600006</td>\n",
       "      <td>9139.699707</td>\n",
       "      <td>19118.000488</td>\n",
       "      <td>2668.699951</td>\n",
       "      <td>-912.399979</td>\n",
       "      <td>5232.100220</td>\n",
       "      <td>-1428.999939</td>\n",
       "      <td>-0.182415</td>\n",
       "      <td>...</td>\n",
       "      <td>-2112.599945</td>\n",
       "      <td>-5009.500122</td>\n",
       "      <td>0.564321</td>\n",
       "      <td>2.161200</td>\n",
       "      <td>-0.186814</td>\n",
       "      <td>0.0</td>\n",
       "      <td>746D9D8411EA6B0EB55153BC5FFA8FCB</td>\n",
       "      <td>C:\\Users\\blake\\Documents\\rlcsseason9\\RLCS Seas...</td>\n",
       "      <td>2020-03-20 21:01:13</td>\n",
       "      <td>0.096685</td>\n",
       "    </tr>\n",
       "    <tr>\n",
       "      <th>4927</th>\n",
       "      <td>-3936.739990</td>\n",
       "      <td>3359.290039</td>\n",
       "      <td>1292.910034</td>\n",
       "      <td>9358.300171</td>\n",
       "      <td>4665.899963</td>\n",
       "      <td>13922.299805</td>\n",
       "      <td>580.999985</td>\n",
       "      <td>1801.399994</td>\n",
       "      <td>5164.000244</td>\n",
       "      <td>-0.846644</td>\n",
       "      <td>...</td>\n",
       "      <td>4121.000061</td>\n",
       "      <td>-2721.199951</td>\n",
       "      <td>0.458351</td>\n",
       "      <td>-2.180656</td>\n",
       "      <td>-2.568234</td>\n",
       "      <td>0.0</td>\n",
       "      <td>746D9D8411EA6B0EB55153BC5FFA8FCB</td>\n",
       "      <td>C:\\Users\\blake\\Documents\\rlcsseason9\\RLCS Seas...</td>\n",
       "      <td>2020-03-20 21:01:13</td>\n",
       "      <td>0.166151</td>\n",
       "    </tr>\n",
       "    <tr>\n",
       "      <th>...</th>\n",
       "      <td>...</td>\n",
       "      <td>...</td>\n",
       "      <td>...</td>\n",
       "      <td>...</td>\n",
       "      <td>...</td>\n",
       "      <td>...</td>\n",
       "      <td>...</td>\n",
       "      <td>...</td>\n",
       "      <td>...</td>\n",
       "      <td>...</td>\n",
       "      <td>...</td>\n",
       "      <td>...</td>\n",
       "      <td>...</td>\n",
       "      <td>...</td>\n",
       "      <td>...</td>\n",
       "      <td>...</td>\n",
       "      <td>...</td>\n",
       "      <td>...</td>\n",
       "      <td>...</td>\n",
       "      <td>...</td>\n",
       "      <td>...</td>\n",
       "    </tr>\n",
       "    <tr>\n",
       "      <th>6178</th>\n",
       "      <td>634.039978</td>\n",
       "      <td>3449.469971</td>\n",
       "      <td>67.000000</td>\n",
       "      <td>793.600006</td>\n",
       "      <td>10532.700195</td>\n",
       "      <td>3454.800110</td>\n",
       "      <td>545.900002</td>\n",
       "      <td>-2414.199982</td>\n",
       "      <td>2986.700134</td>\n",
       "      <td>-0.031435</td>\n",
       "      <td>...</td>\n",
       "      <td>3921.900024</td>\n",
       "      <td>2695.000000</td>\n",
       "      <td>0.279520</td>\n",
       "      <td>0.248359</td>\n",
       "      <td>2.198718</td>\n",
       "      <td>0.0</td>\n",
       "      <td>374E0F7C11EA71F5396D53A768244BC6</td>\n",
       "      <td>C:\\Users\\blake\\Documents\\rlcsseason9\\RLCS Seas...</td>\n",
       "      <td>2020-03-29 12:48:09</td>\n",
       "      <td>0.068134</td>\n",
       "    </tr>\n",
       "    <tr>\n",
       "      <th>6179</th>\n",
       "      <td>1025.660034</td>\n",
       "      <td>3315.929932</td>\n",
       "      <td>956.760010</td>\n",
       "      <td>-7700.300293</td>\n",
       "      <td>13933.499756</td>\n",
       "      <td>-8309.699707</td>\n",
       "      <td>4428.699951</td>\n",
       "      <td>-1878.000031</td>\n",
       "      <td>2666.199951</td>\n",
       "      <td>0.175196</td>\n",
       "      <td>...</td>\n",
       "      <td>3799.400024</td>\n",
       "      <td>2993.699951</td>\n",
       "      <td>-0.084366</td>\n",
       "      <td>0.934809</td>\n",
       "      <td>-2.336562</td>\n",
       "      <td>0.0</td>\n",
       "      <td>374E0F7C11EA71F5396D53A768244BC6</td>\n",
       "      <td>C:\\Users\\blake\\Documents\\rlcsseason9\\RLCS Seas...</td>\n",
       "      <td>2020-03-29 12:48:09</td>\n",
       "      <td>0.146230</td>\n",
       "    </tr>\n",
       "    <tr>\n",
       "      <th>6180</th>\n",
       "      <td>1332.780029</td>\n",
       "      <td>4347.270020</td>\n",
       "      <td>620.739990</td>\n",
       "      <td>-4256.499939</td>\n",
       "      <td>14983.800049</td>\n",
       "      <td>-349.900017</td>\n",
       "      <td>-4007.699890</td>\n",
       "      <td>-2755.700073</td>\n",
       "      <td>1819.299927</td>\n",
       "      <td>1.306275</td>\n",
       "      <td>...</td>\n",
       "      <td>-411.100006</td>\n",
       "      <td>5402.899780</td>\n",
       "      <td>-0.015008</td>\n",
       "      <td>-2.249324</td>\n",
       "      <td>2.693790</td>\n",
       "      <td>0.0</td>\n",
       "      <td>374E0F7C11EA71F5396D53A768244BC6</td>\n",
       "      <td>C:\\Users\\blake\\Documents\\rlcsseason9\\RLCS Seas...</td>\n",
       "      <td>2020-03-29 12:48:09</td>\n",
       "      <td>0.289339</td>\n",
       "    </tr>\n",
       "    <tr>\n",
       "      <th>6181</th>\n",
       "      <td>-447.929993</td>\n",
       "      <td>1621.849976</td>\n",
       "      <td>465.170013</td>\n",
       "      <td>12594.799805</td>\n",
       "      <td>12785.600586</td>\n",
       "      <td>3888.200073</td>\n",
       "      <td>-2056.300049</td>\n",
       "      <td>-749.199982</td>\n",
       "      <td>2126.199951</td>\n",
       "      <td>-0.634573</td>\n",
       "      <td>...</td>\n",
       "      <td>-5217.800293</td>\n",
       "      <td>2243.000031</td>\n",
       "      <td>-0.339831</td>\n",
       "      <td>2.045483</td>\n",
       "      <td>0.485877</td>\n",
       "      <td>0.0</td>\n",
       "      <td>374E0F7C11EA71F5396D53A768244BC6</td>\n",
       "      <td>C:\\Users\\blake\\Documents\\rlcsseason9\\RLCS Seas...</td>\n",
       "      <td>2020-03-29 12:48:09</td>\n",
       "      <td>0.083674</td>\n",
       "    </tr>\n",
       "    <tr>\n",
       "      <th>6183</th>\n",
       "      <td>-1484.819946</td>\n",
       "      <td>-801.020020</td>\n",
       "      <td>865.679993</td>\n",
       "      <td>-1530.299988</td>\n",
       "      <td>13268.599854</td>\n",
       "      <td>6213.099976</td>\n",
       "      <td>1668.800049</td>\n",
       "      <td>-3877.099915</td>\n",
       "      <td>-1430.099945</td>\n",
       "      <td>-0.244608</td>\n",
       "      <td>...</td>\n",
       "      <td>49.800000</td>\n",
       "      <td>-4170.100098</td>\n",
       "      <td>0.346618</td>\n",
       "      <td>-1.045524</td>\n",
       "      <td>2.567606</td>\n",
       "      <td>0.0</td>\n",
       "      <td>374E0F7C11EA71F5396D53A768244BC6</td>\n",
       "      <td>C:\\Users\\blake\\Documents\\rlcsseason9\\RLCS Seas...</td>\n",
       "      <td>2020-03-29 12:48:09</td>\n",
       "      <td>0.000085</td>\n",
       "    </tr>\n",
       "  </tbody>\n",
       "</table>\n",
       "<p>1047 rows × 96 columns</p>\n",
       "</div>"
      ],
      "text/plain": [
       "         pos_x_p1     pos_y_p1     pos_z_p1      vel_x_p1      vel_y_p1  \\\n",
       "4921  2373.709961  3301.760010   996.080017 -12541.899414  15733.000488   \n",
       "4922 -3369.100098  2239.370117  1002.840027  14710.600586  14377.500000   \n",
       "4925  3594.750000  1792.020020   379.140015  -5600.200195  21158.601074   \n",
       "4926 -3355.500000  1566.339966   259.600006   9139.699707  19118.000488   \n",
       "4927 -3936.739990  3359.290039  1292.910034   9358.300171   4665.899963   \n",
       "...           ...          ...          ...           ...           ...   \n",
       "6178   634.039978  3449.469971    67.000000    793.600006  10532.700195   \n",
       "6179  1025.660034  3315.929932   956.760010  -7700.300293  13933.499756   \n",
       "6180  1332.780029  4347.270020   620.739990  -4256.499939  14983.800049   \n",
       "6181  -447.929993  1621.849976   465.170013  12594.799805  12785.600586   \n",
       "6183 -1484.819946  -801.020020   865.679993  -1530.299988  13268.599854   \n",
       "\n",
       "          vel_z_p1  ang_vel_x_p1  ang_vel_y_p1  ang_vel_z_p1  rot_x_p1  ...  \\\n",
       "4921  -1220.000000  -2320.099945    264.099998  -1738.099976 -0.901524  ...   \n",
       "4922    311.399994   5318.099976  -1402.299957    -26.099999 -0.502260  ...   \n",
       "4925   3460.899963   -662.200012  -2512.799988  -4646.000061 -0.496193  ...   \n",
       "4926   2668.699951   -912.399979   5232.100220  -1428.999939 -0.182415  ...   \n",
       "4927  13922.299805    580.999985   1801.399994   5164.000244 -0.846644  ...   \n",
       "...            ...           ...           ...           ...       ...  ...   \n",
       "6178   3454.800110    545.900002  -2414.199982   2986.700134 -0.031435  ...   \n",
       "6179  -8309.699707   4428.699951  -1878.000031   2666.199951  0.175196  ...   \n",
       "6180   -349.900017  -4007.699890  -2755.700073   1819.299927  1.306275  ...   \n",
       "6181   3888.200073  -2056.300049   -749.199982   2126.199951 -0.634573  ...   \n",
       "6183   6213.099976   1668.800049  -3877.099915  -1430.099945 -0.244608  ...   \n",
       "\n",
       "        ang_vel_y    ang_vel_z     rot_x     rot_y     rot_z  is_goal  \\\n",
       "4921   898.399963  3361.499939  0.036974  0.882725 -1.983552      0.0   \n",
       "4922  -298.600006 -4079.100037 -0.759213  0.452975  2.363330      0.0   \n",
       "4925   871.100006  5934.299927  0.372164  1.117096 -0.334480      0.0   \n",
       "4926 -2112.599945 -5009.500122  0.564321  2.161200 -0.186814      0.0   \n",
       "4927  4121.000061 -2721.199951  0.458351 -2.180656 -2.568234      0.0   \n",
       "...           ...          ...       ...       ...       ...      ...   \n",
       "6178  3921.900024  2695.000000  0.279520  0.248359  2.198718      0.0   \n",
       "6179  3799.400024  2993.699951 -0.084366  0.934809 -2.336562      0.0   \n",
       "6180  -411.100006  5402.899780 -0.015008 -2.249324  2.693790      0.0   \n",
       "6181 -5217.800293  2243.000031 -0.339831  2.045483  0.485877      0.0   \n",
       "6183    49.800000 -4170.100098  0.346618 -1.045524  2.567606      0.0   \n",
       "\n",
       "                                    id  \\\n",
       "4921  916019FC11EA6B0F87EF53BC777CAF14   \n",
       "4922  746D9D8411EA6B0EB55153BC5FFA8FCB   \n",
       "4925  746D9D8411EA6B0EB55153BC5FFA8FCB   \n",
       "4926  746D9D8411EA6B0EB55153BC5FFA8FCB   \n",
       "4927  746D9D8411EA6B0EB55153BC5FFA8FCB   \n",
       "...                                ...   \n",
       "6178  374E0F7C11EA71F5396D53A768244BC6   \n",
       "6179  374E0F7C11EA71F5396D53A768244BC6   \n",
       "6180  374E0F7C11EA71F5396D53A768244BC6   \n",
       "6181  374E0F7C11EA71F5396D53A768244BC6   \n",
       "6183  374E0F7C11EA71F5396D53A768244BC6   \n",
       "\n",
       "                                            replay_name                 date  \\\n",
       "4921  C:\\Users\\blake\\Documents\\rlcsseason9\\RLCS Seas...  2020-03-20 21:08:46   \n",
       "4922  C:\\Users\\blake\\Documents\\rlcsseason9\\RLCS Seas...  2020-03-20 21:01:13   \n",
       "4925  C:\\Users\\blake\\Documents\\rlcsseason9\\RLCS Seas...  2020-03-20 21:01:13   \n",
       "4926  C:\\Users\\blake\\Documents\\rlcsseason9\\RLCS Seas...  2020-03-20 21:01:13   \n",
       "4927  C:\\Users\\blake\\Documents\\rlcsseason9\\RLCS Seas...  2020-03-20 21:01:13   \n",
       "...                                                 ...                  ...   \n",
       "6178  C:\\Users\\blake\\Documents\\rlcsseason9\\RLCS Seas...  2020-03-29 12:48:09   \n",
       "6179  C:\\Users\\blake\\Documents\\rlcsseason9\\RLCS Seas...  2020-03-29 12:48:09   \n",
       "6180  C:\\Users\\blake\\Documents\\rlcsseason9\\RLCS Seas...  2020-03-29 12:48:09   \n",
       "6181  C:\\Users\\blake\\Documents\\rlcsseason9\\RLCS Seas...  2020-03-29 12:48:09   \n",
       "6183  C:\\Users\\blake\\Documents\\rlcsseason9\\RLCS Seas...  2020-03-29 12:48:09   \n",
       "\n",
       "      expected_goal  \n",
       "4921       0.135249  \n",
       "4922       0.044166  \n",
       "4925       0.123071  \n",
       "4926       0.096685  \n",
       "4927       0.166151  \n",
       "...             ...  \n",
       "6178       0.068134  \n",
       "6179       0.146230  \n",
       "6180       0.289339  \n",
       "6181       0.083674  \n",
       "6183       0.000085  \n",
       "\n",
       "[1047 rows x 96 columns]"
      ]
     },
     "execution_count": 290,
     "metadata": {},
     "output_type": "execute_result"
    }
   ],
   "source": [
    "results_df"
   ]
  },
  {
   "cell_type": "code",
   "execution_count": 294,
   "metadata": {},
   "outputs": [
    {
     "name": "stderr",
     "output_type": "stream",
     "text": [
      "Player RLCS Admin as player has no MatchScore.\n",
      "Score is not found for player\n",
      "Ignoring player: RLCS Admin as player has no team.\n",
      "Player Achieves as player has no MatchScore.\n",
      "Score is not found for player\n",
      "Ignoring player: Achieves as player has no team.\n",
      "Player WavePunk as player has no MatchScore.\n",
      "Score is not found for player\n",
      "Ignoring player: WavePunk as player has no team.\n",
      "Player RLCS Observer as player has no MatchScore.\n",
      "Score is not found for player\n",
      "Ignoring player: RLCS Observer as player has no team.\n",
      "Dropping these columns[('game', 'is_overtime')]\n",
      "<ipython-input-205-13e91061d822>:31: SettingWithCopyWarning:\n",
      "\n",
      "\n",
      "A value is trying to be set on a copy of a slice from a DataFrame.\n",
      "Try using .loc[row_indexer,col_indexer] = value instead\n",
      "\n",
      "See the caveats in the documentation: https://pandas.pydata.org/pandas-docs/stable/user_guide/indexing.html#returning-a-view-versus-a-copy\n",
      "\n",
      "<ipython-input-205-13e91061d822>:15: SettingWithCopyWarning:\n",
      "\n",
      "\n",
      "A value is trying to be set on a copy of a slice from a DataFrame.\n",
      "Try using .loc[row_indexer,col_indexer] = value instead\n",
      "\n",
      "See the caveats in the documentation: https://pandas.pydata.org/pandas-docs/stable/user_guide/indexing.html#returning-a-view-versus-a-copy\n",
      "\n",
      "<ipython-input-205-13e91061d822>:16: SettingWithCopyWarning:\n",
      "\n",
      "\n",
      "A value is trying to be set on a copy of a slice from a DataFrame.\n",
      "Try using .loc[row_indexer,col_indexer] = value instead\n",
      "\n",
      "See the caveats in the documentation: https://pandas.pydata.org/pandas-docs/stable/user_guide/indexing.html#returning-a-view-versus-a-copy\n",
      "\n"
     ]
    },
    {
     "name": "stdout",
     "output_type": "stream",
     "text": [
      "m1 g1 rec vs mouz\n"
     ]
    },
    {
     "data": {
      "application/vnd.plotly.v1+json": {
       "config": {
        "plotlyServerURL": "https://plot.ly"
       },
       "data": [
        {
         "line": {
          "color": "blue",
          "width": 2
         },
         "marker": {
          "color": [
           "orange",
           "blue",
           "blue",
           "blue",
           "orange",
           "orange"
          ],
          "size": 10
         },
         "mode": "markers",
         "type": "scatter",
         "x": [
          -1060.0400390625,
          -3646.6298828125,
          198.80999755859375,
          -3822.22998046875,
          1973.3399658203125,
          -3308.18994140625
         ],
         "y": [
          4253.9501953125,
          -121.37999725341797,
          -4206.77978515625,
          1710.3499755859375,
          3847.260009765625,
          2647.699951171875
         ]
        },
        {
         "line": {
          "color": "blue",
          "width": 2
         },
         "marker": {
          "color": "black",
          "size": 10
         },
         "mode": "markers",
         "type": "scatter",
         "x": [
          -3457.25
         ],
         "y": [
          2055.070068359375
         ]
        },
        {
         "line": {
          "color": "blue",
          "width": 2
         },
         "mode": "lines",
         "type": "scatter",
         "x": [
          4096,
          2944
         ],
         "y": [
          3968,
          5120
         ]
        },
        {
         "line": {
          "color": "blue",
          "width": 2
         },
         "mode": "lines",
         "type": "scatter",
         "x": [
          -4096,
          -2944
         ],
         "y": [
          -3968,
          -5120
         ]
        },
        {
         "line": {
          "color": "blue",
          "width": 2
         },
         "mode": "lines",
         "type": "scatter",
         "x": [
          -4096,
          -2944
         ],
         "y": [
          3968,
          5120
         ]
        },
        {
         "line": {
          "color": "blue",
          "width": 2
         },
         "mode": "lines",
         "type": "scatter",
         "x": [
          4096,
          2944
         ],
         "y": [
          -3968,
          -5120
         ]
        },
        {
         "line": {
          "color": "blue",
          "width": 2
         },
         "mode": "lines",
         "type": "scatter",
         "x": [
          -4096,
          -4096
         ],
         "y": [
          3968,
          -3968
         ]
        },
        {
         "line": {
          "color": "blue",
          "width": 2
         },
         "mode": "lines",
         "type": "scatter",
         "x": [
          4096,
          4096
         ],
         "y": [
          3968,
          -3968
         ]
        },
        {
         "line": {
          "color": "blue",
          "width": 2
         },
         "mode": "lines",
         "type": "scatter",
         "x": [
          -2944,
          -893
         ],
         "y": [
          5120,
          5120
         ]
        },
        {
         "line": {
          "color": "blue",
          "width": 2
         },
         "mode": "lines",
         "type": "scatter",
         "x": [
          2944,
          893
         ],
         "y": [
          5120,
          5120
         ]
        },
        {
         "line": {
          "color": "blue",
          "width": 2
         },
         "mode": "lines",
         "type": "scatter",
         "x": [
          -893,
          893
         ],
         "y": [
          5120,
          5120
         ]
        },
        {
         "line": {
          "color": "blue",
          "width": 2
         },
         "mode": "lines",
         "type": "scatter",
         "x": [
          -2944,
          -893
         ],
         "y": [
          -5120,
          -5120
         ]
        },
        {
         "line": {
          "color": "blue",
          "width": 2
         },
         "mode": "lines",
         "type": "scatter",
         "x": [
          2944,
          893
         ],
         "y": [
          -5120,
          -5120
         ]
        },
        {
         "line": {
          "color": "blue",
          "width": 2
         },
         "mode": "lines",
         "type": "scatter",
         "x": [
          -893,
          893
         ],
         "y": [
          -5120,
          -5120
         ]
        },
        {
         "line": {
          "color": "blue",
          "width": 2
         },
         "mode": "lines",
         "type": "scatter",
         "x": [
          -893,
          893
         ],
         "y": [
          6000,
          6000
         ]
        },
        {
         "line": {
          "color": "blue",
          "width": 2
         },
         "mode": "lines",
         "type": "scatter",
         "x": [
          893,
          893
         ],
         "y": [
          6000,
          5120
         ]
        },
        {
         "line": {
          "color": "blue",
          "width": 2
         },
         "mode": "lines",
         "type": "scatter",
         "x": [
          -893,
          -893
         ],
         "y": [
          6000,
          5120
         ]
        },
        {
         "line": {
          "color": "blue",
          "width": 2
         },
         "mode": "lines",
         "type": "scatter",
         "x": [
          -893,
          893
         ],
         "y": [
          -6000,
          -6000
         ]
        },
        {
         "line": {
          "color": "blue",
          "width": 2
         },
         "mode": "lines",
         "type": "scatter",
         "x": [
          893,
          893
         ],
         "y": [
          -6000,
          -5120
         ]
        },
        {
         "line": {
          "color": "blue",
          "width": 2
         },
         "mode": "lines",
         "type": "scatter",
         "x": [
          -893,
          -893
         ],
         "y": [
          -6000,
          -5120
         ]
        },
        {
         "marker": {
          "color": "pink"
         },
         "mode": "markers",
         "type": "scatter",
         "x": [
          -3072,
          3072,
          -3584,
          3584,
          -3072,
          3072,
          0,
          -1792,
          1792,
          -940,
          940,
          0,
          -3584,
          3584,
          -1788,
          1788,
          -2048,
          0,
          2048,
          -1024,
          1024,
          -2048,
          0,
          2048,
          -1788,
          1788,
          -3584,
          3584,
          0,
          -940,
          940,
          -1792,
          1792,
          0
         ],
         "y": [
          -4096,
          -4096,
          0,
          0,
          4096,
          4096,
          -4240,
          -4184,
          -4184,
          -3308,
          -3308,
          -2816,
          -2484,
          -2484,
          -2300,
          -2300,
          -1036,
          -1024,
          -1036,
          0,
          0,
          1036,
          1024,
          1036,
          2300,
          2300,
          2484,
          2484,
          2816,
          3310,
          3308,
          4184,
          4184,
          4240
         ]
        }
       ],
       "frames": [
        {
         "data": [
          {
           "marker": {
            "color": [
             "orange",
             "blue",
             "blue",
             "blue",
             "orange",
             "orange"
            ],
            "size": 10
           },
           "mode": "markers",
           "type": "scatter",
           "x": [
            -998.719970703125,
            -3682.39990234375,
            -110.2699966430664,
            -3838.550048828125,
            2052.1201171875,
            -3383.64990234375
           ],
           "y": [
            4334.009765625,
            -119.72000122070312,
            -4084.030029296875,
            1827.5899658203125,
            3573.800048828125,
            2912.06005859375
           ]
          },
          {
           "marker": {
            "color": "black",
            "size": 10
           },
           "mode": "markers",
           "type": "scatter",
           "x": [
            -3543.919921875
           ],
           "y": [
            2248.949951171875
           ]
          }
         ]
        },
        {
         "data": [
          {
           "marker": {
            "color": [
             "orange",
             "blue",
             "blue",
             "blue",
             "orange",
             "orange"
            ],
            "size": 10
           },
           "mode": "markers",
           "type": "scatter",
           "x": [
            -998.719970703125,
            -3682.39990234375,
            23.780000686645508,
            -3838.550048828125,
            2007.530029296875,
            -3348.830078125
           ],
           "y": [
            4334.009765625,
            -119.72000122070312,
            -4149.60009765625,
            1827.5899658203125,
            3743.389892578125,
            2776.1298828125
           ]
          },
          {
           "marker": {
            "color": "black",
            "size": 10
           },
           "mode": "markers",
           "type": "scatter",
           "x": [
            -3522.219970703125
           ],
           "y": [
            2200.409912109375
           ]
          }
         ]
        },
        {
         "data": [
          {
           "marker": {
            "color": [
             "orange",
             "blue",
             "blue",
             "blue",
             "orange",
             "orange"
            ],
            "size": 10
           },
           "mode": "markers",
           "type": "scatter",
           "x": [
            -1060.0400390625,
            -3646.6298828125,
            23.780000686645508,
            -3822.22998046875,
            2007.530029296875,
            -3348.830078125
           ],
           "y": [
            4253.9501953125,
            -121.37999725341797,
            -4149.60009765625,
            1710.3499755859375,
            3743.389892578125,
            2776.1298828125
           ]
          },
          {
           "marker": {
            "color": "black",
            "size": 10
           },
           "mode": "markers",
           "type": "scatter",
           "x": [
            -3511.3798828125
           ],
           "y": [
            2176.14990234375
           ]
          }
         ]
        },
        {
         "data": [
          {
           "marker": {
            "color": [
             "orange",
             "blue",
             "blue",
             "blue",
             "orange",
             "orange"
            ],
            "size": 10
           },
           "mode": "markers",
           "type": "scatter",
           "x": [
            -1060.0400390625,
            -3646.6298828125,
            198.80999755859375,
            -3822.22998046875,
            1973.3399658203125,
            -3308.18994140625
           ],
           "y": [
            4253.9501953125,
            -121.37999725341797,
            -4206.77978515625,
            1710.3499755859375,
            3847.260009765625,
            2647.699951171875
           ]
          },
          {
           "marker": {
            "color": "black",
            "size": 10
           },
           "mode": "markers",
           "type": "scatter",
           "x": [
            -3457.25
           ],
           "y": [
            2055.070068359375
           ]
          }
         ]
        },
        {
         "data": [
          {
           "marker": {
            "color": [
             "orange",
             "blue",
             "blue",
             "blue",
             "orange",
             "orange"
            ],
            "size": 10
           },
           "mode": "markers",
           "type": "scatter",
           "x": [
            -1122.0400390625,
            -3603.580078125,
            198.80999755859375,
            -3796.719970703125,
            1922.989990234375,
            -3308.18994140625
           ],
           "y": [
            4166.6298828125,
            -128.41000366210938,
            -4206.77978515625,
            1532.489990234375,
            3991.780029296875,
            2647.699951171875
           ]
          },
          {
           "marker": {
            "color": "black",
            "size": 10
           },
           "mode": "markers",
           "type": "scatter",
           "x": [
            -3441.050048828125
           ],
           "y": [
            2018.800048828125
           ]
          }
         ]
        },
        {
         "data": [
          {
           "marker": {
            "color": [
             "orange",
             "blue",
             "blue",
             "blue",
             "orange",
             "orange"
            ],
            "size": 10
           },
           "mode": "markers",
           "type": "scatter",
           "x": [
            -1122.0400390625,
            -3603.580078125,
            396.1300048828125,
            -3796.719970703125,
            1912.43994140625,
            -3260.1201171875
           ],
           "y": [
            4166.6298828125,
            -128.41000366210938,
            -4238.22998046875,
            1532.489990234375,
            4020.010009765625,
            2498.85009765625
           ]
          },
          {
           "marker": {
            "color": "black",
            "size": 10
           },
           "mode": "markers",
           "type": "scatter",
           "x": [
            -3408.669921875
           ],
           "y": [
            1946.3499755859375
           ]
          }
         ]
        },
        {
         "data": [
          {
           "marker": {
            "color": [
             "orange",
             "blue",
             "blue",
             "blue",
             "orange",
             "orange"
            ],
            "size": 10
           },
           "mode": "markers",
           "type": "scatter",
           "x": [
            -1185.6099853515625,
            -3542.1298828125,
            432.17999267578125,
            -3768.080078125,
            1866.8499755859375,
            -3242.10009765625
           ],
           "y": [
            4074.659912109375,
            -135.4499969482422,
            -4241.22021484375,
            1332.2900390625,
            4129.72021484375,
            2443.580078125
           ]
          },
          {
           "marker": {
            "color": "black",
            "size": 10
           },
           "mode": "markers",
           "type": "scatter",
           "x": [
            -3376.340087890625
           ],
           "y": [
            1874.02001953125
           ]
          }
         ]
        },
        {
         "data": [
          {
           "marker": {
            "color": [
             "orange",
             "blue",
             "blue",
             "blue",
             "orange",
             "orange"
            ],
            "size": 10
           },
           "mode": "markers",
           "type": "scatter",
           "x": [
            -1185.6099853515625,
            -3542.1298828125,
            558.4400024414062,
            -3768.080078125,
            1854.3399658203125,
            -3242.10009765625
           ],
           "y": [
            4074.659912109375,
            -135.4499969482422,
            -4247.330078125,
            1332.2900390625,
            4156.16015625,
            2443.580078125
           ]
          },
          {
           "marker": {
            "color": "black",
            "size": 10
           },
           "mode": "markers",
           "type": "scatter",
           "x": [
            -3360.199951171875
           ],
           "y": [
            1837.8900146484375
           ]
          }
         ]
        },
        {
         "data": [
          {
           "marker": {
            "color": [
             "orange",
             "blue",
             "blue",
             "blue",
             "orange",
             "orange"
            ],
            "size": 10
           },
           "mode": "markers",
           "type": "scatter",
           "x": [
            -1231.1099853515625,
            -3490.590087890625,
            594.52001953125,
            -3751.35009765625,
            1854.3399658203125,
            -3200.6201171875
           ],
           "y": [
            4008.419921875,
            -135.55999755859375,
            -4248.18994140625,
            1215.25,
            4156.16015625,
            2317.31005859375
           ]
          },
          {
           "marker": {
            "color": "black",
            "size": 10
           },
           "mode": "markers",
           "type": "scatter",
           "x": [
            -3327.949951171875
           ],
           "y": [
            1765.719970703125
           ]
          }
         ]
        },
        {
         "data": [
          {
           "marker": {
            "color": [
             "orange",
             "blue",
             "blue",
             "blue",
             "orange",
             "orange"
            ],
            "size": 10
           },
           "mode": "markers",
           "type": "scatter",
           "x": [
            -1231.1099853515625,
            -3490.590087890625,
            738.8400268554688,
            -3751.35009765625,
            1791.239990234375,
            -3200.6201171875
           ],
           "y": [
            4008.419921875,
            -135.55999755859375,
            -4249.669921875,
            1215.25,
            4268.7900390625,
            2317.31005859375
           ]
          },
          {
           "marker": {
            "color": "black",
            "size": 10
           },
           "mode": "markers",
           "type": "scatter",
           "x": [
            -3306.469970703125
           ],
           "y": [
            1717.6700439453125
           ]
          }
         ]
        },
        {
         "data": [
          {
           "marker": {
            "color": [
             "orange",
             "blue",
             "blue",
             "blue",
             "orange",
             "orange"
            ],
            "size": 10
           },
           "mode": "markers",
           "type": "scatter",
           "x": [
            -1280.780029296875,
            -3490.590087890625,
            738.8400268554688,
            -3722.669921875,
            1791.239990234375,
            -3200.6201171875
           ],
           "y": [
            3935.81005859375,
            -135.55999755859375,
            -4249.669921875,
            1014.6099853515625,
            4268.7900390625,
            2317.31005859375
           ]
          },
          {
           "marker": {
            "color": "black",
            "size": 10
           },
           "mode": "markers",
           "type": "scatter",
           "x": [
            -3285.030029296875
           ],
           "y": [
            1669.6600341796875
           ]
          }
         ]
        },
        {
         "data": [
          {
           "marker": {
            "color": [
             "orange",
             "blue",
             "blue",
             "blue",
             "orange",
             "orange"
            ],
            "size": 10
           },
           "mode": "markers",
           "type": "scatter",
           "x": [
            -1290.6600341796875,
            -3416.340087890625,
            919.2100219726562,
            -3722.669921875,
            1689.97998046875,
            -3143.610107421875
           ],
           "y": [
            3921.010009765625,
            -123.80000305175781,
            -4251.7998046875,
            1014.6099853515625,
            4399.4501953125,
            2145.669921875
           ]
          },
          {
           "marker": {
            "color": "black",
            "size": 10
           },
           "mode": "markers",
           "type": "scatter",
           "x": [
            -3252.89990234375
           ],
           "y": [
            1597.75
           ]
          }
         ]
        },
        {
         "data": [
          {
           "marker": {
            "color": [
             "orange",
             "blue",
             "blue",
             "blue",
             "orange",
             "orange"
            ],
            "size": 10
           },
           "mode": "markers",
           "type": "scatter",
           "x": [
            -1337.550048828125,
            -3416.340087890625,
            955.260009765625,
            -3703.550048828125,
            1689.97998046875,
            -3095.89990234375
           ],
           "y": [
            3844.179931640625,
            -123.80000305175781,
            -4252.77978515625,
            880.8499755859375,
            4399.4501953125,
            2002.22998046875
           ]
          },
          {
           "marker": {
            "color": "black",
            "size": 10
           },
           "mode": "markers",
           "type": "scatter",
           "x": [
            -3220.820068359375
           ],
           "y": [
            1525.949951171875
           ]
          }
         ]
        },
        {
         "data": [
          {
           "marker": {
            "color": [
             "orange",
             "blue",
             "blue",
             "blue",
             "orange",
             "orange"
            ],
            "size": 10
           },
           "mode": "markers",
           "type": "scatter",
           "x": [
            -1337.550048828125,
            -3346.4599609375,
            955.260009765625,
            -3703.550048828125,
            1624.9000244140625,
            -3091.1201171875
           ],
           "y": [
            3844.179931640625,
            -108.69000244140625,
            -4252.77978515625,
            880.8499755859375,
            4466.35009765625,
            1987.8699951171875
           ]
          },
          {
           "marker": {
            "color": "black",
            "size": 10
           },
           "mode": "markers",
           "type": "scatter",
           "x": [
            -3204.800048828125
           ],
           "y": [
            1490.0899658203125
           ]
          }
         ]
        },
        {
         "data": [
          {
           "marker": {
            "color": [
             "orange",
             "blue",
             "blue",
             "blue",
             "orange",
             "orange"
            ],
            "size": 10
           },
           "mode": "markers",
           "type": "scatter",
           "x": [
            -1373.7900390625,
            -3346.4599609375,
            1153.9200439453125,
            -3677.260009765625,
            1624.9000244140625,
            -3091.1201171875
           ],
           "y": [
            3770.10009765625,
            -108.69000244140625,
            -4263.169921875,
            696.9299926757812,
            4466.35009765625,
            1987.8699951171875
           ]
          },
          {
           "marker": {
            "color": "black",
            "size": 10
           },
           "mode": "markers",
           "type": "scatter",
           "x": [
            -3172.7900390625
           ],
           "y": [
            1418.4599609375
           ]
          }
         ]
        },
        {
         "data": [
          {
           "marker": {
            "color": [
             "orange",
             "blue",
             "blue",
             "blue",
             "orange",
             "orange"
            ],
            "size": 10
           },
           "mode": "markers",
           "type": "scatter",
           "x": [
            -1380.9100341796875,
            -3270.169921875,
            1153.9200439453125,
            -3677.260009765625,
            1529.0999755859375,
            -3043.27001953125
           ],
           "y": [
            3752.969970703125,
            -92.1500015258789,
            -4263.169921875,
            696.9299926757812,
            4554.10009765625,
            1844.0799560546875
           ]
          },
          {
           "marker": {
            "color": "black",
            "size": 10
           },
           "mode": "markers",
           "type": "scatter",
           "x": [
            -3151.47998046875
           ],
           "y": [
            1370.77001953125
           ]
          }
         ]
        },
        {
         "data": [
          {
           "marker": {
            "color": [
             "orange",
             "blue",
             "blue",
             "blue",
             "orange",
             "orange"
            ],
            "size": 10
           },
           "mode": "markers",
           "type": "scatter",
           "x": [
            -1407.280029296875,
            -3270.169921875,
            1302.199951171875,
            -3658.139892578125,
            1529.0999755859375,
            -3043.27001953125
           ],
           "y": [
            3682.60009765625,
            -92.1500015258789,
            -4275.33984375,
            563.1699829101562,
            4554.10009765625,
            1844.0799560546875
           ]
          },
          {
           "marker": {
            "color": "black",
            "size": 10
           },
           "mode": "markers",
           "type": "scatter",
           "x": [
            -3119.56005859375
           ],
           "y": [
            1299.3199462890625
           ]
          }
         ]
        },
        {
         "data": [
          {
           "marker": {
            "color": [
             "orange",
             "blue",
             "blue",
             "blue",
             "orange",
             "orange"
            ],
            "size": 10
           },
           "mode": "markers",
           "type": "scatter",
           "x": [
            -1407.280029296875,
            -3201.77001953125,
            1473.5699462890625,
            -3636.6298828125,
            1422,
            -2990.580078125
           ],
           "y": [
            3682.60009765625,
            -76.8499984741211,
            -4291.759765625,
            412.69000244140625,
            4641.7998046875,
            1685.530029296875
           ]
          },
          {
           "marker": {
            "color": "black",
            "size": 10
           },
           "mode": "markers",
           "type": "scatter",
           "x": [
            -3093
           ],
           "y": [
            1239.8699951171875
           ]
          }
         ]
        },
        {
         "data": [
          {
           "marker": {
            "color": [
             "orange",
             "blue",
             "blue",
             "blue",
             "orange",
             "orange"
            ],
            "size": 10
           },
           "mode": "markers",
           "type": "scatter",
           "x": [
            -1407.280029296875,
            -3201.77001953125,
            1473.5699462890625,
            -3636.6298828125,
            1422,
            -2990.580078125
           ],
           "y": [
            3682.60009765625,
            -76.8499984741211,
            -4291.759765625,
            412.69000244140625,
            4641.7998046875,
            1685.530029296875
           ]
          },
          {
           "marker": {
            "color": "black",
            "size": 10
           },
           "mode": "markers",
           "type": "scatter",
           "x": [
            -3071.77001953125
           ],
           "y": [
            1192.3599853515625
           ]
          }
         ]
        },
        {
         "data": [
          {
           "marker": {
            "color": [
             "orange",
             "blue",
             "blue",
             "blue",
             "orange",
             "orange"
            ],
            "size": 10
           },
           "mode": "markers",
           "type": "scatter",
           "x": [
            -1445.739990234375,
            -3136.300048828125,
            1664.93994140625,
            -3636.6298828125,
            1318.8599853515625,
            -2942.679931640625
           ],
           "y": [
            3559.93994140625,
            -57.91999816894531,
            -4311.22021484375,
            412.69000244140625,
            4710.14990234375,
            1541.1700439453125
           ]
          },
          {
           "marker": {
            "color": "black",
            "size": 10
           },
           "mode": "markers",
           "type": "scatter",
           "x": [
            -3039.969970703125
           ],
           "y": [
            1121.18994140625
           ]
          }
         ]
        },
        {
         "data": [
          {
           "marker": {
            "color": [
             "orange",
             "blue",
             "blue",
             "blue",
             "orange",
             "orange"
            ],
            "size": 10
           },
           "mode": "markers",
           "type": "scatter",
           "x": [
            -1445.739990234375,
            -3136.300048828125,
            1703.199951171875,
            -3603.169921875,
            1231.1700439453125,
            -2904.409912109375
           ],
           "y": [
            3559.93994140625,
            -57.91999816894531,
            -4315.18017578125,
            178.61000061035156,
            4753.85986328125,
            1425.47998046875
           ]
          },
          {
           "marker": {
            "color": "black",
            "size": 10
           },
           "mode": "markers",
           "type": "scatter",
           "x": [
            -3008.22998046875
           ],
           "y": [
            1050.1300048828125
           ]
          }
         ]
        },
        {
         "data": [
          {
           "marker": {
            "color": [
             "orange",
             "blue",
             "blue",
             "blue",
             "orange",
             "orange"
            ],
            "size": 10
           },
           "mode": "markers",
           "type": "scatter",
           "x": [
            -1474.5899658203125,
            -3067.8798828125,
            1856.27001953125,
            -3603.169921875,
            1208.6099853515625,
            -2894.85009765625
           ],
           "y": [
            3454.840087890625,
            -33.20000076293945,
            -4330.85986328125,
            178.61000061035156,
            4762.990234375,
            1396.52001953125
           ]
          },
          {
           "marker": {
            "color": "black",
            "size": 10
           },
           "mode": "markers",
           "type": "scatter",
           "x": [
            -2987.10009765625
           ],
           "y": [
            1002.8200073242188
           ]
          }
         ]
        },
        {
         "data": [
          {
           "marker": {
            "color": [
             "orange",
             "blue",
             "blue",
             "blue",
             "orange",
             "orange"
            ],
            "size": 10
           },
           "mode": "markers",
           "type": "scatter",
           "x": [
            -1500.050048828125,
            -3067.8798828125,
            1856.27001953125,
            -3586.43994140625,
            1104.81005859375,
            -2851.9599609375
           ],
           "y": [
            3352.840087890625,
            -33.20000076293945,
            -4330.85986328125,
            61.56999969482422,
            4794.6201171875,
            1266.030029296875
           ]
          },
          {
           "marker": {
            "color": "black",
            "size": 10
           },
           "mode": "markers",
           "type": "scatter",
           "x": [
            -2950.169921875
           ],
           "y": [
            920.1400146484375
           ]
          }
         ]
        },
        {
         "data": [
          {
           "marker": {
            "color": [
             "orange",
             "blue",
             "blue",
             "blue",
             "orange",
             "orange"
            ],
            "size": 10
           },
           "mode": "markers",
           "type": "scatter",
           "x": [
            -1500.050048828125,
            -2990.429931640625,
            2066.89990234375,
            -3562.5400390625,
            1104.81005859375,
            -2851.9599609375
           ],
           "y": [
            3352.840087890625,
            0.75,
            -4344.43017578125,
            -105.62999725341797,
            4794.6201171875,
            1266.030029296875
           ]
          },
          {
           "marker": {
            "color": "black",
            "size": 10
           },
           "mode": "markers",
           "type": "scatter",
           "x": [
            -2929.090087890625
           ],
           "y": [
            872.9600219726562
           ]
          }
         ]
        },
        {
         "data": [
          {
           "marker": {
            "color": [
             "orange",
             "blue",
             "blue",
             "blue",
             "orange",
             "orange"
            ],
            "size": 10
           },
           "mode": "markers",
           "type": "scatter",
           "x": [
            -1528.25,
            -2990.429931640625,
            2066.89990234375,
            -3562.5400390625,
            986.6500244140625,
            -2804.52001953125
           ],
           "y": [
            3232.590087890625,
            0.75,
            -4344.43017578125,
            -105.62999725341797,
            4815.58984375,
            1120.7099609375
           ]
          },
          {
           "marker": {
            "color": "black",
            "size": 10
           },
           "mode": "markers",
           "type": "scatter",
           "x": [
            -2897.52001953125
           ],
           "y": [
            802.280029296875
           ]
          }
         ]
        },
        {
         "data": [
          {
           "marker": {
            "color": [
             "orange",
             "blue",
             "blue",
             "blue",
             "orange",
             "orange"
            ],
            "size": 10
           },
           "mode": "markers",
           "type": "scatter",
           "x": [
            -1531.1099853515625,
            -2926.260009765625,
            2238.419921875,
            -3536.25,
            986.6500244140625,
            -2804.52001953125
           ],
           "y": [
            3220.18994140625,
            33.779998779296875,
            -4340.10986328125,
            -289.54998779296875,
            4815.58984375,
            1120.7099609375
           ]
          },
          {
           "marker": {
            "color": "black",
            "size": 10
           },
           "mode": "markers",
           "type": "scatter",
           "x": [
            -2881.75
           ],
           "y": [
            766.97998046875
           ]
          }
         ]
        },
        {
         "data": [
          {
           "marker": {
            "color": [
             "orange",
             "blue",
             "blue",
             "blue",
             "orange",
             "orange"
            ],
            "size": 10
           },
           "mode": "markers",
           "type": "scatter",
           "x": [
            -1560.9000244140625,
            -2926.260009765625,
            2389.570068359375,
            -3536.25,
            900.3499755859375,
            -2771.47998046875
           ],
           "y": [
            3092.550048828125,
            33.779998779296875,
            -4324.6298828125,
            -289.54998779296875,
            4823.52978515625,
            1018.7999877929688
           ]
          },
          {
           "marker": {
            "color": "black",
            "size": 10
           },
           "mode": "markers",
           "type": "scatter",
           "x": [
            -2839.760009765625
           ],
           "y": [
            672.97998046875
           ]
          }
         ]
        },
        {
         "data": [
          {
           "marker": {
            "color": [
             "orange",
             "blue",
             "blue",
             "blue",
             "orange",
             "orange"
            ],
            "size": 10
           },
           "mode": "markers",
           "type": "scatter",
           "x": [
            -1560.9000244140625,
            -2840.580078125,
            2427.14990234375,
            -3536.25,
            900.3499755859375,
            -2771.47998046875
           ],
           "y": [
            3092.550048828125,
            81.56999969482422,
            -4319.43994140625,
            -289.54998779296875,
            4823.52978515625,
            1018.7999877929688
           ]
          },
          {
           "marker": {
            "color": "black",
            "size": 10
           },
           "mode": "markers",
           "type": "scatter",
           "x": [
            -2818.800048828125
           ],
           "y": [
            626.0499877929688
           ]
          }
         ]
        },
        {
         "data": [
          {
           "marker": {
            "color": [
             "orange",
             "blue",
             "blue",
             "blue",
             "orange",
             "orange"
            ],
            "size": 10
           },
           "mode": "markers",
           "type": "scatter",
           "x": [
            -1590.1500244140625,
            -2840.580078125,
            2427.14990234375,
            -3509.0400390625,
            732,
            -2724.570068359375
           ],
           "y": [
            2972.199951171875,
            81.56999969482422,
            -4319.43994140625,
            -490.44000244140625,
            4819.7998046875,
            872.97998046875
           ]
          },
          {
           "marker": {
            "color": "black",
            "size": 10
           },
           "mode": "markers",
           "type": "scatter",
           "x": [
            -2792.6298828125
           ],
           "y": [
            567.4600219726562
           ]
          }
         ]
        },
        {
         "data": [
          {
           "marker": {
            "color": [
             "orange",
             "blue",
             "blue",
             "blue",
             "orange",
             "orange"
            ],
            "size": 10
           },
           "mode": "markers",
           "type": "scatter",
           "x": [
            -1590.1500244140625,
            -2776.35009765625,
            2595.030029296875,
            -3509.0400390625,
            732,
            -2682.64990234375
           ],
           "y": [
            2972.199951171875,
            117.75,
            -4290.0498046875,
            -490.44000244140625,
            4819.7998046875,
            741.530029296875
           ]
          },
          {
           "marker": {
            "color": "black",
            "size": 10
           },
           "mode": "markers",
           "type": "scatter",
           "x": [
            -2761.260009765625
           ],
           "y": [
            497.25
           ]
          }
         ]
        },
        {
         "data": [
          {
           "marker": {
            "color": [
             "orange",
             "blue",
             "blue",
             "blue",
             "orange",
             "orange"
            ],
            "size": 10
           },
           "mode": "markers",
           "type": "scatter",
           "x": [
            -1618.1199951171875,
            -2776.35009765625,
            2595.030029296875,
            -3494.2099609375,
            625.219970703125,
            -2682.64990234375
           ],
           "y": [
            2860.89990234375,
            117.75,
            -4290.0498046875,
            -675.1900024414062,
            4801.97998046875,
            741.530029296875
           ]
          },
          {
           "marker": {
            "color": "black",
            "size": 10
           },
           "mode": "markers",
           "type": "scatter",
           "x": [
            -2729.93994140625
           ],
           "y": [
            427.1400146484375
           ]
          }
         ]
        },
        {
         "data": [
          {
           "marker": {
            "color": [
             "orange",
             "blue",
             "blue",
             "blue",
             "orange",
             "orange"
            ],
            "size": 10
           },
           "mode": "markers",
           "type": "scatter",
           "x": [
            -1655.260009765625,
            -2676.590087890625,
            2848.010009765625,
            -3490.1298828125,
            625.219970703125,
            -2626.85009765625
           ],
           "y": [
            2715.93994140625,
            174.5800018310547,
            -4218.39990234375,
            -843.3800048828125,
            4801.97998046875,
            566.2100219726562
           ]
          },
          {
           "marker": {
            "color": "black",
            "size": 10
           },
           "mode": "markers",
           "type": "scatter",
           "x": [
            -2698.679931640625
           ],
           "y": [
            357.1499938964844
           ]
          }
         ]
        },
        {
         "data": [
          {
           "marker": {
            "color": [
             "orange",
             "blue",
             "blue",
             "blue",
             "orange",
             "orange"
            ],
            "size": 10
           },
           "mode": "markers",
           "type": "scatter",
           "x": [
            -1662.93994140625,
            -2676.590087890625,
            2848.010009765625,
            -3490.030029296875,
            439.760009765625,
            -2617.550048828125
           ],
           "y": [
            2686.159912109375,
            174.5800018310547,
            -4218.39990234375,
            -877.010009765625,
            4736.830078125,
            536.989990234375
           ]
          },
          {
           "marker": {
            "color": "black",
            "size": 10
           },
           "mode": "markers",
           "type": "scatter",
           "x": [
            -2677.860107421875
           ],
           "y": [
            310.5400085449219
           ]
          }
         ]
        },
        {
         "data": [
          {
           "marker": {
            "color": [
             "orange",
             "blue",
             "blue",
             "blue",
             "orange",
             "orange"
            ],
            "size": 10
           },
           "mode": "markers",
           "type": "scatter",
           "x": [
            -1690.4100341796875,
            -2612.590087890625,
            2967.989990234375,
            -3490.68994140625,
            439.760009765625,
            -2617.550048828125
           ],
           "y": [
            2579.840087890625,
            211.5,
            -4169.6298828125,
            -994.6799926757812,
            4736.830078125,
            536.989990234375
           ]
          },
          {
           "marker": {
            "color": "black",
            "size": 10
           },
           "mode": "markers",
           "type": "scatter",
           "x": [
            -2651.860107421875
           ],
           "y": [
            252.36000061035156
           ]
          }
         ]
        },
        {
         "data": [
          {
           "marker": {
            "color": [
             "orange",
             "blue",
             "blue",
             "blue",
             "orange",
             "orange"
            ],
            "size": 10
           },
           "mode": "markers",
           "type": "scatter",
           "x": [
            -1698.4300537109375,
            -2612.590087890625,
            2967.989990234375,
            -3491.070068359375,
            329.4800109863281,
            -2575.699951171875
           ],
           "y": [
            2548.8701171875,
            211.5,
            -4169.6298828125,
            -1028.300048828125,
            4673.259765625,
            405.5
           ]
          },
          {
           "marker": {
            "color": "black",
            "size": 10
           },
           "mode": "markers",
           "type": "scatter",
           "x": [
            -2631.10009765625
           ],
           "y": [
            205.86000061035156
           ]
          }
         ]
        },
        {
         "data": [
          {
           "marker": {
            "color": [
             "orange",
             "blue",
             "blue",
             "blue",
             "orange",
             "orange"
            ],
            "size": 10
           },
           "mode": "markers",
           "type": "scatter",
           "x": [
            -1698.4300537109375,
            -2555.81005859375,
            3152.3701171875,
            -3491.070068359375,
            306.260009765625,
            -2575.699951171875
           ],
           "y": [
            2548.8701171875,
            244.57000732421875,
            -4062.39990234375,
            -1028.300048828125,
            4656.89990234375,
            405.5
           ]
          },
          {
           "marker": {
            "color": "black",
            "size": 10
           },
           "mode": "markers",
           "type": "scatter",
           "x": [
            -2610.340087890625
           ],
           "y": [
            159.41000366210938
           ]
          }
         ]
        },
        {
         "data": [
          {
           "marker": {
            "color": [
             "orange",
             "blue",
             "blue",
             "blue",
             "orange",
             "orange"
            ],
            "size": 10
           },
           "mode": "markers",
           "type": "scatter",
           "x": [
            -1731.9100341796875,
            -2555.81005859375,
            3152.3701171875,
            -3493.590087890625,
            306.260009765625,
            -2529.199951171875
           ],
           "y": [
            2422.52001953125,
            244.57000732421875,
            -4062.39990234375,
            -1196.4000244140625,
            4656.89990234375,
            259.3999938964844
           ]
          },
          {
           "marker": {
            "color": "black",
            "size": 10
           },
           "mode": "markers",
           "type": "scatter",
           "x": [
            -2599.97998046875
           ],
           "y": [
            136.2100067138672
           ]
          }
         ]
        },
        {
         "data": [
          {
           "marker": {
            "color": [
             "orange",
             "blue",
             "blue",
             "blue",
             "orange",
             "orange"
            ],
            "size": 10
           },
           "mode": "markers",
           "type": "scatter",
           "x": [
            -1731.9100341796875,
            -2555.81005859375,
            3152.3701171875,
            -3493.590087890625,
            306.260009765625,
            -2529.199951171875
           ],
           "y": [
            2422.52001953125,
            244.57000732421875,
            -4062.39990234375,
            -1196.4000244140625,
            4656.89990234375,
            259.3999938964844
           ]
          },
          {
           "marker": {
            "color": "black",
            "size": 10
           },
           "mode": "markers",
           "type": "scatter",
           "x": [
            -2579.260009765625
           ],
           "y": [
            89.83000183105469
           ]
          }
         ]
        },
        {
         "data": [
          {
           "marker": {
            "color": [
             "orange",
             "blue",
             "blue",
             "blue",
             "orange",
             "orange"
            ],
            "size": 10
           },
           "mode": "markers",
           "type": "scatter",
           "x": [
            -1783.1800537109375,
            -2484.909912109375,
            3267.60009765625,
            -3493.590087890625,
            176.52999877929688,
            -2487.35009765625
           ],
           "y": [
            2242.820068359375,
            286.1099853515625,
            -3947.139892578125,
            -1196.4000244140625,
            4540.8701171875,
            127.91000366210938
           ]
          },
          {
           "marker": {
            "color": "black",
            "size": 10
           },
           "mode": "markers",
           "type": "scatter",
           "x": [
            -2543.06005859375
           ],
           "y": [
            8.789999961853027
           ]
          }
         ]
        },
        {
         "data": [
          {
           "marker": {
            "color": [
             "orange",
             "blue",
             "blue",
             "blue",
             "orange",
             "orange"
            ],
            "size": 10
           },
           "mode": "markers",
           "type": "scatter",
           "x": [
            -1783.1800537109375,
            -2484.909912109375,
            3320.179931640625,
            -3496.909912109375,
            108.56999969482422,
            -2487.35009765625
           ],
           "y": [
            2242.820068359375,
            286.1099853515625,
            -3856.56005859375,
            -1381.31005859375,
            4461.22021484375,
            127.91000366210938
           ]
          },
          {
           "marker": {
            "color": "black",
            "size": 10
           },
           "mode": "markers",
           "type": "scatter",
           "x": [
            -2512.080078125
           ],
           "y": [
            -60.560001373291016
           ]
          }
         ]
        },
        {
         "data": [
          {
           "marker": {
            "color": [
             "orange",
             "blue",
             "blue",
             "blue",
             "orange",
             "orange"
            ],
            "size": 10
           },
           "mode": "markers",
           "type": "scatter",
           "x": [
            -1832.1300048828125,
            -2392.739990234375,
            3320.179931640625,
            -3500.070068359375,
            108.56999969482422,
            -2440.85009765625
           ],
           "y": [
            2072.7099609375,
            340.19000244140625,
            -3856.56005859375,
            -1549.4100341796875,
            4461.22021484375,
            -18.190000534057617
           ]
          },
          {
           "marker": {
            "color": "black",
            "size": 10
           },
           "mode": "markers",
           "type": "scatter",
           "x": [
            -2481.14990234375
           ],
           "y": [
            -129.8000030517578
           ]
          }
         ]
        },
        {
         "data": [
          {
           "marker": {
            "color": [
             "orange",
             "blue",
             "blue",
             "blue",
             "orange",
             "orange"
            ],
            "size": 10
           },
           "mode": "markers",
           "type": "scatter",
           "x": [
            -1832.1300048828125,
            -2336.02001953125,
            3363.159912109375,
            -3500.070068359375,
            3.4700000286102295,
            -2440.85009765625
           ],
           "y": [
            2072.7099609375,
            373.5199890136719,
            -3697.489990234375,
            -1549.4100341796875,
            4315.759765625,
            -18.190000534057617
           ]
          },
          {
           "marker": {
            "color": "black",
            "size": 10
           },
           "mode": "markers",
           "type": "scatter",
           "x": [
            -2457.929931640625
           ],
           "y": [
            -185.58999633789062
           ]
          }
         ]
        },
        {
         "data": [
          {
           "marker": {
            "color": [
             "orange",
             "blue",
             "blue",
             "blue",
             "orange",
             "orange"
            ],
            "size": 10
           },
           "mode": "markers",
           "type": "scatter",
           "x": [
            -1875.1700439453125,
            -2328.929931640625,
            3363.159912109375,
            -3503.0400390625,
            -51.630001068115234,
            -2389.699951171875
           ],
           "y": [
            1875.3900146484375,
            377.69000244140625,
            -3697.489990234375,
            -1700.68994140625,
            4227.18994140625,
            -178.89999389648438
           ]
          },
          {
           "marker": {
            "color": "black",
            "size": 10
           },
           "mode": "markers",
           "type": "scatter",
           "x": [
            -2448.239990234375
           ],
           "y": [
            -210.1199951171875
           ]
          }
         ]
        },
        {
         "data": [
          {
           "marker": {
            "color": [
             "orange",
             "blue",
             "blue",
             "blue",
             "orange",
             "orange"
            ],
            "size": 10
           },
           "mode": "markers",
           "type": "scatter",
           "x": [
            -1875.1700439453125,
            -2272.2099609375,
            3361.89990234375,
            -3503.0400390625,
            -51.630001068115234,
            -2389.699951171875
           ],
           "y": [
            1875.3900146484375,
            411.04998779296875,
            -3585.5400390625,
            -1700.68994140625,
            4227.18994140625,
            -178.89999389648438
           ]
          },
          {
           "marker": {
            "color": "black",
            "size": 10
           },
           "mode": "markers",
           "type": "scatter",
           "x": [
            -2435.320068359375
           ],
           "y": [
            -242.8000030517578
           ]
          }
         ]
        },
        {
         "data": [
          {
           "marker": {
            "color": [
             "orange",
             "blue",
             "blue",
             "blue",
             "orange",
             "orange"
            ],
            "size": 10
           },
           "mode": "markers",
           "type": "scatter",
           "x": [
            -1903.6800537109375,
            -2272.2099609375,
            3361.89990234375,
            -3515.739990234375,
            -51.630001068115234,
            -2333.89990234375
           ],
           "y": [
            1648.6500244140625,
            411.04998779296875,
            -3585.5400390625,
            -1901.449951171875,
            4227.18994140625,
            -354.2200012207031
           ]
          },
          {
           "marker": {
            "color": "black",
            "size": 10
           },
           "mode": "markers",
           "type": "scatter",
           "x": [
            -2409.5400390625
           ],
           "y": [
            -308.0400085449219
           ]
          }
         ]
        },
        {
         "data": [
          {
           "marker": {
            "color": [
             "orange",
             "blue",
             "blue",
             "blue",
             "orange",
             "orange"
            ],
            "size": 10
           },
           "mode": "markers",
           "type": "scatter",
           "x": [
            -1903.6800537109375,
            -2187.1298828125,
            3326.4599609375,
            -3515.739990234375,
            -129.91000366210938,
            -2333.89990234375
           ],
           "y": [
            1648.6500244140625,
            461.1700134277344,
            -3478.580078125,
            -1901.449951171875,
            4067.8798828125,
            -354.2200012207031
           ]
          },
          {
           "marker": {
            "color": "black",
            "size": 10
           },
           "mode": "markers",
           "type": "scatter",
           "x": [
            -2390.219970703125
           ],
           "y": [
            -356.8900146484375
           ]
          }
         ]
        },
        {
         "data": [
          {
           "marker": {
            "color": [
             "orange",
             "blue",
             "blue",
             "blue",
             "orange",
             "orange"
            ],
            "size": 10
           },
           "mode": "markers",
           "type": "scatter",
           "x": [
            -1917.469970703125,
            -2187.1298828125,
            3326.4599609375,
            -3538.72998046875,
            -129.91000366210938,
            -2292.050048828125
           ],
           "y": [
            1476.75,
            461.1700134277344,
            -3478.580078125,
            -2049.820068359375,
            4067.8798828125,
            -485.7099914550781
           ]
          },
          {
           "marker": {
            "color": "black",
            "size": 10
           },
           "mode": "markers",
           "type": "scatter",
           "x": [
            -2380.590087890625
           ],
           "y": [
            -381.2799987792969
           ]
          }
         ]
        },
        {
         "data": [
          {
           "marker": {
            "color": [
             "orange",
             "blue",
             "blue",
             "blue",
             "orange",
             "orange"
            ],
            "size": 10
           },
           "mode": "markers",
           "type": "scatter",
           "x": [
            -1917.469970703125,
            -2122.4599609375,
            3250.31005859375,
            -3538.72998046875,
            -177.05999755859375,
            -2292.050048828125
           ],
           "y": [
            1476.75,
            500.04998779296875,
            -3385.14990234375,
            -2049.820068359375,
            3914.3701171875,
            -485.7099914550781
           ]
          },
          {
           "marker": {
            "color": "black",
            "size": 10
           },
           "mode": "markers",
           "type": "scatter",
           "x": [
            -2361.330078125
           ],
           "y": [
            -430.0199890136719
           ]
          }
         ]
        },
        {
         "data": [
          {
           "marker": {
            "color": [
             "orange",
             "blue",
             "blue",
             "blue",
             "orange",
             "orange"
            ],
            "size": 10
           },
           "mode": "markers",
           "type": "scatter",
           "x": [
            -1930.8399658203125,
            -2107.6298828125,
            3250.31005859375,
            -3574.6201171875,
            -194.3800048828125,
            -2245.550048828125
           ],
           "y": [
            1285.6400146484375,
            509.260009765625,
            -3385.14990234375,
            -2212.2900390625,
            3800.35009765625,
            -631.8099975585938
           ]
          },
          {
           "marker": {
            "color": "black",
            "size": 10
           },
           "mode": "markers",
           "type": "scatter",
           "x": [
            -2348.510009765625
           ],
           "y": [
            -462.4700012207031
           ]
          }
         ]
        },
        {
         "data": [
          {
           "marker": {
            "color": [
             "orange",
             "blue",
             "blue",
             "blue",
             "orange",
             "orange"
            ],
            "size": 10
           },
           "mode": "markers",
           "type": "scatter",
           "x": [
            -1930.8399658203125,
            -2046.25,
            3135.139892578125,
            -3574.6201171875,
            -194.3800048828125,
            -2245.550048828125
           ],
           "y": [
            1285.6400146484375,
            548.0900268554688,
            -3313.139892578125,
            -2212.2900390625,
            3800.35009765625,
            -631.8099975585938
           ]
          },
          {
           "marker": {
            "color": "black",
            "size": 10
           },
           "mode": "markers",
           "type": "scatter",
           "x": [
            -2329.31005859375
           ],
           "y": [
            -511.0799865722656
           ]
          }
         ]
        },
        {
         "data": [
          {
           "marker": {
            "color": [
             "orange",
             "blue",
             "blue",
             "blue",
             "orange",
             "orange"
            ],
            "size": 10
           },
           "mode": "markers",
           "type": "scatter",
           "x": [
            -1943.72998046875,
            -2030.3499755859375,
            3135.139892578125,
            -3608.93994140625,
            -194.3800048828125,
            -2199.050048828125
           ],
           "y": [
            1132.9599609375,
            558.27001953125,
            -3313.139892578125,
            -2374.75,
            3800.35009765625,
            -777.9099731445312
           ]
          },
          {
           "marker": {
            "color": "black",
            "size": 10
           },
           "mode": "markers",
           "type": "scatter",
           "x": [
            -2322.909912109375
           ],
           "y": [
            -527.260009765625
           ]
          }
         ]
        },
        {
         "data": [
          {
           "marker": {
            "color": [
             "orange",
             "blue",
             "blue",
             "blue",
             "orange",
             "orange"
            ],
            "size": 10
           },
           "mode": "markers",
           "type": "scatter",
           "x": [
            -1943.72998046875,
            -1972.81005859375,
            3057.5,
            -3608.93994140625,
            -194,
            -2199.050048828125
           ],
           "y": [
            1132.9599609375,
            595.2000122070312,
            -3285.06005859375,
            -2374.75,
            3644.14990234375,
            -777.9099731445312
           ]
          },
          {
           "marker": {
            "color": "black",
            "size": 10
           },
           "mode": "markers",
           "type": "scatter",
           "x": [
            -2300.56005859375
           ],
           "y": [
            -583.8499755859375
           ]
          }
         ]
        },
        {
         "data": [
          {
           "marker": {
            "color": [
             "orange",
             "blue",
             "blue",
             "blue",
             "orange",
             "orange"
            ],
            "size": 10
           },
           "mode": "markers",
           "type": "scatter",
           "x": [
            -1966.3800048828125,
            -1972.81005859375,
            3057.5,
            -3627.340087890625,
            -194,
            -2157.199951171875
           ],
           "y": [
            923.5800170898438,
            595.2000122070312,
            -3285.06005859375,
            -2522.25,
            3644.14990234375,
            -909.4000244140625
           ]
          },
          {
           "marker": {
            "color": "black",
            "size": 10
           },
           "mode": "markers",
           "type": "scatter",
           "x": [
            -2287.800048828125
           ],
           "y": [
            -616.1400146484375
           ]
          }
         ]
        },
        {
         "data": [
          {
           "marker": {
            "color": [
             "orange",
             "blue",
             "blue",
             "blue",
             "orange",
             "orange"
            ],
            "size": 10
           },
           "mode": "markers",
           "type": "scatter",
           "x": [
            -1971.010009765625,
            -1972.81005859375,
            2913.080078125,
            -3629.110107421875,
            -163.9199981689453,
            -2147.89990234375
           ],
           "y": [
            885.5700073242188,
            595.2000122070312,
            -3261.419921875,
            -2555.080078125,
            3478.93994140625,
            -938.6199951171875
           ]
          },
          {
           "marker": {
            "color": "black",
            "size": 10
           },
           "mode": "markers",
           "type": "scatter",
           "x": [
            -2268.68994140625
           ],
           "y": [
            -664.52001953125
           ]
          }
         ]
        },
        {
         "data": [
          {
           "marker": {
            "color": [
             "orange",
             "blue",
             "blue",
             "blue",
             "orange",
             "orange"
            ],
            "size": 10
           },
           "mode": "markers",
           "type": "scatter",
           "x": [
            -1995.56005859375,
            -1867.280029296875,
            2913.080078125,
            -3623.550048828125,
            -163.9199981689453,
            -2101.39990234375
           ],
           "y": [
            695.72998046875,
            662.4400024414062,
            -3261.419921875,
            -2717.97998046875,
            3478.93994140625,
            -1084.8199462890625
           ]
          },
          {
           "marker": {
            "color": "black",
            "size": 10
           },
           "mode": "markers",
           "type": "scatter",
           "x": [
            -2249.610107421875
           ],
           "y": [
            -712.8099975585938
           ]
          }
         ]
        },
        {
         "data": [
          {
           "marker": {
            "color": [
             "orange",
             "blue",
             "blue",
             "blue",
             "orange",
             "orange"
            ],
            "size": 10
           },
           "mode": "markers",
           "type": "scatter",
           "x": [
            -1995.56005859375,
            -1786.0699462890625,
            2798.93994140625,
            -3623.550048828125,
            -127.19999694824219,
            -2101.39990234375
           ],
           "y": [
            695.72998046875,
            713.8800048828125,
            -3264.6298828125,
            -2717.97998046875,
            3354.860107421875,
            -1084.8199462890625
           ]
          },
          {
           "marker": {
            "color": "black",
            "size": 10
           },
           "mode": "markers",
           "type": "scatter",
           "x": [
            -2233.72998046875
           ],
           "y": [
            -753
           ]
          }
         ]
        },
        {
         "data": [
          {
           "marker": {
            "color": [
             "orange",
             "blue",
             "blue",
             "blue",
             "orange",
             "orange"
            ],
            "size": 10
           },
           "mode": "markers",
           "type": "scatter",
           "x": [
            -2018.719970703125,
            -1786.0699462890625,
            2798.93994140625,
            -3597.179931640625,
            -88.93000030517578,
            -2068.85009765625
           ],
           "y": [
            525.02001953125,
            713.8800048828125,
            -3264.6298828125,
            -2860.260009765625,
            3241.590087890625,
            -1187.0400390625
           ]
          },
          {
           "marker": {
            "color": "black",
            "size": 10
           },
           "mode": "markers",
           "type": "scatter",
           "x": [
            -2221.050048828125
           ],
           "y": [
            -785.1199951171875
           ]
          }
         ]
        },
        {
         "data": [
          {
           "marker": {
            "color": [
             "orange",
             "blue",
             "blue",
             "blue",
             "orange",
             "orange"
            ],
            "size": 10
           },
           "mode": "markers",
           "type": "scatter",
           "x": [
            -2018.719970703125,
            -1677.260009765625,
            2669.8798828125,
            -3597.179931640625,
            -79.29000091552734,
            -2022.3499755859375
           ],
           "y": [
            525.02001953125,
            782.6400146484375,
            -3289.419921875,
            -2860.260009765625,
            3212.590087890625,
            -1332.6800537109375
           ]
          },
          {
           "marker": {
            "color": "black",
            "size": 10
           },
           "mode": "markers",
           "type": "scatter",
           "x": [
            -2195.7099609375
           ],
           "y": [
            -849.25
           ]
          }
         ]
        },
        {
         "data": [
          {
           "marker": {
            "color": [
             "orange",
             "blue",
             "blue",
             "blue",
             "orange",
             "orange"
            ],
            "size": 10
           },
           "mode": "markers",
           "type": "scatter",
           "x": [
            -2044.8900146484375,
            -1659.06005859375,
            2669.8798828125,
            -3545.0400390625,
            -43.400001525878906,
            -2013.0400390625
           ],
           "y": [
            335.4200134277344,
            794.1199951171875,
            -3289.419921875,
            -3009.929931640625,
            3093.530029296875,
            -1361.75
           ]
          },
          {
           "marker": {
            "color": "black",
            "size": 10
           },
           "mode": "markers",
           "type": "scatter",
           "x": [
            -2183.070068359375
           ],
           "y": [
            -881.27001953125
           ]
          }
         ]
        },
        {
         "data": [
          {
           "marker": {
            "color": [
             "orange",
             "blue",
             "blue",
             "blue",
             "orange",
             "orange"
            ],
            "size": 10
           },
           "mode": "markers",
           "type": "scatter",
           "x": [
            -2044.8900146484375,
            -1586.1199951171875,
            2539.110107421875,
            -3545.0400390625,
            -35.66999816894531,
            -1976.81005859375
           ],
           "y": [
            335.4200134277344,
            840.0599975585938,
            -3331.199951171875,
            -3009.929931640625,
            3063.300048828125,
            -1474.9100341796875
           ]
          },
          {
           "marker": {
            "color": "black",
            "size": 10
           },
           "mode": "markers",
           "type": "scatter",
           "x": [
            -2164.110107421875
           ],
           "y": [
            -929.22998046875
           ]
          }
         ]
        },
        {
         "data": [
          {
           "marker": {
            "color": [
             "orange",
             "blue",
             "blue",
             "blue",
             "orange",
             "orange"
            ],
            "size": 10
           },
           "mode": "markers",
           "type": "scatter",
           "x": [
            -2071.25,
            -1586.1199951171875,
            2539.110107421875,
            -3476,
            -35.66999816894531,
            -1976.81005859375
           ],
           "y": [
            145.82000732421875,
            840.0599975585938,
            -3331.199951171875,
            -3151.18994140625,
            3063.300048828125,
            -1474.9100341796875
           ]
          },
          {
           "marker": {
            "color": "black",
            "size": 10
           },
           "mode": "markers",
           "type": "scatter",
           "x": [
            -2157.800048828125
           ],
           "y": [
            -945.2000122070312
           ]
          }
         ]
        },
        {
         "data": [
          {
           "marker": {
            "color": [
             "orange",
             "blue",
             "blue",
             "blue",
             "orange",
             "orange"
            ],
            "size": 10
           },
           "mode": "markers",
           "type": "scatter",
           "x": [
            -2071.25,
            -1586.1199951171875,
            2391.389892578125,
            -3476,
            -7.309999942779541,
            -1976.81005859375
           ],
           "y": [
            145.82000732421875,
            840.0599975585938,
            -3388.97998046875,
            -3151.18994140625,
            2926.169921875,
            -1474.9100341796875
           ]
          },
          {
           "marker": {
            "color": "black",
            "size": 10
           },
           "mode": "markers",
           "type": "scatter",
           "x": [
            -2135.75
           ],
           "y": [
            -1001.030029296875
           ]
          }
         ]
        },
        {
         "data": [
          {
           "marker": {
            "color": [
             "orange",
             "blue",
             "blue",
             "blue",
             "orange",
             "orange"
            ],
            "size": 10
           },
           "mode": "markers",
           "type": "scatter",
           "x": [
            -2095.1201171875,
            -1485.530029296875,
            2391.389892578125,
            -3390.590087890625,
            10.989999771118164,
            -1944.5400390625
           ],
           "y": [
            -24.799999237060547,
            903.3099975585938,
            -3388.97998046875,
            -3301.1298828125,
            2802.60009765625,
            -1609.6400146484375
           ]
          },
          {
           "marker": {
            "color": "black",
            "size": 10
           },
           "mode": "markers",
           "type": "scatter",
           "x": [
            -2123.159912109375
           ],
           "y": [
            -1032.8900146484375
           ]
          }
         ]
        },
        {
         "data": [
          {
           "marker": {
            "color": [
             "orange",
             "blue",
             "blue",
             "blue",
             "orange",
             "orange"
            ],
            "size": 10
           },
           "mode": "markers",
           "type": "scatter",
           "x": [
            -2095.1201171875,
            -1485.530029296875,
            2281.60009765625,
            -3374.590087890625,
            14.970000267028809,
            -1944.5400390625
           ],
           "y": [
            -24.799999237060547,
            903.3099975585938,
            -3438.239990234375,
            -3328.110107421875,
            2771.050048828125,
            -1609.6400146484375
           ]
          },
          {
           "marker": {
            "color": "black",
            "size": 10
           },
           "mode": "markers",
           "type": "scatter",
           "x": [
            -2104.320068359375
           ],
           "y": [
            -1080.6099853515625
           ]
          }
         ]
        },
        {
         "data": [
          {
           "marker": {
            "color": [
             "orange",
             "blue",
             "blue",
             "blue",
             "orange",
             "orange"
            ],
            "size": 10
           },
           "mode": "markers",
           "type": "scatter",
           "x": [
            -2124.489990234375,
            -1403.050048828125,
            2281.60009765625,
            -3318.080078125,
            27.969999313354492,
            -1940.8699951171875
           ],
           "y": [
            -233.25,
            955.1099853515625,
            -3438.239990234375,
            -3422.219970703125,
            2658.360107421875,
            -1696.3699951171875
           ]
          },
          {
           "marker": {
            "color": "black",
            "size": 10
           },
           "mode": "markers",
           "type": "scatter",
           "x": [
            -2101.179931640625
           ],
           "y": [
            -1088.56005859375
           ]
          }
         ]
        },
        {
         "data": [
          {
           "marker": {
            "color": [
             "orange",
             "blue",
             "blue",
             "blue",
             "orange",
             "orange"
            ],
            "size": 10
           },
           "mode": "markers",
           "type": "scatter",
           "x": [
            -2124.489990234375,
            -1311.239990234375,
            2134.7099609375,
            -3318.080078125,
            27.969999313354492,
            -1947.0400390625
           ],
           "y": [
            -233.25,
            1012.7100219726562,
            -3518.5,
            -3422.219970703125,
            2658.360107421875,
            -1772.0400390625
           ]
          },
          {
           "marker": {
            "color": "black",
            "size": 10
           },
           "mode": "markers",
           "type": "scatter",
           "x": [
            -2069.830078125
           ],
           "y": [
            -1167.9100341796875
           ]
          }
         ]
        },
        {
         "data": [
          {
           "marker": {
            "color": [
             "orange",
             "blue",
             "blue",
             "blue",
             "orange",
             "orange"
            ],
            "size": 10
           },
           "mode": "markers",
           "type": "scatter",
           "x": [
            -2156.4599609375,
            -1311.239990234375,
            2032.8599853515625,
            -3220.3798828125,
            48.599998474121094,
            -1947.0400390625
           ],
           "y": [
            -458.6600036621094,
            1012.7100219726562,
            -3584.52001953125,
            -3583.050048828125,
            2460.929931640625,
            -1772.0400390625
           ]
          },
          {
           "marker": {
            "color": "black",
            "size": 10
           },
           "mode": "markers",
           "type": "scatter",
           "x": [
            -2057.31005859375
           ],
           "y": [
            -1199.5899658203125
           ]
          }
         ]
        },
        {
         "data": [
          {
           "marker": {
            "color": [
             "orange",
             "blue",
             "blue",
             "blue",
             "orange",
             "orange"
            ],
            "size": 10
           },
           "mode": "markers",
           "type": "scatter",
           "x": [
            -2156.4599609375,
            -1219.219970703125,
            2032.8599853515625,
            -3220.3798828125,
            48.599998474121094,
            -1951.550048828125
           ],
           "y": [
            -458.6600036621094,
            1070.3900146484375,
            -3584.52001953125,
            -3583.050048828125,
            2460.929931640625,
            -1842.489990234375
           ]
          },
          {
           "marker": {
            "color": "black",
            "size": 10
           },
           "mode": "markers",
           "type": "scatter",
           "x": [
            -2038.5699462890625
           ],
           "y": [
            -1247.06005859375
           ]
          }
         ]
        },
        {
         "data": [
          {
           "marker": {
            "color": [
             "orange",
             "blue",
             "blue",
             "blue",
             "orange",
             "orange"
            ],
            "size": 10
           },
           "mode": "markers",
           "type": "scatter",
           "x": [
            -2156.4599609375,
            -1210,
            2032.8599853515625,
            -3162.550048828125,
            60.20000076293945,
            -1951.5799560546875
           ],
           "y": [
            -458.6600036621094,
            1076.1600341796875,
            -3584.52001953125,
            -3676.280029296875,
            2345.669921875,
            -1849.6500244140625
           ]
          },
          {
           "marker": {
            "color": "black",
            "size": 10
           },
           "mode": "markers",
           "type": "scatter",
           "x": [
            -2035.449951171875
           ],
           "y": [
            -1254.9599609375
           ]
          }
         ]
        },
        {
         "data": [
          {
           "marker": {
            "color": [
             "orange",
             "blue",
             "blue",
             "blue",
             "orange",
             "orange"
            ],
            "size": 10
           },
           "mode": "markers",
           "type": "scatter",
           "x": [
            -2177.570068359375,
            -1210,
            1899.6800537109375,
            -3162.550048828125,
            60.20000076293945,
            -1951.5799560546875
           ],
           "y": [
            -661.27001953125,
            1076.1600341796875,
            -3684.22998046875,
            -3676.280029296875,
            2345.669921875,
            -1849.6500244140625
           ]
          },
          {
           "marker": {
            "color": "black",
            "size": 10
           },
           "mode": "markers",
           "type": "scatter",
           "x": [
            -2016.72998046875
           ],
           "y": [
            -1302.3399658203125
           ]
          }
         ]
        },
        {
         "data": [
          {
           "marker": {
            "color": [
             "orange",
             "blue",
             "blue",
             "blue",
             "orange",
             "orange"
            ],
            "size": 10
           },
           "mode": "markers",
           "type": "scatter",
           "x": [
            -2177.570068359375,
            -1136.1800537109375,
            1899.6800537109375,
            -3073.239990234375,
            60.20000076293945,
            -1947.75
           ],
           "y": [
            -661.27001953125,
            1122.3800048828125,
            -3684.22998046875,
            -3804.429931640625,
            2345.669921875,
            -1908.1700439453125
           ]
          },
          {
           "marker": {
            "color": "black",
            "size": 10
           },
           "mode": "markers",
           "type": "scatter",
           "x": [
            -2004.280029296875
           ],
           "y": [
            -1333.8900146484375
           ]
          }
         ]
        },
        {
         "data": [
          {
           "marker": {
            "color": [
             "orange",
             "blue",
             "blue",
             "blue",
             "orange",
             "orange"
            ],
            "size": 10
           },
           "mode": "markers",
           "type": "scatter",
           "x": [
            -2178.18994140625,
            -1136.1800537109375,
            1786.8800048828125,
            -3073.239990234375,
            83.13999938964844,
            -1947.75
           ],
           "y": [
            -840.1699829101562,
            1122.3800048828125,
            -3784.14990234375,
            -3804.429931640625,
            2115.090087890625,
            -1908.1700439453125
           ]
          },
          {
           "marker": {
            "color": "black",
            "size": 10
           },
           "mode": "markers",
           "type": "scatter",
           "x": [
            -1991.8399658203125
           ],
           "y": [
            -1365.4100341796875
           ]
          }
         ]
        },
        {
         "data": [
          {
           "marker": {
            "color": [
             "orange",
             "blue",
             "blue",
             "blue",
             "orange",
             "orange"
            ],
            "size": 10
           },
           "mode": "markers",
           "type": "scatter",
           "x": [
            -2178.18994140625,
            -1136.1800537109375,
            1786.8800048828125,
            -3073.239990234375,
            83.13999938964844,
            -1947.75
           ],
           "y": [
            -840.1699829101562,
            1122.3800048828125,
            -3784.14990234375,
            -3804.429931640625,
            2115.090087890625,
            -1908.1700439453125
           ]
          },
          {
           "marker": {
            "color": "black",
            "size": 10
           },
           "mode": "markers",
           "type": "scatter",
           "x": [
            -1991.8399658203125
           ],
           "y": [
            -1365.4100341796875
           ]
          }
         ]
        },
        {
         "data": [
          {
           "marker": {
            "color": [
             "orange",
             "blue",
             "blue",
             "blue",
             "orange",
             "orange"
            ],
            "size": 10
           },
           "mode": "markers",
           "type": "scatter",
           "x": [
            -2166.159912109375,
            -1034.3800048828125,
            1711.780029296875,
            -2981.929931640625,
            94.54000091552734,
            -1928.5
           ],
           "y": [
            -952.239990234375,
            1186.030029296875,
            -3857.969970703125,
            -3909.97998046875,
            1999.800048828125,
            -1990.0400390625
           ]
          },
          {
           "marker": {
            "color": "black",
            "size": 10
           },
           "mode": "markers",
           "type": "scatter",
           "x": [
            -1970.0899658203125
           ],
           "y": [
            -1420.47998046875
           ]
          }
         ]
        },
        {
         "data": [
          {
           "marker": {
            "color": [
             "orange",
             "blue",
             "blue",
             "blue",
             "orange",
             "orange"
            ],
            "size": 10
           },
           "mode": "markers",
           "type": "scatter",
           "x": [
            -2166.159912109375,
            -941.5,
            1711.780029296875,
            -2866.8701171875,
            94.54000091552734,
            -1903.56005859375
           ],
           "y": [
            -952.239990234375,
            1244.030029296875,
            -3857.969970703125,
            -4011.199951171875,
            1999.800048828125,
            -2048.449951171875
           ]
          },
          {
           "marker": {
            "color": "black",
            "size": 10
           },
           "mode": "markers",
           "type": "scatter",
           "x": [
            -1945.2900390625
           ],
           "y": [
            -1483.31005859375
           ]
          }
         ]
        },
        {
         "data": [
          {
           "marker": {
            "color": [
             "orange",
             "blue",
             "blue",
             "blue",
             "orange",
             "orange"
            ],
            "size": 10
           },
           "mode": "markers",
           "type": "scatter",
           "x": [
            -2166.159912109375,
            -922.8800048828125,
            1607.5999755859375,
            -2842.260009765625,
            108.23999786376953,
            -1903.56005859375
           ],
           "y": [
            -952.239990234375,
            1255.6500244140625,
            -3966.389892578125,
            -4029.090087890625,
            1834.989990234375,
            -2048.449951171875
           ]
          },
          {
           "marker": {
            "color": "black",
            "size": 10
           },
           "mode": "markers",
           "type": "scatter",
           "x": [
            -1939.0899658203125
           ],
           "y": [
            -1498.989990234375
           ]
          }
         ]
        },
        {
         "data": [
          {
           "marker": {
            "color": [
             "orange",
             "blue",
             "blue",
             "blue",
             "orange",
             "orange"
            ],
            "size": 10
           },
           "mode": "markers",
           "type": "scatter",
           "x": [
            -2119.469970703125,
            -848.260009765625,
            1607.5999755859375,
            -2739.25,
            108.23999786376953,
            -1863.1500244140625
           ],
           "y": [
            -1136.280029296875,
            1302.1700439453125,
            -3966.389892578125,
            -4092.02001953125,
            1834.989990234375,
            -2120.389892578125
           ]
          },
          {
           "marker": {
            "color": "black",
            "size": 10
           },
           "mode": "markers",
           "type": "scatter",
           "x": [
            -1920.5400390625
           ],
           "y": [
            -1546
           ]
          }
         ]
        },
        {
         "data": [
          {
           "marker": {
            "color": [
             "orange",
             "blue",
             "blue",
             "blue",
             "orange",
             "orange"
            ],
            "size": 10
           },
           "mode": "markers",
           "type": "scatter",
           "x": [
            -2088.909912109375,
            -838.9099731445312,
            1515.1500244140625,
            -2725.93994140625,
            113.36000061035156,
            -1863.1500244140625
           ],
           "y": [
            -1218.81005859375,
            1307.989990234375,
            -4065.169921875,
            -4098.9599609375,
            1686.489990234375,
            -2120.389892578125
           ]
          },
          {
           "marker": {
            "color": "black",
            "size": 10
           },
           "mode": "markers",
           "type": "scatter",
           "x": [
            -1905.0899658203125
           ],
           "y": [
            -1585.1199951171875
           ]
          }
         ]
        },
        {
         "data": [
          {
           "marker": {
            "color": [
             "orange",
             "blue",
             "blue",
             "blue",
             "orange",
             "orange"
            ],
            "size": 10
           },
           "mode": "markers",
           "type": "scatter",
           "x": [
            -2088.909912109375,
            -838.9099731445312,
            1515.1500244140625,
            -2725.93994140625,
            113.36000061035156,
            -1816.530029296875
           ],
           "y": [
            -1218.81005859375,
            1307.989990234375,
            -4065.169921875,
            -4098.9599609375,
            1686.489990234375,
            -2180.97998046875
           ]
          },
          {
           "marker": {
            "color": "black",
            "size": 10
           },
           "mode": "markers",
           "type": "scatter",
           "x": [
            -1892.760009765625
           ],
           "y": [
            -1616.3800048828125
           ]
          }
         ]
        },
        {
         "data": [
          {
           "marker": {
            "color": [
             "orange",
             "blue",
             "blue",
             "blue",
             "orange",
             "orange"
            ],
            "size": 10
           },
           "mode": "markers",
           "type": "scatter",
           "x": [
            -2088.909912109375,
            -726.4500122070312,
            1392.1800537109375,
            -2561.739990234375,
            110.26000213623047,
            -1816.530029296875
           ],
           "y": [
            -1218.81005859375,
            1377.9599609375,
            -4196.35986328125,
            -4170.75,
            1488.6800537109375,
            -2180.97998046875
           ]
          },
          {
           "marker": {
            "color": "black",
            "size": 10
           },
           "mode": "markers",
           "type": "scatter",
           "x": [
            -1874.280029296875
           ],
           "y": [
            -1663.2099609375
           ]
          }
         ]
        },
        {
         "data": [
          {
           "marker": {
            "color": [
             "orange",
             "blue",
             "blue",
             "blue",
             "orange",
             "orange"
            ],
            "size": 10
           },
           "mode": "markers",
           "type": "scatter",
           "x": [
            -2031.6700439453125,
            -726.4500122070312,
            1371.5,
            -2561.739990234375,
            110.26000213623047,
            -1753.6700439453125
           ],
           "y": [
            -1355.9200439453125,
            1377.9599609375,
            -4217.47021484375,
            -4170.75,
            1488.6800537109375,
            -2241.389892578125
           ]
          },
          {
           "marker": {
            "color": "black",
            "size": 10
           },
           "mode": "markers",
           "type": "scatter",
           "x": [
            -1861.9599609375
           ],
           "y": [
            -1694.3900146484375
           ]
          }
         ]
        },
        {
         "data": [
          {
           "marker": {
            "color": [
             "orange",
             "blue",
             "blue",
             "blue",
             "orange",
             "orange"
            ],
            "size": 10
           },
           "mode": "markers",
           "type": "scatter",
           "x": [
            -1987.489990234375,
            -660.5599975585938,
            1275.6199951171875,
            -2462.969970703125,
            102.12000274658203,
            -1753.6700439453125
           ],
           "y": [
            -1457.050048828125,
            1418.8599853515625,
            -4307.27978515625,
            -4202.990234375,
            1373.8499755859375,
            -2241.389892578125
           ]
          },
          {
           "marker": {
            "color": "black",
            "size": 10
           },
           "mode": "markers",
           "type": "scatter",
           "x": [
            -1840.469970703125
           ],
           "y": [
            -1748.8800048828125
           ]
          }
         ]
        },
        {
         "data": [
          {
           "marker": {
            "color": [
             "orange",
             "blue",
             "blue",
             "blue",
             "orange",
             "orange"
            ],
            "size": 10
           },
           "mode": "markers",
           "type": "scatter",
           "x": [
            -1987.489990234375,
            -563.3300170898438,
            1275.6199951171875,
            -2462.969970703125,
            76.80000305175781,
            -1671.6600341796875
           ],
           "y": [
            -1457.050048828125,
            1468.1400146484375,
            -4307.27978515625,
            -4202.990234375,
            1212.3199462890625,
            -2295.2099609375
           ]
          },
          {
           "marker": {
            "color": "black",
            "size": 10
           },
           "mode": "markers",
           "type": "scatter",
           "x": [
            -1822.06005859375
           ],
           "y": [
            -1795.510009765625
           ]
          }
         ]
        },
        {
         "data": [
          {
           "marker": {
            "color": [
             "orange",
             "blue",
             "blue",
             "blue",
             "orange",
             "orange"
            ],
            "size": 10
           },
           "mode": "markers",
           "type": "scatter",
           "x": [
            -1939.199951171875,
            -563.3300170898438,
            1160.4300537109375,
            -2261.010009765625,
            76.80000305175781,
            -1671.6600341796875
           ],
           "y": [
            -1566.3900146484375,
            1468.1400146484375,
            -4394.31982421875,
            -4241.93017578125,
            1212.3199462890625,
            -2295.2099609375
           ]
          },
          {
           "marker": {
            "color": "black",
            "size": 10
           },
           "mode": "markers",
           "type": "scatter",
           "x": [
            -1809.8199462890625
           ],
           "y": [
            -1826.550048828125
           ]
          }
         ]
        },
        {
         "data": [
          {
           "marker": {
            "color": [
             "orange",
             "blue",
             "blue",
             "blue",
             "orange",
             "orange"
            ],
            "size": 10
           },
           "mode": "markers",
           "type": "scatter",
           "x": [
            -1939.199951171875,
            -455.8399963378906,
            1160.4300537109375,
            -2261.010009765625,
            76.80000305175781,
            -1604.8399658203125
           ],
           "y": [
            -1566.3900146484375,
            1481.77001953125,
            -4394.31982421875,
            -4241.93017578125,
            1212.3199462890625,
            -2323.659912109375
           ]
          },
          {
           "marker": {
            "color": "black",
            "size": 10
           },
           "mode": "markers",
           "type": "scatter",
           "x": [
            -1797.5799560546875
           ],
           "y": [
            -1857.56005859375
           ]
          }
         ]
        },
        {
         "data": [
          {
           "marker": {
            "color": [
             "orange",
             "blue",
             "blue",
             "blue",
             "orange",
             "orange"
            ],
            "size": 10
           },
           "mode": "markers",
           "type": "scatter",
           "x": [
            -1895.8199462890625,
            -455.8399963378906,
            1049.1199951171875,
            -2130.56005859375,
            18.549999237060547,
            -1604.8399658203125
           ],
           "y": [
            -1664.31005859375,
            1481.77001953125,
            -4456.240234375,
            -4245.18017578125,
            1027.5699462890625,
            -2323.659912109375
           ]
          },
          {
           "marker": {
            "color": "black",
            "size": 10
           },
           "mode": "markers",
           "type": "scatter",
           "x": [
            -1785.3499755859375
           ],
           "y": [
            -1888.5400390625
           ]
          }
         ]
        },
        {
         "data": [
          {
           "marker": {
            "color": [
             "orange",
             "blue",
             "blue",
             "blue",
             "orange",
             "orange"
            ],
            "size": 10
           },
           "mode": "markers",
           "type": "scatter",
           "x": [
            -1886.1800537109375,
            -354.57000732421875,
            1023.9199829101562,
            -2101.820068359375,
            18.549999237060547,
            -1524.5
           ],
           "y": [
            -1686.0699462890625,
            1474.43994140625,
            -4467.9501953125,
            -4243.43017578125,
            1027.5699462890625,
            -2343.169921875
           ]
          },
          {
           "marker": {
            "color": "black",
            "size": 10
           },
           "mode": "markers",
           "type": "scatter",
           "x": [
            -1766.6400146484375
           ],
           "y": [
            -1935.949951171875
           ]
          }
         ]
        },
        {
         "data": [
          {
           "marker": {
            "color": [
             "orange",
             "blue",
             "blue",
             "blue",
             "orange",
             "orange"
            ],
            "size": 10
           },
           "mode": "markers",
           "type": "scatter",
           "x": [
            -1837.97998046875,
            -332.30999755859375,
            926.3099975585938,
            -1988.75,
            -62.93000030517578,
            -1431.6600341796875
           ],
           "y": [
            -1794.8699951171875,
            1470.5799560546875,
            -4510.06982421875,
            -4227.68994140625,
            873.0499877929688,
            -2348.1201171875
           ]
          },
          {
           "marker": {
            "color": "black",
            "size": 10
           },
           "mode": "markers",
           "type": "scatter",
           "x": [
            -1751
           ],
           "y": [
            -1975.56005859375
           ]
          }
         ]
        },
        {
         "data": [
          {
           "marker": {
            "color": [
             "orange",
             "blue",
             "blue",
             "blue",
             "orange",
             "orange"
            ],
            "size": 10
           },
           "mode": "markers",
           "type": "scatter",
           "x": [
            -1828.3399658203125,
            -220.75,
            926.3099975585938,
            -1988.75,
            -62.93000030517578,
            -1412.949951171875
           ],
           "y": [
            -1816.6300048828125,
            1438.4300537109375,
            -4510.06982421875,
            -4227.68994140625,
            873.0499877929688,
            -2346.919921875
           ]
          },
          {
           "marker": {
            "color": "black",
            "size": 10
           },
           "mode": "markers",
           "type": "scatter",
           "x": [
            -1735.4000244140625
           ],
           "y": [
            -2015.1099853515625
           ]
          }
         ]
        },
        {
         "data": [
          {
           "marker": {
            "color": [
             "orange",
             "blue",
             "blue",
             "blue",
             "orange",
             "orange"
            ],
            "size": 10
           },
           "mode": "markers",
           "type": "scatter",
           "x": [
            -1794.5999755859375,
            -198.63999938964844,
            816.3800048828125,
            -1841.6500244140625,
            -168.5399932861328,
            -1347.8199462890625
           ],
           "y": [
            -1892.7900390625,
            1429.4000244140625,
            -4560.8701171875,
            -4181.7998046875,
            737.469970703125,
            -2336.909912109375
           ]
          },
          {
           "marker": {
            "color": "black",
            "size": 10
           },
           "mode": "markers",
           "type": "scatter",
           "x": [
            -1722.4000244140625
           ],
           "y": [
            -2048.02001953125
           ]
          }
         ]
        },
        {
         "data": [
          {
           "marker": {
            "color": [
             "orange",
             "blue",
             "blue",
             "blue",
             "orange",
             "orange"
            ],
            "size": 10
           },
           "mode": "markers",
           "type": "scatter",
           "x": [
            -1765.239990234375,
            -122.76000213623047,
            816.3800048828125,
            -1841.6500244140625,
            -168.5399932861328,
            -1347.8199462890625
           ],
           "y": [
            -1959.050048828125,
            1391.0400390625,
            -4560.8701171875,
            -4181.7998046875,
            737.469970703125,
            -2336.909912109375
           ]
          },
          {
           "marker": {
            "color": "black",
            "size": 10
           },
           "mode": "markers",
           "type": "scatter",
           "x": [
            -1712.02001953125
           ],
           "y": [
            -2074.320068359375
           ]
          }
         ]
        },
        {
         "data": [
          {
           "marker": {
            "color": [
             "orange",
             "blue",
             "blue",
             "blue",
             "orange",
             "orange"
            ],
            "size": 10
           },
           "mode": "markers",
           "type": "scatter",
           "x": [
            -1765.239990234375,
            -122.76000213623047,
            742.5700073242188,
            -1720.3199462890625,
            -301.3399963378906,
            -1240.47998046875
           ],
           "y": [
            -1959.050048828125,
            1391.0400390625,
            -4606.02001953125,
            -4117.259765625,
            607.47998046875,
            -2299.050048828125
           ]
          },
          {
           "marker": {
            "color": "black",
            "size": 10
           },
           "mode": "markers",
           "type": "scatter",
           "x": [
            -1695.31005859375
           ],
           "y": [
            -2116.679931640625
           ]
          }
         ]
        },
        {
         "data": [
          {
           "marker": {
            "color": [
             "orange",
             "blue",
             "blue",
             "blue",
             "orange",
             "orange"
            ],
            "size": 10
           },
           "mode": "markers",
           "type": "scatter",
           "x": [
            -1715.489990234375,
            -122.76000213623047,
            742.5700073242188,
            -1720.3199462890625,
            -301.3399963378906,
            -1240.47998046875
           ],
           "y": [
            -2072.550048828125,
            1391.0400390625,
            -4606.02001953125,
            -4117.259765625,
            607.47998046875,
            -2299.050048828125
           ]
          },
          {
           "marker": {
            "color": "black",
            "size": 10
           },
           "mode": "markers",
           "type": "scatter",
           "x": [
            -1675.25
           ],
           "y": [
            -2165.610107421875
           ]
          }
         ]
        },
        {
         "data": [
          {
           "marker": {
            "color": [
             "orange",
             "blue",
             "blue",
             "blue",
             "orange",
             "orange"
            ],
            "size": 10
           },
           "mode": "markers",
           "type": "scatter",
           "x": [
            -1705.4000244140625,
            8.199999809265137,
            686.27001953125,
            -1623.9300537109375,
            -301.3399963378906,
            -1182.489990234375
           ],
           "y": [
            -2095.56005859375,
            1292.6700439453125,
            -4653.81982421875,
            -4043.60009765625,
            607.47998046875,
            -2265.419921875
           ]
          },
          {
           "marker": {
            "color": "black",
            "size": 10
           },
           "mode": "markers",
           "type": "scatter",
           "x": [
            -1660.219970703125
           ],
           "y": [
            -2202.27001953125
           ]
          }
         ]
        },
        {
         "data": [
          {
           "marker": {
            "color": [
             "orange",
             "blue",
             "blue",
             "blue",
             "orange",
             "orange"
            ],
            "size": 10
           },
           "mode": "markers",
           "type": "scatter",
           "x": [
            -1705.4000244140625,
            8.199999809265137,
            686.27001953125,
            -1604.530029296875,
            -406.3599853515625,
            -1166.77001953125
           ],
           "y": [
            -2095.56005859375,
            1292.6700439453125,
            -4653.81982421875,
            -4025.669921875,
            516.239990234375,
            -2254.340087890625
           ]
          },
          {
           "marker": {
            "color": "black",
            "size": 10
           },
           "mode": "markers",
           "type": "scatter",
           "x": [
            -1630.199951171875
           ],
           "y": [
            -2275.52001953125
           ]
          }
         ]
        },
        {
         "data": [
          {
           "marker": {
            "color": [
             "orange",
             "blue",
             "blue",
             "blue",
             "orange",
             "orange"
            ],
            "size": 10
           },
           "mode": "markers",
           "type": "scatter",
           "x": [
            -1647.93994140625,
            95.81999969482422,
            634.5499877929688,
            -1520.1700439453125,
            -524.8400268554688,
            -1094.56005859375
           ],
           "y": [
            -2226.64990234375,
            1194.5699462890625,
            -4713.16015625,
            -3930.52001953125,
            417.010009765625,
            -2190.139892578125
           ]
          },
          {
           "marker": {
            "color": "black",
            "size": 10
           },
           "mode": "markers",
           "type": "scatter",
           "x": [
            -1590.239990234375
           ],
           "y": [
            -2373
           ]
          }
         ]
        },
        {
         "data": [
          {
           "marker": {
            "color": [
             "orange",
             "blue",
             "blue",
             "blue",
             "orange",
             "orange"
            ],
            "size": 10
           },
           "mode": "markers",
           "type": "scatter",
           "x": [
            -1598.6600341796875,
            155.07000732421875,
            597.760009765625,
            -1520.1700439453125,
            -524.8400268554688,
            -1094.56005859375
           ],
           "y": [
            -2339.699951171875,
            1103.47998046875,
            -4760.56005859375,
            -3930.52001953125,
            417.010009765625,
            -2190.139892578125
           ]
          },
          {
           "marker": {
            "color": "black",
            "size": 10
           },
           "mode": "markers",
           "type": "scatter",
           "x": [
            -1570.2900390625
           ],
           "y": [
            -2421.669921875
           ]
          }
         ]
        },
        {
         "data": [
          {
           "marker": {
            "color": [
             "orange",
             "blue",
             "blue",
             "blue",
             "orange",
             "orange"
            ],
            "size": 10
           },
           "mode": "markers",
           "type": "scatter",
           "x": [
            -1587.4599609375,
            155.07000732421875,
            597.760009765625,
            -1458.47998046875,
            -655.739990234375,
            -1023.7000122070312
           ],
           "y": [
            -2365.56005859375,
            1103.47998046875,
            -4760.56005859375,
            -3833.31005859375,
            308.57000732421875,
            -2108
           ]
          },
          {
           "marker": {
            "color": "black",
            "size": 10
           },
           "mode": "markers",
           "type": "scatter",
           "x": [
            -1545.3900146484375
           ],
           "y": [
            -2482.43994140625
           ]
          }
         ]
        },
        {
         "data": [
          {
           "marker": {
            "color": [
             "orange",
             "blue",
             "blue",
             "blue",
             "orange",
             "orange"
            ],
            "size": 10
           },
           "mode": "markers",
           "type": "scatter",
           "x": [
            -1565.31005859375,
            155.07000732421875,
            556.260009765625,
            -1458.47998046875,
            -655.739990234375,
            -1023.7000122070312
           ],
           "y": [
            -2416.31005859375,
            1103.47998046875,
            -4809.35986328125,
            -3833.31005859375,
            308.57000732421875,
            -2108
           ]
          },
          {
           "marker": {
            "color": "black",
            "size": 10
           },
           "mode": "markers",
           "type": "scatter",
           "x": [
            -1535.4300537109375
           ],
           "y": [
            -2506.719970703125
           ]
          }
         ]
        },
        {
         "data": [
          {
           "marker": {
            "color": [
             "orange",
             "blue",
             "blue",
             "blue",
             "orange",
             "orange"
            ],
            "size": 10
           },
           "mode": "markers",
           "type": "scatter",
           "x": [
            -1565.31005859375,
            234.7100067138672,
            556.260009765625,
            -1410.8399658203125,
            -655.739990234375,
            -978.2899780273438
           ],
           "y": [
            -2416.31005859375,
            937.1699829101562,
            -4809.35986328125,
            -3749.179931640625,
            308.57000732421875,
            -2042.030029296875
           ]
          },
          {
           "marker": {
            "color": "black",
            "size": 10
           },
           "mode": "markers",
           "type": "scatter",
           "x": [
            -1495.6800537109375
           ],
           "y": [
            -2603.739990234375
           ]
          }
         ]
        },
        {
         "data": [
          {
           "marker": {
            "color": [
             "orange",
             "blue",
             "blue",
             "blue",
             "orange",
             "orange"
            ],
            "size": 10
           },
           "mode": "markers",
           "type": "scatter",
           "x": [
            -1492.8399658203125,
            234.7100067138672,
            502.260009765625,
            -1410.8399658203125,
            -793.3900146484375,
            -978.2899780273438
           ],
           "y": [
            -2582.300048828125,
            937.1699829101562,
            -4858.740234375,
            -3749.179931640625,
            185.1300048828125,
            -2042.030029296875
           ]
          },
          {
           "marker": {
            "color": "black",
            "size": 10
           },
           "mode": "markers",
           "type": "scatter",
           "x": [
            -1469.969970703125
           ],
           "y": [
            -2669.02001953125
           ]
          }
         ]
        },
        {
         "data": [
          {
           "marker": {
            "color": [
             "orange",
             "blue",
             "blue",
             "blue",
             "orange",
             "orange"
            ],
            "size": 10
           },
           "mode": "markers",
           "type": "scatter",
           "x": [
            -1492.8399658203125,
            296.3399963378906,
            502.260009765625,
            -1367.0999755859375,
            -793.3900146484375,
            -935.3699951171875
           ],
           "y": [
            -2582.300048828125,
            791.0399780273438,
            -4858.740234375,
            -3668.739990234375,
            185.1300048828125,
            -1961.72998046875
           ]
          },
          {
           "marker": {
            "color": "black",
            "size": 10
           },
           "mode": "markers",
           "type": "scatter",
           "x": [
            -1448.9300537109375
           ],
           "y": [
            -2723.27001953125
           ]
          }
         ]
        },
        {
         "data": [
          {
           "marker": {
            "color": [
             "orange",
             "blue",
             "blue",
             "blue",
             "orange",
             "orange"
            ],
            "size": 10
           },
           "mode": "markers",
           "type": "scatter",
           "x": [
            -1446.800048828125,
            296.3399963378906,
            460.8399963378906,
            -1367.0999755859375,
            -907.0599975585938,
            -935.3699951171875
           ],
           "y": [
            -2689.260009765625,
            791.0399780273438,
            -4885.93994140625,
            -3668.739990234375,
            64.51000213623047,
            -1961.72998046875
           ]
          },
          {
           "marker": {
            "color": "black",
            "size": 10
           },
           "mode": "markers",
           "type": "scatter",
           "x": [
            -1417.4000244140625
           ],
           "y": [
            -2804.5400390625
           ]
          }
         ]
        },
        {
         "data": [
          {
           "marker": {
            "color": [
             "orange",
             "blue",
             "blue",
             "blue",
             "orange",
             "orange"
            ],
            "size": 10
           },
           "mode": "markers",
           "type": "scatter",
           "x": [
            -1446.800048828125,
            367.9700012207031,
            460.8399963378906,
            -1318.5999755859375,
            -984.1199951171875,
            -901.1699829101562
           ],
           "y": [
            -2689.260009765625,
            613.739990234375,
            -4885.93994140625,
            -3573.97998046875,
            -24.649999618530273,
            -1865.6800537109375
           ]
          },
          {
           "marker": {
            "color": "black",
            "size": 10
           },
           "mode": "markers",
           "type": "scatter",
           "x": [
            -1396.4000244140625
           ],
           "y": [
            -2858.64990234375
           ]
          }
         ]
        },
        {
         "data": [
          {
           "marker": {
            "color": [
             "orange",
             "blue",
             "blue",
             "blue",
             "orange",
             "orange"
            ],
            "size": 10
           },
           "mode": "markers",
           "type": "scatter",
           "x": [
            -1387.77001953125,
            432.1400146484375,
            407.2300109863281,
            -1318.5999755859375,
            -1003.219970703125,
            -884.4199829101562
           ],
           "y": [
            -2828.449951171875,
            454.0899963378906,
            -4909.93994140625,
            -3573.97998046875,
            -46.95000076293945,
            -1775.260009765625
           ]
          },
          {
           "marker": {
            "color": "black",
            "size": 10
           },
           "mode": "markers",
           "type": "scatter",
           "x": [
            -1359.7099609375
           ],
           "y": [
            -2953.2099609375
           ]
          }
         ]
        },
        {
         "data": [
          {
           "marker": {
            "color": [
             "orange",
             "blue",
             "blue",
             "blue",
             "orange",
             "orange"
            ],
            "size": 10
           },
           "mode": "markers",
           "type": "scatter",
           "x": [
            -1387.77001953125,
            432.1400146484375,
            407.2300109863281,
            -1267.18994140625,
            -1070.06005859375,
            -884.4199829101562
           ],
           "y": [
            -2828.449951171875,
            454.0899963378906,
            -4909.93994140625,
            -3467.739990234375,
            -125.01000213623047,
            -1775.260009765625
           ]
          },
          {
           "marker": {
            "color": "black",
            "size": 10
           },
           "mode": "markers",
           "type": "scatter",
           "x": [
            -1338.780029296875
           ],
           "y": [
            -3007.159912109375
           ]
          }
         ]
        },
        {
         "data": [
          {
           "marker": {
            "color": [
             "orange",
             "blue",
             "blue",
             "blue",
             "orange",
             "orange"
            ],
            "size": 10
           },
           "mode": "markers",
           "type": "scatter",
           "x": [
            -1333.18994140625,
            503.42999267578125,
            356.8399963378906,
            -1258.1400146484375,
            -1089.1400146484375,
            -881.9400024414062
           ],
           "y": [
            -2959.14990234375,
            276.69000244140625,
            -4927.240234375,
            -3447.580078125,
            -147.32000732421875,
            -1674.1800537109375
           ]
          },
          {
           "marker": {
            "color": "black",
            "size": 10
           },
           "mode": "markers",
           "type": "scatter",
           "x": [
            -1317.8599853515625
           ],
           "y": [
            -3061.06005859375
           ]
          }
         ]
        },
        {
         "data": [
          {
           "marker": {
            "color": [
             "orange",
             "blue",
             "blue",
             "blue",
             "orange",
             "orange"
            ],
            "size": 10
           },
           "mode": "markers",
           "type": "scatter",
           "x": [
            -1333.18994140625,
            517.6699829101562,
            356.8399963378906,
            -1223.1099853515625,
            -1089.1400146484375,
            -883.9299926757812
           ],
           "y": [
            -2959.14990234375,
            241.22000122070312,
            -4927.240234375,
            -3364.5400390625,
            -147.32000732421875,
            -1654.2900390625
           ]
          },
          {
           "marker": {
            "color": "black",
            "size": 10
           },
           "mode": "markers",
           "type": "scatter",
           "x": [
            -1297.77001953125
           ],
           "y": [
            -3116.5
           ]
          }
         ]
        },
        {
         "data": [
          {
           "marker": {
            "color": [
             "orange",
             "blue",
             "blue",
             "blue",
             "orange",
             "orange"
            ],
            "size": 10
           },
           "mode": "markers",
           "type": "scatter",
           "x": [
            -1270.56005859375,
            567.510009765625,
            285.1099853515625,
            -1214.5899658203125,
            -1181.3199462890625,
            -883.9299926757812
           ],
           "y": [
            -3110.06005859375,
            117.18000030517578,
            -4947.60009765625,
            -3343.35009765625,
            -261.25,
            -1654.2900390625
           ]
          },
          {
           "marker": {
            "color": "black",
            "size": 10
           },
           "mode": "markers",
           "type": "scatter",
           "x": [
            -1264.469970703125
           ],
           "y": [
            -3219.090087890625
           ]
          }
         ]
        },
        {
         "data": [
          {
           "marker": {
            "color": [
             "orange",
             "blue",
             "blue",
             "blue",
             "orange",
             "orange"
            ],
            "size": 10
           },
           "mode": "markers",
           "type": "scatter",
           "x": [
            -1212.4599609375,
            567.510009765625,
            285.1099853515625,
            -1184.77001953125,
            -1255.6199951171875,
            -911.6199951171875
           ],
           "y": [
            -3250.93994140625,
            117.18000030517578,
            -4947.60009765625,
            -3269.2099609375,
            -369.4800109863281,
            -1550.1600341796875
           ]
          },
          {
           "marker": {
            "color": "black",
            "size": 10
           },
           "mode": "markers",
           "type": "scatter",
           "x": [
            -1235.969970703125
           ],
           "y": [
            -3306.8798828125
           ]
          }
         ]
        },
        {
         "data": [
          {
           "marker": {
            "color": [
             "orange",
             "blue",
             "blue",
             "blue",
             "orange",
             "orange"
            ],
            "size": 10
           },
           "mode": "markers",
           "type": "scatter",
           "x": [
            -1212.4599609375,
            652.8699951171875,
            230.05999755859375,
            -1184.77001953125,
            -1255.6199951171875,
            -911.6199951171875
           ],
           "y": [
            -3250.93994140625,
            -95.0199966430664,
            -4961.4501953125,
            -3269.2099609375,
            -369.4800109863281,
            -1550.1600341796875
           ]
          },
          {
           "marker": {
            "color": "black",
            "size": 10
           },
           "mode": "markers",
           "type": "scatter",
           "x": [
            -1217.010009765625
           ],
           "y": [
            -3365.330078125
           ]
          }
         ]
        },
        {
         "data": [
          {
           "marker": {
            "color": [
             "orange",
             "blue",
             "blue",
             "blue",
             "orange",
             "orange"
            ],
            "size": 10
           },
           "mode": "markers",
           "type": "scatter",
           "x": [
            -1132.6700439453125,
            652.8699951171875,
            185.1999969482422,
            -1133.6199951171875,
            -1342.1199951171875,
            -972.7100219726562
           ],
           "y": [
            -3445.02001953125,
            -95.0199966430664,
            -4971.93017578125,
            -3142.050048828125,
            -520.9199829101562,
            -1452.8699951171875
           ]
          },
          {
           "marker": {
            "color": "black",
            "size": 10
           },
           "mode": "markers",
           "type": "scatter",
           "x": [
            -1179.1300048828125
           ],
           "y": [
            -3482.050048828125
           ]
          }
         ]
        },
        {
         "data": [
          {
           "marker": {
            "color": [
             "orange",
             "blue",
             "blue",
             "blue",
             "orange",
             "orange"
            ],
            "size": 10
           },
           "mode": "markers",
           "type": "scatter",
           "x": [
            -1132.6700439453125,
            716.7899780273438,
            185.1999969482422,
            -1133.6199951171875,
            -1342.1199951171875,
            -972.7100219726562
           ],
           "y": [
            -3445.02001953125,
            -253.7899932861328,
            -4971.93017578125,
            -3142.050048828125,
            -520.9199829101562,
            -1452.8699951171875
           ]
          },
          {
           "marker": {
            "color": "black",
            "size": 10
           },
           "mode": "markers",
           "type": "scatter",
           "x": [
            -1164.93994140625
           ],
           "y": [
            -3525.760009765625
           ]
          }
         ]
        },
        {
         "data": [
          {
           "marker": {
            "color": [
             "orange",
             "blue",
             "blue",
             "blue",
             "orange",
             "orange"
            ],
            "size": 10
           },
           "mode": "markers",
           "type": "scatter",
           "x": [
            -1072.4599609375,
            730.989990234375,
            134.8000030517578,
            -1086.4200439453125,
            -1398.1300048828125,
            -1020.3599853515625
           ],
           "y": [
            -3592.080078125,
            -289.0299987792969,
            -4983.72021484375,
            -3025.800048828125,
            -638.5800170898438,
            -1405.9100341796875
           ]
          },
          {
           "marker": {
            "color": "black",
            "size": 10
           },
           "mode": "markers",
           "type": "scatter",
           "x": [
            -1136.6099853515625
           ],
           "y": [
            -3613.070068359375
           ]
          }
         ]
        },
        {
         "data": [
          {
           "marker": {
            "color": [
             "orange",
             "blue",
             "blue",
             "blue",
             "orange",
             "orange"
            ],
            "size": 10
           },
           "mode": "markers",
           "type": "scatter",
           "x": [
            -1072.4599609375,
            787.7899780273438,
            123.63999938964844,
            -1086.4200439453125,
            -1398.1300048828125,
            -1020.3599853515625
           ],
           "y": [
            -3592.080078125,
            -429.92999267578125,
            -4986.33984375,
            -3025.800048828125,
            -638.5800170898438,
            -1405.9100341796875
           ]
          },
          {
           "marker": {
            "color": "black",
            "size": 10
           },
           "mode": "markers",
           "type": "scatter",
           "x": [
            -1127.1700439453125
           ],
           "y": [
            -3642.14990234375
           ]
          }
         ]
        },
        {
         "data": [
          {
           "marker": {
            "color": [
             "orange",
             "blue",
             "blue",
             "blue",
             "orange",
             "orange"
            ],
            "size": 10
           },
           "mode": "markers",
           "type": "scatter",
           "x": [
            -1005.5599975585938,
            787.7899780273438,
            123.63999938964844,
            -1051.8299560546875,
            -1438.9599609375,
            -1099.4000244140625
           ],
           "y": [
            -3755.47998046875,
            -429.92999267578125,
            -4986.33984375,
            -2941.449951171875,
            -747.3900146484375,
            -1351.989990234375
           ]
          },
          {
           "marker": {
            "color": "black",
            "size": 10
           },
           "mode": "markers",
           "type": "scatter",
           "x": [
            -1089.47998046875
           ],
           "y": [
            -3758.300048828125
           ]
          }
         ]
        },
        {
         "data": [
          {
           "marker": {
            "color": [
             "orange",
             "blue",
             "blue",
             "blue",
             "orange",
             "orange"
            ],
            "size": 10
           },
           "mode": "markers",
           "type": "scatter",
           "x": [
            -992.1799926757812,
            865.8900146484375,
            58.4900016784668,
            -1051.8299560546875,
            -1438.9599609375,
            -1177.5699462890625
           ],
           "y": [
            -3788.159912109375,
            -623.5499877929688,
            -5001.7900390625,
            -2941.449951171875,
            -747.3900146484375,
            -1316.5
           ]
          },
          {
           "marker": {
            "color": "black",
            "size": 10
           },
           "mode": "markers",
           "type": "scatter",
           "x": [
            -1070.6700439453125
           ],
           "y": [
            -3816.280029296875
           ]
          }
         ]
        },
        {
         "data": [
          {
           "marker": {
            "color": [
             "orange",
             "blue",
             "blue",
             "blue",
             "orange",
             "orange"
            ],
            "size": 10
           },
           "mode": "markers",
           "type": "scatter",
           "x": [
            -931.969970703125,
            865.8900146484375,
            21.920000076293945,
            -1003.8699951171875,
            -1477.010009765625,
            -1177.5699462890625
           ],
           "y": [
            -3935.219970703125,
            -623.5499877929688,
            -5010.41015625,
            -2825.679931640625,
            -907.97998046875,
            -1316.5
           ]
          },
          {
           "marker": {
            "color": "black",
            "size": 10
           },
           "mode": "markers",
           "type": "scatter",
           "x": [
            -1037.7900390625
           ],
           "y": [
            -3917.610107421875
           ]
          }
         ]
        },
        {
         "data": [
          {
           "marker": {
            "color": [
             "orange",
             "blue",
             "blue",
             "blue",
             "orange",
             "orange"
            ],
            "size": 10
           },
           "mode": "markers",
           "type": "scatter",
           "x": [
            -931.969970703125,
            936.8900146484375,
            10.859999656677246,
            -1003.8699951171875,
            -1477.010009765625,
            -1177.5699462890625
           ],
           "y": [
            -3935.219970703125,
            -799.6900024414062,
            -5012.89013671875,
            -2825.679931640625,
            -907.97998046875,
            -1316.5
           ]
          },
          {
           "marker": {
            "color": "black",
            "size": 10
           },
           "mode": "markers",
           "type": "scatter",
           "x": [
            -1019.030029296875
           ],
           "y": [
            -3975.429931640625
           ]
          }
         ]
        },
        {
         "data": [
          {
           "marker": {
            "color": [
             "orange",
             "blue",
             "blue",
             "blue",
             "orange",
             "orange"
            ],
            "size": 10
           },
           "mode": "markers",
           "type": "scatter",
           "x": [
            -878.4500122070312,
            936.8900146484375,
            -35.959999084472656,
            -959.8499755859375,
            -1490.239990234375,
            -1306.31005859375
           ],
           "y": [
            -4065.93994140625,
            -799.6900024414062,
            -5022.68994140625,
            -2720.47998046875,
            -1062.25,
            -1293.97998046875
           ]
          },
          {
           "marker": {
            "color": "black",
            "size": 10
           },
           "mode": "markers",
           "type": "scatter",
           "x": [
            -990.9299926757812
           ],
           "y": [
            -4062.06005859375
           ]
          }
         ]
        },
        {
         "data": [
          {
           "marker": {
            "color": [
             "orange",
             "blue",
             "blue",
             "blue",
             "orange",
             "orange"
            ],
            "size": 10
           },
           "mode": "markers",
           "type": "scatter",
           "x": [
            -878.4500122070312,
            1007.8900146484375,
            -35.959999084472656,
            -959.8499755859375,
            -1493.31005859375,
            -1379.699951171875
           ],
           "y": [
            -4065.93994140625,
            -976.0499877929688,
            -5022.68994140625,
            -2720.47998046875,
            -1183.010009765625,
            -1301.9100341796875
           ]
          },
          {
           "marker": {
            "color": "black",
            "size": 10
           },
           "mode": "markers",
           "type": "scatter",
           "x": [
            -972.2100219726562
           ],
           "y": [
            -4119.72998046875
           ]
          }
         ]
        },
        {
         "data": [
          {
           "marker": {
            "color": [
             "orange",
             "blue",
             "blue",
             "blue",
             "orange",
             "orange"
            ],
            "size": 10
           },
           "mode": "markers",
           "type": "scatter",
           "x": [
            -818.239990234375,
            1007.8900146484375,
            -106.33000183105469,
            -919.9000244140625,
            -1493.31005859375,
            -1379.699951171875
           ],
           "y": [
            -4213,
            -976.0499877929688,
            -5035.16015625,
            -2625.72998046875,
            -1183.010009765625,
            -1301.9100341796875
           ]
          },
          {
           "marker": {
            "color": "black",
            "size": 10
           },
           "mode": "markers",
           "type": "scatter",
           "x": [
            -939.52001953125
           ],
           "y": [
            -4220.52001953125
           ]
          }
         ]
        },
        {
         "data": [
          {
           "marker": {
            "color": [
             "orange",
             "blue",
             "blue",
             "blue",
             "orange",
             "orange"
            ],
            "size": 10
           },
           "mode": "markers",
           "type": "scatter",
           "x": [
            -751.3400268554688,
            1086.06005859375,
            -106.33000183105469,
            -875.219970703125,
            -1547.7900390625,
            -1457.1600341796875
           ],
           "y": [
            -4376.39990234375,
            -1170.3800048828125,
            -5035.16015625,
            -2520.2099609375,
            -1301.4200439453125,
            -1402.3599853515625
           ]
          },
          {
           "marker": {
            "color": "black",
            "size": 10
           },
           "mode": "markers",
           "type": "scatter",
           "x": [
            -911.5499877929688
           ],
           "y": [
            -4306.77001953125
           ]
          }
         ]
        },
        {
         "data": [
          {
           "marker": {
            "color": [
             "orange",
             "blue",
             "blue",
             "blue",
             "orange",
             "orange"
            ],
            "size": 10
           },
           "mode": "markers",
           "type": "scatter",
           "x": [
            -751.3400268554688,
            1086.06005859375,
            -174.47999572753906,
            -875.219970703125,
            -1547.7900390625,
            -1457.1600341796875
           ],
           "y": [
            -4376.39990234375,
            -1170.3800048828125,
            -5044.39013671875,
            -2520.2099609375,
            -1301.4200439453125,
            -1402.3599853515625
           ]
          },
          {
           "marker": {
            "color": "black",
            "size": 10
           },
           "mode": "markers",
           "type": "scatter",
           "x": [
            -892.9199829101562
           ],
           "y": [
            -4364.18994140625
           ]
          }
         ]
        },
        {
         "data": [
          {
           "marker": {
            "color": [
             "orange",
             "blue",
             "blue",
             "blue",
             "orange",
             "orange"
            ],
            "size": 10
           },
           "mode": "markers",
           "type": "scatter",
           "x": [
            -751.3400268554688,
            1155.3199462890625,
            -174.47999572753906,
            -875.219970703125,
            -1547.7900390625,
            -1457.1600341796875
           ],
           "y": [
            -4376.39990234375,
            -1347.4599609375,
            -5044.39013671875,
            -2520.2099609375,
            -1301.4200439453125,
            -1402.3599853515625
           ]
          },
          {
           "marker": {
            "color": "black",
            "size": 10
           },
           "mode": "markers",
           "type": "scatter",
           "x": [
            -874.3200073242188
           ],
           "y": [
            -4421.56005859375
           ]
          }
         ]
        },
        {
         "data": [
          {
           "marker": {
            "color": [
             "orange",
             "blue",
             "blue",
             "blue",
             "orange",
             "orange"
            ],
            "size": 10
           },
           "mode": "markers",
           "type": "scatter",
           "x": [
            -676.3300170898438,
            1167.0799560546875,
            -174.47999572753906,
            -825.8699951171875,
            -1585.0799560546875,
            -1588.27001953125
           ],
           "y": [
            -4555.77001953125,
            -1383.030029296875,
            -5044.39013671875,
            -2403.719970703125,
            -1394.449951171875,
            -1565.699951171875
           ]
          },
          {
           "marker": {
            "color": "black",
            "size": 10
           },
           "mode": "markers",
           "type": "scatter",
           "x": [
            -860.3699951171875
           ],
           "y": [
            -4464.5498046875
           ]
          }
         ]
        },
        {
         "data": [
          {
           "marker": {
            "color": [
             "orange",
             "blue",
             "blue",
             "blue",
             "orange",
             "orange"
            ],
            "size": 10
           },
           "mode": "markers",
           "type": "scatter",
           "x": [
            -676.3300170898438,
            1202.25,
            -237.0500030517578,
            -825.8699951171875,
            -1585.0799560546875,
            -1588.27001953125
           ],
           "y": [
            -4555.77001953125,
            -1508.31005859375,
            -5050.2900390625,
            -2403.719970703125,
            -1394.449951171875,
            -1565.699951171875
           ]
          },
          {
           "marker": {
            "color": "black",
            "size": 10
           },
           "mode": "markers",
           "type": "scatter",
           "x": [
            -832.530029296875
           ],
           "y": [
            -4550.419921875
           ]
          }
         ]
        },
        {
         "data": [
          {
           "marker": {
            "color": [
             "orange",
             "blue",
             "blue",
             "blue",
             "orange",
             "orange"
            ],
            "size": 10
           },
           "mode": "markers",
           "type": "scatter",
           "x": [
            -601.4500122070312,
            1202.25,
            -305.8500061035156,
            -780.969970703125,
            -1618.6300048828125,
            -1686.02001953125
           ],
           "y": [
            -4717.2998046875,
            -1508.31005859375,
            -5053.5400390625,
            -2297.719970703125,
            -1472.43994140625,
            -1694.6199951171875
           ]
          },
          {
           "marker": {
            "color": "black",
            "size": 10
           },
           "mode": "markers",
           "type": "scatter",
           "x": [
            -804.72998046875
           ],
           "y": [
            -4636.16015625
           ]
          }
         ]
        },
        {
         "data": [
          {
           "marker": {
            "color": [
             "orange",
             "blue",
             "blue",
             "blue",
             "orange",
             "orange"
            ],
            "size": 10
           },
           "mode": "markers",
           "type": "scatter",
           "x": [
            -601.4500122070312,
            1246.5699462890625,
            -319.3900146484375,
            -780.969970703125,
            -1618.6300048828125,
            -1686.02001953125
           ],
           "y": [
            -4717.2998046875,
            -1688.06005859375,
            -5053.72021484375,
            -2297.719970703125,
            -1472.43994140625,
            -1694.6199951171875
           ]
          },
          {
           "marker": {
            "color": "black",
            "size": 10
           },
           "mode": "markers",
           "type": "scatter",
           "x": [
            -786.2100219726562
           ],
           "y": [
            -4693.25
           ]
          }
         ]
        },
        {
         "data": [
          {
           "marker": {
            "color": [
             "orange",
             "blue",
             "blue",
             "blue",
             "orange",
             "orange"
            ],
            "size": 10
           },
           "mode": "markers",
           "type": "scatter",
           "x": [
            -536.4500122070312,
            1246.5699462890625,
            -319.3900146484375,
            -731.5800170898438,
            -1648.6199951171875,
            -1774.3299560546875
           ],
           "y": [
            -4845.60009765625,
            -1688.06005859375,
            -5053.72021484375,
            -2181.1201171875,
            -1533.18994140625,
            -1810.8599853515625
           ]
          },
          {
           "marker": {
            "color": "black",
            "size": 10
           },
           "mode": "markers",
           "type": "scatter",
           "x": [
            -772.3499755859375
           ],
           "y": [
            -4736.02978515625
           ]
          }
         ]
        },
        {
         "data": [
          {
           "marker": {
            "color": [
             "orange",
             "blue",
             "blue",
             "blue",
             "orange",
             "orange"
            ],
            "size": 10
           },
           "mode": "markers",
           "type": "scatter",
           "x": [
            -536.4500122070312,
            1283.219970703125,
            -392.0899963378906,
            -722.5999755859375,
            -1687.010009765625,
            -1774.3299560546875
           ],
           "y": [
            -4845.60009765625,
            -1887.6300048828125,
            -5051.419921875,
            -2159.919921875,
            -1598.8499755859375,
            -1810.8599853515625
           ]
          },
          {
           "marker": {
            "color": "black",
            "size": 10
           },
           "mode": "markers",
           "type": "scatter",
           "x": [
            -735.4099731445312
           ],
           "y": [
            -4849.93994140625
           ]
          }
         ]
        },
        {
         "data": [
          {
           "marker": {
            "color": [
             "orange",
             "blue",
             "blue",
             "blue",
             "orange",
             "orange"
            ],
            "size": 10
           },
           "mode": "markers",
           "type": "scatter",
           "x": [
            -440.6300048828125,
            1287.260009765625,
            -392.0899963378906,
            -722.5999755859375,
            -1696.2900390625,
            -1872.8499755859375
           ],
           "y": [
            -5021.77978515625,
            -1924.1400146484375,
            -5051.419921875,
            -2159.919921875,
            -1613.239990234375,
            -1940.199951171875
           ]
          },
          {
           "marker": {
            "color": "black",
            "size": 10
           },
           "mode": "markers",
           "type": "scatter",
           "x": [
            -726.1900024414062
           ],
           "y": [
            -4878.3798828125
           ]
          }
         ]
        },
        {
         "data": [
          {
           "marker": {
            "color": [
             "orange",
             "blue",
             "blue",
             "blue",
             "orange",
             "orange"
            ],
            "size": 10
           },
           "mode": "markers",
           "type": "scatter",
           "x": [
            -440.6300048828125,
            1293.3399658203125,
            -406.2799987792969,
            -668.719970703125,
            -1734.5999755859375,
            -1872.8499755859375
           ],
           "y": [
            -5021.77978515625,
            -2070.090087890625,
            -5123.8701171875,
            -2032.719970703125,
            -1671.5,
            -1940.199951171875
           ]
          },
          {
           "marker": {
            "color": "black",
            "size": 10
           },
           "mode": "markers",
           "type": "scatter",
           "x": [
            -689.3499755859375
           ],
           "y": [
            -4991.990234375
           ]
          }
         ]
        },
        {
         "data": [
          {
           "marker": {
            "color": [
             "orange",
             "blue",
             "blue",
             "blue",
             "orange",
             "orange"
            ],
            "size": 10
           },
           "mode": "markers",
           "type": "scatter",
           "x": [
            -358,
            1293.3399658203125,
            -396.5,
            -668.719970703125,
            -1734.5999755859375,
            -1981.719970703125
           ],
           "y": [
            -5120.68994140625,
            -2070.090087890625,
            -5206.1298828125,
            -2032.719970703125,
            -1671.5,
            -2082.659912109375
           ]
          },
          {
           "marker": {
            "color": "black",
            "size": 10
           },
           "mode": "markers",
           "type": "scatter",
           "x": [
            -668.4500122070312
           ],
           "y": [
            -5012.89990234375
           ]
          }
         ]
        },
        {
         "data": [
          {
           "marker": {
            "color": [
             "orange",
             "blue",
             "blue",
             "blue",
             "orange",
             "orange"
            ],
            "size": 10
           },
           "mode": "markers",
           "type": "scatter",
           "x": [
            -297.7900085449219,
            1273.199951171875,
            -393.5400085449219,
            -628.3099975585938,
            -1782.56005859375,
            -2061.219970703125
           ],
           "y": [
            -5117.56982421875,
            -2267.260009765625,
            -5229.02001953125,
            -1937.1199951171875,
            -1757.6700439453125,
            -2186.3798828125
           ]
          },
          {
           "marker": {
            "color": "black",
            "size": 10
           },
           "mode": "markers",
           "type": "scatter",
           "x": [
            -647.1500244140625
           ],
           "y": [
            -4961.93017578125
           ]
          }
         ]
        },
        {
         "data": [
          {
           "marker": {
            "color": [
             "orange",
             "blue",
             "blue",
             "blue",
             "orange",
             "orange"
            ],
            "size": 10
           },
           "mode": "markers",
           "type": "scatter",
           "x": [
            -297.7900085449219,
            1273.199951171875,
            -390.57000732421875,
            -583.3300170898438,
            -1782.56005859375,
            -2061.219970703125
           ],
           "y": [
            -5117.56982421875,
            -2267.260009765625,
            -5326.68017578125,
            -1830.530029296875,
            -1757.6700439453125,
            -2186.3798828125
           ]
          },
          {
           "marker": {
            "color": "black",
            "size": 10
           },
           "mode": "markers",
           "type": "scatter",
           "x": [
            -625.9000244140625
           ],
           "y": [
            -4911.02978515625
           ]
          }
         ]
        },
        {
         "data": [
          {
           "marker": {
            "color": [
             "orange",
             "blue",
             "blue",
             "blue",
             "orange",
             "orange"
            ],
            "size": 10
           },
           "mode": "markers",
           "type": "scatter",
           "x": [
            -216.47000122070312,
            1225.760009765625,
            -390.57000732421875,
            -583.3300170898438,
            -1814.8499755859375,
            -2160.97998046875
           ],
           "y": [
            -5120.080078125,
            -2438.169921875,
            -5326.68017578125,
            -1830.530029296875,
            -1842.3399658203125,
            -2316.179931640625
           ]
          },
          {
           "marker": {
            "color": "black",
            "size": 10
           },
           "mode": "markers",
           "type": "scatter",
           "x": [
            -611.739990234375
           ],
           "y": [
            -4877.14990234375
           ]
          }
         ]
        },
        {
         "data": [
          {
           "marker": {
            "color": [
             "orange",
             "blue",
             "blue",
             "blue",
             "orange",
             "orange"
            ],
            "size": 10
           },
           "mode": "markers",
           "type": "scatter",
           "x": [
            -216.47000122070312,
            1225.760009765625,
            -403.6700134277344,
            -542.72998046875,
            -1814.8499755859375,
            -2160.97998046875
           ],
           "y": [
            -5120.080078125,
            -2438.169921875,
            -5376.7900390625,
            -1734.280029296875,
            -1842.3399658203125,
            -2316.179931640625
           ]
          },
          {
           "marker": {
            "color": "black",
            "size": 10
           },
           "mode": "markers",
           "type": "scatter",
           "x": [
            -594.0700073242188
           ],
           "y": [
            -4834.83984375
           ]
          }
         ]
        },
        {
         "data": [
          {
           "marker": {
            "color": [
             "orange",
             "blue",
             "blue",
             "blue",
             "orange",
             "orange"
            ],
            "size": 10
           },
           "mode": "markers",
           "type": "scatter",
           "x": [
            -137.2100067138672,
            1160.52001953125,
            -403.6700134277344,
            -542.72998046875,
            -1829.4599609375,
            -2160.97998046875
           ],
           "y": [
            -5124.419921875,
            -2581.280029296875,
            -5376.7900390625,
            -1734.280029296875,
            -1924.9200439453125,
            -2316.179931640625
           ]
          },
          {
           "marker": {
            "color": "black",
            "size": 10
           },
           "mode": "markers",
           "type": "scatter",
           "x": [
            -579.9500122070312
           ],
           "y": [
            -4801.02978515625
           ]
          }
         ]
        },
        {
         "data": [
          {
           "marker": {
            "color": [
             "orange",
             "blue",
             "blue",
             "blue",
             "orange",
             "orange"
            ],
            "size": 10
           },
           "mode": "markers",
           "type": "scatter",
           "x": [
            -118.86000061035156,
            1160.52001953125,
            -413.80999755859375,
            -497.5299987792969,
            -1829.4599609375,
            -2299.22998046875
           ],
           "y": [
            -5125.419921875,
            -2581.280029296875,
            -5396.93017578125,
            -1627.1800537109375,
            -1924.9200439453125,
            -2470.989990234375
           ]
          },
          {
           "marker": {
            "color": "black",
            "size": 10
           },
           "mode": "markers",
           "type": "scatter",
           "x": [
            -558.7899780273438
           ],
           "y": [
            -4750.3798828125
           ]
          }
         ]
        },
        {
         "data": [
          {
           "marker": {
            "color": [
             "orange",
             "blue",
             "blue",
             "blue",
             "orange",
             "orange"
            ],
            "size": 10
           },
           "mode": "markers",
           "type": "scatter",
           "x": [
            -27.059999465942383,
            1086.1600341796875,
            -413.80999755859375,
            -497.5299987792969,
            -1826.7900390625,
            -2299.22998046875
           ],
           "y": [
            -5130.419921875,
            -2697.419921875,
            -5396.93017578125,
            -1627.1800537109375,
            -2002.8399658203125,
            -2470.989990234375
           ]
          },
          {
           "marker": {
            "color": "black",
            "size": 10
           },
           "mode": "markers",
           "type": "scatter",
           "x": [
            -537.6699829101562
           ],
           "y": [
            -4699.81982421875
           ]
          }
         ]
        },
        {
         "data": [
          {
           "marker": {
            "color": [
             "orange",
             "blue",
             "blue",
             "blue",
             "orange",
             "orange"
            ],
            "size": 10
           },
           "mode": "markers",
           "type": "scatter",
           "x": [
            -27.059999465942383,
            988.4199829101562,
            -412.20001220703125,
            -447.80999755859375,
            -1803.739990234375,
            -2396.3798828125
           ],
           "y": [
            -5130.419921875,
            -2816.1201171875,
            -5399.58984375,
            -1509.3699951171875,
            -2091.409912109375,
            -2574.409912109375
           ]
          },
          {
           "marker": {
            "color": "black",
            "size": 10
           },
           "mode": "markers",
           "type": "scatter",
           "x": [
            -520.0999755859375
           ],
           "y": [
            -4657.740234375
           ]
          }
         ]
        },
        {
         "data": [
          {
           "marker": {
            "color": [
             "orange",
             "blue",
             "blue",
             "blue",
             "orange",
             "orange"
            ],
            "size": 10
           },
           "mode": "markers",
           "type": "scatter",
           "x": [
            73.91999816894531,
            966.0499877929688,
            -412.20001220703125,
            -447.80999755859375,
            -1795.75,
            -2503.010009765625
           ],
           "y": [
            -5135.919921875,
            -2841.929931640625,
            -5399.58984375,
            -1509.3699951171875,
            -2110.81005859375,
            -2689.9599609375
           ]
          },
          {
           "marker": {
            "color": "black",
            "size": 10
           },
           "mode": "markers",
           "type": "scatter",
           "x": [
            -499.0400085449219
           ],
           "y": [
            -4607.31005859375
           ]
          }
         ]
        },
        {
         "data": [
          {
           "marker": {
            "color": [
             "orange",
             "blue",
             "blue",
             "blue",
             "orange",
             "orange"
            ],
            "size": 10
           },
           "mode": "markers",
           "type": "scatter",
           "x": [
            73.91999816894531,
            854.0399780273438,
            -409.8500061035156,
            -393.57000732421875,
            -1741.4000244140625,
            -2525.1201171875
           ],
           "y": [
            -5135.919921875,
            -2971.1201171875,
            -5399.2998046875,
            -1380.8499755859375,
            -2204.39990234375,
            -2712.25
           ]
          },
          {
           "marker": {
            "color": "black",
            "size": 10
           },
           "mode": "markers",
           "type": "scatter",
           "x": [
            -478.0199890136719
           ],
           "y": [
            -4556.9599609375
           ]
          }
         ]
        },
        {
         "data": [
          {
           "marker": {
            "color": [
             "orange",
             "blue",
             "blue",
             "blue",
             "orange",
             "orange"
            ],
            "size": 10
           },
           "mode": "markers",
           "type": "scatter",
           "x": [
            165.72000122070312,
            854.0399780273438,
            -406.6600036621094,
            -393.57000732421875,
            -1741.4000244140625,
            -2617.919921875
           ],
           "y": [
            -5140.919921875,
            -2971.1201171875,
            -5398.35009765625,
            -1380.8499755859375,
            -2204.39990234375,
            -2796.090087890625
           ]
          },
          {
           "marker": {
            "color": "black",
            "size": 10
           },
           "mode": "markers",
           "type": "scatter",
           "x": [
            -460.5199890136719
           ],
           "y": [
            -4515.06982421875
           ]
          }
         ]
        },
        {
         "data": [
          {
           "marker": {
            "color": [
             "orange",
             "blue",
             "blue",
             "blue",
             "orange",
             "orange"
            ],
            "size": 10
           },
           "mode": "markers",
           "type": "scatter",
           "x": [
            165.72000122070312,
            775.5800170898438,
            -406.6600036621094,
            -361.92999267578125,
            -1690.18994140625,
            -2617.919921875
           ],
           "y": [
            -5140.919921875,
            -3061.52001953125,
            -5398.35009765625,
            -1305.8800048828125,
            -2265.010009765625,
            -2796.090087890625
           ]
          },
          {
           "marker": {
            "color": "black",
            "size": 10
           },
           "mode": "markers",
           "type": "scatter",
           "x": [
            -439.55999755859375
           ],
           "y": [
            -4464.8701171875
           ]
          }
         ]
        },
        {
         "data": [
          {
           "marker": {
            "color": [
             "orange",
             "blue",
             "blue",
             "blue",
             "orange",
             "orange"
            ],
            "size": 10
           },
           "mode": "markers",
           "type": "scatter",
           "x": [
            248.33999633789062,
            659.3400268554688,
            -402.70001220703125,
            -361.92999267578125,
            -1601.47998046875,
            -2757.639892578125
           ],
           "y": [
            -5145.419921875,
            -3193.31005859375,
            -5397.25,
            -1305.8800048828125,
            -2340.669921875,
            -2893.110107421875
           ]
          },
          {
           "marker": {
            "color": "black",
            "size": 10
           },
           "mode": "markers",
           "type": "scatter",
           "x": [
            -425.6000061035156
           ],
           "y": [
            -4431.43994140625
           ]
          }
         ]
        },
        {
         "data": [
          {
           "marker": {
            "color": [
             "orange",
             "blue",
             "blue",
             "blue",
             "orange",
             "orange"
            ],
            "size": 10
           },
           "mode": "markers",
           "type": "scatter",
           "x": [
            330.9599914550781,
            635.3599853515625,
            -402.70001220703125,
            -298.54998779296875,
            -1582.2099609375,
            -2757.639892578125
           ],
           "y": [
            -5149.919921875,
            -3220.1298828125,
            -5397.25,
            -1155.93994140625,
            -2353.68994140625,
            -2893.110107421875
           ]
          },
          {
           "marker": {
            "color": "black",
            "size": 10
           },
           "mode": "markers",
           "type": "scatter",
           "x": [
            -401.2099914550781
           ],
           "y": [
            -4373.02978515625
           ]
          }
         ]
        },
        {
         "data": [
          {
           "marker": {
            "color": [
             "orange",
             "blue",
             "blue",
             "blue",
             "orange",
             "orange"
            ],
            "size": 10
           },
           "mode": "markers",
           "type": "scatter",
           "x": [
            349.32000732421875,
            549.4099731445312,
            -398,
            -298.54998779296875,
            -1511.5799560546875,
            -2907.919921875
           ],
           "y": [
            -5150.919921875,
            -3315.080078125,
            -5395.77978515625,
            -1155.93994140625,
            -2393.330078125,
            -2965.81005859375
           ]
          },
          {
           "marker": {
            "color": "black",
            "size": 10
           },
           "mode": "markers",
           "type": "scatter",
           "x": [
            -387.2900085449219
           ],
           "y": [
            -4339.7001953125
           ]
          }
         ]
        },
        {
         "data": [
          {
           "marker": {
            "color": [
             "orange",
             "blue",
             "blue",
             "blue",
             "orange",
             "orange"
            ],
            "size": 10
           },
           "mode": "markers",
           "type": "scatter",
           "x": [
            349.32000732421875,
            549.4099731445312,
            -398,
            -257.5199890136719,
            -1511.5799560546875,
            -2907.919921875
           ],
           "y": [
            -5150.919921875,
            -3315.080078125,
            -5395.77978515625,
            -1059.469970703125,
            -2393.330078125,
            -2965.81005859375
           ]
          },
          {
           "marker": {
            "color": "black",
            "size": 10
           },
           "mode": "markers",
           "type": "scatter",
           "x": [
            -373.3800048828125
           ],
           "y": [
            -4306.41015625
           ]
          }
         ]
        },
        {
         "data": [
          {
           "marker": {
            "color": [
             "orange",
             "blue",
             "blue",
             "blue",
             "orange",
             "orange"
            ],
            "size": 10
           },
           "mode": "markers",
           "type": "scatter",
           "x": [
            422.95001220703125,
            422.2900085449219,
            -393.2200012207031,
            -257.5199890136719,
            -1511.5799560546875,
            -3049.280029296875
           ],
           "y": [
            -5154.83984375,
            -3451.9599609375,
            -5394.02978515625,
            -1059.469970703125,
            -2393.330078125,
            -3004.719970703125
           ]
          },
          {
           "marker": {
            "color": "black",
            "size": 10
           },
           "mode": "markers",
           "type": "scatter",
           "x": [
            -352.55999755859375
           ],
           "y": [
            -4256.52978515625
           ]
          }
         ]
        },
        {
         "data": [
          {
           "marker": {
            "color": [
             "orange",
             "blue",
             "blue",
             "blue",
             "orange",
             "orange"
            ],
            "size": 10
           },
           "mode": "markers",
           "type": "scatter",
           "x": [
            509.67999267578125,
            396.4700012207031,
            -393.2200012207031,
            -211.9199981689453,
            -1383.1199951171875,
            -3049.280029296875
           ],
           "y": [
            -5157.3798828125,
            -3479.179931640625,
            -5394.02978515625,
            -952.27001953125,
            -2440.570068359375,
            -3004.719970703125
           ]
          },
          {
           "marker": {
            "color": "black",
            "size": 10
           },
           "mode": "markers",
           "type": "scatter",
           "x": [
            -338.67999267578125
           ],
           "y": [
            -4223.31982421875
           ]
          }
         ]
        },
        {
         "data": [
          {
           "marker": {
            "color": [
             "orange",
             "blue",
             "blue",
             "blue",
             "orange",
             "orange"
            ],
            "size": 10
           },
           "mode": "markers",
           "type": "scatter",
           "x": [
            529.6699829101562,
            278.5899963378906,
            -385.42999267578125,
            -211.9199981689453,
            -1383.1199951171875,
            -3175.340087890625
           ],
           "y": [
            -5157.56005859375,
            -3600.75,
            -5389.759765625,
            -952.27001953125,
            -2440.570068359375,
            -3010.669921875
           ]
          },
          {
           "marker": {
            "color": "black",
            "size": 10
           },
           "mode": "markers",
           "type": "scatter",
           "x": [
            -314.4599914550781
           ],
           "y": [
            -4165.2900390625
           ]
          }
         ]
        },
        {
         "data": [
          {
           "marker": {
            "color": [
             "orange",
             "blue",
             "blue",
             "blue",
             "orange",
             "orange"
            ],
            "size": 10
           },
           "mode": "markers",
           "type": "scatter",
           "x": [
            633.3900146484375,
            278.5899963378906,
            -385.42999267578125,
            -161.75999450683594,
            -1241.0899658203125,
            -3281.72998046875
           ],
           "y": [
            -5156.22998046875,
            -3600.75,
            -5389.759765625,
            -834.3499755859375,
            -2456.0400390625,
            -2992.4599609375
           ]
          },
          {
           "marker": {
            "color": "black",
            "size": 10
           },
           "mode": "markers",
           "type": "scatter",
           "x": [
            -300.6199951171875
           ],
           "y": [
            -4132.169921875
           ]
          }
         ]
        },
        {
         "data": [
          {
           "marker": {
            "color": [
             "orange",
             "blue",
             "blue",
             "blue",
             "orange",
             "orange"
            ],
            "size": 10
           },
           "mode": "markers",
           "type": "scatter",
           "x": [
            633.3900146484375,
            278.5899963378906,
            -371.32000732421875,
            -161.75999450683594,
            -1241.0899658203125,
            -3281.72998046875
           ],
           "y": [
            -5156.22998046875,
            -3600.75,
            -5380.93994140625,
            -834.3499755859375,
            -2456.0400390625,
            -2992.4599609375
           ]
          },
          {
           "marker": {
            "color": "black",
            "size": 10
           },
           "mode": "markers",
           "type": "scatter",
           "x": [
            -286.82000732421875
           ],
           "y": [
            -4099.08984375
           ]
          }
         ]
        },
        {
         "data": [
          {
           "marker": {
            "color": [
             "orange",
             "blue",
             "blue",
             "blue",
             "orange",
             "orange"
            ],
            "size": 10
           },
           "mode": "markers",
           "type": "scatter",
           "x": [
            732.0499877929688,
            116.79000091552734,
            -371.32000732421875,
            -116.16000366210938,
            -1137.3599853515625,
            -3391.590087890625
           ],
           "y": [
            -5151.66015625,
            -3760.02001953125,
            -5380.93994140625,
            -727.1500244140625,
            -2436.60009765625,
            -2949.7099609375
           ]
          },
          {
           "marker": {
            "color": "black",
            "size": 10
           },
           "mode": "markers",
           "type": "scatter",
           "x": [
            -262.6700134277344
           ],
           "y": [
            -4041.2900390625
           ]
          }
         ]
        },
        {
         "data": [
          {
           "marker": {
            "color": [
             "orange",
             "blue",
             "blue",
             "blue",
             "orange",
             "orange"
            ],
            "size": 10
           },
           "mode": "markers",
           "type": "scatter",
           "x": [
            732.0499877929688,
            -8.15999984741211,
            -353.8500061035156,
            -84.26000213623047,
            -1070.9100341796875,
            -3391.590087890625
           ],
           "y": [
            -5151.66015625,
            -3876.929931640625,
            -5369.47021484375,
            -652.0900268554688,
            -2407.669921875,
            -2949.7099609375
           ]
          },
          {
           "marker": {
            "color": "black",
            "size": 10
           },
           "mode": "markers",
           "type": "scatter",
           "x": [
            -242.02999877929688
           ],
           "y": [
            -3991.820068359375
           ]
          }
         ]
        },
        {
         "data": [
          {
           "marker": {
            "color": [
             "orange",
             "blue",
             "blue",
             "blue",
             "orange",
             "orange"
            ],
            "size": 10
           },
           "mode": "markers",
           "type": "scatter",
           "x": [
            839.8699951171875,
            -8.15999984741211,
            -332.8500061035156,
            -84.26000213623047,
            -1070.9100341796875,
            -3519.679931640625
           ],
           "y": [
            -5140.72998046875,
            -3876.929931640625,
            -5355.5400390625,
            -652.0900268554688,
            -2407.669921875,
            -2865.610107421875
           ]
          },
          {
           "marker": {
            "color": "black",
            "size": 10
           },
           "mode": "markers",
           "type": "scatter",
           "x": [
            -235.8699951171875
           ],
           "y": [
            -3945.56005859375
           ]
          }
         ]
        },
        {
         "data": [
          {
           "marker": {
            "color": [
             "orange",
             "blue",
             "blue",
             "blue",
             "orange",
             "orange"
            ],
            "size": 10
           },
           "mode": "markers",
           "type": "scatter",
           "x": [
            839.8699951171875,
            -115.16000366210938,
            -332.8500061035156,
            -41.869998931884766,
            -986.9299926757812,
            -3519.679931640625
           ],
           "y": [
            -5140.72998046875,
            -3977.219970703125,
            -5355.5400390625,
            -546.3200073242188,
            -2348.840087890625,
            -2865.610107421875
           ]
          },
          {
           "marker": {
            "color": "black",
            "size": 10
           },
           "mode": "markers",
           "type": "scatter",
           "x": [
            -277.6300048828125
           ],
           "y": [
            -3938.280029296875
           ]
          }
         ]
        },
        {
         "data": [
          {
           "marker": {
            "color": [
             "orange",
             "blue",
             "blue",
             "blue",
             "orange",
             "orange"
            ],
            "size": 10
           },
           "mode": "markers",
           "type": "scatter",
           "x": [
            863.260009765625,
            -115.16000366210938,
            -332.8500061035156,
            -35.36000061035156,
            -971.8200073242188,
            -3594.699951171875
           ],
           "y": [
            -5130.97998046875,
            -3977.219970703125,
            -5355.5400390625,
            -525.6799926757812,
            -2335,
            -2798.090087890625
           ]
          },
          {
           "marker": {
            "color": "black",
            "size": 10
           },
           "mode": "markers",
           "type": "scatter",
           "x": [
            -402.7900085449219
           ],
           "y": [
            -3916.43994140625
           ]
          }
         ]
        },
        {
         "data": [
          {
           "marker": {
            "color": [
             "orange",
             "blue",
             "blue",
             "blue",
             "orange",
             "orange"
            ],
            "size": 10
           },
           "mode": "markers",
           "type": "scatter",
           "x": [
            866.02001953125,
            -226.6300048828125,
            -309.3599853515625,
            -35.36000061035156,
            -971.8200073242188,
            -3603.639892578125
           ],
           "y": [
            -5129.7099609375,
            -4086.260009765625,
            -5339.8701171875,
            -525.6799926757812,
            -2335,
            -2789.22998046875
           ]
          },
          {
           "marker": {
            "color": "black",
            "size": 10
           },
           "mode": "markers",
           "type": "scatter",
           "x": [
            -423.6300048828125
           ],
           "y": [
            -3912.800048828125
           ]
          }
         ]
        },
        {
         "data": [
          {
           "marker": {
            "color": [
             "orange",
             "blue",
             "blue",
             "blue",
             "orange",
             "orange"
            ],
            "size": 10
           },
           "mode": "markers",
           "type": "scatter",
           "x": [
            880.5900268554688,
            -226.6300048828125,
            -309.3599853515625,
            -19.270000457763672,
            -911.4199829101562,
            -3671.8798828125
           ],
           "y": [
            -5117.5498046875,
            -4086.260009765625,
            -5339.8701171875,
            -434.4800109863281,
            -2265.580078125,
            -2715.56005859375
           ]
          },
          {
           "marker": {
            "color": "black",
            "size": 10
           },
           "mode": "markers",
           "type": "scatter",
           "x": [
            -590.1799926757812
           ],
           "y": [
            -3883.739990234375
           ]
          }
         ]
        },
        {
         "data": [
          {
           "marker": {
            "color": [
             "orange",
             "blue",
             "blue",
             "blue",
             "orange",
             "orange"
            ],
            "size": 10
           },
           "mode": "markers",
           "type": "scatter",
           "x": [
            880.5900268554688,
            -350.95001220703125,
            -287.67999267578125,
            -31.829999923706055,
            -859.6699829101562,
            -3671.8798828125
           ],
           "y": [
            -5117.5498046875,
            -4207.35986328125,
            -5325.2900390625,
            -338.9700012207031,
            -2177.590087890625,
            -2715.56005859375
           ]
          },
          {
           "marker": {
            "color": "black",
            "size": 10
           },
           "mode": "markers",
           "type": "scatter",
           "x": [
            -756.3800048828125
           ],
           "y": [
            -3854.72998046875
           ]
          }
         ]
        },
        {
         "data": [
          {
           "marker": {
            "color": [
             "orange",
             "blue",
             "blue",
             "blue",
             "orange",
             "orange"
            ],
            "size": 10
           },
           "mode": "markers",
           "type": "scatter",
           "x": [
            891.530029296875,
            -350.95001220703125,
            -287.67999267578125,
            -35.86000061035156,
            -859.6699829101562,
            -3760.030029296875
           ],
           "y": [
            -5098.93994140625,
            -4207.35986328125,
            -5325.2900390625,
            -319.9700012207031,
            -2177.590087890625,
            -2609.639892578125
           ]
          },
          {
           "marker": {
            "color": "black",
            "size": 10
           },
           "mode": "markers",
           "type": "scatter",
           "x": [
            -818.6199951171875
           ],
           "y": [
            -3843.8701171875
           ]
          }
         ]
        },
        {
         "data": [
          {
           "marker": {
            "color": [
             "orange",
             "blue",
             "blue",
             "blue",
             "orange",
             "orange"
            ],
            "size": 10
           },
           "mode": "markers",
           "type": "scatter",
           "x": [
            891.530029296875,
            -513.219970703125,
            -263.5,
            -48.7599983215332,
            -826.6099853515625,
            -3760.030029296875
           ],
           "y": [
            -5098.93994140625,
            -4364.6298828125,
            -5308.85009765625,
            -252.47999572753906,
            -2092.6298828125,
            -2609.639892578125
           ]
          },
          {
           "marker": {
            "color": "black",
            "size": 10
           },
           "mode": "markers",
           "type": "scatter",
           "x": [
            -942.9500122070312
           ],
           "y": [
            -3822.159912109375
           ]
          }
         ]
        },
        {
         "data": [
          {
           "marker": {
            "color": [
             "orange",
             "blue",
             "blue",
             "blue",
             "orange",
             "orange"
            ],
            "size": 10
           },
           "mode": "markers",
           "type": "scatter",
           "x": [
            905.8599853515625,
            -513.219970703125,
            -263.5,
            -48.7599983215332,
            -826.6099853515625,
            -3841.0400390625
           ],
           "y": [
            -5083.18017578125,
            -4364.6298828125,
            -5308.85009765625,
            -252.47999572753906,
            -2092.6298828125,
            -2514.669921875
           ]
          },
          {
           "marker": {
            "color": "black",
            "size": 10
           },
           "mode": "markers",
           "type": "scatter",
           "x": [
            -1025.72998046875
           ],
           "y": [
            -3807.719970703125
           ]
          }
         ]
        },
        {
         "data": [
          {
           "marker": {
            "color": [
             "orange",
             "blue",
             "blue",
             "blue",
             "orange",
             "orange"
            ],
            "size": 10
           },
           "mode": "markers",
           "type": "scatter",
           "x": [
            905.8599853515625,
            -613.4000244140625,
            -241.22999572753906,
            -48.7599983215332,
            -810.75,
            -3841.0400390625
           ],
           "y": [
            -5083.18017578125,
            -4461.33984375,
            -5293.509765625,
            -252.47999572753906,
            -2014.8699951171875,
            -2514.669921875
           ]
          },
          {
           "marker": {
            "color": "black",
            "size": 10
           },
           "mode": "markers",
           "type": "scatter",
           "x": [
            -1108.4300537109375
           ],
           "y": [
            -3793.280029296875
           ]
          }
         ]
        },
        {
         "data": [
          {
           "marker": {
            "color": [
             "orange",
             "blue",
             "blue",
             "blue",
             "orange",
             "orange"
            ],
            "size": 10
           },
           "mode": "markers",
           "type": "scatter",
           "x": [
            921.719970703125,
            -613.4000244140625,
            -241.22999572753906,
            -57.209999084472656,
            -810.75,
            -3841.0400390625
           ],
           "y": [
            -5071.22998046875,
            -4461.33984375,
            -5293.509765625,
            -143.30999755859375,
            -2014.8699951171875,
            -2514.669921875
           ]
          },
          {
           "marker": {
            "color": "black",
            "size": 10
           },
           "mode": "markers",
           "type": "scatter",
           "x": [
            -1211.68994140625
           ],
           "y": [
            -3775.260009765625
           ]
          }
         ]
        },
        {
         "data": [
          {
           "marker": {
            "color": [
             "orange",
             "blue",
             "blue",
             "blue",
             "orange",
             "orange"
            ],
            "size": 10
           },
           "mode": "markers",
           "type": "scatter",
           "x": [
            925.6300048828125,
            -751.5599975585938,
            -225.52000427246094,
            -57.209999084472656,
            -815.1500244140625,
            -3929.110107421875
           ],
           "y": [
            -5069.27001953125,
            -4594.18017578125,
            -5282.52978515625,
            -143.30999755859375,
            -1909.43994140625,
            -2421.820068359375
           ]
          },
          {
           "marker": {
            "color": "black",
            "size": 10
           },
           "mode": "markers",
           "type": "scatter",
           "x": [
            -1335.4200439453125
           ],
           "y": [
            -3753.659912109375
           ]
          }
         ]
        },
        {
         "data": [
          {
           "marker": {
            "color": [
             "orange",
             "blue",
             "blue",
             "blue",
             "orange",
             "orange"
            ],
            "size": 10
           },
           "mode": "markers",
           "type": "scatter",
           "x": [
            941.22998046875,
            -751.5599975585938,
            -225.52000427246094,
            -44,
            -815.1500244140625,
            -3929.110107421875
           ],
           "y": [
            -5063.35986328125,
            -4594.18017578125,
            -5282.52978515625,
            -23.799999237060547,
            -1909.43994140625,
            -2421.820068359375
           ]
          },
          {
           "marker": {
            "color": "black",
            "size": 10
           },
           "mode": "markers",
           "type": "scatter",
           "x": [
            -1417.800048828125
           ],
           "y": [
            -3739.280029296875
           ]
          }
         ]
        },
        {
         "data": [
          {
           "marker": {
            "color": [
             "orange",
             "blue",
             "blue",
             "blue",
             "orange",
             "orange"
            ],
            "size": 10
           },
           "mode": "markers",
           "type": "scatter",
           "x": [
            945.1300048828125,
            -852.3599853515625,
            -198.44000244140625,
            -39.599998474121094,
            -837.719970703125,
            -3988.340087890625
           ],
           "y": [
            -5061.93994140625,
            -4690.7001953125,
            -5263.240234375,
            -4.289999961853027,
            -1837.8699951171875,
            -2364.610107421875
           ]
          },
          {
           "marker": {
            "color": "black",
            "size": 10
           },
           "mode": "markers",
           "type": "scatter",
           "x": [
            -1458.9599609375
           ],
           "y": [
            -3732.10009765625
           ]
          }
         ]
        },
        {
         "data": [
          {
           "marker": {
            "color": [
             "orange",
             "blue",
             "blue",
             "blue",
             "orange",
             "orange"
            ],
            "size": 10
           },
           "mode": "markers",
           "type": "scatter",
           "x": [
            945.1300048828125,
            -864.97998046875,
            -196.17999267578125,
            -39.599998474121094,
            -841.5999755859375,
            -3988.340087890625
           ],
           "y": [
            -5061.93994140625,
            -4702.759765625,
            -5261.60986328125,
            -4.289999961853027,
            -1829.3699951171875,
            -2364.610107421875
           ]
          },
          {
           "marker": {
            "color": "black",
            "size": 10
           },
           "mode": "markers",
           "type": "scatter",
           "x": [
            -1520.6600341796875
           ],
           "y": [
            -3721.330078125
           ]
          }
         ]
        },
        {
         "data": [
          {
           "marker": {
            "color": [
             "orange",
             "blue",
             "blue",
             "blue",
             "orange",
             "orange"
            ],
            "size": 10
           },
           "mode": "markers",
           "type": "scatter",
           "x": [
            962.6799926757812,
            -864.97998046875,
            -196.17999267578125,
            -10.880000114440918,
            -841.5999755859375,
            -4030.179931640625
           ],
           "y": [
            -5055.5498046875,
            -4702.759765625,
            -5261.60986328125,
            79.98999786376953,
            -1829.3699951171875,
            -2328.409912109375
           ]
          },
          {
           "marker": {
            "color": "black",
            "size": 10
           },
           "mode": "markers",
           "type": "scatter",
           "x": [
            -1643.9300537109375
           ],
           "y": [
            -3699.820068359375
           ]
          }
         ]
        },
        {
         "data": [
          {
           "marker": {
            "color": [
             "orange",
             "blue",
             "blue",
             "blue",
             "orange",
             "orange"
            ],
            "size": 10
           },
           "mode": "markers",
           "type": "scatter",
           "x": [
            962.6799926757812,
            -966.0499877929688,
            -178.05999755859375,
            -10.880000114440918,
            -880.2899780273438,
            -4030.179931640625
           ],
           "y": [
            -5055.5498046875,
            -4799.18017578125,
            -5248.39013671875,
            79.98999786376953,
            -1764.75,
            -2328.409912109375
           ]
          },
          {
           "marker": {
            "color": "black",
            "size": 10
           },
           "mode": "markers",
           "type": "scatter",
           "x": [
            -1726
           ],
           "y": [
            -3685.5
           ]
          }
         ]
        },
        {
         "data": [
          {
           "marker": {
            "color": [
             "orange",
             "blue",
             "blue",
             "blue",
             "orange",
             "orange"
            ],
            "size": 10
           },
           "mode": "markers",
           "type": "scatter",
           "x": [
            962.6799926757812,
            -966.0499877929688,
            -178.05999755859375,
            39.880001068115234,
            -880.2899780273438,
            -4062.93994140625
           ],
           "y": [
            -5055.5498046875,
            -4799.18017578125,
            -5248.39013671875,
            162.10000610351562,
            -1764.75,
            -2301.72998046875
           ]
          },
          {
           "marker": {
            "color": "black",
            "size": 10
           },
           "mode": "markers",
           "type": "scatter",
           "x": [
            -1848.93994140625
           ],
           "y": [
            -3664.030029296875
           ]
          }
         ]
        },
        {
         "data": [
          {
           "marker": {
            "color": [
             "orange",
             "blue",
             "blue",
             "blue",
             "orange",
             "orange"
            ],
            "size": 10
           },
           "mode": "markers",
           "type": "scatter",
           "x": [
            986.1099853515625,
            -1092.75,
            -156.4199981689453,
            39.880001068115234,
            -968.4299926757812,
            -4062.93994140625
           ],
           "y": [
            -5047.02978515625,
            -4919.580078125,
            -5221.009765625,
            162.10000610351562,
            -1665.9200439453125,
            -2301.72998046875
           ]
          },
          {
           "marker": {
            "color": "black",
            "size": 10
           },
           "mode": "markers",
           "type": "scatter",
           "x": [
            -1951.25
           ],
           "y": [
            -3646.179931640625
           ]
          }
         ]
        },
        {
         "data": [
          {
           "marker": {
            "color": [
             "orange",
             "blue",
             "blue",
             "blue",
             "orange",
             "orange"
            ],
            "size": 10
           },
           "mode": "markers",
           "type": "scatter",
           "x": [
            986.1099853515625,
            -1092.75,
            -156.4199981689453,
            101.37000274658203,
            -968.4299926757812,
            -4076.860107421875
           ],
           "y": [
            -5047.02978515625,
            -4919.580078125,
            -5221.009765625,
            221.16000366210938,
            -1665.9200439453125,
            -2291.1298828125
           ]
          },
          {
           "marker": {
            "color": "black",
            "size": 10
           },
           "mode": "markers",
           "type": "scatter",
           "x": [
            -2033.010009765625
           ],
           "y": [
            -3631.89990234375
           ]
          }
         ]
        },
        {
         "data": [
          {
           "marker": {
            "color": [
             "orange",
             "blue",
             "blue",
             "blue",
             "orange",
             "orange"
            ],
            "size": 10
           },
           "mode": "markers",
           "type": "scatter",
           "x": [
            1003.760009765625,
            -1207.1400146484375,
            -146.24000549316406,
            116.72000122070312,
            -1035.4100341796875,
            -4077.860107421875
           ],
           "y": [
            -5040.64013671875,
            -5027.81005859375,
            -5157.5498046875,
            232.14999389648438,
            -1612.18994140625,
            -2290.570068359375
           ]
          },
          {
           "marker": {
            "color": "black",
            "size": 10
           },
           "mode": "markers",
           "type": "scatter",
           "x": [
            -2114.679931640625
           ],
           "y": [
            -3617.64990234375
           ]
          }
         ]
        },
        {
         "data": [
          {
           "marker": {
            "color": [
             "orange",
             "blue",
             "blue",
             "blue",
             "orange",
             "orange"
            ],
            "size": 10
           },
           "mode": "markers",
           "type": "scatter",
           "x": [
            1003.760009765625,
            -1207.1400146484375,
            -146.24000549316406,
            116.72000122070312,
            -1053.2099609375,
            -4078.610107421875
           ],
           "y": [
            -5040.64013671875,
            -5027.81005859375,
            -5157.5498046875,
            232.14999389648438,
            -1600.1199951171875,
            -2294.929931640625
           ]
          },
          {
           "marker": {
            "color": "black",
            "size": 10
           },
           "mode": "markers",
           "type": "scatter",
           "x": [
            -2237.02001953125
           ],
           "y": [
            -3596.2900390625
           ]
          }
         ]
        },
        {
         "data": [
          {
           "marker": {
            "color": [
             "orange",
             "blue",
             "blue",
             "blue",
             "orange",
             "orange"
            ],
            "size": 10
           },
           "mode": "markers",
           "type": "scatter",
           "x": [
            1027.43994140625,
            -1355.0699462890625,
            -134.47000122070312,
            218.10000610351562,
            -1128.25,
            -4078.340087890625
           ],
           "y": [
            -5032.1201171875,
            -5111.27978515625,
            -5068.52978515625,
            282.1000061035156,
            -1558.1700439453125,
            -2297.699951171875
           ]
          },
          {
           "marker": {
            "color": "black",
            "size": 10
           },
           "mode": "markers",
           "type": "scatter",
           "x": [
            -2318.47998046875
           ],
           "y": [
            -3582.080078125
           ]
          }
         ]
        },
        {
         "data": [
          {
           "marker": {
            "color": [
             "orange",
             "blue",
             "blue",
             "blue",
             "orange",
             "orange"
            ],
            "size": 10
           },
           "mode": "markers",
           "type": "scatter",
           "x": [
            1027.43994140625,
            -1355.0699462890625,
            -134.47000122070312,
            218.10000610351562,
            -1128.25,
            -4077.68994140625
           ],
           "y": [
            -5032.1201171875,
            -5111.27978515625,
            -5068.52978515625,
            282.1000061035156,
            -1558.1700439453125,
            -2312.77001953125
           ]
          },
          {
           "marker": {
            "color": "black",
            "size": 10
           },
           "mode": "markers",
           "type": "scatter",
           "x": [
            -2379.52001953125
           ],
           "y": [
            -3571.429931640625
           ]
          }
         ]
        },
        {
         "data": [
          {
           "marker": {
            "color": [
             "orange",
             "blue",
             "blue",
             "blue",
             "orange",
             "orange"
            ],
            "size": 10
           },
           "mode": "markers",
           "type": "scatter",
           "x": [
            1041.3399658203125,
            -1430.0699462890625,
            -111.12999725341797,
            320.1199951171875,
            -1239.4200439453125,
            -4077.580078125
           ],
           "y": [
            -5027.14990234375,
            -5106.35009765625,
            -4984.72021484375,
            303.989990234375,
            -1518.77001953125,
            -2318.64990234375
           ]
          },
          {
           "marker": {
            "color": "black",
            "size": 10
           },
           "mode": "markers",
           "type": "scatter",
           "x": [
            -2542.080078125
           ],
           "y": [
            -3543.06005859375
           ]
          }
         ]
        },
        {
         "data": [
          {
           "marker": {
            "color": [
             "orange",
             "blue",
             "blue",
             "blue",
             "orange",
             "orange"
            ],
            "size": 10
           },
           "mode": "markers",
           "type": "scatter",
           "x": [
            1041.3399658203125,
            -1430.0699462890625,
            -111.12999725341797,
            320.1199951171875,
            -1239.4200439453125,
            -4077.580078125
           ],
           "y": [
            -5027.14990234375,
            -5106.35009765625,
            -4984.72021484375,
            303.989990234375,
            -1518.77001953125,
            -2318.64990234375
           ]
          },
          {
           "marker": {
            "color": "black",
            "size": 10
           },
           "mode": "markers",
           "type": "scatter",
           "x": [
            -2623.239990234375
           ],
           "y": [
            -3528.89990234375
           ]
          }
         ]
        },
        {
         "data": [
          {
           "marker": {
            "color": [
             "orange",
             "blue",
             "blue",
             "blue",
             "orange",
             "orange"
            ],
            "size": 10
           },
           "mode": "markers",
           "type": "scatter",
           "x": [
            1065.7099609375,
            -1549.4599609375,
            -73.48999786376953,
            396.6199951171875,
            -1365.1800537109375,
            -4077.35009765625
           ],
           "y": [
            -5018.89013671875,
            -5101.89013671875,
            -4891.93017578125,
            305.4100036621094,
            -1499.489990234375,
            -2368.81005859375
           ]
          },
          {
           "marker": {
            "color": "black",
            "size": 10
           },
           "mode": "markers",
           "type": "scatter",
           "x": [
            -2785.2900390625
           ],
           "y": [
            -3500.6201171875
           ]
          }
         ]
        },
        {
         "data": [
          {
           "marker": {
            "color": [
             "orange",
             "blue",
             "blue",
             "blue",
             "orange",
             "orange"
            ],
            "size": 10
           },
           "mode": "markers",
           "type": "scatter",
           "x": [
            1091.93994140625,
            -1639.1800537109375,
            -73.48999786376953,
            482.2300109863281,
            -1365.1800537109375,
            -4077.35009765625
           ],
           "y": [
            -5014.08984375,
            -5100.39990234375,
            -4891.93017578125,
            292.3900146484375,
            -1499.489990234375,
            -2423.199951171875
           ]
          },
          {
           "marker": {
            "color": "black",
            "size": 10
           },
           "mode": "markers",
           "type": "scatter",
           "x": [
            -2886.39990234375
           ],
           "y": [
            -3482.969970703125
           ]
          }
         ]
        },
        {
         "data": [
          {
           "marker": {
            "color": [
             "orange",
             "blue",
             "blue",
             "blue",
             "orange",
             "orange"
            ],
            "size": 10
           },
           "mode": "markers",
           "type": "scatter",
           "x": [
            1091.93994140625,
            -1639.1800537109375,
            -47.869998931884766,
            482.2300109863281,
            -1437.5899658203125,
            -4077.35009765625
           ],
           "y": [
            -5014.08984375,
            -5100.39990234375,
            -4836.72021484375,
            292.3900146484375,
            -1501.260009765625,
            -2423.199951171875
           ]
          },
          {
           "marker": {
            "color": "black",
            "size": 10
           },
           "mode": "markers",
           "type": "scatter",
           "x": [
            -3007.570068359375
           ],
           "y": [
            -3461.830078125
           ]
          }
         ]
        },
        {
         "data": [
          {
           "marker": {
            "color": [
             "orange",
             "blue",
             "blue",
             "blue",
             "orange",
             "orange"
            ],
            "size": 10
           },
           "mode": "markers",
           "type": "scatter",
           "x": [
            1147.9200439453125,
            -1736.219970703125,
            -47.869998931884766,
            573.6199951171875,
            -1437.5899658203125,
            -4077.35009765625
           ],
           "y": [
            -5011.3701171875,
            -5100.22021484375,
            -4836.72021484375,
            260.2799987792969,
            -1501.260009765625,
            -2423.199951171875
           ]
          },
          {
           "marker": {
            "color": "black",
            "size": 10
           },
           "mode": "markers",
           "type": "scatter",
           "x": [
            -3088.25
           ],
           "y": [
            -3447.75
           ]
          }
         ]
        },
        {
         "data": [
          {
           "marker": {
            "color": [
             "orange",
             "blue",
             "blue",
             "blue",
             "orange",
             "orange"
            ],
            "size": 10
           },
           "mode": "markers",
           "type": "scatter",
           "x": [
            1147.9200439453125,
            -1754.800048828125,
            -7.03000020980835,
            591.3699951171875,
            -1552.2900390625,
            -4077.35009765625
           ],
           "y": [
            -5011.3701171875,
            -5100.43017578125,
            -4737.1298828125,
            252.0800018310547,
            -1532.4300537109375,
            -2516.429931640625
           ]
          },
          {
           "marker": {
            "color": "black",
            "size": 10
           },
           "mode": "markers",
           "type": "scatter",
           "x": [
            -3209.1201171875
           ],
           "y": [
            -3426.659912109375
           ]
          }
         ]
        },
        {
         "data": [
          {
           "marker": {
            "color": [
             "orange",
             "blue",
             "blue",
             "blue",
             "orange",
             "orange"
            ],
            "size": 10
           },
           "mode": "markers",
           "type": "scatter",
           "x": [
            1235.02001953125,
            -1832.43994140625,
            -7.03000020980835,
            670.010009765625,
            -1552.2900390625,
            -4077.35009765625
           ],
           "y": [
            -5009.740234375,
            -5102.35009765625,
            -4737.1298828125,
            210.3300018310547,
            -1532.4300537109375,
            -2598.260009765625
           ]
          },
          {
           "marker": {
            "color": "black",
            "size": 10
           },
           "mode": "markers",
           "type": "scatter",
           "x": [
            -3309.68994140625
           ],
           "y": [
            -3409.110107421875
           ]
          }
         ]
        },
        {
         "data": [
          {
           "marker": {
            "color": [
             "orange",
             "blue",
             "blue",
             "blue",
             "orange",
             "orange"
            ],
            "size": 10
           },
           "mode": "markers",
           "type": "scatter",
           "x": [
            1235.02001953125,
            -1832.43994140625,
            19.940000534057617,
            670.010009765625,
            -1638.9000244140625,
            -4077.35009765625
           ],
           "y": [
            -5009.740234375,
            -5102.35009765625,
            -4640.22021484375,
            210.3300018310547,
            -1590.5699462890625,
            -2598.260009765625
           ]
          },
          {
           "marker": {
            "color": "black",
            "size": 10
           },
           "mode": "markers",
           "type": "scatter",
           "x": [
            -3390.050048828125
           ],
           "y": [
            -3395.080078125
           ]
          }
         ]
        },
        {
         "data": [
          {
           "marker": {
            "color": [
             "orange",
             "blue",
             "blue",
             "blue",
             "orange",
             "orange"
            ],
            "size": 10
           },
           "mode": "markers",
           "type": "scatter",
           "x": [
            1323.6800537109375,
            -1832.43994140625,
            19.940000534057617,
            757.0800170898438,
            -1638.9000244140625,
            -4064.68994140625
           ],
           "y": [
            -4995.77978515625,
            -5102.35009765625,
            -4640.22021484375,
            162.4199981689453,
            -1590.5699462890625,
            -2699.22998046875
           ]
          },
          {
           "marker": {
            "color": "black",
            "size": 10
           },
           "mode": "markers",
           "type": "scatter",
           "x": [
            -3510.43994140625
           ],
           "y": [
            -3374.080078125
           ]
          }
         ]
        },
        {
         "data": [
          {
           "marker": {
            "color": [
             "orange",
             "blue",
             "blue",
             "blue",
             "orange",
             "orange"
            ],
            "size": 10
           },
           "mode": "markers",
           "type": "scatter",
           "x": [
            1323.6800537109375,
            -1913.1500244140625,
            33.7599983215332,
            774.47998046875,
            -1708.6400146484375,
            -4059.39990234375
           ],
           "y": [
            -4995.77978515625,
            -5103.3701171875,
            -4567.97998046875,
            152.86000061035156,
            -1667.1700439453125,
            -2720.43994140625
           ]
          },
          {
           "marker": {
            "color": "black",
            "size": 10
           },
           "mode": "markers",
           "type": "scatter",
           "x": [
            -3610.6298828125
           ],
           "y": [
            -3356.590087890625
           ]
          }
         ]
        },
        {
         "data": [
          {
           "marker": {
            "color": [
             "orange",
             "blue",
             "blue",
             "blue",
             "orange",
             "orange"
            ],
            "size": 10
           },
           "mode": "markers",
           "type": "scatter",
           "x": [
            1408.300048828125,
            -1951.699951171875,
            33.7599983215332,
            871.3300170898438,
            -1708.6400146484375,
            -4030.8798828125
           ],
           "y": [
            -4970.83984375,
            -5103.06005859375,
            -4567.97998046875,
            148.27000427246094,
            -1667.1700439453125,
            -2818.830078125
           ]
          },
          {
           "marker": {
            "color": "black",
            "size": 10
           },
           "mode": "markers",
           "type": "scatter",
           "x": [
            -3730.68994140625
           ],
           "y": [
            -3335.64990234375
           ]
          }
         ]
        },
        {
         "data": [
          {
           "marker": {
            "color": [
             "orange",
             "blue",
             "blue",
             "blue",
             "orange",
             "orange"
            ],
            "size": 10
           },
           "mode": "markers",
           "type": "scatter",
           "x": [
            1408.300048828125,
            -1957.6700439453125,
            45.7400016784668,
            871.3300170898438,
            -1758.22998046875,
            -4030.8798828125
           ],
           "y": [
            -4970.83984375,
            -5103.02001953125,
            -4468.22021484375,
            148.27000427246094,
            -1747.3900146484375,
            -2818.830078125
           ]
          },
          {
           "marker": {
            "color": "black",
            "size": 10
           },
           "mode": "markers",
           "type": "scatter",
           "x": [
            -3770.669921875
           ],
           "y": [
            -3328.669921875
           ]
          }
         ]
        },
        {
         "data": [
          {
           "marker": {
            "color": [
             "orange",
             "blue",
             "blue",
             "blue",
             "orange",
             "orange"
            ],
            "size": 10
           },
           "mode": "markers",
           "type": "scatter",
           "x": [
            1522.2900390625,
            -1972.969970703125,
            45.7400016784668,
            984.8300170898438,
            -1766.52001953125,
            -3989.860107421875
           ],
           "y": [
            -4915.58984375,
            -5102.9599609375,
            -4468.22021484375,
            155.3699951171875,
            -1764.4100341796875,
            -2929.219970703125
           ]
          },
          {
           "marker": {
            "color": "black",
            "size": 10
           },
           "mode": "markers",
           "type": "scatter",
           "x": [
            -3930.389892578125
           ],
           "y": [
            -3300.81005859375
           ]
          }
         ]
        },
        {
         "data": [
          {
           "marker": {
            "color": [
             "orange",
             "blue",
             "blue",
             "blue",
             "orange",
             "orange"
            ],
            "size": 10
           },
           "mode": "markers",
           "type": "scatter",
           "x": [
            1584.8299560546875,
            -1972.969970703125,
            40.56999969482422,
            984.8300170898438,
            -1797.6800537109375,
            -3989.860107421875
           ],
           "y": [
            -4868.89013671875,
            -5102.9599609375,
            -4374.0400390625,
            155.3699951171875,
            -1844.3399658203125,
            -2929.219970703125
           ]
          },
          {
           "marker": {
            "color": "black",
            "size": 10
           },
           "mode": "markers",
           "type": "scatter",
           "x": [
            -3993.8701171875
           ],
           "y": [
            -3285.52001953125
           ]
          }
         ]
        },
        {
         "data": [
          {
           "marker": {
            "color": [
             "orange",
             "blue",
             "blue",
             "blue",
             "orange",
             "orange"
            ],
            "size": 10
           },
           "mode": "markers",
           "type": "scatter",
           "x": [
            1601.8199462890625,
            -1975.0999755859375,
            40.56999969482422,
            1064.280029296875,
            -1803.2900390625,
            -3941.5400390625
           ],
           "y": [
            -4853.6298828125,
            -5102.9599609375,
            -4374.0400390625,
            160.33999633789062,
            -1862.760009765625,
            -3050.85009765625
           ]
          },
          {
           "marker": {
            "color": "black",
            "size": 10
           },
           "mode": "markers",
           "type": "scatter",
           "x": [
            -3922.219970703125
           ],
           "y": [
            -3277.300048828125
           ]
          }
         ]
        },
        {
         "data": [
          {
           "marker": {
            "color": [
             "orange",
             "blue",
             "blue",
             "blue",
             "orange",
             "orange"
            ],
            "size": 10
           },
           "mode": "markers",
           "type": "scatter",
           "x": [
            1665.1800537109375,
            -1975.0999755859375,
            8.890000343322754,
            1181.4300537109375,
            -1819.4300537109375,
            -3918.8701171875
           ],
           "y": [
            -4784.7998046875,
            -5102.9599609375,
            -4290.169921875,
            165.88999938964844,
            -1938.449951171875,
            -3096.60009765625
           ]
          },
          {
           "marker": {
            "color": "black",
            "size": 10
           },
           "mode": "markers",
           "type": "scatter",
           "x": [
            -3850.679931640625
           ],
           "y": [
            -3269.110107421875
           ]
          }
         ]
        },
        {
         "data": [
          {
           "marker": {
            "color": [
             "orange",
             "blue",
             "blue",
             "blue",
             "orange",
             "orange"
            ],
            "size": 10
           },
           "mode": "markers",
           "type": "scatter",
           "x": [
            1665.1800537109375,
            -1963.3299560546875,
            8.890000343322754,
            1205.6700439453125,
            -1819.4300537109375,
            -3918.8701171875
           ],
           "y": [
            -4784.7998046875,
            -5102.9599609375,
            -4290.169921875,
            166.63999938964844,
            -1938.449951171875,
            -3096.60009765625
           ]
          },
          {
           "marker": {
            "color": "black",
            "size": 10
           },
           "mode": "markers",
           "type": "scatter",
           "x": [
            -3813.510009765625
           ],
           "y": [
            -3272.9599609375
           ]
          }
         ]
        },
        {
         "data": [
          {
           "marker": {
            "color": [
             "orange",
             "blue",
             "blue",
             "blue",
             "orange",
             "orange"
            ],
            "size": 10
           },
           "mode": "markers",
           "type": "scatter",
           "x": [
            1746.5,
            -1943.7900390625,
            -40.970001220703125,
            1318.0699462890625,
            -1824.7099609375,
            -3816.2900390625
           ],
           "y": [
            -4655.669921875,
            -5102.9599609375,
            -4240.169921875,
            168.60000610351562,
            -2045.6800537109375,
            -3224.97998046875
           ]
          },
          {
           "marker": {
            "color": "black",
            "size": 10
           },
           "mode": "markers",
           "type": "scatter",
           "x": [
            -3675.72998046875
           ],
           "y": [
            -3381.989990234375
           ]
          }
         ]
        },
        {
         "data": [
          {
           "marker": {
            "color": [
             "orange",
             "blue",
             "blue",
             "blue",
             "orange",
             "orange"
            ],
            "size": 10
           },
           "mode": "markers",
           "type": "scatter",
           "x": [
            1746.5,
            -1943.7900390625,
            -85.23999786376953,
            1318.0699462890625,
            -1824.7099609375,
            -3742.3701171875
           ],
           "y": [
            -4655.669921875,
            -5102.9599609375,
            -4221.60986328125,
            168.60000610351562,
            -2045.6800537109375,
            -3314.830078125
           ]
          },
          {
           "marker": {
            "color": "black",
            "size": 10
           },
           "mode": "markers",
           "type": "scatter",
           "x": [
            -3572.590087890625
           ],
           "y": [
            -3463.6201171875
           ]
          }
         ]
        },
        {
         "data": [
          {
           "marker": {
            "color": [
             "orange",
             "blue",
             "blue",
             "blue",
             "orange",
             "orange"
            ],
            "size": 10
           },
           "mode": "markers",
           "type": "scatter",
           "x": [
            1795.1300048828125,
            -1904.18994140625,
            -85.23999786376953,
            1462.81005859375,
            -1805.8399658203125,
            -3742.3701171875
           ],
           "y": [
            -4549.22021484375,
            -5102.9599609375,
            -4221.60986328125,
            167.64999389648438,
            -2161.72998046875,
            -3314.830078125
           ]
          },
          {
           "marker": {
            "color": "black",
            "size": 10
           },
           "mode": "markers",
           "type": "scatter",
           "x": [
            -3486.75
           ],
           "y": [
            -3531.550048828125
           ]
          }
         ]
        },
        {
         "data": [
          {
           "marker": {
            "color": [
             "orange",
             "blue",
             "blue",
             "blue",
             "orange",
             "orange"
            ],
            "size": 10
           },
           "mode": "markers",
           "type": "scatter",
           "x": [
            1795.1300048828125,
            -1904.18994140625,
            -139.1300048828125,
            1462.81005859375,
            -1805.8399658203125,
            -3659.25
           ],
           "y": [
            -4549.22021484375,
            -5102.9599609375,
            -4217.18994140625,
            167.64999389648438,
            -2161.72998046875,
            -3416.1201171875
           ]
          },
          {
           "marker": {
            "color": "black",
            "size": 10
           },
           "mode": "markers",
           "type": "scatter",
           "x": [
            -3418.169921875
           ],
           "y": [
            -3585.820068359375
           ]
          }
         ]
        },
        {
         "data": [
          {
           "marker": {
            "color": [
             "orange",
             "blue",
             "blue",
             "blue",
             "orange",
             "orange"
            ],
            "size": 10
           },
           "mode": "markers",
           "type": "scatter",
           "x": [
            1842.3800048828125,
            -1856.6099853515625,
            -139.1300048828125,
            1601.3399658203125,
            -1774.5400390625,
            -3659.25
           ],
           "y": [
            -4429.2099609375,
            -5102.9599609375,
            -4217.18994140625,
            163.4499969482422,
            -2244.3701171875,
            -3416.1201171875
           ]
          },
          {
           "marker": {
            "color": "black",
            "size": 10
           },
           "mode": "markers",
           "type": "scatter",
           "x": [
            -3281.199951171875
           ],
           "y": [
            -3694.2099609375
           ]
          }
         ]
        },
        {
         "data": [
          {
           "marker": {
            "color": [
             "orange",
             "blue",
             "blue",
             "blue",
             "orange",
             "orange"
            ],
            "size": 10
           },
           "mode": "markers",
           "type": "scatter",
           "x": [
            1842.3800048828125,
            -1856.6099853515625,
            -200.77999877929688,
            1601.3399658203125,
            -1734.97998046875,
            -3566.949951171875
           ],
           "y": [
            -4429.2099609375,
            -5102.9599609375,
            -4229.509765625,
            163.4499969482422,
            -2312.260009765625,
            -3528.719970703125
           ]
          },
          {
           "marker": {
            "color": "black",
            "size": 10
           },
           "mode": "markers",
           "type": "scatter",
           "x": [
            -3212.820068359375
           ],
           "y": [
            -3748.320068359375
           ]
          }
         ]
        },
        {
         "data": [
          {
           "marker": {
            "color": [
             "orange",
             "blue",
             "blue",
             "blue",
             "orange",
             "orange"
            ],
            "size": 10
           },
           "mode": "markers",
           "type": "scatter",
           "x": [
            1879.4300537109375,
            -1808.1800537109375,
            -200.77999877929688,
            1729.8599853515625,
            -1723.47998046875,
            -3566.949951171875
           ],
           "y": [
            -4330.27978515625,
            -5102.9599609375,
            -4229.509765625,
            157.80999755859375,
            -2328.18994140625,
            -3528.719970703125
           ]
          },
          {
           "marker": {
            "color": "black",
            "size": 10
           },
           "mode": "markers",
           "type": "scatter",
           "x": [
            -3161.590087890625
           ],
           "y": [
            -3788.860107421875
           ]
          }
         ]
        },
        {
         "data": [
          {
           "marker": {
            "color": [
             "orange",
             "blue",
             "blue",
             "blue",
             "orange",
             "orange"
            ],
            "size": 10
           },
           "mode": "markers",
           "type": "scatter",
           "x": [
            1879.4300537109375,
            -1808.1800537109375,
            -255.3800048828125,
            1729.8599853515625,
            -1723.47998046875,
            -3483.8798828125
           ],
           "y": [
            -4330.27978515625,
            -5102.9599609375,
            -4253.85986328125,
            157.80999755859375,
            -2328.18994140625,
            -3630.06005859375
           ]
          },
          {
           "marker": {
            "color": "black",
            "size": 10
           },
           "mode": "markers",
           "type": "scatter",
           "x": [
            -3093.330078125
           ],
           "y": [
            -3842.8701171875
           ]
          }
         ]
        },
        {
         "data": [
          {
           "marker": {
            "color": [
             "orange",
             "blue",
             "blue",
             "blue",
             "orange",
             "orange"
            ],
            "size": 10
           },
           "mode": "markers",
           "type": "scatter",
           "x": [
            1912.06005859375,
            -1755.0899658203125,
            -255.3800048828125,
            1844.1700439453125,
            -1664.3800048828125,
            -3483.8798828125
           ],
           "y": [
            -4242.169921875,
            -5102.9599609375,
            -4253.85986328125,
            152.77000427246094,
            -2393.840087890625,
            -3630.06005859375
           ]
          },
          {
           "marker": {
            "color": "black",
            "size": 10
           },
           "mode": "markers",
           "type": "scatter",
           "x": [
            -3025.14990234375
           ],
           "y": [
            -3896.820068359375
           ]
          }
         ]
        },
        {
         "data": [
          {
           "marker": {
            "color": [
             "orange",
             "blue",
             "blue",
             "blue",
             "orange",
             "orange"
            ],
            "size": 10
           },
           "mode": "markers",
           "type": "scatter",
           "x": [
            1912.06005859375,
            -1755.0899658203125,
            -325.0199890136719,
            1844.1700439453125,
            -1664.3800048828125,
            -3373.1201171875
           ],
           "y": [
            -4242.169921875,
            -5102.9599609375,
            -4302.33984375,
            152.77000427246094,
            -2393.840087890625,
            -3765.179931640625
           ]
          },
          {
           "marker": {
            "color": "black",
            "size": 10
           },
           "mode": "markers",
           "type": "scatter",
           "x": [
            -2888.97998046875
           ],
           "y": [
            -4004.570068359375
           ]
          }
         ]
        },
        {
         "data": [
          {
           "marker": {
            "color": [
             "orange",
             "blue",
             "blue",
             "blue",
             "orange",
             "orange"
            ],
            "size": 10
           },
           "mode": "markers",
           "type": "scatter",
           "x": [
            1962.510009765625,
            -1755.0899658203125,
            -325.0199890136719,
            2015.6300048828125,
            -1564.27001953125,
            -3373.1201171875
           ],
           "y": [
            -4109.81982421875,
            -5102.9599609375,
            -4302.33984375,
            145.2100067138672,
            -2467,
            -3765.179931640625
           ]
          },
          {
           "marker": {
            "color": "black",
            "size": 10
           },
           "mode": "markers",
           "type": "scatter",
           "x": [
            -2821
           ],
           "y": [
            -4058.360107421875
           ]
          }
         ]
        },
        {
         "data": [
          {
           "marker": {
            "color": [
             "orange",
             "blue",
             "blue",
             "blue",
             "orange",
             "orange"
            ],
            "size": 10
           },
           "mode": "markers",
           "type": "scatter",
           "x": [
            1962.510009765625,
            -1702.6700439453125,
            -365.2699890136719,
            2015.6300048828125,
            -1564.27001953125,
            -3308.510009765625
           ],
           "y": [
            -4109.81982421875,
            -5102.9599609375,
            -4336.1201171875,
            145.2100067138672,
            -2467,
            -3844
           ]
          },
          {
           "marker": {
            "color": "black",
            "size": 10
           },
           "mode": "markers",
           "type": "scatter",
           "x": [
            -2770.070068359375
           ],
           "y": [
            -4098.669921875
           ]
          }
         ]
        },
        {
         "data": [
          {
           "marker": {
            "color": [
             "orange",
             "blue",
             "blue",
             "blue",
             "orange",
             "orange"
            ],
            "size": 10
           },
           "mode": "markers",
           "type": "scatter",
           "x": [
            1962.510009765625,
            -1702.6700439453125,
            -365.2699890136719,
            2115.639892578125,
            -1564.27001953125,
            -3308.510009765625
           ],
           "y": [
            -4109.81982421875,
            -5102.9599609375,
            -4336.1201171875,
            140.8000030517578,
            -2467,
            -3844
           ]
          },
          {
           "marker": {
            "color": "black",
            "size": 10
           },
           "mode": "markers",
           "type": "scatter",
           "x": [
            -2702.2099609375
           ],
           "y": [
            -4152.3701171875
           ]
          }
         ]
        },
        {
         "data": [
          {
           "marker": {
            "color": [
             "orange",
             "blue",
             "blue",
             "blue",
             "orange",
             "orange"
            ],
            "size": 10
           },
           "mode": "markers",
           "type": "scatter",
           "x": [
            2004.5699462890625,
            -1661.0799560546875,
            -420.1199951171875,
            2115.639892578125,
            -1473.93994140625,
            -3216.2099609375
           ],
           "y": [
            -4006.7900390625,
            -5102.9599609375,
            -4391.81982421875,
            140.8000030517578,
            -2508.5400390625,
            -3956.60009765625
           ]
          },
          {
           "marker": {
            "color": "black",
            "size": 10
           },
           "mode": "markers",
           "type": "scatter",
           "x": [
            -2634.429931640625
           ],
           "y": [
            -4206.02001953125
           ]
          }
         ]
        },
        {
         "data": [
          {
           "marker": {
            "color": [
             "orange",
             "blue",
             "blue",
             "blue",
             "orange",
             "orange"
            ],
            "size": 10
           },
           "mode": "markers",
           "type": "scatter",
           "x": [
            2056.659912109375,
            -1661.0799560546875,
            -430.4200134277344,
            2258.530029296875,
            -1361.5400390625,
            -3197.75
           ],
           "y": [
            -3887.43994140625,
            -5102.9599609375,
            -4404.10009765625,
            134.5,
            -2537.6298828125,
            -3979.1201171875
           ]
          },
          {
           "marker": {
            "color": "black",
            "size": 10
           },
           "mode": "markers",
           "type": "scatter",
           "x": [
            -2499.06005859375
           ],
           "y": [
            -4313.14013671875
           ]
          }
         ]
        },
        {
         "data": [
          {
           "marker": {
            "color": [
             "orange",
             "blue",
             "blue",
             "blue",
             "orange",
             "orange"
            ],
            "size": 10
           },
           "mode": "markers",
           "type": "scatter",
           "x": [
            2067.669921875,
            -1620.4599609375,
            -464.0799865722656,
            2258.530029296875,
            -1338.25,
            -3133.139892578125
           ],
           "y": [
            -3862.889892578125,
            -5102.9599609375,
            -4450.169921875,
            134.5,
            -2541.010009765625,
            -4057.93994140625
           ]
          },
          {
           "marker": {
            "color": "black",
            "size": 10
           },
           "mode": "markers",
           "type": "scatter",
           "x": [
            -2448.3701171875
           ],
           "y": [
            -4353.25
           ]
          }
         ]
        },
        {
         "data": [
          {
           "marker": {
            "color": [
             "orange",
             "blue",
             "blue",
             "blue",
             "orange",
             "orange"
            ],
            "size": 10
           },
           "mode": "markers",
           "type": "scatter",
           "x": [
            2107.219970703125,
            -1584.5799560546875,
            -464.0799865722656,
            2415.669921875,
            -1256.5999755859375,
            -3133.139892578125
           ],
           "y": [
            -3774.909912109375,
            -5102.9599609375,
            -4450.169921875,
            128.02999877929688,
            -2546.070068359375,
            -4057.93994140625
           ]
          },
          {
           "marker": {
            "color": "black",
            "size": 10
           },
           "mode": "markers",
           "type": "scatter",
           "x": [
            -2313.3798828125
           ],
           "y": [
            -4460.06005859375
           ]
          }
         ]
        },
        {
         "data": [
          {
           "marker": {
            "color": [
             "orange",
             "blue",
             "blue",
             "blue",
             "orange",
             "orange"
            ],
            "size": 10
           },
           "mode": "markers",
           "type": "scatter",
           "x": [
            2107.219970703125,
            -1577.1600341796875,
            -503.3500061035156,
            2415.669921875,
            -1256.5999755859375,
            -3040.840087890625
           ],
           "y": [
            -3774.909912109375,
            -5102.9599609375,
            -4524.10009765625,
            128.02999877929688,
            -2546.070068359375,
            -4170.5400390625
           ]
          },
          {
           "marker": {
            "color": "black",
            "size": 10
           },
           "mode": "markers",
           "type": "scatter",
           "x": [
            -2212.330078125
           ],
           "y": [
            -4540.02978515625
           ]
          }
         ]
        },
        {
         "data": [
          {
           "marker": {
            "color": [
             "orange",
             "blue",
             "blue",
             "blue",
             "orange",
             "orange"
            ],
            "size": 10
           },
           "mode": "markers",
           "type": "scatter",
           "x": [
            2192.81005859375,
            -1577.1600341796875,
            -503.3500061035156,
            2587.179931640625,
            -1116.52001953125,
            -3040.840087890625
           ],
           "y": [
            -3586.39990234375,
            -5102.9599609375,
            -4524.10009765625,
            124.86000061035156,
            -2530.080078125,
            -4170.5400390625
           ]
          },
          {
           "marker": {
            "color": "black",
            "size": 10
           },
           "mode": "markers",
           "type": "scatter",
           "x": [
            -2145.050048828125
           ],
           "y": [
            -4593.27978515625
           ]
          }
         ]
        },
        {
         "data": [
          {
           "marker": {
            "color": [
             "orange",
             "blue",
             "blue",
             "blue",
             "orange",
             "orange"
            ],
            "size": 10
           },
           "mode": "markers",
           "type": "scatter",
           "x": [
            2192.81005859375,
            -1544.260009765625,
            -529.0700073242188,
            2587.179931640625,
            -1116.52001953125,
            -2948.530029296875
           ],
           "y": [
            -3586.39990234375,
            -5102.9599609375,
            -4606.080078125,
            124.86000061035156,
            -2530.080078125,
            -4283.14013671875
           ]
          },
          {
           "marker": {
            "color": "black",
            "size": 10
           },
           "mode": "markers",
           "type": "scatter",
           "x": [
            -2061.0400390625
           ],
           "y": [
            -4659.759765625
           ]
          }
         ]
        },
        {
         "data": [
          {
           "marker": {
            "color": [
             "orange",
             "blue",
             "blue",
             "blue",
             "orange",
             "orange"
            ],
            "size": 10
           },
           "mode": "markers",
           "type": "scatter",
           "x": [
            2263.919921875,
            -1518.780029296875,
            -538.6500244140625,
            2715.6298828125,
            -1011.4400024414062,
            -2865.280029296875
           ],
           "y": [
            -3430.419921875,
            -5102.9599609375,
            -4684.4501953125,
            124.7699966430664,
            -2497.179931640625,
            -4384.58984375
           ]
          },
          {
           "marker": {
            "color": "black",
            "size": 10
           },
           "mode": "markers",
           "type": "scatter",
           "x": [
            -1960.3699951171875
           ],
           "y": [
            -4739.43017578125
           ]
          }
         ]
        },
        {
         "data": [
          {
           "marker": {
            "color": [
             "orange",
             "blue",
             "blue",
             "blue",
             "orange",
             "orange"
            ],
            "size": 10
           },
           "mode": "markers",
           "type": "scatter",
           "x": [
            2327.199951171875,
            -1503.3699951171875,
            -538.6500244140625,
            2715.6298828125,
            -1011.4400024414062,
            -2865.280029296875
           ],
           "y": [
            -3291.639892578125,
            -5100.5,
            -4684.4501953125,
            124.7699966430664,
            -2497.179931640625,
            -4384.58984375
           ]
          },
          {
           "marker": {
            "color": "black",
            "size": 10
           },
           "mode": "markers",
           "type": "scatter",
           "x": [
            -1859.8599853515625
           ],
           "y": [
            -4818.97021484375
           ]
          }
         ]
        },
        {
         "data": [
          {
           "marker": {
            "color": [
             "orange",
             "blue",
             "blue",
             "blue",
             "orange",
             "orange"
            ],
            "size": 10
           },
           "mode": "markers",
           "type": "scatter",
           "x": [
            2327.199951171875,
            -1503.3699951171875,
            -531.4400024414062,
            2857.969970703125,
            -865.8699951171875,
            -2763.110107421875
           ],
           "y": [
            -3291.639892578125,
            -5100.5,
            -4782.3798828125,
            131.1300048828125,
            -2418.27001953125,
            -4508.830078125
           ]
          },
          {
           "marker": {
            "color": "black",
            "size": 10
           },
           "mode": "markers",
           "type": "scatter",
           "x": [
            -1776.219970703125
           ],
           "y": [
            -4885.14990234375
           ]
          }
         ]
        },
        {
         "data": [
          {
           "marker": {
            "color": [
             "orange",
             "blue",
             "blue",
             "blue",
             "orange",
             "orange"
            ],
            "size": 10
           },
           "mode": "markers",
           "type": "scatter",
           "x": [
            2414.2099609375,
            -1475.4599609375,
            -531.4400024414062,
            2985.639892578125,
            -865.8699951171875,
            -2763.110107421875
           ],
           "y": [
            -3100.7900390625,
            -5070.25,
            -4782.3798828125,
            141.6300048828125,
            -2418.27001953125,
            -4508.830078125
           ]
          },
          {
           "marker": {
            "color": "black",
            "size": 10
           },
           "mode": "markers",
           "type": "scatter",
           "x": [
            -1675.989990234375
           ],
           "y": [
            -4964.4599609375
           ]
          }
         ]
        },
        {
         "data": [
          {
           "marker": {
            "color": [
             "orange",
             "blue",
             "blue",
             "blue",
             "orange",
             "orange"
            ],
            "size": 10
           },
           "mode": "markers",
           "type": "scatter",
           "x": [
            2414.2099609375,
            -1475.4599609375,
            -506.5899963378906,
            2985.639892578125,
            -763.1300048828125,
            -2669.85009765625
           ],
           "y": [
            -3100.7900390625,
            -5070.25,
            -4869.669921875,
            141.6300048828125,
            -2333.699951171875,
            -4622.0498046875
           ]
          },
          {
           "marker": {
            "color": "black",
            "size": 10
           },
           "mode": "markers",
           "type": "scatter",
           "x": [
            -1620.4100341796875
           ],
           "y": [
            -4979.52978515625
           ]
          }
         ]
        },
        {
         "data": [
          {
           "marker": {
            "color": [
             "orange",
             "blue",
             "blue",
             "blue",
             "orange",
             "orange"
            ],
            "size": 10
           },
           "mode": "markers",
           "type": "scatter",
           "x": [
            2493.31005859375,
            -1448.489990234375,
            -506.5899963378906,
            3127.39990234375,
            -763.1300048828125,
            -2669.85009765625
           ],
           "y": [
            -2927.2900390625,
            -5033.06982421875,
            -4869.669921875,
            149.13999938964844,
            -2333.699951171875,
            -4622.0498046875
           ]
          },
          {
           "marker": {
            "color": "black",
            "size": 10
           },
           "mode": "markers",
           "type": "scatter",
           "x": [
            -1553.8800048828125
           ],
           "y": [
            -4946.47021484375
           ]
          }
         ]
        },
        {
         "data": [
          {
           "marker": {
            "color": [
             "orange",
             "blue",
             "blue",
             "blue",
             "orange",
             "orange"
            ],
            "size": 10
           },
           "mode": "markers",
           "type": "scatter",
           "x": [
            2493.31005859375,
            -1448.489990234375,
            -475.8299865722656,
            3127.39990234375,
            -677.6099853515625,
            -2585.590087890625
           ],
           "y": [
            -2927.2900390625,
            -5033.06982421875,
            -4936.009765625,
            149.13999938964844,
            -2243.320068359375,
            -4724.18994140625
           ]
          },
          {
           "marker": {
            "color": "black",
            "size": 10
           },
           "mode": "markers",
           "type": "scatter",
           "x": [
            -1520.6500244140625
           ],
           "y": [
            -4929.97021484375
           ]
          }
         ]
        },
        {
         "data": [
          {
           "marker": {
            "color": [
             "orange",
             "blue",
             "blue",
             "blue",
             "orange",
             "orange"
            ],
            "size": 10
           },
           "mode": "markers",
           "type": "scatter",
           "x": [
            2548.679931640625,
            -1428.5899658203125,
            -430.7099914550781,
            3254.300048828125,
            -677.6099853515625,
            -2585.590087890625
           ],
           "y": [
            -2805.840087890625,
            -5004.1298828125,
            -5004.14013671875,
            144.3699951171875,
            -2243.320068359375,
            -4724.18994140625
           ]
          },
          {
           "marker": {
            "color": "black",
            "size": 10
           },
           "mode": "markers",
           "type": "scatter",
           "x": [
            -1458.3800048828125
           ],
           "y": [
            -4889.22021484375
           ]
          }
         ]
        },
        {
         "data": [
          {
           "marker": {
            "color": [
             "orange",
             "blue",
             "blue",
             "blue",
             "orange",
             "orange"
            ],
            "size": 10
           },
           "mode": "markers",
           "type": "scatter",
           "x": [
            2627.780029296875,
            -1403.77001953125,
            -419.0199890136719,
            3254.300048828125,
            -589.1599731445312,
            -2491.6201171875
           ],
           "y": [
            -2632.340087890625,
            -4982.02001953125,
            -5017.83984375,
            144.3699951171875,
            -2135.510009765625,
            -4837.91015625
           ]
          },
          {
           "marker": {
            "color": "black",
            "size": 10
           },
           "mode": "markers",
           "type": "scatter",
           "x": [
            -1438.6800537109375
           ],
           "y": [
            -4767.10009765625
           ]
          }
         ]
        },
        {
         "data": [
          {
           "marker": {
            "color": [
             "orange",
             "blue",
             "blue",
             "blue",
             "orange",
             "orange"
            ],
            "size": 10
           },
           "mode": "markers",
           "type": "scatter",
           "x": [
            2627.780029296875,
            -1325.6700439453125,
            -351.8500061035156,
            3391.8798828125,
            -504.3399963378906,
            -2397.260009765625
           ],
           "y": [
            -2632.340087890625,
            -4929.080078125,
            -5075.64990234375,
            120.98999786376953,
            -2024.93994140625,
            -4951.85986328125
           ]
          },
          {
           "marker": {
            "color": "black",
            "size": 10
           },
           "mode": "markers",
           "type": "scatter",
           "x": [
            -1412.3599853515625
           ],
           "y": [
            -4605.080078125
           ]
          }
         ]
        },
        {
         "data": [
          {
           "marker": {
            "color": [
             "orange",
             "blue",
             "blue",
             "blue",
             "orange",
             "orange"
            ],
            "size": 10
           },
           "mode": "markers",
           "type": "scatter",
           "x": [
            2706.8798828125,
            -1325.6700439453125,
            -351.8500061035156,
            3391.8798828125,
            -504.3399963378906,
            -2397.260009765625
           ],
           "y": [
            -2458.840087890625,
            -4929.080078125,
            -5075.64990234375,
            120.98999786376953,
            -2024.93994140625,
            -4951.85986328125
           ]
          },
          {
           "marker": {
            "color": "black",
            "size": 10
           },
           "mode": "markers",
           "type": "scatter",
           "x": [
            -1399.199951171875
           ],
           "y": [
            -4524.2001953125
           ]
          }
         ]
        },
        {
         "data": [
          {
           "marker": {
            "color": [
             "orange",
             "blue",
             "blue",
             "blue",
             "orange",
             "orange"
            ],
            "size": 10
           },
           "mode": "markers",
           "type": "scatter",
           "x": [
            2706.8798828125,
            -1254.3199462890625,
            -281.1400146484375,
            3509.68994140625,
            -429.6499938964844,
            -2312
           ],
           "y": [
            -2458.840087890625,
            -4880.77001953125,
            -5110.06982421875,
            82.54000091552734,
            -1924.260009765625,
            -5054.580078125
           ]
          },
          {
           "marker": {
            "color": "black",
            "size": 10
           },
           "mode": "markers",
           "type": "scatter",
           "x": [
            -1382.800048828125
           ],
           "y": [
            -4423.2099609375
           ]
          }
         ]
        },
        {
         "data": [
          {
           "marker": {
            "color": [
             "orange",
             "blue",
             "blue",
             "blue",
             "orange",
             "orange"
            ],
            "size": 10
           },
           "mode": "markers",
           "type": "scatter",
           "x": [
            2793.889892578125,
            -1254.3199462890625,
            -281.1400146484375,
            3631.02001953125,
            -429.6499938964844,
            -2312
           ],
           "y": [
            -2267.989990234375,
            -4880.77001953125,
            -5110.06982421875,
            22.639999389648438,
            -1924.260009765625,
            -5054.580078125
           ]
          },
          {
           "marker": {
            "color": "black",
            "size": 10
           },
           "mode": "markers",
           "type": "scatter",
           "x": [
            -1363.1199951171875
           ],
           "y": [
            -4302.18994140625
           ]
          }
         ]
        },
        {
         "data": [
          {
           "marker": {
            "color": [
             "orange",
             "blue",
             "blue",
             "blue",
             "orange",
             "orange"
            ],
            "size": 10
           },
           "mode": "markers",
           "type": "scatter",
           "x": [
            2793.889892578125,
            -1159.050048828125,
            -213.0399932861328,
            3631.02001953125,
            -339.32000732421875,
            -2208.6201171875
           ],
           "y": [
            -2267.989990234375,
            -4816.4501953125,
            -5126.10986328125,
            22.639999389648438,
            -1784.4100341796875,
            -5105.81982421875
           ]
          },
          {
           "marker": {
            "color": "black",
            "size": 10
           },
           "mode": "markers",
           "type": "scatter",
           "x": [
            -1343.489990234375
           ],
           "y": [
            -4181.35009765625
           ]
          }
         ]
        },
        {
         "data": [
          {
           "marker": {
            "color": [
             "orange",
             "blue",
             "blue",
             "blue",
             "orange",
             "orange"
            ],
            "size": 10
           },
           "mode": "markers",
           "type": "scatter",
           "x": [
            2872.989990234375,
            -1159.050048828125,
            -213.0399932861328,
            3738.260009765625,
            -339.32000732421875,
            -2208.6201171875
           ],
           "y": [
            -2094.489990234375,
            -4816.4501953125,
            -5126.10986328125,
            -52.88999938964844,
            -1784.4100341796875,
            -5105.81982421875
           ]
          },
          {
           "marker": {
            "color": "black",
            "size": 10
           },
           "mode": "markers",
           "type": "scatter",
           "x": [
            -1330.4100341796875
           ],
           "y": [
            -4100.89013671875
           ]
          }
         ]
        },
        {
         "data": [
          {
           "marker": {
            "color": [
             "orange",
             "blue",
             "blue",
             "blue",
             "orange",
             "orange"
            ],
            "size": 10
           },
           "mode": "markers",
           "type": "scatter",
           "x": [
            2872.989990234375,
            -1087.5899658203125,
            -115.87999725341797,
            3747.840087890625,
            -280.1600036621094,
            -2141.780029296875
           ],
           "y": [
            -2094.489990234375,
            -4768.2099609375,
            -5127.580078125,
            -61.369998931884766,
            -1674.9300537109375,
            -5102.2099609375
           ]
          },
          {
           "marker": {
            "color": "black",
            "size": 10
           },
           "mode": "markers",
           "type": "scatter",
           "x": [
            -1314.0799560546875
           ],
           "y": [
            -4000.43994140625
           ]
          }
         ]
        },
        {
         "data": [
          {
           "marker": {
            "color": [
             "orange",
             "blue",
             "blue",
             "blue",
             "orange",
             "orange"
            ],
            "size": 10
           },
           "mode": "markers",
           "type": "scatter",
           "x": [
            2928.3798828125,
            -1087.5899658203125,
            -115.87999725341797,
            3815.610107421875,
            -280.1600036621094,
            -2127.8701171875
           ],
           "y": [
            -1972.97998046875,
            -4768.2099609375,
            -5127.580078125,
            -136.6999969482422,
            -1674.9300537109375,
            -5101.8701171875
           ]
          },
          {
           "marker": {
            "color": "black",
            "size": 10
           },
           "mode": "markers",
           "type": "scatter",
           "x": [
            -1301.0400390625
           ],
           "y": [
            -3920.179931640625
           ]
          }
         ]
        },
        {
         "data": [
          {
           "marker": {
            "color": [
             "orange",
             "blue",
             "blue",
             "blue",
             "orange",
             "orange"
            ],
            "size": 10
           },
           "mode": "markers",
           "type": "scatter",
           "x": [
            3007.590087890625,
            -1008.1900024414062,
            -27.989999771118164,
            3815.610107421875,
            -220.05999755859375,
            -2064.909912109375
           ],
           "y": [
            -1799.2099609375,
            -4714.60986328125,
            -5109.43017578125,
            -136.6999969482422,
            -1550.5999755859375,
            -5101.3798828125
           ]
          },
          {
           "marker": {
            "color": "black",
            "size": 10
           },
           "mode": "markers",
           "type": "scatter",
           "x": [
            -1274.97998046875
           ],
           "y": [
            -3759.89990234375
           ]
          }
         ]
        },
        {
         "data": [
          {
           "marker": {
            "color": [
             "orange",
             "blue",
             "blue",
             "blue",
             "orange",
             "orange"
            ],
            "size": 10
           },
           "mode": "markers",
           "type": "scatter",
           "x": [
            3007.590087890625,
            -1008.1900024414062,
            31.239999771118164,
            3876.659912109375,
            -220.05999755859375,
            -2064.909912109375
           ],
           "y": [
            -1799.2099609375,
            -4714.60986328125,
            -5086.16015625,
            -260.07000732421875,
            -1550.5999755859375,
            -5101.3798828125
           ]
          },
          {
           "marker": {
            "color": "black",
            "size": 10
           },
           "mode": "markers",
           "type": "scatter",
           "x": [
            -1265.949951171875
           ],
           "y": [
            -3705.179931640625
           ]
          }
         ]
        },
        {
         "data": [
          {
           "marker": {
            "color": [
             "orange",
             "blue",
             "blue",
             "blue",
             "orange",
             "orange"
            ],
            "size": 10
           },
           "mode": "markers",
           "type": "scatter",
           "x": [
            3007.590087890625,
            -936.72998046875,
            31.239999771118164,
            3876.659912109375,
            -168.07000732421875,
            -2064.909912109375
           ],
           "y": [
            -1799.2099609375,
            -4666.3701171875,
            -5086.16015625,
            -260.07000732421875,
            -1437.739990234375,
            -5101.3798828125
           ]
          },
          {
           "marker": {
            "color": "black",
            "size": 10
           },
           "mode": "markers",
           "type": "scatter",
           "x": [
            -1254.3900146484375
           ],
           "y": [
            -3635.81005859375
           ]
          }
         ]
        },
        {
         "data": [
          {
           "marker": {
            "color": [
             "orange",
             "blue",
             "blue",
             "blue",
             "orange",
             "orange"
            ],
            "size": 10
           },
           "mode": "markers",
           "type": "scatter",
           "x": [
            3094.68994140625,
            -936.72998046875,
            31.239999771118164,
            3896.35009765625,
            -168.07000732421875,
            -2012.1600341796875
           ],
           "y": [
            -1608.1500244140625,
            -4666.3701171875,
            -5086.16015625,
            -384.9800109863281,
            -1437.739990234375,
            -5101.35986328125
           ]
          },
          {
           "marker": {
            "color": "black",
            "size": 10
           },
           "mode": "markers",
           "type": "scatter",
           "x": [
            -1237.050048828125
           ],
           "y": [
            -3531.889892578125
           ]
          }
         ]
        },
        {
         "data": [
          {
           "marker": {
            "color": [
             "orange",
             "blue",
             "blue",
             "blue",
             "orange",
             "orange"
            ],
            "size": 10
           },
           "mode": "markers",
           "type": "scatter",
           "x": [
            3094.68994140625,
            -841.4500122070312,
            124.52999877929688,
            3896.989990234375,
            -99.33999633789062,
            -1987.260009765625
           ],
           "y": [
            -1608.1500244140625,
            -4602.0498046875,
            -5027.22998046875,
            -410.7699890136719,
            -1285.8399658203125,
            -5101.35986328125
           ]
          },
          {
           "marker": {
            "color": "black",
            "size": 10
           },
           "mode": "markers",
           "type": "scatter",
           "x": [
            -1219.760009765625
           ],
           "y": [
            -3428.1298828125
           ]
          }
         ]
        },
        {
         "data": [
          {
           "marker": {
            "color": [
             "orange",
             "blue",
             "blue",
             "blue",
             "orange",
             "orange"
            ],
            "size": 10
           },
           "mode": "markers",
           "type": "scatter",
           "x": [
            3189.7900390625,
            -825.5700073242188,
            124.52999877929688,
            3890.179931640625,
            -99.33999633789062,
            -1982.97998046875
           ],
           "y": [
            -1400.3499755859375,
            -4591.330078125,
            -5027.22998046875,
            -515.489990234375,
            -1285.8399658203125,
            -5101.35986328125
           ]
          },
          {
           "marker": {
            "color": "black",
            "size": 10
           },
           "mode": "markers",
           "type": "scatter",
           "x": [
            -1208.239990234375
           ],
           "y": [
            -3359.050048828125
           ]
          }
         ]
        },
        {
         "data": [
          {
           "marker": {
            "color": [
             "orange",
             "blue",
             "blue",
             "blue",
             "orange",
             "orange"
            ],
            "size": 10
           },
           "mode": "markers",
           "type": "scatter",
           "x": [
            3189.7900390625,
            -825.5700073242188,
            196.6999969482422,
            3890.179931640625,
            -99.33999633789062,
            -1982.97998046875
           ],
           "y": [
            -1400.3499755859375,
            -4591.330078125,
            -4954.31005859375,
            -515.489990234375,
            -1285.8399658203125,
            -5101.35986328125
           ]
          },
          {
           "marker": {
            "color": "black",
            "size": 10
           },
           "mode": "markers",
           "type": "scatter",
           "x": [
            -1199.5999755859375
           ],
           "y": [
            -3307.280029296875
           ]
          }
         ]
        },
        {
         "data": [
          {
           "marker": {
            "color": [
             "orange",
             "blue",
             "blue",
             "blue",
             "orange",
             "orange"
            ],
            "size": 10
           },
           "mode": "markers",
           "type": "scatter",
           "x": [
            3189.7900390625,
            -769.989990234375,
            196.6999969482422,
            3890.179931640625,
            -49.65999984741211,
            -1973.8499755859375
           ],
           "y": [
            -1400.3499755859375,
            -4553.81005859375,
            -4954.31005859375,
            -515.489990234375,
            -1165.510009765625,
            -5098.9501953125
           ]
          },
          {
           "marker": {
            "color": "black",
            "size": 10
           },
           "mode": "markers",
           "type": "scatter",
           "x": [
            -1193.8499755859375
           ],
           "y": [
            -3272.7900390625
           ]
          }
         ]
        },
        {
         "data": [
          {
           "marker": {
            "color": [
             "orange",
             "blue",
             "blue",
             "blue",
             "orange",
             "orange"
            ],
            "size": 10
           },
           "mode": "markers",
           "type": "scatter",
           "x": [
            3270.739990234375,
            -769.989990234375,
            238.83999633789062,
            3859.52001953125,
            -49.65999984741211,
            -1973.8499755859375
           ],
           "y": [
            -1207.5799560546875,
            -4553.81005859375,
            -4891.75,
            -661.9099731445312,
            -1165.510009765625,
            -5098.9501953125
           ]
          },
          {
           "marker": {
            "color": "black",
            "size": 10
           },
           "mode": "markers",
           "type": "scatter",
           "x": [
            -1176.6300048828125
           ],
           "y": [
            -3169.429931640625
           ]
          }
         ]
        },
        {
         "data": [
          {
           "marker": {
            "color": [
             "orange",
             "blue",
             "blue",
             "blue",
             "orange",
             "orange"
            ],
            "size": 10
           },
           "mode": "markers",
           "type": "scatter",
           "x": [
            3270.739990234375,
            -690.5900268554688,
            238.83999633789062,
            3824.179931640625,
            -4.300000190734863,
            -1985.050048828125
           ],
           "y": [
            -1207.5799560546875,
            -4500.2099609375,
            -4891.75,
            -769.3400268554688,
            -1022.1400146484375,
            -5046.72021484375
           ]
          },
          {
           "marker": {
            "color": "black",
            "size": 10
           },
           "mode": "markers",
           "type": "scatter",
           "x": [
            -1153.6800537109375
           ],
           "y": [
            -3031.860107421875
           ]
          }
         ]
        },
        {
         "data": [
          {
           "marker": {
            "color": [
             "orange",
             "blue",
             "blue",
             "blue",
             "orange",
             "orange"
            ],
            "size": 10
           },
           "mode": "markers",
           "type": "scatter",
           "x": [
            3348.5400390625,
            -690.5900268554688,
            282.739990234375,
            3813.469970703125,
            -4.300000190734863,
            -1985.050048828125
           ],
           "y": [
            -993.47998046875,
            -4500.2099609375,
            -4786.490234375,
            -796.1199951171875,
            -1022.1400146484375,
            -5046.72021484375
           ]
          },
          {
           "marker": {
            "color": "black",
            "size": 10
           },
           "mode": "markers",
           "type": "scatter",
           "x": [
            -1142.239990234375
           ],
           "y": [
            -2963.179931640625
           ]
          }
         ]
        },
        {
         "data": [
          {
           "marker": {
            "color": [
             "orange",
             "blue",
             "blue",
             "blue",
             "orange",
             "orange"
            ],
            "size": 10
           },
           "mode": "markers",
           "type": "scatter",
           "x": [
            3348.5400390625,
            -603.25,
            282.739990234375,
            3813.469970703125,
            27.25,
            -2000.8299560546875
           ],
           "y": [
            -993.47998046875,
            -4441.25,
            -4786.490234375,
            -796.1199951171875,
            -853.0599975585938,
            -4991.47998046875
           ]
          },
          {
           "marker": {
            "color": "black",
            "size": 10
           },
           "mode": "markers",
           "type": "scatter",
           "x": [
            -1127.93994140625
           ],
           "y": [
            -2877.429931640625
           ]
          }
         ]
        },
        {
         "data": [
          {
           "marker": {
            "color": [
             "orange",
             "blue",
             "blue",
             "blue",
             "orange",
             "orange"
            ],
            "size": 10
           },
           "mode": "markers",
           "type": "scatter",
           "x": [
            3403.2099609375,
            -603.25,
            298.9100036621094,
            3740,
            27.25,
            -2000.8299560546875
           ],
           "y": [
            -831.6599731445312,
            -4441.25,
            -4701.56005859375,
            -940.75,
            -853.0599975585938,
            -4991.47998046875
           ]
          },
          {
           "marker": {
            "color": "black",
            "size": 10
           },
           "mode": "markers",
           "type": "scatter",
           "x": [
            -1116.510009765625
           ],
           "y": [
            -2808.909912109375
           ]
          }
         ]
        },
        {
         "data": [
          {
           "marker": {
            "color": [
             "orange",
             "blue",
             "blue",
             "blue",
             "orange",
             "orange"
            ],
            "size": 10
           },
           "mode": "markers",
           "type": "scatter",
           "x": [
            3403.2099609375,
            -523.8499755859375,
            298.9100036621094,
            3740,
            43.95000076293945,
            -2000.8299560546875
           ],
           "y": [
            -831.6599731445312,
            -4387.64990234375,
            -4701.56005859375,
            -940.75,
            -690.8400268554688,
            -4991.47998046875
           ]
          },
          {
           "marker": {
            "color": "black",
            "size": 10
           },
           "mode": "markers",
           "type": "scatter",
           "x": [
            -1099.4100341796875
           ],
           "y": [
            -2706.260009765625
           ]
          }
         ]
        },
        {
         "data": [
          {
           "marker": {
            "color": [
             "orange",
             "blue",
             "blue",
             "blue",
             "orange",
             "orange"
            ],
            "size": 10
           },
           "mode": "markers",
           "type": "scatter",
           "x": [
            3462.52001953125,
            -523.8499755859375,
            299.25,
            3650.389892578125,
            43.95000076293945,
            -2037.7099609375
           ],
           "y": [
            -651.4000244140625,
            -4387.64990234375,
            -4600.47021484375,
            -1064.4000244140625,
            -690.8400268554688,
            -4894.4599609375
           ]
          },
          {
           "marker": {
            "color": "black",
            "size": 10
           },
           "mode": "markers",
           "type": "scatter",
           "x": [
            -1088.010009765625
           ],
           "y": [
            -2637.919921875
           ]
          }
         ]
        }
       ],
       "layout": {
        "autosize": false,
        "height": 800,
        "hovermode": "closest",
        "template": {
         "data": {
          "bar": [
           {
            "error_x": {
             "color": "#2a3f5f"
            },
            "error_y": {
             "color": "#2a3f5f"
            },
            "marker": {
             "line": {
              "color": "#E5ECF6",
              "width": 0.5
             },
             "pattern": {
              "fillmode": "overlay",
              "size": 10,
              "solidity": 0.2
             }
            },
            "type": "bar"
           }
          ],
          "barpolar": [
           {
            "marker": {
             "line": {
              "color": "#E5ECF6",
              "width": 0.5
             },
             "pattern": {
              "fillmode": "overlay",
              "size": 10,
              "solidity": 0.2
             }
            },
            "type": "barpolar"
           }
          ],
          "carpet": [
           {
            "aaxis": {
             "endlinecolor": "#2a3f5f",
             "gridcolor": "white",
             "linecolor": "white",
             "minorgridcolor": "white",
             "startlinecolor": "#2a3f5f"
            },
            "baxis": {
             "endlinecolor": "#2a3f5f",
             "gridcolor": "white",
             "linecolor": "white",
             "minorgridcolor": "white",
             "startlinecolor": "#2a3f5f"
            },
            "type": "carpet"
           }
          ],
          "choropleth": [
           {
            "colorbar": {
             "outlinewidth": 0,
             "ticks": ""
            },
            "type": "choropleth"
           }
          ],
          "contour": [
           {
            "colorbar": {
             "outlinewidth": 0,
             "ticks": ""
            },
            "colorscale": [
             [
              0,
              "#0d0887"
             ],
             [
              0.1111111111111111,
              "#46039f"
             ],
             [
              0.2222222222222222,
              "#7201a8"
             ],
             [
              0.3333333333333333,
              "#9c179e"
             ],
             [
              0.4444444444444444,
              "#bd3786"
             ],
             [
              0.5555555555555556,
              "#d8576b"
             ],
             [
              0.6666666666666666,
              "#ed7953"
             ],
             [
              0.7777777777777778,
              "#fb9f3a"
             ],
             [
              0.8888888888888888,
              "#fdca26"
             ],
             [
              1,
              "#f0f921"
             ]
            ],
            "type": "contour"
           }
          ],
          "contourcarpet": [
           {
            "colorbar": {
             "outlinewidth": 0,
             "ticks": ""
            },
            "type": "contourcarpet"
           }
          ],
          "heatmap": [
           {
            "colorbar": {
             "outlinewidth": 0,
             "ticks": ""
            },
            "colorscale": [
             [
              0,
              "#0d0887"
             ],
             [
              0.1111111111111111,
              "#46039f"
             ],
             [
              0.2222222222222222,
              "#7201a8"
             ],
             [
              0.3333333333333333,
              "#9c179e"
             ],
             [
              0.4444444444444444,
              "#bd3786"
             ],
             [
              0.5555555555555556,
              "#d8576b"
             ],
             [
              0.6666666666666666,
              "#ed7953"
             ],
             [
              0.7777777777777778,
              "#fb9f3a"
             ],
             [
              0.8888888888888888,
              "#fdca26"
             ],
             [
              1,
              "#f0f921"
             ]
            ],
            "type": "heatmap"
           }
          ],
          "heatmapgl": [
           {
            "colorbar": {
             "outlinewidth": 0,
             "ticks": ""
            },
            "colorscale": [
             [
              0,
              "#0d0887"
             ],
             [
              0.1111111111111111,
              "#46039f"
             ],
             [
              0.2222222222222222,
              "#7201a8"
             ],
             [
              0.3333333333333333,
              "#9c179e"
             ],
             [
              0.4444444444444444,
              "#bd3786"
             ],
             [
              0.5555555555555556,
              "#d8576b"
             ],
             [
              0.6666666666666666,
              "#ed7953"
             ],
             [
              0.7777777777777778,
              "#fb9f3a"
             ],
             [
              0.8888888888888888,
              "#fdca26"
             ],
             [
              1,
              "#f0f921"
             ]
            ],
            "type": "heatmapgl"
           }
          ],
          "histogram": [
           {
            "marker": {
             "pattern": {
              "fillmode": "overlay",
              "size": 10,
              "solidity": 0.2
             }
            },
            "type": "histogram"
           }
          ],
          "histogram2d": [
           {
            "colorbar": {
             "outlinewidth": 0,
             "ticks": ""
            },
            "colorscale": [
             [
              0,
              "#0d0887"
             ],
             [
              0.1111111111111111,
              "#46039f"
             ],
             [
              0.2222222222222222,
              "#7201a8"
             ],
             [
              0.3333333333333333,
              "#9c179e"
             ],
             [
              0.4444444444444444,
              "#bd3786"
             ],
             [
              0.5555555555555556,
              "#d8576b"
             ],
             [
              0.6666666666666666,
              "#ed7953"
             ],
             [
              0.7777777777777778,
              "#fb9f3a"
             ],
             [
              0.8888888888888888,
              "#fdca26"
             ],
             [
              1,
              "#f0f921"
             ]
            ],
            "type": "histogram2d"
           }
          ],
          "histogram2dcontour": [
           {
            "colorbar": {
             "outlinewidth": 0,
             "ticks": ""
            },
            "colorscale": [
             [
              0,
              "#0d0887"
             ],
             [
              0.1111111111111111,
              "#46039f"
             ],
             [
              0.2222222222222222,
              "#7201a8"
             ],
             [
              0.3333333333333333,
              "#9c179e"
             ],
             [
              0.4444444444444444,
              "#bd3786"
             ],
             [
              0.5555555555555556,
              "#d8576b"
             ],
             [
              0.6666666666666666,
              "#ed7953"
             ],
             [
              0.7777777777777778,
              "#fb9f3a"
             ],
             [
              0.8888888888888888,
              "#fdca26"
             ],
             [
              1,
              "#f0f921"
             ]
            ],
            "type": "histogram2dcontour"
           }
          ],
          "mesh3d": [
           {
            "colorbar": {
             "outlinewidth": 0,
             "ticks": ""
            },
            "type": "mesh3d"
           }
          ],
          "parcoords": [
           {
            "line": {
             "colorbar": {
              "outlinewidth": 0,
              "ticks": ""
             }
            },
            "type": "parcoords"
           }
          ],
          "pie": [
           {
            "automargin": true,
            "type": "pie"
           }
          ],
          "scatter": [
           {
            "marker": {
             "colorbar": {
              "outlinewidth": 0,
              "ticks": ""
             }
            },
            "type": "scatter"
           }
          ],
          "scatter3d": [
           {
            "line": {
             "colorbar": {
              "outlinewidth": 0,
              "ticks": ""
             }
            },
            "marker": {
             "colorbar": {
              "outlinewidth": 0,
              "ticks": ""
             }
            },
            "type": "scatter3d"
           }
          ],
          "scattercarpet": [
           {
            "marker": {
             "colorbar": {
              "outlinewidth": 0,
              "ticks": ""
             }
            },
            "type": "scattercarpet"
           }
          ],
          "scattergeo": [
           {
            "marker": {
             "colorbar": {
              "outlinewidth": 0,
              "ticks": ""
             }
            },
            "type": "scattergeo"
           }
          ],
          "scattergl": [
           {
            "marker": {
             "colorbar": {
              "outlinewidth": 0,
              "ticks": ""
             }
            },
            "type": "scattergl"
           }
          ],
          "scattermapbox": [
           {
            "marker": {
             "colorbar": {
              "outlinewidth": 0,
              "ticks": ""
             }
            },
            "type": "scattermapbox"
           }
          ],
          "scatterpolar": [
           {
            "marker": {
             "colorbar": {
              "outlinewidth": 0,
              "ticks": ""
             }
            },
            "type": "scatterpolar"
           }
          ],
          "scatterpolargl": [
           {
            "marker": {
             "colorbar": {
              "outlinewidth": 0,
              "ticks": ""
             }
            },
            "type": "scatterpolargl"
           }
          ],
          "scatterternary": [
           {
            "marker": {
             "colorbar": {
              "outlinewidth": 0,
              "ticks": ""
             }
            },
            "type": "scatterternary"
           }
          ],
          "surface": [
           {
            "colorbar": {
             "outlinewidth": 0,
             "ticks": ""
            },
            "colorscale": [
             [
              0,
              "#0d0887"
             ],
             [
              0.1111111111111111,
              "#46039f"
             ],
             [
              0.2222222222222222,
              "#7201a8"
             ],
             [
              0.3333333333333333,
              "#9c179e"
             ],
             [
              0.4444444444444444,
              "#bd3786"
             ],
             [
              0.5555555555555556,
              "#d8576b"
             ],
             [
              0.6666666666666666,
              "#ed7953"
             ],
             [
              0.7777777777777778,
              "#fb9f3a"
             ],
             [
              0.8888888888888888,
              "#fdca26"
             ],
             [
              1,
              "#f0f921"
             ]
            ],
            "type": "surface"
           }
          ],
          "table": [
           {
            "cells": {
             "fill": {
              "color": "#EBF0F8"
             },
             "line": {
              "color": "white"
             }
            },
            "header": {
             "fill": {
              "color": "#C8D4E3"
             },
             "line": {
              "color": "white"
             }
            },
            "type": "table"
           }
          ]
         },
         "layout": {
          "annotationdefaults": {
           "arrowcolor": "#2a3f5f",
           "arrowhead": 0,
           "arrowwidth": 1
          },
          "autotypenumbers": "strict",
          "coloraxis": {
           "colorbar": {
            "outlinewidth": 0,
            "ticks": ""
           }
          },
          "colorscale": {
           "diverging": [
            [
             0,
             "#8e0152"
            ],
            [
             0.1,
             "#c51b7d"
            ],
            [
             0.2,
             "#de77ae"
            ],
            [
             0.3,
             "#f1b6da"
            ],
            [
             0.4,
             "#fde0ef"
            ],
            [
             0.5,
             "#f7f7f7"
            ],
            [
             0.6,
             "#e6f5d0"
            ],
            [
             0.7,
             "#b8e186"
            ],
            [
             0.8,
             "#7fbc41"
            ],
            [
             0.9,
             "#4d9221"
            ],
            [
             1,
             "#276419"
            ]
           ],
           "sequential": [
            [
             0,
             "#0d0887"
            ],
            [
             0.1111111111111111,
             "#46039f"
            ],
            [
             0.2222222222222222,
             "#7201a8"
            ],
            [
             0.3333333333333333,
             "#9c179e"
            ],
            [
             0.4444444444444444,
             "#bd3786"
            ],
            [
             0.5555555555555556,
             "#d8576b"
            ],
            [
             0.6666666666666666,
             "#ed7953"
            ],
            [
             0.7777777777777778,
             "#fb9f3a"
            ],
            [
             0.8888888888888888,
             "#fdca26"
            ],
            [
             1,
             "#f0f921"
            ]
           ],
           "sequentialminus": [
            [
             0,
             "#0d0887"
            ],
            [
             0.1111111111111111,
             "#46039f"
            ],
            [
             0.2222222222222222,
             "#7201a8"
            ],
            [
             0.3333333333333333,
             "#9c179e"
            ],
            [
             0.4444444444444444,
             "#bd3786"
            ],
            [
             0.5555555555555556,
             "#d8576b"
            ],
            [
             0.6666666666666666,
             "#ed7953"
            ],
            [
             0.7777777777777778,
             "#fb9f3a"
            ],
            [
             0.8888888888888888,
             "#fdca26"
            ],
            [
             1,
             "#f0f921"
            ]
           ]
          },
          "colorway": [
           "#636efa",
           "#EF553B",
           "#00cc96",
           "#ab63fa",
           "#FFA15A",
           "#19d3f3",
           "#FF6692",
           "#B6E880",
           "#FF97FF",
           "#FECB52"
          ],
          "font": {
           "color": "#2a3f5f"
          },
          "geo": {
           "bgcolor": "white",
           "lakecolor": "white",
           "landcolor": "#E5ECF6",
           "showlakes": true,
           "showland": true,
           "subunitcolor": "white"
          },
          "hoverlabel": {
           "align": "left"
          },
          "hovermode": "closest",
          "mapbox": {
           "style": "light"
          },
          "paper_bgcolor": "white",
          "plot_bgcolor": "#E5ECF6",
          "polar": {
           "angularaxis": {
            "gridcolor": "white",
            "linecolor": "white",
            "ticks": ""
           },
           "bgcolor": "#E5ECF6",
           "radialaxis": {
            "gridcolor": "white",
            "linecolor": "white",
            "ticks": ""
           }
          },
          "scene": {
           "xaxis": {
            "backgroundcolor": "#E5ECF6",
            "gridcolor": "white",
            "gridwidth": 2,
            "linecolor": "white",
            "showbackground": true,
            "ticks": "",
            "zerolinecolor": "white"
           },
           "yaxis": {
            "backgroundcolor": "#E5ECF6",
            "gridcolor": "white",
            "gridwidth": 2,
            "linecolor": "white",
            "showbackground": true,
            "ticks": "",
            "zerolinecolor": "white"
           },
           "zaxis": {
            "backgroundcolor": "#E5ECF6",
            "gridcolor": "white",
            "gridwidth": 2,
            "linecolor": "white",
            "showbackground": true,
            "ticks": "",
            "zerolinecolor": "white"
           }
          },
          "shapedefaults": {
           "line": {
            "color": "#2a3f5f"
           }
          },
          "ternary": {
           "aaxis": {
            "gridcolor": "white",
            "linecolor": "white",
            "ticks": ""
           },
           "baxis": {
            "gridcolor": "white",
            "linecolor": "white",
            "ticks": ""
           },
           "bgcolor": "#E5ECF6",
           "caxis": {
            "gridcolor": "white",
            "linecolor": "white",
            "ticks": ""
           }
          },
          "title": {
           "x": 0.05
          },
          "xaxis": {
           "automargin": true,
           "gridcolor": "white",
           "linecolor": "white",
           "ticks": "",
           "title": {
            "standoff": 15
           },
           "zerolinecolor": "white",
           "zerolinewidth": 2
          },
          "yaxis": {
           "automargin": true,
           "gridcolor": "white",
           "linecolor": "white",
           "ticks": "",
           "title": {
            "standoff": 15
           },
           "zerolinecolor": "white",
           "zerolinewidth": 2
          }
         }
        },
        "title": {
         "text": "Expected Goal: 0.15273556624966977\n Result: No Goal"
        },
        "updatemenus": [
         {
          "active": 0,
          "buttons": [
           {
            "args": [
             null,
             {
              "frame": {
               "duration": 30,
               "redraw": false
              },
              "fromcurrent": true,
              "transition": {
               "duration": 0
              }
             }
            ],
            "label": "Play",
            "method": "animate"
           }
          ],
          "showactive": false,
          "type": "buttons",
          "x": 1.12,
          "xanchor": "right",
          "y": 1,
          "yanchor": "top"
         }
        ],
        "width": 700,
        "xaxis": {
         "autorange": false,
         "range": [
          -5000,
          5000
         ],
         "type": "linear",
         "zeroline": false
        },
        "yaxis": {
         "autorange": false,
         "range": [
          -6050,
          6050
         ],
         "type": "linear",
         "zeroline": false
        }
       }
      },
      "image/png": "[encoded data removed]",
      "text/html": [
       "<div>                            <div id=\"688fae58-5f9d-465b-a267-b7125b74f00b\" class=\"plotly-graph-div\" style=\"height:800px; width:700px;\"></div>            <script type=\"text/javascript\">                require([\"plotly\"], function(Plotly) {                    window.PLOTLYENV=window.PLOTLYENV || {};                                    if (document.getElementById(\"688fae58-5f9d-465b-a267-b7125b74f00b\")) {                    Plotly.newPlot(                        \"688fae58-5f9d-465b-a267-b7125b74f00b\",                        [{\"line\":{\"color\":\"blue\",\"width\":2},\"mode\":\"lines\",\"x\":[-4096,-2944],\"y\":[3968,5120],\"type\":\"scatter\"},{\"line\":{\"color\":\"blue\",\"width\":2},\"mode\":\"lines\",\"x\":[-4096,-2944],\"y\":[3968,5120],\"type\":\"scatter\"},{\"line\":{\"color\":\"blue\",\"width\":2},\"mode\":\"lines\",\"x\":[4096,2944],\"y\":[3968,5120],\"type\":\"scatter\"},{\"line\":{\"color\":\"blue\",\"width\":2},\"mode\":\"lines\",\"x\":[-4096,-2944],\"y\":[-3968,-5120],\"type\":\"scatter\"},{\"line\":{\"color\":\"blue\",\"width\":2},\"mode\":\"lines\",\"x\":[-4096,-2944],\"y\":[3968,5120],\"type\":\"scatter\"},{\"line\":{\"color\":\"blue\",\"width\":2},\"mode\":\"lines\",\"x\":[4096,2944],\"y\":[-3968,-5120],\"type\":\"scatter\"},{\"line\":{\"color\":\"blue\",\"width\":2},\"mode\":\"lines\",\"x\":[-4096,-4096],\"y\":[3968,-3968],\"type\":\"scatter\"},{\"line\":{\"color\":\"blue\",\"width\":2},\"mode\":\"lines\",\"x\":[4096,4096],\"y\":[3968,-3968],\"type\":\"scatter\"},{\"line\":{\"color\":\"blue\",\"width\":2},\"mode\":\"lines\",\"x\":[-2944,-893],\"y\":[5120,5120],\"type\":\"scatter\"},{\"line\":{\"color\":\"blue\",\"width\":2},\"mode\":\"lines\",\"x\":[2944,893],\"y\":[5120,5120],\"type\":\"scatter\"},{\"line\":{\"color\":\"blue\",\"width\":2},\"mode\":\"lines\",\"x\":[-893,893],\"y\":[5120,5120],\"type\":\"scatter\"},{\"line\":{\"color\":\"blue\",\"width\":2},\"mode\":\"lines\",\"x\":[-2944,-893],\"y\":[-5120,-5120],\"type\":\"scatter\"},{\"line\":{\"color\":\"blue\",\"width\":2},\"mode\":\"lines\",\"x\":[2944,893],\"y\":[-5120,-5120],\"type\":\"scatter\"},{\"line\":{\"color\":\"blue\",\"width\":2},\"mode\":\"lines\",\"x\":[-893,893],\"y\":[-5120,-5120],\"type\":\"scatter\"},{\"line\":{\"color\":\"blue\",\"width\":2},\"mode\":\"lines\",\"x\":[-893,893],\"y\":[6000,6000],\"type\":\"scatter\"},{\"line\":{\"color\":\"blue\",\"width\":2},\"mode\":\"lines\",\"x\":[893,893],\"y\":[6000,5120],\"type\":\"scatter\"},{\"line\":{\"color\":\"blue\",\"width\":2},\"mode\":\"lines\",\"x\":[-893,-893],\"y\":[6000,5120],\"type\":\"scatter\"},{\"line\":{\"color\":\"blue\",\"width\":2},\"mode\":\"lines\",\"x\":[-893,893],\"y\":[-6000,-6000],\"type\":\"scatter\"},{\"line\":{\"color\":\"blue\",\"width\":2},\"mode\":\"lines\",\"x\":[893,893],\"y\":[-6000,-5120],\"type\":\"scatter\"},{\"line\":{\"color\":\"blue\",\"width\":2},\"mode\":\"lines\",\"x\":[-893,-893],\"y\":[-6000,-5120],\"type\":\"scatter\"},{\"marker\":{\"color\":\"pink\"},\"mode\":\"markers\",\"x\":[-3072.0,3072.0,-3584.0,3584.0,-3072.0,3072.0,0.0,-1792.0,1792.0,-940.0,940.0,0.0,-3584.0,3584.0,-1788.0,1788.0,-2048.0,0.0,2048.0,-1024.0,1024.0,-2048.0,0.0,2048.0,-1788.0,1788.0,-3584.0,3584.0,0.0,-940.0,940.0,-1792.0,1792.0,0.0],\"y\":[-4096.0,-4096.0,0.0,0.0,4096.0,4096.0,-4240.0,-4184.0,-4184.0,-3308.0,-3308.0,-2816.0,-2484.0,-2484.0,-2300.0,-2300.0,-1036.0,-1024.0,-1036.0,0.0,0.0,1036.0,1024.0,1036.0,2300.0,2300.0,2484.0,2484.0,2816.0,3310.0,3308.0,4184.0,4184.0,4240.0],\"type\":\"scatter\"}],                        {\"height\":800,\"hovermode\":\"closest\",\"title\":{\"text\":\"Expected Goal: 0.15273556624966977\\n Result: No Goal\"},\"width\":700,\"xaxis\":{\"autorange\":false,\"range\":[-5000,5000],\"zeroline\":false},\"yaxis\":{\"autorange\":false,\"range\":[-6050,6050],\"zeroline\":false},\"template\":{\"data\":{\"bar\":[{\"error_x\":{\"color\":\"#2a3f5f\"},\"error_y\":{\"color\":\"#2a3f5f\"},\"marker\":{\"line\":{\"color\":\"#E5ECF6\",\"width\":0.5},\"pattern\":{\"fillmode\":\"overlay\",\"size\":10,\"solidity\":0.2}},\"type\":\"bar\"}],\"barpolar\":[{\"marker\":{\"line\":{\"color\":\"#E5ECF6\",\"width\":0.5},\"pattern\":{\"fillmode\":\"overlay\",\"size\":10,\"solidity\":0.2}},\"type\":\"barpolar\"}],\"carpet\":[{\"aaxis\":{\"endlinecolor\":\"#2a3f5f\",\"gridcolor\":\"white\",\"linecolor\":\"white\",\"minorgridcolor\":\"white\",\"startlinecolor\":\"#2a3f5f\"},\"baxis\":{\"endlinecolor\":\"#2a3f5f\",\"gridcolor\":\"white\",\"linecolor\":\"white\",\"minorgridcolor\":\"white\",\"startlinecolor\":\"#2a3f5f\"},\"type\":\"carpet\"}],\"choropleth\":[{\"colorbar\":{\"outlinewidth\":0,\"ticks\":\"\"},\"type\":\"choropleth\"}],\"contour\":[{\"colorbar\":{\"outlinewidth\":0,\"ticks\":\"\"},\"colorscale\":[[0.0,\"#0d0887\"],[0.1111111111111111,\"#46039f\"],[0.2222222222222222,\"#7201a8\"],[0.3333333333333333,\"#9c179e\"],[0.4444444444444444,\"#bd3786\"],[0.5555555555555556,\"#d8576b\"],[0.6666666666666666,\"#ed7953\"],[0.7777777777777778,\"#fb9f3a\"],[0.8888888888888888,\"#fdca26\"],[1.0,\"#f0f921\"]],\"type\":\"contour\"}],\"contourcarpet\":[{\"colorbar\":{\"outlinewidth\":0,\"ticks\":\"\"},\"type\":\"contourcarpet\"}],\"heatmap\":[{\"colorbar\":{\"outlinewidth\":0,\"ticks\":\"\"},\"colorscale\":[[0.0,\"#0d0887\"],[0.1111111111111111,\"#46039f\"],[0.2222222222222222,\"#7201a8\"],[0.3333333333333333,\"#9c179e\"],[0.4444444444444444,\"#bd3786\"],[0.5555555555555556,\"#d8576b\"],[0.6666666666666666,\"#ed7953\"],[0.7777777777777778,\"#fb9f3a\"],[0.8888888888888888,\"#fdca26\"],[1.0,\"#f0f921\"]],\"type\":\"heatmap\"}],\"heatmapgl\":[{\"colorbar\":{\"outlinewidth\":0,\"ticks\":\"\"},\"colorscale\":[[0.0,\"#0d0887\"],[0.1111111111111111,\"#46039f\"],[0.2222222222222222,\"#7201a8\"],[0.3333333333333333,\"#9c179e\"],[0.4444444444444444,\"#bd3786\"],[0.5555555555555556,\"#d8576b\"],[0.6666666666666666,\"#ed7953\"],[0.7777777777777778,\"#fb9f3a\"],[0.8888888888888888,\"#fdca26\"],[1.0,\"#f0f921\"]],\"type\":\"heatmapgl\"}],\"histogram\":[{\"marker\":{\"pattern\":{\"fillmode\":\"overlay\",\"size\":10,\"solidity\":0.2}},\"type\":\"histogram\"}],\"histogram2d\":[{\"colorbar\":{\"outlinewidth\":0,\"ticks\":\"\"},\"colorscale\":[[0.0,\"#0d0887\"],[0.1111111111111111,\"#46039f\"],[0.2222222222222222,\"#7201a8\"],[0.3333333333333333,\"#9c179e\"],[0.4444444444444444,\"#bd3786\"],[0.5555555555555556,\"#d8576b\"],[0.6666666666666666,\"#ed7953\"],[0.7777777777777778,\"#fb9f3a\"],[0.8888888888888888,\"#fdca26\"],[1.0,\"#f0f921\"]],\"type\":\"histogram2d\"}],\"histogram2dcontour\":[{\"colorbar\":{\"outlinewidth\":0,\"ticks\":\"\"},\"colorscale\":[[0.0,\"#0d0887\"],[0.1111111111111111,\"#46039f\"],[0.2222222222222222,\"#7201a8\"],[0.3333333333333333,\"#9c179e\"],[0.4444444444444444,\"#bd3786\"],[0.5555555555555556,\"#d8576b\"],[0.6666666666666666,\"#ed7953\"],[0.7777777777777778,\"#fb9f3a\"],[0.8888888888888888,\"#fdca26\"],[1.0,\"#f0f921\"]],\"type\":\"histogram2dcontour\"}],\"mesh3d\":[{\"colorbar\":{\"outlinewidth\":0,\"ticks\":\"\"},\"type\":\"mesh3d\"}],\"parcoords\":[{\"line\":{\"colorbar\":{\"outlinewidth\":0,\"ticks\":\"\"}},\"type\":\"parcoords\"}],\"pie\":[{\"automargin\":true,\"type\":\"pie\"}],\"scatter\":[{\"marker\":{\"colorbar\":{\"outlinewidth\":0,\"ticks\":\"\"}},\"type\":\"scatter\"}],\"scatter3d\":[{\"line\":{\"colorbar\":{\"outlinewidth\":0,\"ticks\":\"\"}},\"marker\":{\"colorbar\":{\"outlinewidth\":0,\"ticks\":\"\"}},\"type\":\"scatter3d\"}],\"scattercarpet\":[{\"marker\":{\"colorbar\":{\"outlinewidth\":0,\"ticks\":\"\"}},\"type\":\"scattercarpet\"}],\"scattergeo\":[{\"marker\":{\"colorbar\":{\"outlinewidth\":0,\"ticks\":\"\"}},\"type\":\"scattergeo\"}],\"scattergl\":[{\"marker\":{\"colorbar\":{\"outlinewidth\":0,\"ticks\":\"\"}},\"type\":\"scattergl\"}],\"scattermapbox\":[{\"marker\":{\"colorbar\":{\"outlinewidth\":0,\"ticks\":\"\"}},\"type\":\"scattermapbox\"}],\"scatterpolar\":[{\"marker\":{\"colorbar\":{\"outlinewidth\":0,\"ticks\":\"\"}},\"type\":\"scatterpolar\"}],\"scatterpolargl\":[{\"marker\":{\"colorbar\":{\"outlinewidth\":0,\"ticks\":\"\"}},\"type\":\"scatterpolargl\"}],\"scatterternary\":[{\"marker\":{\"colorbar\":{\"outlinewidth\":0,\"ticks\":\"\"}},\"type\":\"scatterternary\"}],\"surface\":[{\"colorbar\":{\"outlinewidth\":0,\"ticks\":\"\"},\"colorscale\":[[0.0,\"#0d0887\"],[0.1111111111111111,\"#46039f\"],[0.2222222222222222,\"#7201a8\"],[0.3333333333333333,\"#9c179e\"],[0.4444444444444444,\"#bd3786\"],[0.5555555555555556,\"#d8576b\"],[0.6666666666666666,\"#ed7953\"],[0.7777777777777778,\"#fb9f3a\"],[0.8888888888888888,\"#fdca26\"],[1.0,\"#f0f921\"]],\"type\":\"surface\"}],\"table\":[{\"cells\":{\"fill\":{\"color\":\"#EBF0F8\"},\"line\":{\"color\":\"white\"}},\"header\":{\"fill\":{\"color\":\"#C8D4E3\"},\"line\":{\"color\":\"white\"}},\"type\":\"table\"}]},\"layout\":{\"annotationdefaults\":{\"arrowcolor\":\"#2a3f5f\",\"arrowhead\":0,\"arrowwidth\":1},\"autotypenumbers\":\"strict\",\"coloraxis\":{\"colorbar\":{\"outlinewidth\":0,\"ticks\":\"\"}},\"colorscale\":{\"diverging\":[[0,\"#8e0152\"],[0.1,\"#c51b7d\"],[0.2,\"#de77ae\"],[0.3,\"#f1b6da\"],[0.4,\"#fde0ef\"],[0.5,\"#f7f7f7\"],[0.6,\"#e6f5d0\"],[0.7,\"#b8e186\"],[0.8,\"#7fbc41\"],[0.9,\"#4d9221\"],[1,\"#276419\"]],\"sequential\":[[0.0,\"#0d0887\"],[0.1111111111111111,\"#46039f\"],[0.2222222222222222,\"#7201a8\"],[0.3333333333333333,\"#9c179e\"],[0.4444444444444444,\"#bd3786\"],[0.5555555555555556,\"#d8576b\"],[0.6666666666666666,\"#ed7953\"],[0.7777777777777778,\"#fb9f3a\"],[0.8888888888888888,\"#fdca26\"],[1.0,\"#f0f921\"]],\"sequentialminus\":[[0.0,\"#0d0887\"],[0.1111111111111111,\"#46039f\"],[0.2222222222222222,\"#7201a8\"],[0.3333333333333333,\"#9c179e\"],[0.4444444444444444,\"#bd3786\"],[0.5555555555555556,\"#d8576b\"],[0.6666666666666666,\"#ed7953\"],[0.7777777777777778,\"#fb9f3a\"],[0.8888888888888888,\"#fdca26\"],[1.0,\"#f0f921\"]]},\"colorway\":[\"#636efa\",\"#EF553B\",\"#00cc96\",\"#ab63fa\",\"#FFA15A\",\"#19d3f3\",\"#FF6692\",\"#B6E880\",\"#FF97FF\",\"#FECB52\"],\"font\":{\"color\":\"#2a3f5f\"},\"geo\":{\"bgcolor\":\"white\",\"lakecolor\":\"white\",\"landcolor\":\"#E5ECF6\",\"showlakes\":true,\"showland\":true,\"subunitcolor\":\"white\"},\"hoverlabel\":{\"align\":\"left\"},\"hovermode\":\"closest\",\"mapbox\":{\"style\":\"light\"},\"paper_bgcolor\":\"white\",\"plot_bgcolor\":\"#E5ECF6\",\"polar\":{\"angularaxis\":{\"gridcolor\":\"white\",\"linecolor\":\"white\",\"ticks\":\"\"},\"bgcolor\":\"#E5ECF6\",\"radialaxis\":{\"gridcolor\":\"white\",\"linecolor\":\"white\",\"ticks\":\"\"}},\"scene\":{\"xaxis\":{\"backgroundcolor\":\"#E5ECF6\",\"gridcolor\":\"white\",\"gridwidth\":2,\"linecolor\":\"white\",\"showbackground\":true,\"ticks\":\"\",\"zerolinecolor\":\"white\"},\"yaxis\":{\"backgroundcolor\":\"#E5ECF6\",\"gridcolor\":\"white\",\"gridwidth\":2,\"linecolor\":\"white\",\"showbackground\":true,\"ticks\":\"\",\"zerolinecolor\":\"white\"},\"zaxis\":{\"backgroundcolor\":\"#E5ECF6\",\"gridcolor\":\"white\",\"gridwidth\":2,\"linecolor\":\"white\",\"showbackground\":true,\"ticks\":\"\",\"zerolinecolor\":\"white\"}},\"shapedefaults\":{\"line\":{\"color\":\"#2a3f5f\"}},\"ternary\":{\"aaxis\":{\"gridcolor\":\"white\",\"linecolor\":\"white\",\"ticks\":\"\"},\"baxis\":{\"gridcolor\":\"white\",\"linecolor\":\"white\",\"ticks\":\"\"},\"bgcolor\":\"#E5ECF6\",\"caxis\":{\"gridcolor\":\"white\",\"linecolor\":\"white\",\"ticks\":\"\"}},\"title\":{\"x\":0.05},\"xaxis\":{\"automargin\":true,\"gridcolor\":\"white\",\"linecolor\":\"white\",\"ticks\":\"\",\"title\":{\"standoff\":15},\"zerolinecolor\":\"white\",\"zerolinewidth\":2},\"yaxis\":{\"automargin\":true,\"gridcolor\":\"white\",\"linecolor\":\"white\",\"ticks\":\"\",\"title\":{\"standoff\":15},\"zerolinecolor\":\"white\",\"zerolinewidth\":2}}},\"autosize\":false,\"updatemenus\":[{\"buttons\":[{\"args\":[null,{\"frame\":{\"duration\":30,\"redraw\":false},\"fromcurrent\":true,\"transition\":{\"duration\":0}}],\"label\":\"Play\",\"method\":\"animate\"}],\"showactive\":false,\"type\":\"buttons\",\"x\":1.12,\"xanchor\":\"right\",\"y\":1,\"yanchor\":\"top\"}]},                        {\"responsive\": true}                    ).then(function(){\n",
       "                            Plotly.addFrames('688fae58-5f9d-465b-a267-b7125b74f00b', [{\"data\":[{\"marker\":{\"color\":[\"orange\",\"blue\",\"blue\",\"blue\",\"orange\",\"orange\"],\"size\":10},\"mode\":\"markers\",\"x\":[-998.719970703125,-3682.39990234375,-110.2699966430664,-3838.550048828125,2052.1201171875,-3383.64990234375],\"y\":[4334.009765625,-119.72000122070312,-4084.030029296875,1827.5899658203125,3573.800048828125,2912.06005859375],\"type\":\"scatter\"},{\"marker\":{\"color\":\"black\",\"size\":10},\"mode\":\"markers\",\"x\":[-3543.919921875],\"y\":[2248.949951171875],\"type\":\"scatter\"}]},{\"data\":[{\"marker\":{\"color\":[\"orange\",\"blue\",\"blue\",\"blue\",\"orange\",\"orange\"],\"size\":10},\"mode\":\"markers\",\"x\":[-998.719970703125,-3682.39990234375,23.780000686645508,-3838.550048828125,2007.530029296875,-3348.830078125],\"y\":[4334.009765625,-119.72000122070312,-4149.60009765625,1827.5899658203125,3743.389892578125,2776.1298828125],\"type\":\"scatter\"},{\"marker\":{\"color\":\"black\",\"size\":10},\"mode\":\"markers\",\"x\":[-3522.219970703125],\"y\":[2200.409912109375],\"type\":\"scatter\"}]},{\"data\":[{\"marker\":{\"color\":[\"orange\",\"blue\",\"blue\",\"blue\",\"orange\",\"orange\"],\"size\":10},\"mode\":\"markers\",\"x\":[-1060.0400390625,-3646.6298828125,23.780000686645508,-3822.22998046875,2007.530029296875,-3348.830078125],\"y\":[4253.9501953125,-121.37999725341797,-4149.60009765625,1710.3499755859375,3743.389892578125,2776.1298828125],\"type\":\"scatter\"},{\"marker\":{\"color\":\"black\",\"size\":10},\"mode\":\"markers\",\"x\":[-3511.3798828125],\"y\":[2176.14990234375],\"type\":\"scatter\"}]},{\"data\":[{\"marker\":{\"color\":[\"orange\",\"blue\",\"blue\",\"blue\",\"orange\",\"orange\"],\"size\":10},\"mode\":\"markers\",\"x\":[-1060.0400390625,-3646.6298828125,198.80999755859375,-3822.22998046875,1973.3399658203125,-3308.18994140625],\"y\":[4253.9501953125,-121.37999725341797,-4206.77978515625,1710.3499755859375,3847.260009765625,2647.699951171875],\"type\":\"scatter\"},{\"marker\":{\"color\":\"black\",\"size\":10},\"mode\":\"markers\",\"x\":[-3457.25],\"y\":[2055.070068359375],\"type\":\"scatter\"}]},{\"data\":[{\"marker\":{\"color\":[\"orange\",\"blue\",\"blue\",\"blue\",\"orange\",\"orange\"],\"size\":10},\"mode\":\"markers\",\"x\":[-1122.0400390625,-3603.580078125,198.80999755859375,-3796.719970703125,1922.989990234375,-3308.18994140625],\"y\":[4166.6298828125,-128.41000366210938,-4206.77978515625,1532.489990234375,3991.780029296875,2647.699951171875],\"type\":\"scatter\"},{\"marker\":{\"color\":\"black\",\"size\":10},\"mode\":\"markers\",\"x\":[-3441.050048828125],\"y\":[2018.800048828125],\"type\":\"scatter\"}]},{\"data\":[{\"marker\":{\"color\":[\"orange\",\"blue\",\"blue\",\"blue\",\"orange\",\"orange\"],\"size\":10},\"mode\":\"markers\",\"x\":[-1122.0400390625,-3603.580078125,396.1300048828125,-3796.719970703125,1912.43994140625,-3260.1201171875],\"y\":[4166.6298828125,-128.41000366210938,-4238.22998046875,1532.489990234375,4020.010009765625,2498.85009765625],\"type\":\"scatter\"},{\"marker\":{\"color\":\"black\",\"size\":10},\"mode\":\"markers\",\"x\":[-3408.669921875],\"y\":[1946.3499755859375],\"type\":\"scatter\"}]},{\"data\":[{\"marker\":{\"color\":[\"orange\",\"blue\",\"blue\",\"blue\",\"orange\",\"orange\"],\"size\":10},\"mode\":\"markers\",\"x\":[-1185.6099853515625,-3542.1298828125,432.17999267578125,-3768.080078125,1866.8499755859375,-3242.10009765625],\"y\":[4074.659912109375,-135.4499969482422,-4241.22021484375,1332.2900390625,4129.72021484375,2443.580078125],\"type\":\"scatter\"},{\"marker\":{\"color\":\"black\",\"size\":10},\"mode\":\"markers\",\"x\":[-3376.340087890625],\"y\":[1874.02001953125],\"type\":\"scatter\"}]},{\"data\":[{\"marker\":{\"color\":[\"orange\",\"blue\",\"blue\",\"blue\",\"orange\",\"orange\"],\"size\":10},\"mode\":\"markers\",\"x\":[-1185.6099853515625,-3542.1298828125,558.4400024414062,-3768.080078125,1854.3399658203125,-3242.10009765625],\"y\":[4074.659912109375,-135.4499969482422,-4247.330078125,1332.2900390625,4156.16015625,2443.580078125],\"type\":\"scatter\"},{\"marker\":{\"color\":\"black\",\"size\":10},\"mode\":\"markers\",\"x\":[-3360.199951171875],\"y\":[1837.8900146484375],\"type\":\"scatter\"}]},{\"data\":[{\"marker\":{\"color\":[\"orange\",\"blue\",\"blue\",\"blue\",\"orange\",\"orange\"],\"size\":10},\"mode\":\"markers\",\"x\":[-1231.1099853515625,-3490.590087890625,594.52001953125,-3751.35009765625,1854.3399658203125,-3200.6201171875],\"y\":[4008.419921875,-135.55999755859375,-4248.18994140625,1215.25,4156.16015625,2317.31005859375],\"type\":\"scatter\"},{\"marker\":{\"color\":\"black\",\"size\":10},\"mode\":\"markers\",\"x\":[-3327.949951171875],\"y\":[1765.719970703125],\"type\":\"scatter\"}]},{\"data\":[{\"marker\":{\"color\":[\"orange\",\"blue\",\"blue\",\"blue\",\"orange\",\"orange\"],\"size\":10},\"mode\":\"markers\",\"x\":[-1231.1099853515625,-3490.590087890625,738.8400268554688,-3751.35009765625,1791.239990234375,-3200.6201171875],\"y\":[4008.419921875,-135.55999755859375,-4249.669921875,1215.25,4268.7900390625,2317.31005859375],\"type\":\"scatter\"},{\"marker\":{\"color\":\"black\",\"size\":10},\"mode\":\"markers\",\"x\":[-3306.469970703125],\"y\":[1717.6700439453125],\"type\":\"scatter\"}]},{\"data\":[{\"marker\":{\"color\":[\"orange\",\"blue\",\"blue\",\"blue\",\"orange\",\"orange\"],\"size\":10},\"mode\":\"markers\",\"x\":[-1280.780029296875,-3490.590087890625,738.8400268554688,-3722.669921875,1791.239990234375,-3200.6201171875],\"y\":[3935.81005859375,-135.55999755859375,-4249.669921875,1014.6099853515625,4268.7900390625,2317.31005859375],\"type\":\"scatter\"},{\"marker\":{\"color\":\"black\",\"size\":10},\"mode\":\"markers\",\"x\":[-3285.030029296875],\"y\":[1669.6600341796875],\"type\":\"scatter\"}]},{\"data\":[{\"marker\":{\"color\":[\"orange\",\"blue\",\"blue\",\"blue\",\"orange\",\"orange\"],\"size\":10},\"mode\":\"markers\",\"x\":[-1290.6600341796875,-3416.340087890625,919.2100219726562,-3722.669921875,1689.97998046875,-3143.610107421875],\"y\":[3921.010009765625,-123.80000305175781,-4251.7998046875,1014.6099853515625,4399.4501953125,2145.669921875],\"type\":\"scatter\"},{\"marker\":{\"color\":\"black\",\"size\":10},\"mode\":\"markers\",\"x\":[-3252.89990234375],\"y\":[1597.75],\"type\":\"scatter\"}]},{\"data\":[{\"marker\":{\"color\":[\"orange\",\"blue\",\"blue\",\"blue\",\"orange\",\"orange\"],\"size\":10},\"mode\":\"markers\",\"x\":[-1337.550048828125,-3416.340087890625,955.260009765625,-3703.550048828125,1689.97998046875,-3095.89990234375],\"y\":[3844.179931640625,-123.80000305175781,-4252.77978515625,880.8499755859375,4399.4501953125,2002.22998046875],\"type\":\"scatter\"},{\"marker\":{\"color\":\"black\",\"size\":10},\"mode\":\"markers\",\"x\":[-3220.820068359375],\"y\":[1525.949951171875],\"type\":\"scatter\"}]},{\"data\":[{\"marker\":{\"color\":[\"orange\",\"blue\",\"blue\",\"blue\",\"orange\",\"orange\"],\"size\":10},\"mode\":\"markers\",\"x\":[-1337.550048828125,-3346.4599609375,955.260009765625,-3703.550048828125,1624.9000244140625,-3091.1201171875],\"y\":[3844.179931640625,-108.69000244140625,-4252.77978515625,880.8499755859375,4466.35009765625,1987.8699951171875],\"type\":\"scatter\"},{\"marker\":{\"color\":\"black\",\"size\":10},\"mode\":\"markers\",\"x\":[-3204.800048828125],\"y\":[1490.0899658203125],\"type\":\"scatter\"}]},{\"data\":[{\"marker\":{\"color\":[\"orange\",\"blue\",\"blue\",\"blue\",\"orange\",\"orange\"],\"size\":10},\"mode\":\"markers\",\"x\":[-1373.7900390625,-3346.4599609375,1153.9200439453125,-3677.260009765625,1624.9000244140625,-3091.1201171875],\"y\":[3770.10009765625,-108.69000244140625,-4263.169921875,696.9299926757812,4466.35009765625,1987.8699951171875],\"type\":\"scatter\"},{\"marker\":{\"color\":\"black\",\"size\":10},\"mode\":\"markers\",\"x\":[-3172.7900390625],\"y\":[1418.4599609375],\"type\":\"scatter\"}]},{\"data\":[{\"marker\":{\"color\":[\"orange\",\"blue\",\"blue\",\"blue\",\"orange\",\"orange\"],\"size\":10},\"mode\":\"markers\",\"x\":[-1380.9100341796875,-3270.169921875,1153.9200439453125,-3677.260009765625,1529.0999755859375,-3043.27001953125],\"y\":[3752.969970703125,-92.1500015258789,-4263.169921875,696.9299926757812,4554.10009765625,1844.0799560546875],\"type\":\"scatter\"},{\"marker\":{\"color\":\"black\",\"size\":10},\"mode\":\"markers\",\"x\":[-3151.47998046875],\"y\":[1370.77001953125],\"type\":\"scatter\"}]},{\"data\":[{\"marker\":{\"color\":[\"orange\",\"blue\",\"blue\",\"blue\",\"orange\",\"orange\"],\"size\":10},\"mode\":\"markers\",\"x\":[-1407.280029296875,-3270.169921875,1302.199951171875,-3658.139892578125,1529.0999755859375,-3043.27001953125],\"y\":[3682.60009765625,-92.1500015258789,-4275.33984375,563.1699829101562,4554.10009765625,1844.0799560546875],\"type\":\"scatter\"},{\"marker\":{\"color\":\"black\",\"size\":10},\"mode\":\"markers\",\"x\":[-3119.56005859375],\"y\":[1299.3199462890625],\"type\":\"scatter\"}]},{\"data\":[{\"marker\":{\"color\":[\"orange\",\"blue\",\"blue\",\"blue\",\"orange\",\"orange\"],\"size\":10},\"mode\":\"markers\",\"x\":[-1407.280029296875,-3201.77001953125,1473.5699462890625,-3636.6298828125,1422.0,-2990.580078125],\"y\":[3682.60009765625,-76.8499984741211,-4291.759765625,412.69000244140625,4641.7998046875,1685.530029296875],\"type\":\"scatter\"},{\"marker\":{\"color\":\"black\",\"size\":10},\"mode\":\"markers\",\"x\":[-3093.0],\"y\":[1239.8699951171875],\"type\":\"scatter\"}]},{\"data\":[{\"marker\":{\"color\":[\"orange\",\"blue\",\"blue\",\"blue\",\"orange\",\"orange\"],\"size\":10},\"mode\":\"markers\",\"x\":[-1407.280029296875,-3201.77001953125,1473.5699462890625,-3636.6298828125,1422.0,-2990.580078125],\"y\":[3682.60009765625,-76.8499984741211,-4291.759765625,412.69000244140625,4641.7998046875,1685.530029296875],\"type\":\"scatter\"},{\"marker\":{\"color\":\"black\",\"size\":10},\"mode\":\"markers\",\"x\":[-3071.77001953125],\"y\":[1192.3599853515625],\"type\":\"scatter\"}]},{\"data\":[{\"marker\":{\"color\":[\"orange\",\"blue\",\"blue\",\"blue\",\"orange\",\"orange\"],\"size\":10},\"mode\":\"markers\",\"x\":[-1445.739990234375,-3136.300048828125,1664.93994140625,-3636.6298828125,1318.8599853515625,-2942.679931640625],\"y\":[3559.93994140625,-57.91999816894531,-4311.22021484375,412.69000244140625,4710.14990234375,1541.1700439453125],\"type\":\"scatter\"},{\"marker\":{\"color\":\"black\",\"size\":10},\"mode\":\"markers\",\"x\":[-3039.969970703125],\"y\":[1121.18994140625],\"type\":\"scatter\"}]},{\"data\":[{\"marker\":{\"color\":[\"orange\",\"blue\",\"blue\",\"blue\",\"orange\",\"orange\"],\"size\":10},\"mode\":\"markers\",\"x\":[-1445.739990234375,-3136.300048828125,1703.199951171875,-3603.169921875,1231.1700439453125,-2904.409912109375],\"y\":[3559.93994140625,-57.91999816894531,-4315.18017578125,178.61000061035156,4753.85986328125,1425.47998046875],\"type\":\"scatter\"},{\"marker\":{\"color\":\"black\",\"size\":10},\"mode\":\"markers\",\"x\":[-3008.22998046875],\"y\":[1050.1300048828125],\"type\":\"scatter\"}]},{\"data\":[{\"marker\":{\"color\":[\"orange\",\"blue\",\"blue\",\"blue\",\"orange\",\"orange\"],\"size\":10},\"mode\":\"markers\",\"x\":[-1474.5899658203125,-3067.8798828125,1856.27001953125,-3603.169921875,1208.6099853515625,-2894.85009765625],\"y\":[3454.840087890625,-33.20000076293945,-4330.85986328125,178.61000061035156,4762.990234375,1396.52001953125],\"type\":\"scatter\"},{\"marker\":{\"color\":\"black\",\"size\":10},\"mode\":\"markers\",\"x\":[-2987.10009765625],\"y\":[1002.8200073242188],\"type\":\"scatter\"}]},{\"data\":[{\"marker\":{\"color\":[\"orange\",\"blue\",\"blue\",\"blue\",\"orange\",\"orange\"],\"size\":10},\"mode\":\"markers\",\"x\":[-1500.050048828125,-3067.8798828125,1856.27001953125,-3586.43994140625,1104.81005859375,-2851.9599609375],\"y\":[3352.840087890625,-33.20000076293945,-4330.85986328125,61.56999969482422,4794.6201171875,1266.030029296875],\"type\":\"scatter\"},{\"marker\":{\"color\":\"black\",\"size\":10},\"mode\":\"markers\",\"x\":[-2950.169921875],\"y\":[920.1400146484375],\"type\":\"scatter\"}]},{\"data\":[{\"marker\":{\"color\":[\"orange\",\"blue\",\"blue\",\"blue\",\"orange\",\"orange\"],\"size\":10},\"mode\":\"markers\",\"x\":[-1500.050048828125,-2990.429931640625,2066.89990234375,-3562.5400390625,1104.81005859375,-2851.9599609375],\"y\":[3352.840087890625,0.75,-4344.43017578125,-105.62999725341797,4794.6201171875,1266.030029296875],\"type\":\"scatter\"},{\"marker\":{\"color\":\"black\",\"size\":10},\"mode\":\"markers\",\"x\":[-2929.090087890625],\"y\":[872.9600219726562],\"type\":\"scatter\"}]},{\"data\":[{\"marker\":{\"color\":[\"orange\",\"blue\",\"blue\",\"blue\",\"orange\",\"orange\"],\"size\":10},\"mode\":\"markers\",\"x\":[-1528.25,-2990.429931640625,2066.89990234375,-3562.5400390625,986.6500244140625,-2804.52001953125],\"y\":[3232.590087890625,0.75,-4344.43017578125,-105.62999725341797,4815.58984375,1120.7099609375],\"type\":\"scatter\"},{\"marker\":{\"color\":\"black\",\"size\":10},\"mode\":\"markers\",\"x\":[-2897.52001953125],\"y\":[802.280029296875],\"type\":\"scatter\"}]},{\"data\":[{\"marker\":{\"color\":[\"orange\",\"blue\",\"blue\",\"blue\",\"orange\",\"orange\"],\"size\":10},\"mode\":\"markers\",\"x\":[-1531.1099853515625,-2926.260009765625,2238.419921875,-3536.25,986.6500244140625,-2804.52001953125],\"y\":[3220.18994140625,33.779998779296875,-4340.10986328125,-289.54998779296875,4815.58984375,1120.7099609375],\"type\":\"scatter\"},{\"marker\":{\"color\":\"black\",\"size\":10},\"mode\":\"markers\",\"x\":[-2881.75],\"y\":[766.97998046875],\"type\":\"scatter\"}]},{\"data\":[{\"marker\":{\"color\":[\"orange\",\"blue\",\"blue\",\"blue\",\"orange\",\"orange\"],\"size\":10},\"mode\":\"markers\",\"x\":[-1560.9000244140625,-2926.260009765625,2389.570068359375,-3536.25,900.3499755859375,-2771.47998046875],\"y\":[3092.550048828125,33.779998779296875,-4324.6298828125,-289.54998779296875,4823.52978515625,1018.7999877929688],\"type\":\"scatter\"},{\"marker\":{\"color\":\"black\",\"size\":10},\"mode\":\"markers\",\"x\":[-2839.760009765625],\"y\":[672.97998046875],\"type\":\"scatter\"}]},{\"data\":[{\"marker\":{\"color\":[\"orange\",\"blue\",\"blue\",\"blue\",\"orange\",\"orange\"],\"size\":10},\"mode\":\"markers\",\"x\":[-1560.9000244140625,-2840.580078125,2427.14990234375,-3536.25,900.3499755859375,-2771.47998046875],\"y\":[3092.550048828125,81.56999969482422,-4319.43994140625,-289.54998779296875,4823.52978515625,1018.7999877929688],\"type\":\"scatter\"},{\"marker\":{\"color\":\"black\",\"size\":10},\"mode\":\"markers\",\"x\":[-2818.800048828125],\"y\":[626.0499877929688],\"type\":\"scatter\"}]},{\"data\":[{\"marker\":{\"color\":[\"orange\",\"blue\",\"blue\",\"blue\",\"orange\",\"orange\"],\"size\":10},\"mode\":\"markers\",\"x\":[-1590.1500244140625,-2840.580078125,2427.14990234375,-3509.0400390625,732.0,-2724.570068359375],\"y\":[2972.199951171875,81.56999969482422,-4319.43994140625,-490.44000244140625,4819.7998046875,872.97998046875],\"type\":\"scatter\"},{\"marker\":{\"color\":\"black\",\"size\":10},\"mode\":\"markers\",\"x\":[-2792.6298828125],\"y\":[567.4600219726562],\"type\":\"scatter\"}]},{\"data\":[{\"marker\":{\"color\":[\"orange\",\"blue\",\"blue\",\"blue\",\"orange\",\"orange\"],\"size\":10},\"mode\":\"markers\",\"x\":[-1590.1500244140625,-2776.35009765625,2595.030029296875,-3509.0400390625,732.0,-2682.64990234375],\"y\":[2972.199951171875,117.75,-4290.0498046875,-490.44000244140625,4819.7998046875,741.530029296875],\"type\":\"scatter\"},{\"marker\":{\"color\":\"black\",\"size\":10},\"mode\":\"markers\",\"x\":[-2761.260009765625],\"y\":[497.25],\"type\":\"scatter\"}]},{\"data\":[{\"marker\":{\"color\":[\"orange\",\"blue\",\"blue\",\"blue\",\"orange\",\"orange\"],\"size\":10},\"mode\":\"markers\",\"x\":[-1618.1199951171875,-2776.35009765625,2595.030029296875,-3494.2099609375,625.219970703125,-2682.64990234375],\"y\":[2860.89990234375,117.75,-4290.0498046875,-675.1900024414062,4801.97998046875,741.530029296875],\"type\":\"scatter\"},{\"marker\":{\"color\":\"black\",\"size\":10},\"mode\":\"markers\",\"x\":[-2729.93994140625],\"y\":[427.1400146484375],\"type\":\"scatter\"}]},{\"data\":[{\"marker\":{\"color\":[\"orange\",\"blue\",\"blue\",\"blue\",\"orange\",\"orange\"],\"size\":10},\"mode\":\"markers\",\"x\":[-1655.260009765625,-2676.590087890625,2848.010009765625,-3490.1298828125,625.219970703125,-2626.85009765625],\"y\":[2715.93994140625,174.5800018310547,-4218.39990234375,-843.3800048828125,4801.97998046875,566.2100219726562],\"type\":\"scatter\"},{\"marker\":{\"color\":\"black\",\"size\":10},\"mode\":\"markers\",\"x\":[-2698.679931640625],\"y\":[357.1499938964844],\"type\":\"scatter\"}]},{\"data\":[{\"marker\":{\"color\":[\"orange\",\"blue\",\"blue\",\"blue\",\"orange\",\"orange\"],\"size\":10},\"mode\":\"markers\",\"x\":[-1662.93994140625,-2676.590087890625,2848.010009765625,-3490.030029296875,439.760009765625,-2617.550048828125],\"y\":[2686.159912109375,174.5800018310547,-4218.39990234375,-877.010009765625,4736.830078125,536.989990234375],\"type\":\"scatter\"},{\"marker\":{\"color\":\"black\",\"size\":10},\"mode\":\"markers\",\"x\":[-2677.860107421875],\"y\":[310.5400085449219],\"type\":\"scatter\"}]},{\"data\":[{\"marker\":{\"color\":[\"orange\",\"blue\",\"blue\",\"blue\",\"orange\",\"orange\"],\"size\":10},\"mode\":\"markers\",\"x\":[-1690.4100341796875,-2612.590087890625,2967.989990234375,-3490.68994140625,439.760009765625,-2617.550048828125],\"y\":[2579.840087890625,211.5,-4169.6298828125,-994.6799926757812,4736.830078125,536.989990234375],\"type\":\"scatter\"},{\"marker\":{\"color\":\"black\",\"size\":10},\"mode\":\"markers\",\"x\":[-2651.860107421875],\"y\":[252.36000061035156],\"type\":\"scatter\"}]},{\"data\":[{\"marker\":{\"color\":[\"orange\",\"blue\",\"blue\",\"blue\",\"orange\",\"orange\"],\"size\":10},\"mode\":\"markers\",\"x\":[-1698.4300537109375,-2612.590087890625,2967.989990234375,-3491.070068359375,329.4800109863281,-2575.699951171875],\"y\":[2548.8701171875,211.5,-4169.6298828125,-1028.300048828125,4673.259765625,405.5],\"type\":\"scatter\"},{\"marker\":{\"color\":\"black\",\"size\":10},\"mode\":\"markers\",\"x\":[-2631.10009765625],\"y\":[205.86000061035156],\"type\":\"scatter\"}]},{\"data\":[{\"marker\":{\"color\":[\"orange\",\"blue\",\"blue\",\"blue\",\"orange\",\"orange\"],\"size\":10},\"mode\":\"markers\",\"x\":[-1698.4300537109375,-2555.81005859375,3152.3701171875,-3491.070068359375,306.260009765625,-2575.699951171875],\"y\":[2548.8701171875,244.57000732421875,-4062.39990234375,-1028.300048828125,4656.89990234375,405.5],\"type\":\"scatter\"},{\"marker\":{\"color\":\"black\",\"size\":10},\"mode\":\"markers\",\"x\":[-2610.340087890625],\"y\":[159.41000366210938],\"type\":\"scatter\"}]},{\"data\":[{\"marker\":{\"color\":[\"orange\",\"blue\",\"blue\",\"blue\",\"orange\",\"orange\"],\"size\":10},\"mode\":\"markers\",\"x\":[-1731.9100341796875,-2555.81005859375,3152.3701171875,-3493.590087890625,306.260009765625,-2529.199951171875],\"y\":[2422.52001953125,244.57000732421875,-4062.39990234375,-1196.4000244140625,4656.89990234375,259.3999938964844],\"type\":\"scatter\"},{\"marker\":{\"color\":\"black\",\"size\":10},\"mode\":\"markers\",\"x\":[-2599.97998046875],\"y\":[136.2100067138672],\"type\":\"scatter\"}]},{\"data\":[{\"marker\":{\"color\":[\"orange\",\"blue\",\"blue\",\"blue\",\"orange\",\"orange\"],\"size\":10},\"mode\":\"markers\",\"x\":[-1731.9100341796875,-2555.81005859375,3152.3701171875,-3493.590087890625,306.260009765625,-2529.199951171875],\"y\":[2422.52001953125,244.57000732421875,-4062.39990234375,-1196.4000244140625,4656.89990234375,259.3999938964844],\"type\":\"scatter\"},{\"marker\":{\"color\":\"black\",\"size\":10},\"mode\":\"markers\",\"x\":[-2579.260009765625],\"y\":[89.83000183105469],\"type\":\"scatter\"}]},{\"data\":[{\"marker\":{\"color\":[\"orange\",\"blue\",\"blue\",\"blue\",\"orange\",\"orange\"],\"size\":10},\"mode\":\"markers\",\"x\":[-1783.1800537109375,-2484.909912109375,3267.60009765625,-3493.590087890625,176.52999877929688,-2487.35009765625],\"y\":[2242.820068359375,286.1099853515625,-3947.139892578125,-1196.4000244140625,4540.8701171875,127.91000366210938],\"type\":\"scatter\"},{\"marker\":{\"color\":\"black\",\"size\":10},\"mode\":\"markers\",\"x\":[-2543.06005859375],\"y\":[8.789999961853027],\"type\":\"scatter\"}]},{\"data\":[{\"marker\":{\"color\":[\"orange\",\"blue\",\"blue\",\"blue\",\"orange\",\"orange\"],\"size\":10},\"mode\":\"markers\",\"x\":[-1783.1800537109375,-2484.909912109375,3320.179931640625,-3496.909912109375,108.56999969482422,-2487.35009765625],\"y\":[2242.820068359375,286.1099853515625,-3856.56005859375,-1381.31005859375,4461.22021484375,127.91000366210938],\"type\":\"scatter\"},{\"marker\":{\"color\":\"black\",\"size\":10},\"mode\":\"markers\",\"x\":[-2512.080078125],\"y\":[-60.560001373291016],\"type\":\"scatter\"}]},{\"data\":[{\"marker\":{\"color\":[\"orange\",\"blue\",\"blue\",\"blue\",\"orange\",\"orange\"],\"size\":10},\"mode\":\"markers\",\"x\":[-1832.1300048828125,-2392.739990234375,3320.179931640625,-3500.070068359375,108.56999969482422,-2440.85009765625],\"y\":[2072.7099609375,340.19000244140625,-3856.56005859375,-1549.4100341796875,4461.22021484375,-18.190000534057617],\"type\":\"scatter\"},{\"marker\":{\"color\":\"black\",\"size\":10},\"mode\":\"markers\",\"x\":[-2481.14990234375],\"y\":[-129.8000030517578],\"type\":\"scatter\"}]},{\"data\":[{\"marker\":{\"color\":[\"orange\",\"blue\",\"blue\",\"blue\",\"orange\",\"orange\"],\"size\":10},\"mode\":\"markers\",\"x\":[-1832.1300048828125,-2336.02001953125,3363.159912109375,-3500.070068359375,3.4700000286102295,-2440.85009765625],\"y\":[2072.7099609375,373.5199890136719,-3697.489990234375,-1549.4100341796875,4315.759765625,-18.190000534057617],\"type\":\"scatter\"},{\"marker\":{\"color\":\"black\",\"size\":10},\"mode\":\"markers\",\"x\":[-2457.929931640625],\"y\":[-185.58999633789062],\"type\":\"scatter\"}]},{\"data\":[{\"marker\":{\"color\":[\"orange\",\"blue\",\"blue\",\"blue\",\"orange\",\"orange\"],\"size\":10},\"mode\":\"markers\",\"x\":[-1875.1700439453125,-2328.929931640625,3363.159912109375,-3503.0400390625,-51.630001068115234,-2389.699951171875],\"y\":[1875.3900146484375,377.69000244140625,-3697.489990234375,-1700.68994140625,4227.18994140625,-178.89999389648438],\"type\":\"scatter\"},{\"marker\":{\"color\":\"black\",\"size\":10},\"mode\":\"markers\",\"x\":[-2448.239990234375],\"y\":[-210.1199951171875],\"type\":\"scatter\"}]},{\"data\":[{\"marker\":{\"color\":[\"orange\",\"blue\",\"blue\",\"blue\",\"orange\",\"orange\"],\"size\":10},\"mode\":\"markers\",\"x\":[-1875.1700439453125,-2272.2099609375,3361.89990234375,-3503.0400390625,-51.630001068115234,-2389.699951171875],\"y\":[1875.3900146484375,411.04998779296875,-3585.5400390625,-1700.68994140625,4227.18994140625,-178.89999389648438],\"type\":\"scatter\"},{\"marker\":{\"color\":\"black\",\"size\":10},\"mode\":\"markers\",\"x\":[-2435.320068359375],\"y\":[-242.8000030517578],\"type\":\"scatter\"}]},{\"data\":[{\"marker\":{\"color\":[\"orange\",\"blue\",\"blue\",\"blue\",\"orange\",\"orange\"],\"size\":10},\"mode\":\"markers\",\"x\":[-1903.6800537109375,-2272.2099609375,3361.89990234375,-3515.739990234375,-51.630001068115234,-2333.89990234375],\"y\":[1648.6500244140625,411.04998779296875,-3585.5400390625,-1901.449951171875,4227.18994140625,-354.2200012207031],\"type\":\"scatter\"},{\"marker\":{\"color\":\"black\",\"size\":10},\"mode\":\"markers\",\"x\":[-2409.5400390625],\"y\":[-308.0400085449219],\"type\":\"scatter\"}]},{\"data\":[{\"marker\":{\"color\":[\"orange\",\"blue\",\"blue\",\"blue\",\"orange\",\"orange\"],\"size\":10},\"mode\":\"markers\",\"x\":[-1903.6800537109375,-2187.1298828125,3326.4599609375,-3515.739990234375,-129.91000366210938,-2333.89990234375],\"y\":[1648.6500244140625,461.1700134277344,-3478.580078125,-1901.449951171875,4067.8798828125,-354.2200012207031],\"type\":\"scatter\"},{\"marker\":{\"color\":\"black\",\"size\":10},\"mode\":\"markers\",\"x\":[-2390.219970703125],\"y\":[-356.8900146484375],\"type\":\"scatter\"}]},{\"data\":[{\"marker\":{\"color\":[\"orange\",\"blue\",\"blue\",\"blue\",\"orange\",\"orange\"],\"size\":10},\"mode\":\"markers\",\"x\":[-1917.469970703125,-2187.1298828125,3326.4599609375,-3538.72998046875,-129.91000366210938,-2292.050048828125],\"y\":[1476.75,461.1700134277344,-3478.580078125,-2049.820068359375,4067.8798828125,-485.7099914550781],\"type\":\"scatter\"},{\"marker\":{\"color\":\"black\",\"size\":10},\"mode\":\"markers\",\"x\":[-2380.590087890625],\"y\":[-381.2799987792969],\"type\":\"scatter\"}]},{\"data\":[{\"marker\":{\"color\":[\"orange\",\"blue\",\"blue\",\"blue\",\"orange\",\"orange\"],\"size\":10},\"mode\":\"markers\",\"x\":[-1917.469970703125,-2122.4599609375,3250.31005859375,-3538.72998046875,-177.05999755859375,-2292.050048828125],\"y\":[1476.75,500.04998779296875,-3385.14990234375,-2049.820068359375,3914.3701171875,-485.7099914550781],\"type\":\"scatter\"},{\"marker\":{\"color\":\"black\",\"size\":10},\"mode\":\"markers\",\"x\":[-2361.330078125],\"y\":[-430.0199890136719],\"type\":\"scatter\"}]},{\"data\":[{\"marker\":{\"color\":[\"orange\",\"blue\",\"blue\",\"blue\",\"orange\",\"orange\"],\"size\":10},\"mode\":\"markers\",\"x\":[-1930.8399658203125,-2107.6298828125,3250.31005859375,-3574.6201171875,-194.3800048828125,-2245.550048828125],\"y\":[1285.6400146484375,509.260009765625,-3385.14990234375,-2212.2900390625,3800.35009765625,-631.8099975585938],\"type\":\"scatter\"},{\"marker\":{\"color\":\"black\",\"size\":10},\"mode\":\"markers\",\"x\":[-2348.510009765625],\"y\":[-462.4700012207031],\"type\":\"scatter\"}]},{\"data\":[{\"marker\":{\"color\":[\"orange\",\"blue\",\"blue\",\"blue\",\"orange\",\"orange\"],\"size\":10},\"mode\":\"markers\",\"x\":[-1930.8399658203125,-2046.25,3135.139892578125,-3574.6201171875,-194.3800048828125,-2245.550048828125],\"y\":[1285.6400146484375,548.0900268554688,-3313.139892578125,-2212.2900390625,3800.35009765625,-631.8099975585938],\"type\":\"scatter\"},{\"marker\":{\"color\":\"black\",\"size\":10},\"mode\":\"markers\",\"x\":[-2329.31005859375],\"y\":[-511.0799865722656],\"type\":\"scatter\"}]},{\"data\":[{\"marker\":{\"color\":[\"orange\",\"blue\",\"blue\",\"blue\",\"orange\",\"orange\"],\"size\":10},\"mode\":\"markers\",\"x\":[-1943.72998046875,-2030.3499755859375,3135.139892578125,-3608.93994140625,-194.3800048828125,-2199.050048828125],\"y\":[1132.9599609375,558.27001953125,-3313.139892578125,-2374.75,3800.35009765625,-777.9099731445312],\"type\":\"scatter\"},{\"marker\":{\"color\":\"black\",\"size\":10},\"mode\":\"markers\",\"x\":[-2322.909912109375],\"y\":[-527.260009765625],\"type\":\"scatter\"}]},{\"data\":[{\"marker\":{\"color\":[\"orange\",\"blue\",\"blue\",\"blue\",\"orange\",\"orange\"],\"size\":10},\"mode\":\"markers\",\"x\":[-1943.72998046875,-1972.81005859375,3057.5,-3608.93994140625,-194.0,-2199.050048828125],\"y\":[1132.9599609375,595.2000122070312,-3285.06005859375,-2374.75,3644.14990234375,-777.9099731445312],\"type\":\"scatter\"},{\"marker\":{\"color\":\"black\",\"size\":10},\"mode\":\"markers\",\"x\":[-2300.56005859375],\"y\":[-583.8499755859375],\"type\":\"scatter\"}]},{\"data\":[{\"marker\":{\"color\":[\"orange\",\"blue\",\"blue\",\"blue\",\"orange\",\"orange\"],\"size\":10},\"mode\":\"markers\",\"x\":[-1966.3800048828125,-1972.81005859375,3057.5,-3627.340087890625,-194.0,-2157.199951171875],\"y\":[923.5800170898438,595.2000122070312,-3285.06005859375,-2522.25,3644.14990234375,-909.4000244140625],\"type\":\"scatter\"},{\"marker\":{\"color\":\"black\",\"size\":10},\"mode\":\"markers\",\"x\":[-2287.800048828125],\"y\":[-616.1400146484375],\"type\":\"scatter\"}]},{\"data\":[{\"marker\":{\"color\":[\"orange\",\"blue\",\"blue\",\"blue\",\"orange\",\"orange\"],\"size\":10},\"mode\":\"markers\",\"x\":[-1971.010009765625,-1972.81005859375,2913.080078125,-3629.110107421875,-163.9199981689453,-2147.89990234375],\"y\":[885.5700073242188,595.2000122070312,-3261.419921875,-2555.080078125,3478.93994140625,-938.6199951171875],\"type\":\"scatter\"},{\"marker\":{\"color\":\"black\",\"size\":10},\"mode\":\"markers\",\"x\":[-2268.68994140625],\"y\":[-664.52001953125],\"type\":\"scatter\"}]},{\"data\":[{\"marker\":{\"color\":[\"orange\",\"blue\",\"blue\",\"blue\",\"orange\",\"orange\"],\"size\":10},\"mode\":\"markers\",\"x\":[-1995.56005859375,-1867.280029296875,2913.080078125,-3623.550048828125,-163.9199981689453,-2101.39990234375],\"y\":[695.72998046875,662.4400024414062,-3261.419921875,-2717.97998046875,3478.93994140625,-1084.8199462890625],\"type\":\"scatter\"},{\"marker\":{\"color\":\"black\",\"size\":10},\"mode\":\"markers\",\"x\":[-2249.610107421875],\"y\":[-712.8099975585938],\"type\":\"scatter\"}]},{\"data\":[{\"marker\":{\"color\":[\"orange\",\"blue\",\"blue\",\"blue\",\"orange\",\"orange\"],\"size\":10},\"mode\":\"markers\",\"x\":[-1995.56005859375,-1786.0699462890625,2798.93994140625,-3623.550048828125,-127.19999694824219,-2101.39990234375],\"y\":[695.72998046875,713.8800048828125,-3264.6298828125,-2717.97998046875,3354.860107421875,-1084.8199462890625],\"type\":\"scatter\"},{\"marker\":{\"color\":\"black\",\"size\":10},\"mode\":\"markers\",\"x\":[-2233.72998046875],\"y\":[-753.0],\"type\":\"scatter\"}]},{\"data\":[{\"marker\":{\"color\":[\"orange\",\"blue\",\"blue\",\"blue\",\"orange\",\"orange\"],\"size\":10},\"mode\":\"markers\",\"x\":[-2018.719970703125,-1786.0699462890625,2798.93994140625,-3597.179931640625,-88.93000030517578,-2068.85009765625],\"y\":[525.02001953125,713.8800048828125,-3264.6298828125,-2860.260009765625,3241.590087890625,-1187.0400390625],\"type\":\"scatter\"},{\"marker\":{\"color\":\"black\",\"size\":10},\"mode\":\"markers\",\"x\":[-2221.050048828125],\"y\":[-785.1199951171875],\"type\":\"scatter\"}]},{\"data\":[{\"marker\":{\"color\":[\"orange\",\"blue\",\"blue\",\"blue\",\"orange\",\"orange\"],\"size\":10},\"mode\":\"markers\",\"x\":[-2018.719970703125,-1677.260009765625,2669.8798828125,-3597.179931640625,-79.29000091552734,-2022.3499755859375],\"y\":[525.02001953125,782.6400146484375,-3289.419921875,-2860.260009765625,3212.590087890625,-1332.6800537109375],\"type\":\"scatter\"},{\"marker\":{\"color\":\"black\",\"size\":10},\"mode\":\"markers\",\"x\":[-2195.7099609375],\"y\":[-849.25],\"type\":\"scatter\"}]},{\"data\":[{\"marker\":{\"color\":[\"orange\",\"blue\",\"blue\",\"blue\",\"orange\",\"orange\"],\"size\":10},\"mode\":\"markers\",\"x\":[-2044.8900146484375,-1659.06005859375,2669.8798828125,-3545.0400390625,-43.400001525878906,-2013.0400390625],\"y\":[335.4200134277344,794.1199951171875,-3289.419921875,-3009.929931640625,3093.530029296875,-1361.75],\"type\":\"scatter\"},{\"marker\":{\"color\":\"black\",\"size\":10},\"mode\":\"markers\",\"x\":[-2183.070068359375],\"y\":[-881.27001953125],\"type\":\"scatter\"}]},{\"data\":[{\"marker\":{\"color\":[\"orange\",\"blue\",\"blue\",\"blue\",\"orange\",\"orange\"],\"size\":10},\"mode\":\"markers\",\"x\":[-2044.8900146484375,-1586.1199951171875,2539.110107421875,-3545.0400390625,-35.66999816894531,-1976.81005859375],\"y\":[335.4200134277344,840.0599975585938,-3331.199951171875,-3009.929931640625,3063.300048828125,-1474.9100341796875],\"type\":\"scatter\"},{\"marker\":{\"color\":\"black\",\"size\":10},\"mode\":\"markers\",\"x\":[-2164.110107421875],\"y\":[-929.22998046875],\"type\":\"scatter\"}]},{\"data\":[{\"marker\":{\"color\":[\"orange\",\"blue\",\"blue\",\"blue\",\"orange\",\"orange\"],\"size\":10},\"mode\":\"markers\",\"x\":[-2071.25,-1586.1199951171875,2539.110107421875,-3476.0,-35.66999816894531,-1976.81005859375],\"y\":[145.82000732421875,840.0599975585938,-3331.199951171875,-3151.18994140625,3063.300048828125,-1474.9100341796875],\"type\":\"scatter\"},{\"marker\":{\"color\":\"black\",\"size\":10},\"mode\":\"markers\",\"x\":[-2157.800048828125],\"y\":[-945.2000122070312],\"type\":\"scatter\"}]},{\"data\":[{\"marker\":{\"color\":[\"orange\",\"blue\",\"blue\",\"blue\",\"orange\",\"orange\"],\"size\":10},\"mode\":\"markers\",\"x\":[-2071.25,-1586.1199951171875,2391.389892578125,-3476.0,-7.309999942779541,-1976.81005859375],\"y\":[145.82000732421875,840.0599975585938,-3388.97998046875,-3151.18994140625,2926.169921875,-1474.9100341796875],\"type\":\"scatter\"},{\"marker\":{\"color\":\"black\",\"size\":10},\"mode\":\"markers\",\"x\":[-2135.75],\"y\":[-1001.030029296875],\"type\":\"scatter\"}]},{\"data\":[{\"marker\":{\"color\":[\"orange\",\"blue\",\"blue\",\"blue\",\"orange\",\"orange\"],\"size\":10},\"mode\":\"markers\",\"x\":[-2095.1201171875,-1485.530029296875,2391.389892578125,-3390.590087890625,10.989999771118164,-1944.5400390625],\"y\":[-24.799999237060547,903.3099975585938,-3388.97998046875,-3301.1298828125,2802.60009765625,-1609.6400146484375],\"type\":\"scatter\"},{\"marker\":{\"color\":\"black\",\"size\":10},\"mode\":\"markers\",\"x\":[-2123.159912109375],\"y\":[-1032.8900146484375],\"type\":\"scatter\"}]},{\"data\":[{\"marker\":{\"color\":[\"orange\",\"blue\",\"blue\",\"blue\",\"orange\",\"orange\"],\"size\":10},\"mode\":\"markers\",\"x\":[-2095.1201171875,-1485.530029296875,2281.60009765625,-3374.590087890625,14.970000267028809,-1944.5400390625],\"y\":[-24.799999237060547,903.3099975585938,-3438.239990234375,-3328.110107421875,2771.050048828125,-1609.6400146484375],\"type\":\"scatter\"},{\"marker\":{\"color\":\"black\",\"size\":10},\"mode\":\"markers\",\"x\":[-2104.320068359375],\"y\":[-1080.6099853515625],\"type\":\"scatter\"}]},{\"data\":[{\"marker\":{\"color\":[\"orange\",\"blue\",\"blue\",\"blue\",\"orange\",\"orange\"],\"size\":10},\"mode\":\"markers\",\"x\":[-2124.489990234375,-1403.050048828125,2281.60009765625,-3318.080078125,27.969999313354492,-1940.8699951171875],\"y\":[-233.25,955.1099853515625,-3438.239990234375,-3422.219970703125,2658.360107421875,-1696.3699951171875],\"type\":\"scatter\"},{\"marker\":{\"color\":\"black\",\"size\":10},\"mode\":\"markers\",\"x\":[-2101.179931640625],\"y\":[-1088.56005859375],\"type\":\"scatter\"}]},{\"data\":[{\"marker\":{\"color\":[\"orange\",\"blue\",\"blue\",\"blue\",\"orange\",\"orange\"],\"size\":10},\"mode\":\"markers\",\"x\":[-2124.489990234375,-1311.239990234375,2134.7099609375,-3318.080078125,27.969999313354492,-1947.0400390625],\"y\":[-233.25,1012.7100219726562,-3518.5,-3422.219970703125,2658.360107421875,-1772.0400390625],\"type\":\"scatter\"},{\"marker\":{\"color\":\"black\",\"size\":10},\"mode\":\"markers\",\"x\":[-2069.830078125],\"y\":[-1167.9100341796875],\"type\":\"scatter\"}]},{\"data\":[{\"marker\":{\"color\":[\"orange\",\"blue\",\"blue\",\"blue\",\"orange\",\"orange\"],\"size\":10},\"mode\":\"markers\",\"x\":[-2156.4599609375,-1311.239990234375,2032.8599853515625,-3220.3798828125,48.599998474121094,-1947.0400390625],\"y\":[-458.6600036621094,1012.7100219726562,-3584.52001953125,-3583.050048828125,2460.929931640625,-1772.0400390625],\"type\":\"scatter\"},{\"marker\":{\"color\":\"black\",\"size\":10},\"mode\":\"markers\",\"x\":[-2057.31005859375],\"y\":[-1199.5899658203125],\"type\":\"scatter\"}]},{\"data\":[{\"marker\":{\"color\":[\"orange\",\"blue\",\"blue\",\"blue\",\"orange\",\"orange\"],\"size\":10},\"mode\":\"markers\",\"x\":[-2156.4599609375,-1219.219970703125,2032.8599853515625,-3220.3798828125,48.599998474121094,-1951.550048828125],\"y\":[-458.6600036621094,1070.3900146484375,-3584.52001953125,-3583.050048828125,2460.929931640625,-1842.489990234375],\"type\":\"scatter\"},{\"marker\":{\"color\":\"black\",\"size\":10},\"mode\":\"markers\",\"x\":[-2038.5699462890625],\"y\":[-1247.06005859375],\"type\":\"scatter\"}]},{\"data\":[{\"marker\":{\"color\":[\"orange\",\"blue\",\"blue\",\"blue\",\"orange\",\"orange\"],\"size\":10},\"mode\":\"markers\",\"x\":[-2156.4599609375,-1210.0,2032.8599853515625,-3162.550048828125,60.20000076293945,-1951.5799560546875],\"y\":[-458.6600036621094,1076.1600341796875,-3584.52001953125,-3676.280029296875,2345.669921875,-1849.6500244140625],\"type\":\"scatter\"},{\"marker\":{\"color\":\"black\",\"size\":10},\"mode\":\"markers\",\"x\":[-2035.449951171875],\"y\":[-1254.9599609375],\"type\":\"scatter\"}]},{\"data\":[{\"marker\":{\"color\":[\"orange\",\"blue\",\"blue\",\"blue\",\"orange\",\"orange\"],\"size\":10},\"mode\":\"markers\",\"x\":[-2177.570068359375,-1210.0,1899.6800537109375,-3162.550048828125,60.20000076293945,-1951.5799560546875],\"y\":[-661.27001953125,1076.1600341796875,-3684.22998046875,-3676.280029296875,2345.669921875,-1849.6500244140625],\"type\":\"scatter\"},{\"marker\":{\"color\":\"black\",\"size\":10},\"mode\":\"markers\",\"x\":[-2016.72998046875],\"y\":[-1302.3399658203125],\"type\":\"scatter\"}]},{\"data\":[{\"marker\":{\"color\":[\"orange\",\"blue\",\"blue\",\"blue\",\"orange\",\"orange\"],\"size\":10},\"mode\":\"markers\",\"x\":[-2177.570068359375,-1136.1800537109375,1899.6800537109375,-3073.239990234375,60.20000076293945,-1947.75],\"y\":[-661.27001953125,1122.3800048828125,-3684.22998046875,-3804.429931640625,2345.669921875,-1908.1700439453125],\"type\":\"scatter\"},{\"marker\":{\"color\":\"black\",\"size\":10},\"mode\":\"markers\",\"x\":[-2004.280029296875],\"y\":[-1333.8900146484375],\"type\":\"scatter\"}]},{\"data\":[{\"marker\":{\"color\":[\"orange\",\"blue\",\"blue\",\"blue\",\"orange\",\"orange\"],\"size\":10},\"mode\":\"markers\",\"x\":[-2178.18994140625,-1136.1800537109375,1786.8800048828125,-3073.239990234375,83.13999938964844,-1947.75],\"y\":[-840.1699829101562,1122.3800048828125,-3784.14990234375,-3804.429931640625,2115.090087890625,-1908.1700439453125],\"type\":\"scatter\"},{\"marker\":{\"color\":\"black\",\"size\":10},\"mode\":\"markers\",\"x\":[-1991.8399658203125],\"y\":[-1365.4100341796875],\"type\":\"scatter\"}]},{\"data\":[{\"marker\":{\"color\":[\"orange\",\"blue\",\"blue\",\"blue\",\"orange\",\"orange\"],\"size\":10},\"mode\":\"markers\",\"x\":[-2178.18994140625,-1136.1800537109375,1786.8800048828125,-3073.239990234375,83.13999938964844,-1947.75],\"y\":[-840.1699829101562,1122.3800048828125,-3784.14990234375,-3804.429931640625,2115.090087890625,-1908.1700439453125],\"type\":\"scatter\"},{\"marker\":{\"color\":\"black\",\"size\":10},\"mode\":\"markers\",\"x\":[-1991.8399658203125],\"y\":[-1365.4100341796875],\"type\":\"scatter\"}]},{\"data\":[{\"marker\":{\"color\":[\"orange\",\"blue\",\"blue\",\"blue\",\"orange\",\"orange\"],\"size\":10},\"mode\":\"markers\",\"x\":[-2166.159912109375,-1034.3800048828125,1711.780029296875,-2981.929931640625,94.54000091552734,-1928.5],\"y\":[-952.239990234375,1186.030029296875,-3857.969970703125,-3909.97998046875,1999.800048828125,-1990.0400390625],\"type\":\"scatter\"},{\"marker\":{\"color\":\"black\",\"size\":10},\"mode\":\"markers\",\"x\":[-1970.0899658203125],\"y\":[-1420.47998046875],\"type\":\"scatter\"}]},{\"data\":[{\"marker\":{\"color\":[\"orange\",\"blue\",\"blue\",\"blue\",\"orange\",\"orange\"],\"size\":10},\"mode\":\"markers\",\"x\":[-2166.159912109375,-941.5,1711.780029296875,-2866.8701171875,94.54000091552734,-1903.56005859375],\"y\":[-952.239990234375,1244.030029296875,-3857.969970703125,-4011.199951171875,1999.800048828125,-2048.449951171875],\"type\":\"scatter\"},{\"marker\":{\"color\":\"black\",\"size\":10},\"mode\":\"markers\",\"x\":[-1945.2900390625],\"y\":[-1483.31005859375],\"type\":\"scatter\"}]},{\"data\":[{\"marker\":{\"color\":[\"orange\",\"blue\",\"blue\",\"blue\",\"orange\",\"orange\"],\"size\":10},\"mode\":\"markers\",\"x\":[-2166.159912109375,-922.8800048828125,1607.5999755859375,-2842.260009765625,108.23999786376953,-1903.56005859375],\"y\":[-952.239990234375,1255.6500244140625,-3966.389892578125,-4029.090087890625,1834.989990234375,-2048.449951171875],\"type\":\"scatter\"},{\"marker\":{\"color\":\"black\",\"size\":10},\"mode\":\"markers\",\"x\":[-1939.0899658203125],\"y\":[-1498.989990234375],\"type\":\"scatter\"}]},{\"data\":[{\"marker\":{\"color\":[\"orange\",\"blue\",\"blue\",\"blue\",\"orange\",\"orange\"],\"size\":10},\"mode\":\"markers\",\"x\":[-2119.469970703125,-848.260009765625,1607.5999755859375,-2739.25,108.23999786376953,-1863.1500244140625],\"y\":[-1136.280029296875,1302.1700439453125,-3966.389892578125,-4092.02001953125,1834.989990234375,-2120.389892578125],\"type\":\"scatter\"},{\"marker\":{\"color\":\"black\",\"size\":10},\"mode\":\"markers\",\"x\":[-1920.5400390625],\"y\":[-1546.0],\"type\":\"scatter\"}]},{\"data\":[{\"marker\":{\"color\":[\"orange\",\"blue\",\"blue\",\"blue\",\"orange\",\"orange\"],\"size\":10},\"mode\":\"markers\",\"x\":[-2088.909912109375,-838.9099731445312,1515.1500244140625,-2725.93994140625,113.36000061035156,-1863.1500244140625],\"y\":[-1218.81005859375,1307.989990234375,-4065.169921875,-4098.9599609375,1686.489990234375,-2120.389892578125],\"type\":\"scatter\"},{\"marker\":{\"color\":\"black\",\"size\":10},\"mode\":\"markers\",\"x\":[-1905.0899658203125],\"y\":[-1585.1199951171875],\"type\":\"scatter\"}]},{\"data\":[{\"marker\":{\"color\":[\"orange\",\"blue\",\"blue\",\"blue\",\"orange\",\"orange\"],\"size\":10},\"mode\":\"markers\",\"x\":[-2088.909912109375,-838.9099731445312,1515.1500244140625,-2725.93994140625,113.36000061035156,-1816.530029296875],\"y\":[-1218.81005859375,1307.989990234375,-4065.169921875,-4098.9599609375,1686.489990234375,-2180.97998046875],\"type\":\"scatter\"},{\"marker\":{\"color\":\"black\",\"size\":10},\"mode\":\"markers\",\"x\":[-1892.760009765625],\"y\":[-1616.3800048828125],\"type\":\"scatter\"}]},{\"data\":[{\"marker\":{\"color\":[\"orange\",\"blue\",\"blue\",\"blue\",\"orange\",\"orange\"],\"size\":10},\"mode\":\"markers\",\"x\":[-2088.909912109375,-726.4500122070312,1392.1800537109375,-2561.739990234375,110.26000213623047,-1816.530029296875],\"y\":[-1218.81005859375,1377.9599609375,-4196.35986328125,-4170.75,1488.6800537109375,-2180.97998046875],\"type\":\"scatter\"},{\"marker\":{\"color\":\"black\",\"size\":10},\"mode\":\"markers\",\"x\":[-1874.280029296875],\"y\":[-1663.2099609375],\"type\":\"scatter\"}]},{\"data\":[{\"marker\":{\"color\":[\"orange\",\"blue\",\"blue\",\"blue\",\"orange\",\"orange\"],\"size\":10},\"mode\":\"markers\",\"x\":[-2031.6700439453125,-726.4500122070312,1371.5,-2561.739990234375,110.26000213623047,-1753.6700439453125],\"y\":[-1355.9200439453125,1377.9599609375,-4217.47021484375,-4170.75,1488.6800537109375,-2241.389892578125],\"type\":\"scatter\"},{\"marker\":{\"color\":\"black\",\"size\":10},\"mode\":\"markers\",\"x\":[-1861.9599609375],\"y\":[-1694.3900146484375],\"type\":\"scatter\"}]},{\"data\":[{\"marker\":{\"color\":[\"orange\",\"blue\",\"blue\",\"blue\",\"orange\",\"orange\"],\"size\":10},\"mode\":\"markers\",\"x\":[-1987.489990234375,-660.5599975585938,1275.6199951171875,-2462.969970703125,102.12000274658203,-1753.6700439453125],\"y\":[-1457.050048828125,1418.8599853515625,-4307.27978515625,-4202.990234375,1373.8499755859375,-2241.389892578125],\"type\":\"scatter\"},{\"marker\":{\"color\":\"black\",\"size\":10},\"mode\":\"markers\",\"x\":[-1840.469970703125],\"y\":[-1748.8800048828125],\"type\":\"scatter\"}]},{\"data\":[{\"marker\":{\"color\":[\"orange\",\"blue\",\"blue\",\"blue\",\"orange\",\"orange\"],\"size\":10},\"mode\":\"markers\",\"x\":[-1987.489990234375,-563.3300170898438,1275.6199951171875,-2462.969970703125,76.80000305175781,-1671.6600341796875],\"y\":[-1457.050048828125,1468.1400146484375,-4307.27978515625,-4202.990234375,1212.3199462890625,-2295.2099609375],\"type\":\"scatter\"},{\"marker\":{\"color\":\"black\",\"size\":10},\"mode\":\"markers\",\"x\":[-1822.06005859375],\"y\":[-1795.510009765625],\"type\":\"scatter\"}]},{\"data\":[{\"marker\":{\"color\":[\"orange\",\"blue\",\"blue\",\"blue\",\"orange\",\"orange\"],\"size\":10},\"mode\":\"markers\",\"x\":[-1939.199951171875,-563.3300170898438,1160.4300537109375,-2261.010009765625,76.80000305175781,-1671.6600341796875],\"y\":[-1566.3900146484375,1468.1400146484375,-4394.31982421875,-4241.93017578125,1212.3199462890625,-2295.2099609375],\"type\":\"scatter\"},{\"marker\":{\"color\":\"black\",\"size\":10},\"mode\":\"markers\",\"x\":[-1809.8199462890625],\"y\":[-1826.550048828125],\"type\":\"scatter\"}]},{\"data\":[{\"marker\":{\"color\":[\"orange\",\"blue\",\"blue\",\"blue\",\"orange\",\"orange\"],\"size\":10},\"mode\":\"markers\",\"x\":[-1939.199951171875,-455.8399963378906,1160.4300537109375,-2261.010009765625,76.80000305175781,-1604.8399658203125],\"y\":[-1566.3900146484375,1481.77001953125,-4394.31982421875,-4241.93017578125,1212.3199462890625,-2323.659912109375],\"type\":\"scatter\"},{\"marker\":{\"color\":\"black\",\"size\":10},\"mode\":\"markers\",\"x\":[-1797.5799560546875],\"y\":[-1857.56005859375],\"type\":\"scatter\"}]},{\"data\":[{\"marker\":{\"color\":[\"orange\",\"blue\",\"blue\",\"blue\",\"orange\",\"orange\"],\"size\":10},\"mode\":\"markers\",\"x\":[-1895.8199462890625,-455.8399963378906,1049.1199951171875,-2130.56005859375,18.549999237060547,-1604.8399658203125],\"y\":[-1664.31005859375,1481.77001953125,-4456.240234375,-4245.18017578125,1027.5699462890625,-2323.659912109375],\"type\":\"scatter\"},{\"marker\":{\"color\":\"black\",\"size\":10},\"mode\":\"markers\",\"x\":[-1785.3499755859375],\"y\":[-1888.5400390625],\"type\":\"scatter\"}]},{\"data\":[{\"marker\":{\"color\":[\"orange\",\"blue\",\"blue\",\"blue\",\"orange\",\"orange\"],\"size\":10},\"mode\":\"markers\",\"x\":[-1886.1800537109375,-354.57000732421875,1023.9199829101562,-2101.820068359375,18.549999237060547,-1524.5],\"y\":[-1686.0699462890625,1474.43994140625,-4467.9501953125,-4243.43017578125,1027.5699462890625,-2343.169921875],\"type\":\"scatter\"},{\"marker\":{\"color\":\"black\",\"size\":10},\"mode\":\"markers\",\"x\":[-1766.6400146484375],\"y\":[-1935.949951171875],\"type\":\"scatter\"}]},{\"data\":[{\"marker\":{\"color\":[\"orange\",\"blue\",\"blue\",\"blue\",\"orange\",\"orange\"],\"size\":10},\"mode\":\"markers\",\"x\":[-1837.97998046875,-332.30999755859375,926.3099975585938,-1988.75,-62.93000030517578,-1431.6600341796875],\"y\":[-1794.8699951171875,1470.5799560546875,-4510.06982421875,-4227.68994140625,873.0499877929688,-2348.1201171875],\"type\":\"scatter\"},{\"marker\":{\"color\":\"black\",\"size\":10},\"mode\":\"markers\",\"x\":[-1751.0],\"y\":[-1975.56005859375],\"type\":\"scatter\"}]},{\"data\":[{\"marker\":{\"color\":[\"orange\",\"blue\",\"blue\",\"blue\",\"orange\",\"orange\"],\"size\":10},\"mode\":\"markers\",\"x\":[-1828.3399658203125,-220.75,926.3099975585938,-1988.75,-62.93000030517578,-1412.949951171875],\"y\":[-1816.6300048828125,1438.4300537109375,-4510.06982421875,-4227.68994140625,873.0499877929688,-2346.919921875],\"type\":\"scatter\"},{\"marker\":{\"color\":\"black\",\"size\":10},\"mode\":\"markers\",\"x\":[-1735.4000244140625],\"y\":[-2015.1099853515625],\"type\":\"scatter\"}]},{\"data\":[{\"marker\":{\"color\":[\"orange\",\"blue\",\"blue\",\"blue\",\"orange\",\"orange\"],\"size\":10},\"mode\":\"markers\",\"x\":[-1794.5999755859375,-198.63999938964844,816.3800048828125,-1841.6500244140625,-168.5399932861328,-1347.8199462890625],\"y\":[-1892.7900390625,1429.4000244140625,-4560.8701171875,-4181.7998046875,737.469970703125,-2336.909912109375],\"type\":\"scatter\"},{\"marker\":{\"color\":\"black\",\"size\":10},\"mode\":\"markers\",\"x\":[-1722.4000244140625],\"y\":[-2048.02001953125],\"type\":\"scatter\"}]},{\"data\":[{\"marker\":{\"color\":[\"orange\",\"blue\",\"blue\",\"blue\",\"orange\",\"orange\"],\"size\":10},\"mode\":\"markers\",\"x\":[-1765.239990234375,-122.76000213623047,816.3800048828125,-1841.6500244140625,-168.5399932861328,-1347.8199462890625],\"y\":[-1959.050048828125,1391.0400390625,-4560.8701171875,-4181.7998046875,737.469970703125,-2336.909912109375],\"type\":\"scatter\"},{\"marker\":{\"color\":\"black\",\"size\":10},\"mode\":\"markers\",\"x\":[-1712.02001953125],\"y\":[-2074.320068359375],\"type\":\"scatter\"}]},{\"data\":[{\"marker\":{\"color\":[\"orange\",\"blue\",\"blue\",\"blue\",\"orange\",\"orange\"],\"size\":10},\"mode\":\"markers\",\"x\":[-1765.239990234375,-122.76000213623047,742.5700073242188,-1720.3199462890625,-301.3399963378906,-1240.47998046875],\"y\":[-1959.050048828125,1391.0400390625,-4606.02001953125,-4117.259765625,607.47998046875,-2299.050048828125],\"type\":\"scatter\"},{\"marker\":{\"color\":\"black\",\"size\":10},\"mode\":\"markers\",\"x\":[-1695.31005859375],\"y\":[-2116.679931640625],\"type\":\"scatter\"}]},{\"data\":[{\"marker\":{\"color\":[\"orange\",\"blue\",\"blue\",\"blue\",\"orange\",\"orange\"],\"size\":10},\"mode\":\"markers\",\"x\":[-1715.489990234375,-122.76000213623047,742.5700073242188,-1720.3199462890625,-301.3399963378906,-1240.47998046875],\"y\":[-2072.550048828125,1391.0400390625,-4606.02001953125,-4117.259765625,607.47998046875,-2299.050048828125],\"type\":\"scatter\"},{\"marker\":{\"color\":\"black\",\"size\":10},\"mode\":\"markers\",\"x\":[-1675.25],\"y\":[-2165.610107421875],\"type\":\"scatter\"}]},{\"data\":[{\"marker\":{\"color\":[\"orange\",\"blue\",\"blue\",\"blue\",\"orange\",\"orange\"],\"size\":10},\"mode\":\"markers\",\"x\":[-1705.4000244140625,8.199999809265137,686.27001953125,-1623.9300537109375,-301.3399963378906,-1182.489990234375],\"y\":[-2095.56005859375,1292.6700439453125,-4653.81982421875,-4043.60009765625,607.47998046875,-2265.419921875],\"type\":\"scatter\"},{\"marker\":{\"color\":\"black\",\"size\":10},\"mode\":\"markers\",\"x\":[-1660.219970703125],\"y\":[-2202.27001953125],\"type\":\"scatter\"}]},{\"data\":[{\"marker\":{\"color\":[\"orange\",\"blue\",\"blue\",\"blue\",\"orange\",\"orange\"],\"size\":10},\"mode\":\"markers\",\"x\":[-1705.4000244140625,8.199999809265137,686.27001953125,-1604.530029296875,-406.3599853515625,-1166.77001953125],\"y\":[-2095.56005859375,1292.6700439453125,-4653.81982421875,-4025.669921875,516.239990234375,-2254.340087890625],\"type\":\"scatter\"},{\"marker\":{\"color\":\"black\",\"size\":10},\"mode\":\"markers\",\"x\":[-1630.199951171875],\"y\":[-2275.52001953125],\"type\":\"scatter\"}]},{\"data\":[{\"marker\":{\"color\":[\"orange\",\"blue\",\"blue\",\"blue\",\"orange\",\"orange\"],\"size\":10},\"mode\":\"markers\",\"x\":[-1647.93994140625,95.81999969482422,634.5499877929688,-1520.1700439453125,-524.8400268554688,-1094.56005859375],\"y\":[-2226.64990234375,1194.5699462890625,-4713.16015625,-3930.52001953125,417.010009765625,-2190.139892578125],\"type\":\"scatter\"},{\"marker\":{\"color\":\"black\",\"size\":10},\"mode\":\"markers\",\"x\":[-1590.239990234375],\"y\":[-2373.0],\"type\":\"scatter\"}]},{\"data\":[{\"marker\":{\"color\":[\"orange\",\"blue\",\"blue\",\"blue\",\"orange\",\"orange\"],\"size\":10},\"mode\":\"markers\",\"x\":[-1598.6600341796875,155.07000732421875,597.760009765625,-1520.1700439453125,-524.8400268554688,-1094.56005859375],\"y\":[-2339.699951171875,1103.47998046875,-4760.56005859375,-3930.52001953125,417.010009765625,-2190.139892578125],\"type\":\"scatter\"},{\"marker\":{\"color\":\"black\",\"size\":10},\"mode\":\"markers\",\"x\":[-1570.2900390625],\"y\":[-2421.669921875],\"type\":\"scatter\"}]},{\"data\":[{\"marker\":{\"color\":[\"orange\",\"blue\",\"blue\",\"blue\",\"orange\",\"orange\"],\"size\":10},\"mode\":\"markers\",\"x\":[-1587.4599609375,155.07000732421875,597.760009765625,-1458.47998046875,-655.739990234375,-1023.7000122070312],\"y\":[-2365.56005859375,1103.47998046875,-4760.56005859375,-3833.31005859375,308.57000732421875,-2108.0],\"type\":\"scatter\"},{\"marker\":{\"color\":\"black\",\"size\":10},\"mode\":\"markers\",\"x\":[-1545.3900146484375],\"y\":[-2482.43994140625],\"type\":\"scatter\"}]},{\"data\":[{\"marker\":{\"color\":[\"orange\",\"blue\",\"blue\",\"blue\",\"orange\",\"orange\"],\"size\":10},\"mode\":\"markers\",\"x\":[-1565.31005859375,155.07000732421875,556.260009765625,-1458.47998046875,-655.739990234375,-1023.7000122070312],\"y\":[-2416.31005859375,1103.47998046875,-4809.35986328125,-3833.31005859375,308.57000732421875,-2108.0],\"type\":\"scatter\"},{\"marker\":{\"color\":\"black\",\"size\":10},\"mode\":\"markers\",\"x\":[-1535.4300537109375],\"y\":[-2506.719970703125],\"type\":\"scatter\"}]},{\"data\":[{\"marker\":{\"color\":[\"orange\",\"blue\",\"blue\",\"blue\",\"orange\",\"orange\"],\"size\":10},\"mode\":\"markers\",\"x\":[-1565.31005859375,234.7100067138672,556.260009765625,-1410.8399658203125,-655.739990234375,-978.2899780273438],\"y\":[-2416.31005859375,937.1699829101562,-4809.35986328125,-3749.179931640625,308.57000732421875,-2042.030029296875],\"type\":\"scatter\"},{\"marker\":{\"color\":\"black\",\"size\":10},\"mode\":\"markers\",\"x\":[-1495.6800537109375],\"y\":[-2603.739990234375],\"type\":\"scatter\"}]},{\"data\":[{\"marker\":{\"color\":[\"orange\",\"blue\",\"blue\",\"blue\",\"orange\",\"orange\"],\"size\":10},\"mode\":\"markers\",\"x\":[-1492.8399658203125,234.7100067138672,502.260009765625,-1410.8399658203125,-793.3900146484375,-978.2899780273438],\"y\":[-2582.300048828125,937.1699829101562,-4858.740234375,-3749.179931640625,185.1300048828125,-2042.030029296875],\"type\":\"scatter\"},{\"marker\":{\"color\":\"black\",\"size\":10},\"mode\":\"markers\",\"x\":[-1469.969970703125],\"y\":[-2669.02001953125],\"type\":\"scatter\"}]},{\"data\":[{\"marker\":{\"color\":[\"orange\",\"blue\",\"blue\",\"blue\",\"orange\",\"orange\"],\"size\":10},\"mode\":\"markers\",\"x\":[-1492.8399658203125,296.3399963378906,502.260009765625,-1367.0999755859375,-793.3900146484375,-935.3699951171875],\"y\":[-2582.300048828125,791.0399780273438,-4858.740234375,-3668.739990234375,185.1300048828125,-1961.72998046875],\"type\":\"scatter\"},{\"marker\":{\"color\":\"black\",\"size\":10},\"mode\":\"markers\",\"x\":[-1448.9300537109375],\"y\":[-2723.27001953125],\"type\":\"scatter\"}]},{\"data\":[{\"marker\":{\"color\":[\"orange\",\"blue\",\"blue\",\"blue\",\"orange\",\"orange\"],\"size\":10},\"mode\":\"markers\",\"x\":[-1446.800048828125,296.3399963378906,460.8399963378906,-1367.0999755859375,-907.0599975585938,-935.3699951171875],\"y\":[-2689.260009765625,791.0399780273438,-4885.93994140625,-3668.739990234375,64.51000213623047,-1961.72998046875],\"type\":\"scatter\"},{\"marker\":{\"color\":\"black\",\"size\":10},\"mode\":\"markers\",\"x\":[-1417.4000244140625],\"y\":[-2804.5400390625],\"type\":\"scatter\"}]},{\"data\":[{\"marker\":{\"color\":[\"orange\",\"blue\",\"blue\",\"blue\",\"orange\",\"orange\"],\"size\":10},\"mode\":\"markers\",\"x\":[-1446.800048828125,367.9700012207031,460.8399963378906,-1318.5999755859375,-984.1199951171875,-901.1699829101562],\"y\":[-2689.260009765625,613.739990234375,-4885.93994140625,-3573.97998046875,-24.649999618530273,-1865.6800537109375],\"type\":\"scatter\"},{\"marker\":{\"color\":\"black\",\"size\":10},\"mode\":\"markers\",\"x\":[-1396.4000244140625],\"y\":[-2858.64990234375],\"type\":\"scatter\"}]},{\"data\":[{\"marker\":{\"color\":[\"orange\",\"blue\",\"blue\",\"blue\",\"orange\",\"orange\"],\"size\":10},\"mode\":\"markers\",\"x\":[-1387.77001953125,432.1400146484375,407.2300109863281,-1318.5999755859375,-1003.219970703125,-884.4199829101562],\"y\":[-2828.449951171875,454.0899963378906,-4909.93994140625,-3573.97998046875,-46.95000076293945,-1775.260009765625],\"type\":\"scatter\"},{\"marker\":{\"color\":\"black\",\"size\":10},\"mode\":\"markers\",\"x\":[-1359.7099609375],\"y\":[-2953.2099609375],\"type\":\"scatter\"}]},{\"data\":[{\"marker\":{\"color\":[\"orange\",\"blue\",\"blue\",\"blue\",\"orange\",\"orange\"],\"size\":10},\"mode\":\"markers\",\"x\":[-1387.77001953125,432.1400146484375,407.2300109863281,-1267.18994140625,-1070.06005859375,-884.4199829101562],\"y\":[-2828.449951171875,454.0899963378906,-4909.93994140625,-3467.739990234375,-125.01000213623047,-1775.260009765625],\"type\":\"scatter\"},{\"marker\":{\"color\":\"black\",\"size\":10},\"mode\":\"markers\",\"x\":[-1338.780029296875],\"y\":[-3007.159912109375],\"type\":\"scatter\"}]},{\"data\":[{\"marker\":{\"color\":[\"orange\",\"blue\",\"blue\",\"blue\",\"orange\",\"orange\"],\"size\":10},\"mode\":\"markers\",\"x\":[-1333.18994140625,503.42999267578125,356.8399963378906,-1258.1400146484375,-1089.1400146484375,-881.9400024414062],\"y\":[-2959.14990234375,276.69000244140625,-4927.240234375,-3447.580078125,-147.32000732421875,-1674.1800537109375],\"type\":\"scatter\"},{\"marker\":{\"color\":\"black\",\"size\":10},\"mode\":\"markers\",\"x\":[-1317.8599853515625],\"y\":[-3061.06005859375],\"type\":\"scatter\"}]},{\"data\":[{\"marker\":{\"color\":[\"orange\",\"blue\",\"blue\",\"blue\",\"orange\",\"orange\"],\"size\":10},\"mode\":\"markers\",\"x\":[-1333.18994140625,517.6699829101562,356.8399963378906,-1223.1099853515625,-1089.1400146484375,-883.9299926757812],\"y\":[-2959.14990234375,241.22000122070312,-4927.240234375,-3364.5400390625,-147.32000732421875,-1654.2900390625],\"type\":\"scatter\"},{\"marker\":{\"color\":\"black\",\"size\":10},\"mode\":\"markers\",\"x\":[-1297.77001953125],\"y\":[-3116.5],\"type\":\"scatter\"}]},{\"data\":[{\"marker\":{\"color\":[\"orange\",\"blue\",\"blue\",\"blue\",\"orange\",\"orange\"],\"size\":10},\"mode\":\"markers\",\"x\":[-1270.56005859375,567.510009765625,285.1099853515625,-1214.5899658203125,-1181.3199462890625,-883.9299926757812],\"y\":[-3110.06005859375,117.18000030517578,-4947.60009765625,-3343.35009765625,-261.25,-1654.2900390625],\"type\":\"scatter\"},{\"marker\":{\"color\":\"black\",\"size\":10},\"mode\":\"markers\",\"x\":[-1264.469970703125],\"y\":[-3219.090087890625],\"type\":\"scatter\"}]},{\"data\":[{\"marker\":{\"color\":[\"orange\",\"blue\",\"blue\",\"blue\",\"orange\",\"orange\"],\"size\":10},\"mode\":\"markers\",\"x\":[-1212.4599609375,567.510009765625,285.1099853515625,-1184.77001953125,-1255.6199951171875,-911.6199951171875],\"y\":[-3250.93994140625,117.18000030517578,-4947.60009765625,-3269.2099609375,-369.4800109863281,-1550.1600341796875],\"type\":\"scatter\"},{\"marker\":{\"color\":\"black\",\"size\":10},\"mode\":\"markers\",\"x\":[-1235.969970703125],\"y\":[-3306.8798828125],\"type\":\"scatter\"}]},{\"data\":[{\"marker\":{\"color\":[\"orange\",\"blue\",\"blue\",\"blue\",\"orange\",\"orange\"],\"size\":10},\"mode\":\"markers\",\"x\":[-1212.4599609375,652.8699951171875,230.05999755859375,-1184.77001953125,-1255.6199951171875,-911.6199951171875],\"y\":[-3250.93994140625,-95.0199966430664,-4961.4501953125,-3269.2099609375,-369.4800109863281,-1550.1600341796875],\"type\":\"scatter\"},{\"marker\":{\"color\":\"black\",\"size\":10},\"mode\":\"markers\",\"x\":[-1217.010009765625],\"y\":[-3365.330078125],\"type\":\"scatter\"}]},{\"data\":[{\"marker\":{\"color\":[\"orange\",\"blue\",\"blue\",\"blue\",\"orange\",\"orange\"],\"size\":10},\"mode\":\"markers\",\"x\":[-1132.6700439453125,652.8699951171875,185.1999969482422,-1133.6199951171875,-1342.1199951171875,-972.7100219726562],\"y\":[-3445.02001953125,-95.0199966430664,-4971.93017578125,-3142.050048828125,-520.9199829101562,-1452.8699951171875],\"type\":\"scatter\"},{\"marker\":{\"color\":\"black\",\"size\":10},\"mode\":\"markers\",\"x\":[-1179.1300048828125],\"y\":[-3482.050048828125],\"type\":\"scatter\"}]},{\"data\":[{\"marker\":{\"color\":[\"orange\",\"blue\",\"blue\",\"blue\",\"orange\",\"orange\"],\"size\":10},\"mode\":\"markers\",\"x\":[-1132.6700439453125,716.7899780273438,185.1999969482422,-1133.6199951171875,-1342.1199951171875,-972.7100219726562],\"y\":[-3445.02001953125,-253.7899932861328,-4971.93017578125,-3142.050048828125,-520.9199829101562,-1452.8699951171875],\"type\":\"scatter\"},{\"marker\":{\"color\":\"black\",\"size\":10},\"mode\":\"markers\",\"x\":[-1164.93994140625],\"y\":[-3525.760009765625],\"type\":\"scatter\"}]},{\"data\":[{\"marker\":{\"color\":[\"orange\",\"blue\",\"blue\",\"blue\",\"orange\",\"orange\"],\"size\":10},\"mode\":\"markers\",\"x\":[-1072.4599609375,730.989990234375,134.8000030517578,-1086.4200439453125,-1398.1300048828125,-1020.3599853515625],\"y\":[-3592.080078125,-289.0299987792969,-4983.72021484375,-3025.800048828125,-638.5800170898438,-1405.9100341796875],\"type\":\"scatter\"},{\"marker\":{\"color\":\"black\",\"size\":10},\"mode\":\"markers\",\"x\":[-1136.6099853515625],\"y\":[-3613.070068359375],\"type\":\"scatter\"}]},{\"data\":[{\"marker\":{\"color\":[\"orange\",\"blue\",\"blue\",\"blue\",\"orange\",\"orange\"],\"size\":10},\"mode\":\"markers\",\"x\":[-1072.4599609375,787.7899780273438,123.63999938964844,-1086.4200439453125,-1398.1300048828125,-1020.3599853515625],\"y\":[-3592.080078125,-429.92999267578125,-4986.33984375,-3025.800048828125,-638.5800170898438,-1405.9100341796875],\"type\":\"scatter\"},{\"marker\":{\"color\":\"black\",\"size\":10},\"mode\":\"markers\",\"x\":[-1127.1700439453125],\"y\":[-3642.14990234375],\"type\":\"scatter\"}]},{\"data\":[{\"marker\":{\"color\":[\"orange\",\"blue\",\"blue\",\"blue\",\"orange\",\"orange\"],\"size\":10},\"mode\":\"markers\",\"x\":[-1005.5599975585938,787.7899780273438,123.63999938964844,-1051.8299560546875,-1438.9599609375,-1099.4000244140625],\"y\":[-3755.47998046875,-429.92999267578125,-4986.33984375,-2941.449951171875,-747.3900146484375,-1351.989990234375],\"type\":\"scatter\"},{\"marker\":{\"color\":\"black\",\"size\":10},\"mode\":\"markers\",\"x\":[-1089.47998046875],\"y\":[-3758.300048828125],\"type\":\"scatter\"}]},{\"data\":[{\"marker\":{\"color\":[\"orange\",\"blue\",\"blue\",\"blue\",\"orange\",\"orange\"],\"size\":10},\"mode\":\"markers\",\"x\":[-992.1799926757812,865.8900146484375,58.4900016784668,-1051.8299560546875,-1438.9599609375,-1177.5699462890625],\"y\":[-3788.159912109375,-623.5499877929688,-5001.7900390625,-2941.449951171875,-747.3900146484375,-1316.5],\"type\":\"scatter\"},{\"marker\":{\"color\":\"black\",\"size\":10},\"mode\":\"markers\",\"x\":[-1070.6700439453125],\"y\":[-3816.280029296875],\"type\":\"scatter\"}]},{\"data\":[{\"marker\":{\"color\":[\"orange\",\"blue\",\"blue\",\"blue\",\"orange\",\"orange\"],\"size\":10},\"mode\":\"markers\",\"x\":[-931.969970703125,865.8900146484375,21.920000076293945,-1003.8699951171875,-1477.010009765625,-1177.5699462890625],\"y\":[-3935.219970703125,-623.5499877929688,-5010.41015625,-2825.679931640625,-907.97998046875,-1316.5],\"type\":\"scatter\"},{\"marker\":{\"color\":\"black\",\"size\":10},\"mode\":\"markers\",\"x\":[-1037.7900390625],\"y\":[-3917.610107421875],\"type\":\"scatter\"}]},{\"data\":[{\"marker\":{\"color\":[\"orange\",\"blue\",\"blue\",\"blue\",\"orange\",\"orange\"],\"size\":10},\"mode\":\"markers\",\"x\":[-931.969970703125,936.8900146484375,10.859999656677246,-1003.8699951171875,-1477.010009765625,-1177.5699462890625],\"y\":[-3935.219970703125,-799.6900024414062,-5012.89013671875,-2825.679931640625,-907.97998046875,-1316.5],\"type\":\"scatter\"},{\"marker\":{\"color\":\"black\",\"size\":10},\"mode\":\"markers\",\"x\":[-1019.030029296875],\"y\":[-3975.429931640625],\"type\":\"scatter\"}]},{\"data\":[{\"marker\":{\"color\":[\"orange\",\"blue\",\"blue\",\"blue\",\"orange\",\"orange\"],\"size\":10},\"mode\":\"markers\",\"x\":[-878.4500122070312,936.8900146484375,-35.959999084472656,-959.8499755859375,-1490.239990234375,-1306.31005859375],\"y\":[-4065.93994140625,-799.6900024414062,-5022.68994140625,-2720.47998046875,-1062.25,-1293.97998046875],\"type\":\"scatter\"},{\"marker\":{\"color\":\"black\",\"size\":10},\"mode\":\"markers\",\"x\":[-990.9299926757812],\"y\":[-4062.06005859375],\"type\":\"scatter\"}]},{\"data\":[{\"marker\":{\"color\":[\"orange\",\"blue\",\"blue\",\"blue\",\"orange\",\"orange\"],\"size\":10},\"mode\":\"markers\",\"x\":[-878.4500122070312,1007.8900146484375,-35.959999084472656,-959.8499755859375,-1493.31005859375,-1379.699951171875],\"y\":[-4065.93994140625,-976.0499877929688,-5022.68994140625,-2720.47998046875,-1183.010009765625,-1301.9100341796875],\"type\":\"scatter\"},{\"marker\":{\"color\":\"black\",\"size\":10},\"mode\":\"markers\",\"x\":[-972.2100219726562],\"y\":[-4119.72998046875],\"type\":\"scatter\"}]},{\"data\":[{\"marker\":{\"color\":[\"orange\",\"blue\",\"blue\",\"blue\",\"orange\",\"orange\"],\"size\":10},\"mode\":\"markers\",\"x\":[-818.239990234375,1007.8900146484375,-106.33000183105469,-919.9000244140625,-1493.31005859375,-1379.699951171875],\"y\":[-4213.0,-976.0499877929688,-5035.16015625,-2625.72998046875,-1183.010009765625,-1301.9100341796875],\"type\":\"scatter\"},{\"marker\":{\"color\":\"black\",\"size\":10},\"mode\":\"markers\",\"x\":[-939.52001953125],\"y\":[-4220.52001953125],\"type\":\"scatter\"}]},{\"data\":[{\"marker\":{\"color\":[\"orange\",\"blue\",\"blue\",\"blue\",\"orange\",\"orange\"],\"size\":10},\"mode\":\"markers\",\"x\":[-751.3400268554688,1086.06005859375,-106.33000183105469,-875.219970703125,-1547.7900390625,-1457.1600341796875],\"y\":[-4376.39990234375,-1170.3800048828125,-5035.16015625,-2520.2099609375,-1301.4200439453125,-1402.3599853515625],\"type\":\"scatter\"},{\"marker\":{\"color\":\"black\",\"size\":10},\"mode\":\"markers\",\"x\":[-911.5499877929688],\"y\":[-4306.77001953125],\"type\":\"scatter\"}]},{\"data\":[{\"marker\":{\"color\":[\"orange\",\"blue\",\"blue\",\"blue\",\"orange\",\"orange\"],\"size\":10},\"mode\":\"markers\",\"x\":[-751.3400268554688,1086.06005859375,-174.47999572753906,-875.219970703125,-1547.7900390625,-1457.1600341796875],\"y\":[-4376.39990234375,-1170.3800048828125,-5044.39013671875,-2520.2099609375,-1301.4200439453125,-1402.3599853515625],\"type\":\"scatter\"},{\"marker\":{\"color\":\"black\",\"size\":10},\"mode\":\"markers\",\"x\":[-892.9199829101562],\"y\":[-4364.18994140625],\"type\":\"scatter\"}]},{\"data\":[{\"marker\":{\"color\":[\"orange\",\"blue\",\"blue\",\"blue\",\"orange\",\"orange\"],\"size\":10},\"mode\":\"markers\",\"x\":[-751.3400268554688,1155.3199462890625,-174.47999572753906,-875.219970703125,-1547.7900390625,-1457.1600341796875],\"y\":[-4376.39990234375,-1347.4599609375,-5044.39013671875,-2520.2099609375,-1301.4200439453125,-1402.3599853515625],\"type\":\"scatter\"},{\"marker\":{\"color\":\"black\",\"size\":10},\"mode\":\"markers\",\"x\":[-874.3200073242188],\"y\":[-4421.56005859375],\"type\":\"scatter\"}]},{\"data\":[{\"marker\":{\"color\":[\"orange\",\"blue\",\"blue\",\"blue\",\"orange\",\"orange\"],\"size\":10},\"mode\":\"markers\",\"x\":[-676.3300170898438,1167.0799560546875,-174.47999572753906,-825.8699951171875,-1585.0799560546875,-1588.27001953125],\"y\":[-4555.77001953125,-1383.030029296875,-5044.39013671875,-2403.719970703125,-1394.449951171875,-1565.699951171875],\"type\":\"scatter\"},{\"marker\":{\"color\":\"black\",\"size\":10},\"mode\":\"markers\",\"x\":[-860.3699951171875],\"y\":[-4464.5498046875],\"type\":\"scatter\"}]},{\"data\":[{\"marker\":{\"color\":[\"orange\",\"blue\",\"blue\",\"blue\",\"orange\",\"orange\"],\"size\":10},\"mode\":\"markers\",\"x\":[-676.3300170898438,1202.25,-237.0500030517578,-825.8699951171875,-1585.0799560546875,-1588.27001953125],\"y\":[-4555.77001953125,-1508.31005859375,-5050.2900390625,-2403.719970703125,-1394.449951171875,-1565.699951171875],\"type\":\"scatter\"},{\"marker\":{\"color\":\"black\",\"size\":10},\"mode\":\"markers\",\"x\":[-832.530029296875],\"y\":[-4550.419921875],\"type\":\"scatter\"}]},{\"data\":[{\"marker\":{\"color\":[\"orange\",\"blue\",\"blue\",\"blue\",\"orange\",\"orange\"],\"size\":10},\"mode\":\"markers\",\"x\":[-601.4500122070312,1202.25,-305.8500061035156,-780.969970703125,-1618.6300048828125,-1686.02001953125],\"y\":[-4717.2998046875,-1508.31005859375,-5053.5400390625,-2297.719970703125,-1472.43994140625,-1694.6199951171875],\"type\":\"scatter\"},{\"marker\":{\"color\":\"black\",\"size\":10},\"mode\":\"markers\",\"x\":[-804.72998046875],\"y\":[-4636.16015625],\"type\":\"scatter\"}]},{\"data\":[{\"marker\":{\"color\":[\"orange\",\"blue\",\"blue\",\"blue\",\"orange\",\"orange\"],\"size\":10},\"mode\":\"markers\",\"x\":[-601.4500122070312,1246.5699462890625,-319.3900146484375,-780.969970703125,-1618.6300048828125,-1686.02001953125],\"y\":[-4717.2998046875,-1688.06005859375,-5053.72021484375,-2297.719970703125,-1472.43994140625,-1694.6199951171875],\"type\":\"scatter\"},{\"marker\":{\"color\":\"black\",\"size\":10},\"mode\":\"markers\",\"x\":[-786.2100219726562],\"y\":[-4693.25],\"type\":\"scatter\"}]},{\"data\":[{\"marker\":{\"color\":[\"orange\",\"blue\",\"blue\",\"blue\",\"orange\",\"orange\"],\"size\":10},\"mode\":\"markers\",\"x\":[-536.4500122070312,1246.5699462890625,-319.3900146484375,-731.5800170898438,-1648.6199951171875,-1774.3299560546875],\"y\":[-4845.60009765625,-1688.06005859375,-5053.72021484375,-2181.1201171875,-1533.18994140625,-1810.8599853515625],\"type\":\"scatter\"},{\"marker\":{\"color\":\"black\",\"size\":10},\"mode\":\"markers\",\"x\":[-772.3499755859375],\"y\":[-4736.02978515625],\"type\":\"scatter\"}]},{\"data\":[{\"marker\":{\"color\":[\"orange\",\"blue\",\"blue\",\"blue\",\"orange\",\"orange\"],\"size\":10},\"mode\":\"markers\",\"x\":[-536.4500122070312,1283.219970703125,-392.0899963378906,-722.5999755859375,-1687.010009765625,-1774.3299560546875],\"y\":[-4845.60009765625,-1887.6300048828125,-5051.419921875,-2159.919921875,-1598.8499755859375,-1810.8599853515625],\"type\":\"scatter\"},{\"marker\":{\"color\":\"black\",\"size\":10},\"mode\":\"markers\",\"x\":[-735.4099731445312],\"y\":[-4849.93994140625],\"type\":\"scatter\"}]},{\"data\":[{\"marker\":{\"color\":[\"orange\",\"blue\",\"blue\",\"blue\",\"orange\",\"orange\"],\"size\":10},\"mode\":\"markers\",\"x\":[-440.6300048828125,1287.260009765625,-392.0899963378906,-722.5999755859375,-1696.2900390625,-1872.8499755859375],\"y\":[-5021.77978515625,-1924.1400146484375,-5051.419921875,-2159.919921875,-1613.239990234375,-1940.199951171875],\"type\":\"scatter\"},{\"marker\":{\"color\":\"black\",\"size\":10},\"mode\":\"markers\",\"x\":[-726.1900024414062],\"y\":[-4878.3798828125],\"type\":\"scatter\"}]},{\"data\":[{\"marker\":{\"color\":[\"orange\",\"blue\",\"blue\",\"blue\",\"orange\",\"orange\"],\"size\":10},\"mode\":\"markers\",\"x\":[-440.6300048828125,1293.3399658203125,-406.2799987792969,-668.719970703125,-1734.5999755859375,-1872.8499755859375],\"y\":[-5021.77978515625,-2070.090087890625,-5123.8701171875,-2032.719970703125,-1671.5,-1940.199951171875],\"type\":\"scatter\"},{\"marker\":{\"color\":\"black\",\"size\":10},\"mode\":\"markers\",\"x\":[-689.3499755859375],\"y\":[-4991.990234375],\"type\":\"scatter\"}]},{\"data\":[{\"marker\":{\"color\":[\"orange\",\"blue\",\"blue\",\"blue\",\"orange\",\"orange\"],\"size\":10},\"mode\":\"markers\",\"x\":[-358.0,1293.3399658203125,-396.5,-668.719970703125,-1734.5999755859375,-1981.719970703125],\"y\":[-5120.68994140625,-2070.090087890625,-5206.1298828125,-2032.719970703125,-1671.5,-2082.659912109375],\"type\":\"scatter\"},{\"marker\":{\"color\":\"black\",\"size\":10},\"mode\":\"markers\",\"x\":[-668.4500122070312],\"y\":[-5012.89990234375],\"type\":\"scatter\"}]},{\"data\":[{\"marker\":{\"color\":[\"orange\",\"blue\",\"blue\",\"blue\",\"orange\",\"orange\"],\"size\":10},\"mode\":\"markers\",\"x\":[-297.7900085449219,1273.199951171875,-393.5400085449219,-628.3099975585938,-1782.56005859375,-2061.219970703125],\"y\":[-5117.56982421875,-2267.260009765625,-5229.02001953125,-1937.1199951171875,-1757.6700439453125,-2186.3798828125],\"type\":\"scatter\"},{\"marker\":{\"color\":\"black\",\"size\":10},\"mode\":\"markers\",\"x\":[-647.1500244140625],\"y\":[-4961.93017578125],\"type\":\"scatter\"}]},{\"data\":[{\"marker\":{\"color\":[\"orange\",\"blue\",\"blue\",\"blue\",\"orange\",\"orange\"],\"size\":10},\"mode\":\"markers\",\"x\":[-297.7900085449219,1273.199951171875,-390.57000732421875,-583.3300170898438,-1782.56005859375,-2061.219970703125],\"y\":[-5117.56982421875,-2267.260009765625,-5326.68017578125,-1830.530029296875,-1757.6700439453125,-2186.3798828125],\"type\":\"scatter\"},{\"marker\":{\"color\":\"black\",\"size\":10},\"mode\":\"markers\",\"x\":[-625.9000244140625],\"y\":[-4911.02978515625],\"type\":\"scatter\"}]},{\"data\":[{\"marker\":{\"color\":[\"orange\",\"blue\",\"blue\",\"blue\",\"orange\",\"orange\"],\"size\":10},\"mode\":\"markers\",\"x\":[-216.47000122070312,1225.760009765625,-390.57000732421875,-583.3300170898438,-1814.8499755859375,-2160.97998046875],\"y\":[-5120.080078125,-2438.169921875,-5326.68017578125,-1830.530029296875,-1842.3399658203125,-2316.179931640625],\"type\":\"scatter\"},{\"marker\":{\"color\":\"black\",\"size\":10},\"mode\":\"markers\",\"x\":[-611.739990234375],\"y\":[-4877.14990234375],\"type\":\"scatter\"}]},{\"data\":[{\"marker\":{\"color\":[\"orange\",\"blue\",\"blue\",\"blue\",\"orange\",\"orange\"],\"size\":10},\"mode\":\"markers\",\"x\":[-216.47000122070312,1225.760009765625,-403.6700134277344,-542.72998046875,-1814.8499755859375,-2160.97998046875],\"y\":[-5120.080078125,-2438.169921875,-5376.7900390625,-1734.280029296875,-1842.3399658203125,-2316.179931640625],\"type\":\"scatter\"},{\"marker\":{\"color\":\"black\",\"size\":10},\"mode\":\"markers\",\"x\":[-594.0700073242188],\"y\":[-4834.83984375],\"type\":\"scatter\"}]},{\"data\":[{\"marker\":{\"color\":[\"orange\",\"blue\",\"blue\",\"blue\",\"orange\",\"orange\"],\"size\":10},\"mode\":\"markers\",\"x\":[-137.2100067138672,1160.52001953125,-403.6700134277344,-542.72998046875,-1829.4599609375,-2160.97998046875],\"y\":[-5124.419921875,-2581.280029296875,-5376.7900390625,-1734.280029296875,-1924.9200439453125,-2316.179931640625],\"type\":\"scatter\"},{\"marker\":{\"color\":\"black\",\"size\":10},\"mode\":\"markers\",\"x\":[-579.9500122070312],\"y\":[-4801.02978515625],\"type\":\"scatter\"}]},{\"data\":[{\"marker\":{\"color\":[\"orange\",\"blue\",\"blue\",\"blue\",\"orange\",\"orange\"],\"size\":10},\"mode\":\"markers\",\"x\":[-118.86000061035156,1160.52001953125,-413.80999755859375,-497.5299987792969,-1829.4599609375,-2299.22998046875],\"y\":[-5125.419921875,-2581.280029296875,-5396.93017578125,-1627.1800537109375,-1924.9200439453125,-2470.989990234375],\"type\":\"scatter\"},{\"marker\":{\"color\":\"black\",\"size\":10},\"mode\":\"markers\",\"x\":[-558.7899780273438],\"y\":[-4750.3798828125],\"type\":\"scatter\"}]},{\"data\":[{\"marker\":{\"color\":[\"orange\",\"blue\",\"blue\",\"blue\",\"orange\",\"orange\"],\"size\":10},\"mode\":\"markers\",\"x\":[-27.059999465942383,1086.1600341796875,-413.80999755859375,-497.5299987792969,-1826.7900390625,-2299.22998046875],\"y\":[-5130.419921875,-2697.419921875,-5396.93017578125,-1627.1800537109375,-2002.8399658203125,-2470.989990234375],\"type\":\"scatter\"},{\"marker\":{\"color\":\"black\",\"size\":10},\"mode\":\"markers\",\"x\":[-537.6699829101562],\"y\":[-4699.81982421875],\"type\":\"scatter\"}]},{\"data\":[{\"marker\":{\"color\":[\"orange\",\"blue\",\"blue\",\"blue\",\"orange\",\"orange\"],\"size\":10},\"mode\":\"markers\",\"x\":[-27.059999465942383,988.4199829101562,-412.20001220703125,-447.80999755859375,-1803.739990234375,-2396.3798828125],\"y\":[-5130.419921875,-2816.1201171875,-5399.58984375,-1509.3699951171875,-2091.409912109375,-2574.409912109375],\"type\":\"scatter\"},{\"marker\":{\"color\":\"black\",\"size\":10},\"mode\":\"markers\",\"x\":[-520.0999755859375],\"y\":[-4657.740234375],\"type\":\"scatter\"}]},{\"data\":[{\"marker\":{\"color\":[\"orange\",\"blue\",\"blue\",\"blue\",\"orange\",\"orange\"],\"size\":10},\"mode\":\"markers\",\"x\":[73.91999816894531,966.0499877929688,-412.20001220703125,-447.80999755859375,-1795.75,-2503.010009765625],\"y\":[-5135.919921875,-2841.929931640625,-5399.58984375,-1509.3699951171875,-2110.81005859375,-2689.9599609375],\"type\":\"scatter\"},{\"marker\":{\"color\":\"black\",\"size\":10},\"mode\":\"markers\",\"x\":[-499.0400085449219],\"y\":[-4607.31005859375],\"type\":\"scatter\"}]},{\"data\":[{\"marker\":{\"color\":[\"orange\",\"blue\",\"blue\",\"blue\",\"orange\",\"orange\"],\"size\":10},\"mode\":\"markers\",\"x\":[73.91999816894531,854.0399780273438,-409.8500061035156,-393.57000732421875,-1741.4000244140625,-2525.1201171875],\"y\":[-5135.919921875,-2971.1201171875,-5399.2998046875,-1380.8499755859375,-2204.39990234375,-2712.25],\"type\":\"scatter\"},{\"marker\":{\"color\":\"black\",\"size\":10},\"mode\":\"markers\",\"x\":[-478.0199890136719],\"y\":[-4556.9599609375],\"type\":\"scatter\"}]},{\"data\":[{\"marker\":{\"color\":[\"orange\",\"blue\",\"blue\",\"blue\",\"orange\",\"orange\"],\"size\":10},\"mode\":\"markers\",\"x\":[165.72000122070312,854.0399780273438,-406.6600036621094,-393.57000732421875,-1741.4000244140625,-2617.919921875],\"y\":[-5140.919921875,-2971.1201171875,-5398.35009765625,-1380.8499755859375,-2204.39990234375,-2796.090087890625],\"type\":\"scatter\"},{\"marker\":{\"color\":\"black\",\"size\":10},\"mode\":\"markers\",\"x\":[-460.5199890136719],\"y\":[-4515.06982421875],\"type\":\"scatter\"}]},{\"data\":[{\"marker\":{\"color\":[\"orange\",\"blue\",\"blue\",\"blue\",\"orange\",\"orange\"],\"size\":10},\"mode\":\"markers\",\"x\":[165.72000122070312,775.5800170898438,-406.6600036621094,-361.92999267578125,-1690.18994140625,-2617.919921875],\"y\":[-5140.919921875,-3061.52001953125,-5398.35009765625,-1305.8800048828125,-2265.010009765625,-2796.090087890625],\"type\":\"scatter\"},{\"marker\":{\"color\":\"black\",\"size\":10},\"mode\":\"markers\",\"x\":[-439.55999755859375],\"y\":[-4464.8701171875],\"type\":\"scatter\"}]},{\"data\":[{\"marker\":{\"color\":[\"orange\",\"blue\",\"blue\",\"blue\",\"orange\",\"orange\"],\"size\":10},\"mode\":\"markers\",\"x\":[248.33999633789062,659.3400268554688,-402.70001220703125,-361.92999267578125,-1601.47998046875,-2757.639892578125],\"y\":[-5145.419921875,-3193.31005859375,-5397.25,-1305.8800048828125,-2340.669921875,-2893.110107421875],\"type\":\"scatter\"},{\"marker\":{\"color\":\"black\",\"size\":10},\"mode\":\"markers\",\"x\":[-425.6000061035156],\"y\":[-4431.43994140625],\"type\":\"scatter\"}]},{\"data\":[{\"marker\":{\"color\":[\"orange\",\"blue\",\"blue\",\"blue\",\"orange\",\"orange\"],\"size\":10},\"mode\":\"markers\",\"x\":[330.9599914550781,635.3599853515625,-402.70001220703125,-298.54998779296875,-1582.2099609375,-2757.639892578125],\"y\":[-5149.919921875,-3220.1298828125,-5397.25,-1155.93994140625,-2353.68994140625,-2893.110107421875],\"type\":\"scatter\"},{\"marker\":{\"color\":\"black\",\"size\":10},\"mode\":\"markers\",\"x\":[-401.2099914550781],\"y\":[-4373.02978515625],\"type\":\"scatter\"}]},{\"data\":[{\"marker\":{\"color\":[\"orange\",\"blue\",\"blue\",\"blue\",\"orange\",\"orange\"],\"size\":10},\"mode\":\"markers\",\"x\":[349.32000732421875,549.4099731445312,-398.0,-298.54998779296875,-1511.5799560546875,-2907.919921875],\"y\":[-5150.919921875,-3315.080078125,-5395.77978515625,-1155.93994140625,-2393.330078125,-2965.81005859375],\"type\":\"scatter\"},{\"marker\":{\"color\":\"black\",\"size\":10},\"mode\":\"markers\",\"x\":[-387.2900085449219],\"y\":[-4339.7001953125],\"type\":\"scatter\"}]},{\"data\":[{\"marker\":{\"color\":[\"orange\",\"blue\",\"blue\",\"blue\",\"orange\",\"orange\"],\"size\":10},\"mode\":\"markers\",\"x\":[349.32000732421875,549.4099731445312,-398.0,-257.5199890136719,-1511.5799560546875,-2907.919921875],\"y\":[-5150.919921875,-3315.080078125,-5395.77978515625,-1059.469970703125,-2393.330078125,-2965.81005859375],\"type\":\"scatter\"},{\"marker\":{\"color\":\"black\",\"size\":10},\"mode\":\"markers\",\"x\":[-373.3800048828125],\"y\":[-4306.41015625],\"type\":\"scatter\"}]},{\"data\":[{\"marker\":{\"color\":[\"orange\",\"blue\",\"blue\",\"blue\",\"orange\",\"orange\"],\"size\":10},\"mode\":\"markers\",\"x\":[422.95001220703125,422.2900085449219,-393.2200012207031,-257.5199890136719,-1511.5799560546875,-3049.280029296875],\"y\":[-5154.83984375,-3451.9599609375,-5394.02978515625,-1059.469970703125,-2393.330078125,-3004.719970703125],\"type\":\"scatter\"},{\"marker\":{\"color\":\"black\",\"size\":10},\"mode\":\"markers\",\"x\":[-352.55999755859375],\"y\":[-4256.52978515625],\"type\":\"scatter\"}]},{\"data\":[{\"marker\":{\"color\":[\"orange\",\"blue\",\"blue\",\"blue\",\"orange\",\"orange\"],\"size\":10},\"mode\":\"markers\",\"x\":[509.67999267578125,396.4700012207031,-393.2200012207031,-211.9199981689453,-1383.1199951171875,-3049.280029296875],\"y\":[-5157.3798828125,-3479.179931640625,-5394.02978515625,-952.27001953125,-2440.570068359375,-3004.719970703125],\"type\":\"scatter\"},{\"marker\":{\"color\":\"black\",\"size\":10},\"mode\":\"markers\",\"x\":[-338.67999267578125],\"y\":[-4223.31982421875],\"type\":\"scatter\"}]},{\"data\":[{\"marker\":{\"color\":[\"orange\",\"blue\",\"blue\",\"blue\",\"orange\",\"orange\"],\"size\":10},\"mode\":\"markers\",\"x\":[529.6699829101562,278.5899963378906,-385.42999267578125,-211.9199981689453,-1383.1199951171875,-3175.340087890625],\"y\":[-5157.56005859375,-3600.75,-5389.759765625,-952.27001953125,-2440.570068359375,-3010.669921875],\"type\":\"scatter\"},{\"marker\":{\"color\":\"black\",\"size\":10},\"mode\":\"markers\",\"x\":[-314.4599914550781],\"y\":[-4165.2900390625],\"type\":\"scatter\"}]},{\"data\":[{\"marker\":{\"color\":[\"orange\",\"blue\",\"blue\",\"blue\",\"orange\",\"orange\"],\"size\":10},\"mode\":\"markers\",\"x\":[633.3900146484375,278.5899963378906,-385.42999267578125,-161.75999450683594,-1241.0899658203125,-3281.72998046875],\"y\":[-5156.22998046875,-3600.75,-5389.759765625,-834.3499755859375,-2456.0400390625,-2992.4599609375],\"type\":\"scatter\"},{\"marker\":{\"color\":\"black\",\"size\":10},\"mode\":\"markers\",\"x\":[-300.6199951171875],\"y\":[-4132.169921875],\"type\":\"scatter\"}]},{\"data\":[{\"marker\":{\"color\":[\"orange\",\"blue\",\"blue\",\"blue\",\"orange\",\"orange\"],\"size\":10},\"mode\":\"markers\",\"x\":[633.3900146484375,278.5899963378906,-371.32000732421875,-161.75999450683594,-1241.0899658203125,-3281.72998046875],\"y\":[-5156.22998046875,-3600.75,-5380.93994140625,-834.3499755859375,-2456.0400390625,-2992.4599609375],\"type\":\"scatter\"},{\"marker\":{\"color\":\"black\",\"size\":10},\"mode\":\"markers\",\"x\":[-286.82000732421875],\"y\":[-4099.08984375],\"type\":\"scatter\"}]},{\"data\":[{\"marker\":{\"color\":[\"orange\",\"blue\",\"blue\",\"blue\",\"orange\",\"orange\"],\"size\":10},\"mode\":\"markers\",\"x\":[732.0499877929688,116.79000091552734,-371.32000732421875,-116.16000366210938,-1137.3599853515625,-3391.590087890625],\"y\":[-5151.66015625,-3760.02001953125,-5380.93994140625,-727.1500244140625,-2436.60009765625,-2949.7099609375],\"type\":\"scatter\"},{\"marker\":{\"color\":\"black\",\"size\":10},\"mode\":\"markers\",\"x\":[-262.6700134277344],\"y\":[-4041.2900390625],\"type\":\"scatter\"}]},{\"data\":[{\"marker\":{\"color\":[\"orange\",\"blue\",\"blue\",\"blue\",\"orange\",\"orange\"],\"size\":10},\"mode\":\"markers\",\"x\":[732.0499877929688,-8.15999984741211,-353.8500061035156,-84.26000213623047,-1070.9100341796875,-3391.590087890625],\"y\":[-5151.66015625,-3876.929931640625,-5369.47021484375,-652.0900268554688,-2407.669921875,-2949.7099609375],\"type\":\"scatter\"},{\"marker\":{\"color\":\"black\",\"size\":10},\"mode\":\"markers\",\"x\":[-242.02999877929688],\"y\":[-3991.820068359375],\"type\":\"scatter\"}]},{\"data\":[{\"marker\":{\"color\":[\"orange\",\"blue\",\"blue\",\"blue\",\"orange\",\"orange\"],\"size\":10},\"mode\":\"markers\",\"x\":[839.8699951171875,-8.15999984741211,-332.8500061035156,-84.26000213623047,-1070.9100341796875,-3519.679931640625],\"y\":[-5140.72998046875,-3876.929931640625,-5355.5400390625,-652.0900268554688,-2407.669921875,-2865.610107421875],\"type\":\"scatter\"},{\"marker\":{\"color\":\"black\",\"size\":10},\"mode\":\"markers\",\"x\":[-235.8699951171875],\"y\":[-3945.56005859375],\"type\":\"scatter\"}]},{\"data\":[{\"marker\":{\"color\":[\"orange\",\"blue\",\"blue\",\"blue\",\"orange\",\"orange\"],\"size\":10},\"mode\":\"markers\",\"x\":[839.8699951171875,-115.16000366210938,-332.8500061035156,-41.869998931884766,-986.9299926757812,-3519.679931640625],\"y\":[-5140.72998046875,-3977.219970703125,-5355.5400390625,-546.3200073242188,-2348.840087890625,-2865.610107421875],\"type\":\"scatter\"},{\"marker\":{\"color\":\"black\",\"size\":10},\"mode\":\"markers\",\"x\":[-277.6300048828125],\"y\":[-3938.280029296875],\"type\":\"scatter\"}]},{\"data\":[{\"marker\":{\"color\":[\"orange\",\"blue\",\"blue\",\"blue\",\"orange\",\"orange\"],\"size\":10},\"mode\":\"markers\",\"x\":[863.260009765625,-115.16000366210938,-332.8500061035156,-35.36000061035156,-971.8200073242188,-3594.699951171875],\"y\":[-5130.97998046875,-3977.219970703125,-5355.5400390625,-525.6799926757812,-2335.0,-2798.090087890625],\"type\":\"scatter\"},{\"marker\":{\"color\":\"black\",\"size\":10},\"mode\":\"markers\",\"x\":[-402.7900085449219],\"y\":[-3916.43994140625],\"type\":\"scatter\"}]},{\"data\":[{\"marker\":{\"color\":[\"orange\",\"blue\",\"blue\",\"blue\",\"orange\",\"orange\"],\"size\":10},\"mode\":\"markers\",\"x\":[866.02001953125,-226.6300048828125,-309.3599853515625,-35.36000061035156,-971.8200073242188,-3603.639892578125],\"y\":[-5129.7099609375,-4086.260009765625,-5339.8701171875,-525.6799926757812,-2335.0,-2789.22998046875],\"type\":\"scatter\"},{\"marker\":{\"color\":\"black\",\"size\":10},\"mode\":\"markers\",\"x\":[-423.6300048828125],\"y\":[-3912.800048828125],\"type\":\"scatter\"}]},{\"data\":[{\"marker\":{\"color\":[\"orange\",\"blue\",\"blue\",\"blue\",\"orange\",\"orange\"],\"size\":10},\"mode\":\"markers\",\"x\":[880.5900268554688,-226.6300048828125,-309.3599853515625,-19.270000457763672,-911.4199829101562,-3671.8798828125],\"y\":[-5117.5498046875,-4086.260009765625,-5339.8701171875,-434.4800109863281,-2265.580078125,-2715.56005859375],\"type\":\"scatter\"},{\"marker\":{\"color\":\"black\",\"size\":10},\"mode\":\"markers\",\"x\":[-590.1799926757812],\"y\":[-3883.739990234375],\"type\":\"scatter\"}]},{\"data\":[{\"marker\":{\"color\":[\"orange\",\"blue\",\"blue\",\"blue\",\"orange\",\"orange\"],\"size\":10},\"mode\":\"markers\",\"x\":[880.5900268554688,-350.95001220703125,-287.67999267578125,-31.829999923706055,-859.6699829101562,-3671.8798828125],\"y\":[-5117.5498046875,-4207.35986328125,-5325.2900390625,-338.9700012207031,-2177.590087890625,-2715.56005859375],\"type\":\"scatter\"},{\"marker\":{\"color\":\"black\",\"size\":10},\"mode\":\"markers\",\"x\":[-756.3800048828125],\"y\":[-3854.72998046875],\"type\":\"scatter\"}]},{\"data\":[{\"marker\":{\"color\":[\"orange\",\"blue\",\"blue\",\"blue\",\"orange\",\"orange\"],\"size\":10},\"mode\":\"markers\",\"x\":[891.530029296875,-350.95001220703125,-287.67999267578125,-35.86000061035156,-859.6699829101562,-3760.030029296875],\"y\":[-5098.93994140625,-4207.35986328125,-5325.2900390625,-319.9700012207031,-2177.590087890625,-2609.639892578125],\"type\":\"scatter\"},{\"marker\":{\"color\":\"black\",\"size\":10},\"mode\":\"markers\",\"x\":[-818.6199951171875],\"y\":[-3843.8701171875],\"type\":\"scatter\"}]},{\"data\":[{\"marker\":{\"color\":[\"orange\",\"blue\",\"blue\",\"blue\",\"orange\",\"orange\"],\"size\":10},\"mode\":\"markers\",\"x\":[891.530029296875,-513.219970703125,-263.5,-48.7599983215332,-826.6099853515625,-3760.030029296875],\"y\":[-5098.93994140625,-4364.6298828125,-5308.85009765625,-252.47999572753906,-2092.6298828125,-2609.639892578125],\"type\":\"scatter\"},{\"marker\":{\"color\":\"black\",\"size\":10},\"mode\":\"markers\",\"x\":[-942.9500122070312],\"y\":[-3822.159912109375],\"type\":\"scatter\"}]},{\"data\":[{\"marker\":{\"color\":[\"orange\",\"blue\",\"blue\",\"blue\",\"orange\",\"orange\"],\"size\":10},\"mode\":\"markers\",\"x\":[905.8599853515625,-513.219970703125,-263.5,-48.7599983215332,-826.6099853515625,-3841.0400390625],\"y\":[-5083.18017578125,-4364.6298828125,-5308.85009765625,-252.47999572753906,-2092.6298828125,-2514.669921875],\"type\":\"scatter\"},{\"marker\":{\"color\":\"black\",\"size\":10},\"mode\":\"markers\",\"x\":[-1025.72998046875],\"y\":[-3807.719970703125],\"type\":\"scatter\"}]},{\"data\":[{\"marker\":{\"color\":[\"orange\",\"blue\",\"blue\",\"blue\",\"orange\",\"orange\"],\"size\":10},\"mode\":\"markers\",\"x\":[905.8599853515625,-613.4000244140625,-241.22999572753906,-48.7599983215332,-810.75,-3841.0400390625],\"y\":[-5083.18017578125,-4461.33984375,-5293.509765625,-252.47999572753906,-2014.8699951171875,-2514.669921875],\"type\":\"scatter\"},{\"marker\":{\"color\":\"black\",\"size\":10},\"mode\":\"markers\",\"x\":[-1108.4300537109375],\"y\":[-3793.280029296875],\"type\":\"scatter\"}]},{\"data\":[{\"marker\":{\"color\":[\"orange\",\"blue\",\"blue\",\"blue\",\"orange\",\"orange\"],\"size\":10},\"mode\":\"markers\",\"x\":[921.719970703125,-613.4000244140625,-241.22999572753906,-57.209999084472656,-810.75,-3841.0400390625],\"y\":[-5071.22998046875,-4461.33984375,-5293.509765625,-143.30999755859375,-2014.8699951171875,-2514.669921875],\"type\":\"scatter\"},{\"marker\":{\"color\":\"black\",\"size\":10},\"mode\":\"markers\",\"x\":[-1211.68994140625],\"y\":[-3775.260009765625],\"type\":\"scatter\"}]},{\"data\":[{\"marker\":{\"color\":[\"orange\",\"blue\",\"blue\",\"blue\",\"orange\",\"orange\"],\"size\":10},\"mode\":\"markers\",\"x\":[925.6300048828125,-751.5599975585938,-225.52000427246094,-57.209999084472656,-815.1500244140625,-3929.110107421875],\"y\":[-5069.27001953125,-4594.18017578125,-5282.52978515625,-143.30999755859375,-1909.43994140625,-2421.820068359375],\"type\":\"scatter\"},{\"marker\":{\"color\":\"black\",\"size\":10},\"mode\":\"markers\",\"x\":[-1335.4200439453125],\"y\":[-3753.659912109375],\"type\":\"scatter\"}]},{\"data\":[{\"marker\":{\"color\":[\"orange\",\"blue\",\"blue\",\"blue\",\"orange\",\"orange\"],\"size\":10},\"mode\":\"markers\",\"x\":[941.22998046875,-751.5599975585938,-225.52000427246094,-44.0,-815.1500244140625,-3929.110107421875],\"y\":[-5063.35986328125,-4594.18017578125,-5282.52978515625,-23.799999237060547,-1909.43994140625,-2421.820068359375],\"type\":\"scatter\"},{\"marker\":{\"color\":\"black\",\"size\":10},\"mode\":\"markers\",\"x\":[-1417.800048828125],\"y\":[-3739.280029296875],\"type\":\"scatter\"}]},{\"data\":[{\"marker\":{\"color\":[\"orange\",\"blue\",\"blue\",\"blue\",\"orange\",\"orange\"],\"size\":10},\"mode\":\"markers\",\"x\":[945.1300048828125,-852.3599853515625,-198.44000244140625,-39.599998474121094,-837.719970703125,-3988.340087890625],\"y\":[-5061.93994140625,-4690.7001953125,-5263.240234375,-4.289999961853027,-1837.8699951171875,-2364.610107421875],\"type\":\"scatter\"},{\"marker\":{\"color\":\"black\",\"size\":10},\"mode\":\"markers\",\"x\":[-1458.9599609375],\"y\":[-3732.10009765625],\"type\":\"scatter\"}]},{\"data\":[{\"marker\":{\"color\":[\"orange\",\"blue\",\"blue\",\"blue\",\"orange\",\"orange\"],\"size\":10},\"mode\":\"markers\",\"x\":[945.1300048828125,-864.97998046875,-196.17999267578125,-39.599998474121094,-841.5999755859375,-3988.340087890625],\"y\":[-5061.93994140625,-4702.759765625,-5261.60986328125,-4.289999961853027,-1829.3699951171875,-2364.610107421875],\"type\":\"scatter\"},{\"marker\":{\"color\":\"black\",\"size\":10},\"mode\":\"markers\",\"x\":[-1520.6600341796875],\"y\":[-3721.330078125],\"type\":\"scatter\"}]},{\"data\":[{\"marker\":{\"color\":[\"orange\",\"blue\",\"blue\",\"blue\",\"orange\",\"orange\"],\"size\":10},\"mode\":\"markers\",\"x\":[962.6799926757812,-864.97998046875,-196.17999267578125,-10.880000114440918,-841.5999755859375,-4030.179931640625],\"y\":[-5055.5498046875,-4702.759765625,-5261.60986328125,79.98999786376953,-1829.3699951171875,-2328.409912109375],\"type\":\"scatter\"},{\"marker\":{\"color\":\"black\",\"size\":10},\"mode\":\"markers\",\"x\":[-1643.9300537109375],\"y\":[-3699.820068359375],\"type\":\"scatter\"}]},{\"data\":[{\"marker\":{\"color\":[\"orange\",\"blue\",\"blue\",\"blue\",\"orange\",\"orange\"],\"size\":10},\"mode\":\"markers\",\"x\":[962.6799926757812,-966.0499877929688,-178.05999755859375,-10.880000114440918,-880.2899780273438,-4030.179931640625],\"y\":[-5055.5498046875,-4799.18017578125,-5248.39013671875,79.98999786376953,-1764.75,-2328.409912109375],\"type\":\"scatter\"},{\"marker\":{\"color\":\"black\",\"size\":10},\"mode\":\"markers\",\"x\":[-1726.0],\"y\":[-3685.5],\"type\":\"scatter\"}]},{\"data\":[{\"marker\":{\"color\":[\"orange\",\"blue\",\"blue\",\"blue\",\"orange\",\"orange\"],\"size\":10},\"mode\":\"markers\",\"x\":[962.6799926757812,-966.0499877929688,-178.05999755859375,39.880001068115234,-880.2899780273438,-4062.93994140625],\"y\":[-5055.5498046875,-4799.18017578125,-5248.39013671875,162.10000610351562,-1764.75,-2301.72998046875],\"type\":\"scatter\"},{\"marker\":{\"color\":\"black\",\"size\":10},\"mode\":\"markers\",\"x\":[-1848.93994140625],\"y\":[-3664.030029296875],\"type\":\"scatter\"}]},{\"data\":[{\"marker\":{\"color\":[\"orange\",\"blue\",\"blue\",\"blue\",\"orange\",\"orange\"],\"size\":10},\"mode\":\"markers\",\"x\":[986.1099853515625,-1092.75,-156.4199981689453,39.880001068115234,-968.4299926757812,-4062.93994140625],\"y\":[-5047.02978515625,-4919.580078125,-5221.009765625,162.10000610351562,-1665.9200439453125,-2301.72998046875],\"type\":\"scatter\"},{\"marker\":{\"color\":\"black\",\"size\":10},\"mode\":\"markers\",\"x\":[-1951.25],\"y\":[-3646.179931640625],\"type\":\"scatter\"}]},{\"data\":[{\"marker\":{\"color\":[\"orange\",\"blue\",\"blue\",\"blue\",\"orange\",\"orange\"],\"size\":10},\"mode\":\"markers\",\"x\":[986.1099853515625,-1092.75,-156.4199981689453,101.37000274658203,-968.4299926757812,-4076.860107421875],\"y\":[-5047.02978515625,-4919.580078125,-5221.009765625,221.16000366210938,-1665.9200439453125,-2291.1298828125],\"type\":\"scatter\"},{\"marker\":{\"color\":\"black\",\"size\":10},\"mode\":\"markers\",\"x\":[-2033.010009765625],\"y\":[-3631.89990234375],\"type\":\"scatter\"}]},{\"data\":[{\"marker\":{\"color\":[\"orange\",\"blue\",\"blue\",\"blue\",\"orange\",\"orange\"],\"size\":10},\"mode\":\"markers\",\"x\":[1003.760009765625,-1207.1400146484375,-146.24000549316406,116.72000122070312,-1035.4100341796875,-4077.860107421875],\"y\":[-5040.64013671875,-5027.81005859375,-5157.5498046875,232.14999389648438,-1612.18994140625,-2290.570068359375],\"type\":\"scatter\"},{\"marker\":{\"color\":\"black\",\"size\":10},\"mode\":\"markers\",\"x\":[-2114.679931640625],\"y\":[-3617.64990234375],\"type\":\"scatter\"}]},{\"data\":[{\"marker\":{\"color\":[\"orange\",\"blue\",\"blue\",\"blue\",\"orange\",\"orange\"],\"size\":10},\"mode\":\"markers\",\"x\":[1003.760009765625,-1207.1400146484375,-146.24000549316406,116.72000122070312,-1053.2099609375,-4078.610107421875],\"y\":[-5040.64013671875,-5027.81005859375,-5157.5498046875,232.14999389648438,-1600.1199951171875,-2294.929931640625],\"type\":\"scatter\"},{\"marker\":{\"color\":\"black\",\"size\":10},\"mode\":\"markers\",\"x\":[-2237.02001953125],\"y\":[-3596.2900390625],\"type\":\"scatter\"}]},{\"data\":[{\"marker\":{\"color\":[\"orange\",\"blue\",\"blue\",\"blue\",\"orange\",\"orange\"],\"size\":10},\"mode\":\"markers\",\"x\":[1027.43994140625,-1355.0699462890625,-134.47000122070312,218.10000610351562,-1128.25,-4078.340087890625],\"y\":[-5032.1201171875,-5111.27978515625,-5068.52978515625,282.1000061035156,-1558.1700439453125,-2297.699951171875],\"type\":\"scatter\"},{\"marker\":{\"color\":\"black\",\"size\":10},\"mode\":\"markers\",\"x\":[-2318.47998046875],\"y\":[-3582.080078125],\"type\":\"scatter\"}]},{\"data\":[{\"marker\":{\"color\":[\"orange\",\"blue\",\"blue\",\"blue\",\"orange\",\"orange\"],\"size\":10},\"mode\":\"markers\",\"x\":[1027.43994140625,-1355.0699462890625,-134.47000122070312,218.10000610351562,-1128.25,-4077.68994140625],\"y\":[-5032.1201171875,-5111.27978515625,-5068.52978515625,282.1000061035156,-1558.1700439453125,-2312.77001953125],\"type\":\"scatter\"},{\"marker\":{\"color\":\"black\",\"size\":10},\"mode\":\"markers\",\"x\":[-2379.52001953125],\"y\":[-3571.429931640625],\"type\":\"scatter\"}]},{\"data\":[{\"marker\":{\"color\":[\"orange\",\"blue\",\"blue\",\"blue\",\"orange\",\"orange\"],\"size\":10},\"mode\":\"markers\",\"x\":[1041.3399658203125,-1430.0699462890625,-111.12999725341797,320.1199951171875,-1239.4200439453125,-4077.580078125],\"y\":[-5027.14990234375,-5106.35009765625,-4984.72021484375,303.989990234375,-1518.77001953125,-2318.64990234375],\"type\":\"scatter\"},{\"marker\":{\"color\":\"black\",\"size\":10},\"mode\":\"markers\",\"x\":[-2542.080078125],\"y\":[-3543.06005859375],\"type\":\"scatter\"}]},{\"data\":[{\"marker\":{\"color\":[\"orange\",\"blue\",\"blue\",\"blue\",\"orange\",\"orange\"],\"size\":10},\"mode\":\"markers\",\"x\":[1041.3399658203125,-1430.0699462890625,-111.12999725341797,320.1199951171875,-1239.4200439453125,-4077.580078125],\"y\":[-5027.14990234375,-5106.35009765625,-4984.72021484375,303.989990234375,-1518.77001953125,-2318.64990234375],\"type\":\"scatter\"},{\"marker\":{\"color\":\"black\",\"size\":10},\"mode\":\"markers\",\"x\":[-2623.239990234375],\"y\":[-3528.89990234375],\"type\":\"scatter\"}]},{\"data\":[{\"marker\":{\"color\":[\"orange\",\"blue\",\"blue\",\"blue\",\"orange\",\"orange\"],\"size\":10},\"mode\":\"markers\",\"x\":[1065.7099609375,-1549.4599609375,-73.48999786376953,396.6199951171875,-1365.1800537109375,-4077.35009765625],\"y\":[-5018.89013671875,-5101.89013671875,-4891.93017578125,305.4100036621094,-1499.489990234375,-2368.81005859375],\"type\":\"scatter\"},{\"marker\":{\"color\":\"black\",\"size\":10},\"mode\":\"markers\",\"x\":[-2785.2900390625],\"y\":[-3500.6201171875],\"type\":\"scatter\"}]},{\"data\":[{\"marker\":{\"color\":[\"orange\",\"blue\",\"blue\",\"blue\",\"orange\",\"orange\"],\"size\":10},\"mode\":\"markers\",\"x\":[1091.93994140625,-1639.1800537109375,-73.48999786376953,482.2300109863281,-1365.1800537109375,-4077.35009765625],\"y\":[-5014.08984375,-5100.39990234375,-4891.93017578125,292.3900146484375,-1499.489990234375,-2423.199951171875],\"type\":\"scatter\"},{\"marker\":{\"color\":\"black\",\"size\":10},\"mode\":\"markers\",\"x\":[-2886.39990234375],\"y\":[-3482.969970703125],\"type\":\"scatter\"}]},{\"data\":[{\"marker\":{\"color\":[\"orange\",\"blue\",\"blue\",\"blue\",\"orange\",\"orange\"],\"size\":10},\"mode\":\"markers\",\"x\":[1091.93994140625,-1639.1800537109375,-47.869998931884766,482.2300109863281,-1437.5899658203125,-4077.35009765625],\"y\":[-5014.08984375,-5100.39990234375,-4836.72021484375,292.3900146484375,-1501.260009765625,-2423.199951171875],\"type\":\"scatter\"},{\"marker\":{\"color\":\"black\",\"size\":10},\"mode\":\"markers\",\"x\":[-3007.570068359375],\"y\":[-3461.830078125],\"type\":\"scatter\"}]},{\"data\":[{\"marker\":{\"color\":[\"orange\",\"blue\",\"blue\",\"blue\",\"orange\",\"orange\"],\"size\":10},\"mode\":\"markers\",\"x\":[1147.9200439453125,-1736.219970703125,-47.869998931884766,573.6199951171875,-1437.5899658203125,-4077.35009765625],\"y\":[-5011.3701171875,-5100.22021484375,-4836.72021484375,260.2799987792969,-1501.260009765625,-2423.199951171875],\"type\":\"scatter\"},{\"marker\":{\"color\":\"black\",\"size\":10},\"mode\":\"markers\",\"x\":[-3088.25],\"y\":[-3447.75],\"type\":\"scatter\"}]},{\"data\":[{\"marker\":{\"color\":[\"orange\",\"blue\",\"blue\",\"blue\",\"orange\",\"orange\"],\"size\":10},\"mode\":\"markers\",\"x\":[1147.9200439453125,-1754.800048828125,-7.03000020980835,591.3699951171875,-1552.2900390625,-4077.35009765625],\"y\":[-5011.3701171875,-5100.43017578125,-4737.1298828125,252.0800018310547,-1532.4300537109375,-2516.429931640625],\"type\":\"scatter\"},{\"marker\":{\"color\":\"black\",\"size\":10},\"mode\":\"markers\",\"x\":[-3209.1201171875],\"y\":[-3426.659912109375],\"type\":\"scatter\"}]},{\"data\":[{\"marker\":{\"color\":[\"orange\",\"blue\",\"blue\",\"blue\",\"orange\",\"orange\"],\"size\":10},\"mode\":\"markers\",\"x\":[1235.02001953125,-1832.43994140625,-7.03000020980835,670.010009765625,-1552.2900390625,-4077.35009765625],\"y\":[-5009.740234375,-5102.35009765625,-4737.1298828125,210.3300018310547,-1532.4300537109375,-2598.260009765625],\"type\":\"scatter\"},{\"marker\":{\"color\":\"black\",\"size\":10},\"mode\":\"markers\",\"x\":[-3309.68994140625],\"y\":[-3409.110107421875],\"type\":\"scatter\"}]},{\"data\":[{\"marker\":{\"color\":[\"orange\",\"blue\",\"blue\",\"blue\",\"orange\",\"orange\"],\"size\":10},\"mode\":\"markers\",\"x\":[1235.02001953125,-1832.43994140625,19.940000534057617,670.010009765625,-1638.9000244140625,-4077.35009765625],\"y\":[-5009.740234375,-5102.35009765625,-4640.22021484375,210.3300018310547,-1590.5699462890625,-2598.260009765625],\"type\":\"scatter\"},{\"marker\":{\"color\":\"black\",\"size\":10},\"mode\":\"markers\",\"x\":[-3390.050048828125],\"y\":[-3395.080078125],\"type\":\"scatter\"}]},{\"data\":[{\"marker\":{\"color\":[\"orange\",\"blue\",\"blue\",\"blue\",\"orange\",\"orange\"],\"size\":10},\"mode\":\"markers\",\"x\":[1323.6800537109375,-1832.43994140625,19.940000534057617,757.0800170898438,-1638.9000244140625,-4064.68994140625],\"y\":[-4995.77978515625,-5102.35009765625,-4640.22021484375,162.4199981689453,-1590.5699462890625,-2699.22998046875],\"type\":\"scatter\"},{\"marker\":{\"color\":\"black\",\"size\":10},\"mode\":\"markers\",\"x\":[-3510.43994140625],\"y\":[-3374.080078125],\"type\":\"scatter\"}]},{\"data\":[{\"marker\":{\"color\":[\"orange\",\"blue\",\"blue\",\"blue\",\"orange\",\"orange\"],\"size\":10},\"mode\":\"markers\",\"x\":[1323.6800537109375,-1913.1500244140625,33.7599983215332,774.47998046875,-1708.6400146484375,-4059.39990234375],\"y\":[-4995.77978515625,-5103.3701171875,-4567.97998046875,152.86000061035156,-1667.1700439453125,-2720.43994140625],\"type\":\"scatter\"},{\"marker\":{\"color\":\"black\",\"size\":10},\"mode\":\"markers\",\"x\":[-3610.6298828125],\"y\":[-3356.590087890625],\"type\":\"scatter\"}]},{\"data\":[{\"marker\":{\"color\":[\"orange\",\"blue\",\"blue\",\"blue\",\"orange\",\"orange\"],\"size\":10},\"mode\":\"markers\",\"x\":[1408.300048828125,-1951.699951171875,33.7599983215332,871.3300170898438,-1708.6400146484375,-4030.8798828125],\"y\":[-4970.83984375,-5103.06005859375,-4567.97998046875,148.27000427246094,-1667.1700439453125,-2818.830078125],\"type\":\"scatter\"},{\"marker\":{\"color\":\"black\",\"size\":10},\"mode\":\"markers\",\"x\":[-3730.68994140625],\"y\":[-3335.64990234375],\"type\":\"scatter\"}]},{\"data\":[{\"marker\":{\"color\":[\"orange\",\"blue\",\"blue\",\"blue\",\"orange\",\"orange\"],\"size\":10},\"mode\":\"markers\",\"x\":[1408.300048828125,-1957.6700439453125,45.7400016784668,871.3300170898438,-1758.22998046875,-4030.8798828125],\"y\":[-4970.83984375,-5103.02001953125,-4468.22021484375,148.27000427246094,-1747.3900146484375,-2818.830078125],\"type\":\"scatter\"},{\"marker\":{\"color\":\"black\",\"size\":10},\"mode\":\"markers\",\"x\":[-3770.669921875],\"y\":[-3328.669921875],\"type\":\"scatter\"}]},{\"data\":[{\"marker\":{\"color\":[\"orange\",\"blue\",\"blue\",\"blue\",\"orange\",\"orange\"],\"size\":10},\"mode\":\"markers\",\"x\":[1522.2900390625,-1972.969970703125,45.7400016784668,984.8300170898438,-1766.52001953125,-3989.860107421875],\"y\":[-4915.58984375,-5102.9599609375,-4468.22021484375,155.3699951171875,-1764.4100341796875,-2929.219970703125],\"type\":\"scatter\"},{\"marker\":{\"color\":\"black\",\"size\":10},\"mode\":\"markers\",\"x\":[-3930.389892578125],\"y\":[-3300.81005859375],\"type\":\"scatter\"}]},{\"data\":[{\"marker\":{\"color\":[\"orange\",\"blue\",\"blue\",\"blue\",\"orange\",\"orange\"],\"size\":10},\"mode\":\"markers\",\"x\":[1584.8299560546875,-1972.969970703125,40.56999969482422,984.8300170898438,-1797.6800537109375,-3989.860107421875],\"y\":[-4868.89013671875,-5102.9599609375,-4374.0400390625,155.3699951171875,-1844.3399658203125,-2929.219970703125],\"type\":\"scatter\"},{\"marker\":{\"color\":\"black\",\"size\":10},\"mode\":\"markers\",\"x\":[-3993.8701171875],\"y\":[-3285.52001953125],\"type\":\"scatter\"}]},{\"data\":[{\"marker\":{\"color\":[\"orange\",\"blue\",\"blue\",\"blue\",\"orange\",\"orange\"],\"size\":10},\"mode\":\"markers\",\"x\":[1601.8199462890625,-1975.0999755859375,40.56999969482422,1064.280029296875,-1803.2900390625,-3941.5400390625],\"y\":[-4853.6298828125,-5102.9599609375,-4374.0400390625,160.33999633789062,-1862.760009765625,-3050.85009765625],\"type\":\"scatter\"},{\"marker\":{\"color\":\"black\",\"size\":10},\"mode\":\"markers\",\"x\":[-3922.219970703125],\"y\":[-3277.300048828125],\"type\":\"scatter\"}]},{\"data\":[{\"marker\":{\"color\":[\"orange\",\"blue\",\"blue\",\"blue\",\"orange\",\"orange\"],\"size\":10},\"mode\":\"markers\",\"x\":[1665.1800537109375,-1975.0999755859375,8.890000343322754,1181.4300537109375,-1819.4300537109375,-3918.8701171875],\"y\":[-4784.7998046875,-5102.9599609375,-4290.169921875,165.88999938964844,-1938.449951171875,-3096.60009765625],\"type\":\"scatter\"},{\"marker\":{\"color\":\"black\",\"size\":10},\"mode\":\"markers\",\"x\":[-3850.679931640625],\"y\":[-3269.110107421875],\"type\":\"scatter\"}]},{\"data\":[{\"marker\":{\"color\":[\"orange\",\"blue\",\"blue\",\"blue\",\"orange\",\"orange\"],\"size\":10},\"mode\":\"markers\",\"x\":[1665.1800537109375,-1963.3299560546875,8.890000343322754,1205.6700439453125,-1819.4300537109375,-3918.8701171875],\"y\":[-4784.7998046875,-5102.9599609375,-4290.169921875,166.63999938964844,-1938.449951171875,-3096.60009765625],\"type\":\"scatter\"},{\"marker\":{\"color\":\"black\",\"size\":10},\"mode\":\"markers\",\"x\":[-3813.510009765625],\"y\":[-3272.9599609375],\"type\":\"scatter\"}]},{\"data\":[{\"marker\":{\"color\":[\"orange\",\"blue\",\"blue\",\"blue\",\"orange\",\"orange\"],\"size\":10},\"mode\":\"markers\",\"x\":[1746.5,-1943.7900390625,-40.970001220703125,1318.0699462890625,-1824.7099609375,-3816.2900390625],\"y\":[-4655.669921875,-5102.9599609375,-4240.169921875,168.60000610351562,-2045.6800537109375,-3224.97998046875],\"type\":\"scatter\"},{\"marker\":{\"color\":\"black\",\"size\":10},\"mode\":\"markers\",\"x\":[-3675.72998046875],\"y\":[-3381.989990234375],\"type\":\"scatter\"}]},{\"data\":[{\"marker\":{\"color\":[\"orange\",\"blue\",\"blue\",\"blue\",\"orange\",\"orange\"],\"size\":10},\"mode\":\"markers\",\"x\":[1746.5,-1943.7900390625,-85.23999786376953,1318.0699462890625,-1824.7099609375,-3742.3701171875],\"y\":[-4655.669921875,-5102.9599609375,-4221.60986328125,168.60000610351562,-2045.6800537109375,-3314.830078125],\"type\":\"scatter\"},{\"marker\":{\"color\":\"black\",\"size\":10},\"mode\":\"markers\",\"x\":[-3572.590087890625],\"y\":[-3463.6201171875],\"type\":\"scatter\"}]},{\"data\":[{\"marker\":{\"color\":[\"orange\",\"blue\",\"blue\",\"blue\",\"orange\",\"orange\"],\"size\":10},\"mode\":\"markers\",\"x\":[1795.1300048828125,-1904.18994140625,-85.23999786376953,1462.81005859375,-1805.8399658203125,-3742.3701171875],\"y\":[-4549.22021484375,-5102.9599609375,-4221.60986328125,167.64999389648438,-2161.72998046875,-3314.830078125],\"type\":\"scatter\"},{\"marker\":{\"color\":\"black\",\"size\":10},\"mode\":\"markers\",\"x\":[-3486.75],\"y\":[-3531.550048828125],\"type\":\"scatter\"}]},{\"data\":[{\"marker\":{\"color\":[\"orange\",\"blue\",\"blue\",\"blue\",\"orange\",\"orange\"],\"size\":10},\"mode\":\"markers\",\"x\":[1795.1300048828125,-1904.18994140625,-139.1300048828125,1462.81005859375,-1805.8399658203125,-3659.25],\"y\":[-4549.22021484375,-5102.9599609375,-4217.18994140625,167.64999389648438,-2161.72998046875,-3416.1201171875],\"type\":\"scatter\"},{\"marker\":{\"color\":\"black\",\"size\":10},\"mode\":\"markers\",\"x\":[-3418.169921875],\"y\":[-3585.820068359375],\"type\":\"scatter\"}]},{\"data\":[{\"marker\":{\"color\":[\"orange\",\"blue\",\"blue\",\"blue\",\"orange\",\"orange\"],\"size\":10},\"mode\":\"markers\",\"x\":[1842.3800048828125,-1856.6099853515625,-139.1300048828125,1601.3399658203125,-1774.5400390625,-3659.25],\"y\":[-4429.2099609375,-5102.9599609375,-4217.18994140625,163.4499969482422,-2244.3701171875,-3416.1201171875],\"type\":\"scatter\"},{\"marker\":{\"color\":\"black\",\"size\":10},\"mode\":\"markers\",\"x\":[-3281.199951171875],\"y\":[-3694.2099609375],\"type\":\"scatter\"}]},{\"data\":[{\"marker\":{\"color\":[\"orange\",\"blue\",\"blue\",\"blue\",\"orange\",\"orange\"],\"size\":10},\"mode\":\"markers\",\"x\":[1842.3800048828125,-1856.6099853515625,-200.77999877929688,1601.3399658203125,-1734.97998046875,-3566.949951171875],\"y\":[-4429.2099609375,-5102.9599609375,-4229.509765625,163.4499969482422,-2312.260009765625,-3528.719970703125],\"type\":\"scatter\"},{\"marker\":{\"color\":\"black\",\"size\":10},\"mode\":\"markers\",\"x\":[-3212.820068359375],\"y\":[-3748.320068359375],\"type\":\"scatter\"}]},{\"data\":[{\"marker\":{\"color\":[\"orange\",\"blue\",\"blue\",\"blue\",\"orange\",\"orange\"],\"size\":10},\"mode\":\"markers\",\"x\":[1879.4300537109375,-1808.1800537109375,-200.77999877929688,1729.8599853515625,-1723.47998046875,-3566.949951171875],\"y\":[-4330.27978515625,-5102.9599609375,-4229.509765625,157.80999755859375,-2328.18994140625,-3528.719970703125],\"type\":\"scatter\"},{\"marker\":{\"color\":\"black\",\"size\":10},\"mode\":\"markers\",\"x\":[-3161.590087890625],\"y\":[-3788.860107421875],\"type\":\"scatter\"}]},{\"data\":[{\"marker\":{\"color\":[\"orange\",\"blue\",\"blue\",\"blue\",\"orange\",\"orange\"],\"size\":10},\"mode\":\"markers\",\"x\":[1879.4300537109375,-1808.1800537109375,-255.3800048828125,1729.8599853515625,-1723.47998046875,-3483.8798828125],\"y\":[-4330.27978515625,-5102.9599609375,-4253.85986328125,157.80999755859375,-2328.18994140625,-3630.06005859375],\"type\":\"scatter\"},{\"marker\":{\"color\":\"black\",\"size\":10},\"mode\":\"markers\",\"x\":[-3093.330078125],\"y\":[-3842.8701171875],\"type\":\"scatter\"}]},{\"data\":[{\"marker\":{\"color\":[\"orange\",\"blue\",\"blue\",\"blue\",\"orange\",\"orange\"],\"size\":10},\"mode\":\"markers\",\"x\":[1912.06005859375,-1755.0899658203125,-255.3800048828125,1844.1700439453125,-1664.3800048828125,-3483.8798828125],\"y\":[-4242.169921875,-5102.9599609375,-4253.85986328125,152.77000427246094,-2393.840087890625,-3630.06005859375],\"type\":\"scatter\"},{\"marker\":{\"color\":\"black\",\"size\":10},\"mode\":\"markers\",\"x\":[-3025.14990234375],\"y\":[-3896.820068359375],\"type\":\"scatter\"}]},{\"data\":[{\"marker\":{\"color\":[\"orange\",\"blue\",\"blue\",\"blue\",\"orange\",\"orange\"],\"size\":10},\"mode\":\"markers\",\"x\":[1912.06005859375,-1755.0899658203125,-325.0199890136719,1844.1700439453125,-1664.3800048828125,-3373.1201171875],\"y\":[-4242.169921875,-5102.9599609375,-4302.33984375,152.77000427246094,-2393.840087890625,-3765.179931640625],\"type\":\"scatter\"},{\"marker\":{\"color\":\"black\",\"size\":10},\"mode\":\"markers\",\"x\":[-2888.97998046875],\"y\":[-4004.570068359375],\"type\":\"scatter\"}]},{\"data\":[{\"marker\":{\"color\":[\"orange\",\"blue\",\"blue\",\"blue\",\"orange\",\"orange\"],\"size\":10},\"mode\":\"markers\",\"x\":[1962.510009765625,-1755.0899658203125,-325.0199890136719,2015.6300048828125,-1564.27001953125,-3373.1201171875],\"y\":[-4109.81982421875,-5102.9599609375,-4302.33984375,145.2100067138672,-2467.0,-3765.179931640625],\"type\":\"scatter\"},{\"marker\":{\"color\":\"black\",\"size\":10},\"mode\":\"markers\",\"x\":[-2821.0],\"y\":[-4058.360107421875],\"type\":\"scatter\"}]},{\"data\":[{\"marker\":{\"color\":[\"orange\",\"blue\",\"blue\",\"blue\",\"orange\",\"orange\"],\"size\":10},\"mode\":\"markers\",\"x\":[1962.510009765625,-1702.6700439453125,-365.2699890136719,2015.6300048828125,-1564.27001953125,-3308.510009765625],\"y\":[-4109.81982421875,-5102.9599609375,-4336.1201171875,145.2100067138672,-2467.0,-3844.0],\"type\":\"scatter\"},{\"marker\":{\"color\":\"black\",\"size\":10},\"mode\":\"markers\",\"x\":[-2770.070068359375],\"y\":[-4098.669921875],\"type\":\"scatter\"}]},{\"data\":[{\"marker\":{\"color\":[\"orange\",\"blue\",\"blue\",\"blue\",\"orange\",\"orange\"],\"size\":10},\"mode\":\"markers\",\"x\":[1962.510009765625,-1702.6700439453125,-365.2699890136719,2115.639892578125,-1564.27001953125,-3308.510009765625],\"y\":[-4109.81982421875,-5102.9599609375,-4336.1201171875,140.8000030517578,-2467.0,-3844.0],\"type\":\"scatter\"},{\"marker\":{\"color\":\"black\",\"size\":10},\"mode\":\"markers\",\"x\":[-2702.2099609375],\"y\":[-4152.3701171875],\"type\":\"scatter\"}]},{\"data\":[{\"marker\":{\"color\":[\"orange\",\"blue\",\"blue\",\"blue\",\"orange\",\"orange\"],\"size\":10},\"mode\":\"markers\",\"x\":[2004.5699462890625,-1661.0799560546875,-420.1199951171875,2115.639892578125,-1473.93994140625,-3216.2099609375],\"y\":[-4006.7900390625,-5102.9599609375,-4391.81982421875,140.8000030517578,-2508.5400390625,-3956.60009765625],\"type\":\"scatter\"},{\"marker\":{\"color\":\"black\",\"size\":10},\"mode\":\"markers\",\"x\":[-2634.429931640625],\"y\":[-4206.02001953125],\"type\":\"scatter\"}]},{\"data\":[{\"marker\":{\"color\":[\"orange\",\"blue\",\"blue\",\"blue\",\"orange\",\"orange\"],\"size\":10},\"mode\":\"markers\",\"x\":[2056.659912109375,-1661.0799560546875,-430.4200134277344,2258.530029296875,-1361.5400390625,-3197.75],\"y\":[-3887.43994140625,-5102.9599609375,-4404.10009765625,134.5,-2537.6298828125,-3979.1201171875],\"type\":\"scatter\"},{\"marker\":{\"color\":\"black\",\"size\":10},\"mode\":\"markers\",\"x\":[-2499.06005859375],\"y\":[-4313.14013671875],\"type\":\"scatter\"}]},{\"data\":[{\"marker\":{\"color\":[\"orange\",\"blue\",\"blue\",\"blue\",\"orange\",\"orange\"],\"size\":10},\"mode\":\"markers\",\"x\":[2067.669921875,-1620.4599609375,-464.0799865722656,2258.530029296875,-1338.25,-3133.139892578125],\"y\":[-3862.889892578125,-5102.9599609375,-4450.169921875,134.5,-2541.010009765625,-4057.93994140625],\"type\":\"scatter\"},{\"marker\":{\"color\":\"black\",\"size\":10},\"mode\":\"markers\",\"x\":[-2448.3701171875],\"y\":[-4353.25],\"type\":\"scatter\"}]},{\"data\":[{\"marker\":{\"color\":[\"orange\",\"blue\",\"blue\",\"blue\",\"orange\",\"orange\"],\"size\":10},\"mode\":\"markers\",\"x\":[2107.219970703125,-1584.5799560546875,-464.0799865722656,2415.669921875,-1256.5999755859375,-3133.139892578125],\"y\":[-3774.909912109375,-5102.9599609375,-4450.169921875,128.02999877929688,-2546.070068359375,-4057.93994140625],\"type\":\"scatter\"},{\"marker\":{\"color\":\"black\",\"size\":10},\"mode\":\"markers\",\"x\":[-2313.3798828125],\"y\":[-4460.06005859375],\"type\":\"scatter\"}]},{\"data\":[{\"marker\":{\"color\":[\"orange\",\"blue\",\"blue\",\"blue\",\"orange\",\"orange\"],\"size\":10},\"mode\":\"markers\",\"x\":[2107.219970703125,-1577.1600341796875,-503.3500061035156,2415.669921875,-1256.5999755859375,-3040.840087890625],\"y\":[-3774.909912109375,-5102.9599609375,-4524.10009765625,128.02999877929688,-2546.070068359375,-4170.5400390625],\"type\":\"scatter\"},{\"marker\":{\"color\":\"black\",\"size\":10},\"mode\":\"markers\",\"x\":[-2212.330078125],\"y\":[-4540.02978515625],\"type\":\"scatter\"}]},{\"data\":[{\"marker\":{\"color\":[\"orange\",\"blue\",\"blue\",\"blue\",\"orange\",\"orange\"],\"size\":10},\"mode\":\"markers\",\"x\":[2192.81005859375,-1577.1600341796875,-503.3500061035156,2587.179931640625,-1116.52001953125,-3040.840087890625],\"y\":[-3586.39990234375,-5102.9599609375,-4524.10009765625,124.86000061035156,-2530.080078125,-4170.5400390625],\"type\":\"scatter\"},{\"marker\":{\"color\":\"black\",\"size\":10},\"mode\":\"markers\",\"x\":[-2145.050048828125],\"y\":[-4593.27978515625],\"type\":\"scatter\"}]},{\"data\":[{\"marker\":{\"color\":[\"orange\",\"blue\",\"blue\",\"blue\",\"orange\",\"orange\"],\"size\":10},\"mode\":\"markers\",\"x\":[2192.81005859375,-1544.260009765625,-529.0700073242188,2587.179931640625,-1116.52001953125,-2948.530029296875],\"y\":[-3586.39990234375,-5102.9599609375,-4606.080078125,124.86000061035156,-2530.080078125,-4283.14013671875],\"type\":\"scatter\"},{\"marker\":{\"color\":\"black\",\"size\":10},\"mode\":\"markers\",\"x\":[-2061.0400390625],\"y\":[-4659.759765625],\"type\":\"scatter\"}]},{\"data\":[{\"marker\":{\"color\":[\"orange\",\"blue\",\"blue\",\"blue\",\"orange\",\"orange\"],\"size\":10},\"mode\":\"markers\",\"x\":[2263.919921875,-1518.780029296875,-538.6500244140625,2715.6298828125,-1011.4400024414062,-2865.280029296875],\"y\":[-3430.419921875,-5102.9599609375,-4684.4501953125,124.7699966430664,-2497.179931640625,-4384.58984375],\"type\":\"scatter\"},{\"marker\":{\"color\":\"black\",\"size\":10},\"mode\":\"markers\",\"x\":[-1960.3699951171875],\"y\":[-4739.43017578125],\"type\":\"scatter\"}]},{\"data\":[{\"marker\":{\"color\":[\"orange\",\"blue\",\"blue\",\"blue\",\"orange\",\"orange\"],\"size\":10},\"mode\":\"markers\",\"x\":[2327.199951171875,-1503.3699951171875,-538.6500244140625,2715.6298828125,-1011.4400024414062,-2865.280029296875],\"y\":[-3291.639892578125,-5100.5,-4684.4501953125,124.7699966430664,-2497.179931640625,-4384.58984375],\"type\":\"scatter\"},{\"marker\":{\"color\":\"black\",\"size\":10},\"mode\":\"markers\",\"x\":[-1859.8599853515625],\"y\":[-4818.97021484375],\"type\":\"scatter\"}]},{\"data\":[{\"marker\":{\"color\":[\"orange\",\"blue\",\"blue\",\"blue\",\"orange\",\"orange\"],\"size\":10},\"mode\":\"markers\",\"x\":[2327.199951171875,-1503.3699951171875,-531.4400024414062,2857.969970703125,-865.8699951171875,-2763.110107421875],\"y\":[-3291.639892578125,-5100.5,-4782.3798828125,131.1300048828125,-2418.27001953125,-4508.830078125],\"type\":\"scatter\"},{\"marker\":{\"color\":\"black\",\"size\":10},\"mode\":\"markers\",\"x\":[-1776.219970703125],\"y\":[-4885.14990234375],\"type\":\"scatter\"}]},{\"data\":[{\"marker\":{\"color\":[\"orange\",\"blue\",\"blue\",\"blue\",\"orange\",\"orange\"],\"size\":10},\"mode\":\"markers\",\"x\":[2414.2099609375,-1475.4599609375,-531.4400024414062,2985.639892578125,-865.8699951171875,-2763.110107421875],\"y\":[-3100.7900390625,-5070.25,-4782.3798828125,141.6300048828125,-2418.27001953125,-4508.830078125],\"type\":\"scatter\"},{\"marker\":{\"color\":\"black\",\"size\":10},\"mode\":\"markers\",\"x\":[-1675.989990234375],\"y\":[-4964.4599609375],\"type\":\"scatter\"}]},{\"data\":[{\"marker\":{\"color\":[\"orange\",\"blue\",\"blue\",\"blue\",\"orange\",\"orange\"],\"size\":10},\"mode\":\"markers\",\"x\":[2414.2099609375,-1475.4599609375,-506.5899963378906,2985.639892578125,-763.1300048828125,-2669.85009765625],\"y\":[-3100.7900390625,-5070.25,-4869.669921875,141.6300048828125,-2333.699951171875,-4622.0498046875],\"type\":\"scatter\"},{\"marker\":{\"color\":\"black\",\"size\":10},\"mode\":\"markers\",\"x\":[-1620.4100341796875],\"y\":[-4979.52978515625],\"type\":\"scatter\"}]},{\"data\":[{\"marker\":{\"color\":[\"orange\",\"blue\",\"blue\",\"blue\",\"orange\",\"orange\"],\"size\":10},\"mode\":\"markers\",\"x\":[2493.31005859375,-1448.489990234375,-506.5899963378906,3127.39990234375,-763.1300048828125,-2669.85009765625],\"y\":[-2927.2900390625,-5033.06982421875,-4869.669921875,149.13999938964844,-2333.699951171875,-4622.0498046875],\"type\":\"scatter\"},{\"marker\":{\"color\":\"black\",\"size\":10},\"mode\":\"markers\",\"x\":[-1553.8800048828125],\"y\":[-4946.47021484375],\"type\":\"scatter\"}]},{\"data\":[{\"marker\":{\"color\":[\"orange\",\"blue\",\"blue\",\"blue\",\"orange\",\"orange\"],\"size\":10},\"mode\":\"markers\",\"x\":[2493.31005859375,-1448.489990234375,-475.8299865722656,3127.39990234375,-677.6099853515625,-2585.590087890625],\"y\":[-2927.2900390625,-5033.06982421875,-4936.009765625,149.13999938964844,-2243.320068359375,-4724.18994140625],\"type\":\"scatter\"},{\"marker\":{\"color\":\"black\",\"size\":10},\"mode\":\"markers\",\"x\":[-1520.6500244140625],\"y\":[-4929.97021484375],\"type\":\"scatter\"}]},{\"data\":[{\"marker\":{\"color\":[\"orange\",\"blue\",\"blue\",\"blue\",\"orange\",\"orange\"],\"size\":10},\"mode\":\"markers\",\"x\":[2548.679931640625,-1428.5899658203125,-430.7099914550781,3254.300048828125,-677.6099853515625,-2585.590087890625],\"y\":[-2805.840087890625,-5004.1298828125,-5004.14013671875,144.3699951171875,-2243.320068359375,-4724.18994140625],\"type\":\"scatter\"},{\"marker\":{\"color\":\"black\",\"size\":10},\"mode\":\"markers\",\"x\":[-1458.3800048828125],\"y\":[-4889.22021484375],\"type\":\"scatter\"}]},{\"data\":[{\"marker\":{\"color\":[\"orange\",\"blue\",\"blue\",\"blue\",\"orange\",\"orange\"],\"size\":10},\"mode\":\"markers\",\"x\":[2627.780029296875,-1403.77001953125,-419.0199890136719,3254.300048828125,-589.1599731445312,-2491.6201171875],\"y\":[-2632.340087890625,-4982.02001953125,-5017.83984375,144.3699951171875,-2135.510009765625,-4837.91015625],\"type\":\"scatter\"},{\"marker\":{\"color\":\"black\",\"size\":10},\"mode\":\"markers\",\"x\":[-1438.6800537109375],\"y\":[-4767.10009765625],\"type\":\"scatter\"}]},{\"data\":[{\"marker\":{\"color\":[\"orange\",\"blue\",\"blue\",\"blue\",\"orange\",\"orange\"],\"size\":10},\"mode\":\"markers\",\"x\":[2627.780029296875,-1325.6700439453125,-351.8500061035156,3391.8798828125,-504.3399963378906,-2397.260009765625],\"y\":[-2632.340087890625,-4929.080078125,-5075.64990234375,120.98999786376953,-2024.93994140625,-4951.85986328125],\"type\":\"scatter\"},{\"marker\":{\"color\":\"black\",\"size\":10},\"mode\":\"markers\",\"x\":[-1412.3599853515625],\"y\":[-4605.080078125],\"type\":\"scatter\"}]},{\"data\":[{\"marker\":{\"color\":[\"orange\",\"blue\",\"blue\",\"blue\",\"orange\",\"orange\"],\"size\":10},\"mode\":\"markers\",\"x\":[2706.8798828125,-1325.6700439453125,-351.8500061035156,3391.8798828125,-504.3399963378906,-2397.260009765625],\"y\":[-2458.840087890625,-4929.080078125,-5075.64990234375,120.98999786376953,-2024.93994140625,-4951.85986328125],\"type\":\"scatter\"},{\"marker\":{\"color\":\"black\",\"size\":10},\"mode\":\"markers\",\"x\":[-1399.199951171875],\"y\":[-4524.2001953125],\"type\":\"scatter\"}]},{\"data\":[{\"marker\":{\"color\":[\"orange\",\"blue\",\"blue\",\"blue\",\"orange\",\"orange\"],\"size\":10},\"mode\":\"markers\",\"x\":[2706.8798828125,-1254.3199462890625,-281.1400146484375,3509.68994140625,-429.6499938964844,-2312.0],\"y\":[-2458.840087890625,-4880.77001953125,-5110.06982421875,82.54000091552734,-1924.260009765625,-5054.580078125],\"type\":\"scatter\"},{\"marker\":{\"color\":\"black\",\"size\":10},\"mode\":\"markers\",\"x\":[-1382.800048828125],\"y\":[-4423.2099609375],\"type\":\"scatter\"}]},{\"data\":[{\"marker\":{\"color\":[\"orange\",\"blue\",\"blue\",\"blue\",\"orange\",\"orange\"],\"size\":10},\"mode\":\"markers\",\"x\":[2793.889892578125,-1254.3199462890625,-281.1400146484375,3631.02001953125,-429.6499938964844,-2312.0],\"y\":[-2267.989990234375,-4880.77001953125,-5110.06982421875,22.639999389648438,-1924.260009765625,-5054.580078125],\"type\":\"scatter\"},{\"marker\":{\"color\":\"black\",\"size\":10},\"mode\":\"markers\",\"x\":[-1363.1199951171875],\"y\":[-4302.18994140625],\"type\":\"scatter\"}]},{\"data\":[{\"marker\":{\"color\":[\"orange\",\"blue\",\"blue\",\"blue\",\"orange\",\"orange\"],\"size\":10},\"mode\":\"markers\",\"x\":[2793.889892578125,-1159.050048828125,-213.0399932861328,3631.02001953125,-339.32000732421875,-2208.6201171875],\"y\":[-2267.989990234375,-4816.4501953125,-5126.10986328125,22.639999389648438,-1784.4100341796875,-5105.81982421875],\"type\":\"scatter\"},{\"marker\":{\"color\":\"black\",\"size\":10},\"mode\":\"markers\",\"x\":[-1343.489990234375],\"y\":[-4181.35009765625],\"type\":\"scatter\"}]},{\"data\":[{\"marker\":{\"color\":[\"orange\",\"blue\",\"blue\",\"blue\",\"orange\",\"orange\"],\"size\":10},\"mode\":\"markers\",\"x\":[2872.989990234375,-1159.050048828125,-213.0399932861328,3738.260009765625,-339.32000732421875,-2208.6201171875],\"y\":[-2094.489990234375,-4816.4501953125,-5126.10986328125,-52.88999938964844,-1784.4100341796875,-5105.81982421875],\"type\":\"scatter\"},{\"marker\":{\"color\":\"black\",\"size\":10},\"mode\":\"markers\",\"x\":[-1330.4100341796875],\"y\":[-4100.89013671875],\"type\":\"scatter\"}]},{\"data\":[{\"marker\":{\"color\":[\"orange\",\"blue\",\"blue\",\"blue\",\"orange\",\"orange\"],\"size\":10},\"mode\":\"markers\",\"x\":[2872.989990234375,-1087.5899658203125,-115.87999725341797,3747.840087890625,-280.1600036621094,-2141.780029296875],\"y\":[-2094.489990234375,-4768.2099609375,-5127.580078125,-61.369998931884766,-1674.9300537109375,-5102.2099609375],\"type\":\"scatter\"},{\"marker\":{\"color\":\"black\",\"size\":10},\"mode\":\"markers\",\"x\":[-1314.0799560546875],\"y\":[-4000.43994140625],\"type\":\"scatter\"}]},{\"data\":[{\"marker\":{\"color\":[\"orange\",\"blue\",\"blue\",\"blue\",\"orange\",\"orange\"],\"size\":10},\"mode\":\"markers\",\"x\":[2928.3798828125,-1087.5899658203125,-115.87999725341797,3815.610107421875,-280.1600036621094,-2127.8701171875],\"y\":[-1972.97998046875,-4768.2099609375,-5127.580078125,-136.6999969482422,-1674.9300537109375,-5101.8701171875],\"type\":\"scatter\"},{\"marker\":{\"color\":\"black\",\"size\":10},\"mode\":\"markers\",\"x\":[-1301.0400390625],\"y\":[-3920.179931640625],\"type\":\"scatter\"}]},{\"data\":[{\"marker\":{\"color\":[\"orange\",\"blue\",\"blue\",\"blue\",\"orange\",\"orange\"],\"size\":10},\"mode\":\"markers\",\"x\":[3007.590087890625,-1008.1900024414062,-27.989999771118164,3815.610107421875,-220.05999755859375,-2064.909912109375],\"y\":[-1799.2099609375,-4714.60986328125,-5109.43017578125,-136.6999969482422,-1550.5999755859375,-5101.3798828125],\"type\":\"scatter\"},{\"marker\":{\"color\":\"black\",\"size\":10},\"mode\":\"markers\",\"x\":[-1274.97998046875],\"y\":[-3759.89990234375],\"type\":\"scatter\"}]},{\"data\":[{\"marker\":{\"color\":[\"orange\",\"blue\",\"blue\",\"blue\",\"orange\",\"orange\"],\"size\":10},\"mode\":\"markers\",\"x\":[3007.590087890625,-1008.1900024414062,31.239999771118164,3876.659912109375,-220.05999755859375,-2064.909912109375],\"y\":[-1799.2099609375,-4714.60986328125,-5086.16015625,-260.07000732421875,-1550.5999755859375,-5101.3798828125],\"type\":\"scatter\"},{\"marker\":{\"color\":\"black\",\"size\":10},\"mode\":\"markers\",\"x\":[-1265.949951171875],\"y\":[-3705.179931640625],\"type\":\"scatter\"}]},{\"data\":[{\"marker\":{\"color\":[\"orange\",\"blue\",\"blue\",\"blue\",\"orange\",\"orange\"],\"size\":10},\"mode\":\"markers\",\"x\":[3007.590087890625,-936.72998046875,31.239999771118164,3876.659912109375,-168.07000732421875,-2064.909912109375],\"y\":[-1799.2099609375,-4666.3701171875,-5086.16015625,-260.07000732421875,-1437.739990234375,-5101.3798828125],\"type\":\"scatter\"},{\"marker\":{\"color\":\"black\",\"size\":10},\"mode\":\"markers\",\"x\":[-1254.3900146484375],\"y\":[-3635.81005859375],\"type\":\"scatter\"}]},{\"data\":[{\"marker\":{\"color\":[\"orange\",\"blue\",\"blue\",\"blue\",\"orange\",\"orange\"],\"size\":10},\"mode\":\"markers\",\"x\":[3094.68994140625,-936.72998046875,31.239999771118164,3896.35009765625,-168.07000732421875,-2012.1600341796875],\"y\":[-1608.1500244140625,-4666.3701171875,-5086.16015625,-384.9800109863281,-1437.739990234375,-5101.35986328125],\"type\":\"scatter\"},{\"marker\":{\"color\":\"black\",\"size\":10},\"mode\":\"markers\",\"x\":[-1237.050048828125],\"y\":[-3531.889892578125],\"type\":\"scatter\"}]},{\"data\":[{\"marker\":{\"color\":[\"orange\",\"blue\",\"blue\",\"blue\",\"orange\",\"orange\"],\"size\":10},\"mode\":\"markers\",\"x\":[3094.68994140625,-841.4500122070312,124.52999877929688,3896.989990234375,-99.33999633789062,-1987.260009765625],\"y\":[-1608.1500244140625,-4602.0498046875,-5027.22998046875,-410.7699890136719,-1285.8399658203125,-5101.35986328125],\"type\":\"scatter\"},{\"marker\":{\"color\":\"black\",\"size\":10},\"mode\":\"markers\",\"x\":[-1219.760009765625],\"y\":[-3428.1298828125],\"type\":\"scatter\"}]},{\"data\":[{\"marker\":{\"color\":[\"orange\",\"blue\",\"blue\",\"blue\",\"orange\",\"orange\"],\"size\":10},\"mode\":\"markers\",\"x\":[3189.7900390625,-825.5700073242188,124.52999877929688,3890.179931640625,-99.33999633789062,-1982.97998046875],\"y\":[-1400.3499755859375,-4591.330078125,-5027.22998046875,-515.489990234375,-1285.8399658203125,-5101.35986328125],\"type\":\"scatter\"},{\"marker\":{\"color\":\"black\",\"size\":10},\"mode\":\"markers\",\"x\":[-1208.239990234375],\"y\":[-3359.050048828125],\"type\":\"scatter\"}]},{\"data\":[{\"marker\":{\"color\":[\"orange\",\"blue\",\"blue\",\"blue\",\"orange\",\"orange\"],\"size\":10},\"mode\":\"markers\",\"x\":[3189.7900390625,-825.5700073242188,196.6999969482422,3890.179931640625,-99.33999633789062,-1982.97998046875],\"y\":[-1400.3499755859375,-4591.330078125,-4954.31005859375,-515.489990234375,-1285.8399658203125,-5101.35986328125],\"type\":\"scatter\"},{\"marker\":{\"color\":\"black\",\"size\":10},\"mode\":\"markers\",\"x\":[-1199.5999755859375],\"y\":[-3307.280029296875],\"type\":\"scatter\"}]},{\"data\":[{\"marker\":{\"color\":[\"orange\",\"blue\",\"blue\",\"blue\",\"orange\",\"orange\"],\"size\":10},\"mode\":\"markers\",\"x\":[3189.7900390625,-769.989990234375,196.6999969482422,3890.179931640625,-49.65999984741211,-1973.8499755859375],\"y\":[-1400.3499755859375,-4553.81005859375,-4954.31005859375,-515.489990234375,-1165.510009765625,-5098.9501953125],\"type\":\"scatter\"},{\"marker\":{\"color\":\"black\",\"size\":10},\"mode\":\"markers\",\"x\":[-1193.8499755859375],\"y\":[-3272.7900390625],\"type\":\"scatter\"}]},{\"data\":[{\"marker\":{\"color\":[\"orange\",\"blue\",\"blue\",\"blue\",\"orange\",\"orange\"],\"size\":10},\"mode\":\"markers\",\"x\":[3270.739990234375,-769.989990234375,238.83999633789062,3859.52001953125,-49.65999984741211,-1973.8499755859375],\"y\":[-1207.5799560546875,-4553.81005859375,-4891.75,-661.9099731445312,-1165.510009765625,-5098.9501953125],\"type\":\"scatter\"},{\"marker\":{\"color\":\"black\",\"size\":10},\"mode\":\"markers\",\"x\":[-1176.6300048828125],\"y\":[-3169.429931640625],\"type\":\"scatter\"}]},{\"data\":[{\"marker\":{\"color\":[\"orange\",\"blue\",\"blue\",\"blue\",\"orange\",\"orange\"],\"size\":10},\"mode\":\"markers\",\"x\":[3270.739990234375,-690.5900268554688,238.83999633789062,3824.179931640625,-4.300000190734863,-1985.050048828125],\"y\":[-1207.5799560546875,-4500.2099609375,-4891.75,-769.3400268554688,-1022.1400146484375,-5046.72021484375],\"type\":\"scatter\"},{\"marker\":{\"color\":\"black\",\"size\":10},\"mode\":\"markers\",\"x\":[-1153.6800537109375],\"y\":[-3031.860107421875],\"type\":\"scatter\"}]},{\"data\":[{\"marker\":{\"color\":[\"orange\",\"blue\",\"blue\",\"blue\",\"orange\",\"orange\"],\"size\":10},\"mode\":\"markers\",\"x\":[3348.5400390625,-690.5900268554688,282.739990234375,3813.469970703125,-4.300000190734863,-1985.050048828125],\"y\":[-993.47998046875,-4500.2099609375,-4786.490234375,-796.1199951171875,-1022.1400146484375,-5046.72021484375],\"type\":\"scatter\"},{\"marker\":{\"color\":\"black\",\"size\":10},\"mode\":\"markers\",\"x\":[-1142.239990234375],\"y\":[-2963.179931640625],\"type\":\"scatter\"}]},{\"data\":[{\"marker\":{\"color\":[\"orange\",\"blue\",\"blue\",\"blue\",\"orange\",\"orange\"],\"size\":10},\"mode\":\"markers\",\"x\":[3348.5400390625,-603.25,282.739990234375,3813.469970703125,27.25,-2000.8299560546875],\"y\":[-993.47998046875,-4441.25,-4786.490234375,-796.1199951171875,-853.0599975585938,-4991.47998046875],\"type\":\"scatter\"},{\"marker\":{\"color\":\"black\",\"size\":10},\"mode\":\"markers\",\"x\":[-1127.93994140625],\"y\":[-2877.429931640625],\"type\":\"scatter\"}]},{\"data\":[{\"marker\":{\"color\":[\"orange\",\"blue\",\"blue\",\"blue\",\"orange\",\"orange\"],\"size\":10},\"mode\":\"markers\",\"x\":[3403.2099609375,-603.25,298.9100036621094,3740.0,27.25,-2000.8299560546875],\"y\":[-831.6599731445312,-4441.25,-4701.56005859375,-940.75,-853.0599975585938,-4991.47998046875],\"type\":\"scatter\"},{\"marker\":{\"color\":\"black\",\"size\":10},\"mode\":\"markers\",\"x\":[-1116.510009765625],\"y\":[-2808.909912109375],\"type\":\"scatter\"}]},{\"data\":[{\"marker\":{\"color\":[\"orange\",\"blue\",\"blue\",\"blue\",\"orange\",\"orange\"],\"size\":10},\"mode\":\"markers\",\"x\":[3403.2099609375,-523.8499755859375,298.9100036621094,3740.0,43.95000076293945,-2000.8299560546875],\"y\":[-831.6599731445312,-4387.64990234375,-4701.56005859375,-940.75,-690.8400268554688,-4991.47998046875],\"type\":\"scatter\"},{\"marker\":{\"color\":\"black\",\"size\":10},\"mode\":\"markers\",\"x\":[-1099.4100341796875],\"y\":[-2706.260009765625],\"type\":\"scatter\"}]},{\"data\":[{\"marker\":{\"color\":[\"orange\",\"blue\",\"blue\",\"blue\",\"orange\",\"orange\"],\"size\":10},\"mode\":\"markers\",\"x\":[3462.52001953125,-523.8499755859375,299.25,3650.389892578125,43.95000076293945,-2037.7099609375],\"y\":[-651.4000244140625,-4387.64990234375,-4600.47021484375,-1064.4000244140625,-690.8400268554688,-4894.4599609375],\"type\":\"scatter\"},{\"marker\":{\"color\":\"black\",\"size\":10},\"mode\":\"markers\",\"x\":[-1088.010009765625],\"y\":[-2637.919921875],\"type\":\"scatter\"}]}]);\n",
       "                        }).then(function(){\n",
       "                            \n",
       "var gd = document.getElementById('688fae58-5f9d-465b-a267-b7125b74f00b');\n",
       "var x = new MutationObserver(function (mutations, observer) {{\n",
       "        var display = window.getComputedStyle(gd).display;\n",
       "        if (!display || display === 'none') {{\n",
       "            console.log([gd, 'removed!']);\n",
       "            Plotly.purge(gd);\n",
       "            observer.disconnect();\n",
       "        }}\n",
       "}});\n",
       "\n",
       "// Listen for the removal of the full notebook cells\n",
       "var notebookContainer = gd.closest('#notebook-container');\n",
       "if (notebookContainer) {{\n",
       "    x.observe(notebookContainer, {childList: true});\n",
       "}}\n",
       "\n",
       "// Listen for the clearing of the current output cell\n",
       "var outputEl = gd.closest('.output');\n",
       "if (outputEl) {{\n",
       "    x.observe(outputEl, {childList: true});\n",
       "}}\n",
       "\n",
       "                        })                };                });            </script>        </div>"
      ]
     },
     "metadata": {},
     "output_type": "display_data"
    }
   ],
   "source": [
    "random_sample = results_df.sample(1)\n",
    "replay = random_sample['replay_name'].values[0]\n",
    "df, flat_df, game_info, players, df_ball = get_replay_df(replay)\n",
    "is_goal = random_sample['is_goal'].values[0]\n",
    "fig = show_play(go.Figure(), random_sample['expected_goal'].values[0], random_sample['frames'].values[0], is_goal)\n",
    "fig.show()"
   ]
  },
  {
   "cell_type": "code",
   "execution_count": null,
   "metadata": {},
   "outputs": [],
   "source": []
  }
 ],
 "metadata": {
  "kernelspec": {
   "display_name": "Python 3",
   "language": "python",
   "name": "python3"
  },
  "language_info": {
   "codemirror_mode": {
    "name": "ipython",
    "version": 3
   },
   "file_extension": ".py",
   "mimetype": "text/x-python",
   "name": "python",
   "nbconvert_exporter": "python",
   "pygments_lexer": "ipython3",
   "version": "3.8.3"
  }
 },
 "nbformat": 4,
 "nbformat_minor": 4
}
