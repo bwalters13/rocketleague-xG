{
 "cells": [
  {
   "cell_type": "code",
   "execution_count": 12,
   "metadata": {},
   "outputs": [],
   "source": [
    "import carball\n",
    "import gzip\n",
    "from carball.json_parser.game import Game\n",
    "from carball.analysis.analysis_manager import AnalysisManager\n",
    "import json\n",
    "import pandas as pd\n",
    "import numpy as np\n",
    "import seaborn as sns\n",
    "import matplotlib.animation as animation\n",
    "from matplotlib import rc\n",
    "import plotly.graph_objects as go\n",
    "from sklearn.linear_model import LogisticRegression\n",
    "rc('animation', html='html5')\n",
    "sns.set_context('talk')"
   ]
  },
  {
   "cell_type": "code",
   "execution_count": null,
   "metadata": {},
   "outputs": [],
   "source": [
    "player_cols = ['pos_x', 'pos_y', 'pos_z', 'vel_x', 'vel_y', 'vel_z',\n",
    "       'ang_vel_x', 'ang_vel_y', 'ang_vel_z', 'rot_x', 'rot_y', 'rot_z','boost']\n",
    "all_cols = []\n",
    "\n",
    "import os\n",
    "replays = []\n",
    "for root, dirs, files in os.walk(r\"C:\\Users\\blake\\Documents\\rlcsseason9\"):\n",
    "    for file in files:\n",
    "        if file.endswith(\".replay\"):\n",
    "            replays.append(os.path.join(root, file))\n",
    "for x in range(1,7):\n",
    "    for y in player_cols:\n",
    "        all_cols.append(y+'_p{}'.format(x))\n",
    "        \n",
    "def intersection(lst1, lst2): \n",
    "    lst3 = [value for value in lst1 if value in lst2] \n",
    "    return lst3 \n",
    "\n",
    "def get_shots(replay):\n",
    "    _json = carball.decompile_replay(replay)\n",
    "    game = Game()\n",
    "    game.initialize(loaded_json=_json)\n",
    "    analysis_manager = AnalysisManager(game)\n",
    "    analysis_manager.create_analysis()\n",
    "    game_info = get_players(game)\n",
    "    proto_object = analysis_manager.get_protobuf_data()\n",
    "    player_cols = ['pos_x', 'pos_y', 'pos_z', 'vel_x', 'vel_y', 'vel_z',\n",
    "           'ang_vel_x', 'ang_vel_y', 'ang_vel_z', 'rot_x', 'rot_y', 'rot_z','boost']\n",
    "    ball_cols = ['pos_x', 'pos_y', 'pos_z', 'vel_x', 'vel_y', 'vel_z',\n",
    "           'ang_vel_x', 'ang_vel_y', 'ang_vel_z', 'rot_x', 'rot_y', 'rot_z','frames','is_goal']\n",
    "\n",
    "    pdict = {\n",
    "        x.online_id : x.name\n",
    "        for x in game.players\n",
    "    }\n",
    "    df = analysis_manager.get_data_frame()\n",
    "    players = [x.name for x in game.players]\n",
    "    shot_frames = []\n",
    "    orangeshots = []\n",
    "    goal_frames = []\n",
    "    orangegoals = []\n",
    "    shooterid = []\n",
    "    js = analysis_manager.get_json_data()\n",
    "    for x in js['gameStats']['hits']:\n",
    "        pid = x['playerId']['id']\n",
    "        is_orange = game_info[game_info['id'] == pid].is_orange.values[0]\n",
    "        if 'shot' in x.keys() and x['frameNumber'] != df.index[-1]:\n",
    "            shooterid.append(pid)\n",
    "            if is_orange:\n",
    "                orangeshots.append(x['frameNumber'])\n",
    "            else:\n",
    "                shot_frames.append(x['frameNumber'])\n",
    "        \n",
    "        if 'goal' in x.keys():\n",
    "            if is_orange:\n",
    "                orangegoals.append(x['frameNumber'])\n",
    "            else:\n",
    "                goal_frames.append(x['frameNumber'])\n",
    "    #filter out goals that werent shot\n",
    "    goal_frames = intersection(shot_frames, goal_frames)\n",
    "    orangegoals = intersection(orangegoals, orangeshots)\n",
    "    \n",
    "    df = df.reset_index().rename(columns={'index':'frames'})\n",
    "    flat = get_flat_df(players, df)\n",
    "    df = df['ball']\n",
    "    df = df.reset_index().rename(columns={'index':'frames'})\n",
    "    \n",
    "    cols = ['pos_x', 'pos_y',  'vel_x', 'vel_y', 'ang_vel_x',\n",
    "           'ang_vel_y']\n",
    "    try:\n",
    "        df_orange = df[df.frames.isin(orangeshots)]\n",
    "        pl_orange = flat[flat.frames.isin(orangeshots)]\n",
    "        \n",
    "        df_orange[cols] = df_orange[cols].apply(lambda x : -x)\n",
    "        pl_orange[cols] = pl_orange[cols].apply(lambda x : -x)\n",
    "        df_orange.loc[df_orange.frames.isin(orangegoals), 'is_goal'] = 1\n",
    "    except:\n",
    "        df_orange = pd.DataFrame()\n",
    "    df.loc[df.frames.isin(goal_frames), 'is_goal'] = 1\n",
    "    df = df[df.frames.isin(shot_frames)]\n",
    "    pl = flat[flat.frames.isin(shot_frames)]\n",
    "    df = df.append(df_orange)\n",
    "    df = df.sort_values('frames')\n",
    "    \n",
    "    df['shooter_id'] = [pdict[x] for x in shooterid]  \n",
    "    test = pd.DataFrame()\n",
    "    for x,y in df.iterrows():\n",
    "        shooter = y['shooter_id']\n",
    "        print(\"SHOOTER:\", shooter)\n",
    "        is_orange = game_info.loc[game_info.name == shooter, 'is_orange'].values[0]\n",
    "        orange = game_info.loc[game_info.is_orange == True].name.values\n",
    "    \n",
    "        if is_orange == True:\n",
    "            temp_shooter = flat.loc[(flat.frames == y['frames']) & (flat.name == shooter), player_cols]\n",
    "            temp_orange = flat.loc[(flat.frames == y['frames']) & (flat.name != shooter) & (flat.name.isin(orange)), player_cols]\n",
    "            temp_blue = flat.loc[(flat.frames == y['frames']) & (~flat.name.isin(orange)), player_cols]\n",
    "            for dataframe in [temp_shooter, temp_orange, temp_blue]:\n",
    "                dataframe[cols] = dataframe[cols].apply(lambda x: -x)\n",
    "            temp = temp_shooter.values.flatten().tolist() + temp_orange.values.flatten().tolist() + temp_blue.values.flatten().tolist()\n",
    "        else:      \n",
    "            temp_shooter = flat.loc[(flat.frames == y['frames']) & (flat.name == shooter), player_cols]\n",
    "            temp_blue = flat.loc[(flat.frames == y['frames']) & (flat.name != shooter) & (~flat.name.isin(orange)), player_cols]\n",
    "            temp_orange = flat.loc[(flat.frames == y['frames']) & (flat.name.isin(orange)), player_cols]\n",
    "            temp = temp_shooter.values.flatten().tolist() + temp_blue.values.flatten().tolist() + temp_orange.values.flatten().tolist()\n",
    "        temp = pd.DataFrame(temp).T\n",
    "        temp['frames'] = y['frames']\n",
    "        temp = temp.merge(df[ball_cols],on='frames')\n",
    "        test = test.append(temp)\n",
    "    test['id'] = proto_object.game_metadata.match_guid\n",
    "    test['replay_name'] = replay\n",
    "    test['date'] = game.datetime\n",
    "    test.columns = all_cols + test.columns[78:].tolist()\n",
    "    return test\n",
    "\n",
    "shots_df = pd.DataFrame()\n",
    "for replay in replays:\n",
    "    sho = get_shots(replay)\n",
    "    shots_df = shots_df.append(sho).reset_index(drop=True)\n",
    "    \n",
    "shots_df.is_goal = shots_df.is_goal.fillna(0)"
   ]
  },
  {
   "cell_type": "code",
   "execution_count": 246,
   "metadata": {},
   "outputs": [],
   "source": [
    "shots_df = pd.read_csv('shots.csv')\n",
    "shots_df = shots_df.dropna()"
   ]
  },
  {
   "cell_type": "code",
   "execution_count": 247,
   "metadata": {},
   "outputs": [
    {
     "data": {
      "text/plain": [
       "<AxesSubplot:xlabel='pos_x_p1', ylabel='pos_y_p1'>"
      ]
     },
     "execution_count": 247,
     "metadata": {},
     "output_type": "execute_result"
    },
    {
     "data": {
      "image/png": "[encoded data removed]",
      "text/plain": [
       "<Figure size 432x288 with 1 Axes>"
      ]
     },
     "metadata": {
      "needs_background": "light"
     },
     "output_type": "display_data"
    }
   ],
   "source": [
    "shots_df.plot(x='pos_x_p1', y='pos_y_p1', kind='scatter')"
   ]
  },
  {
   "cell_type": "code",
   "execution_count": 248,
   "metadata": {},
   "outputs": [],
   "source": [
    "import os\n",
    "replays = []\n",
    "for root, dirs, files in os.walk(r\"C:\\Users\\blake\\Documents\\rlcsseason9\"):\n",
    "    for file in files:\n",
    "        if file.endswith(\".replay\"):\n",
    "            replays.append(os.path.join(root, file))"
   ]
  },
  {
   "cell_type": "code",
   "execution_count": 17,
   "metadata": {
    "collapsed": true,
    "jupyter": {
     "outputs_hidden": true
    }
   },
   "outputs": [
    {
     "data": {
      "text/plain": [
       "['C:\\\\Users\\\\blake\\\\Documents\\\\rlcsseason9\\\\RLCS Season 9\\\\Rival Series\\\\Europe\\\\Week 1\\\\M1 - Block Block vs Team Vertex\\\\44C89A1A44A4E626916BD69677565167.replay',\n",
       " 'C:\\\\Users\\\\blake\\\\Documents\\\\rlcsseason9\\\\RLCS Season 9\\\\Rival Series\\\\Europe\\\\Week 1\\\\M1 - Block Block vs Team Vertex\\\\5EED1AC949F411EE50A6D4A6CC389985.replay',\n",
       " 'C:\\\\Users\\\\blake\\\\Documents\\\\rlcsseason9\\\\RLCS Season 9\\\\Rival Series\\\\Europe\\\\Week 1\\\\M1 - Block Block vs Team Vertex\\\\CBB0AD6C48F74064E5059BA05D0A3595.replay',\n",
       " 'C:\\\\Users\\\\blake\\\\Documents\\\\rlcsseason9\\\\RLCS Season 9\\\\Rival Series\\\\Europe\\\\Week 1\\\\M1 - Block Block vs Team Vertex\\\\D7A4B2664B0C08FF3DE79C986DA45FCD.replay',\n",
       " 'C:\\\\Users\\\\blake\\\\Documents\\\\rlcsseason9\\\\RLCS Season 9\\\\Rival Series\\\\Europe\\\\Week 1\\\\M2 - Triple Trouble vs RCD Espanyol_\\\\5798653948E38DAECDF4E698EA99B36A.replay',\n",
       " 'C:\\\\Users\\\\blake\\\\Documents\\\\rlcsseason9\\\\RLCS Season 9\\\\Rival Series\\\\Europe\\\\Week 1\\\\M2 - Triple Trouble vs RCD Espanyol_\\\\AF582C344AA5E1A6F1C2B6AF52D9E68D.replay',\n",
       " 'C:\\\\Users\\\\blake\\\\Documents\\\\rlcsseason9\\\\RLCS Season 9\\\\Rival Series\\\\Europe\\\\Week 1\\\\M2 - Triple Trouble vs RCD Espanyol_\\\\C08C456F48E701E6B6C920B9DE9091D5.replay',\n",
       " 'C:\\\\Users\\\\blake\\\\Documents\\\\rlcsseason9\\\\RLCS Season 9\\\\Rival Series\\\\Europe\\\\Week 1\\\\M2 - Triple Trouble vs RCD Espanyol_\\\\C47F5F484FB51FAEB848E8B884EC832D.replay',\n",
       " 'C:\\\\Users\\\\blake\\\\Documents\\\\rlcsseason9\\\\RLCS Season 9\\\\Rival Series\\\\Europe\\\\Week 1\\\\M2 - Triple Trouble vs RCD Espanyol_\\\\F96D31C14315CE33A3580C8DADE068C2.replay',\n",
       " 'C:\\\\Users\\\\blake\\\\Documents\\\\rlcsseason9\\\\RLCS Season 9\\\\Rival Series\\\\Europe\\\\Week 1\\\\M3 - RJM vs Baguette Squad\\\\062BDB2745C6481C73A48E84B98E0451.replay',\n",
       " 'C:\\\\Users\\\\blake\\\\Documents\\\\rlcsseason9\\\\RLCS Season 9\\\\Rival Series\\\\Europe\\\\Week 1\\\\M3 - RJM vs Baguette Squad\\\\1B5B6D0E4DF945E722AD7F977ADE2F7B.replay',\n",
       " 'C:\\\\Users\\\\blake\\\\Documents\\\\rlcsseason9\\\\RLCS Season 9\\\\Rival Series\\\\Europe\\\\Week 1\\\\M3 - RJM vs Baguette Squad\\\\2C9C9AC94C783163A2BD8D8233CE2765.replay',\n",
       " 'C:\\\\Users\\\\blake\\\\Documents\\\\rlcsseason9\\\\RLCS Season 9\\\\Rival Series\\\\Europe\\\\Week 1\\\\M3 - RJM vs Baguette Squad\\\\35213876462C8ACA20F11FB338C8A9AE.replay',\n",
       " 'C:\\\\Users\\\\blake\\\\Documents\\\\rlcsseason9\\\\RLCS Season 9\\\\Rival Series\\\\Europe\\\\Week 1\\\\M3 - RJM vs Baguette Squad\\\\BFD091784FC2F704DB1BACBD78837D8B.replay',\n",
       " 'C:\\\\Users\\\\blake\\\\Documents\\\\rlcsseason9\\\\RLCS Season 9\\\\Rival Series\\\\Europe\\\\Week 1\\\\M4 - Team BDS vs We Dem Girlz\\\\244862C945DC978728A54BA94455B6AB.replay',\n",
       " 'C:\\\\Users\\\\blake\\\\Documents\\\\rlcsseason9\\\\RLCS Season 9\\\\Rival Series\\\\Europe\\\\Week 1\\\\M4 - Team BDS vs We Dem Girlz\\\\26B3271548C908D60A5CC0818EB41759.replay',\n",
       " 'C:\\\\Users\\\\blake\\\\Documents\\\\rlcsseason9\\\\RLCS Season 9\\\\Rival Series\\\\Europe\\\\Week 1\\\\M4 - Team BDS vs We Dem Girlz\\\\76A5BD6B4B6AB6EEDC9116AA10EE31A6.replay',\n",
       " 'C:\\\\Users\\\\blake\\\\Documents\\\\rlcsseason9\\\\RLCS Season 9\\\\Rival Series\\\\Europe\\\\Week 1\\\\M4 - Team BDS vs We Dem Girlz\\\\A69D92AD459C5CA7F326A5AC2CE2268E.replay',\n",
       " 'C:\\\\Users\\\\blake\\\\Documents\\\\rlcsseason9\\\\RLCS Season 9\\\\Rival Series\\\\Europe\\\\Week 1\\\\M4 - Team BDS vs We Dem Girlz\\\\B0CCBE0F49D743ADF9695FA4E4B29CB0.replay',\n",
       " 'C:\\\\Users\\\\blake\\\\Documents\\\\rlcsseason9\\\\RLCS Season 9\\\\Rival Series\\\\Europe\\\\Week 2\\\\M1 - RJM vs Notorious Legion\\\\113E661D43546B3BC2B867B9B976E68E.replay',\n",
       " 'C:\\\\Users\\\\blake\\\\Documents\\\\rlcsseason9\\\\RLCS Season 9\\\\Rival Series\\\\Europe\\\\Week 2\\\\M1 - RJM vs Notorious Legion\\\\4CA41F8C4085F72D49CDDD80C9FE731C.replay',\n",
       " 'C:\\\\Users\\\\blake\\\\Documents\\\\rlcsseason9\\\\RLCS Season 9\\\\Rival Series\\\\Europe\\\\Week 2\\\\M1 - RJM vs Notorious Legion\\\\DDCDCB374FE946BAC27D079210EEB759.replay',\n",
       " 'C:\\\\Users\\\\blake\\\\Documents\\\\rlcsseason9\\\\RLCS Season 9\\\\Rival Series\\\\Europe\\\\Week 2\\\\M2 - We Dem Girlz vs Servette Geneva Esports\\\\1774BD6D47092E5B5254CF8F8947FC45.replay',\n",
       " 'C:\\\\Users\\\\blake\\\\Documents\\\\rlcsseason9\\\\RLCS Season 9\\\\Rival Series\\\\Europe\\\\Week 2\\\\M2 - We Dem Girlz vs Servette Geneva Esports\\\\AD4752274C4FDE266848C7BFDCB1DC23.replay',\n",
       " 'C:\\\\Users\\\\blake\\\\Documents\\\\rlcsseason9\\\\RLCS Season 9\\\\Rival Series\\\\Europe\\\\Week 2\\\\M2 - We Dem Girlz vs Servette Geneva Esports\\\\BC516648438C6721BB163E805321C5D0.replay',\n",
       " 'C:\\\\Users\\\\blake\\\\Documents\\\\rlcsseason9\\\\RLCS Season 9\\\\Rival Series\\\\Europe\\\\Week 2\\\\M2 - We Dem Girlz vs Servette Geneva Esports\\\\C521818B4A83E42DE02FAA86DA727979.replay',\n",
       " 'C:\\\\Users\\\\blake\\\\Documents\\\\rlcsseason9\\\\RLCS Season 9\\\\Rival Series\\\\Europe\\\\Week 2\\\\M3 - Solary vs RCD Espanyol\\\\0A92C8F34145BD9A17AC319658ED1B2C.replay',\n",
       " 'C:\\\\Users\\\\blake\\\\Documents\\\\rlcsseason9\\\\RLCS Season 9\\\\Rival Series\\\\Europe\\\\Week 2\\\\M3 - Solary vs RCD Espanyol\\\\6574CEE3455A76130FFA4AA2D7880264.replay',\n",
       " 'C:\\\\Users\\\\blake\\\\Documents\\\\rlcsseason9\\\\RLCS Season 9\\\\Rival Series\\\\Europe\\\\Week 2\\\\M3 - Solary vs RCD Espanyol\\\\70A312424F70FAC7B5A5789DDD7F238C.replay',\n",
       " 'C:\\\\Users\\\\blake\\\\Documents\\\\rlcsseason9\\\\RLCS Season 9\\\\Rival Series\\\\Europe\\\\Week 2\\\\M3 - Solary vs RCD Espanyol\\\\996492E247D62D5AC3A262BCA47FDF1F.replay',\n",
       " 'C:\\\\Users\\\\blake\\\\Documents\\\\rlcsseason9\\\\RLCS Season 9\\\\Rival Series\\\\Europe\\\\Week 2\\\\M3 - Solary vs RCD Espanyol\\\\D28235B743E98A81E6CDD4A173AE08D7.replay',\n",
       " 'C:\\\\Users\\\\blake\\\\Documents\\\\rlcsseason9\\\\RLCS Season 9\\\\Rival Series\\\\Europe\\\\Week 2\\\\M4 - Triple Trouble vs Team Vertex\\\\3C136469419125E427F9DFA65B6AC256.replay',\n",
       " 'C:\\\\Users\\\\blake\\\\Documents\\\\rlcsseason9\\\\RLCS Season 9\\\\Rival Series\\\\Europe\\\\Week 2\\\\M4 - Triple Trouble vs Team Vertex\\\\A90E4294442C0D6808D354AFA49D7211.replay',\n",
       " 'C:\\\\Users\\\\blake\\\\Documents\\\\rlcsseason9\\\\RLCS Season 9\\\\Rival Series\\\\Europe\\\\Week 2\\\\M4 - Triple Trouble vs Team Vertex\\\\C388AE74449B7392FD8EE8AB8FE9BD39.replay',\n",
       " 'C:\\\\Users\\\\blake\\\\Documents\\\\rlcsseason9\\\\RLCS Season 9\\\\Rival Series\\\\Europe\\\\Week 2\\\\M4 - Triple Trouble vs Team Vertex\\\\F2425971413031AA628C568CA7173A36.replay',\n",
       " 'C:\\\\Users\\\\blake\\\\Documents\\\\rlcsseason9\\\\RLCS Season 9\\\\Rival Series\\\\Europe\\\\Week 2 B-Stream\\\\M1 - Baguette Squad vs Servette Geneva Esports\\\\156813644C31A094922C269B19E61CEB.replay',\n",
       " 'C:\\\\Users\\\\blake\\\\Documents\\\\rlcsseason9\\\\RLCS Season 9\\\\Rival Series\\\\Europe\\\\Week 2 B-Stream\\\\M1 - Baguette Squad vs Servette Geneva Esports\\\\2BACD11C4028B9E66B012DB9D1DFC0DF.replay',\n",
       " 'C:\\\\Users\\\\blake\\\\Documents\\\\rlcsseason9\\\\RLCS Season 9\\\\Rival Series\\\\Europe\\\\Week 2 B-Stream\\\\M1 - Baguette Squad vs Servette Geneva Esports\\\\CB0E364146DDE25B2BF4608969B0AAAB.replay',\n",
       " 'C:\\\\Users\\\\blake\\\\Documents\\\\rlcsseason9\\\\RLCS Season 9\\\\Rival Series\\\\Europe\\\\Week 2 B-Stream\\\\M1 - Baguette Squad vs Servette Geneva Esports\\\\FEFAC0BD4DBD6703ECCB1892A87F7258.replay',\n",
       " 'C:\\\\Users\\\\blake\\\\Documents\\\\rlcsseason9\\\\RLCS Season 9\\\\Rival Series\\\\Europe\\\\Week 2 B-Stream\\\\M2 - Solary vs Team BDS\\\\82CF151B465A2D6A59D401A86177C665.replay',\n",
       " 'C:\\\\Users\\\\blake\\\\Documents\\\\rlcsseason9\\\\RLCS Season 9\\\\Rival Series\\\\Europe\\\\Week 2 B-Stream\\\\M2 - Solary vs Team BDS\\\\904B80144ECB97C2C43D6EA4E63C55D2.replay',\n",
       " 'C:\\\\Users\\\\blake\\\\Documents\\\\rlcsseason9\\\\RLCS Season 9\\\\Rival Series\\\\Europe\\\\Week 2 B-Stream\\\\M2 - Solary vs Team BDS\\\\C01054814E12B6A0F8DE5A93CEFC6C5A.replay',\n",
       " 'C:\\\\Users\\\\blake\\\\Documents\\\\rlcsseason9\\\\RLCS Season 9\\\\Rival Series\\\\Europe\\\\Week 2 B-Stream\\\\M2 - Solary vs Team BDS\\\\CD8926A747A985D0E4FEEBA347255151.replay',\n",
       " 'C:\\\\Users\\\\blake\\\\Documents\\\\rlcsseason9\\\\RLCS Season 9\\\\Rival Series\\\\Europe\\\\Week 2 B-Stream\\\\M2 - Solary vs Team BDS\\\\DB3E8BC1457DE45F1E4251BE0D747563.replay',\n",
       " 'C:\\\\Users\\\\blake\\\\Documents\\\\rlcsseason9\\\\RLCS Season 9\\\\Rival Series\\\\Europe\\\\Week 2 B-Stream\\\\M3 - We Dem Girlz vs RCD Espanyol\\\\0EE1BF434C4CE513C1E131BB98CF5FDF.replay',\n",
       " 'C:\\\\Users\\\\blake\\\\Documents\\\\rlcsseason9\\\\RLCS Season 9\\\\Rival Series\\\\Europe\\\\Week 2 B-Stream\\\\M3 - We Dem Girlz vs RCD Espanyol\\\\A07CC1464392CF86680A189B0C33316C.replay',\n",
       " 'C:\\\\Users\\\\blake\\\\Documents\\\\rlcsseason9\\\\RLCS Season 9\\\\Rival Series\\\\Europe\\\\Week 2 B-Stream\\\\M3 - We Dem Girlz vs RCD Espanyol\\\\D12E6828487BDF7C9DABF79BF1A1C0B6.replay',\n",
       " 'C:\\\\Users\\\\blake\\\\Documents\\\\rlcsseason9\\\\RLCS Season 9\\\\Rival Series\\\\Europe\\\\Week 3\\\\M1 - Team BDS vs Notorious Legion Esports\\\\86AA69C84C958F8B2B34668C39DCC29F.replay',\n",
       " 'C:\\\\Users\\\\blake\\\\Documents\\\\rlcsseason9\\\\RLCS Season 9\\\\Rival Series\\\\Europe\\\\Week 3\\\\M1 - Team BDS vs Notorious Legion Esports\\\\AEE8500E4EF02C986BB3EBA97CCD62A5.replay',\n",
       " 'C:\\\\Users\\\\blake\\\\Documents\\\\rlcsseason9\\\\RLCS Season 9\\\\Rival Series\\\\Europe\\\\Week 3\\\\M1 - Team BDS vs Notorious Legion Esports\\\\B4E8889743DC241C8A58CAB7F61E9E98.replay',\n",
       " 'C:\\\\Users\\\\blake\\\\Documents\\\\rlcsseason9\\\\RLCS Season 9\\\\Rival Series\\\\Europe\\\\Week 3\\\\M1 - Team BDS vs Notorious Legion Esports\\\\E4B2C9CD43DA896566D992A23FB06155.replay',\n",
       " 'C:\\\\Users\\\\blake\\\\Documents\\\\rlcsseason9\\\\RLCS Season 9\\\\Rival Series\\\\Europe\\\\Week 3\\\\M2 - RJM vs Servette Geneva Esports\\\\657E062A4DE292810C327AB1F5FAFEAF.replay',\n",
       " 'C:\\\\Users\\\\blake\\\\Documents\\\\rlcsseason9\\\\RLCS Season 9\\\\Rival Series\\\\Europe\\\\Week 3\\\\M2 - RJM vs Servette Geneva Esports\\\\CFBA24714AFF643A1F483DA10089E44F.replay',\n",
       " 'C:\\\\Users\\\\blake\\\\Documents\\\\rlcsseason9\\\\RLCS Season 9\\\\Rival Series\\\\Europe\\\\Week 3\\\\M2 - RJM vs Servette Geneva Esports\\\\D8DA57E84BD1972C6E73BAB852EB430D.replay',\n",
       " 'C:\\\\Users\\\\blake\\\\Documents\\\\rlcsseason9\\\\RLCS Season 9\\\\Rival Series\\\\Europe\\\\Week 3\\\\M3 - Baguette Squad vs Team Vertex\\\\0B3CAA154A977C7C0060928FBC8E8782.replay',\n",
       " 'C:\\\\Users\\\\blake\\\\Documents\\\\rlcsseason9\\\\RLCS Season 9\\\\Rival Series\\\\Europe\\\\Week 3\\\\M3 - Baguette Squad vs Team Vertex\\\\37DFC7D0460A93E7FB68649AD7BF3855.replay',\n",
       " 'C:\\\\Users\\\\blake\\\\Documents\\\\rlcsseason9\\\\RLCS Season 9\\\\Rival Series\\\\Europe\\\\Week 3\\\\M3 - Baguette Squad vs Team Vertex\\\\6FC6E0914359DC1E728CF0B2149387DA.replay',\n",
       " 'C:\\\\Users\\\\blake\\\\Documents\\\\rlcsseason9\\\\RLCS Season 9\\\\Rival Series\\\\Europe\\\\Week 3\\\\M3 - Baguette Squad vs Team Vertex\\\\DE7AF4B34AAF5C7E023E1F891EB2676B.replay',\n",
       " 'C:\\\\Users\\\\blake\\\\Documents\\\\rlcsseason9\\\\RLCS Season 9\\\\Rival Series\\\\Europe\\\\Week 3\\\\M3 - Baguette Squad vs Team Vertex\\\\E5DEA7E84295DFCE326A49A999AB3410.replay',\n",
       " 'C:\\\\Users\\\\blake\\\\Documents\\\\rlcsseason9\\\\RLCS Season 9\\\\Rival Series\\\\Europe\\\\Week 3\\\\M4 - Solary vs Triple Trouble\\\\079E753B4DA5B38B14E4508B8E80BFD3.replay',\n",
       " 'C:\\\\Users\\\\blake\\\\Documents\\\\rlcsseason9\\\\RLCS Season 9\\\\Rival Series\\\\Europe\\\\Week 3\\\\M4 - Solary vs Triple Trouble\\\\1612314048150A94D29187861D5ED308.replay',\n",
       " 'C:\\\\Users\\\\blake\\\\Documents\\\\rlcsseason9\\\\RLCS Season 9\\\\Rival Series\\\\Europe\\\\Week 3\\\\M4 - Solary vs Triple Trouble\\\\81DE0DD44B49DA57CC20C2928BF6645A.replay',\n",
       " 'C:\\\\Users\\\\blake\\\\Documents\\\\rlcsseason9\\\\RLCS Season 9\\\\Rival Series\\\\Europe\\\\Week 3\\\\M4 - Solary vs Triple Trouble\\\\E5108E0947015A9F9196F4B34EB74634.replay',\n",
       " 'C:\\\\Users\\\\blake\\\\Documents\\\\rlcsseason9\\\\RLCS Season 9\\\\Rival Series\\\\Europe\\\\Week 3\\\\M4 - Solary vs Triple Trouble\\\\E599A66C4235178FEAB440811792A697.replay',\n",
       " 'C:\\\\Users\\\\blake\\\\Documents\\\\rlcsseason9\\\\RLCS Season 9\\\\Rival Series\\\\Europe\\\\Week 3 B-Stream\\\\M1 - RJM vs Team Vertex\\\\B2A782F44839E98C6F24AF86D1EC98A5.replay',\n",
       " 'C:\\\\Users\\\\blake\\\\Documents\\\\rlcsseason9\\\\RLCS Season 9\\\\Rival Series\\\\Europe\\\\Week 3 B-Stream\\\\M1 - RJM vs Team Vertex\\\\BA8D2B6C4F4DCB52C893EF8187C85659.replay',\n",
       " 'C:\\\\Users\\\\blake\\\\Documents\\\\rlcsseason9\\\\RLCS Season 9\\\\Rival Series\\\\Europe\\\\Week 3 B-Stream\\\\M1 - RJM vs Team Vertex\\\\DCF1EE97488CD0ED67AE79B7A0FF072A.replay',\n",
       " 'C:\\\\Users\\\\blake\\\\Documents\\\\rlcsseason9\\\\RLCS Season 9\\\\Rival Series\\\\Europe\\\\Week 3 B-Stream\\\\M1 - RJM vs Team Vertex\\\\F6CF79F84AA6E9E6B97C089C6ED81B2D.replay',\n",
       " 'C:\\\\Users\\\\blake\\\\Documents\\\\rlcsseason9\\\\RLCS Season 9\\\\Rival Series\\\\Europe\\\\Week 3 B-Stream\\\\M2 - Solary vs Notorious Legion\\\\0207E5594FAD8F88916D399749B2244B.replay',\n",
       " 'C:\\\\Users\\\\blake\\\\Documents\\\\rlcsseason9\\\\RLCS Season 9\\\\Rival Series\\\\Europe\\\\Week 3 B-Stream\\\\M2 - Solary vs Notorious Legion\\\\1F29D5BF464629D2ED63C4B79E43A8F2.replay',\n",
       " 'C:\\\\Users\\\\blake\\\\Documents\\\\rlcsseason9\\\\RLCS Season 9\\\\Rival Series\\\\Europe\\\\Week 3 B-Stream\\\\M2 - Solary vs Notorious Legion\\\\51279183492558045DEE32A0E599BA66.replay',\n",
       " 'C:\\\\Users\\\\blake\\\\Documents\\\\rlcsseason9\\\\RLCS Season 9\\\\Rival Series\\\\Europe\\\\Week 3 B-Stream\\\\M2 - Solary vs Notorious Legion\\\\ACFF26B7401B644B86C25AAF374C6934.replay',\n",
       " 'C:\\\\Users\\\\blake\\\\Documents\\\\rlcsseason9\\\\RLCS Season 9\\\\Rival Series\\\\Europe\\\\Week 3 B-Stream\\\\M2 - Solary vs Notorious Legion\\\\ED2FCE094B98A352D48CE7AA4035695B.replay',\n",
       " 'C:\\\\Users\\\\blake\\\\Documents\\\\rlcsseason9\\\\RLCS Season 9\\\\Rival Series\\\\Europe\\\\Week 3 B-Stream\\\\M3 - Triple Trouble vs Servette Geneva\\\\1A678DCA47E595303BBD1AAE7496846C.replay',\n",
       " 'C:\\\\Users\\\\blake\\\\Documents\\\\rlcsseason9\\\\RLCS Season 9\\\\Rival Series\\\\Europe\\\\Week 3 B-Stream\\\\M3 - Triple Trouble vs Servette Geneva\\\\71AF29AC426AB5C92F2383AB5617F334.replay',\n",
       " 'C:\\\\Users\\\\blake\\\\Documents\\\\rlcsseason9\\\\RLCS Season 9\\\\Rival Series\\\\Europe\\\\Week 3 B-Stream\\\\M3 - Triple Trouble vs Servette Geneva\\\\C87437E04B89FC25B5ADD6B85F900BC4.replay',\n",
       " 'C:\\\\Users\\\\blake\\\\Documents\\\\rlcsseason9\\\\RLCS Season 9\\\\Rival Series\\\\Europe\\\\Week 4\\\\M1 - We Dem Girlz vs Notorious Legion Esports\\\\6BE9CE7145BDE8E36515749C3DC8F09B.replay',\n",
       " 'C:\\\\Users\\\\blake\\\\Documents\\\\rlcsseason9\\\\RLCS Season 9\\\\Rival Series\\\\Europe\\\\Week 4\\\\M1 - We Dem Girlz vs Notorious Legion Esports\\\\80D91CA045A5CD8C628DA49A19A4A3F3.replay',\n",
       " 'C:\\\\Users\\\\blake\\\\Documents\\\\rlcsseason9\\\\RLCS Season 9\\\\Rival Series\\\\Europe\\\\Week 4\\\\M1 - We Dem Girlz vs Notorious Legion Esports\\\\8CC43C364A7B24CDDB1C2BB1839FC31C.replay',\n",
       " 'C:\\\\Users\\\\blake\\\\Documents\\\\rlcsseason9\\\\RLCS Season 9\\\\Rival Series\\\\Europe\\\\Week 4\\\\M2 - Team BDS vs Baguette Squad\\\\265F16E142A694C2B1513FA43456B278.replay',\n",
       " 'C:\\\\Users\\\\blake\\\\Documents\\\\rlcsseason9\\\\RLCS Season 9\\\\Rival Series\\\\Europe\\\\Week 4\\\\M2 - Team BDS vs Baguette Squad\\\\E123BB3841A1070EBA183482EDB8D3AE.replay',\n",
       " 'C:\\\\Users\\\\blake\\\\Documents\\\\rlcsseason9\\\\RLCS Season 9\\\\Rival Series\\\\Europe\\\\Week 4\\\\M2 - Team BDS vs Baguette Squad\\\\EE227DF1493D0795426DD58FF2098D78.replay',\n",
       " 'C:\\\\Users\\\\blake\\\\Documents\\\\rlcsseason9\\\\RLCS Season 9\\\\Rival Series\\\\Europe\\\\Week 4\\\\M3 - RCD Espanyol vs Team Vertex\\\\3E95BB22497BEB818191A2BD2374519C.replay',\n",
       " 'C:\\\\Users\\\\blake\\\\Documents\\\\rlcsseason9\\\\RLCS Season 9\\\\Rival Series\\\\Europe\\\\Week 4\\\\M3 - RCD Espanyol vs Team Vertex\\\\3F800090406F91897160AEBEC193E465.replay',\n",
       " 'C:\\\\Users\\\\blake\\\\Documents\\\\rlcsseason9\\\\RLCS Season 9\\\\Rival Series\\\\Europe\\\\Week 4\\\\M3 - RCD Espanyol vs Team Vertex\\\\C2C3A5DA4F7D999356179C97F060C490.replay',\n",
       " 'C:\\\\Users\\\\blake\\\\Documents\\\\rlcsseason9\\\\RLCS Season 9\\\\Rival Series\\\\Europe\\\\Week 4\\\\M3 - RCD Espanyol vs Team Vertex\\\\D7E7BFE946B0F2BE0A5695B85705DC6D.replay',\n",
       " 'C:\\\\Users\\\\blake\\\\Documents\\\\rlcsseason9\\\\RLCS Season 9\\\\Rival Series\\\\Europe\\\\Week 4\\\\M3 - RCD Espanyol vs Team Vertex\\\\F7170A5846F978324C125EB97E4284CE.replay',\n",
       " 'C:\\\\Users\\\\blake\\\\Documents\\\\rlcsseason9\\\\RLCS Season 9\\\\Rival Series\\\\Europe\\\\Week 4\\\\M4 - Solary vs Servette Geneva Esports\\\\4213A2EC41CE94B5EEF7748425D29133.replay',\n",
       " 'C:\\\\Users\\\\blake\\\\Documents\\\\rlcsseason9\\\\RLCS Season 9\\\\Rival Series\\\\Europe\\\\Week 4\\\\M4 - Solary vs Servette Geneva Esports\\\\5F7326194027C49FC4CC77A30C3FD0F8.replay',\n",
       " 'C:\\\\Users\\\\blake\\\\Documents\\\\rlcsseason9\\\\RLCS Season 9\\\\Rival Series\\\\Europe\\\\Week 4\\\\M4 - Solary vs Servette Geneva Esports\\\\FA9EBC574829BFF3747ABC995B661FB1.replay',\n",
       " 'C:\\\\Users\\\\blake\\\\Documents\\\\rlcsseason9\\\\RLCS Season 9\\\\Rival Series\\\\Europe\\\\Week 4 B-Stream\\\\M1 - Team BDS vs Servette Geneva Esports\\\\4163717844F240767C43B2B67E6C7D2F.replay',\n",
       " 'C:\\\\Users\\\\blake\\\\Documents\\\\rlcsseason9\\\\RLCS Season 9\\\\Rival Series\\\\Europe\\\\Week 4 B-Stream\\\\M1 - Team BDS vs Servette Geneva Esports\\\\457559BF44772CCDE136508D4D78D867.replay',\n",
       " 'C:\\\\Users\\\\blake\\\\Documents\\\\rlcsseason9\\\\RLCS Season 9\\\\Rival Series\\\\Europe\\\\Week 4 B-Stream\\\\M1 - Team BDS vs Servette Geneva Esports\\\\892E36C44421442AC1E3F196ED4183DE.replay',\n",
       " 'C:\\\\Users\\\\blake\\\\Documents\\\\rlcsseason9\\\\RLCS Season 9\\\\Rival Series\\\\Europe\\\\Week 4 B-Stream\\\\M2 - Baguette Squad vs Notorious Legion Esports\\\\2E2834CA40A2283E00440D92501BC7F1.replay',\n",
       " 'C:\\\\Users\\\\blake\\\\Documents\\\\rlcsseason9\\\\RLCS Season 9\\\\Rival Series\\\\Europe\\\\Week 4 B-Stream\\\\M2 - Baguette Squad vs Notorious Legion Esports\\\\3032625E460BE33147E66B8C5F607418.replay',\n",
       " 'C:\\\\Users\\\\blake\\\\Documents\\\\rlcsseason9\\\\RLCS Season 9\\\\Rival Series\\\\Europe\\\\Week 4 B-Stream\\\\M2 - Baguette Squad vs Notorious Legion Esports\\\\73DFDBE04DB734680E61A4B65D05C94C.replay',\n",
       " 'C:\\\\Users\\\\blake\\\\Documents\\\\rlcsseason9\\\\RLCS Season 9\\\\Rival Series\\\\Europe\\\\Week 4 B-Stream\\\\M2 - Baguette Squad vs Notorious Legion Esports\\\\998F0ABF46D26C6661C28999431911A1.replay',\n",
       " 'C:\\\\Users\\\\blake\\\\Documents\\\\rlcsseason9\\\\RLCS Season 9\\\\Rival Series\\\\Europe\\\\Week 4 B-Stream\\\\M3 - RJM vs RCD Espanyol\\\\90C0043041D2E6684CDEDFB9EEF5C761.replay',\n",
       " 'C:\\\\Users\\\\blake\\\\Documents\\\\rlcsseason9\\\\RLCS Season 9\\\\Rival Series\\\\Europe\\\\Week 4 B-Stream\\\\M3 - RJM vs RCD Espanyol\\\\90EF96354466C1EC619BBABB2C5C9E00.replay',\n",
       " 'C:\\\\Users\\\\blake\\\\Documents\\\\rlcsseason9\\\\RLCS Season 9\\\\Rival Series\\\\Europe\\\\Week 4 B-Stream\\\\M3 - RJM vs RCD Espanyol\\\\A547C18E4DFE4E480B084FB69D8BB363.replay',\n",
       " 'C:\\\\Users\\\\blake\\\\Documents\\\\rlcsseason9\\\\RLCS Season 9\\\\Rival Series\\\\Europe\\\\Week 4 B-Stream\\\\M3 - RJM vs RCD Espanyol\\\\D2757E9141E9FB7FC98D8FB2B96B28CE.replay',\n",
       " 'C:\\\\Users\\\\blake\\\\Documents\\\\rlcsseason9\\\\RLCS Season 9\\\\Rival Series\\\\Europe\\\\Week 4 B-Stream\\\\M3 - RJM vs RCD Espanyol\\\\D955153C45936282C8815B9CC2402A0E.replay',\n",
       " 'C:\\\\Users\\\\blake\\\\Documents\\\\rlcsseason9\\\\RLCS Season 9\\\\Rival Series\\\\Europe\\\\Week 5\\\\M1 - RJM vs Triple Trouble\\\\47CCE8534AAD1785DC322F9C20760E75.replay',\n",
       " 'C:\\\\Users\\\\blake\\\\Documents\\\\rlcsseason9\\\\RLCS Season 9\\\\Rival Series\\\\Europe\\\\Week 5\\\\M1 - RJM vs Triple Trouble\\\\652FC4FA41702D30A3F05F847C969E2E.replay',\n",
       " 'C:\\\\Users\\\\blake\\\\Documents\\\\rlcsseason9\\\\RLCS Season 9\\\\Rival Series\\\\Europe\\\\Week 5\\\\M1 - RJM vs Triple Trouble\\\\76C2E0664C2DA6FCD7B9E7BBE287E0DD.replay',\n",
       " 'C:\\\\Users\\\\blake\\\\Documents\\\\rlcsseason9\\\\RLCS Season 9\\\\Rival Series\\\\Europe\\\\Week 5\\\\M1 - RJM vs Triple Trouble\\\\CB39867C404B65086398FCBB6101FE8F.replay',\n",
       " 'C:\\\\Users\\\\blake\\\\Documents\\\\rlcsseason9\\\\RLCS Season 9\\\\Rival Series\\\\Europe\\\\Week 5\\\\M2 - Baguette Squad vs We Dem Girlz\\\\3D8B55E142B67828C0F7F1925BE3C956.replay',\n",
       " 'C:\\\\Users\\\\blake\\\\Documents\\\\rlcsseason9\\\\RLCS Season 9\\\\Rival Series\\\\Europe\\\\Week 5\\\\M2 - Baguette Squad vs We Dem Girlz\\\\6F1126334CFBC11657743F9E2BEB4E10.replay',\n",
       " 'C:\\\\Users\\\\blake\\\\Documents\\\\rlcsseason9\\\\RLCS Season 9\\\\Rival Series\\\\Europe\\\\Week 5\\\\M2 - Baguette Squad vs We Dem Girlz\\\\B9D1FA8145598E1284AC4C9B866C5051.replay',\n",
       " 'C:\\\\Users\\\\blake\\\\Documents\\\\rlcsseason9\\\\RLCS Season 9\\\\Rival Series\\\\Europe\\\\Week 5\\\\M3 - RCD Espanyol vs Notorious Legion Esports\\\\17741A0F46229EF7367A3FAB7B96ABBC.replay',\n",
       " 'C:\\\\Users\\\\blake\\\\Documents\\\\rlcsseason9\\\\RLCS Season 9\\\\Rival Series\\\\Europe\\\\Week 5\\\\M3 - RCD Espanyol vs Notorious Legion Esports\\\\1961A31248A9AA3F06C38ABEC1A6E32A.replay',\n",
       " 'C:\\\\Users\\\\blake\\\\Documents\\\\rlcsseason9\\\\RLCS Season 9\\\\Rival Series\\\\Europe\\\\Week 5\\\\M3 - RCD Espanyol vs Notorious Legion Esports\\\\A1D005BE4A2233726DE7B08999FBB65F.replay',\n",
       " 'C:\\\\Users\\\\blake\\\\Documents\\\\rlcsseason9\\\\RLCS Season 9\\\\Rival Series\\\\Europe\\\\Week 5\\\\M3 - RCD Espanyol vs Notorious Legion Esports\\\\DE91BC1144379F20366FA2BDD7915145.replay',\n",
       " 'C:\\\\Users\\\\blake\\\\Documents\\\\rlcsseason9\\\\RLCS Season 9\\\\Rival Series\\\\Europe\\\\Week 5\\\\M3 - RCD Espanyol vs Notorious Legion Esports\\\\F32CEF1747A47EE62F27319D46065263.replay',\n",
       " 'C:\\\\Users\\\\blake\\\\Documents\\\\rlcsseason9\\\\RLCS Season 9\\\\Rival Series\\\\Europe\\\\Week 5\\\\M4 - Servette Geneva Esports vs Team Vertex\\\\2826A10443596448C8B117A99D7AC2C3.replay',\n",
       " 'C:\\\\Users\\\\blake\\\\Documents\\\\rlcsseason9\\\\RLCS Season 9\\\\Rival Series\\\\Europe\\\\Week 5\\\\M4 - Servette Geneva Esports vs Team Vertex\\\\45A87C30490918DB14683B9BA09737A4.replay',\n",
       " 'C:\\\\Users\\\\blake\\\\Documents\\\\rlcsseason9\\\\RLCS Season 9\\\\Rival Series\\\\Europe\\\\Week 5\\\\M4 - Servette Geneva Esports vs Team Vertex\\\\8E06FE134DE292C30F73FF9CAADB9304.replay',\n",
       " 'C:\\\\Users\\\\blake\\\\Documents\\\\rlcsseason9\\\\RLCS Season 9\\\\Rival Series\\\\Europe\\\\Week 5 B-Stream\\\\M1 - Baguette vs Solary\\\\26C8768B4583A02A8AB219BF5013BCFE.replay',\n",
       " 'C:\\\\Users\\\\blake\\\\Documents\\\\rlcsseason9\\\\RLCS Season 9\\\\Rival Series\\\\Europe\\\\Week 5 B-Stream\\\\M1 - Baguette vs Solary\\\\2DB2696C445AD3C12B8058B8A5579BE5.replay',\n",
       " 'C:\\\\Users\\\\blake\\\\Documents\\\\rlcsseason9\\\\RLCS Season 9\\\\Rival Series\\\\Europe\\\\Week 5 B-Stream\\\\M1 - Baguette vs Solary\\\\85BA31554F82F772018D87B7CCE33FDD.replay',\n",
       " 'C:\\\\Users\\\\blake\\\\Documents\\\\rlcsseason9\\\\RLCS Season 9\\\\Rival Series\\\\Europe\\\\Week 5 B-Stream\\\\M2 - Team Vertex cs Notorious Legion\\\\5253CA5C4600BF16BD43DCAA3996D2B6.replay',\n",
       " 'C:\\\\Users\\\\blake\\\\Documents\\\\rlcsseason9\\\\RLCS Season 9\\\\Rival Series\\\\Europe\\\\Week 5 B-Stream\\\\M2 - Team Vertex cs Notorious Legion\\\\C149E5514DFDA78830AF4EB8DFBBB543.replay',\n",
       " 'C:\\\\Users\\\\blake\\\\Documents\\\\rlcsseason9\\\\RLCS Season 9\\\\Rival Series\\\\Europe\\\\Week 5 B-Stream\\\\M2 - Team Vertex cs Notorious Legion\\\\E67EA19242E5C611C1977F846956B7EC.replay',\n",
       " 'C:\\\\Users\\\\blake\\\\Documents\\\\rlcsseason9\\\\RLCS Season 9\\\\Rival Series\\\\Europe\\\\Week 5 B-Stream\\\\M3 - Team BDS vd RJM\\\\295053DB49AC1449A0FA158ABCA988CC.replay',\n",
       " 'C:\\\\Users\\\\blake\\\\Documents\\\\rlcsseason9\\\\RLCS Season 9\\\\Rival Series\\\\Europe\\\\Week 5 B-Stream\\\\M3 - Team BDS vd RJM\\\\7F1B55FD4CE9EA8996DA4FAB116078EA.replay',\n",
       " 'C:\\\\Users\\\\blake\\\\Documents\\\\rlcsseason9\\\\RLCS Season 9\\\\Rival Series\\\\Europe\\\\Week 5 B-Stream\\\\M3 - Team BDS vd RJM\\\\B1C665454A961251B1BD09864A9231B6.replay',\n",
       " 'C:\\\\Users\\\\blake\\\\Documents\\\\rlcsseason9\\\\RLCS Season 9\\\\Rival Series\\\\Europe\\\\Week 5 B-Stream\\\\M3 - Team BDS vd RJM\\\\DCC0487F471198D6FB21999A5A29B3B4.replay',\n",
       " 'C:\\\\Users\\\\blake\\\\Documents\\\\rlcsseason9\\\\RLCS Season 9\\\\Rival Series\\\\Europe\\\\Week 5 B-Stream\\\\M4 - Triple Trouble vs We Dem Girlz\\\\27F3EE794F84DEEDEC8197A5BA01827E.replay',\n",
       " 'C:\\\\Users\\\\blake\\\\Documents\\\\rlcsseason9\\\\RLCS Season 9\\\\Rival Series\\\\Europe\\\\Week 5 B-Stream\\\\M4 - Triple Trouble vs We Dem Girlz\\\\3AEA040E445A3A38AA0EF8A26750E45E.replay',\n",
       " 'C:\\\\Users\\\\blake\\\\Documents\\\\rlcsseason9\\\\RLCS Season 9\\\\Rival Series\\\\Europe\\\\Week 5 B-Stream\\\\M4 - Triple Trouble vs We Dem Girlz\\\\97FCE5A34F0E5AA92B66C5A892C21573.replay',\n",
       " 'C:\\\\Users\\\\blake\\\\Documents\\\\rlcsseason9\\\\RLCS Season 9\\\\Rival Series\\\\Europe\\\\Week 5 B-Stream\\\\M4 - Triple Trouble vs We Dem Girlz\\\\98962DE04722206C59CD7B98D19B547D.replay',\n",
       " 'C:\\\\Users\\\\blake\\\\Documents\\\\rlcsseason9\\\\RLCS Season 9\\\\Rival Series\\\\Europe\\\\Week 5 B-Stream\\\\M4 - Triple Trouble vs We Dem Girlz\\\\B39726B64DEE6EFFE1E515BE73771450.replay',\n",
       " 'C:\\\\Users\\\\blake\\\\Documents\\\\rlcsseason9\\\\RLCS Season 9\\\\Rival Series\\\\Europe\\\\Week 6 B-Stream\\\\M1 - Servette Geneva vs RCD Espanyol\\\\3BE315264392E8C94970AC8FBFF17310.replay',\n",
       " 'C:\\\\Users\\\\blake\\\\Documents\\\\rlcsseason9\\\\RLCS Season 9\\\\Rival Series\\\\Europe\\\\Week 6 B-Stream\\\\M1 - Servette Geneva vs RCD Espanyol\\\\513197FE43CF40655F433AACBFD6897B.replay',\n",
       " 'C:\\\\Users\\\\blake\\\\Documents\\\\rlcsseason9\\\\RLCS Season 9\\\\Rival Series\\\\Europe\\\\Week 6 B-Stream\\\\M1 - Servette Geneva vs RCD Espanyol\\\\829C27694C8DE610BA5CFD8091BBE629.replay',\n",
       " 'C:\\\\Users\\\\blake\\\\Documents\\\\rlcsseason9\\\\RLCS Season 9\\\\Rival Series\\\\Europe\\\\Week 6 B-Stream\\\\M1 - Servette Geneva vs RCD Espanyol\\\\C14352684819292D4B6F1C9B716599E6.replay',\n",
       " 'C:\\\\Users\\\\blake\\\\Documents\\\\rlcsseason9\\\\RLCS Season 9\\\\Rival Series\\\\Europe\\\\Week 6 B-Stream\\\\M1 - Servette Geneva vs RCD Espanyol\\\\F6F946A34BD2DEB2DBCD9C80F8902DB8.replay',\n",
       " 'C:\\\\Users\\\\blake\\\\Documents\\\\rlcsseason9\\\\RLCS Season 9\\\\Rival Series\\\\Europe\\\\Week 6 B-Stream\\\\M2 - Team BDS vs Team Vertex\\\\0C38B8394885A7E3EE06A6A3B0B18349.replay',\n",
       " 'C:\\\\Users\\\\blake\\\\Documents\\\\rlcsseason9\\\\RLCS Season 9\\\\Rival Series\\\\Europe\\\\Week 6 B-Stream\\\\M2 - Team BDS vs Team Vertex\\\\5A3653784653B1BC472CFC8AF0AAE28E.replay',\n",
       " 'C:\\\\Users\\\\blake\\\\Documents\\\\rlcsseason9\\\\RLCS Season 9\\\\Rival Series\\\\Europe\\\\Week 6 B-Stream\\\\M2 - Team BDS vs Team Vertex\\\\87DCE9734B2EBEACA14E888DF976824A.replay',\n",
       " 'C:\\\\Users\\\\blake\\\\Documents\\\\rlcsseason9\\\\RLCS Season 9\\\\Rival Series\\\\Europe\\\\Week 6 B-Stream\\\\M3 - We Dem Girlz vs Solary\\\\3FBDD8E54CBA15FD24AD42909847AE62.replay',\n",
       " 'C:\\\\Users\\\\blake\\\\Documents\\\\rlcsseason9\\\\RLCS Season 9\\\\Rival Series\\\\Europe\\\\Week 6 B-Stream\\\\M3 - We Dem Girlz vs Solary\\\\7B05775B4D0B49C5CDF83F91E6930E95.replay',\n",
       " 'C:\\\\Users\\\\blake\\\\Documents\\\\rlcsseason9\\\\RLCS Season 9\\\\Rival Series\\\\Europe\\\\Week 6 B-Stream\\\\M3 - We Dem Girlz vs Solary\\\\FB11DDAA4A7D1366E561BC80839079E9.replay',\n",
       " 'C:\\\\Users\\\\blake\\\\Documents\\\\rlcsseason9\\\\RLCS Season 9\\\\Rival Series\\\\Europe\\\\Week 6 B-Stream\\\\M3 - We Dem Girlz vs Solary\\\\FD5104FE44EB9C6758C6B891CD73749D.replay',\n",
       " 'C:\\\\Users\\\\blake\\\\Documents\\\\rlcsseason9\\\\RLCS Season 9\\\\Rival Series\\\\Europe\\\\Week 6 B-Stream\\\\M4 - Triple Trouble vs Notorious Legion\\\\06D530B74C0ADF7C3D862EBE7CD86C1F.replay',\n",
       " 'C:\\\\Users\\\\blake\\\\Documents\\\\rlcsseason9\\\\RLCS Season 9\\\\Rival Series\\\\Europe\\\\Week 6 B-Stream\\\\M4 - Triple Trouble vs Notorious Legion\\\\6BB9C48B42C9231446D47E9CDAD35859.replay',\n",
       " 'C:\\\\Users\\\\blake\\\\Documents\\\\rlcsseason9\\\\RLCS Season 9\\\\Rival Series\\\\Europe\\\\Week 6 B-Stream\\\\M4 - Triple Trouble vs Notorious Legion\\\\8896C2674E2CC234F16D6A9B626723C3.replay',\n",
       " 'C:\\\\Users\\\\blake\\\\Documents\\\\rlcsseason9\\\\RLCS Season 9\\\\Rival Series\\\\Europe\\\\Week 6 B-Stream\\\\M4 - Triple Trouble vs Notorious Legion\\\\CCC32E0E47923DE70C8A8590FACB0664.replay',\n",
       " 'C:\\\\Users\\\\blake\\\\Documents\\\\rlcsseason9\\\\RLCS Season 9\\\\Rival Series\\\\Europe\\\\Week 6_\\\\M1 - Triple Trouble vs Baguette Squad\\\\6844893A498A78B2E5CCF08DC6ED57CE.replay',\n",
       " 'C:\\\\Users\\\\blake\\\\Documents\\\\rlcsseason9\\\\RLCS Season 9\\\\Rival Series\\\\Europe\\\\Week 6_\\\\M1 - Triple Trouble vs Baguette Squad\\\\97D453534E659ACF44DD17892FC0784C.replay',\n",
       " 'C:\\\\Users\\\\blake\\\\Documents\\\\rlcsseason9\\\\RLCS Season 9\\\\Rival Series\\\\Europe\\\\Week 6_\\\\M1 - Triple Trouble vs Baguette Squad\\\\9F5697D641B181F9D9168690006FBBEF.replay',\n",
       " 'C:\\\\Users\\\\blake\\\\Documents\\\\rlcsseason9\\\\RLCS Season 9\\\\Rival Series\\\\Europe\\\\Week 6_\\\\M1 - Triple Trouble vs Baguette Squad\\\\CA10A3BE48372531FE6310A12EE79779.replay',\n",
       " 'C:\\\\Users\\\\blake\\\\Documents\\\\rlcsseason9\\\\RLCS Season 9\\\\Rival Series\\\\Europe\\\\Week 6_\\\\M2 - Team BDS vs RCD Espanyol\\\\300953624FD12BF1D3CF6A8E750BA4BA.replay',\n",
       " 'C:\\\\Users\\\\blake\\\\Documents\\\\rlcsseason9\\\\RLCS Season 9\\\\Rival Series\\\\Europe\\\\Week 6_\\\\M2 - Team BDS vs RCD Espanyol\\\\467E1450485746BCDE825DAF7A73E7AF.replay',\n",
       " 'C:\\\\Users\\\\blake\\\\Documents\\\\rlcsseason9\\\\RLCS Season 9\\\\Rival Series\\\\Europe\\\\Week 6_\\\\M2 - Team BDS vs RCD Espanyol\\\\CAED819749C38F67A249A580E36ED7EE.replay',\n",
       " 'C:\\\\Users\\\\blake\\\\Documents\\\\rlcsseason9\\\\RLCS Season 9\\\\Rival Series\\\\Europe\\\\Week 6_\\\\M3 - We Dem Girlz vs Team Vertex\\\\468D3DC146B7D7D38BB3C4B05402FE80.replay',\n",
       " 'C:\\\\Users\\\\blake\\\\Documents\\\\rlcsseason9\\\\RLCS Season 9\\\\Rival Series\\\\Europe\\\\Week 6_\\\\M3 - We Dem Girlz vs Team Vertex\\\\70E173D1413B29B418C1D4931B26FEFC.replay',\n",
       " 'C:\\\\Users\\\\blake\\\\Documents\\\\rlcsseason9\\\\RLCS Season 9\\\\Rival Series\\\\Europe\\\\Week 6_\\\\M3 - We Dem Girlz vs Team Vertex\\\\8E48D6A54EE8F90C7D12888A5EB2F484.replay',\n",
       " 'C:\\\\Users\\\\blake\\\\Documents\\\\rlcsseason9\\\\RLCS Season 9\\\\Rival Series\\\\Europe\\\\Week 6_\\\\M3 - We Dem Girlz vs Team Vertex\\\\BB00D6DA48E2893E627A8A93D7AF1EC2.replay',\n",
       " 'C:\\\\Users\\\\blake\\\\Documents\\\\rlcsseason9\\\\RLCS Season 9\\\\Rival Series\\\\Europe\\\\Week 6_\\\\M4 - Solary vs RJM\\\\0AA3E327491A4D372F2AE0A2AE3A752D.replay',\n",
       " 'C:\\\\Users\\\\blake\\\\Documents\\\\rlcsseason9\\\\RLCS Season 9\\\\Rival Series\\\\Europe\\\\Week 6_\\\\M4 - Solary vs RJM\\\\37B9B8B045044ADFD1CDB6A9C2C429D8.replay',\n",
       " 'C:\\\\Users\\\\blake\\\\Documents\\\\rlcsseason9\\\\RLCS Season 9\\\\Rival Series\\\\Europe\\\\Week 6_\\\\M4 - Solary vs RJM\\\\831874FC46E738E868A95C9AB766C859.replay',\n",
       " 'C:\\\\Users\\\\blake\\\\Documents\\\\rlcsseason9\\\\RLCS Season 9\\\\Rival Series\\\\Europe\\\\Week 6_\\\\M4 - Solary vs RJM\\\\9A46AC4B4D53AFB1CB5CF88BFFBA1F33.replay',\n",
       " 'C:\\\\Users\\\\blake\\\\Documents\\\\rlcsseason9\\\\RLCS Season 9\\\\Rival Series\\\\Europe\\\\Week 6_\\\\M4 - Solary vs RJM\\\\9F62B20546F6D57D1AB87ABCBB53C3A5.replay',\n",
       " 'C:\\\\Users\\\\blake\\\\Documents\\\\rlcsseason9\\\\RLCS Season 9\\\\Rival Series\\\\Europe\\\\Week 7\\\\M1 - Servette Geneva Esports vs Notorious Legion Esports\\\\79DE1DB14919604531072E9A81B5A9EA.replay',\n",
       " 'C:\\\\Users\\\\blake\\\\Documents\\\\rlcsseason9\\\\RLCS Season 9\\\\Rival Series\\\\Europe\\\\Week 7\\\\M1 - Servette Geneva Esports vs Notorious Legion Esports\\\\7A8C351C43EDE1C34AA6C1B8AEB1AF28.replay',\n",
       " 'C:\\\\Users\\\\blake\\\\Documents\\\\rlcsseason9\\\\RLCS Season 9\\\\Rival Series\\\\Europe\\\\Week 7\\\\M1 - Servette Geneva Esports vs Notorious Legion Esports\\\\DDE711CD4AC186D25DF166AB1DFC642F.replay',\n",
       " 'C:\\\\Users\\\\blake\\\\Documents\\\\rlcsseason9\\\\RLCS Season 9\\\\Rival Series\\\\Europe\\\\Week 7\\\\M2 - Baguette Squad vs RCD Espanyol\\\\2DFAB7BE451DFC58D776A89D10910225.replay',\n",
       " 'C:\\\\Users\\\\blake\\\\Documents\\\\rlcsseason9\\\\RLCS Season 9\\\\Rival Series\\\\Europe\\\\Week 7\\\\M2 - Baguette Squad vs RCD Espanyol\\\\3019EA464AB6AAAFDEED9F98DF7B5AF2.replay',\n",
       " 'C:\\\\Users\\\\blake\\\\Documents\\\\rlcsseason9\\\\RLCS Season 9\\\\Rival Series\\\\Europe\\\\Week 7\\\\M2 - Baguette Squad vs RCD Espanyol\\\\6AF59DA04F039B53A9E248B86BD22F7E.replay',\n",
       " 'C:\\\\Users\\\\blake\\\\Documents\\\\rlcsseason9\\\\RLCS Season 9\\\\Rival Series\\\\Europe\\\\Week 7\\\\M2 - Baguette Squad vs RCD Espanyol\\\\C8A99C904C2B7A2E204E5D8FC7347FFC.replay',\n",
       " 'C:\\\\Users\\\\blake\\\\Documents\\\\rlcsseason9\\\\RLCS Season 9\\\\Rival Series\\\\Europe\\\\Week 7\\\\M2 - Baguette Squad vs RCD Espanyol\\\\D9A61ED04D31FD9BDE155EA352234672.replay',\n",
       " 'C:\\\\Users\\\\blake\\\\Documents\\\\rlcsseason9\\\\RLCS Season 9\\\\Rival Series\\\\Europe\\\\Week 7\\\\M3 - RJM vs We Dem Girlz\\\\1064E53649B9D960CEDEC1963F3E8242.replay',\n",
       " 'C:\\\\Users\\\\blake\\\\Documents\\\\rlcsseason9\\\\RLCS Season 9\\\\Rival Series\\\\Europe\\\\Week 7\\\\M3 - RJM vs We Dem Girlz\\\\323BA67F4C04929C38FD4BAB9943790B.replay',\n",
       " 'C:\\\\Users\\\\blake\\\\Documents\\\\rlcsseason9\\\\RLCS Season 9\\\\Rival Series\\\\Europe\\\\Week 7\\\\M3 - RJM vs We Dem Girlz\\\\F9859795455E06C7EE3A7488505BED48.replay',\n",
       " 'C:\\\\Users\\\\blake\\\\Documents\\\\rlcsseason9\\\\RLCS Season 9\\\\Rival Series\\\\Europe\\\\Week 7\\\\M4 - Team BDS vs Triple Trouble\\\\046966F848372534136436AFD0846CF0.replay',\n",
       " 'C:\\\\Users\\\\blake\\\\Documents\\\\rlcsseason9\\\\RLCS Season 9\\\\Rival Series\\\\Europe\\\\Week 7\\\\M4 - Team BDS vs Triple Trouble\\\\2BA406F443D457C36EB63EB750598DFC.replay',\n",
       " 'C:\\\\Users\\\\blake\\\\Documents\\\\rlcsseason9\\\\RLCS Season 9\\\\Rival Series\\\\Europe\\\\Week 7\\\\M4 - Team BDS vs Triple Trouble\\\\805C89CF4CF17A5E2F4BE3BB1A4AACDC.replay',\n",
       " 'C:\\\\Users\\\\blake\\\\Documents\\\\rlcsseason9\\\\RLCS Season 9\\\\Rival Series\\\\North America\\\\Week 1\\\\M1 - Absolute  Leverage vs Stromboli\\\\02639B2C46CE541A861CE8B4CE55E816.replay',\n",
       " 'C:\\\\Users\\\\blake\\\\Documents\\\\rlcsseason9\\\\RLCS Season 9\\\\Rival Series\\\\North America\\\\Week 1\\\\M1 - Absolute  Leverage vs Stromboli\\\\32BEF87D4E45BCC9BCA732A18DC2E114.replay',\n",
       " 'C:\\\\Users\\\\blake\\\\Documents\\\\rlcsseason9\\\\RLCS Season 9\\\\Rival Series\\\\North America\\\\Week 1\\\\M1 - Absolute  Leverage vs Stromboli\\\\57641B61448515CD730EEE8907F881FB.replay',\n",
       " 'C:\\\\Users\\\\blake\\\\Documents\\\\rlcsseason9\\\\RLCS Season 9\\\\Rival Series\\\\North America\\\\Week 1\\\\M2 - Charlotte Phoenix vs Monkey Business\\\\137C39F54EACA39CB7362EA616486442.replay',\n",
       " 'C:\\\\Users\\\\blake\\\\Documents\\\\rlcsseason9\\\\RLCS Season 9\\\\Rival Series\\\\North America\\\\Week 1\\\\M2 - Charlotte Phoenix vs Monkey Business\\\\4E09FB9A4EB8ABEE73F800A60C42379C.replay',\n",
       " 'C:\\\\Users\\\\blake\\\\Documents\\\\rlcsseason9\\\\RLCS Season 9\\\\Rival Series\\\\North America\\\\Week 1\\\\M2 - Charlotte Phoenix vs Monkey Business\\\\D65115B34D2BFDF9787D7F8C98D80FF2.replay',\n",
       " 'C:\\\\Users\\\\blake\\\\Documents\\\\rlcsseason9\\\\RLCS Season 9\\\\Rival Series\\\\North America\\\\Week 1\\\\M2 - Charlotte Phoenix vs Monkey Business\\\\D700B63D4BEBC8269FAE3FB2D20D6089.replay',\n",
       " 'C:\\\\Users\\\\blake\\\\Documents\\\\rlcsseason9\\\\RLCS Season 9\\\\Rival Series\\\\North America\\\\Week 1\\\\M3 - Warriors International vs Affinity\\\\051D20D0426F39795F27808DACE4F9E8.replay',\n",
       " 'C:\\\\Users\\\\blake\\\\Documents\\\\rlcsseason9\\\\RLCS Season 9\\\\Rival Series\\\\North America\\\\Week 1\\\\M3 - Warriors International vs Affinity\\\\7CD0BA824C6ACDFA7D4D968D490F673E.replay',\n",
       " 'C:\\\\Users\\\\blake\\\\Documents\\\\rlcsseason9\\\\RLCS Season 9\\\\Rival Series\\\\North America\\\\Week 1\\\\M3 - Warriors International vs Affinity\\\\B680B7C34E93DCC73D966488228FF383.replay',\n",
       " 'C:\\\\Users\\\\blake\\\\Documents\\\\rlcsseason9\\\\RLCS Season 9\\\\Rival Series\\\\North America\\\\Week 1\\\\M3 - Warriors International vs Affinity\\\\C97E42A542F8A4EFE105DE96F528295F.replay',\n",
       " 'C:\\\\Users\\\\blake\\\\Documents\\\\rlcsseason9\\\\RLCS Season 9\\\\Rival Series\\\\North America\\\\Week 1\\\\M4 - Chaos EC vs 72 Pin Connector\\\\12121ED249303BC13BBCF9ABC4B0EE0C.replay',\n",
       " 'C:\\\\Users\\\\blake\\\\Documents\\\\rlcsseason9\\\\RLCS Season 9\\\\Rival Series\\\\North America\\\\Week 1\\\\M4 - Chaos EC vs 72 Pin Connector\\\\186C838844E0BBC3F2B66882C9653A41.replay',\n",
       " 'C:\\\\Users\\\\blake\\\\Documents\\\\rlcsseason9\\\\RLCS Season 9\\\\Rival Series\\\\North America\\\\Week 1\\\\M4 - Chaos EC vs 72 Pin Connector\\\\83D8998F442976B043B217A98811728F.replay',\n",
       " 'C:\\\\Users\\\\blake\\\\Documents\\\\rlcsseason9\\\\RLCS Season 9\\\\Rival Series\\\\North America\\\\Week 1\\\\M4 - Chaos EC vs 72 Pin Connector\\\\89C56AC9422D8C3471DACD97E860C783.replay',\n",
       " 'C:\\\\Users\\\\blake\\\\Documents\\\\rlcsseason9\\\\RLCS Season 9\\\\Rival Series\\\\North America\\\\Week 1\\\\M4 - Chaos EC vs 72 Pin Connector\\\\8B34D00D47D3D5649382B5873D9C9A66.replay',\n",
       " 'C:\\\\Users\\\\blake\\\\Documents\\\\rlcsseason9\\\\RLCS Season 9\\\\Rival Series\\\\North America\\\\Week 2\\\\M1 - Zookeepers vs Omni Nation\\\\1CA3E02D4695E97C8A5CD98E536CCC5A.replay',\n",
       " 'C:\\\\Users\\\\blake\\\\Documents\\\\rlcsseason9\\\\RLCS Season 9\\\\Rival Series\\\\North America\\\\Week 2\\\\M1 - Zookeepers vs Omni Nation\\\\209FEBA34C9AA885AB7D1892A6D521EF.replay',\n",
       " 'C:\\\\Users\\\\blake\\\\Documents\\\\rlcsseason9\\\\RLCS Season 9\\\\Rival Series\\\\North America\\\\Week 2\\\\M1 - Zookeepers vs Omni Nation\\\\5038B9294B8E9E49F05B14ADDE9633DF.replay',\n",
       " 'C:\\\\Users\\\\blake\\\\Documents\\\\rlcsseason9\\\\RLCS Season 9\\\\Rival Series\\\\North America\\\\Week 2\\\\M1 - Zookeepers vs Omni Nation\\\\BCBDAFC447509519CBD9BEAEB6D23C6A.replay',\n",
       " 'C:\\\\Users\\\\blake\\\\Documents\\\\rlcsseason9\\\\RLCS Season 9\\\\Rival Series\\\\North America\\\\Week 2\\\\M1 - Zookeepers vs Omni Nation\\\\BF5D5E824ADABB729647928470468745.replay',\n",
       " 'C:\\\\Users\\\\blake\\\\Documents\\\\rlcsseason9\\\\RLCS Season 9\\\\Rival Series\\\\North America\\\\Week 2\\\\M2 - Mirage vs 72 Pin Connector\\\\15F1B8454D26C68A0C62AA98808C63B3.replay',\n",
       " 'C:\\\\Users\\\\blake\\\\Documents\\\\rlcsseason9\\\\RLCS Season 9\\\\Rival Series\\\\North America\\\\Week 2\\\\M2 - Mirage vs 72 Pin Connector\\\\251249CB43FFB722E510B4A546480DA7.replay',\n",
       " 'C:\\\\Users\\\\blake\\\\Documents\\\\rlcsseason9\\\\RLCS Season 9\\\\Rival Series\\\\North America\\\\Week 2\\\\M2 - Mirage vs 72 Pin Connector\\\\34BD6B87476A6DB57134A4BCFBD90FD4.replay',\n",
       " 'C:\\\\Users\\\\blake\\\\Documents\\\\rlcsseason9\\\\RLCS Season 9\\\\Rival Series\\\\North America\\\\Week 2\\\\M2 - Mirage vs 72 Pin Connector\\\\935B5D27420FF1D4EFAADA8E8B4828C1.replay',\n",
       " 'C:\\\\Users\\\\blake\\\\Documents\\\\rlcsseason9\\\\RLCS Season 9\\\\Rival Series\\\\North America\\\\Week 2\\\\M2 - Mirage vs 72 Pin Connector\\\\A86906C24D093019D4F3D8844160F6FC.replay',\n",
       " 'C:\\\\Users\\\\blake\\\\Documents\\\\rlcsseason9\\\\RLCS Season 9\\\\Rival Series\\\\North America\\\\Week 2\\\\M3 - Stromboli vs Monkey Business\\\\20707BCA4C30DCE5CBD9FB8A165D977C.replay',\n",
       " 'C:\\\\Users\\\\blake\\\\Documents\\\\rlcsseason9\\\\RLCS Season 9\\\\Rival Series\\\\North America\\\\Week 2\\\\M3 - Stromboli vs Monkey Business\\\\5BF2809841E7D824BE71958F8182F9CE.replay',\n",
       " 'C:\\\\Users\\\\blake\\\\Documents\\\\rlcsseason9\\\\RLCS Season 9\\\\Rival Series\\\\North America\\\\Week 2\\\\M3 - Stromboli vs Monkey Business\\\\AF38A48E42CF74FC392E808BDEF56DFC.replay',\n",
       " 'C:\\\\Users\\\\blake\\\\Documents\\\\rlcsseason9\\\\RLCS Season 9\\\\Rival Series\\\\North America\\\\Week 2\\\\M4 - Charlotte Phoenix vs Absolute Leverage\\\\2AAD322746C110D622AF0385CF0E397A.replay',\n",
       " 'C:\\\\Users\\\\blake\\\\Documents\\\\rlcsseason9\\\\RLCS Season 9\\\\Rival Series\\\\North America\\\\Week 2\\\\M4 - Charlotte Phoenix vs Absolute Leverage\\\\358D6F48490B96D388B5C19552648037.replay',\n",
       " 'C:\\\\Users\\\\blake\\\\Documents\\\\rlcsseason9\\\\RLCS Season 9\\\\Rival Series\\\\North America\\\\Week 2\\\\M4 - Charlotte Phoenix vs Absolute Leverage\\\\3EC665054F24C2FCB6495A9E4A2A1F1A.replay',\n",
       " 'C:\\\\Users\\\\blake\\\\Documents\\\\rlcsseason9\\\\RLCS Season 9\\\\Rival Series\\\\North America\\\\Week 2\\\\M4 - Charlotte Phoenix vs Absolute Leverage\\\\A99EAD9B47D521FDCA9342853CBBD963.replay',\n",
       " 'C:\\\\Users\\\\blake\\\\Documents\\\\rlcsseason9\\\\RLCS Season 9\\\\Rival Series\\\\North America\\\\Week 2\\\\M4 - Charlotte Phoenix vs Absolute Leverage\\\\E503724C421E48627F3958BE8A26A022.replay',\n",
       " 'C:\\\\Users\\\\blake\\\\Documents\\\\rlcsseason9\\\\RLCS Season 9\\\\Rival Series\\\\North America\\\\Week 2 B-Stream\\\\M1 - Monkey Business vs 72 PC\\\\51F6FB8A4023E497070643A2519B0AF2.replay',\n",
       " 'C:\\\\Users\\\\blake\\\\Documents\\\\rlcsseason9\\\\RLCS Season 9\\\\Rival Series\\\\North America\\\\Week 2 B-Stream\\\\M1 - Monkey Business vs 72 PC\\\\7668F07D4FFB4A3C2EB39EB83EBD8544.replay',\n",
       " 'C:\\\\Users\\\\blake\\\\Documents\\\\rlcsseason9\\\\RLCS Season 9\\\\Rival Series\\\\North America\\\\Week 2 B-Stream\\\\M1 - Monkey Business vs 72 PC\\\\B05D00CF42A61436D69396BDB05A73CF.replay',\n",
       " 'C:\\\\Users\\\\blake\\\\Documents\\\\rlcsseason9\\\\RLCS Season 9\\\\Rival Series\\\\North America\\\\Week 2 B-Stream\\\\M1 - Monkey Business vs 72 PC\\\\BCBCF5B346CDAE9D5EA614ABEA962242.replay',\n",
       " 'C:\\\\Users\\\\blake\\\\Documents\\\\rlcsseason9\\\\RLCS Season 9\\\\Rival Series\\\\North America\\\\Week 2 B-Stream\\\\M1 - Monkey Business vs 72 PC\\\\DBFF09F64111E14B04534C876411DA8A.replay',\n",
       " 'C:\\\\Users\\\\blake\\\\Documents\\\\rlcsseason9\\\\RLCS Season 9\\\\Rival Series\\\\North America\\\\Week 2 B-Stream\\\\M2 - Warriors vs Mirage\\\\769F1C0143079A739DFC2BA039CC1978.replay',\n",
       " 'C:\\\\Users\\\\blake\\\\Documents\\\\rlcsseason9\\\\RLCS Season 9\\\\Rival Series\\\\North America\\\\Week 2 B-Stream\\\\M2 - Warriors vs Mirage\\\\93A093794A822A46DC9C6FBAA936DD1B.replay',\n",
       " 'C:\\\\Users\\\\blake\\\\Documents\\\\rlcsseason9\\\\RLCS Season 9\\\\Rival Series\\\\North America\\\\Week 2 B-Stream\\\\M2 - Warriors vs Mirage\\\\A9709345451541E79CE58BB5A7436DCF.replay',\n",
       " 'C:\\\\Users\\\\blake\\\\Documents\\\\rlcsseason9\\\\RLCS Season 9\\\\Rival Series\\\\North America\\\\Week 2 B-Stream\\\\M3 - Chaos E.C. vs Stromboli\\\\A39387BD435ECF6688D7CDA95BE2A504.replay',\n",
       " 'C:\\\\Users\\\\blake\\\\Documents\\\\rlcsseason9\\\\RLCS Season 9\\\\Rival Series\\\\North America\\\\Week 2 B-Stream\\\\M3 - Chaos E.C. vs Stromboli\\\\EDAE9EC44B5F29798D8759A1CFDCE963.replay',\n",
       " 'C:\\\\Users\\\\blake\\\\Documents\\\\rlcsseason9\\\\RLCS Season 9\\\\Rival Series\\\\North America\\\\Week 2 B-Stream\\\\M3 - Chaos E.C. vs Stromboli\\\\F6111D67428EADD6CC4319906967A005.replay',\n",
       " 'C:\\\\Users\\\\blake\\\\Documents\\\\rlcsseason9\\\\RLCS Season 9\\\\Rival Series\\\\North America\\\\Week 2 B-Stream\\\\M3 - Chaos E.C. vs Stromboli\\\\FA1BAAF14632F8853237CB906ADF4B19.replay',\n",
       " 'C:\\\\Users\\\\blake\\\\Documents\\\\rlcsseason9\\\\RLCS Season 9\\\\Rival Series\\\\North America\\\\Week 3\\\\M1 - Chaos EC vs RBG Esports\\\\19EE1205456856D3CD5216897E466737.replay',\n",
       " 'C:\\\\Users\\\\blake\\\\Documents\\\\rlcsseason9\\\\RLCS Season 9\\\\Rival Series\\\\North America\\\\Week 3\\\\M1 - Chaos EC vs RBG Esports\\\\2E95E9B84E25D4234EFB41876571F6EB.replay',\n",
       " 'C:\\\\Users\\\\blake\\\\Documents\\\\rlcsseason9\\\\RLCS Season 9\\\\Rival Series\\\\North America\\\\Week 3\\\\M1 - Chaos EC vs RBG Esports\\\\810DC55F4DD5FDDCB4E3ECBD8B24B0BE.replay',\n",
       " 'C:\\\\Users\\\\blake\\\\Documents\\\\rlcsseason9\\\\RLCS Season 9\\\\Rival Series\\\\North America\\\\Week 3\\\\M1 - Chaos EC vs RBG Esports\\\\E1A1C1754859E0FE511BF1921D2D8E9B.replay',\n",
       " 'C:\\\\Users\\\\blake\\\\Documents\\\\rlcsseason9\\\\RLCS Season 9\\\\Rival Series\\\\North America\\\\Week 3\\\\M2 - Mirage vs Omni Nation\\\\0EEBE2E84C3CBADDF0E0018458EC16CF.replay',\n",
       " 'C:\\\\Users\\\\blake\\\\Documents\\\\rlcsseason9\\\\RLCS Season 9\\\\Rival Series\\\\North America\\\\Week 3\\\\M2 - Mirage vs Omni Nation\\\\4DE27B5A4E254C6D7768A5AB61492692.replay',\n",
       " 'C:\\\\Users\\\\blake\\\\Documents\\\\rlcsseason9\\\\RLCS Season 9\\\\Rival Series\\\\North America\\\\Week 3\\\\M2 - Mirage vs Omni Nation\\\\E2ED84F94FA6BFD3BEE00CAEDDC9E22F.replay',\n",
       " 'C:\\\\Users\\\\blake\\\\Documents\\\\rlcsseason9\\\\RLCS Season 9\\\\Rival Series\\\\North America\\\\Week 3\\\\M3 - Warriors International vs Absolute Leverage\\\\449F1ACC4494CF5B5427DBAD260B6CD2.replay',\n",
       " 'C:\\\\Users\\\\blake\\\\Documents\\\\rlcsseason9\\\\RLCS Season 9\\\\Rival Series\\\\North America\\\\Week 3\\\\M3 - Warriors International vs Absolute Leverage\\\\94F03C7C4714E8742493A6A8BE61A574.replay',\n",
       " 'C:\\\\Users\\\\blake\\\\Documents\\\\rlcsseason9\\\\RLCS Season 9\\\\Rival Series\\\\North America\\\\Week 3\\\\M3 - Warriors International vs Absolute Leverage\\\\FF186A6D49110A6E20AFFAA29E498C7E.replay',\n",
       " 'C:\\\\Users\\\\blake\\\\Documents\\\\rlcsseason9\\\\RLCS Season 9\\\\Rival Series\\\\North America\\\\Week 3\\\\M4 - Charlotte Phoenix vs Stromboli\\\\2A2C76C84465A2CDFC91469B85129AAF.replay',\n",
       " 'C:\\\\Users\\\\blake\\\\Documents\\\\rlcsseason9\\\\RLCS Season 9\\\\Rival Series\\\\North America\\\\Week 3\\\\M4 - Charlotte Phoenix vs Stromboli\\\\7AB2BA03440F70FD1EC695B9CB6BB523.replay',\n",
       " 'C:\\\\Users\\\\blake\\\\Documents\\\\rlcsseason9\\\\RLCS Season 9\\\\Rival Series\\\\North America\\\\Week 3\\\\M4 - Charlotte Phoenix vs Stromboli\\\\D4FCAB61432FADA136C1FB984E31F0F8.replay',\n",
       " 'C:\\\\Users\\\\blake\\\\Documents\\\\rlcsseason9\\\\RLCS Season 9\\\\Rival Series\\\\North America\\\\Week 3 B-Stream\\\\M1 - CLT Phoenix vs Mirage\\\\4C96F58B4275846D6DEE0583FCFE0275.replay',\n",
       " 'C:\\\\Users\\\\blake\\\\Documents\\\\rlcsseason9\\\\RLCS Season 9\\\\Rival Series\\\\North America\\\\Week 3 B-Stream\\\\M1 - CLT Phoenix vs Mirage\\\\4DD2F9BE4E0055F9085830B57494F960.replay',\n",
       " 'C:\\\\Users\\\\blake\\\\Documents\\\\rlcsseason9\\\\RLCS Season 9\\\\Rival Series\\\\North America\\\\Week 3 B-Stream\\\\M1 - CLT Phoenix vs Mirage\\\\68C7315949BCA2B548CB64830ED75339.replay',\n",
       " 'C:\\\\Users\\\\blake\\\\Documents\\\\rlcsseason9\\\\RLCS Season 9\\\\Rival Series\\\\North America\\\\Week 3 B-Stream\\\\M2 - Omni Nation vs Absolute Leverage\\\\1CCA5BEB46CC3D2909CB27B5B1519110.replay',\n",
       " 'C:\\\\Users\\\\blake\\\\Documents\\\\rlcsseason9\\\\RLCS Season 9\\\\Rival Series\\\\North America\\\\Week 3 B-Stream\\\\M2 - Omni Nation vs Absolute Leverage\\\\1F1C66944DB20F64040F538C2924FCB6.replay',\n",
       " 'C:\\\\Users\\\\blake\\\\Documents\\\\rlcsseason9\\\\RLCS Season 9\\\\Rival Series\\\\North America\\\\Week 3 B-Stream\\\\M2 - Omni Nation vs Absolute Leverage\\\\851DE187438BA0AE8FF06E942A5BAE14.replay',\n",
       " 'C:\\\\Users\\\\blake\\\\Documents\\\\rlcsseason9\\\\RLCS Season 9\\\\Rival Series\\\\North America\\\\Week 3 B-Stream\\\\M2 - Omni Nation vs Absolute Leverage\\\\EF5153FD4FA4A76CC9D73D939A49EAC2.replay',\n",
       " 'C:\\\\Users\\\\blake\\\\Documents\\\\rlcsseason9\\\\RLCS Season 9\\\\Rival Series\\\\North America\\\\Week 3 B-Stream\\\\M3 - Stromboli vs RBG Esports\\\\40A6BD654E278D00FF88FC9A40EDA57C.replay',\n",
       " 'C:\\\\Users\\\\blake\\\\Documents\\\\rlcsseason9\\\\RLCS Season 9\\\\Rival Series\\\\North America\\\\Week 3 B-Stream\\\\M3 - Stromboli vs RBG Esports\\\\87BF7A544844E1DE7008C683EB624AE6.replay',\n",
       " 'C:\\\\Users\\\\blake\\\\Documents\\\\rlcsseason9\\\\RLCS Season 9\\\\Rival Series\\\\North America\\\\Week 3 B-Stream\\\\M3 - Stromboli vs RBG Esports\\\\C7572E304CDE3701618EF79A06FC3828.replay',\n",
       " 'C:\\\\Users\\\\blake\\\\Documents\\\\rlcsseason9\\\\RLCS Season 9\\\\Rival Series\\\\North America\\\\Week 3 B-Stream\\\\M3 - Stromboli vs RBG Esports\\\\D425C9EF466C34B6EAB08EBA3BF5674A.replay',\n",
       " 'C:\\\\Users\\\\blake\\\\Documents\\\\rlcsseason9\\\\RLCS Season 9\\\\Rival Series\\\\North America\\\\Week 3 B-Stream\\\\M3 - Stromboli vs RBG Esports\\\\E10F672340EAC3090E97E4BF910F4E97.replay',\n",
       " 'C:\\\\Users\\\\blake\\\\Documents\\\\rlcsseason9\\\\RLCS Season 9\\\\Rival Series\\\\North America\\\\Week 4\\\\M1 - 72 Pin Connector vs RBG Esports\\\\0898A23F4202D8207C437884CAE10EFD.replay',\n",
       " 'C:\\\\Users\\\\blake\\\\Documents\\\\rlcsseason9\\\\RLCS Season 9\\\\Rival Series\\\\North America\\\\Week 4\\\\M1 - 72 Pin Connector vs RBG Esports\\\\2DA9063741A4AC57077D50B6A60AC88E.replay',\n",
       " 'C:\\\\Users\\\\blake\\\\Documents\\\\rlcsseason9\\\\RLCS Season 9\\\\Rival Series\\\\North America\\\\Week 4\\\\M1 - 72 Pin Connector vs RBG Esports\\\\B2595FB74337CE68396D1F883347B2A1.replay',\n",
       " 'C:\\\\Users\\\\blake\\\\Documents\\\\rlcsseason9\\\\RLCS Season 9\\\\Rival Series\\\\North America\\\\Week 4\\\\M2 - Chaos EC vs Warriors International\\\\11BAA237445997D4D4461991B4125168.replay',\n",
       " 'C:\\\\Users\\\\blake\\\\Documents\\\\rlcsseason9\\\\RLCS Season 9\\\\Rival Series\\\\North America\\\\Week 4\\\\M2 - Chaos EC vs Warriors International\\\\231A7EC54C7D06F2307D6298D5507A7D.replay',\n",
       " 'C:\\\\Users\\\\blake\\\\Documents\\\\rlcsseason9\\\\RLCS Season 9\\\\Rival Series\\\\North America\\\\Week 4\\\\M2 - Chaos EC vs Warriors International\\\\5208AE554E39DC5880AB6E99C064BB1C.replay',\n",
       " 'C:\\\\Users\\\\blake\\\\Documents\\\\rlcsseason9\\\\RLCS Season 9\\\\Rival Series\\\\North America\\\\Week 4\\\\M2 - Chaos EC vs Warriors International\\\\FC7F35434529F482C26DFFA43D5B671D.replay',\n",
       " 'C:\\\\Users\\\\blake\\\\Documents\\\\rlcsseason9\\\\RLCS Season 9\\\\Rival Series\\\\North America\\\\Week 4\\\\M2 - Chaos EC vs Warriors International\\\\FF853A794AE17EA66C6EAE83FF669D60.replay',\n",
       " 'C:\\\\Users\\\\blake\\\\Documents\\\\rlcsseason9\\\\RLCS Season 9\\\\Rival Series\\\\North America\\\\Week 4\\\\M3 - Absolute Leverage vs Monkey Business\\\\415B913140C8722DEF96A2ABC1752A73.replay',\n",
       " 'C:\\\\Users\\\\blake\\\\Documents\\\\rlcsseason9\\\\RLCS Season 9\\\\Rival Series\\\\North America\\\\Week 4\\\\M3 - Absolute Leverage vs Monkey Business\\\\C3B2ED414C70C3297EF3548E18F76CE6.replay',\n",
       " 'C:\\\\Users\\\\blake\\\\Documents\\\\rlcsseason9\\\\RLCS Season 9\\\\Rival Series\\\\North America\\\\Week 4\\\\M3 - Absolute Leverage vs Monkey Business\\\\DCFDCBB24A96113D9472A4AC01008FBD.replay',\n",
       " 'C:\\\\Users\\\\blake\\\\Documents\\\\rlcsseason9\\\\RLCS Season 9\\\\Rival Series\\\\North America\\\\Week 4\\\\M4 - Stromboli vs Mirage\\\\0BB1F87A4AA0C739CB4121A8C88CDC75.replay',\n",
       " 'C:\\\\Users\\\\blake\\\\Documents\\\\rlcsseason9\\\\RLCS Season 9\\\\Rival Series\\\\North America\\\\Week 4\\\\M4 - Stromboli vs Mirage\\\\0CF78D4E49113DD7C11E31A962E0B670.replay',\n",
       " 'C:\\\\Users\\\\blake\\\\Documents\\\\rlcsseason9\\\\RLCS Season 9\\\\Rival Series\\\\North America\\\\Week 4\\\\M4 - Stromboli vs Mirage\\\\3BAD531549ADA967F4E2D589444A45F5.replay',\n",
       " 'C:\\\\Users\\\\blake\\\\Documents\\\\rlcsseason9\\\\RLCS Season 9\\\\Rival Series\\\\North America\\\\Week 4\\\\M4 - Stromboli vs Mirage\\\\7797A12B4386B8E4E2F3D18DD340B110.replay',\n",
       " 'C:\\\\Users\\\\blake\\\\Documents\\\\rlcsseason9\\\\RLCS Season 9\\\\Rival Series\\\\North America\\\\Week 4\\\\M4 - Stromboli vs Mirage\\\\EAD52EB2472F23B138DAEF919BBE9A81.replay',\n",
       " 'C:\\\\Users\\\\blake\\\\Documents\\\\rlcsseason9\\\\RLCS Season 9\\\\Rival Series\\\\North America\\\\Week 4 B-Stream\\\\M1 - Chaos E.C. vs Mirage\\\\50E7F8E64D41570D3C8FF5921613CB56.replay',\n",
       " 'C:\\\\Users\\\\blake\\\\Documents\\\\rlcsseason9\\\\RLCS Season 9\\\\Rival Series\\\\North America\\\\Week 4 B-Stream\\\\M1 - Chaos E.C. vs Mirage\\\\678983D34AB2D5DB26A006A10A72A1CE.replay',\n",
       " 'C:\\\\Users\\\\blake\\\\Documents\\\\rlcsseason9\\\\RLCS Season 9\\\\Rival Series\\\\North America\\\\Week 4 B-Stream\\\\M1 - Chaos E.C. vs Mirage\\\\FB4501FD4FEF81ECDF01C0B67E61B1FB.replay',\n",
       " 'C:\\\\Users\\\\blake\\\\Documents\\\\rlcsseason9\\\\RLCS Season 9\\\\Rival Series\\\\North America\\\\Week 4 B-Stream\\\\M2 - Warriors intl vs RBG Esports\\\\10BE61BD4128D66B25C63EBF1F327073.replay',\n",
       " 'C:\\\\Users\\\\blake\\\\Documents\\\\rlcsseason9\\\\RLCS Season 9\\\\Rival Series\\\\North America\\\\Week 4 B-Stream\\\\M2 - Warriors intl vs RBG Esports\\\\279E51FD40D08BEBDEB054946930C1BA.replay',\n",
       " 'C:\\\\Users\\\\blake\\\\Documents\\\\rlcsseason9\\\\RLCS Season 9\\\\Rival Series\\\\North America\\\\Week 4 B-Stream\\\\M2 - Warriors intl vs RBG Esports\\\\6639A4BA4D099A4DBC95FDBC4A3BCF3A.replay',\n",
       " 'C:\\\\Users\\\\blake\\\\Documents\\\\rlcsseason9\\\\RLCS Season 9\\\\Rival Series\\\\North America\\\\Week 4 B-Stream\\\\M2 - Warriors intl vs RBG Esports\\\\Server restart - game starts @2_02.replay',\n",
       " 'C:\\\\Users\\\\blake\\\\Documents\\\\rlcsseason9\\\\RLCS Season 9\\\\Rival Series\\\\North America\\\\Week 4 B-Stream\\\\M3 - Omni Nation vs Mnky Business\\\\154EB05D40565614D1024295A61AD34D.replay',\n",
       " 'C:\\\\Users\\\\blake\\\\Documents\\\\rlcsseason9\\\\RLCS Season 9\\\\Rival Series\\\\North America\\\\Week 4 B-Stream\\\\M3 - Omni Nation vs Mnky Business\\\\4A668EE24CB1929D626E3DBCB7B54B3E.replay',\n",
       " 'C:\\\\Users\\\\blake\\\\Documents\\\\rlcsseason9\\\\RLCS Season 9\\\\Rival Series\\\\North America\\\\Week 4 B-Stream\\\\M3 - Omni Nation vs Mnky Business\\\\6AB2BE634F59155040E7B7A25060953D.replay',\n",
       " 'C:\\\\Users\\\\blake\\\\Documents\\\\rlcsseason9\\\\RLCS Season 9\\\\Rival Series\\\\North America\\\\Week 4 B-Stream\\\\M3 - Omni Nation vs Mnky Business\\\\6D6D24464A05F34A8AECEEA3329894AB.replay',\n",
       " 'C:\\\\Users\\\\blake\\\\Documents\\\\rlcsseason9\\\\RLCS Season 9\\\\Rival Series\\\\North America\\\\Week 4 B-Stream\\\\M3 - Omni Nation vs Mnky Business\\\\779AFD29444F029CC0F4EBBA5C493C9A.replay',\n",
       " 'C:\\\\Users\\\\blake\\\\Documents\\\\rlcsseason9\\\\RLCS Season 9\\\\Rival Series\\\\North America\\\\Week 5\\\\M1 - Charlotte Phoenix vs Omni Nation\\\\B756C2B5460BF97507972AB911BE4D33.replay',\n",
       " 'C:\\\\Users\\\\blake\\\\Documents\\\\rlcsseason9\\\\RLCS Season 9\\\\Rival Series\\\\North America\\\\Week 5\\\\M1 - Charlotte Phoenix vs Omni Nation\\\\C3846227408F75A80B6081953086DA7F.replay',\n",
       " 'C:\\\\Users\\\\blake\\\\Documents\\\\rlcsseason9\\\\RLCS Season 9\\\\Rival Series\\\\North America\\\\Week 5\\\\M1 - Charlotte Phoenix vs Omni Nation\\\\EB33A9BA47F77F9F8E7BA3B9274C2CBB.replay',\n",
       " 'C:\\\\Users\\\\blake\\\\Documents\\\\rlcsseason9\\\\RLCS Season 9\\\\Rival Series\\\\North America\\\\Week 5\\\\M2 - Warriors International vs 72 Pin Connector\\\\37836DD94EA118A4F353C0BE43AE4D92.replay',\n",
       " 'C:\\\\Users\\\\blake\\\\Documents\\\\rlcsseason9\\\\RLCS Season 9\\\\Rival Series\\\\North America\\\\Week 5\\\\M2 - Warriors International vs 72 Pin Connector\\\\9D668FC74A6EAE4AA1FC6EA4B5FC192F.replay',\n",
       " 'C:\\\\Users\\\\blake\\\\Documents\\\\rlcsseason9\\\\RLCS Season 9\\\\Rival Series\\\\North America\\\\Week 5\\\\M2 - Warriors International vs 72 Pin Connector\\\\A5CD96584257EA3D59B02EAB8DA41B45.replay',\n",
       " 'C:\\\\Users\\\\blake\\\\Documents\\\\rlcsseason9\\\\RLCS Season 9\\\\Rival Series\\\\North America\\\\Week 5\\\\M2 - Warriors International vs 72 Pin Connector\\\\C493D87244A9DD38B3FEEAB4D4119A41.replay',\n",
       " 'C:\\\\Users\\\\blake\\\\Documents\\\\rlcsseason9\\\\RLCS Season 9\\\\Rival Series\\\\North America\\\\Week 5\\\\M2 - Warriors International vs 72 Pin Connector\\\\FBD9A1C341E9C03E1A7C00BD66951E8B.replay',\n",
       " 'C:\\\\Users\\\\blake\\\\Documents\\\\rlcsseason9\\\\RLCS Season 9\\\\Rival Series\\\\North America\\\\Week 5\\\\M3 - Monkey Business vs RBG Esports\\\\4B9C528842FC2FC0303333BA14CCEF91.replay',\n",
       " 'C:\\\\Users\\\\blake\\\\Documents\\\\rlcsseason9\\\\RLCS Season 9\\\\Rival Series\\\\North America\\\\Week 5\\\\M3 - Monkey Business vs RBG Esports\\\\619F68E1405BC935CABB378D3B449CE1.replay',\n",
       " 'C:\\\\Users\\\\blake\\\\Documents\\\\rlcsseason9\\\\RLCS Season 9\\\\Rival Series\\\\North America\\\\Week 5\\\\M3 - Monkey Business vs RBG Esports\\\\AD5672A64153AF58E6BF8B8107A1F4EB.replay',\n",
       " 'C:\\\\Users\\\\blake\\\\Documents\\\\rlcsseason9\\\\RLCS Season 9\\\\Rival Series\\\\North America\\\\Week 5\\\\M4 - Absolute Leverage vs Mirage\\\\2D14CDFB428B3FFC5BF86D8962419CEA.replay',\n",
       " 'C:\\\\Users\\\\blake\\\\Documents\\\\rlcsseason9\\\\RLCS Season 9\\\\Rival Series\\\\North America\\\\Week 5\\\\M4 - Absolute Leverage vs Mirage\\\\A03AE9444464B843D8B72C9D74AB254D.replay',\n",
       " 'C:\\\\Users\\\\blake\\\\Documents\\\\rlcsseason9\\\\RLCS Season 9\\\\Rival Series\\\\North America\\\\Week 5\\\\M4 - Absolute Leverage vs Mirage\\\\AE4E23444B81D4896B6397BE97A42A0D.replay',\n",
       " 'C:\\\\Users\\\\blake\\\\Documents\\\\rlcsseason9\\\\RLCS Season 9\\\\Rival Series\\\\North America\\\\Week 5\\\\M4 - Absolute Leverage vs Mirage\\\\BC8AA365400B752EF3F0ACB875A407FC.replay',\n",
       " 'C:\\\\Users\\\\blake\\\\Documents\\\\rlcsseason9\\\\RLCS Season 9\\\\Rival Series\\\\North America\\\\Week 5 B-Stream\\\\M1 - Warriors vs Stromboli\\\\2E0B9CBB4DC4C1043CFF55B593BAB828.replay',\n",
       " 'C:\\\\Users\\\\blake\\\\Documents\\\\rlcsseason9\\\\RLCS Season 9\\\\Rival Series\\\\North America\\\\Week 5 B-Stream\\\\M1 - Warriors vs Stromboli\\\\4F6A985444B025910AD1F0B750F852A2.replay',\n",
       " 'C:\\\\Users\\\\blake\\\\Documents\\\\rlcsseason9\\\\RLCS Season 9\\\\Rival Series\\\\North America\\\\Week 5 B-Stream\\\\M1 - Warriors vs Stromboli\\\\562706CD447A33F5DCBCC6A2D7D74A95.replay',\n",
       " 'C:\\\\Users\\\\blake\\\\Documents\\\\rlcsseason9\\\\RLCS Season 9\\\\Rival Series\\\\North America\\\\Week 5 B-Stream\\\\M1 - Warriors vs Stromboli\\\\DA5F1DE849CB150F9ADEA3A0C2D4906F.replay',\n",
       " 'C:\\\\Users\\\\blake\\\\Documents\\\\rlcsseason9\\\\RLCS Season 9\\\\Rival Series\\\\North America\\\\Week 5 B-Stream\\\\M2 - Absolute Leverage vs RBG Esports\\\\0A546EA4413B5612AECE0BBCEBC75706.replay',\n",
       " 'C:\\\\Users\\\\blake\\\\Documents\\\\rlcsseason9\\\\RLCS Season 9\\\\Rival Series\\\\North America\\\\Week 5 B-Stream\\\\M2 - Absolute Leverage vs RBG Esports\\\\300EA2414176321384BD91A8F59719DE.replay',\n",
       " 'C:\\\\Users\\\\blake\\\\Documents\\\\rlcsseason9\\\\RLCS Season 9\\\\Rival Series\\\\North America\\\\Week 5 B-Stream\\\\M2 - Absolute Leverage vs RBG Esports\\\\5E1A856A439E50C9BEF1A19ED6311A95.replay',\n",
       " 'C:\\\\Users\\\\blake\\\\Documents\\\\rlcsseason9\\\\RLCS Season 9\\\\Rival Series\\\\North America\\\\Week 5 B-Stream\\\\M2 - Absolute Leverage vs RBG Esports\\\\6CBF9AFE4D27BFFEB6E033BF5A59878A.replay',\n",
       " 'C:\\\\Users\\\\blake\\\\Documents\\\\rlcsseason9\\\\RLCS Season 9\\\\Rival Series\\\\North America\\\\Week 5 B-Stream\\\\M3 - Chaos E.C. vs Omni Nation\\\\3C3C0F2947B0EAF117178C86F0ECEF83.replay',\n",
       " 'C:\\\\Users\\\\blake\\\\Documents\\\\rlcsseason9\\\\RLCS Season 9\\\\Rival Series\\\\North America\\\\Week 5 B-Stream\\\\M3 - Chaos E.C. vs Omni Nation\\\\6FF7459149CACAA91D3132A0F4A8BD30.replay',\n",
       " 'C:\\\\Users\\\\blake\\\\Documents\\\\rlcsseason9\\\\RLCS Season 9\\\\Rival Series\\\\North America\\\\Week 5 B-Stream\\\\M3 - Chaos E.C. vs Omni Nation\\\\8661045647393B9A97C442924D00EA0E.replay',\n",
       " 'C:\\\\Users\\\\blake\\\\Documents\\\\rlcsseason9\\\\RLCS Season 9\\\\Rival Series\\\\North America\\\\Week 5 B-Stream\\\\M3 - Chaos E.C. vs Omni Nation\\\\8A8D87F842A6AE65B419BBB35CB28195.replay',\n",
       " 'C:\\\\Users\\\\blake\\\\Documents\\\\rlcsseason9\\\\RLCS Season 9\\\\Rival Series\\\\North America\\\\Week 5 B-Stream\\\\M4 - Charlotte Phoenix vs 72 Pin Connector\\\\04C56F034F0690E36EC2B78797EB2B4B.replay',\n",
       " 'C:\\\\Users\\\\blake\\\\Documents\\\\rlcsseason9\\\\RLCS Season 9\\\\Rival Series\\\\North America\\\\Week 5 B-Stream\\\\M4 - Charlotte Phoenix vs 72 Pin Connector\\\\6698207C4E9B87B4327F77B036450683.replay',\n",
       " 'C:\\\\Users\\\\blake\\\\Documents\\\\rlcsseason9\\\\RLCS Season 9\\\\Rival Series\\\\North America\\\\Week 5 B-Stream\\\\M4 - Charlotte Phoenix vs 72 Pin Connector\\\\85BA993C4C20041F4CBF7280F0FB9038.replay',\n",
       " 'C:\\\\Users\\\\blake\\\\Documents\\\\rlcsseason9\\\\RLCS Season 9\\\\Rival Series\\\\North America\\\\Week 6\\\\M1 - Charlotte Phoenix vs Warriors International\\\\4B8E455E468FB6590DC33F922076D096.replay',\n",
       " 'C:\\\\Users\\\\blake\\\\Documents\\\\rlcsseason9\\\\RLCS Season 9\\\\Rival Series\\\\North America\\\\Week 6\\\\M1 - Charlotte Phoenix vs Warriors International\\\\72E518EB406D10A0BAE279802DA5D796.replay',\n",
       " 'C:\\\\Users\\\\blake\\\\Documents\\\\rlcsseason9\\\\RLCS Season 9\\\\Rival Series\\\\North America\\\\Week 6\\\\M1 - Charlotte Phoenix vs Warriors International\\\\94CC179A4FF1C2280400C28BD2976141.replay',\n",
       " 'C:\\\\Users\\\\blake\\\\Documents\\\\rlcsseason9\\\\RLCS Season 9\\\\Rival Series\\\\North America\\\\Week 6\\\\M2 - Chaos EC vs Monkey Business\\\\75FDF2334EDC69436D968BB51157E835.replay',\n",
       " 'C:\\\\Users\\\\blake\\\\Documents\\\\rlcsseason9\\\\RLCS Season 9\\\\Rival Series\\\\North America\\\\Week 6\\\\M2 - Chaos EC vs Monkey Business\\\\8D2082D14356BC334D6DD3B09A064ED3.replay',\n",
       " 'C:\\\\Users\\\\blake\\\\Documents\\\\rlcsseason9\\\\RLCS Season 9\\\\Rival Series\\\\North America\\\\Week 6\\\\M2 - Chaos EC vs Monkey Business\\\\BF9FBB1B4F8C519085F16080AC2827CB.replay',\n",
       " 'C:\\\\Users\\\\blake\\\\Documents\\\\rlcsseason9\\\\RLCS Season 9\\\\Rival Series\\\\North America\\\\Week 6\\\\M2 - Chaos EC vs Monkey Business\\\\FE2B3D55481A8FA3578D67BC3AE3940A.replay',\n",
       " 'C:\\\\Users\\\\blake\\\\Documents\\\\rlcsseason9\\\\RLCS Season 9\\\\Rival Series\\\\North America\\\\Week 6\\\\M3 - Absolute Leverage vs 72 Pin Connector\\\\5C8A93604FEDAB873D5477A7ED37CE1B.replay',\n",
       " 'C:\\\\Users\\\\blake\\\\Documents\\\\rlcsseason9\\\\RLCS Season 9\\\\Rival Series\\\\North America\\\\Week 6\\\\M3 - Absolute Leverage vs 72 Pin Connector\\\\68F111CE433C16ED2E00959CD4A70965.replay',\n",
       " 'C:\\\\Users\\\\blake\\\\Documents\\\\rlcsseason9\\\\RLCS Season 9\\\\Rival Series\\\\North America\\\\Week 6\\\\M3 - Absolute Leverage vs 72 Pin Connector\\\\A68BBBE543C8E3F004E501B8BC58CB06.replay',\n",
       " 'C:\\\\Users\\\\blake\\\\Documents\\\\rlcsseason9\\\\RLCS Season 9\\\\Rival Series\\\\North America\\\\Week 6\\\\M3 - Absolute Leverage vs 72 Pin Connector\\\\EFCEA24B4346ECD293A034816226EA03.replay',\n",
       " 'C:\\\\Users\\\\blake\\\\Documents\\\\rlcsseason9\\\\RLCS Season 9\\\\Rival Series\\\\North America\\\\Week 6\\\\M4 - Stromboli vs Omni Nation\\\\18D88AE3416C41D1FEE865A5A8C71209.replay',\n",
       " 'C:\\\\Users\\\\blake\\\\Documents\\\\rlcsseason9\\\\RLCS Season 9\\\\Rival Series\\\\North America\\\\Week 6\\\\M4 - Stromboli vs Omni Nation\\\\664F77704CA448577B92E19CFB841A37.replay',\n",
       " 'C:\\\\Users\\\\blake\\\\Documents\\\\rlcsseason9\\\\RLCS Season 9\\\\Rival Series\\\\North America\\\\Week 6\\\\M4 - Stromboli vs Omni Nation\\\\6B0DBF7C43B0CECDACB262A681DBAA6E.replay',\n",
       " 'C:\\\\Users\\\\blake\\\\Documents\\\\rlcsseason9\\\\RLCS Season 9\\\\Rival Series\\\\North America\\\\Week 6\\\\M4 - Stromboli vs Omni Nation\\\\9EA6129F4E88F72ED10234A750803293.replay',\n",
       " 'C:\\\\Users\\\\blake\\\\Documents\\\\rlcsseason9\\\\RLCS Season 9\\\\Rival Series\\\\North America\\\\Week 6\\\\M4 - Stromboli vs Omni Nation\\\\ACC0B4D04331DAEB644F5C8B2E9F734F.replay',\n",
       " 'C:\\\\Users\\\\blake\\\\Documents\\\\rlcsseason9\\\\RLCS Season 9\\\\Rival Series\\\\North America\\\\Week 6 B-Stream\\\\M1 - CLT Phoenix vs RBG Esports\\\\00C5E7864D72DF6F0DC20CA4C2217EB1.replay',\n",
       " 'C:\\\\Users\\\\blake\\\\Documents\\\\rlcsseason9\\\\RLCS Season 9\\\\Rival Series\\\\North America\\\\Week 6 B-Stream\\\\M1 - CLT Phoenix vs RBG Esports\\\\D3E4C23647C4808A3E55BEA840795707.replay',\n",
       " 'C:\\\\Users\\\\blake\\\\Documents\\\\rlcsseason9\\\\RLCS Season 9\\\\Rival Series\\\\North America\\\\Week 6 B-Stream\\\\M1 - CLT Phoenix vs RBG Esports\\\\F3C7AFEF44D2A92987DCAD8E211E1539.replay',\n",
       " 'C:\\\\Users\\\\blake\\\\Documents\\\\rlcsseason9\\\\RLCS Season 9\\\\Rival Series\\\\North America\\\\Week 6 B-Stream\\\\M2 - 72 Pin Connector vs Stromboli\\\\029010AB47F0C456C249509ED39A6130.replay',\n",
       " 'C:\\\\Users\\\\blake\\\\Documents\\\\rlcsseason9\\\\RLCS Season 9\\\\Rival Series\\\\North America\\\\Week 6 B-Stream\\\\M2 - 72 Pin Connector vs Stromboli\\\\49BB0FA9406373C003D21684EBDB3EF8.replay',\n",
       " 'C:\\\\Users\\\\blake\\\\Documents\\\\rlcsseason9\\\\RLCS Season 9\\\\Rival Series\\\\North America\\\\Week 6 B-Stream\\\\M2 - 72 Pin Connector vs Stromboli\\\\A5C6A53A4E3B333E4FEE05A1CE053BDE.replay',\n",
       " 'C:\\\\Users\\\\blake\\\\Documents\\\\rlcsseason9\\\\RLCS Season 9\\\\Rival Series\\\\North America\\\\Week 6 B-Stream\\\\M2 - 72 Pin Connector vs Stromboli\\\\DCB7CCB442D0818ABA149599F35A9B01.replay',\n",
       " 'C:\\\\Users\\\\blake\\\\Documents\\\\rlcsseason9\\\\RLCS Season 9\\\\Rival Series\\\\North America\\\\Week 6 B-Stream\\\\M3 - Monky Business vs Mirage\\\\3A41F33845671FBA833256BA7EB5C12F.replay',\n",
       " 'C:\\\\Users\\\\blake\\\\Documents\\\\rlcsseason9\\\\RLCS Season 9\\\\Rival Series\\\\North America\\\\Week 6 B-Stream\\\\M3 - Monky Business vs Mirage\\\\3C0C7F834E08961CEA7763AEC966E304.replay',\n",
       " 'C:\\\\Users\\\\blake\\\\Documents\\\\rlcsseason9\\\\RLCS Season 9\\\\Rival Series\\\\North America\\\\Week 6 B-Stream\\\\M3 - Monky Business vs Mirage\\\\6CD1E13E4870A8D3BB8427AAA2E094A8.replay',\n",
       " 'C:\\\\Users\\\\blake\\\\Documents\\\\rlcsseason9\\\\RLCS Season 9\\\\Rival Series\\\\North America\\\\Week 6 B-Stream\\\\M3 - Monky Business vs Mirage\\\\A399338743DC37503CEDB7AC59384DEE.replay',\n",
       " 'C:\\\\Users\\\\blake\\\\Documents\\\\rlcsseason9\\\\RLCS Season 9\\\\Rival Series\\\\North America\\\\Week 6 B-Stream\\\\M3 - Monky Business vs Mirage\\\\DDAE7F3949B0BC4001B72D8861F84E6E.replay',\n",
       " 'C:\\\\Users\\\\blake\\\\Documents\\\\rlcsseason9\\\\RLCS Season 9\\\\Rival Series\\\\North America\\\\Week 6 B-Stream\\\\M4 - Chaos E.C. vs Absolute Leverage\\\\28BF35154F6FBBAAD67C958DE2AA66EF.replay',\n",
       " 'C:\\\\Users\\\\blake\\\\Documents\\\\rlcsseason9\\\\RLCS Season 9\\\\Rival Series\\\\North America\\\\Week 6 B-Stream\\\\M4 - Chaos E.C. vs Absolute Leverage\\\\D2236D8E448C44A683FE5E925696EF91.replay',\n",
       " 'C:\\\\Users\\\\blake\\\\Documents\\\\rlcsseason9\\\\RLCS Season 9\\\\Rival Series\\\\North America\\\\Week 6 B-Stream\\\\M4 - Chaos E.C. vs Absolute Leverage\\\\F024295F4AF0B8E1B9B57AA724C314B6.replay',\n",
       " 'C:\\\\Users\\\\blake\\\\Documents\\\\rlcsseason9\\\\RLCS Season 9\\\\Rival Series\\\\North America\\\\Week 7\\\\M1 - Warriors International vs Monkey Business\\\\5583D10345E2EEEF3C8DF08A371BAD4F.replay',\n",
       " 'C:\\\\Users\\\\blake\\\\Documents\\\\rlcsseason9\\\\RLCS Season 9\\\\Rival Series\\\\North America\\\\Week 7\\\\M1 - Warriors International vs Monkey Business\\\\9C04E1CF45863B88DF797D8089A77BE8.replay',\n",
       " 'C:\\\\Users\\\\blake\\\\Documents\\\\rlcsseason9\\\\RLCS Season 9\\\\Rival Series\\\\North America\\\\Week 7\\\\M1 - Warriors International vs Monkey Business\\\\DE80CC1149D5A1F2DA86CFA0E3CE5801.replay',\n",
       " 'C:\\\\Users\\\\blake\\\\Documents\\\\rlcsseason9\\\\RLCS Season 9\\\\Rival Series\\\\North America\\\\Week 7\\\\M1 - Warriors International vs Monkey Business\\\\E99E5D3145CA234F82A829A669CB8669.replay',\n",
       " 'C:\\\\Users\\\\blake\\\\Documents\\\\rlcsseason9\\\\RLCS Season 9\\\\Rival Series\\\\North America\\\\Week 7\\\\M2 - Omni Nation vs 72 Pin Connector\\\\79FD7201414D09A05628CBB19CDA4EAC.replay',\n",
       " 'C:\\\\Users\\\\blake\\\\Documents\\\\rlcsseason9\\\\RLCS Season 9\\\\Rival Series\\\\North America\\\\Week 7\\\\M2 - Omni Nation vs 72 Pin Connector\\\\9844F22A42D01D0DD466A38A9F3CC40F.replay',\n",
       " 'C:\\\\Users\\\\blake\\\\Documents\\\\rlcsseason9\\\\RLCS Season 9\\\\Rival Series\\\\North America\\\\Week 7\\\\M2 - Omni Nation vs 72 Pin Connector\\\\E0259BC44E5C9346D733D9B100B06C27.replay',\n",
       " 'C:\\\\Users\\\\blake\\\\Documents\\\\rlcsseason9\\\\RLCS Season 9\\\\Rival Series\\\\North America\\\\Week 7\\\\M3 - Mirage vs RBG Esports\\\\3283F1044BE742AC195F878D21165DCB.replay',\n",
       " 'C:\\\\Users\\\\blake\\\\Documents\\\\rlcsseason9\\\\RLCS Season 9\\\\Rival Series\\\\North America\\\\Week 7\\\\M3 - Mirage vs RBG Esports\\\\6B54996A4E88010446940D831BF2CA3F.replay',\n",
       " 'C:\\\\Users\\\\blake\\\\Documents\\\\rlcsseason9\\\\RLCS Season 9\\\\Rival Series\\\\North America\\\\Week 7\\\\M3 - Mirage vs RBG Esports\\\\7D5A04674D94FFDE4D3BA0820487EA11.replay',\n",
       " 'C:\\\\Users\\\\blake\\\\Documents\\\\rlcsseason9\\\\RLCS Season 9\\\\Rival Series\\\\North America\\\\Week 7\\\\M3 - Mirage vs RBG Esports\\\\8282B6D24F396CC3CDAFDDBCC27B3BC9.replay',\n",
       " 'C:\\\\Users\\\\blake\\\\Documents\\\\rlcsseason9\\\\RLCS Season 9\\\\Rival Series\\\\North America\\\\Week 7\\\\M3 - Mirage vs RBG Esports\\\\A61C78FE43AF3B10DBFADEAF398C929A.replay',\n",
       " 'C:\\\\Users\\\\blake\\\\Documents\\\\rlcsseason9\\\\RLCS Season 9\\\\Rival Series\\\\North America\\\\Week 7\\\\M4 - Charlotte Phoenix vs Chaos E.C_\\\\008BAFE948CB3B83D8317BB582B0BB13.replay',\n",
       " 'C:\\\\Users\\\\blake\\\\Documents\\\\rlcsseason9\\\\RLCS Season 9\\\\Rival Series\\\\North America\\\\Week 7\\\\M4 - Charlotte Phoenix vs Chaos E.C_\\\\63FF95BF4BB3E817DCDB35AE8A108124.replay',\n",
       " 'C:\\\\Users\\\\blake\\\\Documents\\\\rlcsseason9\\\\RLCS Season 9\\\\Rival Series\\\\North America\\\\Week 7\\\\M4 - Charlotte Phoenix vs Chaos E.C_\\\\AD499D2C47D49D860439F28E05AD8DFE.replay',\n",
       " 'C:\\\\Users\\\\blake\\\\Documents\\\\rlcsseason9\\\\RLCS Season 9\\\\Rival Series\\\\North America\\\\Week 7\\\\M4 - Charlotte Phoenix vs Chaos E.C_\\\\E1631B42439EFD061B1FEFB85F925043.replay',\n",
       " 'C:\\\\Users\\\\blake\\\\Documents\\\\rlcsseason9\\\\RLCS Season 9\\\\Rival Series\\\\North America\\\\Week 7\\\\M4 - Charlotte Phoenix vs Chaos E.C_\\\\E9DA3FB34CBD0AEBD0CD419C8C2C8F87.replay',\n",
       " 'C:\\\\Users\\\\blake\\\\Documents\\\\rlcsseason9\\\\RLCS Season 9\\\\RLCS\\\\RLCS EU League Play\\\\Promotion Tournament\\\\M1 - Team Endpoint vs Solary\\\\98AF16D04B13534CCDA9B790E4092378.replay',\n",
       " 'C:\\\\Users\\\\blake\\\\Documents\\\\rlcsseason9\\\\RLCS Season 9\\\\RLCS\\\\RLCS EU League Play\\\\Promotion Tournament\\\\M1 - Team Endpoint vs Solary\\\\AAD1E44445CB938505C08EB58058ABCD.replay',\n",
       " 'C:\\\\Users\\\\blake\\\\Documents\\\\rlcsseason9\\\\RLCS Season 9\\\\RLCS\\\\RLCS EU League Play\\\\Promotion Tournament\\\\M1 - Team Endpoint vs Solary\\\\DCFD2D7A4D4C41EF211D82BF5C906C26.replay',\n",
       " 'C:\\\\Users\\\\blake\\\\Documents\\\\rlcsseason9\\\\RLCS Season 9\\\\RLCS\\\\RLCS EU League Play\\\\Promotion Tournament\\\\M1 - Team Endpoint vs Solary\\\\F4EB4F3B4E10FB8634B9F4BB1F576BD3.replay',\n",
       " 'C:\\\\Users\\\\blake\\\\Documents\\\\rlcsseason9\\\\RLCS Season 9\\\\RLCS\\\\RLCS EU League Play\\\\Promotion Tournament\\\\M2 - Karen vs Stonkers\\\\003E62564CD2BEF698AD34A809CEBFE8.replay',\n",
       " 'C:\\\\Users\\\\blake\\\\Documents\\\\rlcsseason9\\\\RLCS Season 9\\\\RLCS\\\\RLCS EU League Play\\\\Promotion Tournament\\\\M2 - Karen vs Stonkers\\\\00D8EA1E41167544A7D3609C316B66E6.replay',\n",
       " 'C:\\\\Users\\\\blake\\\\Documents\\\\rlcsseason9\\\\RLCS Season 9\\\\RLCS\\\\RLCS EU League Play\\\\Promotion Tournament\\\\M2 - Karen vs Stonkers\\\\ABB1E56D4CA1A2B72040DD9D471A7FAA.replay',\n",
       " 'C:\\\\Users\\\\blake\\\\Documents\\\\rlcsseason9\\\\RLCS Season 9\\\\RLCS\\\\RLCS EU League Play\\\\Promotion Tournament\\\\M2 - Karen vs Stonkers\\\\FDA42A73431C94D5E9C3718AEDBD07F3.replay',\n",
       " 'C:\\\\Users\\\\blake\\\\Documents\\\\rlcsseason9\\\\RLCS Season 9\\\\RLCS\\\\RLCS EU League Play\\\\Promotion Tournament\\\\M3 - Team Endpoint vs Karen\\\\2CBD06144BD004A04E3ABF855BEEE09B.replay',\n",
       " 'C:\\\\Users\\\\blake\\\\Documents\\\\rlcsseason9\\\\RLCS Season 9\\\\RLCS\\\\RLCS EU League Play\\\\Promotion Tournament\\\\M3 - Team Endpoint vs Karen\\\\39EAC26C49047778D1FB61AC05BC8E27.replay',\n",
       " 'C:\\\\Users\\\\blake\\\\Documents\\\\rlcsseason9\\\\RLCS Season 9\\\\RLCS\\\\RLCS EU League Play\\\\Promotion Tournament\\\\M3 - Team Endpoint vs Karen\\\\47FCA34540F3F0C8EB2EC68556713093.replay',\n",
       " 'C:\\\\Users\\\\blake\\\\Documents\\\\rlcsseason9\\\\RLCS Season 9\\\\RLCS\\\\RLCS EU League Play\\\\Promotion Tournament\\\\M3 - Team Endpoint vs Karen\\\\DBCC16B4436FC33EFA79AE85EAA2DCFC.replay',\n",
       " 'C:\\\\Users\\\\blake\\\\Documents\\\\rlcsseason9\\\\RLCS Season 9\\\\RLCS\\\\RLCS EU League Play\\\\Promotion Tournament\\\\M3 - Team Endpoint vs Karen\\\\F52C8C8F4593A4D8F1947F9C83002957.replay',\n",
       " 'C:\\\\Users\\\\blake\\\\Documents\\\\rlcsseason9\\\\RLCS Season 9\\\\RLCS\\\\RLCS EU League Play\\\\Promotion Tournament\\\\M3 - Team Endpoint vs Karen\\\\FDB7BFEC4C9CF1380E93DC95F5342F12.replay',\n",
       " 'C:\\\\Users\\\\blake\\\\Documents\\\\rlcsseason9\\\\RLCS Season 9\\\\RLCS\\\\RLCS EU League Play\\\\Promotion Tournament\\\\M4 - Solary vs Stonkers\\\\1508BAB743E5F071C8D959A0CFDC3824.replay',\n",
       " 'C:\\\\Users\\\\blake\\\\Documents\\\\rlcsseason9\\\\RLCS Season 9\\\\RLCS\\\\RLCS EU League Play\\\\Promotion Tournament\\\\M4 - Solary vs Stonkers\\\\1C38741246811E7F9BAEEA80A4EF1DD0.replay',\n",
       " 'C:\\\\Users\\\\blake\\\\Documents\\\\rlcsseason9\\\\RLCS Season 9\\\\RLCS\\\\RLCS EU League Play\\\\Promotion Tournament\\\\M4 - Solary vs Stonkers\\\\3F24282449326016252A85A16449FE83.replay',\n",
       " 'C:\\\\Users\\\\blake\\\\Documents\\\\rlcsseason9\\\\RLCS Season 9\\\\RLCS\\\\RLCS EU League Play\\\\Promotion Tournament\\\\M4 - Solary vs Stonkers\\\\5651FC8F4F9004A77C347A9AF6BE9454.replay',\n",
       " 'C:\\\\Users\\\\blake\\\\Documents\\\\rlcsseason9\\\\RLCS Season 9\\\\RLCS\\\\RLCS EU League Play\\\\Promotion Tournament\\\\M4 - Solary vs Stonkers\\\\94B03B77419D069E59046EB697AD8B8D.replay',\n",
       " 'C:\\\\Users\\\\blake\\\\Documents\\\\rlcsseason9\\\\RLCS Season 9\\\\RLCS\\\\RLCS EU League Play\\\\Promotion Tournament\\\\M4 - Solary vs Stonkers\\\\C7E3C63A44EB19A9C5641F815072AB89.replay',\n",
       " 'C:\\\\Users\\\\blake\\\\Documents\\\\rlcsseason9\\\\RLCS Season 9\\\\RLCS\\\\RLCS EU League Play\\\\Promotion Tournament\\\\M4 - Solary vs Stonkers\\\\E3E346DF403950D53997A8B0010C1CE9.replay',\n",
       " 'C:\\\\Users\\\\blake\\\\Documents\\\\rlcsseason9\\\\RLCS Season 9\\\\RLCS\\\\RLCS EU League Play\\\\Promotion Tournament\\\\M5 - Team Endpoint vs Stonkers\\\\167ECF774166E949A4357C82C7BB2AAE.replay',\n",
       " 'C:\\\\Users\\\\blake\\\\Documents\\\\rlcsseason9\\\\RLCS Season 9\\\\RLCS\\\\RLCS EU League Play\\\\Promotion Tournament\\\\M5 - Team Endpoint vs Stonkers\\\\2D8EAE844B40E9DDFA9EF7BB109A3487.replay',\n",
       " 'C:\\\\Users\\\\blake\\\\Documents\\\\rlcsseason9\\\\RLCS Season 9\\\\RLCS\\\\RLCS EU League Play\\\\Promotion Tournament\\\\M5 - Team Endpoint vs Stonkers\\\\32C12F2D4267CAF2AF687397C39B5893.replay',\n",
       " 'C:\\\\Users\\\\blake\\\\Documents\\\\rlcsseason9\\\\RLCS Season 9\\\\RLCS\\\\RLCS EU League Play\\\\Promotion Tournament\\\\M5 - Team Endpoint vs Stonkers\\\\490A24FA487A738914DE6286926A06A4.replay',\n",
       " 'C:\\\\Users\\\\blake\\\\Documents\\\\rlcsseason9\\\\RLCS Season 9\\\\RLCS\\\\RLCS EU League Play\\\\Promotion Tournament\\\\M5 - Team Endpoint vs Stonkers\\\\58D90B204B2CD3439288A9B414FA06E1.replay',\n",
       " 'C:\\\\Users\\\\blake\\\\Documents\\\\rlcsseason9\\\\RLCS Season 9\\\\RLCS\\\\RLCS EU League Play\\\\Promotion Tournament\\\\M5 - Team Endpoint vs Stonkers\\\\7391425E4E4536DB9A5A909F4E4A3218.replay',\n",
       " 'C:\\\\Users\\\\blake\\\\Documents\\\\rlcsseason9\\\\RLCS Season 9\\\\RLCS\\\\RLCS EU League Play\\\\Regional Championship\\\\M! - Team Reciprocity vs Mousesports\\\\4DD46E2C46592AEDD89929AF6637F71E.replay',\n",
       " 'C:\\\\Users\\\\blake\\\\Documents\\\\rlcsseason9\\\\RLCS Season 9\\\\RLCS\\\\RLCS EU League Play\\\\Regional Championship\\\\M! - Team Reciprocity vs Mousesports\\\\68C20D90439CD10F15EEE8B5132DD448.replay',\n",
       " 'C:\\\\Users\\\\blake\\\\Documents\\\\rlcsseason9\\\\RLCS Season 9\\\\RLCS\\\\RLCS EU League Play\\\\Regional Championship\\\\M! - Team Reciprocity vs Mousesports\\\\68E1CC7D4ABB719B36312CA2AF52E6D1.replay',\n",
       " 'C:\\\\Users\\\\blake\\\\Documents\\\\rlcsseason9\\\\RLCS Season 9\\\\RLCS\\\\RLCS EU League Play\\\\Regional Championship\\\\M! - Team Reciprocity vs Mousesports\\\\BFCDB4E54BE94E7A889272B6FFC77084.replay',\n",
       " 'C:\\\\Users\\\\blake\\\\Documents\\\\rlcsseason9\\\\RLCS Season 9\\\\RLCS\\\\RLCS EU League Play\\\\Regional Championship\\\\M2 - Veloce Esports vs Barça Esports\\\\20F638884E0C077E411018B9123180E4.replay',\n",
       " 'C:\\\\Users\\\\blake\\\\Documents\\\\rlcsseason9\\\\RLCS Season 9\\\\RLCS\\\\RLCS EU League Play\\\\Regional Championship\\\\M2 - Veloce Esports vs Barça Esports\\\\4043D1684C5D6FF48269EA80DEE62D20.replay',\n",
       " 'C:\\\\Users\\\\blake\\\\Documents\\\\rlcsseason9\\\\RLCS Season 9\\\\RLCS\\\\RLCS EU League Play\\\\Regional Championship\\\\M2 - Veloce Esports vs Barça Esports\\\\7B013F57419FFE06FD0FE18CD7DDC56E.replay',\n",
       " 'C:\\\\Users\\\\blake\\\\Documents\\\\rlcsseason9\\\\RLCS Season 9\\\\RLCS\\\\RLCS EU League Play\\\\Regional Championship\\\\M2 - Veloce Esports vs Barça Esports\\\\9F0420D2447D1E1D9E4047AB079FD8F9.replay',\n",
       " 'C:\\\\Users\\\\blake\\\\Documents\\\\rlcsseason9\\\\RLCS Season 9\\\\RLCS\\\\RLCS EU League Play\\\\Regional Championship\\\\M2 - Veloce Esports vs Barça Esports\\\\D5B91493401948CAA24D7E94CD4F791A.replay',\n",
       " 'C:\\\\Users\\\\blake\\\\Documents\\\\rlcsseason9\\\\RLCS Season 9\\\\RLCS\\\\RLCS EU League Play\\\\Regional Championship\\\\M2 - Veloce Esports vs Barça Esports\\\\E90B563341482D64FB2EA29289692D2F.replay',\n",
       " 'C:\\\\Users\\\\blake\\\\Documents\\\\rlcsseason9\\\\RLCS Season 9\\\\RLCS\\\\RLCS EU League Play\\\\Regional Championship\\\\M3 - Barça Esports vs Team Reciprocity\\\\0CF3B5764C5046DC40B8CE84EDC53BAD.replay',\n",
       " 'C:\\\\Users\\\\blake\\\\Documents\\\\rlcsseason9\\\\RLCS Season 9\\\\RLCS\\\\RLCS EU League Play\\\\Regional Championship\\\\M3 - Barça Esports vs Team Reciprocity\\\\5ABE62CB43AA9DBA726BF7846D69E4B6.replay',\n",
       " 'C:\\\\Users\\\\blake\\\\Documents\\\\rlcsseason9\\\\RLCS Season 9\\\\RLCS\\\\RLCS EU League Play\\\\Regional Championship\\\\M3 - Barça Esports vs Team Reciprocity\\\\6ABEB5FD4762B9C52C66D3A24C93D17E.replay',\n",
       " 'C:\\\\Users\\\\blake\\\\Documents\\\\rlcsseason9\\\\RLCS Season 9\\\\RLCS\\\\RLCS EU League Play\\\\Regional Championship\\\\M3 - Barça Esports vs Team Reciprocity\\\\78D2A1C74B9C9F003D9945A6CFDF7D45.replay',\n",
       " 'C:\\\\Users\\\\blake\\\\Documents\\\\rlcsseason9\\\\RLCS Season 9\\\\RLCS\\\\RLCS EU League Play\\\\Regional Championship\\\\M3 - Barça Esports vs Team Reciprocity\\\\F824363546FCA0B5426084B8F83E75E8.replay',\n",
       " 'C:\\\\Users\\\\blake\\\\Documents\\\\rlcsseason9\\\\RLCS Season 9\\\\RLCS\\\\RLCS EU League Play\\\\Regional Championship\\\\M4 - Mousesports vs Dignitas\\\\0C8055024B78E768845166938EBB91A7.replay',\n",
       " 'C:\\\\Users\\\\blake\\\\Documents\\\\rlcsseason9\\\\RLCS Season 9\\\\RLCS\\\\RLCS EU League Play\\\\Regional Championship\\\\M4 - Mousesports vs Dignitas\\\\1EFB38024BCA620BD88A029D56C616EA.replay',\n",
       " 'C:\\\\Users\\\\blake\\\\Documents\\\\rlcsseason9\\\\RLCS Season 9\\\\RLCS\\\\RLCS EU League Play\\\\Regional Championship\\\\M4 - Mousesports vs Dignitas\\\\36D120B64F99684142CA079CD2BAC250.replay',\n",
       " 'C:\\\\Users\\\\blake\\\\Documents\\\\rlcsseason9\\\\RLCS Season 9\\\\RLCS\\\\RLCS EU League Play\\\\Regional Championship\\\\M4 - Mousesports vs Dignitas\\\\67C99D8741DB1D7F52BABDA59D72ADB3.replay',\n",
       " 'C:\\\\Users\\\\blake\\\\Documents\\\\rlcsseason9\\\\RLCS Season 9\\\\RLCS\\\\RLCS EU League Play\\\\Regional Championship\\\\M4 - Mousesports vs Dignitas\\\\77F125E143E6F490A471A4BD9C602BDD.replay',\n",
       " 'C:\\\\Users\\\\blake\\\\Documents\\\\rlcsseason9\\\\RLCS Season 9\\\\RLCS\\\\RLCS EU League Play\\\\Regional Championship\\\\M4 - Mousesports vs Dignitas\\\\A02CB37B4BB84B17E9CC2B922175479E.replay',\n",
       " 'C:\\\\Users\\\\blake\\\\Documents\\\\rlcsseason9\\\\RLCS Season 9\\\\RLCS\\\\RLCS EU League Play\\\\Regional Championship\\\\M4 - Mousesports vs Dignitas\\\\CB1D77E2489FA248AEA9A8A2A128EDDB.replay',\n",
       " 'C:\\\\Users\\\\blake\\\\Documents\\\\rlcsseason9\\\\RLCS Season 9\\\\RLCS\\\\RLCS EU League Play\\\\Regional Championship\\\\M5 - Barça Esports vs Renault Vitality\\\\35DF908F419FACD18B919A9FFC2C3CD3.replay',\n",
       " 'C:\\\\Users\\\\blake\\\\Documents\\\\rlcsseason9\\\\RLCS Season 9\\\\RLCS\\\\RLCS EU League Play\\\\Regional Championship\\\\M5 - Barça Esports vs Renault Vitality\\\\3A3773CC4579A6449D708280EAC61A1B.replay',\n",
       " 'C:\\\\Users\\\\blake\\\\Documents\\\\rlcsseason9\\\\RLCS Season 9\\\\RLCS\\\\RLCS EU League Play\\\\Regional Championship\\\\M5 - Barça Esports vs Renault Vitality\\\\4F518C414766FAC94BCD28B06AB51C6B.replay',\n",
       " 'C:\\\\Users\\\\blake\\\\Documents\\\\rlcsseason9\\\\RLCS Season 9\\\\RLCS\\\\RLCS EU League Play\\\\Regional Championship\\\\M5 - Barça Esports vs Renault Vitality\\\\644E3AEB48B739AAA40E1899397D9F7A.replay',\n",
       " 'C:\\\\Users\\\\blake\\\\Documents\\\\rlcsseason9\\\\RLCS Season 9\\\\RLCS\\\\RLCS EU League Play\\\\Regional Championship\\\\M5 - Barça Esports vs Renault Vitality\\\\C078B1844CA19917BDE257903622066B.replay',\n",
       " 'C:\\\\Users\\\\blake\\\\Documents\\\\rlcsseason9\\\\RLCS Season 9\\\\RLCS\\\\RLCS EU League Play\\\\Regional Championship\\\\M6 - Dignitas vs Renault Vitality\\\\2DD3B51E415C6BD3ADB7DB88DA63C5A2.replay',\n",
       " 'C:\\\\Users\\\\blake\\\\Documents\\\\rlcsseason9\\\\RLCS Season 9\\\\RLCS\\\\RLCS EU League Play\\\\Regional Championship\\\\M6 - Dignitas vs Renault Vitality\\\\2E553FCC48A082F9DC4F39B1C979F078.replay',\n",
       " 'C:\\\\Users\\\\blake\\\\Documents\\\\rlcsseason9\\\\RLCS Season 9\\\\RLCS\\\\RLCS EU League Play\\\\Regional Championship\\\\M6 - Dignitas vs Renault Vitality\\\\4DD75D8F4566FA3566E427B3A6E8FBD4.replay',\n",
       " 'C:\\\\Users\\\\blake\\\\Documents\\\\rlcsseason9\\\\RLCS Season 9\\\\RLCS\\\\RLCS EU League Play\\\\Regional Championship\\\\M6 - Dignitas vs Renault Vitality\\\\546D697944CEA57355D9A0A8051BD705.replay',\n",
       " 'C:\\\\Users\\\\blake\\\\Documents\\\\rlcsseason9\\\\RLCS Season 9\\\\RLCS\\\\RLCS EU League Play\\\\Regional Championship\\\\M6 - Dignitas vs Renault Vitality\\\\763E26E148BAB118E9302EBB052F72B4.replay',\n",
       " 'C:\\\\Users\\\\blake\\\\Documents\\\\rlcsseason9\\\\RLCS Season 9\\\\RLCS\\\\RLCS EU League Play\\\\Regional Championship\\\\M6 - Dignitas vs Renault Vitality\\\\D364D08047096B34650ADCBCFC47B350.replay',\n",
       " 'C:\\\\Users\\\\blake\\\\Documents\\\\rlcsseason9\\\\RLCS Season 9\\\\RLCS\\\\RLCS EU League Play\\\\Week 1\\\\M1 - Team Singularity vs Team Reciprocity\\\\2BA4D18B4EA7D02530799E9BCA1A8910.replay',\n",
       " 'C:\\\\Users\\\\blake\\\\Documents\\\\rlcsseason9\\\\RLCS Season 9\\\\RLCS\\\\RLCS EU League Play\\\\Week 1\\\\M1 - Team Singularity vs Team Reciprocity\\\\4EABF15D491FDA353CF773804BBC9D9A.replay',\n",
       " 'C:\\\\Users\\\\blake\\\\Documents\\\\rlcsseason9\\\\RLCS Season 9\\\\RLCS\\\\RLCS EU League Play\\\\Week 1\\\\M1 - Team Singularity vs Team Reciprocity\\\\CF2EB6DB4DB0C66AD21B46916422E4E3.replay',\n",
       " 'C:\\\\Users\\\\blake\\\\Documents\\\\rlcsseason9\\\\RLCS Season 9\\\\RLCS\\\\RLCS EU League Play\\\\Week 1\\\\M1 - Team Singularity vs Team Reciprocity\\\\E4D6C50846CB98EBEC7A09ADCE9BE4FB.replay',\n",
       " 'C:\\\\Users\\\\blake\\\\Documents\\\\rlcsseason9\\\\RLCS Season 9\\\\RLCS\\\\RLCS EU League Play\\\\Week 1\\\\M2 - Endpoint vs Renault Vitality\\\\561E0067431CE5A8CD16079AF7201128.replay',\n",
       " 'C:\\\\Users\\\\blake\\\\Documents\\\\rlcsseason9\\\\RLCS Season 9\\\\RLCS\\\\RLCS EU League Play\\\\Week 1\\\\M2 - Endpoint vs Renault Vitality\\\\5EE7948E4533AD83DE847F9EA3673BE9.replay',\n",
       " 'C:\\\\Users\\\\blake\\\\Documents\\\\rlcsseason9\\\\RLCS Season 9\\\\RLCS\\\\RLCS EU League Play\\\\Week 1\\\\M2 - Endpoint vs Renault Vitality\\\\7BE40667431EEABFE80DB6A79898F352.replay',\n",
       " 'C:\\\\Users\\\\blake\\\\Documents\\\\rlcsseason9\\\\RLCS Season 9\\\\RLCS\\\\RLCS EU League Play\\\\Week 1\\\\M2 - Endpoint vs Renault Vitality\\\\ABF2CEBA45F1E846E921C5AD436C3305.replay',\n",
       " 'C:\\\\Users\\\\blake\\\\Documents\\\\rlcsseason9\\\\RLCS Season 9\\\\RLCS\\\\RLCS EU League Play\\\\Week 1\\\\M3 - Veloce Esports vs Barça Esports\\\\4C28B6E9453269184FBBB986C04D89CB.replay',\n",
       " 'C:\\\\Users\\\\blake\\\\Documents\\\\rlcsseason9\\\\RLCS Season 9\\\\RLCS\\\\RLCS EU League Play\\\\Week 1\\\\M3 - Veloce Esports vs Barça Esports\\\\52C2479048A64A846AD09F88074DBA61.replay',\n",
       " 'C:\\\\Users\\\\blake\\\\Documents\\\\rlcsseason9\\\\RLCS Season 9\\\\RLCS\\\\RLCS EU League Play\\\\Week 1\\\\M3 - Veloce Esports vs Barça Esports\\\\615F2FE74545278995F7C48781F3C2A0.replay',\n",
       " 'C:\\\\Users\\\\blake\\\\Documents\\\\rlcsseason9\\\\RLCS Season 9\\\\RLCS\\\\RLCS EU League Play\\\\Week 1\\\\M3 - Veloce Esports vs Barça Esports\\\\7FA2D81943B74E3CAD931E8350E1242C.replay',\n",
       " 'C:\\\\Users\\\\blake\\\\Documents\\\\rlcsseason9\\\\RLCS Season 9\\\\RLCS\\\\RLCS EU League Play\\\\Week 1\\\\M3 - Veloce Esports vs Barça Esports\\\\ADFD67C54BDA261C2FF05A9CAAE7F678.replay',\n",
       " 'C:\\\\Users\\\\blake\\\\Documents\\\\rlcsseason9\\\\RLCS Season 9\\\\RLCS\\\\RLCS EU League Play\\\\Week 1\\\\M4 - TSM vs Dignitas\\\\0F4632E1459BC6690E42E2AEA3FAB832.replay',\n",
       " 'C:\\\\Users\\\\blake\\\\Documents\\\\rlcsseason9\\\\RLCS Season 9\\\\RLCS\\\\RLCS EU League Play\\\\Week 1\\\\M4 - TSM vs Dignitas\\\\258FCCA34170D148F1AF4F86FD5090AF.replay',\n",
       " 'C:\\\\Users\\\\blake\\\\Documents\\\\rlcsseason9\\\\RLCS Season 9\\\\RLCS\\\\RLCS EU League Play\\\\Week 1\\\\M4 - TSM vs Dignitas\\\\74AEEB8F4869B888CEB61598CC47579D.replay',\n",
       " 'C:\\\\Users\\\\blake\\\\Documents\\\\rlcsseason9\\\\RLCS Season 9\\\\RLCS\\\\RLCS EU League Play\\\\Week 1\\\\M4 - TSM vs Dignitas\\\\AFF2E5D2443C0CCBC5B176B255497FDC.replay',\n",
       " 'C:\\\\Users\\\\blake\\\\Documents\\\\rlcsseason9\\\\RLCS Season 9\\\\RLCS\\\\RLCS EU League Play\\\\Week 1\\\\M4 - TSM vs Dignitas\\\\D96455434072033B3F077FAA20FF05DB.replay',\n",
       " 'C:\\\\Users\\\\blake\\\\Documents\\\\rlcsseason9\\\\RLCS Season 9\\\\RLCS\\\\RLCS EU League Play\\\\Week 1\\\\M5 - AS Monaco vs Mousesports\\\\1E00554B48325FC77B2B48AE2F5E83BF.replay',\n",
       " 'C:\\\\Users\\\\blake\\\\Documents\\\\rlcsseason9\\\\RLCS Season 9\\\\RLCS\\\\RLCS EU League Play\\\\Week 1\\\\M5 - AS Monaco vs Mousesports\\\\240811F94D8FF628CCE2339D8697DCB8.replay',\n",
       " 'C:\\\\Users\\\\blake\\\\Documents\\\\rlcsseason9\\\\RLCS Season 9\\\\RLCS\\\\RLCS EU League Play\\\\Week 1\\\\M5 - AS Monaco vs Mousesports\\\\8F6F420343769D5E4CD689A1C539FCED.replay',\n",
       " 'C:\\\\Users\\\\blake\\\\Documents\\\\rlcsseason9\\\\RLCS Season 9\\\\RLCS\\\\RLCS EU League Play\\\\Week 1\\\\M5 - AS Monaco vs Mousesports\\\\B5AF41FA437CB2EC26D283BF301621F8.replay',\n",
       " 'C:\\\\Users\\\\blake\\\\Documents\\\\rlcsseason9\\\\RLCS Season 9\\\\RLCS\\\\RLCS EU League Play\\\\Week 2\\\\M1 -  Endpoint vs Barça Esports\\\\466D24274B01356D1CB51B9B7D1D52AB.replay',\n",
       " 'C:\\\\Users\\\\blake\\\\Documents\\\\rlcsseason9\\\\RLCS Season 9\\\\RLCS\\\\RLCS EU League Play\\\\Week 2\\\\M1 -  Endpoint vs Barça Esports\\\\8FBC908A473B0235760C119208AEE93F.replay',\n",
       " 'C:\\\\Users\\\\blake\\\\Documents\\\\rlcsseason9\\\\RLCS Season 9\\\\RLCS\\\\RLCS EU League Play\\\\Week 2\\\\M1 -  Endpoint vs Barça Esports\\\\EBB5F8C3425492F23CE903B894236ADB.replay',\n",
       " 'C:\\\\Users\\\\blake\\\\Documents\\\\rlcsseason9\\\\RLCS Season 9\\\\RLCS\\\\RLCS EU League Play\\\\Week 2\\\\M2 - Veloce Esports vs TSM\\\\34EBBC9041268DCE1599AE9B77EE909A.replay',\n",
       " 'C:\\\\Users\\\\blake\\\\Documents\\\\rlcsseason9\\\\RLCS Season 9\\\\RLCS\\\\RLCS EU League Play\\\\Week 2\\\\M2 - Veloce Esports vs TSM\\\\44C788E44B6370FD64A4D081F8104E7D.replay',\n",
       " 'C:\\\\Users\\\\blake\\\\Documents\\\\rlcsseason9\\\\RLCS Season 9\\\\RLCS\\\\RLCS EU League Play\\\\Week 2\\\\M2 - Veloce Esports vs TSM\\\\62498FFB4AFB48C919CF0DB68B86891D.replay',\n",
       " 'C:\\\\Users\\\\blake\\\\Documents\\\\rlcsseason9\\\\RLCS Season 9\\\\RLCS\\\\RLCS EU League Play\\\\Week 2\\\\M2 - Veloce Esports vs TSM\\\\A41CAA684C3DF6D5DA4F5A83F28E44F4.replay',\n",
       " 'C:\\\\Users\\\\blake\\\\Documents\\\\rlcsseason9\\\\RLCS Season 9\\\\RLCS\\\\RLCS EU League Play\\\\Week 2\\\\M3 - Team Singularity vs Renault Vitality\\\\17F4403749F0811BAAA04EAE565612D9.replay',\n",
       " 'C:\\\\Users\\\\blake\\\\Documents\\\\rlcsseason9\\\\RLCS Season 9\\\\RLCS\\\\RLCS EU League Play\\\\Week 2\\\\M3 - Team Singularity vs Renault Vitality\\\\1AC110F840411EC6791B7699B12738EC.replay',\n",
       " 'C:\\\\Users\\\\blake\\\\Documents\\\\rlcsseason9\\\\RLCS Season 9\\\\RLCS\\\\RLCS EU League Play\\\\Week 2\\\\M3 - Team Singularity vs Renault Vitality\\\\271B853346AF6BFE457E909BF152D2B8.replay',\n",
       " 'C:\\\\Users\\\\blake\\\\Documents\\\\rlcsseason9\\\\RLCS Season 9\\\\RLCS\\\\RLCS EU League Play\\\\Week 2\\\\M3 - Team Singularity vs Renault Vitality\\\\2CB765AA47856B70DEEC7FADE9096B4B.replay',\n",
       " 'C:\\\\Users\\\\blake\\\\Documents\\\\rlcsseason9\\\\RLCS Season 9\\\\RLCS\\\\RLCS EU League Play\\\\Week 2\\\\M3 - Team Singularity vs Renault Vitality\\\\66C54F4C4BEF85B043E4F1BF3DE02641.replay',\n",
       " 'C:\\\\Users\\\\blake\\\\Documents\\\\rlcsseason9\\\\RLCS Season 9\\\\RLCS\\\\RLCS EU League Play\\\\Week 2\\\\M3 - Team Singularity vs Renault Vitality\\\\E931404A49F33B542807089B993AEADA.replay',\n",
       " 'C:\\\\Users\\\\blake\\\\Documents\\\\rlcsseason9\\\\RLCS Season 9\\\\RLCS\\\\RLCS EU League Play\\\\Week 2\\\\M4 - Dignitas vs AS Monaco\\\\04878C8A42216516F93E059884ACB102.replay',\n",
       " 'C:\\\\Users\\\\blake\\\\Documents\\\\rlcsseason9\\\\RLCS Season 9\\\\RLCS\\\\RLCS EU League Play\\\\Week 2\\\\M4 - Dignitas vs AS Monaco\\\\39546219434E23434F356182086053C2.replay',\n",
       " 'C:\\\\Users\\\\blake\\\\Documents\\\\rlcsseason9\\\\RLCS Season 9\\\\RLCS\\\\RLCS EU League Play\\\\Week 2\\\\M4 - Dignitas vs AS Monaco\\\\CB18FAF94D328A7926202DA35471973E.replay',\n",
       " 'C:\\\\Users\\\\blake\\\\Documents\\\\rlcsseason9\\\\RLCS Season 9\\\\RLCS\\\\RLCS EU League Play\\\\Week 2\\\\M4 - Dignitas vs AS Monaco\\\\EC2453A548F9ADD8FC5980839230530A.replay',\n",
       " 'C:\\\\Users\\\\blake\\\\Documents\\\\rlcsseason9\\\\RLCS Season 9\\\\RLCS\\\\RLCS EU League Play\\\\Week 2\\\\M5 - Mousesports vs Team Reciprocity\\\\35604CF347C084AB820251AA4C669BF2.replay',\n",
       " 'C:\\\\Users\\\\blake\\\\Documents\\\\rlcsseason9\\\\RLCS Season 9\\\\RLCS\\\\RLCS EU League Play\\\\Week 2\\\\M5 - Mousesports vs Team Reciprocity\\\\6A0EEE5A41DD1283207F1C8F35AF1203.replay',\n",
       " 'C:\\\\Users\\\\blake\\\\Documents\\\\rlcsseason9\\\\RLCS Season 9\\\\RLCS\\\\RLCS EU League Play\\\\Week 2\\\\M5 - Mousesports vs Team Reciprocity\\\\A3D1C0784E42B97785FAA9AD95110BA7.replay',\n",
       " 'C:\\\\Users\\\\blake\\\\Documents\\\\rlcsseason9\\\\RLCS Season 9\\\\RLCS\\\\RLCS EU League Play\\\\Week 2\\\\M5 - Mousesports vs Team Reciprocity\\\\F490204645583F5016A3328D97E13944.replay',\n",
       " 'C:\\\\Users\\\\blake\\\\Documents\\\\rlcsseason9\\\\RLCS Season 9\\\\RLCS\\\\RLCS EU League Play\\\\Week 3\\\\M1 - Team Singularity vs Dignitas\\\\14069AB447EA1C9A6BE3DF99D5ED4263.replay',\n",
       " 'C:\\\\Users\\\\blake\\\\Documents\\\\rlcsseason9\\\\RLCS Season 9\\\\RLCS\\\\RLCS EU League Play\\\\Week 3\\\\M1 - Team Singularity vs Dignitas\\\\45F566484D50CCB5EB060C8E0DAC51EE.replay',\n",
       " 'C:\\\\Users\\\\blake\\\\Documents\\\\rlcsseason9\\\\RLCS Season 9\\\\RLCS\\\\RLCS EU League Play\\\\Week 3\\\\M1 - Team Singularity vs Dignitas\\\\BAF5FEFD4F3790A7B39F69A9FD2F5A7B.replay',\n",
       " 'C:\\\\Users\\\\blake\\\\Documents\\\\rlcsseason9\\\\RLCS Season 9\\\\RLCS\\\\RLCS EU League Play\\\\Week 3\\\\M1 - Team Singularity vs Dignitas\\\\CC61D67B4159B7E6909FF696B47D9A58.replay',\n",
       " 'C:\\\\Users\\\\blake\\\\Documents\\\\rlcsseason9\\\\RLCS Season 9\\\\RLCS\\\\RLCS EU League Play\\\\Week 3\\\\M2 - Endpoint vs AS Monaco\\\\329D71D1428EFD0C978134AD8968544E.replay',\n",
       " 'C:\\\\Users\\\\blake\\\\Documents\\\\rlcsseason9\\\\RLCS Season 9\\\\RLCS\\\\RLCS EU League Play\\\\Week 3\\\\M2 - Endpoint vs AS Monaco\\\\60780F5D478DBBBA3E1D86B19D524710.replay',\n",
       " 'C:\\\\Users\\\\blake\\\\Documents\\\\rlcsseason9\\\\RLCS Season 9\\\\RLCS\\\\RLCS EU League Play\\\\Week 3\\\\M2 - Endpoint vs AS Monaco\\\\F3A4DD7B4D0EBCF003912E9078C5007A.replay',\n",
       " 'C:\\\\Users\\\\blake\\\\Documents\\\\rlcsseason9\\\\RLCS Season 9\\\\RLCS\\\\RLCS EU League Play\\\\Week 3\\\\M3 - Team Singularity vs Mousesports\\\\2C19C7434DCB9BE5D9ABACA459C364FF.replay',\n",
       " 'C:\\\\Users\\\\blake\\\\Documents\\\\rlcsseason9\\\\RLCS Season 9\\\\RLCS\\\\RLCS EU League Play\\\\Week 3\\\\M3 - Team Singularity vs Mousesports\\\\685BE6ED451AA59DE596D7970DC0E457.replay',\n",
       " 'C:\\\\Users\\\\blake\\\\Documents\\\\rlcsseason9\\\\RLCS Season 9\\\\RLCS\\\\RLCS EU League Play\\\\Week 3\\\\M3 - Team Singularity vs Mousesports\\\\AFBF171347BD4ADFB68DF396BBBAE60B.replay',\n",
       " 'C:\\\\Users\\\\blake\\\\Documents\\\\rlcsseason9\\\\RLCS Season 9\\\\RLCS\\\\RLCS EU League Play\\\\Week 3\\\\M3 - Team Singularity vs Mousesports\\\\DF3C59C24CD9D0A9D512E4B75D489344.replay',\n",
       " 'C:\\\\Users\\\\blake\\\\Documents\\\\rlcsseason9\\\\RLCS Season 9\\\\RLCS\\\\RLCS EU League Play\\\\Week 3\\\\M4 - TSM vs Renault Vitality\\\\4C72DA1A42986BEA423F91A15A3B3F07.replay',\n",
       " 'C:\\\\Users\\\\blake\\\\Documents\\\\rlcsseason9\\\\RLCS Season 9\\\\RLCS\\\\RLCS EU League Play\\\\Week 3\\\\M4 - TSM vs Renault Vitality\\\\7498AB63467274BA6F78B7B4C0324027.replay',\n",
       " 'C:\\\\Users\\\\blake\\\\Documents\\\\rlcsseason9\\\\RLCS Season 9\\\\RLCS\\\\RLCS EU League Play\\\\Week 3\\\\M4 - TSM vs Renault Vitality\\\\DA4EBB5849EF50C4CBB6FE9D46806121.replay',\n",
       " 'C:\\\\Users\\\\blake\\\\Documents\\\\rlcsseason9\\\\RLCS Season 9\\\\RLCS\\\\RLCS EU League Play\\\\Week 3\\\\M4 - TSM vs Renault Vitality\\\\E0BC94584D275167C5969685F39F22D2.replay',\n",
       " 'C:\\\\Users\\\\blake\\\\Documents\\\\rlcsseason9\\\\RLCS Season 9\\\\RLCS\\\\RLCS EU League Play\\\\Week 3\\\\M5 - Veloce Esports vs Team Reciprocity\\\\0A5A2E2249384F14F51E76A6B15304CA.replay',\n",
       " 'C:\\\\Users\\\\blake\\\\Documents\\\\rlcsseason9\\\\RLCS Season 9\\\\RLCS\\\\RLCS EU League Play\\\\Week 3\\\\M5 - Veloce Esports vs Team Reciprocity\\\\1B1D499E4873FB7B07B29B9A2548CD25.replay',\n",
       " 'C:\\\\Users\\\\blake\\\\Documents\\\\rlcsseason9\\\\RLCS Season 9\\\\RLCS\\\\RLCS EU League Play\\\\Week 3\\\\M5 - Veloce Esports vs Team Reciprocity\\\\559577E04FF4F792CB4A06BF5C9AA006.replay',\n",
       " 'C:\\\\Users\\\\blake\\\\Documents\\\\rlcsseason9\\\\RLCS Season 9\\\\RLCS\\\\RLCS EU League Play\\\\Week 3\\\\M5 - Veloce Esports vs Team Reciprocity\\\\979EB0654189A5AA5CF192AF0162FE50.replay',\n",
       " 'C:\\\\Users\\\\blake\\\\Documents\\\\rlcsseason9\\\\RLCS Season 9\\\\RLCS\\\\RLCS EU League Play\\\\Week 3\\\\M5 - Veloce Esports vs Team Reciprocity\\\\D0235AD64FD57C61F76AD49C1A979A25.replay',\n",
       " 'C:\\\\Users\\\\blake\\\\Documents\\\\rlcsseason9\\\\RLCS Season 9\\\\RLCS\\\\RLCS EU League Play\\\\Week 3\\\\M6 - Barça Esports vs Renault Vitality\\\\1F196AF44841000731F288B6BDB48616.replay',\n",
       " 'C:\\\\Users\\\\blake\\\\Documents\\\\rlcsseason9\\\\RLCS Season 9\\\\RLCS\\\\RLCS EU League Play\\\\Week 3\\\\M6 - Barça Esports vs Renault Vitality\\\\516D8ED34C1294178B80EA9F2765AAE0.replay',\n",
       " 'C:\\\\Users\\\\blake\\\\Documents\\\\rlcsseason9\\\\RLCS Season 9\\\\RLCS\\\\RLCS EU League Play\\\\Week 3\\\\M6 - Barça Esports vs Renault Vitality\\\\BC80816B44BE89FD1D5728BA8908E083.replay',\n",
       " 'C:\\\\Users\\\\blake\\\\Documents\\\\rlcsseason9\\\\RLCS Season 9\\\\RLCS\\\\RLCS EU League Play\\\\Week 3\\\\M6 - Barça Esports vs Renault Vitality\\\\C956C4D5418CF200FC3CD3A685D87184.replay',\n",
       " 'C:\\\\Users\\\\blake\\\\Documents\\\\rlcsseason9\\\\RLCS Season 9\\\\RLCS\\\\RLCS EU League Play\\\\Week 4\\\\M1 - Veloce Esports vs Team Singularity\\\\5316DD31489A1CDBB9AD43BF516DE338.replay',\n",
       " 'C:\\\\Users\\\\blake\\\\Documents\\\\rlcsseason9\\\\RLCS Season 9\\\\RLCS\\\\RLCS EU League Play\\\\Week 4\\\\M1 - Veloce Esports vs Team Singularity\\\\A8645A51455593C0818C7FBB6DF92B94.replay',\n",
       " 'C:\\\\Users\\\\blake\\\\Documents\\\\rlcsseason9\\\\RLCS Season 9\\\\RLCS\\\\RLCS EU League Play\\\\Week 4\\\\M1 - Veloce Esports vs Team Singularity\\\\FDF839324586AE1944FEBC8B97AE3432.replay',\n",
       " 'C:\\\\Users\\\\blake\\\\Documents\\\\rlcsseason9\\\\RLCS Season 9\\\\RLCS\\\\RLCS EU League Play\\\\Week 4\\\\M2 - AS Monaco vs Renault Vitality\\\\2859863F44BF074BA0D80593F57A440E.replay',\n",
       " 'C:\\\\Users\\\\blake\\\\Documents\\\\rlcsseason9\\\\RLCS Season 9\\\\RLCS\\\\RLCS EU League Play\\\\Week 4\\\\M2 - AS Monaco vs Renault Vitality\\\\576C67A64C1906F159C4438B56725B41.replay',\n",
       " 'C:\\\\Users\\\\blake\\\\Documents\\\\rlcsseason9\\\\RLCS Season 9\\\\RLCS\\\\RLCS EU League Play\\\\Week 4\\\\M2 - AS Monaco vs Renault Vitality\\\\7817415E47D1682BB8035C855DC20A24.replay',\n",
       " 'C:\\\\Users\\\\blake\\\\Documents\\\\rlcsseason9\\\\RLCS Season 9\\\\RLCS\\\\RLCS EU League Play\\\\Week 4\\\\M2 - AS Monaco vs Renault Vitality\\\\B5EE559B47387A875EE6AD9E5DF9CDA8.replay',\n",
       " 'C:\\\\Users\\\\blake\\\\Documents\\\\rlcsseason9\\\\RLCS Season 9\\\\RLCS\\\\RLCS EU League Play\\\\Week 4\\\\M3 - Veloce Esports vs Endpoint\\\\141C37A64EC7EDEB1B3F748B887429B4.replay',\n",
       " 'C:\\\\Users\\\\blake\\\\Documents\\\\rlcsseason9\\\\RLCS Season 9\\\\RLCS\\\\RLCS EU League Play\\\\Week 4\\\\M3 - Veloce Esports vs Endpoint\\\\1B31319E4980FF28029607A3E4A2A021.replay',\n",
       " 'C:\\\\Users\\\\blake\\\\Documents\\\\rlcsseason9\\\\RLCS Season 9\\\\RLCS\\\\RLCS EU League Play\\\\Week 4\\\\M3 - Veloce Esports vs Endpoint\\\\5FA536904D4F15A4E6625F9ABB3E8293.replay',\n",
       " 'C:\\\\Users\\\\blake\\\\Documents\\\\rlcsseason9\\\\RLCS Season 9\\\\RLCS\\\\RLCS EU League Play\\\\Week 4\\\\M3 - Veloce Esports vs Endpoint\\\\E987434A44CA5097DC4AEB9B797DA8DE.replay',\n",
       " 'C:\\\\Users\\\\blake\\\\Documents\\\\rlcsseason9\\\\RLCS Season 9\\\\RLCS\\\\RLCS EU League Play\\\\Week 4\\\\M4 - Barça Esports vs Reciprocity\\\\143B3B514F53263317750D90730C9AEE.replay',\n",
       " 'C:\\\\Users\\\\blake\\\\Documents\\\\rlcsseason9\\\\RLCS Season 9\\\\RLCS\\\\RLCS EU League Play\\\\Week 4\\\\M4 - Barça Esports vs Reciprocity\\\\3B38CEAC4BB01D4CA7DAA5B00B44DF94.replay',\n",
       " 'C:\\\\Users\\\\blake\\\\Documents\\\\rlcsseason9\\\\RLCS Season 9\\\\RLCS\\\\RLCS EU League Play\\\\Week 4\\\\M4 - Barça Esports vs Reciprocity\\\\E6ABED1645D244A05F8F6CA5C9163E3F.replay',\n",
       " 'C:\\\\Users\\\\blake\\\\Documents\\\\rlcsseason9\\\\RLCS Season 9\\\\RLCS\\\\RLCS EU League Play\\\\Week 4\\\\M4 - Barça Esports vs Reciprocity\\\\F512B01D4DAF2E0F739DCE99E1952F60.replay',\n",
       " 'C:\\\\Users\\\\blake\\\\Documents\\\\rlcsseason9\\\\RLCS Season 9\\\\RLCS\\\\RLCS EU League Play\\\\Week 4\\\\M5 - TSM vs AS Monaco\\\\3AC8F0F94023683F8548CD83D79D331F.replay',\n",
       " 'C:\\\\Users\\\\blake\\\\Documents\\\\rlcsseason9\\\\RLCS Season 9\\\\RLCS\\\\RLCS EU League Play\\\\Week 4\\\\M5 - TSM vs AS Monaco\\\\6A86686440FD96FA6A228D8D77145770.replay',\n",
       " 'C:\\\\Users\\\\blake\\\\Documents\\\\rlcsseason9\\\\RLCS Season 9\\\\RLCS\\\\RLCS EU League Play\\\\Week 4\\\\M5 - TSM vs AS Monaco\\\\7C396CDF4C0663AF301B1D9F2EE6C4E8.replay',\n",
       " 'C:\\\\Users\\\\blake\\\\Documents\\\\rlcsseason9\\\\RLCS Season 9\\\\RLCS\\\\RLCS EU League Play\\\\Week 4\\\\M5 - TSM vs AS Monaco\\\\CFBEC2504A95F59D06A29D84D57AE50C.replay',\n",
       " 'C:\\\\Users\\\\blake\\\\Documents\\\\rlcsseason9\\\\RLCS Season 9\\\\RLCS\\\\RLCS EU League Play\\\\Week 4\\\\M5 - TSM vs AS Monaco\\\\D7C25FF143B4A0F898403CADB73688E6.replay',\n",
       " 'C:\\\\Users\\\\blake\\\\Documents\\\\rlcsseason9\\\\RLCS Season 9\\\\RLCS\\\\RLCS EU League Play\\\\Week 4\\\\M6 - Mousesports vs Dignitas\\\\15688169491749E64FA8609A666DA0FD.replay',\n",
       " 'C:\\\\Users\\\\blake\\\\Documents\\\\rlcsseason9\\\\RLCS Season 9\\\\RLCS\\\\RLCS EU League Play\\\\Week 4\\\\M6 - Mousesports vs Dignitas\\\\50FE8C6A49DB47A3F665CEBEE8E46EA6.replay',\n",
       " 'C:\\\\Users\\\\blake\\\\Documents\\\\rlcsseason9\\\\RLCS Season 9\\\\RLCS\\\\RLCS EU League Play\\\\Week 4\\\\M6 - Mousesports vs Dignitas\\\\6C020C4A4CF8D3166FCB9AA1122D838E.replay',\n",
       " 'C:\\\\Users\\\\blake\\\\Documents\\\\rlcsseason9\\\\RLCS Season 9\\\\RLCS\\\\RLCS EU League Play\\\\Week 4\\\\M6 - Mousesports vs Dignitas\\\\75E52D84487B6F765B421CBBC45E0643.replay',\n",
       " 'C:\\\\Users\\\\blake\\\\Documents\\\\rlcsseason9\\\\RLCS Season 9\\\\RLCS\\\\RLCS EU League Play\\\\Week 4\\\\M6 - Mousesports vs Dignitas\\\\D58C1D964C8A9F7B744162A43A35FB22.replay',\n",
       " 'C:\\\\Users\\\\blake\\\\Documents\\\\rlcsseason9\\\\RLCS Season 9\\\\RLCS\\\\RLCS EU League Play\\\\Week 5\\\\M1 - Team Singularity vs TSM\\\\3BA0AF5148E45539778AB58656AA0B16.replay',\n",
       " 'C:\\\\Users\\\\blake\\\\Documents\\\\rlcsseason9\\\\RLCS Season 9\\\\RLCS\\\\RLCS EU League Play\\\\Week 5\\\\M1 - Team Singularity vs TSM\\\\679E51A14A28DE2646A49AAE363610AB.replay',\n",
       " 'C:\\\\Users\\\\blake\\\\Documents\\\\rlcsseason9\\\\RLCS Season 9\\\\RLCS\\\\RLCS EU League Play\\\\Week 5\\\\M1 - Team Singularity vs TSM\\\\71CCF1034AD2FD43AFFF53A40936A035.replay',\n",
       " 'C:\\\\Users\\\\blake\\\\Documents\\\\rlcsseason9\\\\RLCS Season 9\\\\RLCS\\\\RLCS EU League Play\\\\Week 5\\\\M1 - Team Singularity vs TSM\\\\D18E4E1D4754B09537E954856122BA71.replay',\n",
       " 'C:\\\\Users\\\\blake\\\\Documents\\\\rlcsseason9\\\\RLCS Season 9\\\\RLCS\\\\RLCS EU League Play\\\\Week 5\\\\M1 - Team Singularity vs TSM\\\\D4E4558E46306CF1B1FC389614C6C59B.replay',\n",
       " 'C:\\\\Users\\\\blake\\\\Documents\\\\rlcsseason9\\\\RLCS Season 9\\\\RLCS\\\\RLCS EU League Play\\\\Week 5\\\\M2 - Veloce Esports vs AS Monaco Esports\\\\0E075DE44A2358CD7DFDA085757382B5.replay',\n",
       " 'C:\\\\Users\\\\blake\\\\Documents\\\\rlcsseason9\\\\RLCS Season 9\\\\RLCS\\\\RLCS EU League Play\\\\Week 5\\\\M2 - Veloce Esports vs AS Monaco Esports\\\\1D5153FB4E922038D700DDAF0ACD0C6E.replay',\n",
       " 'C:\\\\Users\\\\blake\\\\Documents\\\\rlcsseason9\\\\RLCS Season 9\\\\RLCS\\\\RLCS EU League Play\\\\Week 5\\\\M2 - Veloce Esports vs AS Monaco Esports\\\\A278CBB64657F6A32B7146B8BFEAD73E.replay',\n",
       " 'C:\\\\Users\\\\blake\\\\Documents\\\\rlcsseason9\\\\RLCS Season 9\\\\RLCS\\\\RLCS EU League Play\\\\Week 5\\\\M2 - Veloce Esports vs AS Monaco Esports\\\\C5DB99D74D6EACADC9C10F9406F90BDF.replay',\n",
       " 'C:\\\\Users\\\\blake\\\\Documents\\\\rlcsseason9\\\\RLCS Season 9\\\\RLCS\\\\RLCS EU League Play\\\\Week 5\\\\M3 - Endpoint vs Team Reciprocity\\\\1BB92D4D43532C6B7A42C584BB373D29.replay',\n",
       " 'C:\\\\Users\\\\blake\\\\Documents\\\\rlcsseason9\\\\RLCS Season 9\\\\RLCS\\\\RLCS EU League Play\\\\Week 5\\\\M3 - Endpoint vs Team Reciprocity\\\\3D8C9AE3444CB3D7C9627EA53C481120.replay',\n",
       " 'C:\\\\Users\\\\blake\\\\Documents\\\\rlcsseason9\\\\RLCS Season 9\\\\RLCS\\\\RLCS EU League Play\\\\Week 5\\\\M3 - Endpoint vs Team Reciprocity\\\\7D05D17B4AE976AF520A07AECA14ED15.replay',\n",
       " 'C:\\\\Users\\\\blake\\\\Documents\\\\rlcsseason9\\\\RLCS Season 9\\\\RLCS\\\\RLCS EU League Play\\\\Week 5\\\\M3 - Endpoint vs Team Reciprocity\\\\7F55C54C4F7F06A5F94A3496CA96D486.replay',\n",
       " 'C:\\\\Users\\\\blake\\\\Documents\\\\rlcsseason9\\\\RLCS Season 9\\\\RLCS\\\\RLCS EU League Play\\\\Week 5\\\\M4 - TSM vs Mousesports\\\\9BD6412A4468D9821D291D840665C35B.replay',\n",
       " 'C:\\\\Users\\\\blake\\\\Documents\\\\rlcsseason9\\\\RLCS Season 9\\\\RLCS\\\\RLCS EU League Play\\\\Week 5\\\\M4 - TSM vs Mousesports\\\\CBFDDD1142DF4A6A26E6E6AF57FC30F0.replay',\n",
       " 'C:\\\\Users\\\\blake\\\\Documents\\\\rlcsseason9\\\\RLCS Season 9\\\\RLCS\\\\RLCS EU League Play\\\\Week 5\\\\M4 - TSM vs Mousesports\\\\E3876760432B72CC11299F8ED20DB7F9.replay',\n",
       " 'C:\\\\Users\\\\blake\\\\Documents\\\\rlcsseason9\\\\RLCS Season 9\\\\RLCS\\\\RLCS EU League Play\\\\Week 5\\\\M4 - TSM vs Mousesports\\\\E85A7F5244B22CE4370F2088CE096F88.replay',\n",
       " 'C:\\\\Users\\\\blake\\\\Documents\\\\rlcsseason9\\\\RLCS Season 9\\\\RLCS\\\\RLCS EU League Play\\\\Week 5\\\\M5 - Barça Esports vs Dignitas\\\\5A172AC94A75400B8A0F8EAB648208EB.replay',\n",
       " 'C:\\\\Users\\\\blake\\\\Documents\\\\rlcsseason9\\\\RLCS Season 9\\\\RLCS\\\\RLCS EU League Play\\\\Week 5\\\\M5 - Barça Esports vs Dignitas\\\\601B81BA4D19B77070FA1DB5896C2387.replay',\n",
       " 'C:\\\\Users\\\\blake\\\\Documents\\\\rlcsseason9\\\\RLCS Season 9\\\\RLCS\\\\RLCS EU League Play\\\\Week 5\\\\M5 - Barça Esports vs Dignitas\\\\8FE35FF7458D9220F40372984AE7CC87.replay',\n",
       " 'C:\\\\Users\\\\blake\\\\Documents\\\\rlcsseason9\\\\RLCS Season 9\\\\RLCS\\\\RLCS EU League Play\\\\Week 5\\\\M5 - Barça Esports vs Dignitas\\\\A7C0D82042A32C01BF1CCFBBA45EEA4D.replay',\n",
       " 'C:\\\\Users\\\\blake\\\\Documents\\\\rlcsseason9\\\\RLCS Season 9\\\\RLCS\\\\RLCS EU League Play\\\\Week 5\\\\M5 - Barça Esports vs Dignitas\\\\BFF3E2684855AA697D66C6A6BE5885D2.replay',\n",
       " 'C:\\\\Users\\\\blake\\\\Documents\\\\rlcsseason9\\\\RLCS Season 9\\\\RLCS\\\\RLCS EU League Play\\\\Week 5\\\\M6 - Renault Vitality vs Team Reciprocity\\\\C61FAB834DCF2C5AC66240B42FBF1E50.replay',\n",
       " 'C:\\\\Users\\\\blake\\\\Documents\\\\rlcsseason9\\\\RLCS Season 9\\\\RLCS\\\\RLCS EU League Play\\\\Week 5\\\\M6 - Renault Vitality vs Team Reciprocity\\\\D0315083475B8FD518525FA9246EB75C.replay',\n",
       " 'C:\\\\Users\\\\blake\\\\Documents\\\\rlcsseason9\\\\RLCS Season 9\\\\RLCS\\\\RLCS EU League Play\\\\Week 5\\\\M6 - Renault Vitality vs Team Reciprocity\\\\EBF169334F5A9A54501AAFA410E7A7BC.replay',\n",
       " 'C:\\\\Users\\\\blake\\\\Documents\\\\rlcsseason9\\\\RLCS Season 9\\\\RLCS\\\\RLCS EU League Play\\\\Week 5\\\\M6 - Renault Vitality vs Team Reciprocity\\\\EC37599D4E135797E4BD57B6D743D5C9.replay',\n",
       " 'C:\\\\Users\\\\blake\\\\Documents\\\\rlcsseason9\\\\RLCS Season 9\\\\RLCS\\\\RLCS EU League Play\\\\Week 5 -- Double Header\\\\M1 - Team Singularity vs Barça Esports\\\\50F10D22473816933187A4AE2A4F5F86.replay',\n",
       " 'C:\\\\Users\\\\blake\\\\Documents\\\\rlcsseason9\\\\RLCS Season 9\\\\RLCS\\\\RLCS EU League Play\\\\Week 5 -- Double Header\\\\M1 - Team Singularity vs Barça Esports\\\\7AAB7EBF4DB0AC0111CC03A84B854AC5.replay',\n",
       " 'C:\\\\Users\\\\blake\\\\Documents\\\\rlcsseason9\\\\RLCS Season 9\\\\RLCS\\\\RLCS EU League Play\\\\Week 5 -- Double Header\\\\M1 - Team Singularity vs Barça Esports\\\\7B068ED242A1748D574A7EA38043C5F4.replay',\n",
       " 'C:\\\\Users\\\\blake\\\\Documents\\\\rlcsseason9\\\\RLCS Season 9\\\\RLCS\\\\RLCS EU League Play\\\\Week 5 -- Double Header\\\\M1 - Team Singularity vs Barça Esports\\\\C0AF96A844D3A6BF769777BCFD0DDD2F.replay',\n",
       " 'C:\\\\Users\\\\blake\\\\Documents\\\\rlcsseason9\\\\RLCS Season 9\\\\RLCS\\\\RLCS EU League Play\\\\Week 5 -- Double Header\\\\M1 - Team Singularity vs Barça Esports\\\\DA07E2D84F42D5BDFECBF2B6E758F40D.replay',\n",
       " 'C:\\\\Users\\\\blake\\\\Documents\\\\rlcsseason9\\\\RLCS Season 9\\\\RLCS\\\\RLCS EU League Play\\\\Week 5 -- Double Header\\\\M2 - Endpoint vs TSM\\\\1045882B492D790B49197F86B0F2999F.replay',\n",
       " 'C:\\\\Users\\\\blake\\\\Documents\\\\rlcsseason9\\\\RLCS Season 9\\\\RLCS\\\\RLCS EU League Play\\\\Week 5 -- Double Header\\\\M2 - Endpoint vs TSM\\\\4472691D4DD5398743D1BF8377F282FD.replay',\n",
       " 'C:\\\\Users\\\\blake\\\\Documents\\\\rlcsseason9\\\\RLCS Season 9\\\\RLCS\\\\RLCS EU League Play\\\\Week 5 -- Double Header\\\\M2 - Endpoint vs TSM\\\\906DDCE841B39FEA096344BE6D20D58C.replay',\n",
       " 'C:\\\\Users\\\\blake\\\\Documents\\\\rlcsseason9\\\\RLCS Season 9\\\\RLCS\\\\RLCS EU League Play\\\\Week 5 -- Double Header\\\\M3 - Veloce Esports vs Mousesports\\\\0000DB4D4182DE4227B9A39DFF7E9672.replay',\n",
       " 'C:\\\\Users\\\\blake\\\\Documents\\\\rlcsseason9\\\\RLCS Season 9\\\\RLCS\\\\RLCS EU League Play\\\\Week 5 -- Double Header\\\\M3 - Veloce Esports vs Mousesports\\\\8A501A9C447545C3AFFD7B8B1D51AF5B.replay',\n",
       " 'C:\\\\Users\\\\blake\\\\Documents\\\\rlcsseason9\\\\RLCS Season 9\\\\RLCS\\\\RLCS EU League Play\\\\Week 5 -- Double Header\\\\M3 - Veloce Esports vs Mousesports\\\\AF4FD7D7428B5AB519B10A825EB100CD.replay',\n",
       " 'C:\\\\Users\\\\blake\\\\Documents\\\\rlcsseason9\\\\RLCS Season 9\\\\RLCS\\\\RLCS EU League Play\\\\Week 5 -- Double Header\\\\M4 - AS Monaco Esports vs Team Reciprocity_\\\\7CC391794C0F00D046C4B8A0F19C0D13.replay',\n",
       " 'C:\\\\Users\\\\blake\\\\Documents\\\\rlcsseason9\\\\RLCS Season 9\\\\RLCS\\\\RLCS EU League Play\\\\Week 5 -- Double Header\\\\M4 - AS Monaco Esports vs Team Reciprocity_\\\\9F71F12E4D71384763A66F83AFAA1E91.replay',\n",
       " 'C:\\\\Users\\\\blake\\\\Documents\\\\rlcsseason9\\\\RLCS Season 9\\\\RLCS\\\\RLCS EU League Play\\\\Week 5 -- Double Header\\\\M4 - AS Monaco Esports vs Team Reciprocity_\\\\B8A4FD684AC8BA8E1884968E857B58B7.replay',\n",
       " 'C:\\\\Users\\\\blake\\\\Documents\\\\rlcsseason9\\\\RLCS Season 9\\\\RLCS\\\\RLCS EU League Play\\\\Week 5 -- Double Header\\\\M4 - AS Monaco Esports vs Team Reciprocity_\\\\CE6DEF824810D6E1420E798D9F0FE379.replay',\n",
       " 'C:\\\\Users\\\\blake\\\\Documents\\\\rlcsseason9\\\\RLCS Season 9\\\\RLCS\\\\RLCS EU League Play\\\\Week 5 -- Double Header\\\\M5 - Dignitas vs Renault Vitality\\\\1251D4994224BA1991238E853736A443.replay',\n",
       " 'C:\\\\Users\\\\blake\\\\Documents\\\\rlcsseason9\\\\RLCS Season 9\\\\RLCS\\\\RLCS EU League Play\\\\Week 5 -- Double Header\\\\M5 - Dignitas vs Renault Vitality\\\\38CA0BD84DEC548CED45D080DCFB203C.replay',\n",
       " 'C:\\\\Users\\\\blake\\\\Documents\\\\rlcsseason9\\\\RLCS Season 9\\\\RLCS\\\\RLCS EU League Play\\\\Week 5 -- Double Header\\\\M5 - Dignitas vs Renault Vitality\\\\99E20E494FE59E82C703108017BE09FF.replay',\n",
       " 'C:\\\\Users\\\\blake\\\\Documents\\\\rlcsseason9\\\\RLCS Season 9\\\\RLCS\\\\RLCS EU League Play\\\\Week 5 -- Double Header\\\\M5 - Dignitas vs Renault Vitality\\\\CA5B1D074199D2AFC02111A91F8A90A3.replay',\n",
       " 'C:\\\\Users\\\\blake\\\\Documents\\\\rlcsseason9\\\\RLCS Season 9\\\\RLCS\\\\RLCS EU League Play\\\\Week 5 -- Double Header\\\\M5 - Dignitas vs Renault Vitality\\\\E65E541E4E2611E066E6E699960214DA.replay',\n",
       " 'C:\\\\Users\\\\blake\\\\Documents\\\\rlcsseason9\\\\RLCS Season 9\\\\RLCS\\\\RLCS EU League Play\\\\Week 6\\\\M1 - Team Endpoint vs Dignitas\\\\070D43AE45844957E58B0692E4553131.replay',\n",
       " 'C:\\\\Users\\\\blake\\\\Documents\\\\rlcsseason9\\\\RLCS Season 9\\\\RLCS\\\\RLCS EU League Play\\\\Week 6\\\\M1 - Team Endpoint vs Dignitas\\\\0AF80C914B7992793F014B9C3F640EED.replay',\n",
       " 'C:\\\\Users\\\\blake\\\\Documents\\\\rlcsseason9\\\\RLCS Season 9\\\\RLCS\\\\RLCS EU League Play\\\\Week 6\\\\M1 - Team Endpoint vs Dignitas\\\\E782442C409A4139E8A410A71B43563F.replay',\n",
       " 'C:\\\\Users\\\\blake\\\\Documents\\\\rlcsseason9\\\\RLCS Season 9\\\\RLCS\\\\RLCS EU League Play\\\\Week 6\\\\M1 - Team Endpoint vs Dignitas\\\\FD0AC1374569E131FE55EA81734FDFE9.replay',\n",
       " 'C:\\\\Users\\\\blake\\\\Documents\\\\rlcsseason9\\\\RLCS Season 9\\\\RLCS\\\\RLCS EU League Play\\\\Week 6\\\\M2 - TSM vs Team Reciprocity\\\\3E07A5874AC6776B2634608392E5335D.replay',\n",
       " 'C:\\\\Users\\\\blake\\\\Documents\\\\rlcsseason9\\\\RLCS Season 9\\\\RLCS\\\\RLCS EU League Play\\\\Week 6\\\\M2 - TSM vs Team Reciprocity\\\\4607F4A147412F1161D0269D311F8230.replay',\n",
       " 'C:\\\\Users\\\\blake\\\\Documents\\\\rlcsseason9\\\\RLCS Season 9\\\\RLCS\\\\RLCS EU League Play\\\\Week 6\\\\M2 - TSM vs Team Reciprocity\\\\8245379A4C35B695435AC59D2845F62C.replay',\n",
       " 'C:\\\\Users\\\\blake\\\\Documents\\\\rlcsseason9\\\\RLCS Season 9\\\\RLCS\\\\RLCS EU League Play\\\\Week 6\\\\M2 - TSM vs Team Reciprocity\\\\BA94450146A71CD2CB30A1BEF48B43A7.replay',\n",
       " 'C:\\\\Users\\\\blake\\\\Documents\\\\rlcsseason9\\\\RLCS Season 9\\\\RLCS\\\\RLCS EU League Play\\\\Week 6\\\\M3 - Team Singularity vs Team Endpoint\\\\12C6FEBD4CD2361BBB5F65B33C37C26C.replay',\n",
       " 'C:\\\\Users\\\\blake\\\\Documents\\\\rlcsseason9\\\\RLCS Season 9\\\\RLCS\\\\RLCS EU League Play\\\\Week 6\\\\M3 - Team Singularity vs Team Endpoint\\\\5AF2268945584E681AC6218038133ADE.replay',\n",
       " 'C:\\\\Users\\\\blake\\\\Documents\\\\rlcsseason9\\\\RLCS Season 9\\\\RLCS\\\\RLCS EU League Play\\\\Week 6\\\\M3 - Team Singularity vs Team Endpoint\\\\66C40B574F628D69FF6993A3437AA318.replay',\n",
       " 'C:\\\\Users\\\\blake\\\\Documents\\\\rlcsseason9\\\\RLCS Season 9\\\\RLCS\\\\RLCS EU League Play\\\\Week 6\\\\M3 - Team Singularity vs Team Endpoint\\\\70B80DC6472DEF92E84372820D1AC957.replay',\n",
       " 'C:\\\\Users\\\\blake\\\\Documents\\\\rlcsseason9\\\\RLCS Season 9\\\\RLCS\\\\RLCS EU League Play\\\\Week 6\\\\M3 - Team Singularity vs Team Endpoint\\\\88EB1CF548624CC13B4C3C941D181670.replay',\n",
       " 'C:\\\\Users\\\\blake\\\\Documents\\\\rlcsseason9\\\\RLCS Season 9\\\\RLCS\\\\RLCS EU League Play\\\\Week 6\\\\M4 - Veloce Esports vs Dignitas\\\\0F60D7EA471FA06CAB15D09BC95DB159.replay',\n",
       " 'C:\\\\Users\\\\blake\\\\Documents\\\\rlcsseason9\\\\RLCS Season 9\\\\RLCS\\\\RLCS EU League Play\\\\Week 6\\\\M4 - Veloce Esports vs Dignitas\\\\2141C0844C8F52A05F4AD3AB48959AF2.replay',\n",
       " 'C:\\\\Users\\\\blake\\\\Documents\\\\rlcsseason9\\\\RLCS Season 9\\\\RLCS\\\\RLCS EU League Play\\\\Week 6\\\\M4 - Veloce Esports vs Dignitas\\\\398DEFD44AF366E46E73B3B75A3D11CA.replay',\n",
       " 'C:\\\\Users\\\\blake\\\\Documents\\\\rlcsseason9\\\\RLCS Season 9\\\\RLCS\\\\RLCS EU League Play\\\\Week 6\\\\M4 - Veloce Esports vs Dignitas\\\\83B2499D4649E030D4488AAB6B229229.replay',\n",
       " 'C:\\\\Users\\\\blake\\\\Documents\\\\rlcsseason9\\\\RLCS Season 9\\\\RLCS\\\\RLCS EU League Play\\\\Week 6\\\\M4 - Veloce Esports vs Dignitas\\\\F878F4B5454758E544AAC389C28BB715.replay',\n",
       " 'C:\\\\Users\\\\blake\\\\Documents\\\\rlcsseason9\\\\RLCS Season 9\\\\RLCS\\\\RLCS EU League Play\\\\Week 6\\\\M5 - AS Monaco Esports vs Barça Esports\\\\409A989C402AF535ED632582D04DF3F6.replay',\n",
       " 'C:\\\\Users\\\\blake\\\\Documents\\\\rlcsseason9\\\\RLCS Season 9\\\\RLCS\\\\RLCS EU League Play\\\\Week 6\\\\M5 - AS Monaco Esports vs Barça Esports\\\\4E96F14E4BA538B88F07B09F4FC34E3E.replay',\n",
       " 'C:\\\\Users\\\\blake\\\\Documents\\\\rlcsseason9\\\\RLCS Season 9\\\\RLCS\\\\RLCS EU League Play\\\\Week 6\\\\M5 - AS Monaco Esports vs Barça Esports\\\\81CD271440DA717E2FE907A181638E38.replay',\n",
       " 'C:\\\\Users\\\\blake\\\\Documents\\\\rlcsseason9\\\\RLCS Season 9\\\\RLCS\\\\RLCS EU League Play\\\\Week 6\\\\M5 - AS Monaco Esports vs Barça Esports\\\\F86D96194EC009B25661C8A21E4D77F5.replay',\n",
       " 'C:\\\\Users\\\\blake\\\\Documents\\\\rlcsseason9\\\\RLCS Season 9\\\\RLCS\\\\RLCS EU League Play\\\\Week 6\\\\M5 - AS Monaco Esports vs Barça Esports\\\\FEEC5DB94258A1D4723422A674B52FE2.replay',\n",
       " 'C:\\\\Users\\\\blake\\\\Documents\\\\rlcsseason9\\\\RLCS Season 9\\\\RLCS\\\\RLCS EU League Play\\\\Week 6\\\\M6 - Renault Vitality vs Mousesports\\\\27DB4F574E750011EE8CB0A59873E381.replay',\n",
       " 'C:\\\\Users\\\\blake\\\\Documents\\\\rlcsseason9\\\\RLCS Season 9\\\\RLCS\\\\RLCS EU League Play\\\\Week 6\\\\M6 - Renault Vitality vs Mousesports\\\\495D74344C0336ECACB9F3968454D6A7.replay',\n",
       " 'C:\\\\Users\\\\blake\\\\Documents\\\\rlcsseason9\\\\RLCS Season 9\\\\RLCS\\\\RLCS EU League Play\\\\Week 6\\\\M6 - Renault Vitality vs Mousesports\\\\80BFE9844060B1A9386B9383348A2120.replay',\n",
       " 'C:\\\\Users\\\\blake\\\\Documents\\\\rlcsseason9\\\\RLCS Season 9\\\\RLCS\\\\RLCS EU League Play\\\\Week 6\\\\M6 - Renault Vitality vs Mousesports\\\\8335B4EC4E9C49EA180D509F8604E188.replay',\n",
       " 'C:\\\\Users\\\\blake\\\\Documents\\\\rlcsseason9\\\\RLCS Season 9\\\\RLCS\\\\RLCS EU League Play\\\\Week 6\\\\M6 - Renault Vitality vs Mousesports\\\\EECE2D7D4C062028A45239A43C02895C.replay',\n",
       " 'C:\\\\Users\\\\blake\\\\Documents\\\\rlcsseason9\\\\RLCS Season 9\\\\RLCS\\\\RLCS EU League Play\\\\Week 7\\\\M1 - Team Singularity vs AS Monaco Esports\\\\734D99FF4B83B81CA8754C82FB9E34DE.replay',\n",
       " 'C:\\\\Users\\\\blake\\\\Documents\\\\rlcsseason9\\\\RLCS Season 9\\\\RLCS\\\\RLCS EU League Play\\\\Week 7\\\\M1 - Team Singularity vs AS Monaco Esports\\\\AE38AFB94B22CC98EB819BBE55817ABE.replay',\n",
       " 'C:\\\\Users\\\\blake\\\\Documents\\\\rlcsseason9\\\\RLCS Season 9\\\\RLCS\\\\RLCS EU League Play\\\\Week 7\\\\M1 - Team Singularity vs AS Monaco Esports\\\\ECC411684DC0FFAE56D1B2A581AFFA46.replay',\n",
       " 'C:\\\\Users\\\\blake\\\\Documents\\\\rlcsseason9\\\\RLCS Season 9\\\\RLCS\\\\RLCS EU League Play\\\\Week 7\\\\M2 - Team Endpoint vs Mousesports\\\\25672D6544DA56B9D65318B4058E4A74.replay',\n",
       " 'C:\\\\Users\\\\blake\\\\Documents\\\\rlcsseason9\\\\RLCS Season 9\\\\RLCS\\\\RLCS EU League Play\\\\Week 7\\\\M2 - Team Endpoint vs Mousesports\\\\2786D7D5486964062276B9BA624D8E7E.replay',\n",
       " 'C:\\\\Users\\\\blake\\\\Documents\\\\rlcsseason9\\\\RLCS Season 9\\\\RLCS\\\\RLCS EU League Play\\\\Week 7\\\\M2 - Team Endpoint vs Mousesports\\\\6A215DB442246C5A6637DC95DCB6DA20.replay',\n",
       " 'C:\\\\Users\\\\blake\\\\Documents\\\\rlcsseason9\\\\RLCS Season 9\\\\RLCS\\\\RLCS EU League Play\\\\Week 7\\\\M2 - Team Endpoint vs Mousesports\\\\7F710A6B417C6C5BF64068B47CF882FC.replay',\n",
       " 'C:\\\\Users\\\\blake\\\\Documents\\\\rlcsseason9\\\\RLCS Season 9\\\\RLCS\\\\RLCS EU League Play\\\\Week 7\\\\M2 - Team Endpoint vs Mousesports\\\\DA67BAB1410AE0808B5BC1A9DF762FC2.replay',\n",
       " 'C:\\\\Users\\\\blake\\\\Documents\\\\rlcsseason9\\\\RLCS Season 9\\\\RLCS\\\\RLCS EU League Play\\\\Week 7\\\\M3 - TSM vs Barça Esports\\\\30D7C3564033458EA15F659183D1C587.replay',\n",
       " 'C:\\\\Users\\\\blake\\\\Documents\\\\rlcsseason9\\\\RLCS Season 9\\\\RLCS\\\\RLCS EU League Play\\\\Week 7\\\\M3 - TSM vs Barça Esports\\\\5C864A06406C6A24414A50B92BDA0181.replay',\n",
       " 'C:\\\\Users\\\\blake\\\\Documents\\\\rlcsseason9\\\\RLCS Season 9\\\\RLCS\\\\RLCS EU League Play\\\\Week 7\\\\M3 - TSM vs Barça Esports\\\\77A1F92B4ADF6A14D20C4F97E97CCA4F.replay',\n",
       " 'C:\\\\Users\\\\blake\\\\Documents\\\\rlcsseason9\\\\RLCS Season 9\\\\RLCS\\\\RLCS EU League Play\\\\Week 7\\\\M3 - TSM vs Barça Esports\\\\C92686D744CDCC7F104F3BA7CCDDFB7A.replay',\n",
       " 'C:\\\\Users\\\\blake\\\\Documents\\\\rlcsseason9\\\\RLCS Season 9\\\\RLCS\\\\RLCS EU League Play\\\\Week 7\\\\M3 - TSM vs Barça Esports\\\\CDCFD18D46B682EFA2B8A7B6E9E3800B.replay',\n",
       " 'C:\\\\Users\\\\blake\\\\Documents\\\\rlcsseason9\\\\RLCS Season 9\\\\RLCS\\\\RLCS EU League Play\\\\Week 7\\\\M4 - Team Reciprocity vs Dignitas\\\\02DEB8354AD1C1DC54B968A07F52FADD.replay',\n",
       " 'C:\\\\Users\\\\blake\\\\Documents\\\\rlcsseason9\\\\RLCS Season 9\\\\RLCS\\\\RLCS EU League Play\\\\Week 7\\\\M4 - Team Reciprocity vs Dignitas\\\\29C4056F44BCAEEE3CD566B2BC1ACE74.replay',\n",
       " 'C:\\\\Users\\\\blake\\\\Documents\\\\rlcsseason9\\\\RLCS Season 9\\\\RLCS\\\\RLCS EU League Play\\\\Week 7\\\\M4 - Team Reciprocity vs Dignitas\\\\7C18A00944739EE611311F86928144A6.replay',\n",
       " 'C:\\\\Users\\\\blake\\\\Documents\\\\rlcsseason9\\\\RLCS Season 9\\\\RLCS\\\\RLCS EU League Play\\\\Week 7\\\\M4 - Team Reciprocity vs Dignitas\\\\7C5D1CA944BC86CA401CA59B06BD3969.replay',\n",
       " 'C:\\\\Users\\\\blake\\\\Documents\\\\rlcsseason9\\\\RLCS Season 9\\\\RLCS\\\\RLCS EU League Play\\\\Week 7\\\\M4 - Team Reciprocity vs Dignitas\\\\962F39524AEA863EC26418933A92D9AA.replay',\n",
       " 'C:\\\\Users\\\\blake\\\\Documents\\\\rlcsseason9\\\\RLCS Season 9\\\\RLCS\\\\RLCS EU League Play\\\\Week 7\\\\M5 - Barça Esports vs Mousesports\\\\4C7913BD4129465A5B9FF0814CE8FFDA.replay',\n",
       " 'C:\\\\Users\\\\blake\\\\Documents\\\\rlcsseason9\\\\RLCS Season 9\\\\RLCS\\\\RLCS EU League Play\\\\Week 7\\\\M5 - Barça Esports vs Mousesports\\\\627AB0474C77E8B7F5C5AF87148C796A.replay',\n",
       " 'C:\\\\Users\\\\blake\\\\Documents\\\\rlcsseason9\\\\RLCS Season 9\\\\RLCS\\\\RLCS EU League Play\\\\Week 7\\\\M5 - Barça Esports vs Mousesports\\\\6F776A044A3D15AE1563CBB7FA4A8711.replay',\n",
       " 'C:\\\\Users\\\\blake\\\\Documents\\\\rlcsseason9\\\\RLCS Season 9\\\\RLCS\\\\RLCS EU League Play\\\\Week 7\\\\M5 - Barça Esports vs Mousesports\\\\F2F10DB94037E09D98EEEEAAA90203DA.replay',\n",
       " 'C:\\\\Users\\\\blake\\\\Documents\\\\rlcsseason9\\\\RLCS Season 9\\\\RLCS\\\\RLCS EU League Play\\\\Week 7\\\\M5 - Barça Esports vs Mousesports\\\\F42D39634EF32C44B42847AF0625492E.replay',\n",
       " 'C:\\\\Users\\\\blake\\\\Documents\\\\rlcsseason9\\\\RLCS Season 9\\\\RLCS\\\\RLCS EU League Play\\\\Week 7\\\\M6 - Veloce Esports vs Renault Vitality\\\\00AB49304D661DC4E253C5A539A42BB4.replay',\n",
       " 'C:\\\\Users\\\\blake\\\\Documents\\\\rlcsseason9\\\\RLCS Season 9\\\\RLCS\\\\RLCS EU League Play\\\\Week 7\\\\M6 - Veloce Esports vs Renault Vitality\\\\783FBF67463FFE3D81D50D874E26BB8C.replay',\n",
       " 'C:\\\\Users\\\\blake\\\\Documents\\\\rlcsseason9\\\\RLCS Season 9\\\\RLCS\\\\RLCS EU League Play\\\\Week 7\\\\M6 - Veloce Esports vs Renault Vitality\\\\A49BBB20464A1DD7CECB36A33D1347FA.replay',\n",
       " 'C:\\\\Users\\\\blake\\\\Documents\\\\rlcsseason9\\\\RLCS Season 9\\\\RLCS\\\\RLCS EU League Play\\\\Week 7\\\\M6 - Veloce Esports vs Renault Vitality\\\\B522F4494811A2E2606BAAAE15F0A3E9.replay',\n",
       " 'C:\\\\Users\\\\blake\\\\Documents\\\\rlcsseason9\\\\RLCS Season 9\\\\RLCS\\\\RLCS EU League Play\\\\Week 7\\\\M6 - Veloce Esports vs Renault Vitality\\\\D6EB76A4427D7022AE3C538341F91487.replay',\n",
       " 'C:\\\\Users\\\\blake\\\\Documents\\\\rlcsseason9\\\\RLCS Season 9\\\\RLCS\\\\RLCS NA League Play\\\\Promotion Tournament\\\\M1 - Rogue vs Stromboli\\\\07F95FCA421C4F778775E29EB113EB8F.replay',\n",
       " 'C:\\\\Users\\\\blake\\\\Documents\\\\rlcsseason9\\\\RLCS Season 9\\\\RLCS\\\\RLCS NA League Play\\\\Promotion Tournament\\\\M1 - Rogue vs Stromboli\\\\2BAED05046DF613E45DFABAD5EAEB061.replay',\n",
       " 'C:\\\\Users\\\\blake\\\\Documents\\\\rlcsseason9\\\\RLCS Season 9\\\\RLCS\\\\RLCS NA League Play\\\\Promotion Tournament\\\\M1 - Rogue vs Stromboli\\\\54349C0F45E07836252783BD811FF919.replay',\n",
       " 'C:\\\\Users\\\\blake\\\\Documents\\\\rlcsseason9\\\\RLCS Season 9\\\\RLCS\\\\RLCS NA League Play\\\\Promotion Tournament\\\\M1 - Rogue vs Stromboli\\\\7A71580F484E9A064C437EB179D060DD.replay',\n",
       " 'C:\\\\Users\\\\blake\\\\Documents\\\\rlcsseason9\\\\RLCS Season 9\\\\RLCS\\\\RLCS NA League Play\\\\Promotion Tournament\\\\M1 - Rogue vs Stromboli\\\\AAF1041144486AFF535B6C84B5D8079A.replay',\n",
       " 'C:\\\\Users\\\\blake\\\\Documents\\\\rlcsseason9\\\\RLCS Season 9\\\\RLCS\\\\RLCS NA League Play\\\\Promotion Tournament\\\\M1 - Rogue vs Stromboli\\\\C850BE4C4F4FD79A2509A384D499EC5A.replay',\n",
       " 'C:\\\\Users\\\\blake\\\\Documents\\\\rlcsseason9\\\\RLCS Season 9\\\\RLCS\\\\RLCS NA League Play\\\\Promotion Tournament\\\\M1 - Rogue vs Stromboli\\\\DD80F4804C017C45B45575A84589A291.replay',\n",
       " 'C:\\\\Users\\\\blake\\\\Documents\\\\rlcsseason9\\\\RLCS Season 9\\\\RLCS\\\\RLCS NA League Play\\\\Promotion Tournament\\\\M2 - Charlotte Phoenix vs Eunited\\\\24027A8C496B29D0EB58A0A5A9573941.replay',\n",
       " 'C:\\\\Users\\\\blake\\\\Documents\\\\rlcsseason9\\\\RLCS Season 9\\\\RLCS\\\\RLCS NA League Play\\\\Promotion Tournament\\\\M2 - Charlotte Phoenix vs Eunited\\\\2E87BC0A4E68D4712921D6A2CC58EB28.replay',\n",
       " 'C:\\\\Users\\\\blake\\\\Documents\\\\rlcsseason9\\\\RLCS Season 9\\\\RLCS\\\\RLCS NA League Play\\\\Promotion Tournament\\\\M2 - Charlotte Phoenix vs Eunited\\\\328485244A4F9B23EAFB83A1510DD4C3.replay',\n",
       " 'C:\\\\Users\\\\blake\\\\Documents\\\\rlcsseason9\\\\RLCS Season 9\\\\RLCS\\\\RLCS NA League Play\\\\Promotion Tournament\\\\M2 - Charlotte Phoenix vs Eunited\\\\A9A55C9648750C3FD7BF869147E70DDD.replay',\n",
       " 'C:\\\\Users\\\\blake\\\\Documents\\\\rlcsseason9\\\\RLCS Season 9\\\\RLCS\\\\RLCS NA League Play\\\\Promotion Tournament\\\\M2 - Charlotte Phoenix vs Eunited\\\\D16B8EE347979E52A030438D1C33C513.replay',\n",
       " 'C:\\\\Users\\\\blake\\\\Documents\\\\rlcsseason9\\\\RLCS Season 9\\\\RLCS\\\\RLCS NA League Play\\\\Promotion Tournament\\\\M2 - Charlotte Phoenix vs Eunited\\\\E1137D764F8268C9389DBDA53E44E32E.replay',\n",
       " 'C:\\\\Users\\\\blake\\\\Documents\\\\rlcsseason9\\\\RLCS Season 9\\\\RLCS\\\\RLCS NA League Play\\\\Promotion Tournament\\\\M3  - Charlotte Phoenix vs Stromboli\\\\089A22FA4100795DABA3539E15A1FA35.replay',\n",
       " 'C:\\\\Users\\\\blake\\\\Documents\\\\rlcsseason9\\\\RLCS Season 9\\\\RLCS\\\\RLCS NA League Play\\\\Promotion Tournament\\\\M3  - Charlotte Phoenix vs Stromboli\\\\C94943AA45DB3A8938CDA68BEAFBB352.replay',\n",
       " 'C:\\\\Users\\\\blake\\\\Documents\\\\rlcsseason9\\\\RLCS Season 9\\\\RLCS\\\\RLCS NA League Play\\\\Promotion Tournament\\\\M3  - Charlotte Phoenix vs Stromboli\\\\DCB75AEA4442897481113F883FFEBFC4.replay',\n",
       " 'C:\\\\Users\\\\blake\\\\Documents\\\\rlcsseason9\\\\RLCS Season 9\\\\RLCS\\\\RLCS NA League Play\\\\Promotion Tournament\\\\M3  - Charlotte Phoenix vs Stromboli\\\\F46F64A44B0F4460601617AC15477676.replay',\n",
       " 'C:\\\\Users\\\\blake\\\\Documents\\\\rlcsseason9\\\\RLCS Season 9\\\\RLCS\\\\RLCS NA League Play\\\\Promotion Tournament\\\\M4 - Rogue vs Eunited\\\\155DE7DF46A6EB3C6505C78493DDB6CD.replay',\n",
       " 'C:\\\\Users\\\\blake\\\\Documents\\\\rlcsseason9\\\\RLCS Season 9\\\\RLCS\\\\RLCS NA League Play\\\\Promotion Tournament\\\\M4 - Rogue vs Eunited\\\\5CEFFDDB4D4B7D0CE2CCFAAE6F399286.replay',\n",
       " 'C:\\\\Users\\\\blake\\\\Documents\\\\rlcsseason9\\\\RLCS Season 9\\\\RLCS\\\\RLCS NA League Play\\\\Promotion Tournament\\\\M4 - Rogue vs Eunited\\\\5D0622B44CE8F60B9BE46F9AD43CA7D5.replay',\n",
       " 'C:\\\\Users\\\\blake\\\\Documents\\\\rlcsseason9\\\\RLCS Season 9\\\\RLCS\\\\RLCS NA League Play\\\\Promotion Tournament\\\\M4 - Rogue vs Eunited\\\\7BA614E743356AA6A97382BAA547FC9A.replay',\n",
       " 'C:\\\\Users\\\\blake\\\\Documents\\\\rlcsseason9\\\\RLCS Season 9\\\\RLCS\\\\RLCS NA League Play\\\\Promotion Tournament\\\\M4 - Rogue vs Eunited\\\\D2FDE61245867B6B7D6581B8BDF1D17C.replay',\n",
       " 'C:\\\\Users\\\\blake\\\\Documents\\\\rlcsseason9\\\\RLCS Season 9\\\\RLCS\\\\RLCS NA League Play\\\\Promotion Tournament\\\\M4 - Rogue vs Eunited\\\\D8E5BCF04FACDE14B9E5EB924FEDD324.replay',\n",
       " 'C:\\\\Users\\\\blake\\\\Documents\\\\rlcsseason9\\\\RLCS Season 9\\\\RLCS\\\\RLCS NA League Play\\\\Promotion Tournament\\\\M5 - Charlotte Phoenix vs Eunited\\\\082F2F3A4DB4C7568E0FA5B2A6E43B19.replay',\n",
       " 'C:\\\\Users\\\\blake\\\\Documents\\\\rlcsseason9\\\\RLCS Season 9\\\\RLCS\\\\RLCS NA League Play\\\\Promotion Tournament\\\\M5 - Charlotte Phoenix vs Eunited\\\\3C4C45FD420A01E0280D1283C1DE0B1B.replay',\n",
       " 'C:\\\\Users\\\\blake\\\\Documents\\\\rlcsseason9\\\\RLCS Season 9\\\\RLCS\\\\RLCS NA League Play\\\\Promotion Tournament\\\\M5 - Charlotte Phoenix vs Eunited\\\\72ADFEC3430EB870F21172BBBDD4C979.replay',\n",
       " 'C:\\\\Users\\\\blake\\\\Documents\\\\rlcsseason9\\\\RLCS Season 9\\\\RLCS\\\\RLCS NA League Play\\\\Promotion Tournament\\\\M5 - Charlotte Phoenix vs Eunited\\\\8940B44941A51A038BA0728BE74D3220.replay',\n",
       " 'C:\\\\Users\\\\blake\\\\Documents\\\\rlcsseason9\\\\RLCS Season 9\\\\RLCS\\\\RLCS NA League Play\\\\Promotion Tournament\\\\M5 - Charlotte Phoenix vs Eunited\\\\CF7A86BA49E669453F5D6A86DDF949E7.replay',\n",
       " 'C:\\\\Users\\\\blake\\\\Documents\\\\rlcsseason9\\\\RLCS Season 9\\\\RLCS\\\\RLCS NA League Play\\\\Promotion Tournament\\\\M5 - Charlotte Phoenix vs Eunited\\\\E6FA83F541818020F4E70880566F2AA1.replay',\n",
       " 'C:\\\\Users\\\\blake\\\\Documents\\\\rlcsseason9\\\\RLCS Season 9\\\\RLCS\\\\RLCS NA League Play\\\\Promotion Tournament\\\\M5 - Charlotte Phoenix vs Eunited\\\\F3BA3EC34914F1A1AD3AA3A2F5768813.replay',\n",
       " 'C:\\\\Users\\\\blake\\\\Documents\\\\rlcsseason9\\\\RLCS Season 9\\\\RLCS\\\\RLCS NA League Play\\\\Regional Championship\\\\M1 - Susquehanna Soniqs vs NRG Esports\\\\301B09264B7555573878FDB6C4B53086.replay',\n",
       " 'C:\\\\Users\\\\blake\\\\Documents\\\\rlcsseason9\\\\RLCS Season 9\\\\RLCS\\\\RLCS NA League Play\\\\Regional Championship\\\\M1 - Susquehanna Soniqs vs NRG Esports\\\\60811B6B47F968A901F406B9F3672598.replay',\n",
       " 'C:\\\\Users\\\\blake\\\\Documents\\\\rlcsseason9\\\\RLCS Season 9\\\\RLCS\\\\RLCS NA League Play\\\\Regional Championship\\\\M1 - Susquehanna Soniqs vs NRG Esports\\\\7DFECEC1478593F1EEBDF28615E97B15.replay',\n",
       " 'C:\\\\Users\\\\blake\\\\Documents\\\\rlcsseason9\\\\RLCS Season 9\\\\RLCS\\\\RLCS NA League Play\\\\Regional Championship\\\\M1 - Susquehanna Soniqs vs NRG Esports\\\\F3C0F02A4BFDA1F3E3EA4EAF2B0EC44A.replay',\n",
       " 'C:\\\\Users\\\\blake\\\\Documents\\\\rlcsseason9\\\\RLCS Season 9\\\\RLCS\\\\RLCS NA League Play\\\\Regional Championship\\\\M2 - Cloud9 vs Ghost Gaming\\\\32E44C364EE0B3AD8F147CA89DD80E99.replay',\n",
       " 'C:\\\\Users\\\\blake\\\\Documents\\\\rlcsseason9\\\\RLCS Season 9\\\\RLCS\\\\RLCS NA League Play\\\\Regional Championship\\\\M2 - Cloud9 vs Ghost Gaming\\\\5B25EE1B4FA8D1471E946B877C2FDBF8.replay',\n",
       " 'C:\\\\Users\\\\blake\\\\Documents\\\\rlcsseason9\\\\RLCS Season 9\\\\RLCS\\\\RLCS NA League Play\\\\Regional Championship\\\\M2 - Cloud9 vs Ghost Gaming\\\\77AAE1164BF90B3EAADABFACDB7CDF81.replay',\n",
       " 'C:\\\\Users\\\\blake\\\\Documents\\\\rlcsseason9\\\\RLCS Season 9\\\\RLCS\\\\RLCS NA League Play\\\\Regional Championship\\\\M2 - Cloud9 vs Ghost Gaming\\\\B0DAE7D34DA01E2F289C8B8AA927C90E.replay',\n",
       " 'C:\\\\Users\\\\blake\\\\Documents\\\\rlcsseason9\\\\RLCS Season 9\\\\RLCS\\\\RLCS NA League Play\\\\Regional Championship\\\\M2 - Cloud9 vs Ghost Gaming\\\\C633BCED4B96F1E120D517A8AC884281.replay',\n",
       " 'C:\\\\Users\\\\blake\\\\Documents\\\\rlcsseason9\\\\RLCS Season 9\\\\RLCS\\\\RLCS NA League Play\\\\Regional Championship\\\\M3 - Susquehanna Soniqs vs Ghost Gaming\\\\235D38164EA11EA99E4286912BAC9C84.replay',\n",
       " 'C:\\\\Users\\\\blake\\\\Documents\\\\rlcsseason9\\\\RLCS Season 9\\\\RLCS\\\\RLCS NA League Play\\\\Regional Championship\\\\M3 - Susquehanna Soniqs vs Ghost Gaming\\\\673A0CBE47BE0357F7070B9FE5B649D7.replay',\n",
       " 'C:\\\\Users\\\\blake\\\\Documents\\\\rlcsseason9\\\\RLCS Season 9\\\\RLCS\\\\RLCS NA League Play\\\\Regional Championship\\\\M3 - Susquehanna Soniqs vs Ghost Gaming\\\\765726DD420CEB9E605CE1822B781D53.replay',\n",
       " 'C:\\\\Users\\\\blake\\\\Documents\\\\rlcsseason9\\\\RLCS Season 9\\\\RLCS\\\\RLCS NA League Play\\\\Regional Championship\\\\M3 - Susquehanna Soniqs vs Ghost Gaming\\\\AFC43FE846E7FE65A2E3BD87D5751B15.replay',\n",
       " 'C:\\\\Users\\\\blake\\\\Documents\\\\rlcsseason9\\\\RLCS Season 9\\\\RLCS\\\\RLCS NA League Play\\\\Regional Championship\\\\M4 - NRG Esports vs G2 Esports\\\\2A66A21F4AD82750087A80BC7DC3D951.replay',\n",
       " 'C:\\\\Users\\\\blake\\\\Documents\\\\rlcsseason9\\\\RLCS Season 9\\\\RLCS\\\\RLCS NA League Play\\\\Regional Championship\\\\M4 - NRG Esports vs G2 Esports\\\\341AAB7F422FEA52E9FDF48A6E535301.replay',\n",
       " 'C:\\\\Users\\\\blake\\\\Documents\\\\rlcsseason9\\\\RLCS Season 9\\\\RLCS\\\\RLCS NA League Play\\\\Regional Championship\\\\M4 - NRG Esports vs G2 Esports\\\\5698B1B6487CF73EE305F08B6D504D71.replay',\n",
       " 'C:\\\\Users\\\\blake\\\\Documents\\\\rlcsseason9\\\\RLCS Season 9\\\\RLCS\\\\RLCS NA League Play\\\\Regional Championship\\\\M4 - NRG Esports vs G2 Esports\\\\715312F94C58EC5E3F02AEBF4C22D451.replay',\n",
       " 'C:\\\\Users\\\\blake\\\\Documents\\\\rlcsseason9\\\\RLCS Season 9\\\\RLCS\\\\RLCS NA League Play\\\\Regional Championship\\\\M4 - NRG Esports vs G2 Esports\\\\9A83EF694E78754A06F2569DC1501B53.replay',\n",
       " 'C:\\\\Users\\\\blake\\\\Documents\\\\rlcsseason9\\\\RLCS Season 9\\\\RLCS\\\\RLCS NA League Play\\\\Regional Championship\\\\M4 - NRG Esports vs G2 Esports\\\\9BEAED8E48E1B4C0054F8499D649C390.replay',\n",
       " 'C:\\\\Users\\\\blake\\\\Documents\\\\rlcsseason9\\\\RLCS Season 9\\\\RLCS\\\\RLCS NA League Play\\\\Regional Championship\\\\M4 - NRG Esports vs G2 Esports\\\\D83190474AB0043E7595FDB3E1EC12E0.replay',\n",
       " 'C:\\\\Users\\\\blake\\\\Documents\\\\rlcsseason9\\\\RLCS Season 9\\\\RLCS\\\\RLCS NA League Play\\\\Regional Championship\\\\M5 - Ghost Gaming vs Spacestation Gaming\\\\1D608DCA470BE77EE28BFDBDCC2D0EF6.replay',\n",
       " 'C:\\\\Users\\\\blake\\\\Documents\\\\rlcsseason9\\\\RLCS Season 9\\\\RLCS\\\\RLCS NA League Play\\\\Regional Championship\\\\M5 - Ghost Gaming vs Spacestation Gaming\\\\B500462D4AEB12374F727F8F06E86B8E.replay',\n",
       " 'C:\\\\Users\\\\blake\\\\Documents\\\\rlcsseason9\\\\RLCS Season 9\\\\RLCS\\\\RLCS NA League Play\\\\Regional Championship\\\\M5 - Ghost Gaming vs Spacestation Gaming\\\\D6E9929E42573664B225158E77549CE5.replay',\n",
       " 'C:\\\\Users\\\\blake\\\\Documents\\\\rlcsseason9\\\\RLCS Season 9\\\\RLCS\\\\RLCS NA League Play\\\\Regional Championship\\\\M5 - Ghost Gaming vs Spacestation Gaming\\\\ED74E9E8481D6D71F09E69A1DFD3DB03.replay',\n",
       " 'C:\\\\Users\\\\blake\\\\Documents\\\\rlcsseason9\\\\RLCS Season 9\\\\RLCS\\\\RLCS NA League Play\\\\Regional Championship\\\\M5 - Ghost Gaming vs Spacestation Gaming\\\\FCDCF4DD4391023CE99E708662336620.replay',\n",
       " 'C:\\\\Users\\\\blake\\\\Documents\\\\rlcsseason9\\\\RLCS Season 9\\\\RLCS\\\\RLCS NA League Play\\\\Regional Championship\\\\M6 - G2 Esports vs Spacestation Gaming\\\\15F117CE4BB9158EA2A749B252B90AD1.replay',\n",
       " 'C:\\\\Users\\\\blake\\\\Documents\\\\rlcsseason9\\\\RLCS Season 9\\\\RLCS\\\\RLCS NA League Play\\\\Regional Championship\\\\M6 - G2 Esports vs Spacestation Gaming\\\\BE94439247C2915CB62497B523504ABC.replay',\n",
       " 'C:\\\\Users\\\\blake\\\\Documents\\\\rlcsseason9\\\\RLCS Season 9\\\\RLCS\\\\RLCS NA League Play\\\\Regional Championship\\\\M6 - G2 Esports vs Spacestation Gaming\\\\CEE6692F4D42AF0D28E5DB9158E79460.replay',\n",
       " 'C:\\\\Users\\\\blake\\\\Documents\\\\rlcsseason9\\\\RLCS Season 9\\\\RLCS\\\\RLCS NA League Play\\\\Regional Championship\\\\M6 - G2 Esports vs Spacestation Gaming\\\\EC901E704BC99C5332F50EAC795B3498.replay',\n",
       " 'C:\\\\Users\\\\blake\\\\Documents\\\\rlcsseason9\\\\RLCS Season 9\\\\RLCS\\\\RLCS NA League Play\\\\Week 1\\\\M1 - Pittsburgh Knights vs Flight\\\\859DAE6643746482697D8A865434B725.replay',\n",
       " 'C:\\\\Users\\\\blake\\\\Documents\\\\rlcsseason9\\\\RLCS Season 9\\\\RLCS\\\\RLCS NA League Play\\\\Week 1\\\\M1 - Pittsburgh Knights vs Flight\\\\9085A8004F113E560E8BBE8B4EC52692.replay',\n",
       " 'C:\\\\Users\\\\blake\\\\Documents\\\\rlcsseason9\\\\RLCS Season 9\\\\RLCS\\\\RLCS NA League Play\\\\Week 1\\\\M1 - Pittsburgh Knights vs Flight\\\\A63C64DA40CC24CD06B61CB7A62EFD96.replay',\n",
       " 'C:\\\\Users\\\\blake\\\\Documents\\\\rlcsseason9\\\\RLCS Season 9\\\\RLCS\\\\RLCS NA League Play\\\\Week 1\\\\M1 - Pittsburgh Knights vs Flight\\\\C60325424A8B477AA74833810377E1AE.replay',\n",
       " 'C:\\\\Users\\\\blake\\\\Documents\\\\rlcsseason9\\\\RLCS Season 9\\\\RLCS\\\\RLCS NA League Play\\\\Week 1\\\\M1 - Pittsburgh Knights vs Flight\\\\ED9D608C4626855F5D3E8EA5CDD8689D.replay',\n",
       " 'C:\\\\Users\\\\blake\\\\Documents\\\\rlcsseason9\\\\RLCS Season 9\\\\RLCS\\\\RLCS NA League Play\\\\Week 1\\\\M2 - NRG Esports vs Susquehanna Soniqs\\\\36A403BE4A886231C390BA8EC1C01EC4.replay',\n",
       " 'C:\\\\Users\\\\blake\\\\Documents\\\\rlcsseason9\\\\RLCS Season 9\\\\RLCS\\\\RLCS NA League Play\\\\Week 1\\\\M2 - NRG Esports vs Susquehanna Soniqs\\\\4965A64E4A97AB23DB8AF4B5C38158E1.replay',\n",
       " 'C:\\\\Users\\\\blake\\\\Documents\\\\rlcsseason9\\\\RLCS Season 9\\\\RLCS\\\\RLCS NA League Play\\\\Week 1\\\\M2 - NRG Esports vs Susquehanna Soniqs\\\\7202778D40E37E91A8BAA88E783CA69D.replay',\n",
       " 'C:\\\\Users\\\\blake\\\\Documents\\\\rlcsseason9\\\\RLCS Season 9\\\\RLCS\\\\RLCS NA League Play\\\\Week 1\\\\M2 - NRG Esports vs Susquehanna Soniqs\\\\8ADE65FF4C437C39B20A48A0368AE405.replay',\n",
       " 'C:\\\\Users\\\\blake\\\\Documents\\\\rlcsseason9\\\\RLCS Season 9\\\\RLCS\\\\RLCS NA League Play\\\\Week 1\\\\M2 - NRG Esports vs Susquehanna Soniqs\\\\BD9186CA4BC00F6539DD2C9F4560E292.replay',\n",
       " 'C:\\\\Users\\\\blake\\\\Documents\\\\rlcsseason9\\\\RLCS Season 9\\\\RLCS\\\\RLCS NA League Play\\\\Week 1\\\\M3 - Eunited vs Cloud9\\\\02CA663A4440CC17540B5C818937F2ED.replay',\n",
       " 'C:\\\\Users\\\\blake\\\\Documents\\\\rlcsseason9\\\\RLCS Season 9\\\\RLCS\\\\RLCS NA League Play\\\\Week 1\\\\M3 - Eunited vs Cloud9\\\\115EC60D42434A9B96C4E8985034EB45.replay',\n",
       " 'C:\\\\Users\\\\blake\\\\Documents\\\\rlcsseason9\\\\RLCS Season 9\\\\RLCS\\\\RLCS NA League Play\\\\Week 1\\\\M3 - Eunited vs Cloud9\\\\47432FD44E6064F9B0BCDF857EC805F7.replay',\n",
       " 'C:\\\\Users\\\\blake\\\\Documents\\\\rlcsseason9\\\\RLCS Season 9\\\\RLCS\\\\RLCS NA League Play\\\\Week 1\\\\M4 - Spacestation Gaming vs Ghost Gaming\\\\7255A98144B94436AA9F42AAD8E04802.replay',\n",
       " 'C:\\\\Users\\\\blake\\\\Documents\\\\rlcsseason9\\\\RLCS Season 9\\\\RLCS\\\\RLCS NA League Play\\\\Week 1\\\\M4 - Spacestation Gaming vs Ghost Gaming\\\\B30D3AC543AA39DE01895F873B05AF5A.replay',\n",
       " 'C:\\\\Users\\\\blake\\\\Documents\\\\rlcsseason9\\\\RLCS Season 9\\\\RLCS\\\\RLCS NA League Play\\\\Week 1\\\\M4 - Spacestation Gaming vs Ghost Gaming\\\\B720246F4A07897100BE4FAFC529ED2C.replay',\n",
       " 'C:\\\\Users\\\\blake\\\\Documents\\\\rlcsseason9\\\\RLCS Season 9\\\\RLCS\\\\RLCS NA League Play\\\\Week 1\\\\M4 - Spacestation Gaming vs Ghost Gaming\\\\C8E70F73438077BDDFE63F8EF7099CD2.replay',\n",
       " 'C:\\\\Users\\\\blake\\\\Documents\\\\rlcsseason9\\\\RLCS Season 9\\\\RLCS\\\\RLCS NA League Play\\\\Week 1\\\\M5 - Rogue vs G2 Esports\\\\124A0AD844BFB5E9F51958AFF16C9063.replay',\n",
       " 'C:\\\\Users\\\\blake\\\\Documents\\\\rlcsseason9\\\\RLCS Season 9\\\\RLCS\\\\RLCS NA League Play\\\\Week 1\\\\M5 - Rogue vs G2 Esports\\\\7236A01B4229424664F00A88F84A216B.replay',\n",
       " 'C:\\\\Users\\\\blake\\\\Documents\\\\rlcsseason9\\\\RLCS Season 9\\\\RLCS\\\\RLCS NA League Play\\\\Week 1\\\\M5 - Rogue vs G2 Esports\\\\D310A8254A257573996A159C6D5DE239.replay',\n",
       " 'C:\\\\Users\\\\blake\\\\Documents\\\\rlcsseason9\\\\RLCS Season 9\\\\RLCS\\\\RLCS NA League Play\\\\Week 2\\\\M1 - Susquehanna Soniqs vs Spacestation Gaming\\\\58E6184A45F6141AC4F953883077FCF3.replay',\n",
       " 'C:\\\\Users\\\\blake\\\\Documents\\\\rlcsseason9\\\\RLCS Season 9\\\\RLCS\\\\RLCS NA League Play\\\\Week 2\\\\M1 - Susquehanna Soniqs vs Spacestation Gaming\\\\A44BE8C742BB7EFDF3D48D91BA2BA206.replay',\n",
       " 'C:\\\\Users\\\\blake\\\\Documents\\\\rlcsseason9\\\\RLCS Season 9\\\\RLCS\\\\RLCS NA League Play\\\\Week 2\\\\M1 - Susquehanna Soniqs vs Spacestation Gaming\\\\B807D0BB4BEB78ECED6C588E4BB778B8.replay',\n",
       " 'C:\\\\Users\\\\blake\\\\Documents\\\\rlcsseason9\\\\RLCS Season 9\\\\RLCS\\\\RLCS NA League Play\\\\Week 2\\\\M1 - Susquehanna Soniqs vs Spacestation Gaming\\\\F6300B754A3EE42C63DE3D8DA32DF992.replay',\n",
       " 'C:\\\\Users\\\\blake\\\\Documents\\\\rlcsseason9\\\\RLCS Season 9\\\\RLCS\\\\RLCS NA League Play\\\\Week 2\\\\M2 - Eunited vs Ghost\\\\06B0931D4EE19C8ADEF5F4B30FD028D1.replay',\n",
       " 'C:\\\\Users\\\\blake\\\\Documents\\\\rlcsseason9\\\\RLCS Season 9\\\\RLCS\\\\RLCS NA League Play\\\\Week 2\\\\M2 - Eunited vs Ghost\\\\268CBA43433DC11671EDD7B1A20ED3A3.replay',\n",
       " 'C:\\\\Users\\\\blake\\\\Documents\\\\rlcsseason9\\\\RLCS Season 9\\\\RLCS\\\\RLCS NA League Play\\\\Week 2\\\\M2 - Eunited vs Ghost\\\\E22BA9564AC8BFDCCE15A89C36326AF9.replay',\n",
       " 'C:\\\\Users\\\\blake\\\\Documents\\\\rlcsseason9\\\\RLCS Season 9\\\\RLCS\\\\RLCS NA League Play\\\\Week 2\\\\M3 - Cloud9 vs Rogue\\\\2065418D42CB44017A891AA10B5AE1F6.replay',\n",
       " 'C:\\\\Users\\\\blake\\\\Documents\\\\rlcsseason9\\\\RLCS Season 9\\\\RLCS\\\\RLCS NA League Play\\\\Week 2\\\\M3 - Cloud9 vs Rogue\\\\3C338AE449DB368154E7C081CA963936.replay',\n",
       " 'C:\\\\Users\\\\blake\\\\Documents\\\\rlcsseason9\\\\RLCS Season 9\\\\RLCS\\\\RLCS NA League Play\\\\Week 2\\\\M3 - Cloud9 vs Rogue\\\\9934691F4F4B67F5E8BD8BB2C8FECD06.replay',\n",
       " 'C:\\\\Users\\\\blake\\\\Documents\\\\rlcsseason9\\\\RLCS Season 9\\\\RLCS\\\\RLCS NA League Play\\\\Week 2\\\\M3 - Cloud9 vs Rogue\\\\D2C3940B4BEF11DD89192E9E8B7DF2F5.replay',\n",
       " 'C:\\\\Users\\\\blake\\\\Documents\\\\rlcsseason9\\\\RLCS Season 9\\\\RLCS\\\\RLCS NA League Play\\\\Week 2\\\\M3 - Cloud9 vs Rogue\\\\FACAEBA0436C4990D8E603B50E0CABC9.replay',\n",
       " 'C:\\\\Users\\\\blake\\\\Documents\\\\rlcsseason9\\\\RLCS Season 9\\\\RLCS\\\\RLCS NA League Play\\\\Week 2\\\\M4 - Flight vs NRG Esports\\\\5DCC3F004696B51E2D786CB0E07617B2.replay',\n",
       " 'C:\\\\Users\\\\blake\\\\Documents\\\\rlcsseason9\\\\RLCS Season 9\\\\RLCS\\\\RLCS NA League Play\\\\Week 2\\\\M4 - Flight vs NRG Esports\\\\E70C75C84BCC57A8BFD15DA3973765C6.replay',\n",
       " 'C:\\\\Users\\\\blake\\\\Documents\\\\rlcsseason9\\\\RLCS Season 9\\\\RLCS\\\\RLCS NA League Play\\\\Week 2\\\\M4 - Flight vs NRG Esports\\\\F474F94941F2AA72765E4C96C1EDAE2D.replay',\n",
       " 'C:\\\\Users\\\\blake\\\\Documents\\\\rlcsseason9\\\\RLCS Season 9\\\\RLCS\\\\RLCS NA League Play\\\\Week 2\\\\M5 - G2 Esports vs Pittsburgh Knights\\\\2DE4F5FE430D88FFBEE83D8EF382FE83.replay',\n",
       " 'C:\\\\Users\\\\blake\\\\Documents\\\\rlcsseason9\\\\RLCS Season 9\\\\RLCS\\\\RLCS NA League Play\\\\Week 2\\\\M5 - G2 Esports vs Pittsburgh Knights\\\\5AE0879B4E2966A9BA2C77B550F510F9.replay',\n",
       " 'C:\\\\Users\\\\blake\\\\Documents\\\\rlcsseason9\\\\RLCS Season 9\\\\RLCS\\\\RLCS NA League Play\\\\Week 2\\\\M5 - G2 Esports vs Pittsburgh Knights\\\\7AE18DAB4CA08D488B6D2E90719EBC1C.replay',\n",
       " 'C:\\\\Users\\\\blake\\\\Documents\\\\rlcsseason9\\\\RLCS Season 9\\\\RLCS\\\\RLCS NA League Play\\\\Week 2\\\\M5 - G2 Esports vs Pittsburgh Knights\\\\B9CE0007439EFC9D0923A38F2D14E8F5.replay',\n",
       " 'C:\\\\Users\\\\blake\\\\Documents\\\\rlcsseason9\\\\RLCS Season 9\\\\RLCS\\\\RLCS NA League Play\\\\Week 3\\\\M1 - Cloud9 vs Flight\\\\2252EBE24A4ED0E973173B96FAA0559E.replay',\n",
       " 'C:\\\\Users\\\\blake\\\\Documents\\\\rlcsseason9\\\\RLCS Season 9\\\\RLCS\\\\RLCS NA League Play\\\\Week 3\\\\M1 - Cloud9 vs Flight\\\\39ED982B4F8BBB062ADB8893D28740C5.replay',\n",
       " 'C:\\\\Users\\\\blake\\\\Documents\\\\rlcsseason9\\\\RLCS Season 9\\\\RLCS\\\\RLCS NA League Play\\\\Week 3\\\\M1 - Cloud9 vs Flight\\\\9295965642E8C14BF267CE89AAB9F69A.replay',\n",
       " 'C:\\\\Users\\\\blake\\\\Documents\\\\rlcsseason9\\\\RLCS Season 9\\\\RLCS\\\\RLCS NA League Play\\\\Week 3\\\\M1 - Cloud9 vs Flight\\\\960F9780405373115DDC06B5484A725D.replay',\n",
       " 'C:\\\\Users\\\\blake\\\\Documents\\\\rlcsseason9\\\\RLCS Season 9\\\\RLCS\\\\RLCS NA League Play\\\\Week 3\\\\M2 - Susquehanna Soniqs vs Rogue\\\\51C90D304188F6EFFEA397BBA7C504FA.replay',\n",
       " 'C:\\\\Users\\\\blake\\\\Documents\\\\rlcsseason9\\\\RLCS Season 9\\\\RLCS\\\\RLCS NA League Play\\\\Week 3\\\\M2 - Susquehanna Soniqs vs Rogue\\\\A9F22D7A451C39591EC50DB663CBBD7A.replay',\n",
       " 'C:\\\\Users\\\\blake\\\\Documents\\\\rlcsseason9\\\\RLCS Season 9\\\\RLCS\\\\RLCS NA League Play\\\\Week 3\\\\M2 - Susquehanna Soniqs vs Rogue\\\\D5F0ECC5445106928CF175B0B108A2AE.replay',\n",
       " 'C:\\\\Users\\\\blake\\\\Documents\\\\rlcsseason9\\\\RLCS Season 9\\\\RLCS\\\\RLCS NA League Play\\\\Week 3\\\\M2 - Susquehanna Soniqs vs Rogue\\\\F13792A043AC3592C5AF6FAF70C0D449.replay',\n",
       " 'C:\\\\Users\\\\blake\\\\Documents\\\\rlcsseason9\\\\RLCS Season 9\\\\RLCS\\\\RLCS NA League Play\\\\Week 3\\\\M3 - Flight vs G2 Esports\\\\1325A9D845F7978A000D88A87CE97FD1.replay',\n",
       " 'C:\\\\Users\\\\blake\\\\Documents\\\\rlcsseason9\\\\RLCS Season 9\\\\RLCS\\\\RLCS NA League Play\\\\Week 3\\\\M3 - Flight vs G2 Esports\\\\9302C500432D5CC2F0E0A2BFD2EC1F5A.replay',\n",
       " 'C:\\\\Users\\\\blake\\\\Documents\\\\rlcsseason9\\\\RLCS Season 9\\\\RLCS\\\\RLCS NA League Play\\\\Week 3\\\\M3 - Flight vs G2 Esports\\\\A938188B4CD09E2844E59ABDA9F9C2FD.replay',\n",
       " 'C:\\\\Users\\\\blake\\\\Documents\\\\rlcsseason9\\\\RLCS Season 9\\\\RLCS\\\\RLCS NA League Play\\\\Week 3\\\\M3 - Flight vs G2 Esports\\\\B43A8B934A89F17611F15B92368AED9E.replay',\n",
       " 'C:\\\\Users\\\\blake\\\\Documents\\\\rlcsseason9\\\\RLCS Season 9\\\\RLCS\\\\RLCS NA League Play\\\\Week 3\\\\M4 - Eunited vs NRG Esports\\\\681BBF544CC00A207E29FBB4BA4B0D06.replay',\n",
       " 'C:\\\\Users\\\\blake\\\\Documents\\\\rlcsseason9\\\\RLCS Season 9\\\\RLCS\\\\RLCS NA League Play\\\\Week 3\\\\M4 - Eunited vs NRG Esports\\\\6FFF24634413F8A14CC6AF86196D1888.replay',\n",
       " 'C:\\\\Users\\\\blake\\\\Documents\\\\rlcsseason9\\\\RLCS Season 9\\\\RLCS\\\\RLCS NA League Play\\\\Week 3\\\\M4 - Eunited vs NRG Esports\\\\CB4C4B5543762A6460541CA9E50522DE.replay',\n",
       " 'C:\\\\Users\\\\blake\\\\Documents\\\\rlcsseason9\\\\RLCS Season 9\\\\RLCS\\\\RLCS NA League Play\\\\Week 3\\\\M4 - Eunited vs NRG Esports\\\\D0D86E364D3B11BE33D7E3B825CB5CB9.replay',\n",
       " 'C:\\\\Users\\\\blake\\\\Documents\\\\rlcsseason9\\\\RLCS Season 9\\\\RLCS\\\\RLCS NA League Play\\\\Week 3\\\\M5 - Ghost vs Pittsburgh Knights\\\\08561A95466281034510D5BD5EFEA420.replay',\n",
       " 'C:\\\\Users\\\\blake\\\\Documents\\\\rlcsseason9\\\\RLCS Season 9\\\\RLCS\\\\RLCS NA League Play\\\\Week 3\\\\M5 - Ghost vs Pittsburgh Knights\\\\584B163C487E35F7E54196A805C6E5F8.replay',\n",
       " 'C:\\\\Users\\\\blake\\\\Documents\\\\rlcsseason9\\\\RLCS Season 9\\\\RLCS\\\\RLCS NA League Play\\\\Week 3\\\\M5 - Ghost vs Pittsburgh Knights\\\\830567264FB0430112F209AE18DF0371.replay',\n",
       " 'C:\\\\Users\\\\blake\\\\Documents\\\\rlcsseason9\\\\RLCS Season 9\\\\RLCS\\\\RLCS NA League Play\\\\Week 3\\\\M5 - Ghost vs Pittsburgh Knights\\\\A5782A114A90B2FE6CAA7B94DEFF4C97.replay',\n",
       " 'C:\\\\Users\\\\blake\\\\Documents\\\\rlcsseason9\\\\RLCS Season 9\\\\RLCS\\\\RLCS NA League Play\\\\Week 3\\\\M6 - NRG Esports vs Spacestation Gaming\\\\2AF12F6F49A0DFD0D1A4E5A55BC76F52.replay',\n",
       " 'C:\\\\Users\\\\blake\\\\Documents\\\\rlcsseason9\\\\RLCS Season 9\\\\RLCS\\\\RLCS NA League Play\\\\Week 3\\\\M6 - NRG Esports vs Spacestation Gaming\\\\37974BD148090509C55CAB9EA7AF571B.replay',\n",
       " 'C:\\\\Users\\\\blake\\\\Documents\\\\rlcsseason9\\\\RLCS Season 9\\\\RLCS\\\\RLCS NA League Play\\\\Week 3\\\\M6 - NRG Esports vs Spacestation Gaming\\\\42D8F085409340D403E897946A013006.replay',\n",
       " 'C:\\\\Users\\\\blake\\\\Documents\\\\rlcsseason9\\\\RLCS Season 9\\\\RLCS\\\\RLCS NA League Play\\\\Week 3\\\\M6 - NRG Esports vs Spacestation Gaming\\\\6E4A12FA4BC521CBF588C0A43117F245.replay',\n",
       " 'C:\\\\Users\\\\blake\\\\Documents\\\\rlcsseason9\\\\RLCS Season 9\\\\RLCS\\\\RLCS NA League Play\\\\Week 3\\\\M6 - NRG Esports vs Spacestation Gaming\\\\9A88B5324364DA603A4E559E4597B537.replay',\n",
       " 'C:\\\\Users\\\\blake\\\\Documents\\\\rlcsseason9\\\\RLCS Season 9\\\\RLCS\\\\RLCS NA League Play\\\\Week 4\\\\M1 - Flight vs Ghost\\\\45947EE44C8F1872AF7D75B948F23542.replay',\n",
       " 'C:\\\\Users\\\\blake\\\\Documents\\\\rlcsseason9\\\\RLCS Season 9\\\\RLCS\\\\RLCS NA League Play\\\\Week 4\\\\M1 - Flight vs Ghost\\\\6C891D174AE6AEF24CDE618FD13C2B69.replay',\n",
       " 'C:\\\\Users\\\\blake\\\\Documents\\\\rlcsseason9\\\\RLCS Season 9\\\\RLCS\\\\RLCS NA League Play\\\\Week 4\\\\M1 - Flight vs Ghost\\\\D8F7FDD34A94D5B93C5450AE48863E45.replay',\n",
       " 'C:\\\\Users\\\\blake\\\\Documents\\\\rlcsseason9\\\\RLCS Season 9\\\\RLCS\\\\RLCS NA League Play\\\\Week 4\\\\M1 - Flight vs Ghost\\\\DF5997D540B9A1FA7ECDCA8B2C5047AA.replay',\n",
       " 'C:\\\\Users\\\\blake\\\\Documents\\\\rlcsseason9\\\\RLCS Season 9\\\\RLCS\\\\RLCS NA League Play\\\\Week 4\\\\M2 - Rogue vs NRG Esports\\\\346B4AE24A3C22838E6F358BA2F9802A.replay',\n",
       " 'C:\\\\Users\\\\blake\\\\Documents\\\\rlcsseason9\\\\RLCS Season 9\\\\RLCS\\\\RLCS NA League Play\\\\Week 4\\\\M2 - Rogue vs NRG Esports\\\\5DAA5F8A41C4E0C30EBA4186073DC170.replay',\n",
       " 'C:\\\\Users\\\\blake\\\\Documents\\\\rlcsseason9\\\\RLCS Season 9\\\\RLCS\\\\RLCS NA League Play\\\\Week 4\\\\M2 - Rogue vs NRG Esports\\\\6DE646374E09D07D3C685DA7853C72E1.replay',\n",
       " 'C:\\\\Users\\\\blake\\\\Documents\\\\rlcsseason9\\\\RLCS Season 9\\\\RLCS\\\\RLCS NA League Play\\\\Week 4\\\\M2 - Rogue vs NRG Esports\\\\82B72E0643353C9855863C84AD37EF01.replay',\n",
       " 'C:\\\\Users\\\\blake\\\\Documents\\\\rlcsseason9\\\\RLCS Season 9\\\\RLCS\\\\RLCS NA League Play\\\\Week 4\\\\M3 - Susquehanna Soniqs vs Ghost\\\\1DEA1FC342318C96056722A21E84CD9C.replay',\n",
       " 'C:\\\\Users\\\\blake\\\\Documents\\\\rlcsseason9\\\\RLCS Season 9\\\\RLCS\\\\RLCS NA League Play\\\\Week 4\\\\M3 - Susquehanna Soniqs vs Ghost\\\\6B32AEF84135BEC553EDD08C6C9DFFF4.replay',\n",
       " 'C:\\\\Users\\\\blake\\\\Documents\\\\rlcsseason9\\\\RLCS Season 9\\\\RLCS\\\\RLCS NA League Play\\\\Week 4\\\\M3 - Susquehanna Soniqs vs Ghost\\\\922BEB474A0712BD6196B3B8CD45BA45.replay',\n",
       " 'C:\\\\Users\\\\blake\\\\Documents\\\\rlcsseason9\\\\RLCS Season 9\\\\RLCS\\\\RLCS NA League Play\\\\Week 4\\\\M3 - Susquehanna Soniqs vs Ghost\\\\98729F99466D1888144D4C870F88A4F3.replay',\n",
       " 'C:\\\\Users\\\\blake\\\\Documents\\\\rlcsseason9\\\\RLCS Season 9\\\\RLCS\\\\RLCS NA League Play\\\\Week 4\\\\M3 - Susquehanna Soniqs vs Ghost\\\\C275E29848DB297F43B066860724BE81.replay',\n",
       " 'C:\\\\Users\\\\blake\\\\Documents\\\\rlcsseason9\\\\RLCS Season 9\\\\RLCS\\\\RLCS NA League Play\\\\Week 4\\\\M4 - Rogue vs Eunited\\\\111D049F412EDAD43B60AEB53BBCBC9B.replay',\n",
       " 'C:\\\\Users\\\\blake\\\\Documents\\\\rlcsseason9\\\\RLCS Season 9\\\\RLCS\\\\RLCS NA League Play\\\\Week 4\\\\M4 - Rogue vs Eunited\\\\2538FF24442120A8776E8F8F80A90872.replay',\n",
       " 'C:\\\\Users\\\\blake\\\\Documents\\\\rlcsseason9\\\\RLCS Season 9\\\\RLCS\\\\RLCS NA League Play\\\\Week 4\\\\M4 - Rogue vs Eunited\\\\A0EF8C414D20632ACFF691973F5D5207.replay',\n",
       " 'C:\\\\Users\\\\blake\\\\Documents\\\\rlcsseason9\\\\RLCS Season 9\\\\RLCS\\\\RLCS NA League Play\\\\Week 4\\\\M5 - Spacestation Gaming vs Pittsburgh Knights\\\\013E8A14490AF7DFD3A53A8AB162410B.replay',\n",
       " 'C:\\\\Users\\\\blake\\\\Documents\\\\rlcsseason9\\\\RLCS Season 9\\\\RLCS\\\\RLCS NA League Play\\\\Week 4\\\\M5 - Spacestation Gaming vs Pittsburgh Knights\\\\67E060DD46141C22728F45ABB6A4C864.replay',\n",
       " 'C:\\\\Users\\\\blake\\\\Documents\\\\rlcsseason9\\\\RLCS Season 9\\\\RLCS\\\\RLCS NA League Play\\\\Week 4\\\\M5 - Spacestation Gaming vs Pittsburgh Knights\\\\B6FF127747111A28D71321977C70BA4C.replay',\n",
       " 'C:\\\\Users\\\\blake\\\\Documents\\\\rlcsseason9\\\\RLCS Season 9\\\\RLCS\\\\RLCS NA League Play\\\\Week 4\\\\M5 - Spacestation Gaming vs Pittsburgh Knights\\\\D9D4617545B094FC54E1CCAAEB7DC9E8.replay',\n",
       " 'C:\\\\Users\\\\blake\\\\Documents\\\\rlcsseason9\\\\RLCS Season 9\\\\RLCS\\\\RLCS NA League Play\\\\Week 4\\\\M6 - Cloud9 vs G2 Esports\\\\407CFB1F4FC77B71E55FE086DB14EFD4.replay',\n",
       " 'C:\\\\Users\\\\blake\\\\Documents\\\\rlcsseason9\\\\RLCS Season 9\\\\RLCS\\\\RLCS NA League Play\\\\Week 4\\\\M6 - Cloud9 vs G2 Esports\\\\A3C5E7CE43174D4CCED5B892569B43BF.replay',\n",
       " 'C:\\\\Users\\\\blake\\\\Documents\\\\rlcsseason9\\\\RLCS Season 9\\\\RLCS\\\\RLCS NA League Play\\\\Week 4\\\\M6 - Cloud9 vs G2 Esports\\\\CD4AE25A40E72E99E1642AA8ED1E1B8A.replay',\n",
       " 'C:\\\\Users\\\\blake\\\\Documents\\\\rlcsseason9\\\\RLCS Season 9\\\\RLCS\\\\RLCS NA League Play\\\\Week 4\\\\M6 - Cloud9 vs G2 Esports\\\\DB50D06D4AAA099C6BEBCD809EBB7E40.replay',\n",
       " 'C:\\\\Users\\\\blake\\\\Documents\\\\rlcsseason9\\\\RLCS Season 9\\\\RLCS\\\\RLCS NA League Play\\\\Week 5\\\\M1 - Flight vs Eunited\\\\39B473E5486093D3D37CD49FABBA5504.replay',\n",
       " 'C:\\\\Users\\\\blake\\\\Documents\\\\rlcsseason9\\\\RLCS Season 9\\\\RLCS\\\\RLCS NA League Play\\\\Week 5\\\\M1 - Flight vs Eunited\\\\6D0760194E81917E812F4886D7F58810.replay',\n",
       " 'C:\\\\Users\\\\blake\\\\Documents\\\\rlcsseason9\\\\RLCS Season 9\\\\RLCS\\\\RLCS NA League Play\\\\Week 5\\\\M1 - Flight vs Eunited\\\\8F53C8254AA71654F686F6B1EE23C5A3.replay',\n",
       " 'C:\\\\Users\\\\blake\\\\Documents\\\\rlcsseason9\\\\RLCS Season 9\\\\RLCS\\\\RLCS NA League Play\\\\Week 5\\\\M1 - Flight vs Eunited\\\\F346CDD54906FEC710C0E986F84DCF53.replay',\n",
       " 'C:\\\\Users\\\\blake\\\\Documents\\\\rlcsseason9\\\\RLCS Season 9\\\\RLCS\\\\RLCS NA League Play\\\\Week 5\\\\M2 - Rogue vs Ghost\\\\3B80EB224A879F7D9C7C3DADB8D3D214.replay',\n",
       " 'C:\\\\Users\\\\blake\\\\Documents\\\\rlcsseason9\\\\RLCS Season 9\\\\RLCS\\\\RLCS NA League Play\\\\Week 5\\\\M2 - Rogue vs Ghost\\\\B3BBE4AE4CBEF8B523BEF98924D1DC78.replay',\n",
       " 'C:\\\\Users\\\\blake\\\\Documents\\\\rlcsseason9\\\\RLCS Season 9\\\\RLCS\\\\RLCS NA League Play\\\\Week 5\\\\M2 - Rogue vs Ghost\\\\B7B73FAA4A24DB0B52CB03A4B14A1006.replay',\n",
       " 'C:\\\\Users\\\\blake\\\\Documents\\\\rlcsseason9\\\\RLCS Season 9\\\\RLCS\\\\RLCS NA League Play\\\\Week 5\\\\M2 - Rogue vs Ghost\\\\C268BD0B4F7B0162F76363BE385766A2.replay',\n",
       " 'C:\\\\Users\\\\blake\\\\Documents\\\\rlcsseason9\\\\RLCS Season 9\\\\RLCS\\\\RLCS NA League Play\\\\Week 5\\\\M2 - Rogue vs Ghost\\\\F2DBB11F4F66AA366C2024B44227664B.replay',\n",
       " 'C:\\\\Users\\\\blake\\\\Documents\\\\rlcsseason9\\\\RLCS Season 9\\\\RLCS\\\\RLCS NA League Play\\\\Week 5\\\\M3 - Susquehanna Soniqs vs Pittsburgh Knights\\\\2DF5DAFD4D558F46A1D084A4C3C781AE.replay',\n",
       " 'C:\\\\Users\\\\blake\\\\Documents\\\\rlcsseason9\\\\RLCS Season 9\\\\RLCS\\\\RLCS NA League Play\\\\Week 5\\\\M3 - Susquehanna Soniqs vs Pittsburgh Knights\\\\94BF0E3340D6A7C2E465209369A8EEE5.replay',\n",
       " 'C:\\\\Users\\\\blake\\\\Documents\\\\rlcsseason9\\\\RLCS Season 9\\\\RLCS\\\\RLCS NA League Play\\\\Week 5\\\\M3 - Susquehanna Soniqs vs Pittsburgh Knights\\\\9720B12E43FE9A4A891750B7EA79723C.replay',\n",
       " 'C:\\\\Users\\\\blake\\\\Documents\\\\rlcsseason9\\\\RLCS Season 9\\\\RLCS\\\\RLCS NA League Play\\\\Week 5\\\\M3 - Susquehanna Soniqs vs Pittsburgh Knights\\\\A172CC4C43616CF52052828FA5406D1F.replay',\n",
       " 'C:\\\\Users\\\\blake\\\\Documents\\\\rlcsseason9\\\\RLCS Season 9\\\\RLCS\\\\RLCS NA League Play\\\\Week 5\\\\M3 - Susquehanna Soniqs vs Pittsburgh Knights\\\\BE921B3B461CFDE769717387E1B56D15.replay',\n",
       " 'C:\\\\Users\\\\blake\\\\Documents\\\\rlcsseason9\\\\RLCS Season 9\\\\RLCS\\\\RLCS NA League Play\\\\Week 5\\\\M4 - Eunited vs G2 Esports\\\\28366D0C4AD3DCABAEF09F87FA509473.replay',\n",
       " 'C:\\\\Users\\\\blake\\\\Documents\\\\rlcsseason9\\\\RLCS Season 9\\\\RLCS\\\\RLCS NA League Play\\\\Week 5\\\\M4 - Eunited vs G2 Esports\\\\30EC720948A361FAFA034289768CEA96.replay',\n",
       " 'C:\\\\Users\\\\blake\\\\Documents\\\\rlcsseason9\\\\RLCS Season 9\\\\RLCS\\\\RLCS NA League Play\\\\Week 5\\\\M4 - Eunited vs G2 Esports\\\\351140C94D2F08348CBDC3BF819466E7.replay',\n",
       " 'C:\\\\Users\\\\blake\\\\Documents\\\\rlcsseason9\\\\RLCS Season 9\\\\RLCS\\\\RLCS NA League Play\\\\Week 5\\\\M4 - Eunited vs G2 Esports\\\\A9B019CD4E4BFA9E68F35992D80273E9.replay',\n",
       " 'C:\\\\Users\\\\blake\\\\Documents\\\\rlcsseason9\\\\RLCS Season 9\\\\RLCS\\\\RLCS NA League Play\\\\Week 5\\\\M5 - Cloud9 vs Spacestation Gaming\\\\6D7BD9D448E4FFE558E491BD52D666E0.replay',\n",
       " 'C:\\\\Users\\\\blake\\\\Documents\\\\rlcsseason9\\\\RLCS Season 9\\\\RLCS\\\\RLCS NA League Play\\\\Week 5\\\\M5 - Cloud9 vs Spacestation Gaming\\\\A57CD85D4C624AC4ED81ED8F14BA8181.replay',\n",
       " 'C:\\\\Users\\\\blake\\\\Documents\\\\rlcsseason9\\\\RLCS Season 9\\\\RLCS\\\\RLCS NA League Play\\\\Week 5\\\\M5 - Cloud9 vs Spacestation Gaming\\\\BA9BF40D49DC3A6D42A8F391FD07A371.replay',\n",
       " 'C:\\\\Users\\\\blake\\\\Documents\\\\rlcsseason9\\\\RLCS Season 9\\\\RLCS\\\\RLCS NA League Play\\\\Week 5\\\\M5 - Cloud9 vs Spacestation Gaming\\\\EA95AD564348DC823834D0BCFD3FD3C6.replay',\n",
       " 'C:\\\\Users\\\\blake\\\\Documents\\\\rlcsseason9\\\\RLCS Season 9\\\\RLCS\\\\RLCS NA League Play\\\\Week 5\\\\M6 - NRG Esports vs Pittsburgh Knights\\\\2572D1054735A80D189CFCAC7E6E5E4D.replay',\n",
       " 'C:\\\\Users\\\\blake\\\\Documents\\\\rlcsseason9\\\\RLCS Season 9\\\\RLCS\\\\RLCS NA League Play\\\\Week 5\\\\M6 - NRG Esports vs Pittsburgh Knights\\\\48A8D71A4259226EB2BB5485C6D5F67C.replay',\n",
       " 'C:\\\\Users\\\\blake\\\\Documents\\\\rlcsseason9\\\\RLCS Season 9\\\\RLCS\\\\RLCS NA League Play\\\\Week 5\\\\M6 - NRG Esports vs Pittsburgh Knights\\\\4A3F2BEF42AAA4C97881BE83B4464697.replay',\n",
       " 'C:\\\\Users\\\\blake\\\\Documents\\\\rlcsseason9\\\\RLCS Season 9\\\\RLCS\\\\RLCS NA League Play\\\\Week 5\\\\M6 - NRG Esports vs Pittsburgh Knights\\\\9F44F635412BC7F19E27B0AB294EC921.replay',\n",
       " 'C:\\\\Users\\\\blake\\\\Documents\\\\rlcsseason9\\\\RLCS Season 9\\\\RLCS\\\\RLCS NA League Play\\\\Week 5\\\\M6 - NRG Esports vs Pittsburgh Knights\\\\DED2712B46BCC1BDCA2A72B436654DF0.replay',\n",
       " 'C:\\\\Users\\\\blake\\\\Documents\\\\rlcsseason9\\\\RLCS Season 9\\\\RLCS\\\\RLCS NA League Play\\\\Week 5 -- Double Header\\\\M1 - Flight vs Spacestation Gaming\\\\6621A70446D9715F34527AA84BA00101.replay',\n",
       " 'C:\\\\Users\\\\blake\\\\Documents\\\\rlcsseason9\\\\RLCS Season 9\\\\RLCS\\\\RLCS NA League Play\\\\Week 5 -- Double Header\\\\M1 - Flight vs Spacestation Gaming\\\\973956924931207838A3DEA957C5DFBC.replay',\n",
       " 'C:\\\\Users\\\\blake\\\\Documents\\\\rlcsseason9\\\\RLCS Season 9\\\\RLCS\\\\RLCS NA League Play\\\\Week 5 -- Double Header\\\\M1 - Flight vs Spacestation Gaming\\\\BA0B62884C0718C9EF58009BC86AAD29.replay',\n",
       " 'C:\\\\Users\\\\blake\\\\Documents\\\\rlcsseason9\\\\RLCS Season 9\\\\RLCS\\\\RLCS NA League Play\\\\Week 5 -- Double Header\\\\M2 - Susquehanna Soniqs vs Eunited\\\\20E20C1F465312D7F6C7678DA8288809.replay',\n",
       " 'C:\\\\Users\\\\blake\\\\Documents\\\\rlcsseason9\\\\RLCS Season 9\\\\RLCS\\\\RLCS NA League Play\\\\Week 5 -- Double Header\\\\M2 - Susquehanna Soniqs vs Eunited\\\\BF1216904B4CFE719F0CFFA062FE407B.replay',\n",
       " 'C:\\\\Users\\\\blake\\\\Documents\\\\rlcsseason9\\\\RLCS Season 9\\\\RLCS\\\\RLCS NA League Play\\\\Week 5 -- Double Header\\\\M2 - Susquehanna Soniqs vs Eunited\\\\C72F5A7E438A3F5908F873BE73D8A693.replay',\n",
       " 'C:\\\\Users\\\\blake\\\\Documents\\\\rlcsseason9\\\\RLCS Season 9\\\\RLCS\\\\RLCS NA League Play\\\\Week 5 -- Double Header\\\\M3 - Ghost Gaming vs G2 Esports\\\\0161C5FE4171AC090ADF7F989038E630.replay',\n",
       " 'C:\\\\Users\\\\blake\\\\Documents\\\\rlcsseason9\\\\RLCS Season 9\\\\RLCS\\\\RLCS NA League Play\\\\Week 5 -- Double Header\\\\M3 - Ghost Gaming vs G2 Esports\\\\3EA72E7A4EABFDBCB85CB8BF19C8AA14.replay',\n",
       " 'C:\\\\Users\\\\blake\\\\Documents\\\\rlcsseason9\\\\RLCS Season 9\\\\RLCS\\\\RLCS NA League Play\\\\Week 5 -- Double Header\\\\M3 - Ghost Gaming vs G2 Esports\\\\44E88F674244D87D5B66B698B3845397.replay',\n",
       " 'C:\\\\Users\\\\blake\\\\Documents\\\\rlcsseason9\\\\RLCS Season 9\\\\RLCS\\\\RLCS NA League Play\\\\Week 5 -- Double Header\\\\M3 - Ghost Gaming vs G2 Esports\\\\60CF7ED8491073D360882E8C19099ED4.replay',\n",
       " 'C:\\\\Users\\\\blake\\\\Documents\\\\rlcsseason9\\\\RLCS Season 9\\\\RLCS\\\\RLCS NA League Play\\\\Week 5 -- Double Header\\\\M4 - Rogue vs Pittsburgh Knights\\\\3F0439BC4A96AFB153C97297AAAF077D.replay',\n",
       " 'C:\\\\Users\\\\blake\\\\Documents\\\\rlcsseason9\\\\RLCS Season 9\\\\RLCS\\\\RLCS NA League Play\\\\Week 5 -- Double Header\\\\M4 - Rogue vs Pittsburgh Knights\\\\404C32A642816C81651537A8D4E35E29.replay',\n",
       " 'C:\\\\Users\\\\blake\\\\Documents\\\\rlcsseason9\\\\RLCS Season 9\\\\RLCS\\\\RLCS NA League Play\\\\Week 5 -- Double Header\\\\M4 - Rogue vs Pittsburgh Knights\\\\50F4A41D4FE33CBE8BAFFBABC5A2BE96.replay',\n",
       " 'C:\\\\Users\\\\blake\\\\Documents\\\\rlcsseason9\\\\RLCS Season 9\\\\RLCS\\\\RLCS NA League Play\\\\Week 5 -- Double Header\\\\M4 - Rogue vs Pittsburgh Knights\\\\55B0A439421F24E8B10680B4677ECF72.replay',\n",
       " 'C:\\\\Users\\\\blake\\\\Documents\\\\rlcsseason9\\\\RLCS Season 9\\\\RLCS\\\\RLCS NA League Play\\\\Week 5 -- Double Header\\\\M4 - Rogue vs Pittsburgh Knights\\\\F0F0F1D841D17DD3320471BD61B93A05.replay',\n",
       " 'C:\\\\Users\\\\blake\\\\Documents\\\\rlcsseason9\\\\RLCS Season 9\\\\RLCS\\\\RLCS NA League Play\\\\Week 5 -- Double Header\\\\M5 - Cloud9 vs NRG Esports\\\\1AA92792482BB854AA7F79BE923B2143.replay',\n",
       " 'C:\\\\Users\\\\blake\\\\Documents\\\\rlcsseason9\\\\RLCS Season 9\\\\RLCS\\\\RLCS NA League Play\\\\Week 5 -- Double Header\\\\M5 - Cloud9 vs NRG Esports\\\\D12B1B4D459F1F532C7272A809A340E8.replay',\n",
       " 'C:\\\\Users\\\\blake\\\\Documents\\\\rlcsseason9\\\\RLCS Season 9\\\\RLCS\\\\RLCS NA League Play\\\\Week 5 -- Double Header\\\\M5 - Cloud9 vs NRG Esports\\\\FF75AEFF4154A038AE5C93AE2CD260DC.replay',\n",
       " 'C:\\\\Users\\\\blake\\\\Documents\\\\rlcsseason9\\\\RLCS Season 9\\\\RLCS\\\\RLCS NA League Play\\\\Week 6\\\\M1 - Cloud9 vs Susquehanna Soniqs\\\\33E6AD6C443AE2450F45A885AF315D3C.replay',\n",
       " 'C:\\\\Users\\\\blake\\\\Documents\\\\rlcsseason9\\\\RLCS Season 9\\\\RLCS\\\\RLCS NA League Play\\\\Week 6\\\\M1 - Cloud9 vs Susquehanna Soniqs\\\\5279FFA64AF16CEDF0D14FAE99108986.replay',\n",
       " 'C:\\\\Users\\\\blake\\\\Documents\\\\rlcsseason9\\\\RLCS Season 9\\\\RLCS\\\\RLCS NA League Play\\\\Week 6\\\\M1 - Cloud9 vs Susquehanna Soniqs\\\\69663EBB4A9B275F844E35AE37F5F0B3.replay',\n",
       " 'C:\\\\Users\\\\blake\\\\Documents\\\\rlcsseason9\\\\RLCS Season 9\\\\RLCS\\\\RLCS NA League Play\\\\Week 6\\\\M1 - Cloud9 vs Susquehanna Soniqs\\\\7FDB897A4D10031F4837FD9F4E560C94.replay',\n",
       " 'C:\\\\Users\\\\blake\\\\Documents\\\\rlcsseason9\\\\RLCS Season 9\\\\RLCS\\\\RLCS NA League Play\\\\Week 6\\\\M1 - Cloud9 vs Susquehanna Soniqs\\\\8D06E5E74039193D848553ABA27001AC.replay',\n",
       " 'C:\\\\Users\\\\blake\\\\Documents\\\\rlcsseason9\\\\RLCS Season 9\\\\RLCS\\\\RLCS NA League Play\\\\Week 6\\\\M1 - Cloud9 vs Susquehanna Soniqs\\\\96CC76FA45BB803F72B0F38C477BC37E.replay',\n",
       " 'C:\\\\Users\\\\blake\\\\Documents\\\\rlcsseason9\\\\RLCS Season 9\\\\RLCS\\\\RLCS NA League Play\\\\Week 6\\\\M2 - Rogue vs Spacestation Gaming\\\\06D016BB48F3D3EBD3D43E823D62BE60.replay',\n",
       " 'C:\\\\Users\\\\blake\\\\Documents\\\\rlcsseason9\\\\RLCS Season 9\\\\RLCS\\\\RLCS NA League Play\\\\Week 6\\\\M2 - Rogue vs Spacestation Gaming\\\\48940C574B43F77007BF8E890F07B023.replay',\n",
       " 'C:\\\\Users\\\\blake\\\\Documents\\\\rlcsseason9\\\\RLCS Season 9\\\\RLCS\\\\RLCS NA League Play\\\\Week 6\\\\M2 - Rogue vs Spacestation Gaming\\\\DA186D044024BF1B3159BD9889A7BFBE.replay',\n",
       " 'C:\\\\Users\\\\blake\\\\Documents\\\\rlcsseason9\\\\RLCS Season 9\\\\RLCS\\\\RLCS NA League Play\\\\Week 6\\\\M3 - Susquehanna Soniqs vs Flight\\\\857F296A4EBB2685C684D49B0EE14015.replay',\n",
       " 'C:\\\\Users\\\\blake\\\\Documents\\\\rlcsseason9\\\\RLCS Season 9\\\\RLCS\\\\RLCS NA League Play\\\\Week 6\\\\M3 - Susquehanna Soniqs vs Flight\\\\87F9800F44CDBF120058519C20C9156A.replay',\n",
       " 'C:\\\\Users\\\\blake\\\\Documents\\\\rlcsseason9\\\\RLCS Season 9\\\\RLCS\\\\RLCS NA League Play\\\\Week 6\\\\M3 - Susquehanna Soniqs vs Flight\\\\87FB64A8455E05D04CFFA98F4E0DF193.replay',\n",
       " 'C:\\\\Users\\\\blake\\\\Documents\\\\rlcsseason9\\\\RLCS Season 9\\\\RLCS\\\\RLCS NA League Play\\\\Week 6\\\\M3 - Susquehanna Soniqs vs Flight\\\\B8F423A84B4EF0509E8623A14331B0EC.replay',\n",
       " 'C:\\\\Users\\\\blake\\\\Documents\\\\rlcsseason9\\\\RLCS Season 9\\\\RLCS\\\\RLCS NA League Play\\\\Week 6\\\\M4 - Cloud9 vs Ghost Gaming\\\\1433EE57426C8613A4E268826E71D8EE.replay',\n",
       " 'C:\\\\Users\\\\blake\\\\Documents\\\\rlcsseason9\\\\RLCS Season 9\\\\RLCS\\\\RLCS NA League Play\\\\Week 6\\\\M4 - Cloud9 vs Ghost Gaming\\\\5CB7459D4608B842A6C1518705A82CFC.replay',\n",
       " 'C:\\\\Users\\\\blake\\\\Documents\\\\rlcsseason9\\\\RLCS Season 9\\\\RLCS\\\\RLCS NA League Play\\\\Week 6\\\\M4 - Cloud9 vs Ghost Gaming\\\\D42700544782EB6A45130F800CC26A3D.replay',\n",
       " 'C:\\\\Users\\\\blake\\\\Documents\\\\rlcsseason9\\\\RLCS Season 9\\\\RLCS\\\\RLCS NA League Play\\\\Week 6\\\\M5 - Eunited vs Pittsburgh Knights\\\\2CEDFA104A856F0AFA0629A1D89562E1.replay',\n",
       " 'C:\\\\Users\\\\blake\\\\Documents\\\\rlcsseason9\\\\RLCS Season 9\\\\RLCS\\\\RLCS NA League Play\\\\Week 6\\\\M5 - Eunited vs Pittsburgh Knights\\\\4EEFEAA845CA11842C40C3B87438F5EB.replay',\n",
       " 'C:\\\\Users\\\\blake\\\\Documents\\\\rlcsseason9\\\\RLCS Season 9\\\\RLCS\\\\RLCS NA League Play\\\\Week 6\\\\M5 - Eunited vs Pittsburgh Knights\\\\75CB9045429EBC5B77214094E81D5C2D.replay',\n",
       " 'C:\\\\Users\\\\blake\\\\Documents\\\\rlcsseason9\\\\RLCS Season 9\\\\RLCS\\\\RLCS NA League Play\\\\Week 6\\\\M5 - Eunited vs Pittsburgh Knights\\\\8DE4E9C74D93B4210C184AB4743A74AA.replay',\n",
       " 'C:\\\\Users\\\\blake\\\\Documents\\\\rlcsseason9\\\\RLCS Season 9\\\\RLCS\\\\RLCS NA League Play\\\\Week 6\\\\M5 - Eunited vs Pittsburgh Knights\\\\8F8BE5D841F50B8925930AA7E28662EE.replay',\n",
       " 'C:\\\\Users\\\\blake\\\\Documents\\\\rlcsseason9\\\\RLCS Season 9\\\\RLCS\\\\RLCS NA League Play\\\\Week 6\\\\M6 - NRG Esports vs G2 Esports\\\\033292EB4D4EA9ECA804A9A82A85640D.replay',\n",
       " 'C:\\\\Users\\\\blake\\\\Documents\\\\rlcsseason9\\\\RLCS Season 9\\\\RLCS\\\\RLCS NA League Play\\\\Week 6\\\\M6 - NRG Esports vs G2 Esports\\\\2B6B987E4438DCD2E56E4F958DAB0D4F.replay',\n",
       " 'C:\\\\Users\\\\blake\\\\Documents\\\\rlcsseason9\\\\RLCS Season 9\\\\RLCS\\\\RLCS NA League Play\\\\Week 6\\\\M6 - NRG Esports vs G2 Esports\\\\38E4C7D548D5204550E62BA8AA18BC50.replay',\n",
       " 'C:\\\\Users\\\\blake\\\\Documents\\\\rlcsseason9\\\\RLCS Season 9\\\\RLCS\\\\RLCS NA League Play\\\\Week 6\\\\M6 - NRG Esports vs G2 Esports\\\\C13FDE334817C4A687BCBC9EE7DE05E3.replay',\n",
       " 'C:\\\\Users\\\\blake\\\\Documents\\\\rlcsseason9\\\\RLCS Season 9\\\\RLCS\\\\RLCS NA League Play\\\\Week 6\\\\M6 - NRG Esports vs G2 Esports\\\\D9B5524A4CCD43322202E1B05B31481D.replay',\n",
       " 'C:\\\\Users\\\\blake\\\\Documents\\\\rlcsseason9\\\\RLCS Season 9\\\\RLCS\\\\RLCS NA League Play\\\\Week 7\\\\M1 - NRG Esports vs Ghost Gaming\\\\1EF6636D4F99863DA65E37B129E75A87.replay',\n",
       " 'C:\\\\Users\\\\blake\\\\Documents\\\\rlcsseason9\\\\RLCS Season 9\\\\RLCS\\\\RLCS NA League Play\\\\Week 7\\\\M1 - NRG Esports vs Ghost Gaming\\\\36C3704E4A1582EAE825438EBE7DA03D.replay',\n",
       " 'C:\\\\Users\\\\blake\\\\Documents\\\\rlcsseason9\\\\RLCS Season 9\\\\RLCS\\\\RLCS NA League Play\\\\Week 7\\\\M1 - NRG Esports vs Ghost Gaming\\\\4759C2204D313CD26F9E5CA2AE37B9A9.replay',\n",
       " 'C:\\\\Users\\\\blake\\\\Documents\\\\rlcsseason9\\\\RLCS Season 9\\\\RLCS\\\\RLCS NA League Play\\\\Week 7\\\\M1 - NRG Esports vs Ghost Gaming\\\\E2647482472A004E1FF1E0ACAECF091D.replay',\n",
       " 'C:\\\\Users\\\\blake\\\\Documents\\\\rlcsseason9\\\\RLCS Season 9\\\\RLCS\\\\RLCS NA League Play\\\\Week 7\\\\M1 - NRG Esports vs Ghost Gaming\\\\F3AB086A4CC404B36B819F8378B4FC1E.replay',\n",
       " 'C:\\\\Users\\\\blake\\\\Documents\\\\rlcsseason9\\\\RLCS Season 9\\\\RLCS\\\\RLCS NA League Play\\\\Week 7\\\\M2 - Eunited vs Spacestation Gaming\\\\09DFAC50436BE93A1194FDB92C54DF9B.replay',\n",
       " 'C:\\\\Users\\\\blake\\\\Documents\\\\rlcsseason9\\\\RLCS Season 9\\\\RLCS\\\\RLCS NA League Play\\\\Week 7\\\\M2 - Eunited vs Spacestation Gaming\\\\A44184A94C9ACBA836DBBFA27CD6123B.replay',\n",
       " 'C:\\\\Users\\\\blake\\\\Documents\\\\rlcsseason9\\\\RLCS Season 9\\\\RLCS\\\\RLCS NA League Play\\\\Week 7\\\\M2 - Eunited vs Spacestation Gaming\\\\B5366FC04323115D2943FEAD063F9D1A.replay',\n",
       " 'C:\\\\Users\\\\blake\\\\Documents\\\\rlcsseason9\\\\RLCS Season 9\\\\RLCS\\\\RLCS NA League Play\\\\Week 7\\\\M3 - Cloud9 vs Pittsburgh Knights\\\\2978320D49622805907F5CAA636AD23F.replay',\n",
       " 'C:\\\\Users\\\\blake\\\\Documents\\\\rlcsseason9\\\\RLCS Season 9\\\\RLCS\\\\RLCS NA League Play\\\\Week 7\\\\M3 - Cloud9 vs Pittsburgh Knights\\\\398F08C847EC234AE705F7916DBD122A.replay',\n",
       " 'C:\\\\Users\\\\blake\\\\Documents\\\\rlcsseason9\\\\RLCS Season 9\\\\RLCS\\\\RLCS NA League Play\\\\Week 7\\\\M3 - Cloud9 vs Pittsburgh Knights\\\\FE3424734B3C565B1B51D9AE39A07740.replay',\n",
       " 'C:\\\\Users\\\\blake\\\\Documents\\\\rlcsseason9\\\\RLCS Season 9\\\\RLCS\\\\RLCS NA League Play\\\\Week 7\\\\M4 - G2 Esports vs Spacestation Gaming\\\\4688942C4BC9F23FF39AA780248F2B0F.replay',\n",
       " 'C:\\\\Users\\\\blake\\\\Documents\\\\rlcsseason9\\\\RLCS Season 9\\\\RLCS\\\\RLCS NA League Play\\\\Week 7\\\\M4 - G2 Esports vs Spacestation Gaming\\\\AF8F58174D7982DA1AD1EA83FBD51041.replay',\n",
       " 'C:\\\\Users\\\\blake\\\\Documents\\\\rlcsseason9\\\\RLCS Season 9\\\\RLCS\\\\RLCS NA League Play\\\\Week 7\\\\M4 - G2 Esports vs Spacestation Gaming\\\\E83A25FB47CD857244687384A5BA1031.replay',\n",
       " 'C:\\\\Users\\\\blake\\\\Documents\\\\rlcsseason9\\\\RLCS Season 9\\\\RLCS\\\\RLCS NA League Play\\\\Week 7\\\\M4 - G2 Esports vs Spacestation Gaming\\\\EDC4A375464898AC32916EB4695B39CE.replay',\n",
       " 'C:\\\\Users\\\\blake\\\\Documents\\\\rlcsseason9\\\\RLCS Season 9\\\\RLCS\\\\RLCS NA League Play\\\\Week 7\\\\M5 - Flight vs Rogue\\\\3E85F4BD4E39DCF50BC1AA8F37F5A55C.replay',\n",
       " 'C:\\\\Users\\\\blake\\\\Documents\\\\rlcsseason9\\\\RLCS Season 9\\\\RLCS\\\\RLCS NA League Play\\\\Week 7\\\\M5 - Flight vs Rogue\\\\BBDF437B44D1D06551435593EAE8CCE0.replay',\n",
       " 'C:\\\\Users\\\\blake\\\\Documents\\\\rlcsseason9\\\\RLCS Season 9\\\\RLCS\\\\RLCS NA League Play\\\\Week 7\\\\M5 - Flight vs Rogue\\\\E3521B2542AE791A801DD4AB9CB20128.replay',\n",
       " 'C:\\\\Users\\\\blake\\\\Documents\\\\rlcsseason9\\\\RLCS Season 9\\\\RLCS\\\\RLCS NA League Play\\\\Week 7\\\\M6 - Susquehanna Soniqs vs G2 Esports\\\\4E9867E046FDB97BCF0253AE2139F65B.replay',\n",
       " 'C:\\\\Users\\\\blake\\\\Documents\\\\rlcsseason9\\\\RLCS Season 9\\\\RLCS\\\\RLCS NA League Play\\\\Week 7\\\\M6 - Susquehanna Soniqs vs G2 Esports\\\\AD0A69A1419E904AB4F124BB22ABEB56.replay',\n",
       " 'C:\\\\Users\\\\blake\\\\Documents\\\\rlcsseason9\\\\RLCS Season 9\\\\RLCS\\\\RLCS NA League Play\\\\Week 7\\\\M6 - Susquehanna Soniqs vs G2 Esports\\\\EE93BB974CD5C826A658DF841BD202D6.replay']"
      ]
     },
     "execution_count": 17,
     "metadata": {},
     "output_type": "execute_result"
    }
   ],
   "source": [
    "replays"
   ]
  },
  {
   "cell_type": "code",
   "execution_count": 18,
   "metadata": {},
   "outputs": [],
   "source": [
    "def intersection(lst1, lst2): \n",
    "    lst3 = [value for value in lst1 if value in lst2] \n",
    "    return lst3 "
   ]
  },
  {
   "cell_type": "code",
   "execution_count": 19,
   "metadata": {},
   "outputs": [],
   "source": [
    "boost_locs = pd.DataFrame([[-3072.0, -4096.0, 73.0, 'big'],\n",
    "                           [ 3072.0, -4096.0, 73.0, 'big'],\n",
    "                           [-3584.0,     0.0, 73.0, 'big'],\n",
    "                           [ 3584.0,     0.0, 73.0, 'big'],\n",
    "                           [-3072.0,  4096.0, 73.0, 'big'],\n",
    "                           [ 3072.0,  4096.0, 73.0, 'big'],\n",
    "                           [    0.0, -4240.0, 70.0, 'small'],\n",
    "                           [-1792.0, -4184.0, 70.0, 'small'],\n",
    "                           [ 1792.0, -4184.0, 70.0, 'small'],\n",
    "                           [- 940.0, -3308.0, 70.0, 'small'],\n",
    "                           [  940.0, -3308.0, 70.0, 'small'],\n",
    "                           [    0.0, -2816.0, 70.0, 'small'],\n",
    "                           [-3584.0, -2484.0, 70.0, 'small'],\n",
    "                           [ 3584.0, -2484.0, 70.0, 'small'],\n",
    "                           [-1788.0, -2300.0, 70.0, 'small'],\n",
    "                           [ 1788.0, -2300.0, 70.0, 'small'],\n",
    "                           [-2048.0, -1036.0, 70.0, 'small'],\n",
    "                           [    0.0, -1024.0, 70.0, 'small'],\n",
    "                           [ 2048.0, -1036.0, 70.0, 'small'],\n",
    "                           [-1024.0,     0.0, 70.0, 'small'],\n",
    "                           [ 1024.0,     0.0, 70.0, 'small'],\n",
    "                           [-2048.0,  1036.0, 70.0, 'small'],\n",
    "                           [    0.0,  1024.0, 70.0, 'small'],\n",
    "                           [ 2048.0,  1036.0, 70.0, 'small'],\n",
    "                           [-1788.0,  2300.0, 70.0, 'small'],\n",
    "                           [ 1788.0,  2300.0, 70.0, 'small'],\n",
    "                           [-3584.0,  2484.0, 70.0, 'small'],\n",
    "                           [ 3584.0,  2484.0, 70.0, 'small'],\n",
    "                           [    0.0,  2816.0, 70.0, 'small'],\n",
    "                           [- 940.0,  3310.0, 70.0, 'small'],\n",
    "                           [  940.0,  3308.0, 70.0, 'small'],\n",
    "                           [-1792.0,  4184.0, 70.0, 'small'],\n",
    "                           [ 1792.0,  4184.0, 70.0, 'small'],\n",
    "                           [    0.0,  4240.0, 70.0, 'small']], \n",
    "                          columns=['boost_pad_x', 'boost_pad_y', \n",
    "                                   'boost_pad_z', 'boost_pad_type'])"
   ]
  },
  {
   "cell_type": "code",
   "execution_count": 292,
   "metadata": {},
   "outputs": [],
   "source": [
    "def show_play(fig, expected_goal, frame, is_goal):\n",
    "    is_goal = 'Goal' if is_goal == 1 else \"No Goal\"\n",
    "    fig = go.Figure(\n",
    "    data=[\n",
    "         go.Scatter(x=[-4096,-4096+1152], y=[5120-1152, 5120],\n",
    "                     mode=\"lines\",\n",
    "                     line=dict(width=2, color=\"blue\")),\n",
    "        go.Scatter(x=[-4096,-4096+1152], y=[5120-1152, 5120],\n",
    "                     mode=\"lines\",\n",
    "                     line=dict(width=2, color=\"blue\")),\n",
    "         go.Scatter(x=[4096,4096-1152], y=[5120-1152, 5120],\n",
    "                     mode=\"lines\",\n",
    "                     line=dict(width=2, color=\"blue\")),\n",
    "          go.Scatter(x=[-4096,-4096+1152], y=[-5120+1152, -5120],\n",
    "                     mode=\"lines\",\n",
    "                     line=dict(width=2, color=\"blue\")),\n",
    "         go.Scatter(x=[-4096,-4096+1152], y=[5120-1152, 5120],\n",
    "                     mode=\"lines\",\n",
    "                     line=dict(width=2, color=\"blue\")),\n",
    "         go.Scatter(x=[4096,4096-1152], y=[-5120+1152, -5120],\n",
    "                     mode=\"lines\",\n",
    "                     line=dict(width=2, color=\"blue\")),\n",
    "          \n",
    "          go.Scatter(x=[-4096,-4096], y=[5120-1152, -5120+1152],\n",
    "                     mode=\"lines\",\n",
    "                     line=dict(width=2, color=\"blue\")),\n",
    "          go.Scatter(x=[4096,4096], y=[5120-1152, -5120+1152],\n",
    "                     mode=\"lines\",\n",
    "                     line=dict(width=2, color=\"blue\")),\n",
    "          \n",
    "          go.Scatter(x=[-4096+1152,-893], y=[5120, 5120],\n",
    "                     mode=\"lines\",\n",
    "                     line=dict(width=2, color=\"blue\")),\n",
    "          go.Scatter(x=[4096-1152,893], y=[5120, 5120],\n",
    "                     mode=\"lines\",\n",
    "                     line=dict(width=2, color=\"blue\")),\n",
    "          go.Scatter(x=[-893,893], y=[5120, 5120],\n",
    "                     mode=\"lines\",\n",
    "                     line=dict(width=2, color=\"blue\")),\n",
    "          \n",
    "          go.Scatter(x=[-4096+1152,-893], y=[-5120, -5120],\n",
    "                     mode=\"lines\",\n",
    "                     line=dict(width=2, color=\"blue\")),\n",
    "          go.Scatter(x=[4096-1152,893], y=[-5120, -5120],\n",
    "                     mode=\"lines\",\n",
    "                     line=dict(width=2, color=\"blue\")),\n",
    "          go.Scatter(x=[-893,893], y=[-5120, -5120],\n",
    "                     mode=\"lines\",\n",
    "                     line=dict(width=2, color=\"blue\")),\n",
    "          \n",
    "          go.Scatter(x=[-893,893], y=[5120+880, 5120+880],\n",
    "                     mode=\"lines\",\n",
    "                     line=dict(width=2, color=\"blue\")),\n",
    "          go.Scatter(x=[893,893], y=[5120+880, 5120],\n",
    "                     mode=\"lines\",\n",
    "                     line=dict(width=2, color=\"blue\")),\n",
    "          go.Scatter(x=[-893,-893], y=[5120+880, 5120],\n",
    "                     mode=\"lines\",\n",
    "                     line=dict(width=2, color=\"blue\")),\n",
    "          \n",
    "          go.Scatter(x=[-893,893], y=[-5120-880, -5120-880],\n",
    "                     mode=\"lines\",\n",
    "                     line=dict(width=2, color=\"blue\")),\n",
    "          go.Scatter(x=[893,893], y=[-5120-880, -5120],\n",
    "                     mode=\"lines\",\n",
    "                     line=dict(width=2, color=\"blue\")),\n",
    "          go.Scatter(x=[-893,-893], y=[-5120-880, -5120],\n",
    "                     mode=\"lines\",\n",
    "                     line=dict(width=2, color=\"blue\")),\n",
    "          go.Scatter(x=boost_locs['boost_pad_x'],y=boost_locs['boost_pad_y'], mode='markers', marker=dict(color='pink'))\n",
    "         \n",
    "         ],\n",
    "    layout=go.Layout(\n",
    "        xaxis=dict(range=[-5000, 5000], autorange=False, zeroline=False),\n",
    "        yaxis=dict(range=[-6050, 6050], autorange=False, zeroline=False),\n",
    "        title_text=\"Expected Goal: {}\\n Result: {}\".format(expected_goal, is_goal), hovermode=\"closest\",\n",
    "        width=700,\n",
    "        height=800\n",
    "        \n",
    "        ),\n",
    "    \n",
    "    frames=[go.Frame(\n",
    "        \n",
    "        data=[go.Scatter(\n",
    "            x=flat_df.loc[(flat_df.frames == k),'pos_x'].values,\n",
    "            y=flat_df.loc[(flat_df.frames == k),'pos_y'].values,\n",
    "            mode=\"markers\",\n",
    "            \n",
    "            marker=dict(color=['orange' if game_info.loc[game_info.name == nm].is_orange.values[0] else 'blue' for nm in flat_df.name.unique()], \n",
    "                        size=10\n",
    "                       )),\n",
    "              go.Scatter(\n",
    "            x=[df_ball.loc[df_ball.frames == k,'pos_x'].values[0]],\n",
    "            y=[df_ball.loc[df_ball.frames == k,'pos_y'].values[0]],\n",
    "            mode=\"markers\",\n",
    "            marker=dict(color='black', size=10)\n",
    "                \n",
    "              )\n",
    "             ]\n",
    "            )\n",
    "\n",
    "        for k in df.loc[df.frames.between(frame-100,frame+150), 'frames'].values]\n",
    "    )\n",
    "    fig.update_layout(\n",
    "    autosize=False,\n",
    "    width=700,\n",
    "    height=800,\n",
    "    updatemenus=[dict(buttons = [dict(\n",
    "                                               args = [None, {\"frame\": {\"duration\": 30, \n",
    "                                                                        \"redraw\": False},\n",
    "                                                              \"fromcurrent\": True, \n",
    "                                                              \"transition\": {\"duration\": 0}}],\n",
    "                                               label = \"Play\",\n",
    "                                               method = \"animate\")],\n",
    "                                type='buttons',\n",
    "                                showactive=False,\n",
    "                                y=1,\n",
    "                                x=1.12,\n",
    "                                xanchor='right',\n",
    "                                yanchor='top')]\n",
    "    )\n",
    "    return fig"
   ]
  },
  {
   "cell_type": "code",
   "execution_count": 205,
   "metadata": {},
   "outputs": [],
   "source": [
    "def get_players(game):\n",
    "    df_players = pd.DataFrame()\n",
    "    for x in game.players:\n",
    "        df_players = (df_players.append(pd.DataFrame([x.online_id,x.name,x.is_orange]\n",
    "                                                    ).T,ignore_index=True))\n",
    "    df_players.columns = ['id','name','is_orange']\n",
    "        \n",
    "    return df_players\n",
    "\n",
    "def get_flat_df(players, df):\n",
    "    flat_df = pd.DataFrame()\n",
    "    for x in players:\n",
    "        frames = df['frames'].unique()\n",
    "        temp = df[x]\n",
    "        temp['frames'] = frames\n",
    "        temp['name'] = x\n",
    "        flat_df = flat_df.append(temp)\n",
    "    return flat_df\n",
    "\n",
    "def get_replay_df(replay_file):\n",
    "    _json = carball.decompile_replay(replay_file)\n",
    "    game = Game()\n",
    "    game.initialize(loaded_json=_json)\n",
    "\n",
    "    analysis_manager = AnalysisManager(game)\n",
    "    analysis_manager.create_analysis()\n",
    "    t = analysis_manager.get_json_data()\n",
    "    df = analysis_manager.get_data_frame()\n",
    "    df = df.reset_index().rename(columns={'index':'frames'})\n",
    "    df_ball = df['ball']\n",
    "    df_ball['frames'] = df['frames'].values\n",
    "    players = [x.name for x in game.players]\n",
    "    flat_df = get_flat_df(players, df)\n",
    "    print(game.name)\n",
    "    game_info = pd.DataFrame([[format(game.datetime,\"%Y%m%d%H%M%S\"),game.game_info.match_guid,game.name[4],game.id]],columns=['match_date','match_id','game_number','game_id'])\n",
    "    player_info = get_players(game)\n",
    "    players = [x.name for x in game.players]\n",
    "    game_info = pd.concat((game_info,player_info),axis=1)\n",
    "    game_info = game_info.fillna(method='ffill')\n",
    "    return df, flat_df, game_info, players, df_ball"
   ]
  },
  {
   "cell_type": "code",
   "execution_count": 206,
   "metadata": {},
   "outputs": [
    {
     "name": "stderr",
     "output_type": "stream",
     "text": [
      "Player RLCS Admin as player has no MatchScore.\n",
      "Score is not found for player\n",
      "Ignoring player: RLCS Admin as player has no team.\n",
      "Player RLCS Observer 1 as player has no MatchScore.\n",
      "Score is not found for player\n",
      "Ignoring player: RLCS Observer 1 as player has no team.\n",
      "Player RLCS Observer 3 as player has no MatchScore.\n",
      "Score is not found for player\n",
      "Ignoring player: RLCS Observer 3 as player has no team.\n",
      "Player RLCS Observer 2 as player has no MatchScore.\n",
      "Score is not found for player\n",
      "Ignoring player: RLCS Observer 2 as player has no team.\n",
      "Dropping these columns[('game', 'is_overtime')]\n",
      "The player never hit the ball during the \"carry\"\n",
      "The player never hit the ball during the \"carry\"\n",
      "C:\\Users\\blake\\AppData\\Roaming\\Python\\Python38\\site-packages\\numpy\\lib\\format.py:431: UserWarning:\n",
      "\n",
      "Stored array in format 3.0. It can only be read by NumPy >= 1.17\n",
      "\n",
      "<ipython-input-205-13e91061d822>:31: SettingWithCopyWarning:\n",
      "\n",
      "\n",
      "A value is trying to be set on a copy of a slice from a DataFrame.\n",
      "Try using .loc[row_indexer,col_indexer] = value instead\n",
      "\n",
      "See the caveats in the documentation: https://pandas.pydata.org/pandas-docs/stable/user_guide/indexing.html#returning-a-view-versus-a-copy\n",
      "\n",
      "<ipython-input-205-13e91061d822>:15: SettingWithCopyWarning:\n",
      "\n",
      "\n",
      "A value is trying to be set on a copy of a slice from a DataFrame.\n",
      "Try using .loc[row_indexer,col_indexer] = value instead\n",
      "\n",
      "See the caveats in the documentation: https://pandas.pydata.org/pandas-docs/stable/user_guide/indexing.html#returning-a-view-versus-a-copy\n",
      "\n",
      "<ipython-input-205-13e91061d822>:16: SettingWithCopyWarning:\n",
      "\n",
      "\n",
      "A value is trying to be set on a copy of a slice from a DataFrame.\n",
      "Try using .loc[row_indexer,col_indexer] = value instead\n",
      "\n",
      "See the caveats in the documentation: https://pandas.pydata.org/pandas-docs/stable/user_guide/indexing.html#returning-a-view-versus-a-copy\n",
      "\n"
     ]
    },
    {
     "name": "stdout",
     "output_type": "stream",
     "text": [
      "m1 g3 bb vs vert\n"
     ]
    }
   ],
   "source": [
    "df, flat_df, game_info, players, df_ball = get_replay_df(shots_df.replay_name.values[0])"
   ]
  },
  {
   "cell_type": "code",
   "execution_count": 202,
   "metadata": {},
   "outputs": [
    {
     "data": {
      "text/html": [
       "<div>\n",
       "<style scoped>\n",
       "    .dataframe tbody tr th:only-of-type {\n",
       "        vertical-align: middle;\n",
       "    }\n",
       "\n",
       "    .dataframe tbody tr th {\n",
       "        vertical-align: top;\n",
       "    }\n",
       "\n",
       "    .dataframe thead th {\n",
       "        text-align: right;\n",
       "    }\n",
       "</style>\n",
       "<table border=\"1\" class=\"dataframe\">\n",
       "  <thead>\n",
       "    <tr style=\"text-align: right;\">\n",
       "      <th></th>\n",
       "      <th>match_date</th>\n",
       "      <th>match_id</th>\n",
       "      <th>game_number</th>\n",
       "      <th>game_id</th>\n",
       "      <th>id</th>\n",
       "      <th>name</th>\n",
       "      <th>is_orange</th>\n",
       "    </tr>\n",
       "  </thead>\n",
       "  <tbody>\n",
       "    <tr>\n",
       "      <th>0</th>\n",
       "      <td>20200214104013</td>\n",
       "      <td>63BEE7A811EA4F58155129BBDFFAEFCB</td>\n",
       "      <td>3.0</td>\n",
       "      <td>44C89A1A44A4E626916BD69677565167</td>\n",
       "      <td>76561198246237074</td>\n",
       "      <td>doomayn 幸せ</td>\n",
       "      <td>True</td>\n",
       "    </tr>\n",
       "    <tr>\n",
       "      <th>1</th>\n",
       "      <td>20200214104013</td>\n",
       "      <td>63BEE7A811EA4F58155129BBDFFAEFCB</td>\n",
       "      <td>3.0</td>\n",
       "      <td>44C89A1A44A4E626916BD69677565167</td>\n",
       "      <td>76561198150969845</td>\n",
       "      <td>Kerian</td>\n",
       "      <td>False</td>\n",
       "    </tr>\n",
       "    <tr>\n",
       "      <th>2</th>\n",
       "      <td>20200214104013</td>\n",
       "      <td>63BEE7A811EA4F58155129BBDFFAEFCB</td>\n",
       "      <td>3.0</td>\n",
       "      <td>44C89A1A44A4E626916BD69677565167</td>\n",
       "      <td>76561198258466111</td>\n",
       "      <td>ExoTiiK</td>\n",
       "      <td>False</td>\n",
       "    </tr>\n",
       "    <tr>\n",
       "      <th>3</th>\n",
       "      <td>20200214104013</td>\n",
       "      <td>63BEE7A811EA4F58155129BBDFFAEFCB</td>\n",
       "      <td>3.0</td>\n",
       "      <td>44C89A1A44A4E626916BD69677565167</td>\n",
       "      <td>76561198303347154</td>\n",
       "      <td>Meloshisu</td>\n",
       "      <td>False</td>\n",
       "    </tr>\n",
       "    <tr>\n",
       "      <th>4</th>\n",
       "      <td>20200214104013</td>\n",
       "      <td>63BEE7A811EA4F58155129BBDFFAEFCB</td>\n",
       "      <td>3.0</td>\n",
       "      <td>44C89A1A44A4E626916BD69677565167</td>\n",
       "      <td>76561198008942341</td>\n",
       "      <td>Gnagflow06</td>\n",
       "      <td>True</td>\n",
       "    </tr>\n",
       "    <tr>\n",
       "      <th>5</th>\n",
       "      <td>20200214104013</td>\n",
       "      <td>63BEE7A811EA4F58155129BBDFFAEFCB</td>\n",
       "      <td>3.0</td>\n",
       "      <td>44C89A1A44A4E626916BD69677565167</td>\n",
       "      <td>76561198079884662</td>\n",
       "      <td>coKaaa</td>\n",
       "      <td>True</td>\n",
       "    </tr>\n",
       "  </tbody>\n",
       "</table>\n",
       "</div>"
      ],
      "text/plain": [
       "       match_date                          match_id  game_number  \\\n",
       "0  20200214104013  63BEE7A811EA4F58155129BBDFFAEFCB          3.0   \n",
       "1  20200214104013  63BEE7A811EA4F58155129BBDFFAEFCB          3.0   \n",
       "2  20200214104013  63BEE7A811EA4F58155129BBDFFAEFCB          3.0   \n",
       "3  20200214104013  63BEE7A811EA4F58155129BBDFFAEFCB          3.0   \n",
       "4  20200214104013  63BEE7A811EA4F58155129BBDFFAEFCB          3.0   \n",
       "5  20200214104013  63BEE7A811EA4F58155129BBDFFAEFCB          3.0   \n",
       "\n",
       "                            game_id                 id        name  is_orange  \n",
       "0  44C89A1A44A4E626916BD69677565167  76561198246237074  doomayn 幸せ       True  \n",
       "1  44C89A1A44A4E626916BD69677565167  76561198150969845      Kerian      False  \n",
       "2  44C89A1A44A4E626916BD69677565167  76561198258466111     ExoTiiK      False  \n",
       "3  44C89A1A44A4E626916BD69677565167  76561198303347154   Meloshisu      False  \n",
       "4  44C89A1A44A4E626916BD69677565167  76561198008942341  Gnagflow06       True  \n",
       "5  44C89A1A44A4E626916BD69677565167  76561198079884662      coKaaa       True  "
      ]
     },
     "execution_count": 202,
     "metadata": {},
     "output_type": "execute_result"
    }
   ],
   "source": [
    "game_info"
   ]
  },
  {
   "cell_type": "code",
   "execution_count": 271,
   "metadata": {},
   "outputs": [
    {
     "data": {
      "text/html": [
       "<div>\n",
       "<style scoped>\n",
       "    .dataframe tbody tr th:only-of-type {\n",
       "        vertical-align: middle;\n",
       "    }\n",
       "\n",
       "    .dataframe tbody tr th {\n",
       "        vertical-align: top;\n",
       "    }\n",
       "\n",
       "    .dataframe thead th {\n",
       "        text-align: right;\n",
       "    }\n",
       "</style>\n",
       "<table border=\"1\" class=\"dataframe\">\n",
       "  <thead>\n",
       "    <tr style=\"text-align: right;\">\n",
       "      <th></th>\n",
       "      <th>frames</th>\n",
       "      <th>replay_name</th>\n",
       "    </tr>\n",
       "  </thead>\n",
       "  <tbody>\n",
       "    <tr>\n",
       "      <th>0</th>\n",
       "      <td>173</td>\n",
       "      <td>C:\\Users\\blake\\Documents\\rlcsseason9\\RLCS Seas...</td>\n",
       "    </tr>\n",
       "    <tr>\n",
       "      <th>1</th>\n",
       "      <td>529</td>\n",
       "      <td>C:\\Users\\blake\\Documents\\rlcsseason9\\RLCS Seas...</td>\n",
       "    </tr>\n",
       "    <tr>\n",
       "      <th>2</th>\n",
       "      <td>1152</td>\n",
       "      <td>C:\\Users\\blake\\Documents\\rlcsseason9\\RLCS Seas...</td>\n",
       "    </tr>\n",
       "    <tr>\n",
       "      <th>3</th>\n",
       "      <td>1489</td>\n",
       "      <td>C:\\Users\\blake\\Documents\\rlcsseason9\\RLCS Seas...</td>\n",
       "    </tr>\n",
       "    <tr>\n",
       "      <th>4</th>\n",
       "      <td>4542</td>\n",
       "      <td>C:\\Users\\blake\\Documents\\rlcsseason9\\RLCS Seas...</td>\n",
       "    </tr>\n",
       "    <tr>\n",
       "      <th>...</th>\n",
       "      <td>...</td>\n",
       "      <td>...</td>\n",
       "    </tr>\n",
       "    <tr>\n",
       "      <th>6178</th>\n",
       "      <td>5806</td>\n",
       "      <td>C:\\Users\\blake\\Documents\\rlcsseason9\\RLCS Seas...</td>\n",
       "    </tr>\n",
       "    <tr>\n",
       "      <th>6179</th>\n",
       "      <td>6548</td>\n",
       "      <td>C:\\Users\\blake\\Documents\\rlcsseason9\\RLCS Seas...</td>\n",
       "    </tr>\n",
       "    <tr>\n",
       "      <th>6180</th>\n",
       "      <td>7138</td>\n",
       "      <td>C:\\Users\\blake\\Documents\\rlcsseason9\\RLCS Seas...</td>\n",
       "    </tr>\n",
       "    <tr>\n",
       "      <th>6181</th>\n",
       "      <td>7243</td>\n",
       "      <td>C:\\Users\\blake\\Documents\\rlcsseason9\\RLCS Seas...</td>\n",
       "    </tr>\n",
       "    <tr>\n",
       "      <th>6183</th>\n",
       "      <td>8001</td>\n",
       "      <td>C:\\Users\\blake\\Documents\\rlcsseason9\\RLCS Seas...</td>\n",
       "    </tr>\n",
       "  </tbody>\n",
       "</table>\n",
       "<p>5047 rows × 2 columns</p>\n",
       "</div>"
      ],
      "text/plain": [
       "      frames                                        replay_name\n",
       "0        173  C:\\Users\\blake\\Documents\\rlcsseason9\\RLCS Seas...\n",
       "1        529  C:\\Users\\blake\\Documents\\rlcsseason9\\RLCS Seas...\n",
       "2       1152  C:\\Users\\blake\\Documents\\rlcsseason9\\RLCS Seas...\n",
       "3       1489  C:\\Users\\blake\\Documents\\rlcsseason9\\RLCS Seas...\n",
       "4       4542  C:\\Users\\blake\\Documents\\rlcsseason9\\RLCS Seas...\n",
       "...      ...                                                ...\n",
       "6178    5806  C:\\Users\\blake\\Documents\\rlcsseason9\\RLCS Seas...\n",
       "6179    6548  C:\\Users\\blake\\Documents\\rlcsseason9\\RLCS Seas...\n",
       "6180    7138  C:\\Users\\blake\\Documents\\rlcsseason9\\RLCS Seas...\n",
       "6181    7243  C:\\Users\\blake\\Documents\\rlcsseason9\\RLCS Seas...\n",
       "6183    8001  C:\\Users\\blake\\Documents\\rlcsseason9\\RLCS Seas...\n",
       "\n",
       "[5047 rows x 2 columns]"
      ]
     },
     "execution_count": 271,
     "metadata": {},
     "output_type": "execute_result"
    }
   ],
   "source": [
    "shots_df[['frames', 'replay_name']]"
   ]
  },
  {
   "cell_type": "code",
   "execution_count": 249,
   "metadata": {},
   "outputs": [],
   "source": [
    "X_cols = shots_df.columns[:78].tolist() + shots_df.columns[80:91].tolist()\n",
    "pipeline = Pipeline([\n",
    "    ('std_scaler', StandardScaler())\n",
    "])"
   ]
  },
  {
   "cell_type": "code",
   "execution_count": 284,
   "metadata": {},
   "outputs": [],
   "source": [
    "X = shots_df[shots_df.columns[:78].tolist() + shots_df.columns[80:91].tolist()].values\n",
    "y = shots_df['is_goal'].values\n",
    "X = pipeline.fit_transform(X)\n",
    "train_indices = shots_df.index[:4000]\n",
    "test_indices = shots_df.index[4000:]"
   ]
  },
  {
   "cell_type": "code",
   "execution_count": 285,
   "metadata": {},
   "outputs": [],
   "source": [
    "X_train, X_test, y_train, y_test = X[:4000], X[4000:], y[:4000], y[4000:]"
   ]
  },
  {
   "cell_type": "code",
   "execution_count": 286,
   "metadata": {},
   "outputs": [],
   "source": [
    "#using weight since i have such an imbalanced dataset (a lot more missed shots than goals)\n",
    "w = {0:1, 1:99}"
   ]
  },
  {
   "cell_type": "code",
   "execution_count": 253,
   "metadata": {},
   "outputs": [],
   "source": [
    "clf = LogisticRegression(random_state=0, class_weight=w).fit(X_train, y_train)"
   ]
  },
  {
   "cell_type": "code",
   "execution_count": 295,
   "metadata": {},
   "outputs": [
    {
     "data": {
      "text/plain": [
       "0.0    3990\n",
       "1.0    1057\n",
       "Name: is_goal, dtype: int64"
      ]
     },
     "execution_count": 295,
     "metadata": {},
     "output_type": "execute_result"
    }
   ],
   "source": [
    "shots_df.is_goal.value_counts()"
   ]
  },
  {
   "cell_type": "code",
   "execution_count": 254,
   "metadata": {},
   "outputs": [
    {
     "data": {
      "text/plain": [
       "array([1., 1., 0., 1., 0.])"
      ]
     },
     "execution_count": 254,
     "metadata": {},
     "output_type": "execute_result"
    }
   ],
   "source": [
    "clf.predict(X_test[:5, :])"
   ]
  },
  {
   "cell_type": "code",
   "execution_count": 255,
   "metadata": {},
   "outputs": [
    {
     "data": {
      "text/plain": [
       "array([0.54666667, 0.56      , 0.57333333, 0.52266667])"
      ]
     },
     "execution_count": 255,
     "metadata": {},
     "output_type": "execute_result"
    }
   ],
   "source": [
    "from sklearn.model_selection import cross_val_score\n",
    "\n",
    "cross_val_score(clf, X_train, y_train, cv=4, scoring='accuracy')"
   ]
  },
  {
   "cell_type": "code",
   "execution_count": 256,
   "metadata": {},
   "outputs": [],
   "source": [
    "from sklearn.pipeline import Pipeline\n",
    "from sklearn.preprocessing import StandardScaler\n",
    "from sklearn.model_selection import cross_val_predict\n",
    "from sklearn.metrics import confusion_matrix"
   ]
  },
  {
   "cell_type": "code",
   "execution_count": 257,
   "metadata": {},
   "outputs": [
    {
     "name": "stderr",
     "output_type": "stream",
     "text": [
      "C:\\Users\\blake\\Anaconda3\\lib\\site-packages\\sklearn\\linear_model\\_logistic.py:762: ConvergenceWarning:\n",
      "\n",
      "lbfgs failed to converge (status=1):\n",
      "STOP: TOTAL NO. of ITERATIONS REACHED LIMIT.\n",
      "\n",
      "Increase the number of iterations (max_iter) or scale the data as shown in:\n",
      "    https://scikit-learn.org/stable/modules/preprocessing.html\n",
      "Please also refer to the documentation for alternative solver options:\n",
      "    https://scikit-learn.org/stable/modules/linear_model.html#logistic-regression\n",
      "\n",
      "C:\\Users\\blake\\Anaconda3\\lib\\site-packages\\sklearn\\linear_model\\_logistic.py:762: ConvergenceWarning:\n",
      "\n",
      "lbfgs failed to converge (status=1):\n",
      "STOP: TOTAL NO. of ITERATIONS REACHED LIMIT.\n",
      "\n",
      "Increase the number of iterations (max_iter) or scale the data as shown in:\n",
      "    https://scikit-learn.org/stable/modules/preprocessing.html\n",
      "Please also refer to the documentation for alternative solver options:\n",
      "    https://scikit-learn.org/stable/modules/linear_model.html#logistic-regression\n",
      "\n"
     ]
    }
   ],
   "source": [
    "y_train_pred = cross_val_predict(clf, X_train, y_train, cv=3)"
   ]
  },
  {
   "cell_type": "code",
   "execution_count": 258,
   "metadata": {},
   "outputs": [
    {
     "data": {
      "text/plain": [
       "array([[543, 633],\n",
       "       [ 25, 299]], dtype=int64)"
      ]
     },
     "execution_count": 258,
     "metadata": {},
     "output_type": "execute_result"
    }
   ],
   "source": [
    "confusion_matrix(y_train, y_train_pred)"
   ]
  },
  {
   "cell_type": "code",
   "execution_count": 259,
   "metadata": {},
   "outputs": [],
   "source": [
    "y_pred = clf.predict(X_test)"
   ]
  },
  {
   "cell_type": "code",
   "execution_count": 260,
   "metadata": {},
   "outputs": [
    {
     "data": {
      "text/plain": [
       "0.4905553989286721"
      ]
     },
     "execution_count": 260,
     "metadata": {},
     "output_type": "execute_result"
    }
   ],
   "source": [
    "clf.score(X_test, y_test)"
   ]
  },
  {
   "cell_type": "code",
   "execution_count": 261,
   "metadata": {},
   "outputs": [],
   "source": [
    "w = [{0:1000,1:100},{0:1000,1:10}, {0:1000,1:1.0}, \n",
    "     {0:500,1:1.0}, {0:400,1:1.0}, {0:300,1:1.0}, {0:200,1:1.0}, \n",
    "     {0:150,1:1.0}, {0:100,1:1.0}, {0:99,1:1.0}, {0:10,1:1.0}, \n",
    "     {0:0.01,1:1.0}, {0:0.01,1:10}, {0:0.01,1:100}, \n",
    "     {0:0.001,1:1.0}, {0:0.005,1:1.0}, {0:1.0,1:1.0}, \n",
    "     {0:1.0,1:0.1}, {0:10,1:0.1}, {0:100,1:0.1}, \n",
    "     {0:10,1:0.01}, {0:1.0,1:0.01}, {0:1.0,1:0.001}, {0:1.0,1:0.005}, \n",
    "     {0:1.0,1:10}, {0:1.0,1:99}, {0:1.0,1:100}, {0:1.0,1:150}, \n",
    "     {0:1.0,1:200}, {0:1.0,1:300},{0:1.0,1:400},{0:1.0,1:500}, \n",
    "     {0:1.0,1:1000}, {0:10,1:1000},{0:100,1:1000} ]\n",
    "hyperparam_grid = {\"class_weight\": w }"
   ]
  },
  {
   "cell_type": "code",
   "execution_count": 262,
   "metadata": {},
   "outputs": [
    {
     "name": "stdout",
     "output_type": "stream",
     "text": [
      "Best score: 0.8269050699300701 with param: {'class_weight': {0: 1.0, 1: 1.0}}\n"
     ]
    }
   ],
   "source": [
    "from sklearn.model_selection import GridSearchCV\n",
    "\n",
    "lg = LogisticRegression(random_state=0)\n",
    "grid = GridSearchCV(lg,hyperparam_grid,scoring=\"roc_auc\", cv=100, n_jobs=-1, refit=True)\n",
    "grid.fit(X,y)\n",
    "print(f'Best score: {grid.best_score_} with param: {grid.best_params_}')"
   ]
  },
  {
   "cell_type": "code",
   "execution_count": 274,
   "metadata": {},
   "outputs": [],
   "source": [
    "#turns out best weight is evenly distributed\n",
    "w = {0: 1, 1: 1}"
   ]
  },
  {
   "cell_type": "code",
   "execution_count": 275,
   "metadata": {},
   "outputs": [],
   "source": [
    "clf = LogisticRegression(random_state=0, class_weight=w).fit(X_train, y_train)"
   ]
  },
  {
   "cell_type": "code",
   "execution_count": 276,
   "metadata": {},
   "outputs": [
    {
     "data": {
      "text/plain": [
       "array([0.822, 0.813, 0.814, 0.809])"
      ]
     },
     "execution_count": 276,
     "metadata": {},
     "output_type": "execute_result"
    }
   ],
   "source": [
    "from sklearn.model_selection import cross_val_score\n",
    "\n",
    "cross_val_score(clf, X_train, y_train, cv=4, scoring='accuracy')"
   ]
  },
  {
   "cell_type": "code",
   "execution_count": 277,
   "metadata": {},
   "outputs": [],
   "source": [
    "y_train_pred = cross_val_predict(clf, X_train, y_train, cv=3)"
   ]
  },
  {
   "cell_type": "code",
   "execution_count": 278,
   "metadata": {},
   "outputs": [
    {
     "data": {
      "text/plain": [
       "array([[2951,  210],\n",
       "       [ 542,  297]], dtype=int64)"
      ]
     },
     "execution_count": 278,
     "metadata": {},
     "output_type": "execute_result"
    }
   ],
   "source": [
    "confusion_matrix(y_train, y_train_pred)"
   ]
  },
  {
   "cell_type": "code",
   "execution_count": 279,
   "metadata": {},
   "outputs": [
    {
     "data": {
      "text/plain": [
       "0.8194842406876791"
      ]
     },
     "execution_count": 279,
     "metadata": {},
     "output_type": "execute_result"
    }
   ],
   "source": [
    "clf.score(X_test, y_test)"
   ]
  },
  {
   "cell_type": "code",
   "execution_count": 287,
   "metadata": {},
   "outputs": [],
   "source": [
    "goal_probs = clf.predict_proba(X_test)[:, 1]"
   ]
  },
  {
   "cell_type": "code",
   "execution_count": 288,
   "metadata": {},
   "outputs": [],
   "source": [
    "results_df = shots_df.loc[test_indices]"
   ]
  },
  {
   "cell_type": "code",
   "execution_count": 289,
   "metadata": {},
   "outputs": [],
   "source": [
    "results_df['expected_goal'] = goal_probs"
   ]
  },
  {
   "cell_type": "code",
   "execution_count": 290,
   "metadata": {},
   "outputs": [
    {
     "data": {
      "text/html": [
       "<div>\n",
       "<style scoped>\n",
       "    .dataframe tbody tr th:only-of-type {\n",
       "        vertical-align: middle;\n",
       "    }\n",
       "\n",
       "    .dataframe tbody tr th {\n",
       "        vertical-align: top;\n",
       "    }\n",
       "\n",
       "    .dataframe thead th {\n",
       "        text-align: right;\n",
       "    }\n",
       "</style>\n",
       "<table border=\"1\" class=\"dataframe\">\n",
       "  <thead>\n",
       "    <tr style=\"text-align: right;\">\n",
       "      <th></th>\n",
       "      <th>pos_x_p1</th>\n",
       "      <th>pos_y_p1</th>\n",
       "      <th>pos_z_p1</th>\n",
       "      <th>vel_x_p1</th>\n",
       "      <th>vel_y_p1</th>\n",
       "      <th>vel_z_p1</th>\n",
       "      <th>ang_vel_x_p1</th>\n",
       "      <th>ang_vel_y_p1</th>\n",
       "      <th>ang_vel_z_p1</th>\n",
       "      <th>rot_x_p1</th>\n",
       "      <th>...</th>\n",
       "      <th>ang_vel_y</th>\n",
       "      <th>ang_vel_z</th>\n",
       "      <th>rot_x</th>\n",
       "      <th>rot_y</th>\n",
       "      <th>rot_z</th>\n",
       "      <th>is_goal</th>\n",
       "      <th>id</th>\n",
       "      <th>replay_name</th>\n",
       "      <th>date</th>\n",
       "      <th>expected_goal</th>\n",
       "    </tr>\n",
       "  </thead>\n",
       "  <tbody>\n",
       "    <tr>\n",
       "      <th>4921</th>\n",
       "      <td>2373.709961</td>\n",
       "      <td>3301.760010</td>\n",
       "      <td>996.080017</td>\n",
       "      <td>-12541.899414</td>\n",
       "      <td>15733.000488</td>\n",
       "      <td>-1220.000000</td>\n",
       "      <td>-2320.099945</td>\n",
       "      <td>264.099998</td>\n",
       "      <td>-1738.099976</td>\n",
       "      <td>-0.901524</td>\n",
       "      <td>...</td>\n",
       "      <td>898.399963</td>\n",
       "      <td>3361.499939</td>\n",
       "      <td>0.036974</td>\n",
       "      <td>0.882725</td>\n",
       "      <td>-1.983552</td>\n",
       "      <td>0.0</td>\n",
       "      <td>916019FC11EA6B0F87EF53BC777CAF14</td>\n",
       "      <td>C:\\Users\\blake\\Documents\\rlcsseason9\\RLCS Seas...</td>\n",
       "      <td>2020-03-20 21:08:46</td>\n",
       "      <td>0.135249</td>\n",
       "    </tr>\n",
       "    <tr>\n",
       "      <th>4922</th>\n",
       "      <td>-3369.100098</td>\n",
       "      <td>2239.370117</td>\n",
       "      <td>1002.840027</td>\n",
       "      <td>14710.600586</td>\n",
       "      <td>14377.500000</td>\n",
       "      <td>311.399994</td>\n",
       "      <td>5318.099976</td>\n",
       "      <td>-1402.299957</td>\n",
       "      <td>-26.099999</td>\n",
       "      <td>-0.502260</td>\n",
       "      <td>...</td>\n",
       "      <td>-298.600006</td>\n",
       "      <td>-4079.100037</td>\n",
       "      <td>-0.759213</td>\n",
       "      <td>0.452975</td>\n",
       "      <td>2.363330</td>\n",
       "      <td>0.0</td>\n",
       "      <td>746D9D8411EA6B0EB55153BC5FFA8FCB</td>\n",
       "      <td>C:\\Users\\blake\\Documents\\rlcsseason9\\RLCS Seas...</td>\n",
       "      <td>2020-03-20 21:01:13</td>\n",
       "      <td>0.044166</td>\n",
       "    </tr>\n",
       "    <tr>\n",
       "      <th>4925</th>\n",
       "      <td>3594.750000</td>\n",
       "      <td>1792.020020</td>\n",
       "      <td>379.140015</td>\n",
       "      <td>-5600.200195</td>\n",
       "      <td>21158.601074</td>\n",
       "      <td>3460.899963</td>\n",
       "      <td>-662.200012</td>\n",
       "      <td>-2512.799988</td>\n",
       "      <td>-4646.000061</td>\n",
       "      <td>-0.496193</td>\n",
       "      <td>...</td>\n",
       "      <td>871.100006</td>\n",
       "      <td>5934.299927</td>\n",
       "      <td>0.372164</td>\n",
       "      <td>1.117096</td>\n",
       "      <td>-0.334480</td>\n",
       "      <td>0.0</td>\n",
       "      <td>746D9D8411EA6B0EB55153BC5FFA8FCB</td>\n",
       "      <td>C:\\Users\\blake\\Documents\\rlcsseason9\\RLCS Seas...</td>\n",
       "      <td>2020-03-20 21:01:13</td>\n",
       "      <td>0.123071</td>\n",
       "    </tr>\n",
       "    <tr>\n",
       "      <th>4926</th>\n",
       "      <td>-3355.500000</td>\n",
       "      <td>1566.339966</td>\n",
       "      <td>259.600006</td>\n",
       "      <td>9139.699707</td>\n",
       "      <td>19118.000488</td>\n",
       "      <td>2668.699951</td>\n",
       "      <td>-912.399979</td>\n",
       "      <td>5232.100220</td>\n",
       "      <td>-1428.999939</td>\n",
       "      <td>-0.182415</td>\n",
       "      <td>...</td>\n",
       "      <td>-2112.599945</td>\n",
       "      <td>-5009.500122</td>\n",
       "      <td>0.564321</td>\n",
       "      <td>2.161200</td>\n",
       "      <td>-0.186814</td>\n",
       "      <td>0.0</td>\n",
       "      <td>746D9D8411EA6B0EB55153BC5FFA8FCB</td>\n",
       "      <td>C:\\Users\\blake\\Documents\\rlcsseason9\\RLCS Seas...</td>\n",
       "      <td>2020-03-20 21:01:13</td>\n",
       "      <td>0.096685</td>\n",
       "    </tr>\n",
       "    <tr>\n",
       "      <th>4927</th>\n",
       "      <td>-3936.739990</td>\n",
       "      <td>3359.290039</td>\n",
       "      <td>1292.910034</td>\n",
       "      <td>9358.300171</td>\n",
       "      <td>4665.899963</td>\n",
       "      <td>13922.299805</td>\n",
       "      <td>580.999985</td>\n",
       "      <td>1801.399994</td>\n",
       "      <td>5164.000244</td>\n",
       "      <td>-0.846644</td>\n",
       "      <td>...</td>\n",
       "      <td>4121.000061</td>\n",
       "      <td>-2721.199951</td>\n",
       "      <td>0.458351</td>\n",
       "      <td>-2.180656</td>\n",
       "      <td>-2.568234</td>\n",
       "      <td>0.0</td>\n",
       "      <td>746D9D8411EA6B0EB55153BC5FFA8FCB</td>\n",
       "      <td>C:\\Users\\blake\\Documents\\rlcsseason9\\RLCS Seas...</td>\n",
       "      <td>2020-03-20 21:01:13</td>\n",
       "      <td>0.166151</td>\n",
       "    </tr>\n",
       "    <tr>\n",
       "      <th>...</th>\n",
       "      <td>...</td>\n",
       "      <td>...</td>\n",
       "      <td>...</td>\n",
       "      <td>...</td>\n",
       "      <td>...</td>\n",
       "      <td>...</td>\n",
       "      <td>...</td>\n",
       "      <td>...</td>\n",
       "      <td>...</td>\n",
       "      <td>...</td>\n",
       "      <td>...</td>\n",
       "      <td>...</td>\n",
       "      <td>...</td>\n",
       "      <td>...</td>\n",
       "      <td>...</td>\n",
       "      <td>...</td>\n",
       "      <td>...</td>\n",
       "      <td>...</td>\n",
       "      <td>...</td>\n",
       "      <td>...</td>\n",
       "      <td>...</td>\n",
       "    </tr>\n",
       "    <tr>\n",
       "      <th>6178</th>\n",
       "      <td>634.039978</td>\n",
       "      <td>3449.469971</td>\n",
       "      <td>67.000000</td>\n",
       "      <td>793.600006</td>\n",
       "      <td>10532.700195</td>\n",
       "      <td>3454.800110</td>\n",
       "      <td>545.900002</td>\n",
       "      <td>-2414.199982</td>\n",
       "      <td>2986.700134</td>\n",
       "      <td>-0.031435</td>\n",
       "      <td>...</td>\n",
       "      <td>3921.900024</td>\n",
       "      <td>2695.000000</td>\n",
       "      <td>0.279520</td>\n",
       "      <td>0.248359</td>\n",
       "      <td>2.198718</td>\n",
       "      <td>0.0</td>\n",
       "      <td>374E0F7C11EA71F5396D53A768244BC6</td>\n",
       "      <td>C:\\Users\\blake\\Documents\\rlcsseason9\\RLCS Seas...</td>\n",
       "      <td>2020-03-29 12:48:09</td>\n",
       "      <td>0.068134</td>\n",
       "    </tr>\n",
       "    <tr>\n",
       "      <th>6179</th>\n",
       "      <td>1025.660034</td>\n",
       "      <td>3315.929932</td>\n",
       "      <td>956.760010</td>\n",
       "      <td>-7700.300293</td>\n",
       "      <td>13933.499756</td>\n",
       "      <td>-8309.699707</td>\n",
       "      <td>4428.699951</td>\n",
       "      <td>-1878.000031</td>\n",
       "      <td>2666.199951</td>\n",
       "      <td>0.175196</td>\n",
       "      <td>...</td>\n",
       "      <td>3799.400024</td>\n",
       "      <td>2993.699951</td>\n",
       "      <td>-0.084366</td>\n",
       "      <td>0.934809</td>\n",
       "      <td>-2.336562</td>\n",
       "      <td>0.0</td>\n",
       "      <td>374E0F7C11EA71F5396D53A768244BC6</td>\n",
       "      <td>C:\\Users\\blake\\Documents\\rlcsseason9\\RLCS Seas...</td>\n",
       "      <td>2020-03-29 12:48:09</td>\n",
       "      <td>0.146230</td>\n",
       "    </tr>\n",
       "    <tr>\n",
       "      <th>6180</th>\n",
       "      <td>1332.780029</td>\n",
       "      <td>4347.270020</td>\n",
       "      <td>620.739990</td>\n",
       "      <td>-4256.499939</td>\n",
       "      <td>14983.800049</td>\n",
       "      <td>-349.900017</td>\n",
       "      <td>-4007.699890</td>\n",
       "      <td>-2755.700073</td>\n",
       "      <td>1819.299927</td>\n",
       "      <td>1.306275</td>\n",
       "      <td>...</td>\n",
       "      <td>-411.100006</td>\n",
       "      <td>5402.899780</td>\n",
       "      <td>-0.015008</td>\n",
       "      <td>-2.249324</td>\n",
       "      <td>2.693790</td>\n",
       "      <td>0.0</td>\n",
       "      <td>374E0F7C11EA71F5396D53A768244BC6</td>\n",
       "      <td>C:\\Users\\blake\\Documents\\rlcsseason9\\RLCS Seas...</td>\n",
       "      <td>2020-03-29 12:48:09</td>\n",
       "      <td>0.289339</td>\n",
       "    </tr>\n",
       "    <tr>\n",
       "      <th>6181</th>\n",
       "      <td>-447.929993</td>\n",
       "      <td>1621.849976</td>\n",
       "      <td>465.170013</td>\n",
       "      <td>12594.799805</td>\n",
       "      <td>12785.600586</td>\n",
       "      <td>3888.200073</td>\n",
       "      <td>-2056.300049</td>\n",
       "      <td>-749.199982</td>\n",
       "      <td>2126.199951</td>\n",
       "      <td>-0.634573</td>\n",
       "      <td>...</td>\n",
       "      <td>-5217.800293</td>\n",
       "      <td>2243.000031</td>\n",
       "      <td>-0.339831</td>\n",
       "      <td>2.045483</td>\n",
       "      <td>0.485877</td>\n",
       "      <td>0.0</td>\n",
       "      <td>374E0F7C11EA71F5396D53A768244BC6</td>\n",
       "      <td>C:\\Users\\blake\\Documents\\rlcsseason9\\RLCS Seas...</td>\n",
       "      <td>2020-03-29 12:48:09</td>\n",
       "      <td>0.083674</td>\n",
       "    </tr>\n",
       "    <tr>\n",
       "      <th>6183</th>\n",
       "      <td>-1484.819946</td>\n",
       "      <td>-801.020020</td>\n",
       "      <td>865.679993</td>\n",
       "      <td>-1530.299988</td>\n",
       "      <td>13268.599854</td>\n",
       "      <td>6213.099976</td>\n",
       "      <td>1668.800049</td>\n",
       "      <td>-3877.099915</td>\n",
       "      <td>-1430.099945</td>\n",
       "      <td>-0.244608</td>\n",
       "      <td>...</td>\n",
       "      <td>49.800000</td>\n",
       "      <td>-4170.100098</td>\n",
       "      <td>0.346618</td>\n",
       "      <td>-1.045524</td>\n",
       "      <td>2.567606</td>\n",
       "      <td>0.0</td>\n",
       "      <td>374E0F7C11EA71F5396D53A768244BC6</td>\n",
       "      <td>C:\\Users\\blake\\Documents\\rlcsseason9\\RLCS Seas...</td>\n",
       "      <td>2020-03-29 12:48:09</td>\n",
       "      <td>0.000085</td>\n",
       "    </tr>\n",
       "  </tbody>\n",
       "</table>\n",
       "<p>1047 rows × 96 columns</p>\n",
       "</div>"
      ],
      "text/plain": [
       "         pos_x_p1     pos_y_p1     pos_z_p1      vel_x_p1      vel_y_p1  \\\n",
       "4921  2373.709961  3301.760010   996.080017 -12541.899414  15733.000488   \n",
       "4922 -3369.100098  2239.370117  1002.840027  14710.600586  14377.500000   \n",
       "4925  3594.750000  1792.020020   379.140015  -5600.200195  21158.601074   \n",
       "4926 -3355.500000  1566.339966   259.600006   9139.699707  19118.000488   \n",
       "4927 -3936.739990  3359.290039  1292.910034   9358.300171   4665.899963   \n",
       "...           ...          ...          ...           ...           ...   \n",
       "6178   634.039978  3449.469971    67.000000    793.600006  10532.700195   \n",
       "6179  1025.660034  3315.929932   956.760010  -7700.300293  13933.499756   \n",
       "6180  1332.780029  4347.270020   620.739990  -4256.499939  14983.800049   \n",
       "6181  -447.929993  1621.849976   465.170013  12594.799805  12785.600586   \n",
       "6183 -1484.819946  -801.020020   865.679993  -1530.299988  13268.599854   \n",
       "\n",
       "          vel_z_p1  ang_vel_x_p1  ang_vel_y_p1  ang_vel_z_p1  rot_x_p1  ...  \\\n",
       "4921  -1220.000000  -2320.099945    264.099998  -1738.099976 -0.901524  ...   \n",
       "4922    311.399994   5318.099976  -1402.299957    -26.099999 -0.502260  ...   \n",
       "4925   3460.899963   -662.200012  -2512.799988  -4646.000061 -0.496193  ...   \n",
       "4926   2668.699951   -912.399979   5232.100220  -1428.999939 -0.182415  ...   \n",
       "4927  13922.299805    580.999985   1801.399994   5164.000244 -0.846644  ...   \n",
       "...            ...           ...           ...           ...       ...  ...   \n",
       "6178   3454.800110    545.900002  -2414.199982   2986.700134 -0.031435  ...   \n",
       "6179  -8309.699707   4428.699951  -1878.000031   2666.199951  0.175196  ...   \n",
       "6180   -349.900017  -4007.699890  -2755.700073   1819.299927  1.306275  ...   \n",
       "6181   3888.200073  -2056.300049   -749.199982   2126.199951 -0.634573  ...   \n",
       "6183   6213.099976   1668.800049  -3877.099915  -1430.099945 -0.244608  ...   \n",
       "\n",
       "        ang_vel_y    ang_vel_z     rot_x     rot_y     rot_z  is_goal  \\\n",
       "4921   898.399963  3361.499939  0.036974  0.882725 -1.983552      0.0   \n",
       "4922  -298.600006 -4079.100037 -0.759213  0.452975  2.363330      0.0   \n",
       "4925   871.100006  5934.299927  0.372164  1.117096 -0.334480      0.0   \n",
       "4926 -2112.599945 -5009.500122  0.564321  2.161200 -0.186814      0.0   \n",
       "4927  4121.000061 -2721.199951  0.458351 -2.180656 -2.568234      0.0   \n",
       "...           ...          ...       ...       ...       ...      ...   \n",
       "6178  3921.900024  2695.000000  0.279520  0.248359  2.198718      0.0   \n",
       "6179  3799.400024  2993.699951 -0.084366  0.934809 -2.336562      0.0   \n",
       "6180  -411.100006  5402.899780 -0.015008 -2.249324  2.693790      0.0   \n",
       "6181 -5217.800293  2243.000031 -0.339831  2.045483  0.485877      0.0   \n",
       "6183    49.800000 -4170.100098  0.346618 -1.045524  2.567606      0.0   \n",
       "\n",
       "                                    id  \\\n",
       "4921  916019FC11EA6B0F87EF53BC777CAF14   \n",
       "4922  746D9D8411EA6B0EB55153BC5FFA8FCB   \n",
       "4925  746D9D8411EA6B0EB55153BC5FFA8FCB   \n",
       "4926  746D9D8411EA6B0EB55153BC5FFA8FCB   \n",
       "4927  746D9D8411EA6B0EB55153BC5FFA8FCB   \n",
       "...                                ...   \n",
       "6178  374E0F7C11EA71F5396D53A768244BC6   \n",
       "6179  374E0F7C11EA71F5396D53A768244BC6   \n",
       "6180  374E0F7C11EA71F5396D53A768244BC6   \n",
       "6181  374E0F7C11EA71F5396D53A768244BC6   \n",
       "6183  374E0F7C11EA71F5396D53A768244BC6   \n",
       "\n",
       "                                            replay_name                 date  \\\n",
       "4921  C:\\Users\\blake\\Documents\\rlcsseason9\\RLCS Seas...  2020-03-20 21:08:46   \n",
       "4922  C:\\Users\\blake\\Documents\\rlcsseason9\\RLCS Seas...  2020-03-20 21:01:13   \n",
       "4925  C:\\Users\\blake\\Documents\\rlcsseason9\\RLCS Seas...  2020-03-20 21:01:13   \n",
       "4926  C:\\Users\\blake\\Documents\\rlcsseason9\\RLCS Seas...  2020-03-20 21:01:13   \n",
       "4927  C:\\Users\\blake\\Documents\\rlcsseason9\\RLCS Seas...  2020-03-20 21:01:13   \n",
       "...                                                 ...                  ...   \n",
       "6178  C:\\Users\\blake\\Documents\\rlcsseason9\\RLCS Seas...  2020-03-29 12:48:09   \n",
       "6179  C:\\Users\\blake\\Documents\\rlcsseason9\\RLCS Seas...  2020-03-29 12:48:09   \n",
       "6180  C:\\Users\\blake\\Documents\\rlcsseason9\\RLCS Seas...  2020-03-29 12:48:09   \n",
       "6181  C:\\Users\\blake\\Documents\\rlcsseason9\\RLCS Seas...  2020-03-29 12:48:09   \n",
       "6183  C:\\Users\\blake\\Documents\\rlcsseason9\\RLCS Seas...  2020-03-29 12:48:09   \n",
       "\n",
       "      expected_goal  \n",
       "4921       0.135249  \n",
       "4922       0.044166  \n",
       "4925       0.123071  \n",
       "4926       0.096685  \n",
       "4927       0.166151  \n",
       "...             ...  \n",
       "6178       0.068134  \n",
       "6179       0.146230  \n",
       "6180       0.289339  \n",
       "6181       0.083674  \n",
       "6183       0.000085  \n",
       "\n",
       "[1047 rows x 96 columns]"
      ]
     },
     "execution_count": 290,
     "metadata": {},
     "output_type": "execute_result"
    }
   ],
   "source": [
    "results_df"
   ]
  },
  {
   "cell_type": "code",
   "execution_count": 294,
   "metadata": {},
   "outputs": [
    {
     "name": "stderr",
     "output_type": "stream",
     "text": [
      "Player RLCS Admin as player has no MatchScore.\n",
      "Score is not found for player\n",
      "Ignoring player: RLCS Admin as player has no team.\n",
      "Player Achieves as player has no MatchScore.\n",
      "Score is not found for player\n",
      "Ignoring player: Achieves as player has no team.\n",
      "Player WavePunk as player has no MatchScore.\n",
      "Score is not found for player\n",
      "Ignoring player: WavePunk as player has no team.\n",
      "Player RLCS Observer as player has no MatchScore.\n",
      "Score is not found for player\n",
      "Ignoring player: RLCS Observer as player has no team.\n",
      "Dropping these columns[('game', 'is_overtime')]\n",
      "<ipython-input-205-13e91061d822>:31: SettingWithCopyWarning:\n",
      "\n",
      "\n",
      "A value is trying to be set on a copy of a slice from a DataFrame.\n",
      "Try using .loc[row_indexer,col_indexer] = value instead\n",
      "\n",
      "See the caveats in the documentation: https://pandas.pydata.org/pandas-docs/stable/user_guide/indexing.html#returning-a-view-versus-a-copy\n",
      "\n",
      "<ipython-input-205-13e91061d822>:15: SettingWithCopyWarning:\n",
      "\n",
      "\n",
      "A value is trying to be set on a copy of a slice from a DataFrame.\n",
      "Try using .loc[row_indexer,col_indexer] = value instead\n",
      "\n",
      "See the caveats in the documentation: https://pandas.pydata.org/pandas-docs/stable/user_guide/indexing.html#returning-a-view-versus-a-copy\n",
      "\n",
      "<ipython-input-205-13e91061d822>:16: SettingWithCopyWarning:\n",
      "\n",
      "\n",
      "A value is trying to be set on a copy of a slice from a DataFrame.\n",
      "Try using .loc[row_indexer,col_indexer] = value instead\n",
      "\n",
      "See the caveats in the documentation: https://pandas.pydata.org/pandas-docs/stable/user_guide/indexing.html#returning-a-view-versus-a-copy\n",
      "\n"
     ]
    },
    {
     "name": "stdout",
     "output_type": "stream",
     "text": [
      "m1 g1 rec vs mouz\n"
     ]
    },
    {
     "data": {
      "application/vnd.plotly.v1+json": {
       "config": {
        "plotlyServerURL": "https://plot.ly"
       },
       "data": [
        {
         "line": {
          "color": "blue",
          "width": 2
         },
         "marker": {
          "color": [
           "orange",
           "blue",
           "blue",
           "blue",
           "orange",
           "orange"
          ],
          "size": 10
         },
         "mode": "markers",
         "type": "scatter",
         "x": [
          -1060.0400390625,
          -3646.6298828125,
          198.80999755859375,
          -3822.22998046875,
          1973.3399658203125,
          -3308.18994140625
         ],
         "y": [
          4253.9501953125,
          -121.37999725341797,
          -4206.77978515625,
          1710.3499755859375,
          3847.260009765625,
          2647.699951171875
         ]
        },
        {
         "line": {
          "color": "blue",
          "width": 2
         },
         "marker": {
          "color": "black",
          "size": 10
         },
         "mode": "markers",
         "type": "scatter",
         "x": [
          -3457.25
         ],
         "y": [
          2055.070068359375
         ]
        },
        {
         "line": {
          "color": "blue",
          "width": 2
         },
         "mode": "lines",
         "type": "scatter",
         "x": [
          4096,
          2944
         ],
         "y": [
          3968,
          5120
         ]
        },
        {
         "line": {
          "color": "blue",
          "width": 2
         },
         "mode": "lines",
         "type": "scatter",
         "x": [
          -4096,
          -2944
         ],
         "y": [
          -3968,
          -5120
         ]
        },
        {
         "line": {
          "color": "blue",
          "width": 2
         },
         "mode": "lines",
         "type": "scatter",
         "x": [
          -4096,
          -2944
         ],
         "y": [
          3968,
          5120
         ]
        },
        {
         "line": {
          "color": "blue",
          "width": 2
         },
         "mode": "lines",
         "type": "scatter",
         "x": [
          4096,
          2944
         ],
         "y": [
          -3968,
          -5120
         ]
        },
        {
         "line": {
          "color": "blue",
          "width": 2
         },
         "mode": "lines",
         "type": "scatter",
         "x": [
          -4096,
          -4096
         ],
         "y": [
          3968,
          -3968
         ]
        },
        {
         "line": {
          "color": "blue",
          "width": 2
         },
         "mode": "lines",
         "type": "scatter",
         "x": [
          4096,
          4096
         ],
         "y": [
          3968,
          -3968
         ]
        },
        {
         "line": {
          "color": "blue",
          "width": 2
         },
         "mode": "lines",
         "type": "scatter",
         "x": [
          -2944,
          -893
         ],
         "y": [
          5120,
          5120
         ]
        },
        {
         "line": {
          "color": "blue",
          "width": 2
         },
         "mode": "lines",
         "type": "scatter",
         "x": [
          2944,
          893
         ],
         "y": [
          5120,
          5120
         ]
        },
        {
         "line": {
          "color": "blue",
          "width": 2
         },
         "mode": "lines",
         "type": "scatter",
         "x": [
          -893,
          893
         ],
         "y": [
          5120,
          5120
         ]
        },
        {
         "line": {
          "color": "blue",
          "width": 2
         },
         "mode": "lines",
         "type": "scatter",
         "x": [
          -2944,
          -893
         ],
         "y": [
          -5120,
          -5120
         ]
        },
        {
         "line": {
          "color": "blue",
          "width": 2
         },
         "mode": "lines",
         "type": "scatter",
         "x": [
          2944,
          893
         ],
         "y": [
          -5120,
          -5120
         ]
        },
        {
         "line": {
          "color": "blue",
          "width": 2
         },
         "mode": "lines",
         "type": "scatter",
         "x": [
          -893,
          893
         ],
         "y": [
          -5120,
          -5120
         ]
        },
        {
         "line": {
          "color": "blue",
          "width": 2
         },
         "mode": "lines",
         "type": "scatter",
         "x": [
          -893,
          893
         ],
         "y": [
          6000,
          6000
         ]
        },
        {
         "line": {
          "color": "blue",
          "width": 2
         },
         "mode": "lines",
         "type": "scatter",
         "x": [
          893,
          893
         ],
         "y": [
          6000,
          5120
         ]
        },
        {
         "line": {
          "color": "blue",
          "width": 2
         },
         "mode": "lines",
         "type": "scatter",
         "x": [
          -893,
          -893
         ],
         "y": [
          6000,
          5120
         ]
        },
        {
         "line": {
          "color": "blue",
          "width": 2
         },
         "mode": "lines",
         "type": "scatter",
         "x": [
          -893,
          893
         ],
         "y": [
          -6000,
          -6000
         ]
        },
        {
         "line": {
          "color": "blue",
          "width": 2
         },
         "mode": "lines",
         "type": "scatter",
         "x": [
          893,
          893
         ],
         "y": [
          -6000,
          -5120
         ]
        },
        {
         "line": {
          "color": "blue",
          "width": 2
         },
         "mode": "lines",
         "type": "scatter",
         "x": [
          -893,
          -893
         ],
         "y": [
          -6000,
          -5120
         ]
        },
        {
         "marker": {
          "color": "pink"
         },
         "mode": "markers",
         "type": "scatter",
         "x": [
          -3072,
          3072,
          -3584,
          3584,
          -3072,
          3072,
          0,
          -1792,
          1792,
          -940,
          940,
          0,
          -3584,
          3584,
          -1788,
          1788,
          -2048,
          0,
          2048,
          -1024,
          1024,
          -2048,
          0,
          2048,
          -1788,
          1788,
          -3584,
          3584,
          0,
          -940,
          940,
          -1792,
          1792,
          0
         ],
         "y": [
          -4096,
          -4096,
          0,
          0,
          4096,
          4096,
          -4240,
          -4184,
          -4184,
          -3308,
          -3308,
          -2816,
          -2484,
          -2484,
          -2300,
          -2300,
          -1036,
          -1024,
          -1036,
          0,
          0,
          1036,
          1024,
          1036,
          2300,
          2300,
          2484,
          2484,
          2816,
          3310,
          3308,
          4184,
          4184,
          4240
         ]
        }
       ],
       "frames": [
        {
         "data": [
          {
           "marker": {
            "color": [
             "orange",
             "blue",
             "blue",
             "blue",
             "orange",
             "orange"
            ],
            "size": 10
           },
           "mode": "markers",
           "type": "scatter",
           "x": [
            -998.719970703125,
            -3682.39990234375,
            -110.2699966430664,
            -3838.550048828125,
            2052.1201171875,
            -3383.64990234375
           ],
           "y": [
            4334.009765625,
            -119.72000122070312,
            -4084.030029296875,
            1827.5899658203125,
            3573.800048828125,
            2912.06005859375
           ]
          },
          {
           "marker": {
            "color": "black",
            "size": 10
           },
           "mode": "markers",
           "type": "scatter",
           "x": [
            -3543.919921875
           ],
           "y": [
            2248.949951171875
           ]
          }
         ]
        },
        {
         "data": [
          {
           "marker": {
            "color": [
             "orange",
             "blue",
             "blue",
             "blue",
             "orange",
             "orange"
            ],
            "size": 10
           },
           "mode": "markers",
           "type": "scatter",
           "x": [
            -998.719970703125,
            -3682.39990234375,
            23.780000686645508,
            -3838.550048828125,
            2007.530029296875,
            -3348.830078125
           ],
           "y": [
            4334.009765625,
            -119.72000122070312,
            -4149.60009765625,
            1827.5899658203125,
            3743.389892578125,
            2776.1298828125
           ]
          },
          {
           "marker": {
            "color": "black",
            "size": 10
           },
           "mode": "markers",
           "type": "scatter",
           "x": [
            -3522.219970703125
           ],
           "y": [
            2200.409912109375
           ]
          }
         ]
        },
        {
         "data": [
          {
           "marker": {
            "color": [
             "orange",
             "blue",
             "blue",
             "blue",
             "orange",
             "orange"
            ],
            "size": 10
           },
           "mode": "markers",
           "type": "scatter",
           "x": [
            -1060.0400390625,
            -3646.6298828125,
            23.780000686645508,
            -3822.22998046875,
            2007.530029296875,
            -3348.830078125
           ],
           "y": [
            4253.9501953125,
            -121.37999725341797,
            -4149.60009765625,
            1710.3499755859375,
            3743.389892578125,
            2776.1298828125
           ]
          },
          {
           "marker": {
            "color": "black",
            "size": 10
           },
           "mode": "markers",
           "type": "scatter",
           "x": [
            -3511.3798828125
           ],
           "y": [
            2176.14990234375
           ]
          }
         ]
        },
        {
         "data": [
          {
           "marker": {
            "color": [
             "orange",
             "blue",
             "blue",
             "blue",
             "orange",
             "orange"
            ],
            "size": 10
           },
           "mode": "markers",
           "type": "scatter",
           "x": [
            -1060.0400390625,
            -3646.6298828125,
            198.80999755859375,
            -3822.22998046875,
            1973.3399658203125,
            -3308.18994140625
           ],
           "y": [
            4253.9501953125,
            -121.37999725341797,
            -4206.77978515625,
            1710.3499755859375,
            3847.260009765625,
            2647.699951171875
           ]
          },
          {
           "marker": {
            "color": "black",
            "size": 10
           },
           "mode": "markers",
           "type": "scatter",
           "x": [
            -3457.25
           ],
           "y": [
            2055.070068359375
           ]
          }
         ]
        },
        {
         "data": [
          {
           "marker": {
            "color": [
             "orange",
             "blue",
             "blue",
             "blue",
             "orange",
             "orange"
            ],
            "size": 10
           },
           "mode": "markers",
           "type": "scatter",
           "x": [
            -1122.0400390625,
            -3603.580078125,
            198.80999755859375,
            -3796.719970703125,
            1922.989990234375,
            -3308.18994140625
           ],
           "y": [
            4166.6298828125,
            -128.41000366210938,
            -4206.77978515625,
            1532.489990234375,
            3991.780029296875,
            2647.699951171875
           ]
          },
          {
           "marker": {
            "color": "black",
            "size": 10
           },
           "mode": "markers",
           "type": "scatter",
           "x": [
            -3441.050048828125
           ],
           "y": [
            2018.800048828125
           ]
          }
         ]
        },
        {
         "data": [
          {
           "marker": {
            "color": [
             "orange",
             "blue",
             "blue",
             "blue",
             "orange",
             "orange"
            ],
            "size": 10
           },
           "mode": "markers",
           "type": "scatter",
           "x": [
            -1122.0400390625,
            -3603.580078125,
            396.1300048828125,
            -3796.719970703125,
            1912.43994140625,
            -3260.1201171875
           ],
           "y": [
            4166.6298828125,
            -128.41000366210938,
            -4238.22998046875,
            1532.489990234375,
            4020.010009765625,
            2498.85009765625
           ]
          },
          {
           "marker": {
            "color": "black",
            "size": 10
           },
           "mode": "markers",
           "type": "scatter",
           "x": [
            -3408.669921875
           ],
           "y": [
            1946.3499755859375
           ]
          }
         ]
        },
        {
         "data": [
          {
           "marker": {
            "color": [
             "orange",
             "blue",
             "blue",
             "blue",
             "orange",
             "orange"
            ],
            "size": 10
           },
           "mode": "markers",
           "type": "scatter",
           "x": [
            -1185.6099853515625,
            -3542.1298828125,
            432.17999267578125,
            -3768.080078125,
            1866.8499755859375,
            -3242.10009765625
           ],
           "y": [
            4074.659912109375,
            -135.4499969482422,
            -4241.22021484375,
            1332.2900390625,
            4129.72021484375,
            2443.580078125
           ]
          },
          {
           "marker": {
            "color": "black",
            "size": 10
           },
           "mode": "markers",
           "type": "scatter",
           "x": [
            -3376.340087890625
           ],
           "y": [
            1874.02001953125
           ]
          }
         ]
        },
        {
         "data": [
          {
           "marker": {
            "color": [
             "orange",
             "blue",
             "blue",
             "blue",
             "orange",
             "orange"
            ],
            "size": 10
           },
           "mode": "markers",
           "type": "scatter",
           "x": [
            -1185.6099853515625,
            -3542.1298828125,
            558.4400024414062,
            -3768.080078125,
            1854.3399658203125,
            -3242.10009765625
           ],
           "y": [
            4074.659912109375,
            -135.4499969482422,
            -4247.330078125,
            1332.2900390625,
            4156.16015625,
            2443.580078125
           ]
          },
          {
           "marker": {
            "color": "black",
            "size": 10
           },
           "mode": "markers",
           "type": "scatter",
           "x": [
            -3360.199951171875
           ],
           "y": [
            1837.8900146484375
           ]
          }
         ]
        },
        {
         "data": [
          {
           "marker": {
            "color": [
             "orange",
             "blue",
             "blue",
             "blue",
             "orange",
             "orange"
            ],
            "size": 10
           },
           "mode": "markers",
           "type": "scatter",
           "x": [
            -1231.1099853515625,
            -3490.590087890625,
            594.52001953125,
            -3751.35009765625,
            1854.3399658203125,
            -3200.6201171875
           ],
           "y": [
            4008.419921875,
            -135.55999755859375,
            -4248.18994140625,
            1215.25,
            4156.16015625,
            2317.31005859375
           ]
          },
          {
           "marker": {
            "color": "black",
            "size": 10
           },
           "mode": "markers",
           "type": "scatter",
           "x": [
            -3327.949951171875
           ],
           "y": [
            1765.719970703125
           ]
          }
         ]
        },
        {
         "data": [
          {
           "marker": {
            "color": [
             "orange",
             "blue",
             "blue",
             "blue",
             "orange",
             "orange"
            ],
            "size": 10
           },
           "mode": "markers",
           "type": "scatter",
           "x": [
            -1231.1099853515625,
            -3490.590087890625,
            738.8400268554688,
            -3751.35009765625,
            1791.239990234375,
            -3200.6201171875
           ],
           "y": [
            4008.419921875,
            -135.55999755859375,
            -4249.669921875,
            1215.25,
            4268.7900390625,
            2317.31005859375
           ]
          },
          {
           "marker": {
            "color": "black",
            "size": 10
           },
           "mode": "markers",
           "type": "scatter",
           "x": [
            -3306.469970703125
           ],
           "y": [
            1717.6700439453125
           ]
          }
         ]
        },
        {
         "data": [
          {
           "marker": {
            "color": [
             "orange",
             "blue",
             "blue",
             "blue",
             "orange",
             "orange"
            ],
            "size": 10
           },
           "mode": "markers",
           "type": "scatter",
           "x": [
            -1280.780029296875,
            -3490.590087890625,
            738.8400268554688,
            -3722.669921875,
            1791.239990234375,
            -3200.6201171875
           ],
           "y": [
            3935.81005859375,
            -135.55999755859375,
            -4249.669921875,
            1014.6099853515625,
            4268.7900390625,
            2317.31005859375
           ]
          },
          {
           "marker": {
            "color": "black",
            "size": 10
           },
           "mode": "markers",
           "type": "scatter",
           "x": [
            -3285.030029296875
           ],
           "y": [
            1669.6600341796875
           ]
          }
         ]
        },
        {
         "data": [
          {
           "marker": {
            "color": [
             "orange",
             "blue",
             "blue",
             "blue",
             "orange",
             "orange"
            ],
            "size": 10
           },
           "mode": "markers",
           "type": "scatter",
           "x": [
            -1290.6600341796875,
            -3416.340087890625,
            919.2100219726562,
            -3722.669921875,
            1689.97998046875,
            -3143.610107421875
           ],
           "y": [
            3921.010009765625,
            -123.80000305175781,
            -4251.7998046875,
            1014.6099853515625,
            4399.4501953125,
            2145.669921875
           ]
          },
          {
           "marker": {
            "color": "black",
            "size": 10
           },
           "mode": "markers",
           "type": "scatter",
           "x": [
            -3252.89990234375
           ],
           "y": [
            1597.75
           ]
          }
         ]
        },
        {
         "data": [
          {
           "marker": {
            "color": [
             "orange",
             "blue",
             "blue",
             "blue",
             "orange",
             "orange"
            ],
            "size": 10
           },
           "mode": "markers",
           "type": "scatter",
           "x": [
            -1337.550048828125,
            -3416.340087890625,
            955.260009765625,
            -3703.550048828125,
            1689.97998046875,
            -3095.89990234375
           ],
           "y": [
            3844.179931640625,
            -123.80000305175781,
            -4252.77978515625,
            880.8499755859375,
            4399.4501953125,
            2002.22998046875
           ]
          },
          {
           "marker": {
            "color": "black",
            "size": 10
           },
           "mode": "markers",
           "type": "scatter",
           "x": [
            -3220.820068359375
           ],
           "y": [
            1525.949951171875
           ]
          }
         ]
        },
        {
         "data": [
          {
           "marker": {
            "color": [
             "orange",
             "blue",
             "blue",
             "blue",
             "orange",
             "orange"
            ],
            "size": 10
           },
           "mode": "markers",
           "type": "scatter",
           "x": [
            -1337.550048828125,
            -3346.4599609375,
            955.260009765625,
            -3703.550048828125,
            1624.9000244140625,
            -3091.1201171875
           ],
           "y": [
            3844.179931640625,
            -108.69000244140625,
            -4252.77978515625,
            880.8499755859375,
            4466.35009765625,
            1987.8699951171875
           ]
          },
          {
           "marker": {
            "color": "black",
            "size": 10
           },
           "mode": "markers",
           "type": "scatter",
           "x": [
            -3204.800048828125
           ],
           "y": [
            1490.0899658203125
           ]
          }
         ]
        },
        {
         "data": [
          {
           "marker": {
            "color": [
             "orange",
             "blue",
             "blue",
             "blue",
             "orange",
             "orange"
            ],
            "size": 10
           },
           "mode": "markers",
           "type": "scatter",
           "x": [
            -1373.7900390625,
            -3346.4599609375,
            1153.9200439453125,
            -3677.260009765625,
            1624.9000244140625,
            -3091.1201171875
           ],
           "y": [
            3770.10009765625,
            -108.69000244140625,
            -4263.169921875,
            696.9299926757812,
            4466.35009765625,
            1987.8699951171875
           ]
          },
          {
           "marker": {
            "color": "black",
            "size": 10
           },
           "mode": "markers",
           "type": "scatter",
           "x": [
            -3172.7900390625
           ],
           "y": [
            1418.4599609375
           ]
          }
         ]
        },
        {
         "data": [
          {
           "marker": {
            "color": [
             "orange",
             "blue",
             "blue",
             "blue",
             "orange",
             "orange"
            ],
            "size": 10
           },
           "mode": "markers",
           "type": "scatter",
           "x": [
            -1380.9100341796875,
            -3270.169921875,
            1153.9200439453125,
            -3677.260009765625,
            1529.0999755859375,
            -3043.27001953125
           ],
           "y": [
            3752.969970703125,
            -92.1500015258789,
            -4263.169921875,
            696.9299926757812,
            4554.10009765625,
            1844.0799560546875
           ]
          },
          {
           "marker": {
            "color": "black",
            "size": 10
           },
           "mode": "markers",
           "type": "scatter",
           "x": [
            -3151.47998046875
           ],
           "y": [
            1370.77001953125
           ]
          }
         ]
        },
        {
         "data": [
          {
           "marker": {
            "color": [
             "orange",
             "blue",
             "blue",
             "blue",
             "orange",
             "orange"
            ],
            "size": 10
           },
           "mode": "markers",
           "type": "scatter",
           "x": [
            -1407.280029296875,
            -3270.169921875,
            1302.199951171875,
            -3658.139892578125,
            1529.0999755859375,
            -3043.27001953125
           ],
           "y": [
            3682.60009765625,
            -92.1500015258789,
            -4275.33984375,
            563.1699829101562,
            4554.10009765625,
            1844.0799560546875
           ]
          },
          {
           "marker": {
            "color": "black",
            "size": 10
           },
           "mode": "markers",
           "type": "scatter",
           "x": [
            -3119.56005859375
           ],
           "y": [
            1299.3199462890625
           ]
          }
         ]
        },
        {
         "data": [
          {
           "marker": {
            "color": [
             "orange",
             "blue",
             "blue",
             "blue",
             "orange",
             "orange"
            ],
            "size": 10
           },
           "mode": "markers",
           "type": "scatter",
           "x": [
            -1407.280029296875,
            -3201.77001953125,
            1473.5699462890625,
            -3636.6298828125,
            1422,
            -2990.580078125
           ],
           "y": [
            3682.60009765625,
            -76.8499984741211,
            -4291.759765625,
            412.69000244140625,
            4641.7998046875,
            1685.530029296875
           ]
          },
          {
           "marker": {
            "color": "black",
            "size": 10
           },
           "mode": "markers",
           "type": "scatter",
           "x": [
            -3093
           ],
           "y": [
            1239.8699951171875
           ]
          }
         ]
        },
        {
         "data": [
          {
           "marker": {
            "color": [
             "orange",
             "blue",
             "blue",
             "blue",
             "orange",
             "orange"
            ],
            "size": 10
           },
           "mode": "markers",
           "type": "scatter",
           "x": [
            -1407.280029296875,
            -3201.77001953125,
            1473.5699462890625,
            -3636.6298828125,
            1422,
            -2990.580078125
           ],
           "y": [
            3682.60009765625,
            -76.8499984741211,
            -4291.759765625,
            412.69000244140625,
            4641.7998046875,
            1685.530029296875
           ]
          },
          {
           "marker": {
            "color": "black",
            "size": 10
           },
           "mode": "markers",
           "type": "scatter",
           "x": [
            -3071.77001953125
           ],
           "y": [
            1192.3599853515625
           ]
          }
         ]
        },
        {
         "data": [
          {
           "marker": {
            "color": [
             "orange",
             "blue",
             "blue",
             "blue",
             "orange",
             "orange"
            ],
            "size": 10
           },
           "mode": "markers",
           "type": "scatter",
           "x": [
            -1445.739990234375,
            -3136.300048828125,
            1664.93994140625,
            -3636.6298828125,
            1318.8599853515625,
            -2942.679931640625
           ],
           "y": [
            3559.93994140625,
            -57.91999816894531,
            -4311.22021484375,
            412.69000244140625,
            4710.14990234375,
            1541.1700439453125
           ]
          },
          {
           "marker": {
            "color": "black",
            "size": 10
           },
           "mode": "markers",
           "type": "scatter",
           "x": [
            -3039.969970703125
           ],
           "y": [
            1121.18994140625
           ]
          }
         ]
        },
        {
         "data": [
          {
           "marker": {
            "color": [
             "orange",
             "blue",
             "blue",
             "blue",
             "orange",
             "orange"
            ],
            "size": 10
           },
           "mode": "markers",
           "type": "scatter",
           "x": [
            -1445.739990234375,
            -3136.300048828125,
            1703.199951171875,
            -3603.169921875,
            1231.1700439453125,
            -2904.409912109375
           ],
           "y": [
            3559.93994140625,
            -57.91999816894531,
            -4315.18017578125,
            178.61000061035156,
            4753.85986328125,
            1425.47998046875
           ]
          },
          {
           "marker": {
            "color": "black",
            "size": 10
           },
           "mode": "markers",
           "type": "scatter",
           "x": [
            -3008.22998046875
           ],
           "y": [
            1050.1300048828125
           ]
          }
         ]
        },
        {
         "data": [
          {
           "marker": {
            "color": [
             "orange",
             "blue",
             "blue",
             "blue",
             "orange",
             "orange"
            ],
            "size": 10
           },
           "mode": "markers",
           "type": "scatter",
           "x": [
            -1474.5899658203125,
            -3067.8798828125,
            1856.27001953125,
            -3603.169921875,
            1208.6099853515625,
            -2894.85009765625
           ],
           "y": [
            3454.840087890625,
            -33.20000076293945,
            -4330.85986328125,
            178.61000061035156,
            4762.990234375,
            1396.52001953125
           ]
          },
          {
           "marker": {
            "color": "black",
            "size": 10
           },
           "mode": "markers",
           "type": "scatter",
           "x": [
            -2987.10009765625
           ],
           "y": [
            1002.8200073242188
           ]
          }
         ]
        },
        {
         "data": [
          {
           "marker": {
            "color": [
             "orange",
             "blue",
             "blue",
             "blue",
             "orange",
             "orange"
            ],
            "size": 10
           },
           "mode": "markers",
           "type": "scatter",
           "x": [
            -1500.050048828125,
            -3067.8798828125,
            1856.27001953125,
            -3586.43994140625,
            1104.81005859375,
            -2851.9599609375
           ],
           "y": [
            3352.840087890625,
            -33.20000076293945,
            -4330.85986328125,
            61.56999969482422,
            4794.6201171875,
            1266.030029296875
           ]
          },
          {
           "marker": {
            "color": "black",
            "size": 10
           },
           "mode": "markers",
           "type": "scatter",
           "x": [
            -2950.169921875
           ],
           "y": [
            920.1400146484375
           ]
          }
         ]
        },
        {
         "data": [
          {
           "marker": {
            "color": [
             "orange",
             "blue",
             "blue",
             "blue",
             "orange",
             "orange"
            ],
            "size": 10
           },
           "mode": "markers",
           "type": "scatter",
           "x": [
            -1500.050048828125,
            -2990.429931640625,
            2066.89990234375,
            -3562.5400390625,
            1104.81005859375,
            -2851.9599609375
           ],
           "y": [
            3352.840087890625,
            0.75,
            -4344.43017578125,
            -105.62999725341797,
            4794.6201171875,
            1266.030029296875
           ]
          },
          {
           "marker": {
            "color": "black",
            "size": 10
           },
           "mode": "markers",
           "type": "scatter",
           "x": [
            -2929.090087890625
           ],
           "y": [
            872.9600219726562
           ]
          }
         ]
        },
        {
         "data": [
          {
           "marker": {
            "color": [
             "orange",
             "blue",
             "blue",
             "blue",
             "orange",
             "orange"
            ],
            "size": 10
           },
           "mode": "markers",
           "type": "scatter",
           "x": [
            -1528.25,
            -2990.429931640625,
            2066.89990234375,
            -3562.5400390625,
            986.6500244140625,
            -2804.52001953125
           ],
           "y": [
            3232.590087890625,
            0.75,
            -4344.43017578125,
            -105.62999725341797,
            4815.58984375,
            1120.7099609375
           ]
          },
          {
           "marker": {
            "color": "black",
            "size": 10
           },
           "mode": "markers",
           "type": "scatter",
           "x": [
            -2897.52001953125
           ],
           "y": [
            802.280029296875
           ]
          }
         ]
        },
        {
         "data": [
          {
           "marker": {
            "color": [
             "orange",
             "blue",
             "blue",
             "blue",
             "orange",
             "orange"
            ],
            "size": 10
           },
           "mode": "markers",
           "type": "scatter",
           "x": [
            -1531.1099853515625,
            -2926.260009765625,
            2238.419921875,
            -3536.25,
            986.6500244140625,
            -2804.52001953125
           ],
           "y": [
            3220.18994140625,
            33.779998779296875,
            -4340.10986328125,
            -289.54998779296875,
            4815.58984375,
            1120.7099609375
           ]
          },
          {
           "marker": {
            "color": "black",
            "size": 10
           },
           "mode": "markers",
           "type": "scatter",
           "x": [
            -2881.75
           ],
           "y": [
            766.97998046875
           ]
          }
         ]
        },
        {
         "data": [
          {
           "marker": {
            "color": [
             "orange",
             "blue",
             "blue",
             "blue",
             "orange",
             "orange"
            ],
            "size": 10
           },
           "mode": "markers",
           "type": "scatter",
           "x": [
            -1560.9000244140625,
            -2926.260009765625,
            2389.570068359375,
            -3536.25,
            900.3499755859375,
            -2771.47998046875
           ],
           "y": [
            3092.550048828125,
            33.779998779296875,
            -4324.6298828125,
            -289.54998779296875,
            4823.52978515625,
            1018.7999877929688
           ]
          },
          {
           "marker": {
            "color": "black",
            "size": 10
           },
           "mode": "markers",
           "type": "scatter",
           "x": [
            -2839.760009765625
           ],
           "y": [
            672.97998046875
           ]
          }
         ]
        },
        {
         "data": [
          {
           "marker": {
            "color": [
             "orange",
             "blue",
             "blue",
             "blue",
             "orange",
             "orange"
            ],
            "size": 10
           },
           "mode": "markers",
           "type": "scatter",
           "x": [
            -1560.9000244140625,
            -2840.580078125,
            2427.14990234375,
            -3536.25,
            900.3499755859375,
            -2771.47998046875
           ],
           "y": [
            3092.550048828125,
            81.56999969482422,
            -4319.43994140625,
            -289.54998779296875,
            4823.52978515625,
            1018.7999877929688
           ]
          },
          {
           "marker": {
            "color": "black",
            "size": 10
           },
           "mode": "markers",
           "type": "scatter",
           "x": [
            -2818.800048828125
           ],
           "y": [
            626.0499877929688
           ]
          }
         ]
        },
        {
         "data": [
          {
           "marker": {
            "color": [
             "orange",
             "blue",
             "blue",
             "blue",
             "orange",
             "orange"
            ],
            "size": 10
           },
           "mode": "markers",
           "type": "scatter",
           "x": [
            -1590.1500244140625,
            -2840.580078125,
            2427.14990234375,
            -3509.0400390625,
            732,
            -2724.570068359375
           ],
           "y": [
            2972.199951171875,
            81.56999969482422,
            -4319.43994140625,
            -490.44000244140625,
            4819.7998046875,
            872.97998046875
           ]
          },
          {
           "marker": {
            "color": "black",
            "size": 10
           },
           "mode": "markers",
           "type": "scatter",
           "x": [
            -2792.6298828125
           ],
           "y": [
            567.4600219726562
           ]
          }
         ]
        },
        {
         "data": [
          {
           "marker": {
            "color": [
             "orange",
             "blue",
             "blue",
             "blue",
             "orange",
             "orange"
            ],
            "size": 10
           },
           "mode": "markers",
           "type": "scatter",
           "x": [
            -1590.1500244140625,
            -2776.35009765625,
            2595.030029296875,
            -3509.0400390625,
            732,
            -2682.64990234375
           ],
           "y": [
            2972.199951171875,
            117.75,
            -4290.0498046875,
            -490.44000244140625,
            4819.7998046875,
            741.530029296875
           ]
          },
          {
           "marker": {
            "color": "black",
            "size": 10
           },
           "mode": "markers",
           "type": "scatter",
           "x": [
            -2761.260009765625
           ],
           "y": [
            497.25
           ]
          }
         ]
        },
        {
         "data": [
          {
           "marker": {
            "color": [
             "orange",
             "blue",
             "blue",
             "blue",
             "orange",
             "orange"
            ],
            "size": 10
           },
           "mode": "markers",
           "type": "scatter",
           "x": [
            -1618.1199951171875,
            -2776.35009765625,
            2595.030029296875,
            -3494.2099609375,
            625.219970703125,
            -2682.64990234375
           ],
           "y": [
            2860.89990234375,
            117.75,
            -4290.0498046875,
            -675.1900024414062,
            4801.97998046875,
            741.530029296875
           ]
          },
          {
           "marker": {
            "color": "black",
            "size": 10
           },
           "mode": "markers",
           "type": "scatter",
           "x": [
            -2729.93994140625
           ],
           "y": [
            427.1400146484375
           ]
          }
         ]
        },
        {
         "data": [
          {
           "marker": {
            "color": [
             "orange",
             "blue",
             "blue",
             "blue",
             "orange",
             "orange"
            ],
            "size": 10
           },
           "mode": "markers",
           "type": "scatter",
           "x": [
            -1655.260009765625,
            -2676.590087890625,
            2848.010009765625,
            -3490.1298828125,
            625.219970703125,
            -2626.85009765625
           ],
           "y": [
            2715.93994140625,
            174.5800018310547,
            -4218.39990234375,
            -843.3800048828125,
            4801.97998046875,
            566.2100219726562
           ]
          },
          {
           "marker": {
            "color": "black",
            "size": 10
           },
           "mode": "markers",
           "type": "scatter",
           "x": [
            -2698.679931640625
           ],
           "y": [
            357.1499938964844
           ]
          }
         ]
        },
        {
         "data": [
          {
           "marker": {
            "color": [
             "orange",
             "blue",
             "blue",
             "blue",
             "orange",
             "orange"
            ],
            "size": 10
           },
           "mode": "markers",
           "type": "scatter",
           "x": [
            -1662.93994140625,
            -2676.590087890625,
            2848.010009765625,
            -3490.030029296875,
            439.760009765625,
            -2617.550048828125
           ],
           "y": [
            2686.159912109375,
            174.5800018310547,
            -4218.39990234375,
            -877.010009765625,
            4736.830078125,
            536.989990234375
           ]
          },
          {
           "marker": {
            "color": "black",
            "size": 10
           },
           "mode": "markers",
           "type": "scatter",
           "x": [
            -2677.860107421875
           ],
           "y": [
            310.5400085449219
           ]
          }
         ]
        },
        {
         "data": [
          {
           "marker": {
            "color": [
             "orange",
             "blue",
             "blue",
             "blue",
             "orange",
             "orange"
            ],
            "size": 10
           },
           "mode": "markers",
           "type": "scatter",
           "x": [
            -1690.4100341796875,
            -2612.590087890625,
            2967.989990234375,
            -3490.68994140625,
            439.760009765625,
            -2617.550048828125
           ],
           "y": [
            2579.840087890625,
            211.5,
            -4169.6298828125,
            -994.6799926757812,
            4736.830078125,
            536.989990234375
           ]
          },
          {
           "marker": {
            "color": "black",
            "size": 10
           },
           "mode": "markers",
           "type": "scatter",
           "x": [
            -2651.860107421875
           ],
           "y": [
            252.36000061035156
           ]
          }
         ]
        },
        {
         "data": [
          {
           "marker": {
            "color": [
             "orange",
             "blue",
             "blue",
             "blue",
             "orange",
             "orange"
            ],
            "size": 10
           },
           "mode": "markers",
           "type": "scatter",
           "x": [
            -1698.4300537109375,
            -2612.590087890625,
            2967.989990234375,
            -3491.070068359375,
            329.4800109863281,
            -2575.699951171875
           ],
           "y": [
            2548.8701171875,
            211.5,
            -4169.6298828125,
            -1028.300048828125,
            4673.259765625,
            405.5
           ]
          },
          {
           "marker": {
            "color": "black",
            "size": 10
           },
           "mode": "markers",
           "type": "scatter",
           "x": [
            -2631.10009765625
           ],
           "y": [
            205.86000061035156
           ]
          }
         ]
        },
        {
         "data": [
          {
           "marker": {
            "color": [
             "orange",
             "blue",
             "blue",
             "blue",
             "orange",
             "orange"
            ],
            "size": 10
           },
           "mode": "markers",
           "type": "scatter",
           "x": [
            -1698.4300537109375,
            -2555.81005859375,
            3152.3701171875,
            -3491.070068359375,
            306.260009765625,
            -2575.699951171875
           ],
           "y": [
            2548.8701171875,
            244.57000732421875,
            -4062.39990234375,
            -1028.300048828125,
            4656.89990234375,
            405.5
           ]
          },
          {
           "marker": {
            "color": "black",
            "size": 10
           },
           "mode": "markers",
           "type": "scatter",
           "x": [
            -2610.340087890625
           ],
           "y": [
            159.41000366210938
           ]
          }
         ]
        },
        {
         "data": [
          {
           "marker": {
            "color": [
             "orange",
             "blue",
             "blue",
             "blue",
             "orange",
             "orange"
            ],
            "size": 10
           },
           "mode": "markers",
           "type": "scatter",
           "x": [
            -1731.9100341796875,
            -2555.81005859375,
            3152.3701171875,
            -3493.590087890625,
            306.260009765625,
            -2529.199951171875
           ],
           "y": [
            2422.52001953125,
            244.57000732421875,
            -4062.39990234375,
            -1196.4000244140625,
            4656.89990234375,
            259.3999938964844
           ]
          },
          {
           "marker": {
            "color": "black",
            "size": 10
           },
           "mode": "markers",
           "type": "scatter",
           "x": [
            -2599.97998046875
           ],
           "y": [
            136.2100067138672
           ]
          }
         ]
        },
        {
         "data": [
          {
           "marker": {
            "color": [
             "orange",
             "blue",
             "blue",
             "blue",
             "orange",
             "orange"
            ],
            "size": 10
           },
           "mode": "markers",
           "type": "scatter",
           "x": [
            -1731.9100341796875,
            -2555.81005859375,
            3152.3701171875,
            -3493.590087890625,
            306.260009765625,
            -2529.199951171875
           ],
           "y": [
            2422.52001953125,
            244.57000732421875,
            -4062.39990234375,
            -1196.4000244140625,
            4656.89990234375,
            259.3999938964844
           ]
          },
          {
           "marker": {
            "color": "black",
            "size": 10
           },
           "mode": "markers",
           "type": "scatter",
           "x": [
            -2579.260009765625
           ],
           "y": [
            89.83000183105469
           ]
          }
         ]
        },
        {
         "data": [
          {
           "marker": {
            "color": [
             "orange",
             "blue",
             "blue",
             "blue",
             "orange",
             "orange"
            ],
            "size": 10
           },
           "mode": "markers",
           "type": "scatter",
           "x": [
            -1783.1800537109375,
            -2484.909912109375,
            3267.60009765625,
            -3493.590087890625,
            176.52999877929688,
            -2487.35009765625
           ],
           "y": [
            2242.820068359375,
            286.1099853515625,
            -3947.139892578125,
            -1196.4000244140625,
            4540.8701171875,
            127.91000366210938
           ]
          },
          {
           "marker": {
            "color": "black",
            "size": 10
           },
           "mode": "markers",
           "type": "scatter",
           "x": [
            -2543.06005859375
           ],
           "y": [
            8.789999961853027
           ]
          }
         ]
        },
        {
         "data": [
          {
           "marker": {
            "color": [
             "orange",
             "blue",
             "blue",
             "blue",
             "orange",
             "orange"
            ],
            "size": 10
           },
           "mode": "markers",
           "type": "scatter",
           "x": [
            -1783.1800537109375,
            -2484.909912109375,
            3320.179931640625,
            -3496.909912109375,
            108.56999969482422,
            -2487.35009765625
           ],
           "y": [
            2242.820068359375,
            286.1099853515625,
            -3856.56005859375,
            -1381.31005859375,
            4461.22021484375,
            127.91000366210938
           ]
          },
          {
           "marker": {
            "color": "black",
            "size": 10
           },
           "mode": "markers",
           "type": "scatter",
           "x": [
            -2512.080078125
           ],
           "y": [
            -60.560001373291016
           ]
          }
         ]
        },
        {
         "data": [
          {
           "marker": {
            "color": [
             "orange",
             "blue",
             "blue",
             "blue",
             "orange",
             "orange"
            ],
            "size": 10
           },
           "mode": "markers",
           "type": "scatter",
           "x": [
            -1832.1300048828125,
            -2392.739990234375,
            3320.179931640625,
            -3500.070068359375,
            108.56999969482422,
            -2440.85009765625
           ],
           "y": [
            2072.7099609375,
            340.19000244140625,
            -3856.56005859375,
            -1549.4100341796875,
            4461.22021484375,
            -18.190000534057617
           ]
          },
          {
           "marker": {
            "color": "black",
            "size": 10
           },
           "mode": "markers",
           "type": "scatter",
           "x": [
            -2481.14990234375
           ],
           "y": [
            -129.8000030517578
           ]
          }
         ]
        },
        {
         "data": [
          {
           "marker": {
            "color": [
             "orange",
             "blue",
             "blue",
             "blue",
             "orange",
             "orange"
            ],
            "size": 10
           },
           "mode": "markers",
           "type": "scatter",
           "x": [
            -1832.1300048828125,
            -2336.02001953125,
            3363.159912109375,
            -3500.070068359375,
            3.4700000286102295,
            -2440.85009765625
           ],
           "y": [
            2072.7099609375,
            373.5199890136719,
            -3697.489990234375,
            -1549.4100341796875,
            4315.759765625,
            -18.190000534057617
           ]
          },
          {
           "marker": {
            "color": "black",
            "size": 10
           },
           "mode": "markers",
           "type": "scatter",
           "x": [
            -2457.929931640625
           ],
           "y": [
            -185.58999633789062
           ]
          }
         ]
        },
        {
         "data": [
          {
           "marker": {
            "color": [
             "orange",
             "blue",
             "blue",
             "blue",
             "orange",
             "orange"
            ],
            "size": 10
           },
           "mode": "markers",
           "type": "scatter",
           "x": [
            -1875.1700439453125,
            -2328.929931640625,
            3363.159912109375,
            -3503.0400390625,
            -51.630001068115234,
            -2389.699951171875
           ],
           "y": [
            1875.3900146484375,
            377.69000244140625,
            -3697.489990234375,
            -1700.68994140625,
            4227.18994140625,
            -178.89999389648438
           ]
          },
          {
           "marker": {
            "color": "black",
            "size": 10
           },
           "mode": "markers",
           "type": "scatter",
           "x": [
            -2448.239990234375
           ],
           "y": [
            -210.1199951171875
           ]
          }
         ]
        },
        {
         "data": [
          {
           "marker": {
            "color": [
             "orange",
             "blue",
             "blue",
             "blue",
             "orange",
             "orange"
            ],
            "size": 10
           },
           "mode": "markers",
           "type": "scatter",
           "x": [
            -1875.1700439453125,
            -2272.2099609375,
            3361.89990234375,
            -3503.0400390625,
            -51.630001068115234,
            -2389.699951171875
           ],
           "y": [
            1875.3900146484375,
            411.04998779296875,
            -3585.5400390625,
            -1700.68994140625,
            4227.18994140625,
            -178.89999389648438
           ]
          },
          {
           "marker": {
            "color": "black",
            "size": 10
           },
           "mode": "markers",
           "type": "scatter",
           "x": [
            -2435.320068359375
           ],
           "y": [
            -242.8000030517578
           ]
          }
         ]
        },
        {
         "data": [
          {
           "marker": {
            "color": [
             "orange",
             "blue",
             "blue",
             "blue",
             "orange",
             "orange"
            ],
            "size": 10
           },
           "mode": "markers",
           "type": "scatter",
           "x": [
            -1903.6800537109375,
            -2272.2099609375,
            3361.89990234375,
            -3515.739990234375,
            -51.630001068115234,
            -2333.89990234375
           ],
           "y": [
            1648.6500244140625,
            411.04998779296875,
            -3585.5400390625,
            -1901.449951171875,
            4227.18994140625,
            -354.2200012207031
           ]
          },
          {
           "marker": {
            "color": "black",
            "size": 10
           },
           "mode": "markers",
           "type": "scatter",
           "x": [
            -2409.5400390625
           ],
           "y": [
            -308.0400085449219
           ]
          }
         ]
        },
        {
         "data": [
          {
           "marker": {
            "color": [
             "orange",
             "blue",
             "blue",
             "blue",
             "orange",
             "orange"
            ],
            "size": 10
           },
           "mode": "markers",
           "type": "scatter",
           "x": [
            -1903.6800537109375,
            -2187.1298828125,
            3326.4599609375,
            -3515.739990234375,
            -129.91000366210938,
            -2333.89990234375
           ],
           "y": [
            1648.6500244140625,
            461.1700134277344,
            -3478.580078125,
            -1901.449951171875,
            4067.8798828125,
            -354.2200012207031
           ]
          },
          {
           "marker": {
            "color": "black",
            "size": 10
           },
           "mode": "markers",
           "type": "scatter",
           "x": [
            -2390.219970703125
           ],
           "y": [
            -356.8900146484375
           ]
          }
         ]
        },
        {
         "data": [
          {
           "marker": {
            "color": [
             "orange",
             "blue",
             "blue",
             "blue",
             "orange",
             "orange"
            ],
            "size": 10
           },
           "mode": "markers",
           "type": "scatter",
           "x": [
            -1917.469970703125,
            -2187.1298828125,
            3326.4599609375,
            -3538.72998046875,
            -129.91000366210938,
            -2292.050048828125
           ],
           "y": [
            1476.75,
            461.1700134277344,
            -3478.580078125,
            -2049.820068359375,
            4067.8798828125,
            -485.7099914550781
           ]
          },
          {
           "marker": {
            "color": "black",
            "size": 10
           },
           "mode": "markers",
           "type": "scatter",
           "x": [
            -2380.590087890625
           ],
           "y": [
            -381.2799987792969
           ]
          }
         ]
        },
        {
         "data": [
          {
           "marker": {
            "color": [
             "orange",
             "blue",
             "blue",
             "blue",
             "orange",
             "orange"
            ],
            "size": 10
           },
           "mode": "markers",
           "type": "scatter",
           "x": [
            -1917.469970703125,
            -2122.4599609375,
            3250.31005859375,
            -3538.72998046875,
            -177.05999755859375,
            -2292.050048828125
           ],
           "y": [
            1476.75,
            500.04998779296875,
            -3385.14990234375,
            -2049.820068359375,
            3914.3701171875,
            -485.7099914550781
           ]
          },
          {
           "marker": {
            "color": "black",
            "size": 10
           },
           "mode": "markers",
           "type": "scatter",
           "x": [
            -2361.330078125
           ],
           "y": [
            -430.0199890136719
           ]
          }
         ]
        },
        {
         "data": [
          {
           "marker": {
            "color": [
             "orange",
             "blue",
             "blue",
             "blue",
             "orange",
             "orange"
            ],
            "size": 10
           },
           "mode": "markers",
           "type": "scatter",
           "x": [
            -1930.8399658203125,
            -2107.6298828125,
            3250.31005859375,
            -3574.6201171875,
            -194.3800048828125,
            -2245.550048828125
           ],
           "y": [
            1285.6400146484375,
            509.260009765625,
            -3385.14990234375,
            -2212.2900390625,
            3800.35009765625,
            -631.8099975585938
           ]
          },
          {
           "marker": {
            "color": "black",
            "size": 10
           },
           "mode": "markers",
           "type": "scatter",
           "x": [
            -2348.510009765625
           ],
           "y": [
            -462.4700012207031
           ]
          }
         ]
        },
        {
         "data": [
          {
           "marker": {
            "color": [
             "orange",
             "blue",
             "blue",
             "blue",
             "orange",
             "orange"
            ],
            "size": 10
           },
           "mode": "markers",
           "type": "scatter",
           "x": [
            -1930.8399658203125,
            -2046.25,
            3135.139892578125,
            -3574.6201171875,
            -194.3800048828125,
            -2245.550048828125
           ],
           "y": [
            1285.6400146484375,
            548.0900268554688,
            -3313.139892578125,
            -2212.2900390625,
            3800.35009765625,
            -631.8099975585938
           ]
          },
          {
           "marker": {
            "color": "black",
            "size": 10
           },
           "mode": "markers",
           "type": "scatter",
           "x": [
            -2329.31005859375
           ],
           "y": [
            -511.0799865722656
           ]
          }
         ]
        },
        {
         "data": [
          {
           "marker": {
            "color": [
             "orange",
             "blue",
             "blue",
             "blue",
             "orange",
             "orange"
            ],
            "size": 10
           },
           "mode": "markers",
           "type": "scatter",
           "x": [
            -1943.72998046875,
            -2030.3499755859375,
            3135.139892578125,
            -3608.93994140625,
            -194.3800048828125,
            -2199.050048828125
           ],
           "y": [
            1132.9599609375,
            558.27001953125,
            -3313.139892578125,
            -2374.75,
            3800.35009765625,
            -777.9099731445312
           ]
          },
          {
           "marker": {
            "color": "black",
            "size": 10
           },
           "mode": "markers",
           "type": "scatter",
           "x": [
            -2322.909912109375
           ],
           "y": [
            -527.260009765625
           ]
          }
         ]
        },
        {
         "data": [
          {
           "marker": {
            "color": [
             "orange",
             "blue",
             "blue",
             "blue",
             "orange",
             "orange"
            ],
            "size": 10
           },
           "mode": "markers",
           "type": "scatter",
           "x": [
            -1943.72998046875,
            -1972.81005859375,
            3057.5,
            -3608.93994140625,
            -194,
            -2199.050048828125
           ],
           "y": [
            1132.9599609375,
            595.2000122070312,
            -3285.06005859375,
            -2374.75,
            3644.14990234375,
            -777.9099731445312
           ]
          },
          {
           "marker": {
            "color": "black",
            "size": 10
           },
           "mode": "markers",
           "type": "scatter",
           "x": [
            -2300.56005859375
           ],
           "y": [
            -583.8499755859375
           ]
          }
         ]
        },
        {
         "data": [
          {
           "marker": {
            "color": [
             "orange",
             "blue",
             "blue",
             "blue",
             "orange",
             "orange"
            ],
            "size": 10
           },
           "mode": "markers",
           "type": "scatter",
           "x": [
            -1966.3800048828125,
            -1972.81005859375,
            3057.5,
            -3627.340087890625,
            -194,
            -2157.199951171875
           ],
           "y": [
            923.5800170898438,
            595.2000122070312,
            -3285.06005859375,
            -2522.25,
            3644.14990234375,
            -909.4000244140625
           ]
          },
          {
           "marker": {
            "color": "black",
            "size": 10
           },
           "mode": "markers",
           "type": "scatter",
           "x": [
            -2287.800048828125
           ],
           "y": [
            -616.1400146484375
           ]
          }
         ]
        },
        {
         "data": [
          {
           "marker": {
            "color": [
             "orange",
             "blue",
             "blue",
             "blue",
             "orange",
             "orange"
            ],
            "size": 10
           },
           "mode": "markers",
           "type": "scatter",
           "x": [
            -1971.010009765625,
            -1972.81005859375,
            2913.080078125,
            -3629.110107421875,
            -163.9199981689453,
            -2147.89990234375
           ],
           "y": [
            885.5700073242188,
            595.2000122070312,
            -3261.419921875,
            -2555.080078125,
            3478.93994140625,
            -938.6199951171875
           ]
          },
          {
           "marker": {
            "color": "black",
            "size": 10
           },
           "mode": "markers",
           "type": "scatter",
           "x": [
            -2268.68994140625
           ],
           "y": [
            -664.52001953125
           ]
          }
         ]
        },
        {
         "data": [
          {
           "marker": {
            "color": [
             "orange",
             "blue",
             "blue",
             "blue",
             "orange",
             "orange"
            ],
            "size": 10
           },
           "mode": "markers",
           "type": "scatter",
           "x": [
            -1995.56005859375,
            -1867.280029296875,
            2913.080078125,
            -3623.550048828125,
            -163.9199981689453,
            -2101.39990234375
           ],
           "y": [
            695.72998046875,
            662.4400024414062,
            -3261.419921875,
            -2717.97998046875,
            3478.93994140625,
            -1084.8199462890625
           ]
          },
          {
           "marker": {
            "color": "black",
            "size": 10
           },
           "mode": "markers",
           "type": "scatter",
           "x": [
            -2249.610107421875
           ],
           "y": [
            -712.8099975585938
           ]
          }
         ]
        },
        {
         "data": [
          {
           "marker": {
            "color": [
             "orange",
             "blue",
             "blue",
             "blue",
             "orange",
             "orange"
            ],
            "size": 10
           },
           "mode": "markers",
           "type": "scatter",
           "x": [
            -1995.56005859375,
            -1786.0699462890625,
            2798.93994140625,
            -3623.550048828125,
            -127.19999694824219,
            -2101.39990234375
           ],
           "y": [
            695.72998046875,
            713.8800048828125,
            -3264.6298828125,
            -2717.97998046875,
            3354.860107421875,
            -1084.8199462890625
           ]
          },
          {
           "marker": {
            "color": "black",
            "size": 10
           },
           "mode": "markers",
           "type": "scatter",
           "x": [
            -2233.72998046875
           ],
           "y": [
            -753
           ]
          }
         ]
        },
        {
         "data": [
          {
           "marker": {
            "color": [
             "orange",
             "blue",
             "blue",
             "blue",
             "orange",
             "orange"
            ],
            "size": 10
           },
           "mode": "markers",
           "type": "scatter",
           "x": [
            -2018.719970703125,
            -1786.0699462890625,
            2798.93994140625,
            -3597.179931640625,
            -88.93000030517578,
            -2068.85009765625
           ],
           "y": [
            525.02001953125,
            713.8800048828125,
            -3264.6298828125,
            -2860.260009765625,
            3241.590087890625,
            -1187.0400390625
           ]
          },
          {
           "marker": {
            "color": "black",
            "size": 10
           },
           "mode": "markers",
           "type": "scatter",
           "x": [
            -2221.050048828125
           ],
           "y": [
            -785.1199951171875
           ]
          }
         ]
        },
        {
         "data": [
          {
           "marker": {
            "color": [
             "orange",
             "blue",
             "blue",
             "blue",
             "orange",
             "orange"
            ],
            "size": 10
           },
           "mode": "markers",
           "type": "scatter",
           "x": [
            -2018.719970703125,
            -1677.260009765625,
            2669.8798828125,
            -3597.179931640625,
            -79.29000091552734,
            -2022.3499755859375
           ],
           "y": [
            525.02001953125,
            782.6400146484375,
            -3289.419921875,
            -2860.260009765625,
            3212.590087890625,
            -1332.6800537109375
           ]
          },
          {
           "marker": {
            "color": "black",
            "size": 10
           },
           "mode": "markers",
           "type": "scatter",
           "x": [
            -2195.7099609375
           ],
           "y": [
            -849.25
           ]
          }
         ]
        },
        {
         "data": [
          {
           "marker": {
            "color": [
             "orange",
             "blue",
             "blue",
             "blue",
             "orange",
             "orange"
            ],
            "size": 10
           },
           "mode": "markers",
           "type": "scatter",
           "x": [
            -2044.8900146484375,
            -1659.06005859375,
            2669.8798828125,
            -3545.0400390625,
            -43.400001525878906,
            -2013.0400390625
           ],
           "y": [
            335.4200134277344,
            794.1199951171875,
            -3289.419921875,
            -3009.929931640625,
            3093.530029296875,
            -1361.75
           ]
          },
          {
           "marker": {
            "color": "black",
            "size": 10
           },
           "mode": "markers",
           "type": "scatter",
           "x": [
            -2183.070068359375
           ],
           "y": [
            -881.27001953125
           ]
          }
         ]
        },
        {
         "data": [
          {
           "marker": {
            "color": [
             "orange",
             "blue",
             "blue",
             "blue",
             "orange",
             "orange"
            ],
            "size": 10
           },
           "mode": "markers",
           "type": "scatter",
           "x": [
            -2044.8900146484375,
            -1586.1199951171875,
            2539.110107421875,
            -3545.0400390625,
            -35.66999816894531,
            -1976.81005859375
           ],
           "y": [
            335.4200134277344,
            840.0599975585938,
            -3331.199951171875,
            -3009.929931640625,
            3063.300048828125,
            -1474.9100341796875
           ]
          },
          {
           "marker": {
            "color": "black",
            "size": 10
           },
           "mode": "markers",
           "type": "scatter",
           "x": [
            -2164.110107421875
           ],
           "y": [
            -929.22998046875
           ]
          }
         ]
        },
        {
         "data": [
          {
           "marker": {
            "color": [
             "orange",
             "blue",
             "blue",
             "blue",
             "orange",
             "orange"
            ],
            "size": 10
           },
           "mode": "markers",
           "type": "scatter",
           "x": [
            -2071.25,
            -1586.1199951171875,
            2539.110107421875,
            -3476,
            -35.66999816894531,
            -1976.81005859375
           ],
           "y": [
            145.82000732421875,
            840.0599975585938,
            -3331.199951171875,
            -3151.18994140625,
            3063.300048828125,
            -1474.9100341796875
           ]
          },
          {
           "marker": {
            "color": "black",
            "size": 10
           },
           "mode": "markers",
           "type": "scatter",
           "x": [
            -2157.800048828125
           ],
           "y": [
            -945.2000122070312
           ]
          }
         ]
        },
        {
         "data": [
          {
           "marker": {
            "color": [
             "orange",
             "blue",
             "blue",
             "blue",
             "orange",
             "orange"
            ],
            "size": 10
           },
           "mode": "markers",
           "type": "scatter",
           "x": [
            -2071.25,
            -1586.1199951171875,
            2391.389892578125,
            -3476,
            -7.309999942779541,
            -1976.81005859375
           ],
           "y": [
            145.82000732421875,
            840.0599975585938,
            -3388.97998046875,
            -3151.18994140625,
            2926.169921875,
            -1474.9100341796875
           ]
          },
          {
           "marker": {
            "color": "black",
            "size": 10
           },
           "mode": "markers",
           "type": "scatter",
           "x": [
            -2135.75
           ],
           "y": [
            -1001.030029296875
           ]
          }
         ]
        },
        {
         "data": [
          {
           "marker": {
            "color": [
             "orange",
             "blue",
             "blue",
             "blue",
             "orange",
             "orange"
            ],
            "size": 10
           },
           "mode": "markers",
           "type": "scatter",
           "x": [
            -2095.1201171875,
            -1485.530029296875,
            2391.389892578125,
            -3390.590087890625,
            10.989999771118164,
            -1944.5400390625
           ],
           "y": [
            -24.799999237060547,
            903.3099975585938,
            -3388.97998046875,
            -3301.1298828125,
            2802.60009765625,
            -1609.6400146484375
           ]
          },
          {
           "marker": {
            "color": "black",
            "size": 10
           },
           "mode": "markers",
           "type": "scatter",
           "x": [
            -2123.159912109375
           ],
           "y": [
            -1032.8900146484375
           ]
          }
         ]
        },
        {
         "data": [
          {
           "marker": {
            "color": [
             "orange",
             "blue",
             "blue",
             "blue",
             "orange",
             "orange"
            ],
            "size": 10
           },
           "mode": "markers",
           "type": "scatter",
           "x": [
            -2095.1201171875,
            -1485.530029296875,
            2281.60009765625,
            -3374.590087890625,
            14.970000267028809,
            -1944.5400390625
           ],
           "y": [
            -24.799999237060547,
            903.3099975585938,
            -3438.239990234375,
            -3328.110107421875,
            2771.050048828125,
            -1609.6400146484375
           ]
          },
          {
           "marker": {
            "color": "black",
            "size": 10
           },
           "mode": "markers",
           "type": "scatter",
           "x": [
            -2104.320068359375
           ],
           "y": [
            -1080.6099853515625
           ]
          }
         ]
        },
        {
         "data": [
          {
           "marker": {
            "color": [
             "orange",
             "blue",
             "blue",
             "blue",
             "orange",
             "orange"
            ],
            "size": 10
           },
           "mode": "markers",
           "type": "scatter",
           "x": [
            -2124.489990234375,
            -1403.050048828125,
            2281.60009765625,
            -3318.080078125,
            27.969999313354492,
            -1940.8699951171875
           ],
           "y": [
            -233.25,
            955.1099853515625,
            -3438.239990234375,
            -3422.219970703125,
            2658.360107421875,
            -1696.3699951171875
           ]
          },
          {
           "marker": {
            "color": "black",
            "size": 10
           },
           "mode": "markers",
           "type": "scatter",
           "x": [
            -2101.179931640625
           ],
           "y": [
            -1088.56005859375
           ]
          }
         ]
        },
        {
         "data": [
          {
           "marker": {
            "color": [
             "orange",
             "blue",
             "blue",
             "blue",
             "orange",
             "orange"
            ],
            "size": 10
           },
           "mode": "markers",
           "type": "scatter",
           "x": [
            -2124.489990234375,
            -1311.239990234375,
            2134.7099609375,
            -3318.080078125,
            27.969999313354492,
            -1947.0400390625
           ],
           "y": [
            -233.25,
            1012.7100219726562,
            -3518.5,
            -3422.219970703125,
            2658.360107421875,
            -1772.0400390625
           ]
          },
          {
           "marker": {
            "color": "black",
            "size": 10
           },
           "mode": "markers",
           "type": "scatter",
           "x": [
            -2069.830078125
           ],
           "y": [
            -1167.9100341796875
           ]
          }
         ]
        },
        {
         "data": [
          {
           "marker": {
            "color": [
             "orange",
             "blue",
             "blue",
             "blue",
             "orange",
             "orange"
            ],
            "size": 10
           },
           "mode": "markers",
           "type": "scatter",
           "x": [
            -2156.4599609375,
            -1311.239990234375,
            2032.8599853515625,
            -3220.3798828125,
            48.599998474121094,
            -1947.0400390625
           ],
           "y": [
            -458.6600036621094,
            1012.7100219726562,
            -3584.52001953125,
            -3583.050048828125,
            2460.929931640625,
            -1772.0400390625
           ]
          },
          {
           "marker": {
            "color": "black",
            "size": 10
           },
           "mode": "markers",
           "type": "scatter",
           "x": [
            -2057.31005859375
           ],
           "y": [
            -1199.5899658203125
           ]
          }
         ]
        },
        {
         "data": [
          {
           "marker": {
            "color": [
             "orange",
             "blue",
             "blue",
             "blue",
             "orange",
             "orange"
            ],
            "size": 10
           },
           "mode": "markers",
           "type": "scatter",
           "x": [
            -2156.4599609375,
            -1219.219970703125,
            2032.8599853515625,
            -3220.3798828125,
            48.599998474121094,
            -1951.550048828125
           ],
           "y": [
            -458.6600036621094,
            1070.3900146484375,
            -3584.52001953125,
            -3583.050048828125,
            2460.929931640625,
            -1842.489990234375
           ]
          },
          {
           "marker": {
            "color": "black",
            "size": 10
           },
           "mode": "markers",
           "type": "scatter",
           "x": [
            -2038.5699462890625
           ],
           "y": [
            -1247.06005859375
           ]
          }
         ]
        },
        {
         "data": [
          {
           "marker": {
            "color": [
             "orange",
             "blue",
             "blue",
             "blue",
             "orange",
             "orange"
            ],
            "size": 10
           },
           "mode": "markers",
           "type": "scatter",
           "x": [
            -2156.4599609375,
            -1210,
            2032.8599853515625,
            -3162.550048828125,
            60.20000076293945,
            -1951.5799560546875
           ],
           "y": [
            -458.6600036621094,
            1076.1600341796875,
            -3584.52001953125,
            -3676.280029296875,
            2345.669921875,
            -1849.6500244140625
           ]
          },
          {
           "marker": {
            "color": "black",
            "size": 10
           },
           "mode": "markers",
           "type": "scatter",
           "x": [
            -2035.449951171875
           ],
           "y": [
            -1254.9599609375
           ]
          }
         ]
        },
        {
         "data": [
          {
           "marker": {
            "color": [
             "orange",
             "blue",
             "blue",
             "blue",
             "orange",
             "orange"
            ],
            "size": 10
           },
           "mode": "markers",
           "type": "scatter",
           "x": [
            -2177.570068359375,
            -1210,
            1899.6800537109375,
            -3162.550048828125,
            60.20000076293945,
            -1951.5799560546875
           ],
           "y": [
            -661.27001953125,
            1076.1600341796875,
            -3684.22998046875,
            -3676.280029296875,
            2345.669921875,
            -1849.6500244140625
           ]
          },
          {
           "marker": {
            "color": "black",
            "size": 10
           },
           "mode": "markers",
           "type": "scatter",
           "x": [
            -2016.72998046875
           ],
           "y": [
            -1302.3399658203125
           ]
          }
         ]
        },
        {
         "data": [
          {
           "marker": {
            "color": [
             "orange",
             "blue",
             "blue",
             "blue",
             "orange",
             "orange"
            ],
            "size": 10
           },
           "mode": "markers",
           "type": "scatter",
           "x": [
            -2177.570068359375,
            -1136.1800537109375,
            1899.6800537109375,
            -3073.239990234375,
            60.20000076293945,
            -1947.75
           ],
           "y": [
            -661.27001953125,
            1122.3800048828125,
            -3684.22998046875,
            -3804.429931640625,
            2345.669921875,
            -1908.1700439453125
           ]
          },
          {
           "marker": {
            "color": "black",
            "size": 10
           },
           "mode": "markers",
           "type": "scatter",
           "x": [
            -2004.280029296875
           ],
           "y": [
            -1333.8900146484375
           ]
          }
         ]
        },
        {
         "data": [
          {
           "marker": {
            "color": [
             "orange",
             "blue",
             "blue",
             "blue",
             "orange",
             "orange"
            ],
            "size": 10
           },
           "mode": "markers",
           "type": "scatter",
           "x": [
            -2178.18994140625,
            -1136.1800537109375,
            1786.8800048828125,
            -3073.239990234375,
            83.13999938964844,
            -1947.75
           ],
           "y": [
            -840.1699829101562,
            1122.3800048828125,
            -3784.14990234375,
            -3804.429931640625,
            2115.090087890625,
            -1908.1700439453125
           ]
          },
          {
           "marker": {
            "color": "black",
            "size": 10
           },
           "mode": "markers",
           "type": "scatter",
           "x": [
            -1991.8399658203125
           ],
           "y": [
            -1365.4100341796875
           ]
          }
         ]
        },
        {
         "data": [
          {
           "marker": {
            "color": [
             "orange",
             "blue",
             "blue",
             "blue",
             "orange",
             "orange"
            ],
            "size": 10
           },
           "mode": "markers",
           "type": "scatter",
           "x": [
            -2178.18994140625,
            -1136.1800537109375,
            1786.8800048828125,
            -3073.239990234375,
            83.13999938964844,
            -1947.75
           ],
           "y": [
            -840.1699829101562,
            1122.3800048828125,
            -3784.14990234375,
            -3804.429931640625,
            2115.090087890625,
            -1908.1700439453125
           ]
          },
          {
           "marker": {
            "color": "black",
            "size": 10
           },
           "mode": "markers",
           "type": "scatter",
           "x": [
            -1991.8399658203125
           ],
           "y": [
            -1365.4100341796875
           ]
          }
         ]
        },
        {
         "data": [
          {
           "marker": {
            "color": [
             "orange",
             "blue",
             "blue",
             "blue",
             "orange",
             "orange"
            ],
            "size": 10
           },
           "mode": "markers",
           "type": "scatter",
           "x": [
            -2166.159912109375,
            -1034.3800048828125,
            1711.780029296875,
            -2981.929931640625,
            94.54000091552734,
            -1928.5
           ],
           "y": [
            -952.239990234375,
            1186.030029296875,
            -3857.969970703125,
            -3909.97998046875,
            1999.800048828125,
            -1990.0400390625
           ]
          },
          {
           "marker": {
            "color": "black",
            "size": 10
           },
           "mode": "markers",
           "type": "scatter",
           "x": [
            -1970.0899658203125
           ],
           "y": [
            -1420.47998046875
           ]
          }
         ]
        },
        {
         "data": [
          {
           "marker": {
            "color": [
             "orange",
             "blue",
             "blue",
             "blue",
             "orange",
             "orange"
            ],
            "size": 10
           },
           "mode": "markers",
           "type": "scatter",
           "x": [
            -2166.159912109375,
            -941.5,
            1711.780029296875,
            -2866.8701171875,
            94.54000091552734,
            -1903.56005859375
           ],
           "y": [
            -952.239990234375,
            1244.030029296875,
            -3857.969970703125,
            -4011.199951171875,
            1999.800048828125,
            -2048.449951171875
           ]
          },
          {
           "marker": {
            "color": "black",
            "size": 10
           },
           "mode": "markers",
           "type": "scatter",
           "x": [
            -1945.2900390625
           ],
           "y": [
            -1483.31005859375
           ]
          }
         ]
        },
        {
         "data": [
          {
           "marker": {
            "color": [
             "orange",
             "blue",
             "blue",
             "blue",
             "orange",
             "orange"
            ],
            "size": 10
           },
           "mode": "markers",
           "type": "scatter",
           "x": [
            -2166.159912109375,
            -922.8800048828125,
            1607.5999755859375,
            -2842.260009765625,
            108.23999786376953,
            -1903.56005859375
           ],
           "y": [
            -952.239990234375,
            1255.6500244140625,
            -3966.389892578125,
            -4029.090087890625,
            1834.989990234375,
            -2048.449951171875
           ]
          },
          {
           "marker": {
            "color": "black",
            "size": 10
           },
           "mode": "markers",
           "type": "scatter",
           "x": [
            -1939.0899658203125
           ],
           "y": [
            -1498.989990234375
           ]
          }
         ]
        },
        {
         "data": [
          {
           "marker": {
            "color": [
             "orange",
             "blue",
             "blue",
             "blue",
             "orange",
             "orange"
            ],
            "size": 10
           },
           "mode": "markers",
           "type": "scatter",
           "x": [
            -2119.469970703125,
            -848.260009765625,
            1607.5999755859375,
            -2739.25,
            108.23999786376953,
            -1863.1500244140625
           ],
           "y": [
            -1136.280029296875,
            1302.1700439453125,
            -3966.389892578125,
            -4092.02001953125,
            1834.989990234375,
            -2120.389892578125
           ]
          },
          {
           "marker": {
            "color": "black",
            "size": 10
           },
           "mode": "markers",
           "type": "scatter",
           "x": [
            -1920.5400390625
           ],
           "y": [
            -1546
           ]
          }
         ]
        },
        {
         "data": [
          {
           "marker": {
            "color": [
             "orange",
             "blue",
             "blue",
             "blue",
             "orange",
             "orange"
            ],
            "size": 10
           },
           "mode": "markers",
           "type": "scatter",
           "x": [
            -2088.909912109375,
            -838.9099731445312,
            1515.1500244140625,
            -2725.93994140625,
            113.36000061035156,
            -1863.1500244140625
           ],
           "y": [
            -1218.81005859375,
            1307.989990234375,
            -4065.169921875,
            -4098.9599609375,
            1686.489990234375,
            -2120.389892578125
           ]
          },
          {
           "marker": {
            "color": "black",
            "size": 10
           },
           "mode": "markers",
           "type": "scatter",
           "x": [
            -1905.0899658203125
           ],
           "y": [
            -1585.1199951171875
           ]
          }
         ]
        },
        {
         "data": [
          {
           "marker": {
            "color": [
             "orange",
             "blue",
             "blue",
             "blue",
             "orange",
             "orange"
            ],
            "size": 10
           },
           "mode": "markers",
           "type": "scatter",
           "x": [
            -2088.909912109375,
            -838.9099731445312,
            1515.1500244140625,
            -2725.93994140625,
            113.36000061035156,
            -1816.530029296875
           ],
           "y": [
            -1218.81005859375,
            1307.989990234375,
            -4065.169921875,
            -4098.9599609375,
            1686.489990234375,
            -2180.97998046875
           ]
          },
          {
           "marker": {
            "color": "black",
            "size": 10
           },
           "mode": "markers",
           "type": "scatter",
           "x": [
            -1892.760009765625
           ],
           "y": [
            -1616.3800048828125
           ]
          }
         ]
        },
        {
         "data": [
          {
           "marker": {
            "color": [
             "orange",
             "blue",
             "blue",
             "blue",
             "orange",
             "orange"
            ],
            "size": 10
           },
           "mode": "markers",
           "type": "scatter",
           "x": [
            -2088.909912109375,
            -726.4500122070312,
            1392.1800537109375,
            -2561.739990234375,
            110.26000213623047,
            -1816.530029296875
           ],
           "y": [
            -1218.81005859375,
            1377.9599609375,
            -4196.35986328125,
            -4170.75,
            1488.6800537109375,
            -2180.97998046875
           ]
          },
          {
           "marker": {
            "color": "black",
            "size": 10
           },
           "mode": "markers",
           "type": "scatter",
           "x": [
            -1874.280029296875
           ],
           "y": [
            -1663.2099609375
           ]
          }
         ]
        },
        {
         "data": [
          {
           "marker": {
            "color": [
             "orange",
             "blue",
             "blue",
             "blue",
             "orange",
             "orange"
            ],
            "size": 10
           },
           "mode": "markers",
           "type": "scatter",
           "x": [
            -2031.6700439453125,
            -726.4500122070312,
            1371.5,
            -2561.739990234375,
            110.26000213623047,
            -1753.6700439453125
           ],
           "y": [
            -1355.9200439453125,
            1377.9599609375,
            -4217.47021484375,
            -4170.75,
            1488.6800537109375,
            -2241.389892578125
           ]
          },
          {
           "marker": {
            "color": "black",
            "size": 10
           },
           "mode": "markers",
           "type": "scatter",
           "x": [
            -1861.9599609375
           ],
           "y": [
            -1694.3900146484375
           ]
          }
         ]
        },
        {
         "data": [
          {
           "marker": {
            "color": [
             "orange",
             "blue",
             "blue",
             "blue",
             "orange",
             "orange"
            ],
            "size": 10
           },
           "mode": "markers",
           "type": "scatter",
           "x": [
            -1987.489990234375,
            -660.5599975585938,
            1275.6199951171875,
            -2462.969970703125,
            102.12000274658203,
            -1753.6700439453125
           ],
           "y": [
            -1457.050048828125,
            1418.8599853515625,
            -4307.27978515625,
            -4202.990234375,
            1373.8499755859375,
            -2241.389892578125
           ]
          },
          {
           "marker": {
            "color": "black",
            "size": 10
           },
           "mode": "markers",
           "type": "scatter",
           "x": [
            -1840.469970703125
           ],
           "y": [
            -1748.8800048828125
           ]
          }
         ]
        },
        {
         "data": [
          {
           "marker": {
            "color": [
             "orange",
             "blue",
             "blue",
             "blue",
             "orange",
             "orange"
            ],
            "size": 10
           },
           "mode": "markers",
           "type": "scatter",
           "x": [
            -1987.489990234375,
            -563.3300170898438,
            1275.6199951171875,
            -2462.969970703125,
            76.80000305175781,
            -1671.6600341796875
           ],
           "y": [
            -1457.050048828125,
            1468.1400146484375,
            -4307.27978515625,
            -4202.990234375,
            1212.3199462890625,
            -2295.2099609375
           ]
          },
          {
           "marker": {
            "color": "black",
            "size": 10
           },
           "mode": "markers",
           "type": "scatter",
           "x": [
            -1822.06005859375
           ],
           "y": [
            -1795.510009765625
           ]
          }
         ]
        },
        {
         "data": [
          {
           "marker": {
            "color": [
             "orange",
             "blue",
             "blue",
             "blue",
             "orange",
             "orange"
            ],
            "size": 10
           },
           "mode": "markers",
           "type": "scatter",
           "x": [
            -1939.199951171875,
            -563.3300170898438,
            1160.4300537109375,
            -2261.010009765625,
            76.80000305175781,
            -1671.6600341796875
           ],
           "y": [
            -1566.3900146484375,
            1468.1400146484375,
            -4394.31982421875,
            -4241.93017578125,
            1212.3199462890625,
            -2295.2099609375
           ]
          },
          {
           "marker": {
            "color": "black",
            "size": 10
           },
           "mode": "markers",
           "type": "scatter",
           "x": [
            -1809.8199462890625
           ],
           "y": [
            -1826.550048828125
           ]
          }
         ]
        },
        {
         "data": [
          {
           "marker": {
            "color": [
             "orange",
             "blue",
             "blue",
             "blue",
             "orange",
             "orange"
            ],
            "size": 10
           },
           "mode": "markers",
           "type": "scatter",
           "x": [
            -1939.199951171875,
            -455.8399963378906,
            1160.4300537109375,
            -2261.010009765625,
            76.80000305175781,
            -1604.8399658203125
           ],
           "y": [
            -1566.3900146484375,
            1481.77001953125,
            -4394.31982421875,
            -4241.93017578125,
            1212.3199462890625,
            -2323.659912109375
           ]
          },
          {
           "marker": {
            "color": "black",
            "size": 10
           },
           "mode": "markers",
           "type": "scatter",
           "x": [
            -1797.5799560546875
           ],
           "y": [
            -1857.56005859375
           ]
          }
         ]
        },
        {
         "data": [
          {
           "marker": {
            "color": [
             "orange",
             "blue",
             "blue",
             "blue",
             "orange",
             "orange"
            ],
            "size": 10
           },
           "mode": "markers",
           "type": "scatter",
           "x": [
            -1895.8199462890625,
            -455.8399963378906,
            1049.1199951171875,
            -2130.56005859375,
            18.549999237060547,
            -1604.8399658203125
           ],
           "y": [
            -1664.31005859375,
            1481.77001953125,
            -4456.240234375,
            -4245.18017578125,
            1027.5699462890625,
            -2323.659912109375
           ]
          },
          {
           "marker": {
            "color": "black",
            "size": 10
           },
           "mode": "markers",
           "type": "scatter",
           "x": [
            -1785.3499755859375
           ],
           "y": [
            -1888.5400390625
           ]
          }
         ]
        },
        {
         "data": [
          {
           "marker": {
            "color": [
             "orange",
             "blue",
             "blue",
             "blue",
             "orange",
             "orange"
            ],
            "size": 10
           },
           "mode": "markers",
           "type": "scatter",
           "x": [
            -1886.1800537109375,
            -354.57000732421875,
            1023.9199829101562,
            -2101.820068359375,
            18.549999237060547,
            -1524.5
           ],
           "y": [
            -1686.0699462890625,
            1474.43994140625,
            -4467.9501953125,
            -4243.43017578125,
            1027.5699462890625,
            -2343.169921875
           ]
          },
          {
           "marker": {
            "color": "black",
            "size": 10
           },
           "mode": "markers",
           "type": "scatter",
           "x": [
            -1766.6400146484375
           ],
           "y": [
            -1935.949951171875
           ]
          }
         ]
        },
        {
         "data": [
          {
           "marker": {
            "color": [
             "orange",
             "blue",
             "blue",
             "blue",
             "orange",
             "orange"
            ],
            "size": 10
           },
           "mode": "markers",
           "type": "scatter",
           "x": [
            -1837.97998046875,
            -332.30999755859375,
            926.3099975585938,
            -1988.75,
            -62.93000030517578,
            -1431.6600341796875
           ],
           "y": [
            -1794.8699951171875,
            1470.5799560546875,
            -4510.06982421875,
            -4227.68994140625,
            873.0499877929688,
            -2348.1201171875
           ]
          },
          {
           "marker": {
            "color": "black",
            "size": 10
           },
           "mode": "markers",
           "type": "scatter",
           "x": [
            -1751
           ],
           "y": [
            -1975.56005859375
           ]
          }
         ]
        },
        {
         "data": [
          {
           "marker": {
            "color": [
             "orange",
             "blue",
             "blue",
             "blue",
             "orange",
             "orange"
            ],
            "size": 10
           },
           "mode": "markers",
           "type": "scatter",
           "x": [
            -1828.3399658203125,
            -220.75,
            926.3099975585938,
            -1988.75,
            -62.93000030517578,
            -1412.949951171875
           ],
           "y": [
            -1816.6300048828125,
            1438.4300537109375,
            -4510.06982421875,
            -4227.68994140625,
            873.0499877929688,
            -2346.919921875
           ]
          },
          {
           "marker": {
            "color": "black",
            "size": 10
           },
           "mode": "markers",
           "type": "scatter",
           "x": [
            -1735.4000244140625
           ],
           "y": [
            -2015.1099853515625
           ]
          }
         ]
        },
        {
         "data": [
          {
           "marker": {
            "color": [
             "orange",
             "blue",
             "blue",
             "blue",
             "orange",
             "orange"
            ],
            "size": 10
           },
           "mode": "markers",
           "type": "scatter",
           "x": [
            -1794.5999755859375,
            -198.63999938964844,
            816.3800048828125,
            -1841.6500244140625,
            -168.5399932861328,
            -1347.8199462890625
           ],
           "y": [
            -1892.7900390625,
            1429.4000244140625,
            -4560.8701171875,
            -4181.7998046875,
            737.469970703125,
            -2336.909912109375
           ]
          },
          {
           "marker": {
            "color": "black",
            "size": 10
           },
           "mode": "markers",
           "type": "scatter",
           "x": [
            -1722.4000244140625
           ],
           "y": [
            -2048.02001953125
           ]
          }
         ]
        },
        {
         "data": [
          {
           "marker": {
            "color": [
             "orange",
             "blue",
             "blue",
             "blue",
             "orange",
             "orange"
            ],
            "size": 10
           },
           "mode": "markers",
           "type": "scatter",
           "x": [
            -1765.239990234375,
            -122.76000213623047,
            816.3800048828125,
            -1841.6500244140625,
            -168.5399932861328,
            -1347.8199462890625
           ],
           "y": [
            -1959.050048828125,
            1391.0400390625,
            -4560.8701171875,
            -4181.7998046875,
            737.469970703125,
            -2336.909912109375
           ]
          },
          {
           "marker": {
            "color": "black",
            "size": 10
           },
           "mode": "markers",
           "type": "scatter",
           "x": [
            -1712.02001953125
           ],
           "y": [
            -2074.320068359375
           ]
          }
         ]
        },
        {
         "data": [
          {
           "marker": {
            "color": [
             "orange",
             "blue",
             "blue",
             "blue",
             "orange",
             "orange"
            ],
            "size": 10
           },
           "mode": "markers",
           "type": "scatter",
           "x": [
            -1765.239990234375,
            -122.76000213623047,
            742.5700073242188,
            -1720.3199462890625,
            -301.3399963378906,
            -1240.47998046875
           ],
           "y": [
            -1959.050048828125,
            1391.0400390625,
            -4606.02001953125,
            -4117.259765625,
            607.47998046875,
            -2299.050048828125
           ]
          },
          {
           "marker": {
            "color": "black",
            "size": 10
           },
           "mode": "markers",
           "type": "scatter",
           "x": [
            -1695.31005859375
           ],
           "y": [
            -2116.679931640625
           ]
          }
         ]
        },
        {
         "data": [
          {
           "marker": {
            "color": [
             "orange",
             "blue",
             "blue",
             "blue",
             "orange",
             "orange"
            ],
            "size": 10
           },
           "mode": "markers",
           "type": "scatter",
           "x": [
            -1715.489990234375,
            -122.76000213623047,
            742.5700073242188,
            -1720.3199462890625,
            -301.3399963378906,
            -1240.47998046875
           ],
           "y": [
            -2072.550048828125,
            1391.0400390625,
            -4606.02001953125,
            -4117.259765625,
            607.47998046875,
            -2299.050048828125
           ]
          },
          {
           "marker": {
            "color": "black",
            "size": 10
           },
           "mode": "markers",
           "type": "scatter",
           "x": [
            -1675.25
           ],
           "y": [
            -2165.610107421875
           ]
          }
         ]
        },
        {
         "data": [
          {
           "marker": {
            "color": [
             "orange",
             "blue",
             "blue",
             "blue",
             "orange",
             "orange"
            ],
            "size": 10
           },
           "mode": "markers",
           "type": "scatter",
           "x": [
            -1705.4000244140625,
            8.199999809265137,
            686.27001953125,
            -1623.9300537109375,
            -301.3399963378906,
            -1182.489990234375
           ],
           "y": [
            -2095.56005859375,
            1292.6700439453125,
            -4653.81982421875,
            -4043.60009765625,
            607.47998046875,
            -2265.419921875
           ]
          },
          {
           "marker": {
            "color": "black",
            "size": 10
           },
           "mode": "markers",
           "type": "scatter",
           "x": [
            -1660.219970703125
           ],
           "y": [
            -2202.27001953125
           ]
          }
         ]
        },
        {
         "data": [
          {
           "marker": {
            "color": [
             "orange",
             "blue",
             "blue",
             "blue",
             "orange",
             "orange"
            ],
            "size": 10
           },
           "mode": "markers",
           "type": "scatter",
           "x": [
            -1705.4000244140625,
            8.199999809265137,
            686.27001953125,
            -1604.530029296875,
            -406.3599853515625,
            -1166.77001953125
           ],
           "y": [
            -2095.56005859375,
            1292.6700439453125,
            -4653.81982421875,
            -4025.669921875,
            516.239990234375,
            -2254.340087890625
           ]
          },
          {
           "marker": {
            "color": "black",
            "size": 10
           },
           "mode": "markers",
           "type": "scatter",
           "x": [
            -1630.199951171875
           ],
           "y": [
            -2275.52001953125
           ]
          }
         ]
        },
        {
         "data": [
          {
           "marker": {
            "color": [
             "orange",
             "blue",
             "blue",
             "blue",
             "orange",
             "orange"
            ],
            "size": 10
           },
           "mode": "markers",
           "type": "scatter",
           "x": [
            -1647.93994140625,
            95.81999969482422,
            634.5499877929688,
            -1520.1700439453125,
            -524.8400268554688,
            -1094.56005859375
           ],
           "y": [
            -2226.64990234375,
            1194.5699462890625,
            -4713.16015625,
            -3930.52001953125,
            417.010009765625,
            -2190.139892578125
           ]
          },
          {
           "marker": {
            "color": "black",
            "size": 10
           },
           "mode": "markers",
           "type": "scatter",
           "x": [
            -1590.239990234375
           ],
           "y": [
            -2373
           ]
          }
         ]
        },
        {
         "data": [
          {
           "marker": {
            "color": [
             "orange",
             "blue",
             "blue",
             "blue",
             "orange",
             "orange"
            ],
            "size": 10
           },
           "mode": "markers",
           "type": "scatter",
           "x": [
            -1598.6600341796875,
            155.07000732421875,
            597.760009765625,
            -1520.1700439453125,
            -524.8400268554688,
            -1094.56005859375
           ],
           "y": [
            -2339.699951171875,
            1103.47998046875,
            -4760.56005859375,
            -3930.52001953125,
            417.010009765625,
            -2190.139892578125
           ]
          },
          {
           "marker": {
            "color": "black",
            "size": 10
           },
           "mode": "markers",
           "type": "scatter",
           "x": [
            -1570.2900390625
           ],
           "y": [
            -2421.669921875
           ]
          }
         ]
        },
        {
         "data": [
          {
           "marker": {
            "color": [
             "orange",
             "blue",
             "blue",
             "blue",
             "orange",
             "orange"
            ],
            "size": 10
           },
           "mode": "markers",
           "type": "scatter",
           "x": [
            -1587.4599609375,
            155.07000732421875,
            597.760009765625,
            -1458.47998046875,
            -655.739990234375,
            -1023.7000122070312
           ],
           "y": [
            -2365.56005859375,
            1103.47998046875,
            -4760.56005859375,
            -3833.31005859375,
            308.57000732421875,
            -2108
           ]
          },
          {
           "marker": {
            "color": "black",
            "size": 10
           },
           "mode": "markers",
           "type": "scatter",
           "x": [
            -1545.3900146484375
           ],
           "y": [
            -2482.43994140625
           ]
          }
         ]
        },
        {
         "data": [
          {
           "marker": {
            "color": [
             "orange",
             "blue",
             "blue",
             "blue",
             "orange",
             "orange"
            ],
            "size": 10
           },
           "mode": "markers",
           "type": "scatter",
           "x": [
            -1565.31005859375,
            155.07000732421875,
            556.260009765625,
            -1458.47998046875,
            -655.739990234375,
            -1023.7000122070312
           ],
           "y": [
            -2416.31005859375,
            1103.47998046875,
            -4809.35986328125,
            -3833.31005859375,
            308.57000732421875,
            -2108
           ]
          },
          {
           "marker": {
            "color": "black",
            "size": 10
           },
           "mode": "markers",
           "type": "scatter",
           "x": [
            -1535.4300537109375
           ],
           "y": [
            -2506.719970703125
           ]
          }
         ]
        },
        {
         "data": [
          {
           "marker": {
            "color": [
             "orange",
             "blue",
             "blue",
             "blue",
             "orange",
             "orange"
            ],
            "size": 10
           },
           "mode": "markers",
           "type": "scatter",
           "x": [
            -1565.31005859375,
            234.7100067138672,
            556.260009765625,
            -1410.8399658203125,
            -655.739990234375,
            -978.2899780273438
           ],
           "y": [
            -2416.31005859375,
            937.1699829101562,
            -4809.35986328125,
            -3749.179931640625,
            308.57000732421875,
            -2042.030029296875
           ]
          },
          {
           "marker": {
            "color": "black",
            "size": 10
           },
           "mode": "markers",
           "type": "scatter",
           "x": [
            -1495.6800537109375
           ],
           "y": [
            -2603.739990234375
           ]
          }
         ]
        },
        {
         "data": [
          {
           "marker": {
            "color": [
             "orange",
             "blue",
             "blue",
             "blue",
             "orange",
             "orange"
            ],
            "size": 10
           },
           "mode": "markers",
           "type": "scatter",
           "x": [
            -1492.8399658203125,
            234.7100067138672,
            502.260009765625,
            -1410.8399658203125,
            -793.3900146484375,
            -978.2899780273438
           ],
           "y": [
            -2582.300048828125,
            937.1699829101562,
            -4858.740234375,
            -3749.179931640625,
            185.1300048828125,
            -2042.030029296875
           ]
          },
          {
           "marker": {
            "color": "black",
            "size": 10
           },
           "mode": "markers",
           "type": "scatter",
           "x": [
            -1469.969970703125
           ],
           "y": [
            -2669.02001953125
           ]
          }
         ]
        },
        {
         "data": [
          {
           "marker": {
            "color": [
             "orange",
             "blue",
             "blue",
             "blue",
             "orange",
             "orange"
            ],
            "size": 10
           },
           "mode": "markers",
           "type": "scatter",
           "x": [
            -1492.8399658203125,
            296.3399963378906,
            502.260009765625,
            -1367.0999755859375,
            -793.3900146484375,
            -935.3699951171875
           ],
           "y": [
            -2582.300048828125,
            791.0399780273438,
            -4858.740234375,
            -3668.739990234375,
            185.1300048828125,
            -1961.72998046875
           ]
          },
          {
           "marker": {
            "color": "black",
            "size": 10
           },
           "mode": "markers",
           "type": "scatter",
           "x": [
            -1448.9300537109375
           ],
           "y": [
            -2723.27001953125
           ]
          }
         ]
        },
        {
         "data": [
          {
           "marker": {
            "color": [
             "orange",
             "blue",
             "blue",
             "blue",
             "orange",
             "orange"
            ],
            "size": 10
           },
           "mode": "markers",
           "type": "scatter",
           "x": [
            -1446.800048828125,
            296.3399963378906,
            460.8399963378906,
            -1367.0999755859375,
            -907.0599975585938,
            -935.3699951171875
           ],
           "y": [
            -2689.260009765625,
            791.0399780273438,
            -4885.93994140625,
            -3668.739990234375,
            64.51000213623047,
            -1961.72998046875
           ]
          },
          {
           "marker": {
            "color": "black",
            "size": 10
           },
           "mode": "markers",
           "type": "scatter",
           "x": [
            -1417.4000244140625
           ],
           "y": [
            -2804.5400390625
           ]
          }
         ]
        },
        {
         "data": [
          {
           "marker": {
            "color": [
             "orange",
             "blue",
             "blue",
             "blue",
             "orange",
             "orange"
            ],
            "size": 10
           },
           "mode": "markers",
           "type": "scatter",
           "x": [
            -1446.800048828125,
            367.9700012207031,
            460.8399963378906,
            -1318.5999755859375,
            -984.1199951171875,
            -901.1699829101562
           ],
           "y": [
            -2689.260009765625,
            613.739990234375,
            -4885.93994140625,
            -3573.97998046875,
            -24.649999618530273,
            -1865.6800537109375
           ]
          },
          {
           "marker": {
            "color": "black",
            "size": 10
           },
           "mode": "markers",
           "type": "scatter",
           "x": [
            -1396.4000244140625
           ],
           "y": [
            -2858.64990234375
           ]
          }
         ]
        },
        {
         "data": [
          {
           "marker": {
            "color": [
             "orange",
             "blue",
             "blue",
             "blue",
             "orange",
             "orange"
            ],
            "size": 10
           },
           "mode": "markers",
           "type": "scatter",
           "x": [
            -1387.77001953125,
            432.1400146484375,
            407.2300109863281,
            -1318.5999755859375,
            -1003.219970703125,
            -884.4199829101562
           ],
           "y": [
            -2828.449951171875,
            454.0899963378906,
            -4909.93994140625,
            -3573.97998046875,
            -46.95000076293945,
            -1775.260009765625
           ]
          },
          {
           "marker": {
            "color": "black",
            "size": 10
           },
           "mode": "markers",
           "type": "scatter",
           "x": [
            -1359.7099609375
           ],
           "y": [
            -2953.2099609375
           ]
          }
         ]
        },
        {
         "data": [
          {
           "marker": {
            "color": [
             "orange",
             "blue",
             "blue",
             "blue",
             "orange",
             "orange"
            ],
            "size": 10
           },
           "mode": "markers",
           "type": "scatter",
           "x": [
            -1387.77001953125,
            432.1400146484375,
            407.2300109863281,
            -1267.18994140625,
            -1070.06005859375,
            -884.4199829101562
           ],
           "y": [
            -2828.449951171875,
            454.0899963378906,
            -4909.93994140625,
            -3467.739990234375,
            -125.01000213623047,
            -1775.260009765625
           ]
          },
          {
           "marker": {
            "color": "black",
            "size": 10
           },
           "mode": "markers",
           "type": "scatter",
           "x": [
            -1338.780029296875
           ],
           "y": [
            -3007.159912109375
           ]
          }
         ]
        },
        {
         "data": [
          {
           "marker": {
            "color": [
             "orange",
             "blue",
             "blue",
             "blue",
             "orange",
             "orange"
            ],
            "size": 10
           },
           "mode": "markers",
           "type": "scatter",
           "x": [
            -1333.18994140625,
            503.42999267578125,
            356.8399963378906,
            -1258.1400146484375,
            -1089.1400146484375,
            -881.9400024414062
           ],
           "y": [
            -2959.14990234375,
            276.69000244140625,
            -4927.240234375,
            -3447.580078125,
            -147.32000732421875,
            -1674.1800537109375
           ]
          },
          {
           "marker": {
            "color": "black",
            "size": 10
           },
           "mode": "markers",
           "type": "scatter",
           "x": [
            -1317.8599853515625
           ],
           "y": [
            -3061.06005859375
           ]
          }
         ]
        },
        {
         "data": [
          {
           "marker": {
            "color": [
             "orange",
             "blue",
             "blue",
             "blue",
             "orange",
             "orange"
            ],
            "size": 10
           },
           "mode": "markers",
           "type": "scatter",
           "x": [
            -1333.18994140625,
            517.6699829101562,
            356.8399963378906,
            -1223.1099853515625,
            -1089.1400146484375,
            -883.9299926757812
           ],
           "y": [
            -2959.14990234375,
            241.22000122070312,
            -4927.240234375,
            -3364.5400390625,
            -147.32000732421875,
            -1654.2900390625
           ]
          },
          {
           "marker": {
            "color": "black",
            "size": 10
           },
           "mode": "markers",
           "type": "scatter",
           "x": [
            -1297.77001953125
           ],
           "y": [
            -3116.5
           ]
          }
         ]
        },
        {
         "data": [
          {
           "marker": {
            "color": [
             "orange",
             "blue",
             "blue",
             "blue",
             "orange",
             "orange"
            ],
            "size": 10
           },
           "mode": "markers",
           "type": "scatter",
           "x": [
            -1270.56005859375,
            567.510009765625,
            285.1099853515625,
            -1214.5899658203125,
            -1181.3199462890625,
            -883.9299926757812
           ],
           "y": [
            -3110.06005859375,
            117.18000030517578,
            -4947.60009765625,
            -3343.35009765625,
            -261.25,
            -1654.2900390625
           ]
          },
          {
           "marker": {
            "color": "black",
            "size": 10
           },
           "mode": "markers",
           "type": "scatter",
           "x": [
            -1264.469970703125
           ],
           "y": [
            -3219.090087890625
           ]
          }
         ]
        },
        {
         "data": [
          {
           "marker": {
            "color": [
             "orange",
             "blue",
             "blue",
             "blue",
             "orange",
             "orange"
            ],
            "size": 10
           },
           "mode": "markers",
           "type": "scatter",
           "x": [
            -1212.4599609375,
            567.510009765625,
            285.1099853515625,
            -1184.77001953125,
            -1255.6199951171875,
            -911.6199951171875
           ],
           "y": [
            -3250.93994140625,
            117.18000030517578,
            -4947.60009765625,
            -3269.2099609375,
            -369.4800109863281,
            -1550.1600341796875
           ]
          },
          {
           "marker": {
            "color": "black",
            "size": 10
           },
           "mode": "markers",
           "type": "scatter",
           "x": [
            -1235.969970703125
           ],
           "y": [
            -3306.8798828125
           ]
          }
         ]
        },
        {
         "data": [
          {
           "marker": {
            "color": [
             "orange",
             "blue",
             "blue",
             "blue",
             "orange",
             "orange"
            ],
            "size": 10
           },
           "mode": "markers",
           "type": "scatter",
           "x": [
            -1212.4599609375,
            652.8699951171875,
            230.05999755859375,
            -1184.77001953125,
            -1255.6199951171875,
            -911.6199951171875
           ],
           "y": [
            -3250.93994140625,
            -95.0199966430664,
            -4961.4501953125,
            -3269.2099609375,
            -369.4800109863281,
            -1550.1600341796875
           ]
          },
          {
           "marker": {
            "color": "black",
            "size": 10
           },
           "mode": "markers",
           "type": "scatter",
           "x": [
            -1217.010009765625
           ],
           "y": [
            -3365.330078125
           ]
          }
         ]
        },
        {
         "data": [
          {
           "marker": {
            "color": [
             "orange",
             "blue",
             "blue",
             "blue",
             "orange",
             "orange"
            ],
            "size": 10
           },
           "mode": "markers",
           "type": "scatter",
           "x": [
            -1132.6700439453125,
            652.8699951171875,
            185.1999969482422,
            -1133.6199951171875,
            -1342.1199951171875,
            -972.7100219726562
           ],
           "y": [
            -3445.02001953125,
            -95.0199966430664,
            -4971.93017578125,
            -3142.050048828125,
            -520.9199829101562,
            -1452.8699951171875
           ]
          },
          {
           "marker": {
            "color": "black",
            "size": 10
           },
           "mode": "markers",
           "type": "scatter",
           "x": [
            -1179.1300048828125
           ],
           "y": [
            -3482.050048828125
           ]
          }
         ]
        },
        {
         "data": [
          {
           "marker": {
            "color": [
             "orange",
             "blue",
             "blue",
             "blue",
             "orange",
             "orange"
            ],
            "size": 10
           },
           "mode": "markers",
           "type": "scatter",
           "x": [
            -1132.6700439453125,
            716.7899780273438,
            185.1999969482422,
            -1133.6199951171875,
            -1342.1199951171875,
            -972.7100219726562
           ],
           "y": [
            -3445.02001953125,
            -253.7899932861328,
            -4971.93017578125,
            -3142.050048828125,
            -520.9199829101562,
            -1452.8699951171875
           ]
          },
          {
           "marker": {
            "color": "black",
            "size": 10
           },
           "mode": "markers",
           "type": "scatter",
           "x": [
            -1164.93994140625
           ],
           "y": [
            -3525.760009765625
           ]
          }
         ]
        },
        {
         "data": [
          {
           "marker": {
            "color": [
             "orange",
             "blue",
             "blue",
             "blue",
             "orange",
             "orange"
            ],
            "size": 10
           },
           "mode": "markers",
           "type": "scatter",
           "x": [
            -1072.4599609375,
            730.989990234375,
            134.8000030517578,
            -1086.4200439453125,
            -1398.1300048828125,
            -1020.3599853515625
           ],
           "y": [
            -3592.080078125,
            -289.0299987792969,
            -4983.72021484375,
            -3025.800048828125,
            -638.5800170898438,
            -1405.9100341796875
           ]
          },
          {
           "marker": {
            "color": "black",
            "size": 10
           },
           "mode": "markers",
           "type": "scatter",
           "x": [
            -1136.6099853515625
           ],
           "y": [
            -3613.070068359375
           ]
          }
         ]
        },
        {
         "data": [
          {
           "marker": {
            "color": [
             "orange",
             "blue",
             "blue",
             "blue",
             "orange",
             "orange"
            ],
            "size": 10
           },
           "mode": "markers",
           "type": "scatter",
           "x": [
            -1072.4599609375,
            787.7899780273438,
            123.63999938964844,
            -1086.4200439453125,
            -1398.1300048828125,
            -1020.3599853515625
           ],
           "y": [
            -3592.080078125,
            -429.92999267578125,
            -4986.33984375,
            -3025.800048828125,
            -638.5800170898438,
            -1405.9100341796875
           ]
          },
          {
           "marker": {
            "color": "black",
            "size": 10
           },
           "mode": "markers",
           "type": "scatter",
           "x": [
            -1127.1700439453125
           ],
           "y": [
            -3642.14990234375
           ]
          }
         ]
        },
        {
         "data": [
          {
           "marker": {
            "color": [
             "orange",
             "blue",
             "blue",
             "blue",
             "orange",
             "orange"
            ],
            "size": 10
           },
           "mode": "markers",
           "type": "scatter",
           "x": [
            -1005.5599975585938,
            787.7899780273438,
            123.63999938964844,
            -1051.8299560546875,
            -1438.9599609375,
            -1099.4000244140625
           ],
           "y": [
            -3755.47998046875,
            -429.92999267578125,
            -4986.33984375,
            -2941.449951171875,
            -747.3900146484375,
            -1351.989990234375
           ]
          },
          {
           "marker": {
            "color": "black",
            "size": 10
           },
           "mode": "markers",
           "type": "scatter",
           "x": [
            -1089.47998046875
           ],
           "y": [
            -3758.300048828125
           ]
          }
         ]
        },
        {
         "data": [
          {
           "marker": {
            "color": [
             "orange",
             "blue",
             "blue",
             "blue",
             "orange",
             "orange"
            ],
            "size": 10
           },
           "mode": "markers",
           "type": "scatter",
           "x": [
            -992.1799926757812,
            865.8900146484375,
            58.4900016784668,
            -1051.8299560546875,
            -1438.9599609375,
            -1177.5699462890625
           ],
           "y": [
            -3788.159912109375,
            -623.5499877929688,
            -5001.7900390625,
            -2941.449951171875,
            -747.3900146484375,
            -1316.5
           ]
          },
          {
           "marker": {
            "color": "black",
            "size": 10
           },
           "mode": "markers",
           "type": "scatter",
           "x": [
            -1070.6700439453125
           ],
           "y": [
            -3816.280029296875
           ]
          }
         ]
        },
        {
         "data": [
          {
           "marker": {
            "color": [
             "orange",
             "blue",
             "blue",
             "blue",
             "orange",
             "orange"
            ],
            "size": 10
           },
           "mode": "markers",
           "type": "scatter",
           "x": [
            -931.969970703125,
            865.8900146484375,
            21.920000076293945,
            -1003.8699951171875,
            -1477.010009765625,
            -1177.5699462890625
           ],
           "y": [
            -3935.219970703125,
            -623.5499877929688,
            -5010.41015625,
            -2825.679931640625,
            -907.97998046875,
            -1316.5
           ]
          },
          {
           "marker": {
            "color": "black",
            "size": 10
           },
           "mode": "markers",
           "type": "scatter",
           "x": [
            -1037.7900390625
           ],
           "y": [
            -3917.610107421875
           ]
          }
         ]
        },
        {
         "data": [
          {
           "marker": {
            "color": [
             "orange",
             "blue",
             "blue",
             "blue",
             "orange",
             "orange"
            ],
            "size": 10
           },
           "mode": "markers",
           "type": "scatter",
           "x": [
            -931.969970703125,
            936.8900146484375,
            10.859999656677246,
            -1003.8699951171875,
            -1477.010009765625,
            -1177.5699462890625
           ],
           "y": [
            -3935.219970703125,
            -799.6900024414062,
            -5012.89013671875,
            -2825.679931640625,
            -907.97998046875,
            -1316.5
           ]
          },
          {
           "marker": {
            "color": "black",
            "size": 10
           },
           "mode": "markers",
           "type": "scatter",
           "x": [
            -1019.030029296875
           ],
           "y": [
            -3975.429931640625
           ]
          }
         ]
        },
        {
         "data": [
          {
           "marker": {
            "color": [
             "orange",
             "blue",
             "blue",
             "blue",
             "orange",
             "orange"
            ],
            "size": 10
           },
           "mode": "markers",
           "type": "scatter",
           "x": [
            -878.4500122070312,
            936.8900146484375,
            -35.959999084472656,
            -959.8499755859375,
            -1490.239990234375,
            -1306.31005859375
           ],
           "y": [
            -4065.93994140625,
            -799.6900024414062,
            -5022.68994140625,
            -2720.47998046875,
            -1062.25,
            -1293.97998046875
           ]
          },
          {
           "marker": {
            "color": "black",
            "size": 10
           },
           "mode": "markers",
           "type": "scatter",
           "x": [
            -990.9299926757812
           ],
           "y": [
            -4062.06005859375
           ]
          }
         ]
        },
        {
         "data": [
          {
           "marker": {
            "color": [
             "orange",
             "blue",
             "blue",
             "blue",
             "orange",
             "orange"
            ],
            "size": 10
           },
           "mode": "markers",
           "type": "scatter",
           "x": [
            -878.4500122070312,
            1007.8900146484375,
            -35.959999084472656,
            -959.8499755859375,
            -1493.31005859375,
            -1379.699951171875
           ],
           "y": [
            -4065.93994140625,
            -976.0499877929688,
            -5022.68994140625,
            -2720.47998046875,
            -1183.010009765625,
            -1301.9100341796875
           ]
          },
          {
           "marker": {
            "color": "black",
            "size": 10
           },
           "mode": "markers",
           "type": "scatter",
           "x": [
            -972.2100219726562
           ],
           "y": [
            -4119.72998046875
           ]
          }
         ]
        },
        {
         "data": [
          {
           "marker": {
            "color": [
             "orange",
             "blue",
             "blue",
             "blue",
             "orange",
             "orange"
            ],
            "size": 10
           },
           "mode": "markers",
           "type": "scatter",
           "x": [
            -818.239990234375,
            1007.8900146484375,
            -106.33000183105469,
            -919.9000244140625,
            -1493.31005859375,
            -1379.699951171875
           ],
           "y": [
            -4213,
            -976.0499877929688,
            -5035.16015625,
            -2625.72998046875,
            -1183.010009765625,
            -1301.9100341796875
           ]
          },
          {
           "marker": {
            "color": "black",
            "size": 10
           },
           "mode": "markers",
           "type": "scatter",
           "x": [
            -939.52001953125
           ],
           "y": [
            -4220.52001953125
           ]
          }
         ]
        },
        {
         "data": [
          {
           "marker": {
            "color": [
             "orange",
             "blue",
             "blue",
             "blue",
             "orange",
             "orange"
            ],
            "size": 10
           },
           "mode": "markers",
           "type": "scatter",
           "x": [
            -751.3400268554688,
            1086.06005859375,
            -106.33000183105469,
            -875.219970703125,
            -1547.7900390625,
            -1457.1600341796875
           ],
           "y": [
            -4376.39990234375,
            -1170.3800048828125,
            -5035.16015625,
            -2520.2099609375,
            -1301.4200439453125,
            -1402.3599853515625
           ]
          },
          {
           "marker": {
            "color": "black",
            "size": 10
           },
           "mode": "markers",
           "type": "scatter",
           "x": [
            -911.5499877929688
           ],
           "y": [
            -4306.77001953125
           ]
          }
         ]
        },
        {
         "data": [
          {
           "marker": {
            "color": [
             "orange",
             "blue",
             "blue",
             "blue",
             "orange",
             "orange"
            ],
            "size": 10
           },
           "mode": "markers",
           "type": "scatter",
           "x": [
            -751.3400268554688,
            1086.06005859375,
            -174.47999572753906,
            -875.219970703125,
            -1547.7900390625,
            -1457.1600341796875
           ],
           "y": [
            -4376.39990234375,
            -1170.3800048828125,
            -5044.39013671875,
            -2520.2099609375,
            -1301.4200439453125,
            -1402.3599853515625
           ]
          },
          {
           "marker": {
            "color": "black",
            "size": 10
           },
           "mode": "markers",
           "type": "scatter",
           "x": [
            -892.9199829101562
           ],
           "y": [
            -4364.18994140625
           ]
          }
         ]
        },
        {
         "data": [
          {
           "marker": {
            "color": [
             "orange",
             "blue",
             "blue",
             "blue",
             "orange",
             "orange"
            ],
            "size": 10
           },
           "mode": "markers",
           "type": "scatter",
           "x": [
            -751.3400268554688,
            1155.3199462890625,
            -174.47999572753906,
            -875.219970703125,
            -1547.7900390625,
            -1457.1600341796875
           ],
           "y": [
            -4376.39990234375,
            -1347.4599609375,
            -5044.39013671875,
            -2520.2099609375,
            -1301.4200439453125,
            -1402.3599853515625
           ]
          },
          {
           "marker": {
            "color": "black",
            "size": 10
           },
           "mode": "markers",
           "type": "scatter",
           "x": [
            -874.3200073242188
           ],
           "y": [
            -4421.56005859375
           ]
          }
         ]
        },
        {
         "data": [
          {
           "marker": {
            "color": [
             "orange",
             "blue",
             "blue",
             "blue",
             "orange",
             "orange"
            ],
            "size": 10
           },
           "mode": "markers",
           "type": "scatter",
           "x": [
            -676.3300170898438,
            1167.0799560546875,
            -174.47999572753906,
            -825.8699951171875,
            -1585.0799560546875,
            -1588.27001953125
           ],
           "y": [
            -4555.77001953125,
            -1383.030029296875,
            -5044.39013671875,
            -2403.719970703125,
            -1394.449951171875,
            -1565.699951171875
           ]
          },
          {
           "marker": {
            "color": "black",
            "size": 10
           },
           "mode": "markers",
           "type": "scatter",
           "x": [
            -860.3699951171875
           ],
           "y": [
            -4464.5498046875
           ]
          }
         ]
        },
        {
         "data": [
          {
           "marker": {
            "color": [
             "orange",
             "blue",
             "blue",
             "blue",
             "orange",
             "orange"
            ],
            "size": 10
           },
           "mode": "markers",
           "type": "scatter",
           "x": [
            -676.3300170898438,
            1202.25,
            -237.0500030517578,
            -825.8699951171875,
            -1585.0799560546875,
            -1588.27001953125
           ],
           "y": [
            -4555.77001953125,
            -1508.31005859375,
            -5050.2900390625,
            -2403.719970703125,
            -1394.449951171875,
            -1565.699951171875
           ]
          },
          {
           "marker": {
            "color": "black",
            "size": 10
           },
           "mode": "markers",
           "type": "scatter",
           "x": [
            -832.530029296875
           ],
           "y": [
            -4550.419921875
           ]
          }
         ]
        },
        {
         "data": [
          {
           "marker": {
            "color": [
             "orange",
             "blue",
             "blue",
             "blue",
             "orange",
             "orange"
            ],
            "size": 10
           },
           "mode": "markers",
           "type": "scatter",
           "x": [
            -601.4500122070312,
            1202.25,
            -305.8500061035156,
            -780.969970703125,
            -1618.6300048828125,
            -1686.02001953125
           ],
           "y": [
            -4717.2998046875,
            -1508.31005859375,
            -5053.5400390625,
            -2297.719970703125,
            -1472.43994140625,
            -1694.6199951171875
           ]
          },
          {
           "marker": {
            "color": "black",
            "size": 10
           },
           "mode": "markers",
           "type": "scatter",
           "x": [
            -804.72998046875
           ],
           "y": [
            -4636.16015625
           ]
          }
         ]
        },
        {
         "data": [
          {
           "marker": {
            "color": [
             "orange",
             "blue",
             "blue",
             "blue",
             "orange",
             "orange"
            ],
            "size": 10
           },
           "mode": "markers",
           "type": "scatter",
           "x": [
            -601.4500122070312,
            1246.5699462890625,
            -319.3900146484375,
            -780.969970703125,
            -1618.6300048828125,
            -1686.02001953125
           ],
           "y": [
            -4717.2998046875,
            -1688.06005859375,
            -5053.72021484375,
            -2297.719970703125,
            -1472.43994140625,
            -1694.6199951171875
           ]
          },
          {
           "marker": {
            "color": "black",
            "size": 10
           },
           "mode": "markers",
           "type": "scatter",
           "x": [
            -786.2100219726562
           ],
           "y": [
            -4693.25
           ]
          }
         ]
        },
        {
         "data": [
          {
           "marker": {
            "color": [
             "orange",
             "blue",
             "blue",
             "blue",
             "orange",
             "orange"
            ],
            "size": 10
           },
           "mode": "markers",
           "type": "scatter",
           "x": [
            -536.4500122070312,
            1246.5699462890625,
            -319.3900146484375,
            -731.5800170898438,
            -1648.6199951171875,
            -1774.3299560546875
           ],
           "y": [
            -4845.60009765625,
            -1688.06005859375,
            -5053.72021484375,
            -2181.1201171875,
            -1533.18994140625,
            -1810.8599853515625
           ]
          },
          {
           "marker": {
            "color": "black",
            "size": 10
           },
           "mode": "markers",
           "type": "scatter",
           "x": [
            -772.3499755859375
           ],
           "y": [
            -4736.02978515625
           ]
          }
         ]
        },
        {
         "data": [
          {
           "marker": {
            "color": [
             "orange",
             "blue",
             "blue",
             "blue",
             "orange",
             "orange"
            ],
            "size": 10
           },
           "mode": "markers",
           "type": "scatter",
           "x": [
            -536.4500122070312,
            1283.219970703125,
            -392.0899963378906,
            -722.5999755859375,
            -1687.010009765625,
            -1774.3299560546875
           ],
           "y": [
            -4845.60009765625,
            -1887.6300048828125,
            -5051.419921875,
            -2159.919921875,
            -1598.8499755859375,
            -1810.8599853515625
           ]
          },
          {
           "marker": {
            "color": "black",
            "size": 10
           },
           "mode": "markers",
           "type": "scatter",
           "x": [
            -735.4099731445312
           ],
           "y": [
            -4849.93994140625
           ]
          }
         ]
        },
        {
         "data": [
          {
           "marker": {
            "color": [
             "orange",
             "blue",
             "blue",
             "blue",
             "orange",
             "orange"
            ],
            "size": 10
           },
           "mode": "markers",
           "type": "scatter",
           "x": [
            -440.6300048828125,
            1287.260009765625,
            -392.0899963378906,
            -722.5999755859375,
            -1696.2900390625,
            -1872.8499755859375
           ],
           "y": [
            -5021.77978515625,
            -1924.1400146484375,
            -5051.419921875,
            -2159.919921875,
            -1613.239990234375,
            -1940.199951171875
           ]
          },
          {
           "marker": {
            "color": "black",
            "size": 10
           },
           "mode": "markers",
           "type": "scatter",
           "x": [
            -726.1900024414062
           ],
           "y": [
            -4878.3798828125
           ]
          }
         ]
        },
        {
         "data": [
          {
           "marker": {
            "color": [
             "orange",
             "blue",
             "blue",
             "blue",
             "orange",
             "orange"
            ],
            "size": 10
           },
           "mode": "markers",
           "type": "scatter",
           "x": [
            -440.6300048828125,
            1293.3399658203125,
            -406.2799987792969,
            -668.719970703125,
            -1734.5999755859375,
            -1872.8499755859375
           ],
           "y": [
            -5021.77978515625,
            -2070.090087890625,
            -5123.8701171875,
            -2032.719970703125,
            -1671.5,
            -1940.199951171875
           ]
          },
          {
           "marker": {
            "color": "black",
            "size": 10
           },
           "mode": "markers",
           "type": "scatter",
           "x": [
            -689.3499755859375
           ],
           "y": [
            -4991.990234375
           ]
          }
         ]
        },
        {
         "data": [
          {
           "marker": {
            "color": [
             "orange",
             "blue",
             "blue",
             "blue",
             "orange",
             "orange"
            ],
            "size": 10
           },
           "mode": "markers",
           "type": "scatter",
           "x": [
            -358,
            1293.3399658203125,
            -396.5,
            -668.719970703125,
            -1734.5999755859375,
            -1981.719970703125
           ],
           "y": [
            -5120.68994140625,
            -2070.090087890625,
            -5206.1298828125,
            -2032.719970703125,
            -1671.5,
            -2082.659912109375
           ]
          },
          {
           "marker": {
            "color": "black",
            "size": 10
           },
           "mode": "markers",
           "type": "scatter",
           "x": [
            -668.4500122070312
           ],
           "y": [
            -5012.89990234375
           ]
          }
         ]
        },
        {
         "data": [
          {
           "marker": {
            "color": [
             "orange",
             "blue",
             "blue",
             "blue",
             "orange",
             "orange"
            ],
            "size": 10
           },
           "mode": "markers",
           "type": "scatter",
           "x": [
            -297.7900085449219,
            1273.199951171875,
            -393.5400085449219,
            -628.3099975585938,
            -1782.56005859375,
            -2061.219970703125
           ],
           "y": [
            -5117.56982421875,
            -2267.260009765625,
            -5229.02001953125,
            -1937.1199951171875,
            -1757.6700439453125,
            -2186.3798828125
           ]
          },
          {
           "marker": {
            "color": "black",
            "size": 10
           },
           "mode": "markers",
           "type": "scatter",
           "x": [
            -647.1500244140625
           ],
           "y": [
            -4961.93017578125
           ]
          }
         ]
        },
        {
         "data": [
          {
           "marker": {
            "color": [
             "orange",
             "blue",
             "blue",
             "blue",
             "orange",
             "orange"
            ],
            "size": 10
           },
           "mode": "markers",
           "type": "scatter",
           "x": [
            -297.7900085449219,
            1273.199951171875,
            -390.57000732421875,
            -583.3300170898438,
            -1782.56005859375,
            -2061.219970703125
           ],
           "y": [
            -5117.56982421875,
            -2267.260009765625,
            -5326.68017578125,
            -1830.530029296875,
            -1757.6700439453125,
            -2186.3798828125
           ]
          },
          {
           "marker": {
            "color": "black",
            "size": 10
           },
           "mode": "markers",
           "type": "scatter",
           "x": [
            -625.9000244140625
           ],
           "y": [
            -4911.02978515625
           ]
          }
         ]
        },
        {
         "data": [
          {
           "marker": {
            "color": [
             "orange",
             "blue",
             "blue",
             "blue",
             "orange",
             "orange"
            ],
            "size": 10
           },
           "mode": "markers",
           "type": "scatter",
           "x": [
            -216.47000122070312,
            1225.760009765625,
            -390.57000732421875,
            -583.3300170898438,
            -1814.8499755859375,
            -2160.97998046875
           ],
           "y": [
            -5120.080078125,
            -2438.169921875,
            -5326.68017578125,
            -1830.530029296875,
            -1842.3399658203125,
            -2316.179931640625
           ]
          },
          {
           "marker": {
            "color": "black",
            "size": 10
           },
           "mode": "markers",
           "type": "scatter",
           "x": [
            -611.739990234375
           ],
           "y": [
            -4877.14990234375
           ]
          }
         ]
        },
        {
         "data": [
          {
           "marker": {
            "color": [
             "orange",
             "blue",
             "blue",
             "blue",
             "orange",
             "orange"
            ],
            "size": 10
           },
           "mode": "markers",
           "type": "scatter",
           "x": [
            -216.47000122070312,
            1225.760009765625,
            -403.6700134277344,
            -542.72998046875,
            -1814.8499755859375,
            -2160.97998046875
           ],
           "y": [
            -5120.080078125,
            -2438.169921875,
            -5376.7900390625,
            -1734.280029296875,
            -1842.3399658203125,
            -2316.179931640625
           ]
          },
          {
           "marker": {
            "color": "black",
            "size": 10
           },
           "mode": "markers",
           "type": "scatter",
           "x": [
            -594.0700073242188
           ],
           "y": [
            -4834.83984375
           ]
          }
         ]
        },
        {
         "data": [
          {
           "marker": {
            "color": [
             "orange",
             "blue",
             "blue",
             "blue",
             "orange",
             "orange"
            ],
            "size": 10
           },
           "mode": "markers",
           "type": "scatter",
           "x": [
            -137.2100067138672,
            1160.52001953125,
            -403.6700134277344,
            -542.72998046875,
            -1829.4599609375,
            -2160.97998046875
           ],
           "y": [
            -5124.419921875,
            -2581.280029296875,
            -5376.7900390625,
            -1734.280029296875,
            -1924.9200439453125,
            -2316.179931640625
           ]
          },
          {
           "marker": {
            "color": "black",
            "size": 10
           },
           "mode": "markers",
           "type": "scatter",
           "x": [
            -579.9500122070312
           ],
           "y": [
            -4801.02978515625
           ]
          }
         ]
        },
        {
         "data": [
          {
           "marker": {
            "color": [
             "orange",
             "blue",
             "blue",
             "blue",
             "orange",
             "orange"
            ],
            "size": 10
           },
           "mode": "markers",
           "type": "scatter",
           "x": [
            -118.86000061035156,
            1160.52001953125,
            -413.80999755859375,
            -497.5299987792969,
            -1829.4599609375,
            -2299.22998046875
           ],
           "y": [
            -5125.419921875,
            -2581.280029296875,
            -5396.93017578125,
            -1627.1800537109375,
            -1924.9200439453125,
            -2470.989990234375
           ]
          },
          {
           "marker": {
            "color": "black",
            "size": 10
           },
           "mode": "markers",
           "type": "scatter",
           "x": [
            -558.7899780273438
           ],
           "y": [
            -4750.3798828125
           ]
          }
         ]
        },
        {
         "data": [
          {
           "marker": {
            "color": [
             "orange",
             "blue",
             "blue",
             "blue",
             "orange",
             "orange"
            ],
            "size": 10
           },
           "mode": "markers",
           "type": "scatter",
           "x": [
            -27.059999465942383,
            1086.1600341796875,
            -413.80999755859375,
            -497.5299987792969,
            -1826.7900390625,
            -2299.22998046875
           ],
           "y": [
            -5130.419921875,
            -2697.419921875,
            -5396.93017578125,
            -1627.1800537109375,
            -2002.8399658203125,
            -2470.989990234375
           ]
          },
          {
           "marker": {
            "color": "black",
            "size": 10
           },
           "mode": "markers",
           "type": "scatter",
           "x": [
            -537.6699829101562
           ],
           "y": [
            -4699.81982421875
           ]
          }
         ]
        },
        {
         "data": [
          {
           "marker": {
            "color": [
             "orange",
             "blue",
             "blue",
             "blue",
             "orange",
             "orange"
            ],
            "size": 10
           },
           "mode": "markers",
           "type": "scatter",
           "x": [
            -27.059999465942383,
            988.4199829101562,
            -412.20001220703125,
            -447.80999755859375,
            -1803.739990234375,
            -2396.3798828125
           ],
           "y": [
            -5130.419921875,
            -2816.1201171875,
            -5399.58984375,
            -1509.3699951171875,
            -2091.409912109375,
            -2574.409912109375
           ]
          },
          {
           "marker": {
            "color": "black",
            "size": 10
           },
           "mode": "markers",
           "type": "scatter",
           "x": [
            -520.0999755859375
           ],
           "y": [
            -4657.740234375
           ]
          }
         ]
        },
        {
         "data": [
          {
           "marker": {
            "color": [
             "orange",
             "blue",
             "blue",
             "blue",
             "orange",
             "orange"
            ],
            "size": 10
           },
           "mode": "markers",
           "type": "scatter",
           "x": [
            73.91999816894531,
            966.0499877929688,
            -412.20001220703125,
            -447.80999755859375,
            -1795.75,
            -2503.010009765625
           ],
           "y": [
            -5135.919921875,
            -2841.929931640625,
            -5399.58984375,
            -1509.3699951171875,
            -2110.81005859375,
            -2689.9599609375
           ]
          },
          {
           "marker": {
            "color": "black",
            "size": 10
           },
           "mode": "markers",
           "type": "scatter",
           "x": [
            -499.0400085449219
           ],
           "y": [
            -4607.31005859375
           ]
          }
         ]
        },
        {
         "data": [
          {
           "marker": {
            "color": [
             "orange",
             "blue",
             "blue",
             "blue",
             "orange",
             "orange"
            ],
            "size": 10
           },
           "mode": "markers",
           "type": "scatter",
           "x": [
            73.91999816894531,
            854.0399780273438,
            -409.8500061035156,
            -393.57000732421875,
            -1741.4000244140625,
            -2525.1201171875
           ],
           "y": [
            -5135.919921875,
            -2971.1201171875,
            -5399.2998046875,
            -1380.8499755859375,
            -2204.39990234375,
            -2712.25
           ]
          },
          {
           "marker": {
            "color": "black",
            "size": 10
           },
           "mode": "markers",
           "type": "scatter",
           "x": [
            -478.0199890136719
           ],
           "y": [
            -4556.9599609375
           ]
          }
         ]
        },
        {
         "data": [
          {
           "marker": {
            "color": [
             "orange",
             "blue",
             "blue",
             "blue",
             "orange",
             "orange"
            ],
            "size": 10
           },
           "mode": "markers",
           "type": "scatter",
           "x": [
            165.72000122070312,
            854.0399780273438,
            -406.6600036621094,
            -393.57000732421875,
            -1741.4000244140625,
            -2617.919921875
           ],
           "y": [
            -5140.919921875,
            -2971.1201171875,
            -5398.35009765625,
            -1380.8499755859375,
            -2204.39990234375,
            -2796.090087890625
           ]
          },
          {
           "marker": {
            "color": "black",
            "size": 10
           },
           "mode": "markers",
           "type": "scatter",
           "x": [
            -460.5199890136719
           ],
           "y": [
            -4515.06982421875
           ]
          }
         ]
        },
        {
         "data": [
          {
           "marker": {
            "color": [
             "orange",
             "blue",
             "blue",
             "blue",
             "orange",
             "orange"
            ],
            "size": 10
           },
           "mode": "markers",
           "type": "scatter",
           "x": [
            165.72000122070312,
            775.5800170898438,
            -406.6600036621094,
            -361.92999267578125,
            -1690.18994140625,
            -2617.919921875
           ],
           "y": [
            -5140.919921875,
            -3061.52001953125,
            -5398.35009765625,
            -1305.8800048828125,
            -2265.010009765625,
            -2796.090087890625
           ]
          },
          {
           "marker": {
            "color": "black",
            "size": 10
           },
           "mode": "markers",
           "type": "scatter",
           "x": [
            -439.55999755859375
           ],
           "y": [
            -4464.8701171875
           ]
          }
         ]
        },
        {
         "data": [
          {
           "marker": {
            "color": [
             "orange",
             "blue",
             "blue",
             "blue",
             "orange",
             "orange"
            ],
            "size": 10
           },
           "mode": "markers",
           "type": "scatter",
           "x": [
            248.33999633789062,
            659.3400268554688,
            -402.70001220703125,
            -361.92999267578125,
            -1601.47998046875,
            -2757.639892578125
           ],
           "y": [
            -5145.419921875,
            -3193.31005859375,
            -5397.25,
            -1305.8800048828125,
            -2340.669921875,
            -2893.110107421875
           ]
          },
          {
           "marker": {
            "color": "black",
            "size": 10
           },
           "mode": "markers",
           "type": "scatter",
           "x": [
            -425.6000061035156
           ],
           "y": [
            -4431.43994140625
           ]
          }
         ]
        },
        {
         "data": [
          {
           "marker": {
            "color": [
             "orange",
             "blue",
             "blue",
             "blue",
             "orange",
             "orange"
            ],
            "size": 10
           },
           "mode": "markers",
           "type": "scatter",
           "x": [
            330.9599914550781,
            635.3599853515625,
            -402.70001220703125,
            -298.54998779296875,
            -1582.2099609375,
            -2757.639892578125
           ],
           "y": [
            -5149.919921875,
            -3220.1298828125,
            -5397.25,
            -1155.93994140625,
            -2353.68994140625,
            -2893.110107421875
           ]
          },
          {
           "marker": {
            "color": "black",
            "size": 10
           },
           "mode": "markers",
           "type": "scatter",
           "x": [
            -401.2099914550781
           ],
           "y": [
            -4373.02978515625
           ]
          }
         ]
        },
        {
         "data": [
          {
           "marker": {
            "color": [
             "orange",
             "blue",
             "blue",
             "blue",
             "orange",
             "orange"
            ],
            "size": 10
           },
           "mode": "markers",
           "type": "scatter",
           "x": [
            349.32000732421875,
            549.4099731445312,
            -398,
            -298.54998779296875,
            -1511.5799560546875,
            -2907.919921875
           ],
           "y": [
            -5150.919921875,
            -3315.080078125,
            -5395.77978515625,
            -1155.93994140625,
            -2393.330078125,
            -2965.81005859375
           ]
          },
          {
           "marker": {
            "color": "black",
            "size": 10
           },
           "mode": "markers",
           "type": "scatter",
           "x": [
            -387.2900085449219
           ],
           "y": [
            -4339.7001953125
           ]
          }
         ]
        },
        {
         "data": [
          {
           "marker": {
            "color": [
             "orange",
             "blue",
             "blue",
             "blue",
             "orange",
             "orange"
            ],
            "size": 10
           },
           "mode": "markers",
           "type": "scatter",
           "x": [
            349.32000732421875,
            549.4099731445312,
            -398,
            -257.5199890136719,
            -1511.5799560546875,
            -2907.919921875
           ],
           "y": [
            -5150.919921875,
            -3315.080078125,
            -5395.77978515625,
            -1059.469970703125,
            -2393.330078125,
            -2965.81005859375
           ]
          },
          {
           "marker": {
            "color": "black",
            "size": 10
           },
           "mode": "markers",
           "type": "scatter",
           "x": [
            -373.3800048828125
           ],
           "y": [
            -4306.41015625
           ]
          }
         ]
        },
        {
         "data": [
          {
           "marker": {
            "color": [
             "orange",
             "blue",
             "blue",
             "blue",
             "orange",
             "orange"
            ],
            "size": 10
           },
           "mode": "markers",
           "type": "scatter",
           "x": [
            422.95001220703125,
            422.2900085449219,
            -393.2200012207031,
            -257.5199890136719,
            -1511.5799560546875,
            -3049.280029296875
           ],
           "y": [
            -5154.83984375,
            -3451.9599609375,
            -5394.02978515625,
            -1059.469970703125,
            -2393.330078125,
            -3004.719970703125
           ]
          },
          {
           "marker": {
            "color": "black",
            "size": 10
           },
           "mode": "markers",
           "type": "scatter",
           "x": [
            -352.55999755859375
           ],
           "y": [
            -4256.52978515625
           ]
          }
         ]
        },
        {
         "data": [
          {
           "marker": {
            "color": [
             "orange",
             "blue",
             "blue",
             "blue",
             "orange",
             "orange"
            ],
            "size": 10
           },
           "mode": "markers",
           "type": "scatter",
           "x": [
            509.67999267578125,
            396.4700012207031,
            -393.2200012207031,
            -211.9199981689453,
            -1383.1199951171875,
            -3049.280029296875
           ],
           "y": [
            -5157.3798828125,
            -3479.179931640625,
            -5394.02978515625,
            -952.27001953125,
            -2440.570068359375,
            -3004.719970703125
           ]
          },
          {
           "marker": {
            "color": "black",
            "size": 10
           },
           "mode": "markers",
           "type": "scatter",
           "x": [
            -338.67999267578125
           ],
           "y": [
            -4223.31982421875
           ]
          }
         ]
        },
        {
         "data": [
          {
           "marker": {
            "color": [
             "orange",
             "blue",
             "blue",
             "blue",
             "orange",
             "orange"
            ],
            "size": 10
           },
           "mode": "markers",
           "type": "scatter",
           "x": [
            529.6699829101562,
            278.5899963378906,
            -385.42999267578125,
            -211.9199981689453,
            -1383.1199951171875,
            -3175.340087890625
           ],
           "y": [
            -5157.56005859375,
            -3600.75,
            -5389.759765625,
            -952.27001953125,
            -2440.570068359375,
            -3010.669921875
           ]
          },
          {
           "marker": {
            "color": "black",
            "size": 10
           },
           "mode": "markers",
           "type": "scatter",
           "x": [
            -314.4599914550781
           ],
           "y": [
            -4165.2900390625
           ]
          }
         ]
        },
        {
         "data": [
          {
           "marker": {
            "color": [
             "orange",
             "blue",
             "blue",
             "blue",
             "orange",
             "orange"
            ],
            "size": 10
           },
           "mode": "markers",
           "type": "scatter",
           "x": [
            633.3900146484375,
            278.5899963378906,
            -385.42999267578125,
            -161.75999450683594,
            -1241.0899658203125,
            -3281.72998046875
           ],
           "y": [
            -5156.22998046875,
            -3600.75,
            -5389.759765625,
            -834.3499755859375,
            -2456.0400390625,
            -2992.4599609375
           ]
          },
          {
           "marker": {
            "color": "black",
            "size": 10
           },
           "mode": "markers",
           "type": "scatter",
           "x": [
            -300.6199951171875
           ],
           "y": [
            -4132.169921875
           ]
          }
         ]
        },
        {
         "data": [
          {
           "marker": {
            "color": [
             "orange",
             "blue",
             "blue",
             "blue",
             "orange",
             "orange"
            ],
            "size": 10
           },
           "mode": "markers",
           "type": "scatter",
           "x": [
            633.3900146484375,
            278.5899963378906,
            -371.32000732421875,
            -161.75999450683594,
            -1241.0899658203125,
            -3281.72998046875
           ],
           "y": [
            -5156.22998046875,
            -3600.75,
            -5380.93994140625,
            -834.3499755859375,
            -2456.0400390625,
            -2992.4599609375
           ]
          },
          {
           "marker": {
            "color": "black",
            "size": 10
           },
           "mode": "markers",
           "type": "scatter",
           "x": [
            -286.82000732421875
           ],
           "y": [
            -4099.08984375
           ]
          }
         ]
        },
        {
         "data": [
          {
           "marker": {
            "color": [
             "orange",
             "blue",
             "blue",
             "blue",
             "orange",
             "orange"
            ],
            "size": 10
           },
           "mode": "markers",
           "type": "scatter",
           "x": [
            732.0499877929688,
            116.79000091552734,
            -371.32000732421875,
            -116.16000366210938,
            -1137.3599853515625,
            -3391.590087890625
           ],
           "y": [
            -5151.66015625,
            -3760.02001953125,
            -5380.93994140625,
            -727.1500244140625,
            -2436.60009765625,
            -2949.7099609375
           ]
          },
          {
           "marker": {
            "color": "black",
            "size": 10
           },
           "mode": "markers",
           "type": "scatter",
           "x": [
            -262.6700134277344
           ],
           "y": [
            -4041.2900390625
           ]
          }
         ]
        },
        {
         "data": [
          {
           "marker": {
            "color": [
             "orange",
             "blue",
             "blue",
             "blue",
             "orange",
             "orange"
            ],
            "size": 10
           },
           "mode": "markers",
           "type": "scatter",
           "x": [
            732.0499877929688,
            -8.15999984741211,
            -353.8500061035156,
            -84.26000213623047,
            -1070.9100341796875,
            -3391.590087890625
           ],
           "y": [
            -5151.66015625,
            -3876.929931640625,
            -5369.47021484375,
            -652.0900268554688,
            -2407.669921875,
            -2949.7099609375
           ]
          },
          {
           "marker": {
            "color": "black",
            "size": 10
           },
           "mode": "markers",
           "type": "scatter",
           "x": [
            -242.02999877929688
           ],
           "y": [
            -3991.820068359375
           ]
          }
         ]
        },
        {
         "data": [
          {
           "marker": {
            "color": [
             "orange",
             "blue",
             "blue",
             "blue",
             "orange",
             "orange"
            ],
            "size": 10
           },
           "mode": "markers",
           "type": "scatter",
           "x": [
            839.8699951171875,
            -8.15999984741211,
            -332.8500061035156,
            -84.26000213623047,
            -1070.9100341796875,
            -3519.679931640625
           ],
           "y": [
            -5140.72998046875,
            -3876.929931640625,
            -5355.5400390625,
            -652.0900268554688,
            -2407.669921875,
            -2865.610107421875
           ]
          },
          {
           "marker": {
            "color": "black",
            "size": 10
           },
           "mode": "markers",
           "type": "scatter",
           "x": [
            -235.8699951171875
           ],
           "y": [
            -3945.56005859375
           ]
          }
         ]
        },
        {
         "data": [
          {
           "marker": {
            "color": [
             "orange",
             "blue",
             "blue",
             "blue",
             "orange",
             "orange"
            ],
            "size": 10
           },
           "mode": "markers",
           "type": "scatter",
           "x": [
            839.8699951171875,
            -115.16000366210938,
            -332.8500061035156,
            -41.869998931884766,
            -986.9299926757812,
            -3519.679931640625
           ],
           "y": [
            -5140.72998046875,
            -3977.219970703125,
            -5355.5400390625,
            -546.3200073242188,
            -2348.840087890625,
            -2865.610107421875
           ]
          },
          {
           "marker": {
            "color": "black",
            "size": 10
           },
           "mode": "markers",
           "type": "scatter",
           "x": [
            -277.6300048828125
           ],
           "y": [
            -3938.280029296875
           ]
          }
         ]
        },
        {
         "data": [
          {
           "marker": {
            "color": [
             "orange",
             "blue",
             "blue",
             "blue",
             "orange",
             "orange"
            ],
            "size": 10
           },
           "mode": "markers",
           "type": "scatter",
           "x": [
            863.260009765625,
            -115.16000366210938,
            -332.8500061035156,
            -35.36000061035156,
            -971.8200073242188,
            -3594.699951171875
           ],
           "y": [
            -5130.97998046875,
            -3977.219970703125,
            -5355.5400390625,
            -525.6799926757812,
            -2335,
            -2798.090087890625
           ]
          },
          {
           "marker": {
            "color": "black",
            "size": 10
           },
           "mode": "markers",
           "type": "scatter",
           "x": [
            -402.7900085449219
           ],
           "y": [
            -3916.43994140625
           ]
          }
         ]
        },
        {
         "data": [
          {
           "marker": {
            "color": [
             "orange",
             "blue",
             "blue",
             "blue",
             "orange",
             "orange"
            ],
            "size": 10
           },
           "mode": "markers",
           "type": "scatter",
           "x": [
            866.02001953125,
            -226.6300048828125,
            -309.3599853515625,
            -35.36000061035156,
            -971.8200073242188,
            -3603.639892578125
           ],
           "y": [
            -5129.7099609375,
            -4086.260009765625,
            -5339.8701171875,
            -525.6799926757812,
            -2335,
            -2789.22998046875
           ]
          },
          {
           "marker": {
            "color": "black",
            "size": 10
           },
           "mode": "markers",
           "type": "scatter",
           "x": [
            -423.6300048828125
           ],
           "y": [
            -3912.800048828125
           ]
          }
         ]
        },
        {
         "data": [
          {
           "marker": {
            "color": [
             "orange",
             "blue",
             "blue",
             "blue",
             "orange",
             "orange"
            ],
            "size": 10
           },
           "mode": "markers",
           "type": "scatter",
           "x": [
            880.5900268554688,
            -226.6300048828125,
            -309.3599853515625,
            -19.270000457763672,
            -911.4199829101562,
            -3671.8798828125
           ],
           "y": [
            -5117.5498046875,
            -4086.260009765625,
            -5339.8701171875,
            -434.4800109863281,
            -2265.580078125,
            -2715.56005859375
           ]
          },
          {
           "marker": {
            "color": "black",
            "size": 10
           },
           "mode": "markers",
           "type": "scatter",
           "x": [
            -590.1799926757812
           ],
           "y": [
            -3883.739990234375
           ]
          }
         ]
        },
        {
         "data": [
          {
           "marker": {
            "color": [
             "orange",
             "blue",
             "blue",
             "blue",
             "orange",
             "orange"
            ],
            "size": 10
           },
           "mode": "markers",
           "type": "scatter",
           "x": [
            880.5900268554688,
            -350.95001220703125,
            -287.67999267578125,
            -31.829999923706055,
            -859.6699829101562,
            -3671.8798828125
           ],
           "y": [
            -5117.5498046875,
            -4207.35986328125,
            -5325.2900390625,
            -338.9700012207031,
            -2177.590087890625,
            -2715.56005859375
           ]
          },
          {
           "marker": {
            "color": "black",
            "size": 10
           },
           "mode": "markers",
           "type": "scatter",
           "x": [
            -756.3800048828125
           ],
           "y": [
            -3854.72998046875
           ]
          }
         ]
        },
        {
         "data": [
          {
           "marker": {
            "color": [
             "orange",
             "blue",
             "blue",
             "blue",
             "orange",
             "orange"
            ],
            "size": 10
           },
           "mode": "markers",
           "type": "scatter",
           "x": [
            891.530029296875,
            -350.95001220703125,
            -287.67999267578125,
            -35.86000061035156,
            -859.6699829101562,
            -3760.030029296875
           ],
           "y": [
            -5098.93994140625,
            -4207.35986328125,
            -5325.2900390625,
            -319.9700012207031,
            -2177.590087890625,
            -2609.639892578125
           ]
          },
          {
           "marker": {
            "color": "black",
            "size": 10
           },
           "mode": "markers",
           "type": "scatter",
           "x": [
            -818.6199951171875
           ],
           "y": [
            -3843.8701171875
           ]
          }
         ]
        },
        {
         "data": [
          {
           "marker": {
            "color": [
             "orange",
             "blue",
             "blue",
             "blue",
             "orange",
             "orange"
            ],
            "size": 10
           },
           "mode": "markers",
           "type": "scatter",
           "x": [
            891.530029296875,
            -513.219970703125,
            -263.5,
            -48.7599983215332,
            -826.6099853515625,
            -3760.030029296875
           ],
           "y": [
            -5098.93994140625,
            -4364.6298828125,
            -5308.85009765625,
            -252.47999572753906,
            -2092.6298828125,
            -2609.639892578125
           ]
          },
          {
           "marker": {
            "color": "black",
            "size": 10
           },
           "mode": "markers",
           "type": "scatter",
           "x": [
            -942.9500122070312
           ],
           "y": [
            -3822.159912109375
           ]
          }
         ]
        },
        {
         "data": [
          {
           "marker": {
            "color": [
             "orange",
             "blue",
             "blue",
             "blue",
             "orange",
             "orange"
            ],
            "size": 10
           },
           "mode": "markers",
           "type": "scatter",
           "x": [
            905.8599853515625,
            -513.219970703125,
            -263.5,
            -48.7599983215332,
            -826.6099853515625,
            -3841.0400390625
           ],
           "y": [
            -5083.18017578125,
            -4364.6298828125,
            -5308.85009765625,
            -252.47999572753906,
            -2092.6298828125,
            -2514.669921875
           ]
          },
          {
           "marker": {
            "color": "black",
            "size": 10
           },
           "mode": "markers",
           "type": "scatter",
           "x": [
            -1025.72998046875
           ],
           "y": [
            -3807.719970703125
           ]
          }
         ]
        },
        {
         "data": [
          {
           "marker": {
            "color": [
             "orange",
             "blue",
             "blue",
             "blue",
             "orange",
             "orange"
            ],
            "size": 10
           },
           "mode": "markers",
           "type": "scatter",
           "x": [
            905.8599853515625,
            -613.4000244140625,
            -241.22999572753906,
            -48.7599983215332,
            -810.75,
            -3841.0400390625
           ],
           "y": [
            -5083.18017578125,
            -4461.33984375,
            -5293.509765625,
            -252.47999572753906,
            -2014.8699951171875,
            -2514.669921875
           ]
          },
          {
           "marker": {
            "color": "black",
            "size": 10
           },
           "mode": "markers",
           "type": "scatter",
           "x": [
            -1108.4300537109375
           ],
           "y": [
            -3793.280029296875
           ]
          }
         ]
        },
        {
         "data": [
          {
           "marker": {
            "color": [
             "orange",
             "blue",
             "blue",
             "blue",
             "orange",
             "orange"
            ],
            "size": 10
           },
           "mode": "markers",
           "type": "scatter",
           "x": [
            921.719970703125,
            -613.4000244140625,
            -241.22999572753906,
            -57.209999084472656,
            -810.75,
            -3841.0400390625
           ],
           "y": [
            -5071.22998046875,
            -4461.33984375,
            -5293.509765625,
            -143.30999755859375,
            -2014.8699951171875,
            -2514.669921875
           ]
          },
          {
           "marker": {
            "color": "black",
            "size": 10
           },
           "mode": "markers",
           "type": "scatter",
           "x": [
            -1211.68994140625
           ],
           "y": [
            -3775.260009765625
           ]
          }
         ]
        },
        {
         "data": [
          {
           "marker": {
            "color": [
             "orange",
             "blue",
             "blue",
             "blue",
             "orange",
             "orange"
            ],
            "size": 10
           },
           "mode": "markers",
           "type": "scatter",
           "x": [
            925.6300048828125,
            -751.5599975585938,
            -225.52000427246094,
            -57.209999084472656,
            -815.1500244140625,
            -3929.110107421875
           ],
           "y": [
            -5069.27001953125,
            -4594.18017578125,
            -5282.52978515625,
            -143.30999755859375,
            -1909.43994140625,
            -2421.820068359375
           ]
          },
          {
           "marker": {
            "color": "black",
            "size": 10
           },
           "mode": "markers",
           "type": "scatter",
           "x": [
            -1335.4200439453125
           ],
           "y": [
            -3753.659912109375
           ]
          }
         ]
        },
        {
         "data": [
          {
           "marker": {
            "color": [
             "orange",
             "blue",
             "blue",
             "blue",
             "orange",
             "orange"
            ],
            "size": 10
           },
           "mode": "markers",
           "type": "scatter",
           "x": [
            941.22998046875,
            -751.5599975585938,
            -225.52000427246094,
            -44,
            -815.1500244140625,
            -3929.110107421875
           ],
           "y": [
            -5063.35986328125,
            -4594.18017578125,
            -5282.52978515625,
            -23.799999237060547,
            -1909.43994140625,
            -2421.820068359375
           ]
          },
          {
           "marker": {
            "color": "black",
            "size": 10
           },
           "mode": "markers",
           "type": "scatter",
           "x": [
            -1417.800048828125
           ],
           "y": [
            -3739.280029296875
           ]
          }
         ]
        },
        {
         "data": [
          {
           "marker": {
            "color": [
             "orange",
             "blue",
             "blue",
             "blue",
             "orange",
             "orange"
            ],
            "size": 10
           },
           "mode": "markers",
           "type": "scatter",
           "x": [
            945.1300048828125,
            -852.3599853515625,
            -198.44000244140625,
            -39.599998474121094,
            -837.719970703125,
            -3988.340087890625
           ],
           "y": [
            -5061.93994140625,
            -4690.7001953125,
            -5263.240234375,
            -4.289999961853027,
            -1837.8699951171875,
            -2364.610107421875
           ]
          },
          {
           "marker": {
            "color": "black",
            "size": 10
           },
           "mode": "markers",
           "type": "scatter",
           "x": [
            -1458.9599609375
           ],
           "y": [
            -3732.10009765625
           ]
          }
         ]
        },
        {
         "data": [
          {
           "marker": {
            "color": [
             "orange",
             "blue",
             "blue",
             "blue",
             "orange",
             "orange"
            ],
            "size": 10
           },
           "mode": "markers",
           "type": "scatter",
           "x": [
            945.1300048828125,
            -864.97998046875,
            -196.17999267578125,
            -39.599998474121094,
            -841.5999755859375,
            -3988.340087890625
           ],
           "y": [
            -5061.93994140625,
            -4702.759765625,
            -5261.60986328125,
            -4.289999961853027,
            -1829.3699951171875,
            -2364.610107421875
           ]
          },
          {
           "marker": {
            "color": "black",
            "size": 10
           },
           "mode": "markers",
           "type": "scatter",
           "x": [
            -1520.6600341796875
           ],
           "y": [
            -3721.330078125
           ]
          }
         ]
        },
        {
         "data": [
          {
           "marker": {
            "color": [
             "orange",
             "blue",
             "blue",
             "blue",
             "orange",
             "orange"
            ],
            "size": 10
           },
           "mode": "markers",
           "type": "scatter",
           "x": [
            962.6799926757812,
            -864.97998046875,
            -196.17999267578125,
            -10.880000114440918,
            -841.5999755859375,
            -4030.179931640625
           ],
           "y": [
            -5055.5498046875,
            -4702.759765625,
            -5261.60986328125,
            79.98999786376953,
            -1829.3699951171875,
            -2328.409912109375
           ]
          },
          {
           "marker": {
            "color": "black",
            "size": 10
           },
           "mode": "markers",
           "type": "scatter",
           "x": [
            -1643.9300537109375
           ],
           "y": [
            -3699.820068359375
           ]
          }
         ]
        },
        {
         "data": [
          {
           "marker": {
            "color": [
             "orange",
             "blue",
             "blue",
             "blue",
             "orange",
             "orange"
            ],
            "size": 10
           },
           "mode": "markers",
           "type": "scatter",
           "x": [
            962.6799926757812,
            -966.0499877929688,
            -178.05999755859375,
            -10.880000114440918,
            -880.2899780273438,
            -4030.179931640625
           ],
           "y": [
            -5055.5498046875,
            -4799.18017578125,
            -5248.39013671875,
            79.98999786376953,
            -1764.75,
            -2328.409912109375
           ]
          },
          {
           "marker": {
            "color": "black",
            "size": 10
           },
           "mode": "markers",
           "type": "scatter",
           "x": [
            -1726
           ],
           "y": [
            -3685.5
           ]
          }
         ]
        },
        {
         "data": [
          {
           "marker": {
            "color": [
             "orange",
             "blue",
             "blue",
             "blue",
             "orange",
             "orange"
            ],
            "size": 10
           },
           "mode": "markers",
           "type": "scatter",
           "x": [
            962.6799926757812,
            -966.0499877929688,
            -178.05999755859375,
            39.880001068115234,
            -880.2899780273438,
            -4062.93994140625
           ],
           "y": [
            -5055.5498046875,
            -4799.18017578125,
            -5248.39013671875,
            162.10000610351562,
            -1764.75,
            -2301.72998046875
           ]
          },
          {
           "marker": {
            "color": "black",
            "size": 10
           },
           "mode": "markers",
           "type": "scatter",
           "x": [
            -1848.93994140625
           ],
           "y": [
            -3664.030029296875
           ]
          }
         ]
        },
        {
         "data": [
          {
           "marker": {
            "color": [
             "orange",
             "blue",
             "blue",
             "blue",
             "orange",
             "orange"
            ],
            "size": 10
           },
           "mode": "markers",
           "type": "scatter",
           "x": [
            986.1099853515625,
            -1092.75,
            -156.4199981689453,
            39.880001068115234,
            -968.4299926757812,
            -4062.93994140625
           ],
           "y": [
            -5047.02978515625,
            -4919.580078125,
            -5221.009765625,
            162.10000610351562,
            -1665.9200439453125,
            -2301.72998046875
           ]
          },
          {
           "marker": {
            "color": "black",
            "size": 10
           },
           "mode": "markers",
           "type": "scatter",
           "x": [
            -1951.25
           ],
           "y": [
            -3646.179931640625
           ]
          }
         ]
        },
        {
         "data": [
          {
           "marker": {
            "color": [
             "orange",
             "blue",
             "blue",
             "blue",
             "orange",
             "orange"
            ],
            "size": 10
           },
           "mode": "markers",
           "type": "scatter",
           "x": [
            986.1099853515625,
            -1092.75,
            -156.4199981689453,
            101.37000274658203,
            -968.4299926757812,
            -4076.860107421875
           ],
           "y": [
            -5047.02978515625,
            -4919.580078125,
            -5221.009765625,
            221.16000366210938,
            -1665.9200439453125,
            -2291.1298828125
           ]
          },
          {
           "marker": {
            "color": "black",
            "size": 10
           },
           "mode": "markers",
           "type": "scatter",
           "x": [
            -2033.010009765625
           ],
           "y": [
            -3631.89990234375
           ]
          }
         ]
        },
        {
         "data": [
          {
           "marker": {
            "color": [
             "orange",
             "blue",
             "blue",
             "blue",
             "orange",
             "orange"
            ],
            "size": 10
           },
           "mode": "markers",
           "type": "scatter",
           "x": [
            1003.760009765625,
            -1207.1400146484375,
            -146.24000549316406,
            116.72000122070312,
            -1035.4100341796875,
            -4077.860107421875
           ],
           "y": [
            -5040.64013671875,
            -5027.81005859375,
            -5157.5498046875,
            232.14999389648438,
            -1612.18994140625,
            -2290.570068359375
           ]
          },
          {
           "marker": {
            "color": "black",
            "size": 10
           },
           "mode": "markers",
           "type": "scatter",
           "x": [
            -2114.679931640625
           ],
           "y": [
            -3617.64990234375
           ]
          }
         ]
        },
        {
         "data": [
          {
           "marker": {
            "color": [
             "orange",
             "blue",
             "blue",
             "blue",
             "orange",
             "orange"
            ],
            "size": 10
           },
           "mode": "markers",
           "type": "scatter",
           "x": [
            1003.760009765625,
            -1207.1400146484375,
            -146.24000549316406,
            116.72000122070312,
            -1053.2099609375,
            -4078.610107421875
           ],
           "y": [
            -5040.64013671875,
            -5027.81005859375,
            -5157.5498046875,
            232.14999389648438,
            -1600.1199951171875,
            -2294.929931640625
           ]
          },
          {
           "marker": {
            "color": "black",
            "size": 10
           },
           "mode": "markers",
           "type": "scatter",
           "x": [
            -2237.02001953125
           ],
           "y": [
            -3596.2900390625
           ]
          }
         ]
        },
        {
         "data": [
          {
           "marker": {
            "color": [
             "orange",
             "blue",
             "blue",
             "blue",
             "orange",
             "orange"
            ],
            "size": 10
           },
           "mode": "markers",
           "type": "scatter",
           "x": [
            1027.43994140625,
            -1355.0699462890625,
            -134.47000122070312,
            218.10000610351562,
            -1128.25,
            -4078.340087890625
           ],
           "y": [
            -5032.1201171875,
            -5111.27978515625,
            -5068.52978515625,
            282.1000061035156,
            -1558.1700439453125,
            -2297.699951171875
           ]
          },
          {
           "marker": {
            "color": "black",
            "size": 10
           },
           "mode": "markers",
           "type": "scatter",
           "x": [
            -2318.47998046875
           ],
           "y": [
            -3582.080078125
           ]
          }
         ]
        },
        {
         "data": [
          {
           "marker": {
            "color": [
             "orange",
             "blue",
             "blue",
             "blue",
             "orange",
             "orange"
            ],
            "size": 10
           },
           "mode": "markers",
           "type": "scatter",
           "x": [
            1027.43994140625,
            -1355.0699462890625,
            -134.47000122070312,
            218.10000610351562,
            -1128.25,
            -4077.68994140625
           ],
           "y": [
            -5032.1201171875,
            -5111.27978515625,
            -5068.52978515625,
            282.1000061035156,
            -1558.1700439453125,
            -2312.77001953125
           ]
          },
          {
           "marker": {
            "color": "black",
            "size": 10
           },
           "mode": "markers",
           "type": "scatter",
           "x": [
            -2379.52001953125
           ],
           "y": [
            -3571.429931640625
           ]
          }
         ]
        },
        {
         "data": [
          {
           "marker": {
            "color": [
             "orange",
             "blue",
             "blue",
             "blue",
             "orange",
             "orange"
            ],
            "size": 10
           },
           "mode": "markers",
           "type": "scatter",
           "x": [
            1041.3399658203125,
            -1430.0699462890625,
            -111.12999725341797,
            320.1199951171875,
            -1239.4200439453125,
            -4077.580078125
           ],
           "y": [
            -5027.14990234375,
            -5106.35009765625,
            -4984.72021484375,
            303.989990234375,
            -1518.77001953125,
            -2318.64990234375
           ]
          },
          {
           "marker": {
            "color": "black",
            "size": 10
           },
           "mode": "markers",
           "type": "scatter",
           "x": [
            -2542.080078125
           ],
           "y": [
            -3543.06005859375
           ]
          }
         ]
        },
        {
         "data": [
          {
           "marker": {
            "color": [
             "orange",
             "blue",
             "blue",
             "blue",
             "orange",
             "orange"
            ],
            "size": 10
           },
           "mode": "markers",
           "type": "scatter",
           "x": [
            1041.3399658203125,
            -1430.0699462890625,
            -111.12999725341797,
            320.1199951171875,
            -1239.4200439453125,
            -4077.580078125
           ],
           "y": [
            -5027.14990234375,
            -5106.35009765625,
            -4984.72021484375,
            303.989990234375,
            -1518.77001953125,
            -2318.64990234375
           ]
          },
          {
           "marker": {
            "color": "black",
            "size": 10
           },
           "mode": "markers",
           "type": "scatter",
           "x": [
            -2623.239990234375
           ],
           "y": [
            -3528.89990234375
           ]
          }
         ]
        },
        {
         "data": [
          {
           "marker": {
            "color": [
             "orange",
             "blue",
             "blue",
             "blue",
             "orange",
             "orange"
            ],
            "size": 10
           },
           "mode": "markers",
           "type": "scatter",
           "x": [
            1065.7099609375,
            -1549.4599609375,
            -73.48999786376953,
            396.6199951171875,
            -1365.1800537109375,
            -4077.35009765625
           ],
           "y": [
            -5018.89013671875,
            -5101.89013671875,
            -4891.93017578125,
            305.4100036621094,
            -1499.489990234375,
            -2368.81005859375
           ]
          },
          {
           "marker": {
            "color": "black",
            "size": 10
           },
           "mode": "markers",
           "type": "scatter",
           "x": [
            -2785.2900390625
           ],
           "y": [
            -3500.6201171875
           ]
          }
         ]
        },
        {
         "data": [
          {
           "marker": {
            "color": [
             "orange",
             "blue",
             "blue",
             "blue",
             "orange",
             "orange"
            ],
            "size": 10
           },
           "mode": "markers",
           "type": "scatter",
           "x": [
            1091.93994140625,
            -1639.1800537109375,
            -73.48999786376953,
            482.2300109863281,
            -1365.1800537109375,
            -4077.35009765625
           ],
           "y": [
            -5014.08984375,
            -5100.39990234375,
            -4891.93017578125,
            292.3900146484375,
            -1499.489990234375,
            -2423.199951171875
           ]
          },
          {
           "marker": {
            "color": "black",
            "size": 10
           },
           "mode": "markers",
           "type": "scatter",
           "x": [
            -2886.39990234375
           ],
           "y": [
            -3482.969970703125
           ]
          }
         ]
        },
        {
         "data": [
          {
           "marker": {
            "color": [
             "orange",
             "blue",
             "blue",
             "blue",
             "orange",
             "orange"
            ],
            "size": 10
           },
           "mode": "markers",
           "type": "scatter",
           "x": [
            1091.93994140625,
            -1639.1800537109375,
            -47.869998931884766,
            482.2300109863281,
            -1437.5899658203125,
            -4077.35009765625
           ],
           "y": [
            -5014.08984375,
            -5100.39990234375,
            -4836.72021484375,
            292.3900146484375,
            -1501.260009765625,
            -2423.199951171875
           ]
          },
          {
           "marker": {
            "color": "black",
            "size": 10
           },
           "mode": "markers",
           "type": "scatter",
           "x": [
            -3007.570068359375
           ],
           "y": [
            -3461.830078125
           ]
          }
         ]
        },
        {
         "data": [
          {
           "marker": {
            "color": [
             "orange",
             "blue",
             "blue",
             "blue",
             "orange",
             "orange"
            ],
            "size": 10
           },
           "mode": "markers",
           "type": "scatter",
           "x": [
            1147.9200439453125,
            -1736.219970703125,
            -47.869998931884766,
            573.6199951171875,
            -1437.5899658203125,
            -4077.35009765625
           ],
           "y": [
            -5011.3701171875,
            -5100.22021484375,
            -4836.72021484375,
            260.2799987792969,
            -1501.260009765625,
            -2423.199951171875
           ]
          },
          {
           "marker": {
            "color": "black",
            "size": 10
           },
           "mode": "markers",
           "type": "scatter",
           "x": [
            -3088.25
           ],
           "y": [
            -3447.75
           ]
          }
         ]
        },
        {
         "data": [
          {
           "marker": {
            "color": [
             "orange",
             "blue",
             "blue",
             "blue",
             "orange",
             "orange"
            ],
            "size": 10
           },
           "mode": "markers",
           "type": "scatter",
           "x": [
            1147.9200439453125,
            -1754.800048828125,
            -7.03000020980835,
            591.3699951171875,
            -1552.2900390625,
            -4077.35009765625
           ],
           "y": [
            -5011.3701171875,
            -5100.43017578125,
            -4737.1298828125,
            252.0800018310547,
            -1532.4300537109375,
            -2516.429931640625
           ]
          },
          {
           "marker": {
            "color": "black",
            "size": 10
           },
           "mode": "markers",
           "type": "scatter",
           "x": [
            -3209.1201171875
           ],
           "y": [
            -3426.659912109375
           ]
          }
         ]
        },
        {
         "data": [
          {
           "marker": {
            "color": [
             "orange",
             "blue",
             "blue",
             "blue",
             "orange",
             "orange"
            ],
            "size": 10
           },
           "mode": "markers",
           "type": "scatter",
           "x": [
            1235.02001953125,
            -1832.43994140625,
            -7.03000020980835,
            670.010009765625,
            -1552.2900390625,
            -4077.35009765625
           ],
           "y": [
            -5009.740234375,
            -5102.35009765625,
            -4737.1298828125,
            210.3300018310547,
            -1532.4300537109375,
            -2598.260009765625
           ]
          },
          {
           "marker": {
            "color": "black",
            "size": 10
           },
           "mode": "markers",
           "type": "scatter",
           "x": [
            -3309.68994140625
           ],
           "y": [
            -3409.110107421875
           ]
          }
         ]
        },
        {
         "data": [
          {
           "marker": {
            "color": [
             "orange",
             "blue",
             "blue",
             "blue",
             "orange",
             "orange"
            ],
            "size": 10
           },
           "mode": "markers",
           "type": "scatter",
           "x": [
            1235.02001953125,
            -1832.43994140625,
            19.940000534057617,
            670.010009765625,
            -1638.9000244140625,
            -4077.35009765625
           ],
           "y": [
            -5009.740234375,
            -5102.35009765625,
            -4640.22021484375,
            210.3300018310547,
            -1590.5699462890625,
            -2598.260009765625
           ]
          },
          {
           "marker": {
            "color": "black",
            "size": 10
           },
           "mode": "markers",
           "type": "scatter",
           "x": [
            -3390.050048828125
           ],
           "y": [
            -3395.080078125
           ]
          }
         ]
        },
        {
         "data": [
          {
           "marker": {
            "color": [
             "orange",
             "blue",
             "blue",
             "blue",
             "orange",
             "orange"
            ],
            "size": 10
           },
           "mode": "markers",
           "type": "scatter",
           "x": [
            1323.6800537109375,
            -1832.43994140625,
            19.940000534057617,
            757.0800170898438,
            -1638.9000244140625,
            -4064.68994140625
           ],
           "y": [
            -4995.77978515625,
            -5102.35009765625,
            -4640.22021484375,
            162.4199981689453,
            -1590.5699462890625,
            -2699.22998046875
           ]
          },
          {
           "marker": {
            "color": "black",
            "size": 10
           },
           "mode": "markers",
           "type": "scatter",
           "x": [
            -3510.43994140625
           ],
           "y": [
            -3374.080078125
           ]
          }
         ]
        },
        {
         "data": [
          {
           "marker": {
            "color": [
             "orange",
             "blue",
             "blue",
             "blue",
             "orange",
             "orange"
            ],
            "size": 10
           },
           "mode": "markers",
           "type": "scatter",
           "x": [
            1323.6800537109375,
            -1913.1500244140625,
            33.7599983215332,
            774.47998046875,
            -1708.6400146484375,
            -4059.39990234375
           ],
           "y": [
            -4995.77978515625,
            -5103.3701171875,
            -4567.97998046875,
            152.86000061035156,
            -1667.1700439453125,
            -2720.43994140625
           ]
          },
          {
           "marker": {
            "color": "black",
            "size": 10
           },
           "mode": "markers",
           "type": "scatter",
           "x": [
            -3610.6298828125
           ],
           "y": [
            -3356.590087890625
           ]
          }
         ]
        },
        {
         "data": [
          {
           "marker": {
            "color": [
             "orange",
             "blue",
             "blue",
             "blue",
             "orange",
             "orange"
            ],
            "size": 10
           },
           "mode": "markers",
           "type": "scatter",
           "x": [
            1408.300048828125,
            -1951.699951171875,
            33.7599983215332,
            871.3300170898438,
            -1708.6400146484375,
            -4030.8798828125
           ],
           "y": [
            -4970.83984375,
            -5103.06005859375,
            -4567.97998046875,
            148.27000427246094,
            -1667.1700439453125,
            -2818.830078125
           ]
          },
          {
           "marker": {
            "color": "black",
            "size": 10
           },
           "mode": "markers",
           "type": "scatter",
           "x": [
            -3730.68994140625
           ],
           "y": [
            -3335.64990234375
           ]
          }
         ]
        },
        {
         "data": [
          {
           "marker": {
            "color": [
             "orange",
             "blue",
             "blue",
             "blue",
             "orange",
             "orange"
            ],
            "size": 10
           },
           "mode": "markers",
           "type": "scatter",
           "x": [
            1408.300048828125,
            -1957.6700439453125,
            45.7400016784668,
            871.3300170898438,
            -1758.22998046875,
            -4030.8798828125
           ],
           "y": [
            -4970.83984375,
            -5103.02001953125,
            -4468.22021484375,
            148.27000427246094,
            -1747.3900146484375,
            -2818.830078125
           ]
          },
          {
           "marker": {
            "color": "black",
            "size": 10
           },
           "mode": "markers",
           "type": "scatter",
           "x": [
            -3770.669921875
           ],
           "y": [
            -3328.669921875
           ]
          }
         ]
        },
        {
         "data": [
          {
           "marker": {
            "color": [
             "orange",
             "blue",
             "blue",
             "blue",
             "orange",
             "orange"
            ],
            "size": 10
           },
           "mode": "markers",
           "type": "scatter",
           "x": [
            1522.2900390625,
            -1972.969970703125,
            45.7400016784668,
            984.8300170898438,
            -1766.52001953125,
            -3989.860107421875
           ],
           "y": [
            -4915.58984375,
            -5102.9599609375,
            -4468.22021484375,
            155.3699951171875,
            -1764.4100341796875,
            -2929.219970703125
           ]
          },
          {
           "marker": {
            "color": "black",
            "size": 10
           },
           "mode": "markers",
           "type": "scatter",
           "x": [
            -3930.389892578125
           ],
           "y": [
            -3300.81005859375
           ]
          }
         ]
        },
        {
         "data": [
          {
           "marker": {
            "color": [
             "orange",
             "blue",
             "blue",
             "blue",
             "orange",
             "orange"
            ],
            "size": 10
           },
           "mode": "markers",
           "type": "scatter",
           "x": [
            1584.8299560546875,
            -1972.969970703125,
            40.56999969482422,
            984.8300170898438,
            -1797.6800537109375,
            -3989.860107421875
           ],
           "y": [
            -4868.89013671875,
            -5102.9599609375,
            -4374.0400390625,
            155.3699951171875,
            -1844.3399658203125,
            -2929.219970703125
           ]
          },
          {
           "marker": {
            "color": "black",
            "size": 10
           },
           "mode": "markers",
           "type": "scatter",
           "x": [
            -3993.8701171875
           ],
           "y": [
            -3285.52001953125
           ]
          }
         ]
        },
        {
         "data": [
          {
           "marker": {
            "color": [
             "orange",
             "blue",
             "blue",
             "blue",
             "orange",
             "orange"
            ],
            "size": 10
           },
           "mode": "markers",
           "type": "scatter",
           "x": [
            1601.8199462890625,
            -1975.0999755859375,
            40.56999969482422,
            1064.280029296875,
            -1803.2900390625,
            -3941.5400390625
           ],
           "y": [
            -4853.6298828125,
            -5102.9599609375,
            -4374.0400390625,
            160.33999633789062,
            -1862.760009765625,
            -3050.85009765625
           ]
          },
          {
           "marker": {
            "color": "black",
            "size": 10
           },
           "mode": "markers",
           "type": "scatter",
           "x": [
            -3922.219970703125
           ],
           "y": [
            -3277.300048828125
           ]
          }
         ]
        },
        {
         "data": [
          {
           "marker": {
            "color": [
             "orange",
             "blue",
             "blue",
             "blue",
             "orange",
             "orange"
            ],
            "size": 10
           },
           "mode": "markers",
           "type": "scatter",
           "x": [
            1665.1800537109375,
            -1975.0999755859375,
            8.890000343322754,
            1181.4300537109375,
            -1819.4300537109375,
            -3918.8701171875
           ],
           "y": [
            -4784.7998046875,
            -5102.9599609375,
            -4290.169921875,
            165.88999938964844,
            -1938.449951171875,
            -3096.60009765625
           ]
          },
          {
           "marker": {
            "color": "black",
            "size": 10
           },
           "mode": "markers",
           "type": "scatter",
           "x": [
            -3850.679931640625
           ],
           "y": [
            -3269.110107421875
           ]
          }
         ]
        },
        {
         "data": [
          {
           "marker": {
            "color": [
             "orange",
             "blue",
             "blue",
             "blue",
             "orange",
             "orange"
            ],
            "size": 10
           },
           "mode": "markers",
           "type": "scatter",
           "x": [
            1665.1800537109375,
            -1963.3299560546875,
            8.890000343322754,
            1205.6700439453125,
            -1819.4300537109375,
            -3918.8701171875
           ],
           "y": [
            -4784.7998046875,
            -5102.9599609375,
            -4290.169921875,
            166.63999938964844,
            -1938.449951171875,
            -3096.60009765625
           ]
          },
          {
           "marker": {
            "color": "black",
            "size": 10
           },
           "mode": "markers",
           "type": "scatter",
           "x": [
            -3813.510009765625
           ],
           "y": [
            -3272.9599609375
           ]
          }
         ]
        },
        {
         "data": [
          {
           "marker": {
            "color": [
             "orange",
             "blue",
             "blue",
             "blue",
             "orange",
             "orange"
            ],
            "size": 10
           },
           "mode": "markers",
           "type": "scatter",
           "x": [
            1746.5,
            -1943.7900390625,
            -40.970001220703125,
            1318.0699462890625,
            -1824.7099609375,
            -3816.2900390625
           ],
           "y": [
            -4655.669921875,
            -5102.9599609375,
            -4240.169921875,
            168.60000610351562,
            -2045.6800537109375,
            -3224.97998046875
           ]
          },
          {
           "marker": {
            "color": "black",
            "size": 10
           },
           "mode": "markers",
           "type": "scatter",
           "x": [
            -3675.72998046875
           ],
           "y": [
            -3381.989990234375
           ]
          }
         ]
        },
        {
         "data": [
          {
           "marker": {
            "color": [
             "orange",
             "blue",
             "blue",
             "blue",
             "orange",
             "orange"
            ],
            "size": 10
           },
           "mode": "markers",
           "type": "scatter",
           "x": [
            1746.5,
            -1943.7900390625,
            -85.23999786376953,
            1318.0699462890625,
            -1824.7099609375,
            -3742.3701171875
           ],
           "y": [
            -4655.669921875,
            -5102.9599609375,
            -4221.60986328125,
            168.60000610351562,
            -2045.6800537109375,
            -3314.830078125
           ]
          },
          {
           "marker": {
            "color": "black",
            "size": 10
           },
           "mode": "markers",
           "type": "scatter",
           "x": [
            -3572.590087890625
           ],
           "y": [
            -3463.6201171875
           ]
          }
         ]
        },
        {
         "data": [
          {
           "marker": {
            "color": [
             "orange",
             "blue",
             "blue",
             "blue",
             "orange",
             "orange"
            ],
            "size": 10
           },
           "mode": "markers",
           "type": "scatter",
           "x": [
            1795.1300048828125,
            -1904.18994140625,
            -85.23999786376953,
            1462.81005859375,
            -1805.8399658203125,
            -3742.3701171875
           ],
           "y": [
            -4549.22021484375,
            -5102.9599609375,
            -4221.60986328125,
            167.64999389648438,
            -2161.72998046875,
            -3314.830078125
           ]
          },
          {
           "marker": {
            "color": "black",
            "size": 10
           },
           "mode": "markers",
           "type": "scatter",
           "x": [
            -3486.75
           ],
           "y": [
            -3531.550048828125
           ]
          }
         ]
        },
        {
         "data": [
          {
           "marker": {
            "color": [
             "orange",
             "blue",
             "blue",
             "blue",
             "orange",
             "orange"
            ],
            "size": 10
           },
           "mode": "markers",
           "type": "scatter",
           "x": [
            1795.1300048828125,
            -1904.18994140625,
            -139.1300048828125,
            1462.81005859375,
            -1805.8399658203125,
            -3659.25
           ],
           "y": [
            -4549.22021484375,
            -5102.9599609375,
            -4217.18994140625,
            167.64999389648438,
            -2161.72998046875,
            -3416.1201171875
           ]
          },
          {
           "marker": {
            "color": "black",
            "size": 10
           },
           "mode": "markers",
           "type": "scatter",
           "x": [
            -3418.169921875
           ],
           "y": [
            -3585.820068359375
           ]
          }
         ]
        },
        {
         "data": [
          {
           "marker": {
            "color": [
             "orange",
             "blue",
             "blue",
             "blue",
             "orange",
             "orange"
            ],
            "size": 10
           },
           "mode": "markers",
           "type": "scatter",
           "x": [
            1842.3800048828125,
            -1856.6099853515625,
            -139.1300048828125,
            1601.3399658203125,
            -1774.5400390625,
            -3659.25
           ],
           "y": [
            -4429.2099609375,
            -5102.9599609375,
            -4217.18994140625,
            163.4499969482422,
            -2244.3701171875,
            -3416.1201171875
           ]
          },
          {
           "marker": {
            "color": "black",
            "size": 10
           },
           "mode": "markers",
           "type": "scatter",
           "x": [
            -3281.199951171875
           ],
           "y": [
            -3694.2099609375
           ]
          }
         ]
        },
        {
         "data": [
          {
           "marker": {
            "color": [
             "orange",
             "blue",
             "blue",
             "blue",
             "orange",
             "orange"
            ],
            "size": 10
           },
           "mode": "markers",
           "type": "scatter",
           "x": [
            1842.3800048828125,
            -1856.6099853515625,
            -200.77999877929688,
            1601.3399658203125,
            -1734.97998046875,
            -3566.949951171875
           ],
           "y": [
            -4429.2099609375,
            -5102.9599609375,
            -4229.509765625,
            163.4499969482422,
            -2312.260009765625,
            -3528.719970703125
           ]
          },
          {
           "marker": {
            "color": "black",
            "size": 10
           },
           "mode": "markers",
           "type": "scatter",
           "x": [
            -3212.820068359375
           ],
           "y": [
            -3748.320068359375
           ]
          }
         ]
        },
        {
         "data": [
          {
           "marker": {
            "color": [
             "orange",
             "blue",
             "blue",
             "blue",
             "orange",
             "orange"
            ],
            "size": 10
           },
           "mode": "markers",
           "type": "scatter",
           "x": [
            1879.4300537109375,
            -1808.1800537109375,
            -200.77999877929688,
            1729.8599853515625,
            -1723.47998046875,
            -3566.949951171875
           ],
           "y": [
            -4330.27978515625,
            -5102.9599609375,
            -4229.509765625,
            157.80999755859375,
            -2328.18994140625,
            -3528.719970703125
           ]
          },
          {
           "marker": {
            "color": "black",
            "size": 10
           },
           "mode": "markers",
           "type": "scatter",
           "x": [
            -3161.590087890625
           ],
           "y": [
            -3788.860107421875
           ]
          }
         ]
        },
        {
         "data": [
          {
           "marker": {
            "color": [
             "orange",
             "blue",
             "blue",
             "blue",
             "orange",
             "orange"
            ],
            "size": 10
           },
           "mode": "markers",
           "type": "scatter",
           "x": [
            1879.4300537109375,
            -1808.1800537109375,
            -255.3800048828125,
            1729.8599853515625,
            -1723.47998046875,
            -3483.8798828125
           ],
           "y": [
            -4330.27978515625,
            -5102.9599609375,
            -4253.85986328125,
            157.80999755859375,
            -2328.18994140625,
            -3630.06005859375
           ]
          },
          {
           "marker": {
            "color": "black",
            "size": 10
           },
           "mode": "markers",
           "type": "scatter",
           "x": [
            -3093.330078125
           ],
           "y": [
            -3842.8701171875
           ]
          }
         ]
        },
        {
         "data": [
          {
           "marker": {
            "color": [
             "orange",
             "blue",
             "blue",
             "blue",
             "orange",
             "orange"
            ],
            "size": 10
           },
           "mode": "markers",
           "type": "scatter",
           "x": [
            1912.06005859375,
            -1755.0899658203125,
            -255.3800048828125,
            1844.1700439453125,
            -1664.3800048828125,
            -3483.8798828125
           ],
           "y": [
            -4242.169921875,
            -5102.9599609375,
            -4253.85986328125,
            152.77000427246094,
            -2393.840087890625,
            -3630.06005859375
           ]
          },
          {
           "marker": {
            "color": "black",
            "size": 10
           },
           "mode": "markers",
           "type": "scatter",
           "x": [
            -3025.14990234375
           ],
           "y": [
            -3896.820068359375
           ]
          }
         ]
        },
        {
         "data": [
          {
           "marker": {
            "color": [
             "orange",
             "blue",
             "blue",
             "blue",
             "orange",
             "orange"
            ],
            "size": 10
           },
           "mode": "markers",
           "type": "scatter",
           "x": [
            1912.06005859375,
            -1755.0899658203125,
            -325.0199890136719,
            1844.1700439453125,
            -1664.3800048828125,
            -3373.1201171875
           ],
           "y": [
            -4242.169921875,
            -5102.9599609375,
            -4302.33984375,
            152.77000427246094,
            -2393.840087890625,
            -3765.179931640625
           ]
          },
          {
           "marker": {
            "color": "black",
            "size": 10
           },
           "mode": "markers",
           "type": "scatter",
           "x": [
            -2888.97998046875
           ],
           "y": [
            -4004.570068359375
           ]
          }
         ]
        },
        {
         "data": [
          {
           "marker": {
            "color": [
             "orange",
             "blue",
             "blue",
             "blue",
             "orange",
             "orange"
            ],
            "size": 10
           },
           "mode": "markers",
           "type": "scatter",
           "x": [
            1962.510009765625,
            -1755.0899658203125,
            -325.0199890136719,
            2015.6300048828125,
            -1564.27001953125,
            -3373.1201171875
           ],
           "y": [
            -4109.81982421875,
            -5102.9599609375,
            -4302.33984375,
            145.2100067138672,
            -2467,
            -3765.179931640625
           ]
          },
          {
           "marker": {
            "color": "black",
            "size": 10
           },
           "mode": "markers",
           "type": "scatter",
           "x": [
            -2821
           ],
           "y": [
            -4058.360107421875
           ]
          }
         ]
        },
        {
         "data": [
          {
           "marker": {
            "color": [
             "orange",
             "blue",
             "blue",
             "blue",
             "orange",
             "orange"
            ],
            "size": 10
           },
           "mode": "markers",
           "type": "scatter",
           "x": [
            1962.510009765625,
            -1702.6700439453125,
            -365.2699890136719,
            2015.6300048828125,
            -1564.27001953125,
            -3308.510009765625
           ],
           "y": [
            -4109.81982421875,
            -5102.9599609375,
            -4336.1201171875,
            145.2100067138672,
            -2467,
            -3844
           ]
          },
          {
           "marker": {
            "color": "black",
            "size": 10
           },
           "mode": "markers",
           "type": "scatter",
           "x": [
            -2770.070068359375
           ],
           "y": [
            -4098.669921875
           ]
          }
         ]
        },
        {
         "data": [
          {
           "marker": {
            "color": [
             "orange",
             "blue",
             "blue",
             "blue",
             "orange",
             "orange"
            ],
            "size": 10
           },
           "mode": "markers",
           "type": "scatter",
           "x": [
            1962.510009765625,
            -1702.6700439453125,
            -365.2699890136719,
            2115.639892578125,
            -1564.27001953125,
            -3308.510009765625
           ],
           "y": [
            -4109.81982421875,
            -5102.9599609375,
            -4336.1201171875,
            140.8000030517578,
            -2467,
            -3844
           ]
          },
          {
           "marker": {
            "color": "black",
            "size": 10
           },
           "mode": "markers",
           "type": "scatter",
           "x": [
            -2702.2099609375
           ],
           "y": [
            -4152.3701171875
           ]
          }
         ]
        },
        {
         "data": [
          {
           "marker": {
            "color": [
             "orange",
             "blue",
             "blue",
             "blue",
             "orange",
             "orange"
            ],
            "size": 10
           },
           "mode": "markers",
           "type": "scatter",
           "x": [
            2004.5699462890625,
            -1661.0799560546875,
            -420.1199951171875,
            2115.639892578125,
            -1473.93994140625,
            -3216.2099609375
           ],
           "y": [
            -4006.7900390625,
            -5102.9599609375,
            -4391.81982421875,
            140.8000030517578,
            -2508.5400390625,
            -3956.60009765625
           ]
          },
          {
           "marker": {
            "color": "black",
            "size": 10
           },
           "mode": "markers",
           "type": "scatter",
           "x": [
            -2634.429931640625
           ],
           "y": [
            -4206.02001953125
           ]
          }
         ]
        },
        {
         "data": [
          {
           "marker": {
            "color": [
             "orange",
             "blue",
             "blue",
             "blue",
             "orange",
             "orange"
            ],
            "size": 10
           },
           "mode": "markers",
           "type": "scatter",
           "x": [
            2056.659912109375,
            -1661.0799560546875,
            -430.4200134277344,
            2258.530029296875,
            -1361.5400390625,
            -3197.75
           ],
           "y": [
            -3887.43994140625,
            -5102.9599609375,
            -4404.10009765625,
            134.5,
            -2537.6298828125,
            -3979.1201171875
           ]
          },
          {
           "marker": {
            "color": "black",
            "size": 10
           },
           "mode": "markers",
           "type": "scatter",
           "x": [
            -2499.06005859375
           ],
           "y": [
            -4313.14013671875
           ]
          }
         ]
        },
        {
         "data": [
          {
           "marker": {
            "color": [
             "orange",
             "blue",
             "blue",
             "blue",
             "orange",
             "orange"
            ],
            "size": 10
           },
           "mode": "markers",
           "type": "scatter",
           "x": [
            2067.669921875,
            -1620.4599609375,
            -464.0799865722656,
            2258.530029296875,
            -1338.25,
            -3133.139892578125
           ],
           "y": [
            -3862.889892578125,
            -5102.9599609375,
            -4450.169921875,
            134.5,
            -2541.010009765625,
            -4057.93994140625
           ]
          },
          {
           "marker": {
            "color": "black",
            "size": 10
           },
           "mode": "markers",
           "type": "scatter",
           "x": [
            -2448.3701171875
           ],
           "y": [
            -4353.25
           ]
          }
         ]
        },
        {
         "data": [
          {
           "marker": {
            "color": [
             "orange",
             "blue",
             "blue",
             "blue",
             "orange",
             "orange"
            ],
            "size": 10
           },
           "mode": "markers",
           "type": "scatter",
           "x": [
            2107.219970703125,
            -1584.5799560546875,
            -464.0799865722656,
            2415.669921875,
            -1256.5999755859375,
            -3133.139892578125
           ],
           "y": [
            -3774.909912109375,
            -5102.9599609375,
            -4450.169921875,
            128.02999877929688,
            -2546.070068359375,
            -4057.93994140625
           ]
          },
          {
           "marker": {
            "color": "black",
            "size": 10
           },
           "mode": "markers",
           "type": "scatter",
           "x": [
            -2313.3798828125
           ],
           "y": [
            -4460.06005859375
           ]
          }
         ]
        },
        {
         "data": [
          {
           "marker": {
            "color": [
             "orange",
             "blue",
             "blue",
             "blue",
             "orange",
             "orange"
            ],
            "size": 10
           },
           "mode": "markers",
           "type": "scatter",
           "x": [
            2107.219970703125,
            -1577.1600341796875,
            -503.3500061035156,
            2415.669921875,
            -1256.5999755859375,
            -3040.840087890625
           ],
           "y": [
            -3774.909912109375,
            -5102.9599609375,
            -4524.10009765625,
            128.02999877929688,
            -2546.070068359375,
            -4170.5400390625
           ]
          },
          {
           "marker": {
            "color": "black",
            "size": 10
           },
           "mode": "markers",
           "type": "scatter",
           "x": [
            -2212.330078125
           ],
           "y": [
            -4540.02978515625
           ]
          }
         ]
        },
        {
         "data": [
          {
           "marker": {
            "color": [
             "orange",
             "blue",
             "blue",
             "blue",
             "orange",
             "orange"
            ],
            "size": 10
           },
           "mode": "markers",
           "type": "scatter",
           "x": [
            2192.81005859375,
            -1577.1600341796875,
            -503.3500061035156,
            2587.179931640625,
            -1116.52001953125,
            -3040.840087890625
           ],
           "y": [
            -3586.39990234375,
            -5102.9599609375,
            -4524.10009765625,
            124.86000061035156,
            -2530.080078125,
            -4170.5400390625
           ]
          },
          {
           "marker": {
            "color": "black",
            "size": 10
           },
           "mode": "markers",
           "type": "scatter",
           "x": [
            -2145.050048828125
           ],
           "y": [
            -4593.27978515625
           ]
          }
         ]
        },
        {
         "data": [
          {
           "marker": {
            "color": [
             "orange",
             "blue",
             "blue",
             "blue",
             "orange",
             "orange"
            ],
            "size": 10
           },
           "mode": "markers",
           "type": "scatter",
           "x": [
            2192.81005859375,
            -1544.260009765625,
            -529.0700073242188,
            2587.179931640625,
            -1116.52001953125,
            -2948.530029296875
           ],
           "y": [
            -3586.39990234375,
            -5102.9599609375,
            -4606.080078125,
            124.86000061035156,
            -2530.080078125,
            -4283.14013671875
           ]
          },
          {
           "marker": {
            "color": "black",
            "size": 10
           },
           "mode": "markers",
           "type": "scatter",
           "x": [
            -2061.0400390625
           ],
           "y": [
            -4659.759765625
           ]
          }
         ]
        },
        {
         "data": [
          {
           "marker": {
            "color": [
             "orange",
             "blue",
             "blue",
             "blue",
             "orange",
             "orange"
            ],
            "size": 10
           },
           "mode": "markers",
           "type": "scatter",
           "x": [
            2263.919921875,
            -1518.780029296875,
            -538.6500244140625,
            2715.6298828125,
            -1011.4400024414062,
            -2865.280029296875
           ],
           "y": [
            -3430.419921875,
            -5102.9599609375,
            -4684.4501953125,
            124.7699966430664,
            -2497.179931640625,
            -4384.58984375
           ]
          },
          {
           "marker": {
            "color": "black",
            "size": 10
           },
           "mode": "markers",
           "type": "scatter",
           "x": [
            -1960.3699951171875
           ],
           "y": [
            -4739.43017578125
           ]
          }
         ]
        },
        {
         "data": [
          {
           "marker": {
            "color": [
             "orange",
             "blue",
             "blue",
             "blue",
             "orange",
             "orange"
            ],
            "size": 10
           },
           "mode": "markers",
           "type": "scatter",
           "x": [
            2327.199951171875,
            -1503.3699951171875,
            -538.6500244140625,
            2715.6298828125,
            -1011.4400024414062,
            -2865.280029296875
           ],
           "y": [
            -3291.639892578125,
            -5100.5,
            -4684.4501953125,
            124.7699966430664,
            -2497.179931640625,
            -4384.58984375
           ]
          },
          {
           "marker": {
            "color": "black",
            "size": 10
           },
           "mode": "markers",
           "type": "scatter",
           "x": [
            -1859.8599853515625
           ],
           "y": [
            -4818.97021484375
           ]
          }
         ]
        },
        {
         "data": [
          {
           "marker": {
            "color": [
             "orange",
             "blue",
             "blue",
             "blue",
             "orange",
             "orange"
            ],
            "size": 10
           },
           "mode": "markers",
           "type": "scatter",
           "x": [
            2327.199951171875,
            -1503.3699951171875,
            -531.4400024414062,
            2857.969970703125,
            -865.8699951171875,
            -2763.110107421875
           ],
           "y": [
            -3291.639892578125,
            -5100.5,
            -4782.3798828125,
            131.1300048828125,
            -2418.27001953125,
            -4508.830078125
           ]
          },
          {
           "marker": {
            "color": "black",
            "size": 10
           },
           "mode": "markers",
           "type": "scatter",
           "x": [
            -1776.219970703125
           ],
           "y": [
            -4885.14990234375
           ]
          }
         ]
        },
        {
         "data": [
          {
           "marker": {
            "color": [
             "orange",
             "blue",
             "blue",
             "blue",
             "orange",
             "orange"
            ],
            "size": 10
           },
           "mode": "markers",
           "type": "scatter",
           "x": [
            2414.2099609375,
            -1475.4599609375,
            -531.4400024414062,
            2985.639892578125,
            -865.8699951171875,
            -2763.110107421875
           ],
           "y": [
            -3100.7900390625,
            -5070.25,
            -4782.3798828125,
            141.6300048828125,
            -2418.27001953125,
            -4508.830078125
           ]
          },
          {
           "marker": {
            "color": "black",
            "size": 10
           },
           "mode": "markers",
           "type": "scatter",
           "x": [
            -1675.989990234375
           ],
           "y": [
            -4964.4599609375
           ]
          }
         ]
        },
        {
         "data": [
          {
           "marker": {
            "color": [
             "orange",
             "blue",
             "blue",
             "blue",
             "orange",
             "orange"
            ],
            "size": 10
           },
           "mode": "markers",
           "type": "scatter",
           "x": [
            2414.2099609375,
            -1475.4599609375,
            -506.5899963378906,
            2985.639892578125,
            -763.1300048828125,
            -2669.85009765625
           ],
           "y": [
            -3100.7900390625,
            -5070.25,
            -4869.669921875,
            141.6300048828125,
            -2333.699951171875,
            -4622.0498046875
           ]
          },
          {
           "marker": {
            "color": "black",
            "size": 10
           },
           "mode": "markers",
           "type": "scatter",
           "x": [
            -1620.4100341796875
           ],
           "y": [
            -4979.52978515625
           ]
          }
         ]
        },
        {
         "data": [
          {
           "marker": {
            "color": [
             "orange",
             "blue",
             "blue",
             "blue",
             "orange",
             "orange"
            ],
            "size": 10
           },
           "mode": "markers",
           "type": "scatter",
           "x": [
            2493.31005859375,
            -1448.489990234375,
            -506.5899963378906,
            3127.39990234375,
            -763.1300048828125,
            -2669.85009765625
           ],
           "y": [
            -2927.2900390625,
            -5033.06982421875,
            -4869.669921875,
            149.13999938964844,
            -2333.699951171875,
            -4622.0498046875
           ]
          },
          {
           "marker": {
            "color": "black",
            "size": 10
           },
           "mode": "markers",
           "type": "scatter",
           "x": [
            -1553.8800048828125
           ],
           "y": [
            -4946.47021484375
           ]
          }
         ]
        },
        {
         "data": [
          {
           "marker": {
            "color": [
             "orange",
             "blue",
             "blue",
             "blue",
             "orange",
             "orange"
            ],
            "size": 10
           },
           "mode": "markers",
           "type": "scatter",
           "x": [
            2493.31005859375,
            -1448.489990234375,
            -475.8299865722656,
            3127.39990234375,
            -677.6099853515625,
            -2585.590087890625
           ],
           "y": [
            -2927.2900390625,
            -5033.06982421875,
            -4936.009765625,
            149.13999938964844,
            -2243.320068359375,
            -4724.18994140625
           ]
          },
          {
           "marker": {
            "color": "black",
            "size": 10
           },
           "mode": "markers",
           "type": "scatter",
           "x": [
            -1520.6500244140625
           ],
           "y": [
            -4929.97021484375
           ]
          }
         ]
        },
        {
         "data": [
          {
           "marker": {
            "color": [
             "orange",
             "blue",
             "blue",
             "blue",
             "orange",
             "orange"
            ],
            "size": 10
           },
           "mode": "markers",
           "type": "scatter",
           "x": [
            2548.679931640625,
            -1428.5899658203125,
            -430.7099914550781,
            3254.300048828125,
            -677.6099853515625,
            -2585.590087890625
           ],
           "y": [
            -2805.840087890625,
            -5004.1298828125,
            -5004.14013671875,
            144.3699951171875,
            -2243.320068359375,
            -4724.18994140625
           ]
          },
          {
           "marker": {
            "color": "black",
            "size": 10
           },
           "mode": "markers",
           "type": "scatter",
           "x": [
            -1458.3800048828125
           ],
           "y": [
            -4889.22021484375
           ]
          }
         ]
        },
        {
         "data": [
          {
           "marker": {
            "color": [
             "orange",
             "blue",
             "blue",
             "blue",
             "orange",
             "orange"
            ],
            "size": 10
           },
           "mode": "markers",
           "type": "scatter",
           "x": [
            2627.780029296875,
            -1403.77001953125,
            -419.0199890136719,
            3254.300048828125,
            -589.1599731445312,
            -2491.6201171875
           ],
           "y": [
            -2632.340087890625,
            -4982.02001953125,
            -5017.83984375,
            144.3699951171875,
            -2135.510009765625,
            -4837.91015625
           ]
          },
          {
           "marker": {
            "color": "black",
            "size": 10
           },
           "mode": "markers",
           "type": "scatter",
           "x": [
            -1438.6800537109375
           ],
           "y": [
            -4767.10009765625
           ]
          }
         ]
        },
        {
         "data": [
          {
           "marker": {
            "color": [
             "orange",
             "blue",
             "blue",
             "blue",
             "orange",
             "orange"
            ],
            "size": 10
           },
           "mode": "markers",
           "type": "scatter",
           "x": [
            2627.780029296875,
            -1325.6700439453125,
            -351.8500061035156,
            3391.8798828125,
            -504.3399963378906,
            -2397.260009765625
           ],
           "y": [
            -2632.340087890625,
            -4929.080078125,
            -5075.64990234375,
            120.98999786376953,
            -2024.93994140625,
            -4951.85986328125
           ]
          },
          {
           "marker": {
            "color": "black",
            "size": 10
           },
           "mode": "markers",
           "type": "scatter",
           "x": [
            -1412.3599853515625
           ],
           "y": [
            -4605.080078125
           ]
          }
         ]
        },
        {
         "data": [
          {
           "marker": {
            "color": [
             "orange",
             "blue",
             "blue",
             "blue",
             "orange",
             "orange"
            ],
            "size": 10
           },
           "mode": "markers",
           "type": "scatter",
           "x": [
            2706.8798828125,
            -1325.6700439453125,
            -351.8500061035156,
            3391.8798828125,
            -504.3399963378906,
            -2397.260009765625
           ],
           "y": [
            -2458.840087890625,
            -4929.080078125,
            -5075.64990234375,
            120.98999786376953,
            -2024.93994140625,
            -4951.85986328125
           ]
          },
          {
           "marker": {
            "color": "black",
            "size": 10
           },
           "mode": "markers",
           "type": "scatter",
           "x": [
            -1399.199951171875
           ],
           "y": [
            -4524.2001953125
           ]
          }
         ]
        },
        {
         "data": [
          {
           "marker": {
            "color": [
             "orange",
             "blue",
             "blue",
             "blue",
             "orange",
             "orange"
            ],
            "size": 10
           },
           "mode": "markers",
           "type": "scatter",
           "x": [
            2706.8798828125,
            -1254.3199462890625,
            -281.1400146484375,
            3509.68994140625,
            -429.6499938964844,
            -2312
           ],
           "y": [
            -2458.840087890625,
            -4880.77001953125,
            -5110.06982421875,
            82.54000091552734,
            -1924.260009765625,
            -5054.580078125
           ]
          },
          {
           "marker": {
            "color": "black",
            "size": 10
           },
           "mode": "markers",
           "type": "scatter",
           "x": [
            -1382.800048828125
           ],
           "y": [
            -4423.2099609375
           ]
          }
         ]
        },
        {
         "data": [
          {
           "marker": {
            "color": [
             "orange",
             "blue",
             "blue",
             "blue",
             "orange",
             "orange"
            ],
            "size": 10
           },
           "mode": "markers",
           "type": "scatter",
           "x": [
            2793.889892578125,
            -1254.3199462890625,
            -281.1400146484375,
            3631.02001953125,
            -429.6499938964844,
            -2312
           ],
           "y": [
            -2267.989990234375,
            -4880.77001953125,
            -5110.06982421875,
            22.639999389648438,
            -1924.260009765625,
            -5054.580078125
           ]
          },
          {
           "marker": {
            "color": "black",
            "size": 10
           },
           "mode": "markers",
           "type": "scatter",
           "x": [
            -1363.1199951171875
           ],
           "y": [
            -4302.18994140625
           ]
          }
         ]
        },
        {
         "data": [
          {
           "marker": {
            "color": [
             "orange",
             "blue",
             "blue",
             "blue",
             "orange",
             "orange"
            ],
            "size": 10
           },
           "mode": "markers",
           "type": "scatter",
           "x": [
            2793.889892578125,
            -1159.050048828125,
            -213.0399932861328,
            3631.02001953125,
            -339.32000732421875,
            -2208.6201171875
           ],
           "y": [
            -2267.989990234375,
            -4816.4501953125,
            -5126.10986328125,
            22.639999389648438,
            -1784.4100341796875,
            -5105.81982421875
           ]
          },
          {
           "marker": {
            "color": "black",
            "size": 10
           },
           "mode": "markers",
           "type": "scatter",
           "x": [
            -1343.489990234375
           ],
           "y": [
            -4181.35009765625
           ]
          }
         ]
        },
        {
         "data": [
          {
           "marker": {
            "color": [
             "orange",
             "blue",
             "blue",
             "blue",
             "orange",
             "orange"
            ],
            "size": 10
           },
           "mode": "markers",
           "type": "scatter",
           "x": [
            2872.989990234375,
            -1159.050048828125,
            -213.0399932861328,
            3738.260009765625,
            -339.32000732421875,
            -2208.6201171875
           ],
           "y": [
            -2094.489990234375,
            -4816.4501953125,
            -5126.10986328125,
            -52.88999938964844,
            -1784.4100341796875,
            -5105.81982421875
           ]
          },
          {
           "marker": {
            "color": "black",
            "size": 10
           },
           "mode": "markers",
           "type": "scatter",
           "x": [
            -1330.4100341796875
           ],
           "y": [
            -4100.89013671875
           ]
          }
         ]
        },
        {
         "data": [
          {
           "marker": {
            "color": [
             "orange",
             "blue",
             "blue",
             "blue",
             "orange",
             "orange"
            ],
            "size": 10
           },
           "mode": "markers",
           "type": "scatter",
           "x": [
            2872.989990234375,
            -1087.5899658203125,
            -115.87999725341797,
            3747.840087890625,
            -280.1600036621094,
            -2141.780029296875
           ],
           "y": [
            -2094.489990234375,
            -4768.2099609375,
            -5127.580078125,
            -61.369998931884766,
            -1674.9300537109375,
            -5102.2099609375
           ]
          },
          {
           "marker": {
            "color": "black",
            "size": 10
           },
           "mode": "markers",
           "type": "scatter",
           "x": [
            -1314.0799560546875
           ],
           "y": [
            -4000.43994140625
           ]
          }
         ]
        },
        {
         "data": [
          {
           "marker": {
            "color": [
             "orange",
             "blue",
             "blue",
             "blue",
             "orange",
             "orange"
            ],
            "size": 10
           },
           "mode": "markers",
           "type": "scatter",
           "x": [
            2928.3798828125,
            -1087.5899658203125,
            -115.87999725341797,
            3815.610107421875,
            -280.1600036621094,
            -2127.8701171875
           ],
           "y": [
            -1972.97998046875,
            -4768.2099609375,
            -5127.580078125,
            -136.6999969482422,
            -1674.9300537109375,
            -5101.8701171875
           ]
          },
          {
           "marker": {
            "color": "black",
            "size": 10
           },
           "mode": "markers",
           "type": "scatter",
           "x": [
            -1301.0400390625
           ],
           "y": [
            -3920.179931640625
           ]
          }
         ]
        },
        {
         "data": [
          {
           "marker": {
            "color": [
             "orange",
             "blue",
             "blue",
             "blue",
             "orange",
             "orange"
            ],
            "size": 10
           },
           "mode": "markers",
           "type": "scatter",
           "x": [
            3007.590087890625,
            -1008.1900024414062,
            -27.989999771118164,
            3815.610107421875,
            -220.05999755859375,
            -2064.909912109375
           ],
           "y": [
            -1799.2099609375,
            -4714.60986328125,
            -5109.43017578125,
            -136.6999969482422,
            -1550.5999755859375,
            -5101.3798828125
           ]
          },
          {
           "marker": {
            "color": "black",
            "size": 10
           },
           "mode": "markers",
           "type": "scatter",
           "x": [
            -1274.97998046875
           ],
           "y": [
            -3759.89990234375
           ]
          }
         ]
        },
        {
         "data": [
          {
           "marker": {
            "color": [
             "orange",
             "blue",
             "blue",
             "blue",
             "orange",
             "orange"
            ],
            "size": 10
           },
           "mode": "markers",
           "type": "scatter",
           "x": [
            3007.590087890625,
            -1008.1900024414062,
            31.239999771118164,
            3876.659912109375,
            -220.05999755859375,
            -2064.909912109375
           ],
           "y": [
            -1799.2099609375,
            -4714.60986328125,
            -5086.16015625,
            -260.07000732421875,
            -1550.5999755859375,
            -5101.3798828125
           ]
          },
          {
           "marker": {
            "color": "black",
            "size": 10
           },
           "mode": "markers",
           "type": "scatter",
           "x": [
            -1265.949951171875
           ],
           "y": [
            -3705.179931640625
           ]
          }
         ]
        },
        {
         "data": [
          {
           "marker": {
            "color": [
             "orange",
             "blue",
             "blue",
             "blue",
             "orange",
             "orange"
            ],
            "size": 10
           },
           "mode": "markers",
           "type": "scatter",
           "x": [
            3007.590087890625,
            -936.72998046875,
            31.239999771118164,
            3876.659912109375,
            -168.07000732421875,
            -2064.909912109375
           ],
           "y": [
            -1799.2099609375,
            -4666.3701171875,
            -5086.16015625,
            -260.07000732421875,
            -1437.739990234375,
            -5101.3798828125
           ]
          },
          {
           "marker": {
            "color": "black",
            "size": 10
           },
           "mode": "markers",
           "type": "scatter",
           "x": [
            -1254.3900146484375
           ],
           "y": [
            -3635.81005859375
           ]
          }
         ]
        },
        {
         "data": [
          {
           "marker": {
            "color": [
             "orange",
             "blue",
             "blue",
             "blue",
             "orange",
             "orange"
            ],
            "size": 10
           },
           "mode": "markers",
           "type": "scatter",
           "x": [
            3094.68994140625,
            -936.72998046875,
            31.239999771118164,
            3896.35009765625,
            -168.07000732421875,
            -2012.1600341796875
           ],
           "y": [
            -1608.1500244140625,
            -4666.3701171875,
            -5086.16015625,
            -384.9800109863281,
            -1437.739990234375,
            -5101.35986328125
           ]
          },
          {
           "marker": {
            "color": "black",
            "size": 10
           },
           "mode": "markers",
           "type": "scatter",
           "x": [
            -1237.050048828125
           ],
           "y": [
            -3531.889892578125
           ]
          }
         ]
        },
        {
         "data": [
          {
           "marker": {
            "color": [
             "orange",
             "blue",
             "blue",
             "blue",
             "orange",
             "orange"
            ],
            "size": 10
           },
           "mode": "markers",
           "type": "scatter",
           "x": [
            3094.68994140625,
            -841.4500122070312,
            124.52999877929688,
            3896.989990234375,
            -99.33999633789062,
            -1987.260009765625
           ],
           "y": [
            -1608.1500244140625,
            -4602.0498046875,
            -5027.22998046875,
            -410.7699890136719,
            -1285.8399658203125,
            -5101.35986328125
           ]
          },
          {
           "marker": {
            "color": "black",
            "size": 10
           },
           "mode": "markers",
           "type": "scatter",
           "x": [
            -1219.760009765625
           ],
           "y": [
            -3428.1298828125
           ]
          }
         ]
        },
        {
         "data": [
          {
           "marker": {
            "color": [
             "orange",
             "blue",
             "blue",
             "blue",
             "orange",
             "orange"
            ],
            "size": 10
           },
           "mode": "markers",
           "type": "scatter",
           "x": [
            3189.7900390625,
            -825.5700073242188,
            124.52999877929688,
            3890.179931640625,
            -99.33999633789062,
            -1982.97998046875
           ],
           "y": [
            -1400.3499755859375,
            -4591.330078125,
            -5027.22998046875,
            -515.489990234375,
            -1285.8399658203125,
            -5101.35986328125
           ]
          },
          {
           "marker": {
            "color": "black",
            "size": 10
           },
           "mode": "markers",
           "type": "scatter",
           "x": [
            -1208.239990234375
           ],
           "y": [
            -3359.050048828125
           ]
          }
         ]
        },
        {
         "data": [
          {
           "marker": {
            "color": [
             "orange",
             "blue",
             "blue",
             "blue",
             "orange",
             "orange"
            ],
            "size": 10
           },
           "mode": "markers",
           "type": "scatter",
           "x": [
            3189.7900390625,
            -825.5700073242188,
            196.6999969482422,
            3890.179931640625,
            -99.33999633789062,
            -1982.97998046875
           ],
           "y": [
            -1400.3499755859375,
            -4591.330078125,
            -4954.31005859375,
            -515.489990234375,
            -1285.8399658203125,
            -5101.35986328125
           ]
          },
          {
           "marker": {
            "color": "black",
            "size": 10
           },
           "mode": "markers",
           "type": "scatter",
           "x": [
            -1199.5999755859375
           ],
           "y": [
            -3307.280029296875
           ]
          }
         ]
        },
        {
         "data": [
          {
           "marker": {
            "color": [
             "orange",
             "blue",
             "blue",
             "blue",
             "orange",
             "orange"
            ],
            "size": 10
           },
           "mode": "markers",
           "type": "scatter",
           "x": [
            3189.7900390625,
            -769.989990234375,
            196.6999969482422,
            3890.179931640625,
            -49.65999984741211,
            -1973.8499755859375
           ],
           "y": [
            -1400.3499755859375,
            -4553.81005859375,
            -4954.31005859375,
            -515.489990234375,
            -1165.510009765625,
            -5098.9501953125
           ]
          },
          {
           "marker": {
            "color": "black",
            "size": 10
           },
           "mode": "markers",
           "type": "scatter",
           "x": [
            -1193.8499755859375
           ],
           "y": [
            -3272.7900390625
           ]
          }
         ]
        },
        {
         "data": [
          {
           "marker": {
            "color": [
             "orange",
             "blue",
             "blue",
             "blue",
             "orange",
             "orange"
            ],
            "size": 10
           },
           "mode": "markers",
           "type": "scatter",
           "x": [
            3270.739990234375,
            -769.989990234375,
            238.83999633789062,
            3859.52001953125,
            -49.65999984741211,
            -1973.8499755859375
           ],
           "y": [
            -1207.5799560546875,
            -4553.81005859375,
            -4891.75,
            -661.9099731445312,
            -1165.510009765625,
            -5098.9501953125
           ]
          },
          {
           "marker": {
            "color": "black",
            "size": 10
           },
           "mode": "markers",
           "type": "scatter",
           "x": [
            -1176.6300048828125
           ],
           "y": [
            -3169.429931640625
           ]
          }
         ]
        },
        {
         "data": [
          {
           "marker": {
            "color": [
             "orange",
             "blue",
             "blue",
             "blue",
             "orange",
             "orange"
            ],
            "size": 10
           },
           "mode": "markers",
           "type": "scatter",
           "x": [
            3270.739990234375,
            -690.5900268554688,
            238.83999633789062,
            3824.179931640625,
            -4.300000190734863,
            -1985.050048828125
           ],
           "y": [
            -1207.5799560546875,
            -4500.2099609375,
            -4891.75,
            -769.3400268554688,
            -1022.1400146484375,
            -5046.72021484375
           ]
          },
          {
           "marker": {
            "color": "black",
            "size": 10
           },
           "mode": "markers",
           "type": "scatter",
           "x": [
            -1153.6800537109375
           ],
           "y": [
            -3031.860107421875
           ]
          }
         ]
        },
        {
         "data": [
          {
           "marker": {
            "color": [
             "orange",
             "blue",
             "blue",
             "blue",
             "orange",
             "orange"
            ],
            "size": 10
           },
           "mode": "markers",
           "type": "scatter",
           "x": [
            3348.5400390625,
            -690.5900268554688,
            282.739990234375,
            3813.469970703125,
            -4.300000190734863,
            -1985.050048828125
           ],
           "y": [
            -993.47998046875,
            -4500.2099609375,
            -4786.490234375,
            -796.1199951171875,
            -1022.1400146484375,
            -5046.72021484375
           ]
          },
          {
           "marker": {
            "color": "black",
            "size": 10
           },
           "mode": "markers",
           "type": "scatter",
           "x": [
            -1142.239990234375
           ],
           "y": [
            -2963.179931640625
           ]
          }
         ]
        },
        {
         "data": [
          {
           "marker": {
            "color": [
             "orange",
             "blue",
             "blue",
             "blue",
             "orange",
             "orange"
            ],
            "size": 10
           },
           "mode": "markers",
           "type": "scatter",
           "x": [
            3348.5400390625,
            -603.25,
            282.739990234375,
            3813.469970703125,
            27.25,
            -2000.8299560546875
           ],
           "y": [
            -993.47998046875,
            -4441.25,
            -4786.490234375,
            -796.1199951171875,
            -853.0599975585938,
            -4991.47998046875
           ]
          },
          {
           "marker": {
            "color": "black",
            "size": 10
           },
           "mode": "markers",
           "type": "scatter",
           "x": [
            -1127.93994140625
           ],
           "y": [
            -2877.429931640625
           ]
          }
         ]
        },
        {
         "data": [
          {
           "marker": {
            "color": [
             "orange",
             "blue",
             "blue",
             "blue",
             "orange",
             "orange"
            ],
            "size": 10
           },
           "mode": "markers",
           "type": "scatter",
           "x": [
            3403.2099609375,
            -603.25,
            298.9100036621094,
            3740,
            27.25,
            -2000.8299560546875
           ],
           "y": [
            -831.6599731445312,
            -4441.25,
            -4701.56005859375,
            -940.75,
            -853.0599975585938,
            -4991.47998046875
           ]
          },
          {
           "marker": {
            "color": "black",
            "size": 10
           },
           "mode": "markers",
           "type": "scatter",
           "x": [
            -1116.510009765625
           ],
           "y": [
            -2808.909912109375
           ]
          }
         ]
        },
        {
         "data": [
          {
           "marker": {
            "color": [
             "orange",
             "blue",
             "blue",
             "blue",
             "orange",
             "orange"
            ],
            "size": 10
           },
           "mode": "markers",
           "type": "scatter",
           "x": [
            3403.2099609375,
            -523.8499755859375,
            298.9100036621094,
            3740,
            43.95000076293945,
            -2000.8299560546875
           ],
           "y": [
            -831.6599731445312,
            -4387.64990234375,
            -4701.56005859375,
            -940.75,
            -690.8400268554688,
            -4991.47998046875
           ]
          },
          {
           "marker": {
            "color": "black",
            "size": 10
           },
           "mode": "markers",
           "type": "scatter",
           "x": [
            -1099.4100341796875
           ],
           "y": [
            -2706.260009765625
           ]
          }
         ]
        },
        {
         "data": [
          {
           "marker": {
            "color": [
             "orange",
             "blue",
             "blue",
             "blue",
             "orange",
             "orange"
            ],
            "size": 10
           },
           "mode": "markers",
           "type": "scatter",
           "x": [
            3462.52001953125,
            -523.8499755859375,
            299.25,
            3650.389892578125,
            43.95000076293945,
            -2037.7099609375
           ],
           "y": [
            -651.4000244140625,
            -4387.64990234375,
            -4600.47021484375,
            -1064.4000244140625,
            -690.8400268554688,
            -4894.4599609375
           ]
          },
          {
           "marker": {
            "color": "black",
            "size": 10
           },
           "mode": "markers",
           "type": "scatter",
           "x": [
            -1088.010009765625
           ],
           "y": [
            -2637.919921875
           ]
          }
         ]
        }
       ],
       "layout": {
        "autosize": false,
        "height": 800,
        "hovermode": "closest",
        "template": {
         "data": {
          "bar": [
           {
            "error_x": {
             "color": "#2a3f5f"
            },
            "error_y": {
             "color": "#2a3f5f"
            },
            "marker": {
             "line": {
              "color": "#E5ECF6",
              "width": 0.5
             },
             "pattern": {
              "fillmode": "overlay",
              "size": 10,
              "solidity": 0.2
             }
            },
            "type": "bar"
           }
          ],
          "barpolar": [
           {
            "marker": {
             "line": {
              "color": "#E5ECF6",
              "width": 0.5
             },
             "pattern": {
              "fillmode": "overlay",
              "size": 10,
              "solidity": 0.2
             }
            },
            "type": "barpolar"
           }
          ],
          "carpet": [
           {
            "aaxis": {
             "endlinecolor": "#2a3f5f",
             "gridcolor": "white",
             "linecolor": "white",
             "minorgridcolor": "white",
             "startlinecolor": "#2a3f5f"
            },
            "baxis": {
             "endlinecolor": "#2a3f5f",
             "gridcolor": "white",
             "linecolor": "white",
             "minorgridcolor": "white",
             "startlinecolor": "#2a3f5f"
            },
            "type": "carpet"
           }
          ],
          "choropleth": [
           {
            "colorbar": {
             "outlinewidth": 0,
             "ticks": ""
            },
            "type": "choropleth"
           }
          ],
          "contour": [
           {
            "colorbar": {
             "outlinewidth": 0,
             "ticks": ""
            },
            "colorscale": [
             [
              0,
              "#0d0887"
             ],
             [
              0.1111111111111111,
              "#46039f"
             ],
             [
              0.2222222222222222,
              "#7201a8"
             ],
             [
              0.3333333333333333,
              "#9c179e"
             ],
             [
              0.4444444444444444,
              "#bd3786"
             ],
             [
              0.5555555555555556,
              "#d8576b"
             ],
             [
              0.6666666666666666,
              "#ed7953"
             ],
             [
              0.7777777777777778,
              "#fb9f3a"
             ],
             [
              0.8888888888888888,
              "#fdca26"
             ],
             [
              1,
              "#f0f921"
             ]
            ],
            "type": "contour"
           }
          ],
          "contourcarpet": [
           {
            "colorbar": {
             "outlinewidth": 0,
             "ticks": ""
            },
            "type": "contourcarpet"
           }
          ],
          "heatmap": [
           {
            "colorbar": {
             "outlinewidth": 0,
             "ticks": ""
            },
            "colorscale": [
             [
              0,
              "#0d0887"
             ],
             [
              0.1111111111111111,
              "#46039f"
             ],
             [
              0.2222222222222222,
              "#7201a8"
             ],
             [
              0.3333333333333333,
              "#9c179e"
             ],
             [
              0.4444444444444444,
              "#bd3786"
             ],
             [
              0.5555555555555556,
              "#d8576b"
             ],
             [
              0.6666666666666666,
              "#ed7953"
             ],
             [
              0.7777777777777778,
              "#fb9f3a"
             ],
             [
              0.8888888888888888,
              "#fdca26"
             ],
             [
              1,
              "#f0f921"
             ]
            ],
            "type": "heatmap"
           }
          ],
          "heatmapgl": [
           {
            "colorbar": {
             "outlinewidth": 0,
             "ticks": ""
            },
            "colorscale": [
             [
              0,
              "#0d0887"
             ],
             [
              0.1111111111111111,
              "#46039f"
             ],
             [
              0.2222222222222222,
              "#7201a8"
             ],
             [
              0.3333333333333333,
              "#9c179e"
             ],
             [
              0.4444444444444444,
              "#bd3786"
             ],
             [
              0.5555555555555556,
              "#d8576b"
             ],
             [
              0.6666666666666666,
              "#ed7953"
             ],
             [
              0.7777777777777778,
              "#fb9f3a"
             ],
             [
              0.8888888888888888,
              "#fdca26"
             ],
             [
              1,
              "#f0f921"
             ]
            ],
            "type": "heatmapgl"
           }
          ],
          "histogram": [
           {
            "marker": {
             "pattern": {
              "fillmode": "overlay",
              "size": 10,
              "solidity": 0.2
             }
            },
            "type": "histogram"
           }
          ],
          "histogram2d": [
           {
            "colorbar": {
             "outlinewidth": 0,
             "ticks": ""
            },
            "colorscale": [
             [
              0,
              "#0d0887"
             ],
             [
              0.1111111111111111,
              "#46039f"
             ],
             [
              0.2222222222222222,
              "#7201a8"
             ],
             [
              0.3333333333333333,
              "#9c179e"
             ],
             [
              0.4444444444444444,
              "#bd3786"
             ],
             [
              0.5555555555555556,
              "#d8576b"
             ],
             [
              0.6666666666666666,
              "#ed7953"
             ],
             [
              0.7777777777777778,
              "#fb9f3a"
             ],
             [
              0.8888888888888888,
              "#fdca26"
             ],
             [
              1,
              "#f0f921"
             ]
            ],
            "type": "histogram2d"
           }
          ],
          "histogram2dcontour": [
           {
            "colorbar": {
             "outlinewidth": 0,
             "ticks": ""
            },
            "colorscale": [
             [
              0,
              "#0d0887"
             ],
             [
              0.1111111111111111,
              "#46039f"
             ],
             [
              0.2222222222222222,
              "#7201a8"
             ],
             [
              0.3333333333333333,
              "#9c179e"
             ],
             [
              0.4444444444444444,
              "#bd3786"
             ],
             [
              0.5555555555555556,
              "#d8576b"
             ],
             [
              0.6666666666666666,
              "#ed7953"
             ],
             [
              0.7777777777777778,
              "#fb9f3a"
             ],
             [
              0.8888888888888888,
              "#fdca26"
             ],
             [
              1,
              "#f0f921"
             ]
            ],
            "type": "histogram2dcontour"
           }
          ],
          "mesh3d": [
           {
            "colorbar": {
             "outlinewidth": 0,
             "ticks": ""
            },
            "type": "mesh3d"
           }
          ],
          "parcoords": [
           {
            "line": {
             "colorbar": {
              "outlinewidth": 0,
              "ticks": ""
             }
            },
            "type": "parcoords"
           }
          ],
          "pie": [
           {
            "automargin": true,
            "type": "pie"
           }
          ],
          "scatter": [
           {
            "marker": {
             "colorbar": {
              "outlinewidth": 0,
              "ticks": ""
             }
            },
            "type": "scatter"
           }
          ],
          "scatter3d": [
           {
            "line": {
             "colorbar": {
              "outlinewidth": 0,
              "ticks": ""
             }
            },
            "marker": {
             "colorbar": {
              "outlinewidth": 0,
              "ticks": ""
             }
            },
            "type": "scatter3d"
           }
          ],
          "scattercarpet": [
           {
            "marker": {
             "colorbar": {
              "outlinewidth": 0,
              "ticks": ""
             }
            },
            "type": "scattercarpet"
           }
          ],
          "scattergeo": [
           {
            "marker": {
             "colorbar": {
              "outlinewidth": 0,
              "ticks": ""
             }
            },
            "type": "scattergeo"
           }
          ],
          "scattergl": [
           {
            "marker": {
             "colorbar": {
              "outlinewidth": 0,
              "ticks": ""
             }
            },
            "type": "scattergl"
           }
          ],
          "scattermapbox": [
           {
            "marker": {
             "colorbar": {
              "outlinewidth": 0,
              "ticks": ""
             }
            },
            "type": "scattermapbox"
           }
          ],
          "scatterpolar": [
           {
            "marker": {
             "colorbar": {
              "outlinewidth": 0,
              "ticks": ""
             }
            },
            "type": "scatterpolar"
           }
          ],
          "scatterpolargl": [
           {
            "marker": {
             "colorbar": {
              "outlinewidth": 0,
              "ticks": ""
             }
            },
            "type": "scatterpolargl"
           }
          ],
          "scatterternary": [
           {
            "marker": {
             "colorbar": {
              "outlinewidth": 0,
              "ticks": ""
             }
            },
            "type": "scatterternary"
           }
          ],
          "surface": [
           {
            "colorbar": {
             "outlinewidth": 0,
             "ticks": ""
            },
            "colorscale": [
             [
              0,
              "#0d0887"
             ],
             [
              0.1111111111111111,
              "#46039f"
             ],
             [
              0.2222222222222222,
              "#7201a8"
             ],
             [
              0.3333333333333333,
              "#9c179e"
             ],
             [
              0.4444444444444444,
              "#bd3786"
             ],
             [
              0.5555555555555556,
              "#d8576b"
             ],
             [
              0.6666666666666666,
              "#ed7953"
             ],
             [
              0.7777777777777778,
              "#fb9f3a"
             ],
             [
              0.8888888888888888,
              "#fdca26"
             ],
             [
              1,
              "#f0f921"
             ]
            ],
            "type": "surface"
           }
          ],
          "table": [
           {
            "cells": {
             "fill": {
              "color": "#EBF0F8"
             },
             "line": {
              "color": "white"
             }
            },
            "header": {
             "fill": {
              "color": "#C8D4E3"
             },
             "line": {
              "color": "white"
             }
            },
            "type": "table"
           }
          ]
         },
         "layout": {
          "annotationdefaults": {
           "arrowcolor": "#2a3f5f",
           "arrowhead": 0,
           "arrowwidth": 1
          },
          "autotypenumbers": "strict",
          "coloraxis": {
           "colorbar": {
            "outlinewidth": 0,
            "ticks": ""
           }
          },
          "colorscale": {
           "diverging": [
            [
             0,
             "#8e0152"
            ],
            [
             0.1,
             "#c51b7d"
            ],
            [
             0.2,
             "#de77ae"
            ],
            [
             0.3,
             "#f1b6da"
            ],
            [
             0.4,
             "#fde0ef"
            ],
            [
             0.5,
             "#f7f7f7"
            ],
            [
             0.6,
             "#e6f5d0"
            ],
            [
             0.7,
             "#b8e186"
            ],
            [
             0.8,
             "#7fbc41"
            ],
            [
             0.9,
             "#4d9221"
            ],
            [
             1,
             "#276419"
            ]
           ],
           "sequential": [
            [
             0,
             "#0d0887"
            ],
            [
             0.1111111111111111,
             "#46039f"
            ],
            [
             0.2222222222222222,
             "#7201a8"
            ],
            [
             0.3333333333333333,
             "#9c179e"
            ],
            [
             0.4444444444444444,
             "#bd3786"
            ],
            [
             0.5555555555555556,
             "#d8576b"
            ],
            [
             0.6666666666666666,
             "#ed7953"
            ],
            [
             0.7777777777777778,
             "#fb9f3a"
            ],
            [
             0.8888888888888888,
             "#fdca26"
            ],
            [
             1,
             "#f0f921"
            ]
           ],
           "sequentialminus": [
            [
             0,
             "#0d0887"
            ],
            [
             0.1111111111111111,
             "#46039f"
            ],
            [
             0.2222222222222222,
             "#7201a8"
            ],
            [
             0.3333333333333333,
             "#9c179e"
            ],
            [
             0.4444444444444444,
             "#bd3786"
            ],
            [
             0.5555555555555556,
             "#d8576b"
            ],
            [
             0.6666666666666666,
             "#ed7953"
            ],
            [
             0.7777777777777778,
             "#fb9f3a"
            ],
            [
             0.8888888888888888,
             "#fdca26"
            ],
            [
             1,
             "#f0f921"
            ]
           ]
          },
          "colorway": [
           "#636efa",
           "#EF553B",
           "#00cc96",
           "#ab63fa",
           "#FFA15A",
           "#19d3f3",
           "#FF6692",
           "#B6E880",
           "#FF97FF",
           "#FECB52"
          ],
          "font": {
           "color": "#2a3f5f"
          },
          "geo": {
           "bgcolor": "white",
           "lakecolor": "white",
           "landcolor": "#E5ECF6",
           "showlakes": true,
           "showland": true,
           "subunitcolor": "white"
          },
          "hoverlabel": {
           "align": "left"
          },
          "hovermode": "closest",
          "mapbox": {
           "style": "light"
          },
          "paper_bgcolor": "white",
          "plot_bgcolor": "#E5ECF6",
          "polar": {
           "angularaxis": {
            "gridcolor": "white",
            "linecolor": "white",
            "ticks": ""
           },
           "bgcolor": "#E5ECF6",
           "radialaxis": {
            "gridcolor": "white",
            "linecolor": "white",
            "ticks": ""
           }
          },
          "scene": {
           "xaxis": {
            "backgroundcolor": "#E5ECF6",
            "gridcolor": "white",
            "gridwidth": 2,
            "linecolor": "white",
            "showbackground": true,
            "ticks": "",
            "zerolinecolor": "white"
           },
           "yaxis": {
            "backgroundcolor": "#E5ECF6",
            "gridcolor": "white",
            "gridwidth": 2,
            "linecolor": "white",
            "showbackground": true,
            "ticks": "",
            "zerolinecolor": "white"
           },
           "zaxis": {
            "backgroundcolor": "#E5ECF6",
            "gridcolor": "white",
            "gridwidth": 2,
            "linecolor": "white",
            "showbackground": true,
            "ticks": "",
            "zerolinecolor": "white"
           }
          },
          "shapedefaults": {
           "line": {
            "color": "#2a3f5f"
           }
          },
          "ternary": {
           "aaxis": {
            "gridcolor": "white",
            "linecolor": "white",
            "ticks": ""
           },
           "baxis": {
            "gridcolor": "white",
            "linecolor": "white",
            "ticks": ""
           },
           "bgcolor": "#E5ECF6",
           "caxis": {
            "gridcolor": "white",
            "linecolor": "white",
            "ticks": ""
           }
          },
          "title": {
           "x": 0.05
          },
          "xaxis": {
           "automargin": true,
           "gridcolor": "white",
           "linecolor": "white",
           "ticks": "",
           "title": {
            "standoff": 15
           },
           "zerolinecolor": "white",
           "zerolinewidth": 2
          },
          "yaxis": {
           "automargin": true,
           "gridcolor": "white",
           "linecolor": "white",
           "ticks": "",
           "title": {
            "standoff": 15
           },
           "zerolinecolor": "white",
           "zerolinewidth": 2
          }
         }
        },
        "title": {
         "text": "Expected Goal: 0.15273556624966977\n Result: No Goal"
        },
        "updatemenus": [
         {
          "active": 0,
          "buttons": [
           {
            "args": [
             null,
             {
              "frame": {
               "duration": 30,
               "redraw": false
              },
              "fromcurrent": true,
              "transition": {
               "duration": 0
              }
             }
            ],
            "label": "Play",
            "method": "animate"
           }
          ],
          "showactive": false,
          "type": "buttons",
          "x": 1.12,
          "xanchor": "right",
          "y": 1,
          "yanchor": "top"
         }
        ],
        "width": 700,
        "xaxis": {
         "autorange": false,
         "range": [
          -5000,
          5000
         ],
         "type": "linear",
         "zeroline": false
        },
        "yaxis": {
         "autorange": false,
         "range": [
          -6050,
          6050
         ],
         "type": "linear",
         "zeroline": false
        }
       }
      },
      "image/png": "[encoded data removed]",
      "text/html": [
       "<div>                            <div id=\"688fae58-5f9d-465b-a267-b7125b74f00b\" class=\"plotly-graph-div\" style=\"height:800px; width:700px;\"></div>            <script type=\"text/javascript\">                require([\"plotly\"], function(Plotly) {                    window.PLOTLYENV=window.PLOTLYENV || {};                                    if (document.getElementById(\"688fae58-5f9d-465b-a267-b7125b74f00b\")) {                    Plotly.newPlot(                        \"688fae58-5f9d-465b-a267-b7125b74f00b\",                        [{\"line\":{\"color\":\"blue\",\"width\":2},\"mode\":\"lines\",\"x\":[-4096,-2944],\"y\":[3968,5120],\"type\":\"scatter\"},{\"line\":{\"color\":\"blue\",\"width\":2},\"mode\":\"lines\",\"x\":[-4096,-2944],\"y\":[3968,5120],\"type\":\"scatter\"},{\"line\":{\"color\":\"blue\",\"width\":2},\"mode\":\"lines\",\"x\":[4096,2944],\"y\":[3968,5120],\"type\":\"scatter\"},{\"line\":{\"color\":\"blue\",\"width\":2},\"mode\":\"lines\",\"x\":[-4096,-2944],\"y\":[-3968,-5120],\"type\":\"scatter\"},{\"line\":{\"color\":\"blue\",\"width\":2},\"mode\":\"lines\",\"x\":[-4096,-2944],\"y\":[3968,5120],\"type\":\"scatter\"},{\"line\":{\"color\":\"blue\",\"width\":2},\"mode\":\"lines\",\"x\":[4096,2944],\"y\":[-3968,-5120],\"type\":\"scatter\"},{\"line\":{\"color\":\"blue\",\"width\":2},\"mode\":\"lines\",\"x\":[-4096,-4096],\"y\":[3968,-3968],\"type\":\"scatter\"},{\"line\":{\"color\":\"blue\",\"width\":2},\"mode\":\"lines\",\"x\":[4096,4096],\"y\":[3968,-3968],\"type\":\"scatter\"},{\"line\":{\"color\":\"blue\",\"width\":2},\"mode\":\"lines\",\"x\":[-2944,-893],\"y\":[5120,5120],\"type\":\"scatter\"},{\"line\":{\"color\":\"blue\",\"width\":2},\"mode\":\"lines\",\"x\":[2944,893],\"y\":[5120,5120],\"type\":\"scatter\"},{\"line\":{\"color\":\"blue\",\"width\":2},\"mode\":\"lines\",\"x\":[-893,893],\"y\":[5120,5120],\"type\":\"scatter\"},{\"line\":{\"color\":\"blue\",\"width\":2},\"mode\":\"lines\",\"x\":[-2944,-893],\"y\":[-5120,-5120],\"type\":\"scatter\"},{\"line\":{\"color\":\"blue\",\"width\":2},\"mode\":\"lines\",\"x\":[2944,893],\"y\":[-5120,-5120],\"type\":\"scatter\"},{\"line\":{\"color\":\"blue\",\"width\":2},\"mode\":\"lines\",\"x\":[-893,893],\"y\":[-5120,-5120],\"type\":\"scatter\"},{\"line\":{\"color\":\"blue\",\"width\":2},\"mode\":\"lines\",\"x\":[-893,893],\"y\":[6000,6000],\"type\":\"scatter\"},{\"line\":{\"color\":\"blue\",\"width\":2},\"mode\":\"lines\",\"x\":[893,893],\"y\":[6000,5120],\"type\":\"scatter\"},{\"line\":{\"color\":\"blue\",\"width\":2},\"mode\":\"lines\",\"x\":[-893,-893],\"y\":[6000,5120],\"type\":\"scatter\"},{\"line\":{\"color\":\"blue\",\"width\":2},\"mode\":\"lines\",\"x\":[-893,893],\"y\":[-6000,-6000],\"type\":\"scatter\"},{\"line\":{\"color\":\"blue\",\"width\":2},\"mode\":\"lines\",\"x\":[893,893],\"y\":[-6000,-5120],\"type\":\"scatter\"},{\"line\":{\"color\":\"blue\",\"width\":2},\"mode\":\"lines\",\"x\":[-893,-893],\"y\":[-6000,-5120],\"type\":\"scatter\"},{\"marker\":{\"color\":\"pink\"},\"mode\":\"markers\",\"x\":[-3072.0,3072.0,-3584.0,3584.0,-3072.0,3072.0,0.0,-1792.0,1792.0,-940.0,940.0,0.0,-3584.0,3584.0,-1788.0,1788.0,-2048.0,0.0,2048.0,-1024.0,1024.0,-2048.0,0.0,2048.0,-1788.0,1788.0,-3584.0,3584.0,0.0,-940.0,940.0,-1792.0,1792.0,0.0],\"y\":[-4096.0,-4096.0,0.0,0.0,4096.0,4096.0,-4240.0,-4184.0,-4184.0,-3308.0,-3308.0,-2816.0,-2484.0,-2484.0,-2300.0,-2300.0,-1036.0,-1024.0,-1036.0,0.0,0.0,1036.0,1024.0,1036.0,2300.0,2300.0,2484.0,2484.0,2816.0,3310.0,3308.0,4184.0,4184.0,4240.0],\"type\":\"scatter\"}],                        {\"height\":800,\"hovermode\":\"closest\",\"title\":{\"text\":\"Expected Goal: 0.15273556624966977\\n Result: No Goal\"},\"width\":700,\"xaxis\":{\"autorange\":false,\"range\":[-5000,5000],\"zeroline\":false},\"yaxis\":{\"autorange\":false,\"range\":[-6050,6050],\"zeroline\":false},\"template\":{\"data\":{\"bar\":[{\"error_x\":{\"color\":\"#2a3f5f\"},\"error_y\":{\"color\":\"#2a3f5f\"},\"marker\":{\"line\":{\"color\":\"#E5ECF6\",\"width\":0.5},\"pattern\":{\"fillmode\":\"overlay\",\"size\":10,\"solidity\":0.2}},\"type\":\"bar\"}],\"barpolar\":[{\"marker\":{\"line\":{\"color\":\"#E5ECF6\",\"width\":0.5},\"pattern\":{\"fillmode\":\"overlay\",\"size\":10,\"solidity\":0.2}},\"type\":\"barpolar\"}],\"carpet\":[{\"aaxis\":{\"endlinecolor\":\"#2a3f5f\",\"gridcolor\":\"white\",\"linecolor\":\"white\",\"minorgridcolor\":\"white\",\"startlinecolor\":\"#2a3f5f\"},\"baxis\":{\"endlinecolor\":\"#2a3f5f\",\"gridcolor\":\"white\",\"linecolor\":\"white\",\"minorgridcolor\":\"white\",\"startlinecolor\":\"#2a3f5f\"},\"type\":\"carpet\"}],\"choropleth\":[{\"colorbar\":{\"outlinewidth\":0,\"ticks\":\"\"},\"type\":\"choropleth\"}],\"contour\":[{\"colorbar\":{\"outlinewidth\":0,\"ticks\":\"\"},\"colorscale\":[[0.0,\"#0d0887\"],[0.1111111111111111,\"#46039f\"],[0.2222222222222222,\"#7201a8\"],[0.3333333333333333,\"#9c179e\"],[0.4444444444444444,\"#bd3786\"],[0.5555555555555556,\"#d8576b\"],[0.6666666666666666,\"#ed7953\"],[0.7777777777777778,\"#fb9f3a\"],[0.8888888888888888,\"#fdca26\"],[1.0,\"#f0f921\"]],\"type\":\"contour\"}],\"contourcarpet\":[{\"colorbar\":{\"outlinewidth\":0,\"ticks\":\"\"},\"type\":\"contourcarpet\"}],\"heatmap\":[{\"colorbar\":{\"outlinewidth\":0,\"ticks\":\"\"},\"colorscale\":[[0.0,\"#0d0887\"],[0.1111111111111111,\"#46039f\"],[0.2222222222222222,\"#7201a8\"],[0.3333333333333333,\"#9c179e\"],[0.4444444444444444,\"#bd3786\"],[0.5555555555555556,\"#d8576b\"],[0.6666666666666666,\"#ed7953\"],[0.7777777777777778,\"#fb9f3a\"],[0.8888888888888888,\"#fdca26\"],[1.0,\"#f0f921\"]],\"type\":\"heatmap\"}],\"heatmapgl\":[{\"colorbar\":{\"outlinewidth\":0,\"ticks\":\"\"},\"colorscale\":[[0.0,\"#0d0887\"],[0.1111111111111111,\"#46039f\"],[0.2222222222222222,\"#7201a8\"],[0.3333333333333333,\"#9c179e\"],[0.4444444444444444,\"#bd3786\"],[0.5555555555555556,\"#d8576b\"],[0.6666666666666666,\"#ed7953\"],[0.7777777777777778,\"#fb9f3a\"],[0.8888888888888888,\"#fdca26\"],[1.0,\"#f0f921\"]],\"type\":\"heatmapgl\"}],\"histogram\":[{\"marker\":{\"pattern\":{\"fillmode\":\"overlay\",\"size\":10,\"solidity\":0.2}},\"type\":\"histogram\"}],\"histogram2d\":[{\"colorbar\":{\"outlinewidth\":0,\"ticks\":\"\"},\"colorscale\":[[0.0,\"#0d0887\"],[0.1111111111111111,\"#46039f\"],[0.2222222222222222,\"#7201a8\"],[0.3333333333333333,\"#9c179e\"],[0.4444444444444444,\"#bd3786\"],[0.5555555555555556,\"#d8576b\"],[0.6666666666666666,\"#ed7953\"],[0.7777777777777778,\"#fb9f3a\"],[0.8888888888888888,\"#fdca26\"],[1.0,\"#f0f921\"]],\"type\":\"histogram2d\"}],\"histogram2dcontour\":[{\"colorbar\":{\"outlinewidth\":0,\"ticks\":\"\"},\"colorscale\":[[0.0,\"#0d0887\"],[0.1111111111111111,\"#46039f\"],[0.2222222222222222,\"#7201a8\"],[0.3333333333333333,\"#9c179e\"],[0.4444444444444444,\"#bd3786\"],[0.5555555555555556,\"#d8576b\"],[0.6666666666666666,\"#ed7953\"],[0.7777777777777778,\"#fb9f3a\"],[0.8888888888888888,\"#fdca26\"],[1.0,\"#f0f921\"]],\"type\":\"histogram2dcontour\"}],\"mesh3d\":[{\"colorbar\":{\"outlinewidth\":0,\"ticks\":\"\"},\"type\":\"mesh3d\"}],\"parcoords\":[{\"line\":{\"colorbar\":{\"outlinewidth\":0,\"ticks\":\"\"}},\"type\":\"parcoords\"}],\"pie\":[{\"automargin\":true,\"type\":\"pie\"}],\"scatter\":[{\"marker\":{\"colorbar\":{\"outlinewidth\":0,\"ticks\":\"\"}},\"type\":\"scatter\"}],\"scatter3d\":[{\"line\":{\"colorbar\":{\"outlinewidth\":0,\"ticks\":\"\"}},\"marker\":{\"colorbar\":{\"outlinewidth\":0,\"ticks\":\"\"}},\"type\":\"scatter3d\"}],\"scattercarpet\":[{\"marker\":{\"colorbar\":{\"outlinewidth\":0,\"ticks\":\"\"}},\"type\":\"scattercarpet\"}],\"scattergeo\":[{\"marker\":{\"colorbar\":{\"outlinewidth\":0,\"ticks\":\"\"}},\"type\":\"scattergeo\"}],\"scattergl\":[{\"marker\":{\"colorbar\":{\"outlinewidth\":0,\"ticks\":\"\"}},\"type\":\"scattergl\"}],\"scattermapbox\":[{\"marker\":{\"colorbar\":{\"outlinewidth\":0,\"ticks\":\"\"}},\"type\":\"scattermapbox\"}],\"scatterpolar\":[{\"marker\":{\"colorbar\":{\"outlinewidth\":0,\"ticks\":\"\"}},\"type\":\"scatterpolar\"}],\"scatterpolargl\":[{\"marker\":{\"colorbar\":{\"outlinewidth\":0,\"ticks\":\"\"}},\"type\":\"scatterpolargl\"}],\"scatterternary\":[{\"marker\":{\"colorbar\":{\"outlinewidth\":0,\"ticks\":\"\"}},\"type\":\"scatterternary\"}],\"surface\":[{\"colorbar\":{\"outlinewidth\":0,\"ticks\":\"\"},\"colorscale\":[[0.0,\"#0d0887\"],[0.1111111111111111,\"#46039f\"],[0.2222222222222222,\"#7201a8\"],[0.3333333333333333,\"#9c179e\"],[0.4444444444444444,\"#bd3786\"],[0.5555555555555556,\"#d8576b\"],[0.6666666666666666,\"#ed7953\"],[0.7777777777777778,\"#fb9f3a\"],[0.8888888888888888,\"#fdca26\"],[1.0,\"#f0f921\"]],\"type\":\"surface\"}],\"table\":[{\"cells\":{\"fill\":{\"color\":\"#EBF0F8\"},\"line\":{\"color\":\"white\"}},\"header\":{\"fill\":{\"color\":\"#C8D4E3\"},\"line\":{\"color\":\"white\"}},\"type\":\"table\"}]},\"layout\":{\"annotationdefaults\":{\"arrowcolor\":\"#2a3f5f\",\"arrowhead\":0,\"arrowwidth\":1},\"autotypenumbers\":\"strict\",\"coloraxis\":{\"colorbar\":{\"outlinewidth\":0,\"ticks\":\"\"}},\"colorscale\":{\"diverging\":[[0,\"#8e0152\"],[0.1,\"#c51b7d\"],[0.2,\"#de77ae\"],[0.3,\"#f1b6da\"],[0.4,\"#fde0ef\"],[0.5,\"#f7f7f7\"],[0.6,\"#e6f5d0\"],[0.7,\"#b8e186\"],[0.8,\"#7fbc41\"],[0.9,\"#4d9221\"],[1,\"#276419\"]],\"sequential\":[[0.0,\"#0d0887\"],[0.1111111111111111,\"#46039f\"],[0.2222222222222222,\"#7201a8\"],[0.3333333333333333,\"#9c179e\"],[0.4444444444444444,\"#bd3786\"],[0.5555555555555556,\"#d8576b\"],[0.6666666666666666,\"#ed7953\"],[0.7777777777777778,\"#fb9f3a\"],[0.8888888888888888,\"#fdca26\"],[1.0,\"#f0f921\"]],\"sequentialminus\":[[0.0,\"#0d0887\"],[0.1111111111111111,\"#46039f\"],[0.2222222222222222,\"#7201a8\"],[0.3333333333333333,\"#9c179e\"],[0.4444444444444444,\"#bd3786\"],[0.5555555555555556,\"#d8576b\"],[0.6666666666666666,\"#ed7953\"],[0.7777777777777778,\"#fb9f3a\"],[0.8888888888888888,\"#fdca26\"],[1.0,\"#f0f921\"]]},\"colorway\":[\"#636efa\",\"#EF553B\",\"#00cc96\",\"#ab63fa\",\"#FFA15A\",\"#19d3f3\",\"#FF6692\",\"#B6E880\",\"#FF97FF\",\"#FECB52\"],\"font\":{\"color\":\"#2a3f5f\"},\"geo\":{\"bgcolor\":\"white\",\"lakecolor\":\"white\",\"landcolor\":\"#E5ECF6\",\"showlakes\":true,\"showland\":true,\"subunitcolor\":\"white\"},\"hoverlabel\":{\"align\":\"left\"},\"hovermode\":\"closest\",\"mapbox\":{\"style\":\"light\"},\"paper_bgcolor\":\"white\",\"plot_bgcolor\":\"#E5ECF6\",\"polar\":{\"angularaxis\":{\"gridcolor\":\"white\",\"linecolor\":\"white\",\"ticks\":\"\"},\"bgcolor\":\"#E5ECF6\",\"radialaxis\":{\"gridcolor\":\"white\",\"linecolor\":\"white\",\"ticks\":\"\"}},\"scene\":{\"xaxis\":{\"backgroundcolor\":\"#E5ECF6\",\"gridcolor\":\"white\",\"gridwidth\":2,\"linecolor\":\"white\",\"showbackground\":true,\"ticks\":\"\",\"zerolinecolor\":\"white\"},\"yaxis\":{\"backgroundcolor\":\"#E5ECF6\",\"gridcolor\":\"white\",\"gridwidth\":2,\"linecolor\":\"white\",\"showbackground\":true,\"ticks\":\"\",\"zerolinecolor\":\"white\"},\"zaxis\":{\"backgroundcolor\":\"#E5ECF6\",\"gridcolor\":\"white\",\"gridwidth\":2,\"linecolor\":\"white\",\"showbackground\":true,\"ticks\":\"\",\"zerolinecolor\":\"white\"}},\"shapedefaults\":{\"line\":{\"color\":\"#2a3f5f\"}},\"ternary\":{\"aaxis\":{\"gridcolor\":\"white\",\"linecolor\":\"white\",\"ticks\":\"\"},\"baxis\":{\"gridcolor\":\"white\",\"linecolor\":\"white\",\"ticks\":\"\"},\"bgcolor\":\"#E5ECF6\",\"caxis\":{\"gridcolor\":\"white\",\"linecolor\":\"white\",\"ticks\":\"\"}},\"title\":{\"x\":0.05},\"xaxis\":{\"automargin\":true,\"gridcolor\":\"white\",\"linecolor\":\"white\",\"ticks\":\"\",\"title\":{\"standoff\":15},\"zerolinecolor\":\"white\",\"zerolinewidth\":2},\"yaxis\":{\"automargin\":true,\"gridcolor\":\"white\",\"linecolor\":\"white\",\"ticks\":\"\",\"title\":{\"standoff\":15},\"zerolinecolor\":\"white\",\"zerolinewidth\":2}}},\"autosize\":false,\"updatemenus\":[{\"buttons\":[{\"args\":[null,{\"frame\":{\"duration\":30,\"redraw\":false},\"fromcurrent\":true,\"transition\":{\"duration\":0}}],\"label\":\"Play\",\"method\":\"animate\"}],\"showactive\":false,\"type\":\"buttons\",\"x\":1.12,\"xanchor\":\"right\",\"y\":1,\"yanchor\":\"top\"}]},                        {\"responsive\": true}                    ).then(function(){\n",
       "                            Plotly.addFrames('688fae58-5f9d-465b-a267-b7125b74f00b', [{\"data\":[{\"marker\":{\"color\":[\"orange\",\"blue\",\"blue\",\"blue\",\"orange\",\"orange\"],\"size\":10},\"mode\":\"markers\",\"x\":[-998.719970703125,-3682.39990234375,-110.2699966430664,-3838.550048828125,2052.1201171875,-3383.64990234375],\"y\":[4334.009765625,-119.72000122070312,-4084.030029296875,1827.5899658203125,3573.800048828125,2912.06005859375],\"type\":\"scatter\"},{\"marker\":{\"color\":\"black\",\"size\":10},\"mode\":\"markers\",\"x\":[-3543.919921875],\"y\":[2248.949951171875],\"type\":\"scatter\"}]},{\"data\":[{\"marker\":{\"color\":[\"orange\",\"blue\",\"blue\",\"blue\",\"orange\",\"orange\"],\"size\":10},\"mode\":\"markers\",\"x\":[-998.719970703125,-3682.39990234375,23.780000686645508,-3838.550048828125,2007.530029296875,-3348.830078125],\"y\":[4334.009765625,-119.72000122070312,-4149.60009765625,1827.5899658203125,3743.389892578125,2776.1298828125],\"type\":\"scatter\"},{\"marker\":{\"color\":\"black\",\"size\":10},\"mode\":\"markers\",\"x\":[-3522.219970703125],\"y\":[2200.409912109375],\"type\":\"scatter\"}]},{\"data\":[{\"marker\":{\"color\":[\"orange\",\"blue\",\"blue\",\"blue\",\"orange\",\"orange\"],\"size\":10},\"mode\":\"markers\",\"x\":[-1060.0400390625,-3646.6298828125,23.780000686645508,-3822.22998046875,2007.530029296875,-3348.830078125],\"y\":[4253.9501953125,-121.37999725341797,-4149.60009765625,1710.3499755859375,3743.389892578125,2776.1298828125],\"type\":\"scatter\"},{\"marker\":{\"color\":\"black\",\"size\":10},\"mode\":\"markers\",\"x\":[-3511.3798828125],\"y\":[2176.14990234375],\"type\":\"scatter\"}]},{\"data\":[{\"marker\":{\"color\":[\"orange\",\"blue\",\"blue\",\"blue\",\"orange\",\"orange\"],\"size\":10},\"mode\":\"markers\",\"x\":[-1060.0400390625,-3646.6298828125,198.80999755859375,-3822.22998046875,1973.3399658203125,-3308.18994140625],\"y\":[4253.9501953125,-121.37999725341797,-4206.77978515625,1710.3499755859375,3847.260009765625,2647.699951171875],\"type\":\"scatter\"},{\"marker\":{\"color\":\"black\",\"size\":10},\"mode\":\"markers\",\"x\":[-3457.25],\"y\":[2055.070068359375],\"type\":\"scatter\"}]},{\"data\":[{\"marker\":{\"color\":[\"orange\",\"blue\",\"blue\",\"blue\",\"orange\",\"orange\"],\"size\":10},\"mode\":\"markers\",\"x\":[-1122.0400390625,-3603.580078125,198.80999755859375,-3796.719970703125,1922.989990234375,-3308.18994140625],\"y\":[4166.6298828125,-128.41000366210938,-4206.77978515625,1532.489990234375,3991.780029296875,2647.699951171875],\"type\":\"scatter\"},{\"marker\":{\"color\":\"black\",\"size\":10},\"mode\":\"markers\",\"x\":[-3441.050048828125],\"y\":[2018.800048828125],\"type\":\"scatter\"}]},{\"data\":[{\"marker\":{\"color\":[\"orange\",\"blue\",\"blue\",\"blue\",\"orange\",\"orange\"],\"size\":10},\"mode\":\"markers\",\"x\":[-1122.0400390625,-3603.580078125,396.1300048828125,-3796.719970703125,1912.43994140625,-3260.1201171875],\"y\":[4166.6298828125,-128.41000366210938,-4238.22998046875,1532.489990234375,4020.010009765625,2498.85009765625],\"type\":\"scatter\"},{\"marker\":{\"color\":\"black\",\"size\":10},\"mode\":\"markers\",\"x\":[-3408.669921875],\"y\":[1946.3499755859375],\"type\":\"scatter\"}]},{\"data\":[{\"marker\":{\"color\":[\"orange\",\"blue\",\"blue\",\"blue\",\"orange\",\"orange\"],\"size\":10},\"mode\":\"markers\",\"x\":[-1185.6099853515625,-3542.1298828125,432.17999267578125,-3768.080078125,1866.8499755859375,-3242.10009765625],\"y\":[4074.659912109375,-135.4499969482422,-4241.22021484375,1332.2900390625,4129.72021484375,2443.580078125],\"type\":\"scatter\"},{\"marker\":{\"color\":\"black\",\"size\":10},\"mode\":\"markers\",\"x\":[-3376.340087890625],\"y\":[1874.02001953125],\"type\":\"scatter\"}]},{\"data\":[{\"marker\":{\"color\":[\"orange\",\"blue\",\"blue\",\"blue\",\"orange\",\"orange\"],\"size\":10},\"mode\":\"markers\",\"x\":[-1185.6099853515625,-3542.1298828125,558.4400024414062,-3768.080078125,1854.3399658203125,-3242.10009765625],\"y\":[4074.659912109375,-135.4499969482422,-4247.330078125,1332.2900390625,4156.16015625,2443.580078125],\"type\":\"scatter\"},{\"marker\":{\"color\":\"black\",\"size\":10},\"mode\":\"markers\",\"x\":[-3360.199951171875],\"y\":[1837.8900146484375],\"type\":\"scatter\"}]},{\"data\":[{\"marker\":{\"color\":[\"orange\",\"blue\",\"blue\",\"blue\",\"orange\",\"orange\"],\"size\":10},\"mode\":\"markers\",\"x\":[-1231.1099853515625,-3490.590087890625,594.52001953125,-3751.35009765625,1854.3399658203125,-3200.6201171875],\"y\":[4008.419921875,-135.55999755859375,-4248.18994140625,1215.25,4156.16015625,2317.31005859375],\"type\":\"scatter\"},{\"marker\":{\"color\":\"black\",\"size\":10},\"mode\":\"markers\",\"x\":[-3327.949951171875],\"y\":[1765.719970703125],\"type\":\"scatter\"}]},{\"data\":[{\"marker\":{\"color\":[\"orange\",\"blue\",\"blue\",\"blue\",\"orange\",\"orange\"],\"size\":10},\"mode\":\"markers\",\"x\":[-1231.1099853515625,-3490.590087890625,738.8400268554688,-3751.35009765625,1791.239990234375,-3200.6201171875],\"y\":[4008.419921875,-135.55999755859375,-4249.669921875,1215.25,4268.7900390625,2317.31005859375],\"type\":\"scatter\"},{\"marker\":{\"color\":\"black\",\"size\":10},\"mode\":\"markers\",\"x\":[-3306.469970703125],\"y\":[1717.6700439453125],\"type\":\"scatter\"}]},{\"data\":[{\"marker\":{\"color\":[\"orange\",\"blue\",\"blue\",\"blue\",\"orange\",\"orange\"],\"size\":10},\"mode\":\"markers\",\"x\":[-1280.780029296875,-3490.590087890625,738.8400268554688,-3722.669921875,1791.239990234375,-3200.6201171875],\"y\":[3935.81005859375,-135.55999755859375,-4249.669921875,1014.6099853515625,4268.7900390625,2317.31005859375],\"type\":\"scatter\"},{\"marker\":{\"color\":\"black\",\"size\":10},\"mode\":\"markers\",\"x\":[-3285.030029296875],\"y\":[1669.6600341796875],\"type\":\"scatter\"}]},{\"data\":[{\"marker\":{\"color\":[\"orange\",\"blue\",\"blue\",\"blue\",\"orange\",\"orange\"],\"size\":10},\"mode\":\"markers\",\"x\":[-1290.6600341796875,-3416.340087890625,919.2100219726562,-3722.669921875,1689.97998046875,-3143.610107421875],\"y\":[3921.010009765625,-123.80000305175781,-4251.7998046875,1014.6099853515625,4399.4501953125,2145.669921875],\"type\":\"scatter\"},{\"marker\":{\"color\":\"black\",\"size\":10},\"mode\":\"markers\",\"x\":[-3252.89990234375],\"y\":[1597.75],\"type\":\"scatter\"}]},{\"data\":[{\"marker\":{\"color\":[\"orange\",\"blue\",\"blue\",\"blue\",\"orange\",\"orange\"],\"size\":10},\"mode\":\"markers\",\"x\":[-1337.550048828125,-3416.340087890625,955.260009765625,-3703.550048828125,1689.97998046875,-3095.89990234375],\"y\":[3844.179931640625,-123.80000305175781,-4252.77978515625,880.8499755859375,4399.4501953125,2002.22998046875],\"type\":\"scatter\"},{\"marker\":{\"color\":\"black\",\"size\":10},\"mode\":\"markers\",\"x\":[-3220.820068359375],\"y\":[1525.949951171875],\"type\":\"scatter\"}]},{\"data\":[{\"marker\":{\"color\":[\"orange\",\"blue\",\"blue\",\"blue\",\"orange\",\"orange\"],\"size\":10},\"mode\":\"markers\",\"x\":[-1337.550048828125,-3346.4599609375,955.260009765625,-3703.550048828125,1624.9000244140625,-3091.1201171875],\"y\":[3844.179931640625,-108.69000244140625,-4252.77978515625,880.8499755859375,4466.35009765625,1987.8699951171875],\"type\":\"scatter\"},{\"marker\":{\"color\":\"black\",\"size\":10},\"mode\":\"markers\",\"x\":[-3204.800048828125],\"y\":[1490.0899658203125],\"type\":\"scatter\"}]},{\"data\":[{\"marker\":{\"color\":[\"orange\",\"blue\",\"blue\",\"blue\",\"orange\",\"orange\"],\"size\":10},\"mode\":\"markers\",\"x\":[-1373.7900390625,-3346.4599609375,1153.9200439453125,-3677.260009765625,1624.9000244140625,-3091.1201171875],\"y\":[3770.10009765625,-108.69000244140625,-4263.169921875,696.9299926757812,4466.35009765625,1987.8699951171875],\"type\":\"scatter\"},{\"marker\":{\"color\":\"black\",\"size\":10},\"mode\":\"markers\",\"x\":[-3172.7900390625],\"y\":[1418.4599609375],\"type\":\"scatter\"}]},{\"data\":[{\"marker\":{\"color\":[\"orange\",\"blue\",\"blue\",\"blue\",\"orange\",\"orange\"],\"size\":10},\"mode\":\"markers\",\"x\":[-1380.9100341796875,-3270.169921875,1153.9200439453125,-3677.260009765625,1529.0999755859375,-3043.27001953125],\"y\":[3752.969970703125,-92.1500015258789,-4263.169921875,696.9299926757812,4554.10009765625,1844.0799560546875],\"type\":\"scatter\"},{\"marker\":{\"color\":\"black\",\"size\":10},\"mode\":\"markers\",\"x\":[-3151.47998046875],\"y\":[1370.77001953125],\"type\":\"scatter\"}]},{\"data\":[{\"marker\":{\"color\":[\"orange\",\"blue\",\"blue\",\"blue\",\"orange\",\"orange\"],\"size\":10},\"mode\":\"markers\",\"x\":[-1407.280029296875,-3270.169921875,1302.199951171875,-3658.139892578125,1529.0999755859375,-3043.27001953125],\"y\":[3682.60009765625,-92.1500015258789,-4275.33984375,563.1699829101562,4554.10009765625,1844.0799560546875],\"type\":\"scatter\"},{\"marker\":{\"color\":\"black\",\"size\":10},\"mode\":\"markers\",\"x\":[-3119.56005859375],\"y\":[1299.3199462890625],\"type\":\"scatter\"}]},{\"data\":[{\"marker\":{\"color\":[\"orange\",\"blue\",\"blue\",\"blue\",\"orange\",\"orange\"],\"size\":10},\"mode\":\"markers\",\"x\":[-1407.280029296875,-3201.77001953125,1473.5699462890625,-3636.6298828125,1422.0,-2990.580078125],\"y\":[3682.60009765625,-76.8499984741211,-4291.759765625,412.69000244140625,4641.7998046875,1685.530029296875],\"type\":\"scatter\"},{\"marker\":{\"color\":\"black\",\"size\":10},\"mode\":\"markers\",\"x\":[-3093.0],\"y\":[1239.8699951171875],\"type\":\"scatter\"}]},{\"data\":[{\"marker\":{\"color\":[\"orange\",\"blue\",\"blue\",\"blue\",\"orange\",\"orange\"],\"size\":10},\"mode\":\"markers\",\"x\":[-1407.280029296875,-3201.77001953125,1473.5699462890625,-3636.6298828125,1422.0,-2990.580078125],\"y\":[3682.60009765625,-76.8499984741211,-4291.759765625,412.69000244140625,4641.7998046875,1685.530029296875],\"type\":\"scatter\"},{\"marker\":{\"color\":\"black\",\"size\":10},\"mode\":\"markers\",\"x\":[-3071.77001953125],\"y\":[1192.3599853515625],\"type\":\"scatter\"}]},{\"data\":[{\"marker\":{\"color\":[\"orange\",\"blue\",\"blue\",\"blue\",\"orange\",\"orange\"],\"size\":10},\"mode\":\"markers\",\"x\":[-1445.739990234375,-3136.300048828125,1664.93994140625,-3636.6298828125,1318.8599853515625,-2942.679931640625],\"y\":[3559.93994140625,-57.91999816894531,-4311.22021484375,412.69000244140625,4710.14990234375,1541.1700439453125],\"type\":\"scatter\"},{\"marker\":{\"color\":\"black\",\"size\":10},\"mode\":\"markers\",\"x\":[-3039.969970703125],\"y\":[1121.18994140625],\"type\":\"scatter\"}]},{\"data\":[{\"marker\":{\"color\":[\"orange\",\"blue\",\"blue\",\"blue\",\"orange\",\"orange\"],\"size\":10},\"mode\":\"markers\",\"x\":[-1445.739990234375,-3136.300048828125,1703.199951171875,-3603.169921875,1231.1700439453125,-2904.409912109375],\"y\":[3559.93994140625,-57.91999816894531,-4315.18017578125,178.61000061035156,4753.85986328125,1425.47998046875],\"type\":\"scatter\"},{\"marker\":{\"color\":\"black\",\"size\":10},\"mode\":\"markers\",\"x\":[-3008.22998046875],\"y\":[1050.1300048828125],\"type\":\"scatter\"}]},{\"data\":[{\"marker\":{\"color\":[\"orange\",\"blue\",\"blue\",\"blue\",\"orange\",\"orange\"],\"size\":10},\"mode\":\"markers\",\"x\":[-1474.5899658203125,-3067.8798828125,1856.27001953125,-3603.169921875,1208.6099853515625,-2894.85009765625],\"y\":[3454.840087890625,-33.20000076293945,-4330.85986328125,178.61000061035156,4762.990234375,1396.52001953125],\"type\":\"scatter\"},{\"marker\":{\"color\":\"black\",\"size\":10},\"mode\":\"markers\",\"x\":[-2987.10009765625],\"y\":[1002.8200073242188],\"type\":\"scatter\"}]},{\"data\":[{\"marker\":{\"color\":[\"orange\",\"blue\",\"blue\",\"blue\",\"orange\",\"orange\"],\"size\":10},\"mode\":\"markers\",\"x\":[-1500.050048828125,-3067.8798828125,1856.27001953125,-3586.43994140625,1104.81005859375,-2851.9599609375],\"y\":[3352.840087890625,-33.20000076293945,-4330.85986328125,61.56999969482422,4794.6201171875,1266.030029296875],\"type\":\"scatter\"},{\"marker\":{\"color\":\"black\",\"size\":10},\"mode\":\"markers\",\"x\":[-2950.169921875],\"y\":[920.1400146484375],\"type\":\"scatter\"}]},{\"data\":[{\"marker\":{\"color\":[\"orange\",\"blue\",\"blue\",\"blue\",\"orange\",\"orange\"],\"size\":10},\"mode\":\"markers\",\"x\":[-1500.050048828125,-2990.429931640625,2066.89990234375,-3562.5400390625,1104.81005859375,-2851.9599609375],\"y\":[3352.840087890625,0.75,-4344.43017578125,-105.62999725341797,4794.6201171875,1266.030029296875],\"type\":\"scatter\"},{\"marker\":{\"color\":\"black\",\"size\":10},\"mode\":\"markers\",\"x\":[-2929.090087890625],\"y\":[872.9600219726562],\"type\":\"scatter\"}]},{\"data\":[{\"marker\":{\"color\":[\"orange\",\"blue\",\"blue\",\"blue\",\"orange\",\"orange\"],\"size\":10},\"mode\":\"markers\",\"x\":[-1528.25,-2990.429931640625,2066.89990234375,-3562.5400390625,986.6500244140625,-2804.52001953125],\"y\":[3232.590087890625,0.75,-4344.43017578125,-105.62999725341797,4815.58984375,1120.7099609375],\"type\":\"scatter\"},{\"marker\":{\"color\":\"black\",\"size\":10},\"mode\":\"markers\",\"x\":[-2897.52001953125],\"y\":[802.280029296875],\"type\":\"scatter\"}]},{\"data\":[{\"marker\":{\"color\":[\"orange\",\"blue\",\"blue\",\"blue\",\"orange\",\"orange\"],\"size\":10},\"mode\":\"markers\",\"x\":[-1531.1099853515625,-2926.260009765625,2238.419921875,-3536.25,986.6500244140625,-2804.52001953125],\"y\":[3220.18994140625,33.779998779296875,-4340.10986328125,-289.54998779296875,4815.58984375,1120.7099609375],\"type\":\"scatter\"},{\"marker\":{\"color\":\"black\",\"size\":10},\"mode\":\"markers\",\"x\":[-2881.75],\"y\":[766.97998046875],\"type\":\"scatter\"}]},{\"data\":[{\"marker\":{\"color\":[\"orange\",\"blue\",\"blue\",\"blue\",\"orange\",\"orange\"],\"size\":10},\"mode\":\"markers\",\"x\":[-1560.9000244140625,-2926.260009765625,2389.570068359375,-3536.25,900.3499755859375,-2771.47998046875],\"y\":[3092.550048828125,33.779998779296875,-4324.6298828125,-289.54998779296875,4823.52978515625,1018.7999877929688],\"type\":\"scatter\"},{\"marker\":{\"color\":\"black\",\"size\":10},\"mode\":\"markers\",\"x\":[-2839.760009765625],\"y\":[672.97998046875],\"type\":\"scatter\"}]},{\"data\":[{\"marker\":{\"color\":[\"orange\",\"blue\",\"blue\",\"blue\",\"orange\",\"orange\"],\"size\":10},\"mode\":\"markers\",\"x\":[-1560.9000244140625,-2840.580078125,2427.14990234375,-3536.25,900.3499755859375,-2771.47998046875],\"y\":[3092.550048828125,81.56999969482422,-4319.43994140625,-289.54998779296875,4823.52978515625,1018.7999877929688],\"type\":\"scatter\"},{\"marker\":{\"color\":\"black\",\"size\":10},\"mode\":\"markers\",\"x\":[-2818.800048828125],\"y\":[626.0499877929688],\"type\":\"scatter\"}]},{\"data\":[{\"marker\":{\"color\":[\"orange\",\"blue\",\"blue\",\"blue\",\"orange\",\"orange\"],\"size\":10},\"mode\":\"markers\",\"x\":[-1590.1500244140625,-2840.580078125,2427.14990234375,-3509.0400390625,732.0,-2724.570068359375],\"y\":[2972.199951171875,81.56999969482422,-4319.43994140625,-490.44000244140625,4819.7998046875,872.97998046875],\"type\":\"scatter\"},{\"marker\":{\"color\":\"black\",\"size\":10},\"mode\":\"markers\",\"x\":[-2792.6298828125],\"y\":[567.4600219726562],\"type\":\"scatter\"}]},{\"data\":[{\"marker\":{\"color\":[\"orange\",\"blue\",\"blue\",\"blue\",\"orange\",\"orange\"],\"size\":10},\"mode\":\"markers\",\"x\":[-1590.1500244140625,-2776.35009765625,2595.030029296875,-3509.0400390625,732.0,-2682.64990234375],\"y\":[2972.199951171875,117.75,-4290.0498046875,-490.44000244140625,4819.7998046875,741.530029296875],\"type\":\"scatter\"},{\"marker\":{\"color\":\"black\",\"size\":10},\"mode\":\"markers\",\"x\":[-2761.260009765625],\"y\":[497.25],\"type\":\"scatter\"}]},{\"data\":[{\"marker\":{\"color\":[\"orange\",\"blue\",\"blue\",\"blue\",\"orange\",\"orange\"],\"size\":10},\"mode\":\"markers\",\"x\":[-1618.1199951171875,-2776.35009765625,2595.030029296875,-3494.2099609375,625.219970703125,-2682.64990234375],\"y\":[2860.89990234375,117.75,-4290.0498046875,-675.1900024414062,4801.97998046875,741.530029296875],\"type\":\"scatter\"},{\"marker\":{\"color\":\"black\",\"size\":10},\"mode\":\"markers\",\"x\":[-2729.93994140625],\"y\":[427.1400146484375],\"type\":\"scatter\"}]},{\"data\":[{\"marker\":{\"color\":[\"orange\",\"blue\",\"blue\",\"blue\",\"orange\",\"orange\"],\"size\":10},\"mode\":\"markers\",\"x\":[-1655.260009765625,-2676.590087890625,2848.010009765625,-3490.1298828125,625.219970703125,-2626.85009765625],\"y\":[2715.93994140625,174.5800018310547,-4218.39990234375,-843.3800048828125,4801.97998046875,566.2100219726562],\"type\":\"scatter\"},{\"marker\":{\"color\":\"black\",\"size\":10},\"mode\":\"markers\",\"x\":[-2698.679931640625],\"y\":[357.1499938964844],\"type\":\"scatter\"}]},{\"data\":[{\"marker\":{\"color\":[\"orange\",\"blue\",\"blue\",\"blue\",\"orange\",\"orange\"],\"size\":10},\"mode\":\"markers\",\"x\":[-1662.93994140625,-2676.590087890625,2848.010009765625,-3490.030029296875,439.760009765625,-2617.550048828125],\"y\":[2686.159912109375,174.5800018310547,-4218.39990234375,-877.010009765625,4736.830078125,536.989990234375],\"type\":\"scatter\"},{\"marker\":{\"color\":\"black\",\"size\":10},\"mode\":\"markers\",\"x\":[-2677.860107421875],\"y\":[310.5400085449219],\"type\":\"scatter\"}]},{\"data\":[{\"marker\":{\"color\":[\"orange\",\"blue\",\"blue\",\"blue\",\"orange\",\"orange\"],\"size\":10},\"mode\":\"markers\",\"x\":[-1690.4100341796875,-2612.590087890625,2967.989990234375,-3490.68994140625,439.760009765625,-2617.550048828125],\"y\":[2579.840087890625,211.5,-4169.6298828125,-994.6799926757812,4736.830078125,536.989990234375],\"type\":\"scatter\"},{\"marker\":{\"color\":\"black\",\"size\":10},\"mode\":\"markers\",\"x\":[-2651.860107421875],\"y\":[252.36000061035156],\"type\":\"scatter\"}]},{\"data\":[{\"marker\":{\"color\":[\"orange\",\"blue\",\"blue\",\"blue\",\"orange\",\"orange\"],\"size\":10},\"mode\":\"markers\",\"x\":[-1698.4300537109375,-2612.590087890625,2967.989990234375,-3491.070068359375,329.4800109863281,-2575.699951171875],\"y\":[2548.8701171875,211.5,-4169.6298828125,-1028.300048828125,4673.259765625,405.5],\"type\":\"scatter\"},{\"marker\":{\"color\":\"black\",\"size\":10},\"mode\":\"markers\",\"x\":[-2631.10009765625],\"y\":[205.86000061035156],\"type\":\"scatter\"}]},{\"data\":[{\"marker\":{\"color\":[\"orange\",\"blue\",\"blue\",\"blue\",\"orange\",\"orange\"],\"size\":10},\"mode\":\"markers\",\"x\":[-1698.4300537109375,-2555.81005859375,3152.3701171875,-3491.070068359375,306.260009765625,-2575.699951171875],\"y\":[2548.8701171875,244.57000732421875,-4062.39990234375,-1028.300048828125,4656.89990234375,405.5],\"type\":\"scatter\"},{\"marker\":{\"color\":\"black\",\"size\":10},\"mode\":\"markers\",\"x\":[-2610.340087890625],\"y\":[159.41000366210938],\"type\":\"scatter\"}]},{\"data\":[{\"marker\":{\"color\":[\"orange\",\"blue\",\"blue\",\"blue\",\"orange\",\"orange\"],\"size\":10},\"mode\":\"markers\",\"x\":[-1731.9100341796875,-2555.81005859375,3152.3701171875,-3493.590087890625,306.260009765625,-2529.199951171875],\"y\":[2422.52001953125,244.57000732421875,-4062.39990234375,-1196.4000244140625,4656.89990234375,259.3999938964844],\"type\":\"scatter\"},{\"marker\":{\"color\":\"black\",\"size\":10},\"mode\":\"markers\",\"x\":[-2599.97998046875],\"y\":[136.2100067138672],\"type\":\"scatter\"}]},{\"data\":[{\"marker\":{\"color\":[\"orange\",\"blue\",\"blue\",\"blue\",\"orange\",\"orange\"],\"size\":10},\"mode\":\"markers\",\"x\":[-1731.9100341796875,-2555.81005859375,3152.3701171875,-3493.590087890625,306.260009765625,-2529.199951171875],\"y\":[2422.52001953125,244.57000732421875,-4062.39990234375,-1196.4000244140625,4656.89990234375,259.3999938964844],\"type\":\"scatter\"},{\"marker\":{\"color\":\"black\",\"size\":10},\"mode\":\"markers\",\"x\":[-2579.260009765625],\"y\":[89.83000183105469],\"type\":\"scatter\"}]},{\"data\":[{\"marker\":{\"color\":[\"orange\",\"blue\",\"blue\",\"blue\",\"orange\",\"orange\"],\"size\":10},\"mode\":\"markers\",\"x\":[-1783.1800537109375,-2484.909912109375,3267.60009765625,-3493.590087890625,176.52999877929688,-2487.35009765625],\"y\":[2242.820068359375,286.1099853515625,-3947.139892578125,-1196.4000244140625,4540.8701171875,127.91000366210938],\"type\":\"scatter\"},{\"marker\":{\"color\":\"black\",\"size\":10},\"mode\":\"markers\",\"x\":[-2543.06005859375],\"y\":[8.789999961853027],\"type\":\"scatter\"}]},{\"data\":[{\"marker\":{\"color\":[\"orange\",\"blue\",\"blue\",\"blue\",\"orange\",\"orange\"],\"size\":10},\"mode\":\"markers\",\"x\":[-1783.1800537109375,-2484.909912109375,3320.179931640625,-3496.909912109375,108.56999969482422,-2487.35009765625],\"y\":[2242.820068359375,286.1099853515625,-3856.56005859375,-1381.31005859375,4461.22021484375,127.91000366210938],\"type\":\"scatter\"},{\"marker\":{\"color\":\"black\",\"size\":10},\"mode\":\"markers\",\"x\":[-2512.080078125],\"y\":[-60.560001373291016],\"type\":\"scatter\"}]},{\"data\":[{\"marker\":{\"color\":[\"orange\",\"blue\",\"blue\",\"blue\",\"orange\",\"orange\"],\"size\":10},\"mode\":\"markers\",\"x\":[-1832.1300048828125,-2392.739990234375,3320.179931640625,-3500.070068359375,108.56999969482422,-2440.85009765625],\"y\":[2072.7099609375,340.19000244140625,-3856.56005859375,-1549.4100341796875,4461.22021484375,-18.190000534057617],\"type\":\"scatter\"},{\"marker\":{\"color\":\"black\",\"size\":10},\"mode\":\"markers\",\"x\":[-2481.14990234375],\"y\":[-129.8000030517578],\"type\":\"scatter\"}]},{\"data\":[{\"marker\":{\"color\":[\"orange\",\"blue\",\"blue\",\"blue\",\"orange\",\"orange\"],\"size\":10},\"mode\":\"markers\",\"x\":[-1832.1300048828125,-2336.02001953125,3363.159912109375,-3500.070068359375,3.4700000286102295,-2440.85009765625],\"y\":[2072.7099609375,373.5199890136719,-3697.489990234375,-1549.4100341796875,4315.759765625,-18.190000534057617],\"type\":\"scatter\"},{\"marker\":{\"color\":\"black\",\"size\":10},\"mode\":\"markers\",\"x\":[-2457.929931640625],\"y\":[-185.58999633789062],\"type\":\"scatter\"}]},{\"data\":[{\"marker\":{\"color\":[\"orange\",\"blue\",\"blue\",\"blue\",\"orange\",\"orange\"],\"size\":10},\"mode\":\"markers\",\"x\":[-1875.1700439453125,-2328.929931640625,3363.159912109375,-3503.0400390625,-51.630001068115234,-2389.699951171875],\"y\":[1875.3900146484375,377.69000244140625,-3697.489990234375,-1700.68994140625,4227.18994140625,-178.89999389648438],\"type\":\"scatter\"},{\"marker\":{\"color\":\"black\",\"size\":10},\"mode\":\"markers\",\"x\":[-2448.239990234375],\"y\":[-210.1199951171875],\"type\":\"scatter\"}]},{\"data\":[{\"marker\":{\"color\":[\"orange\",\"blue\",\"blue\",\"blue\",\"orange\",\"orange\"],\"size\":10},\"mode\":\"markers\",\"x\":[-1875.1700439453125,-2272.2099609375,3361.89990234375,-3503.0400390625,-51.630001068115234,-2389.699951171875],\"y\":[1875.3900146484375,411.04998779296875,-3585.5400390625,-1700.68994140625,4227.18994140625,-178.89999389648438],\"type\":\"scatter\"},{\"marker\":{\"color\":\"black\",\"size\":10},\"mode\":\"markers\",\"x\":[-2435.320068359375],\"y\":[-242.8000030517578],\"type\":\"scatter\"}]},{\"data\":[{\"marker\":{\"color\":[\"orange\",\"blue\",\"blue\",\"blue\",\"orange\",\"orange\"],\"size\":10},\"mode\":\"markers\",\"x\":[-1903.6800537109375,-2272.2099609375,3361.89990234375,-3515.739990234375,-51.630001068115234,-2333.89990234375],\"y\":[1648.6500244140625,411.04998779296875,-3585.5400390625,-1901.449951171875,4227.18994140625,-354.2200012207031],\"type\":\"scatter\"},{\"marker\":{\"color\":\"black\",\"size\":10},\"mode\":\"markers\",\"x\":[-2409.5400390625],\"y\":[-308.0400085449219],\"type\":\"scatter\"}]},{\"data\":[{\"marker\":{\"color\":[\"orange\",\"blue\",\"blue\",\"blue\",\"orange\",\"orange\"],\"size\":10},\"mode\":\"markers\",\"x\":[-1903.6800537109375,-2187.1298828125,3326.4599609375,-3515.739990234375,-129.91000366210938,-2333.89990234375],\"y\":[1648.6500244140625,461.1700134277344,-3478.580078125,-1901.449951171875,4067.8798828125,-354.2200012207031],\"type\":\"scatter\"},{\"marker\":{\"color\":\"black\",\"size\":10},\"mode\":\"markers\",\"x\":[-2390.219970703125],\"y\":[-356.8900146484375],\"type\":\"scatter\"}]},{\"data\":[{\"marker\":{\"color\":[\"orange\",\"blue\",\"blue\",\"blue\",\"orange\",\"orange\"],\"size\":10},\"mode\":\"markers\",\"x\":[-1917.469970703125,-2187.1298828125,3326.4599609375,-3538.72998046875,-129.91000366210938,-2292.050048828125],\"y\":[1476.75,461.1700134277344,-3478.580078125,-2049.820068359375,4067.8798828125,-485.7099914550781],\"type\":\"scatter\"},{\"marker\":{\"color\":\"black\",\"size\":10},\"mode\":\"markers\",\"x\":[-2380.590087890625],\"y\":[-381.2799987792969],\"type\":\"scatter\"}]},{\"data\":[{\"marker\":{\"color\":[\"orange\",\"blue\",\"blue\",\"blue\",\"orange\",\"orange\"],\"size\":10},\"mode\":\"markers\",\"x\":[-1917.469970703125,-2122.4599609375,3250.31005859375,-3538.72998046875,-177.05999755859375,-2292.050048828125],\"y\":[1476.75,500.04998779296875,-3385.14990234375,-2049.820068359375,3914.3701171875,-485.7099914550781],\"type\":\"scatter\"},{\"marker\":{\"color\":\"black\",\"size\":10},\"mode\":\"markers\",\"x\":[-2361.330078125],\"y\":[-430.0199890136719],\"type\":\"scatter\"}]},{\"data\":[{\"marker\":{\"color\":[\"orange\",\"blue\",\"blue\",\"blue\",\"orange\",\"orange\"],\"size\":10},\"mode\":\"markers\",\"x\":[-1930.8399658203125,-2107.6298828125,3250.31005859375,-3574.6201171875,-194.3800048828125,-2245.550048828125],\"y\":[1285.6400146484375,509.260009765625,-3385.14990234375,-2212.2900390625,3800.35009765625,-631.8099975585938],\"type\":\"scatter\"},{\"marker\":{\"color\":\"black\",\"size\":10},\"mode\":\"markers\",\"x\":[-2348.510009765625],\"y\":[-462.4700012207031],\"type\":\"scatter\"}]},{\"data\":[{\"marker\":{\"color\":[\"orange\",\"blue\",\"blue\",\"blue\",\"orange\",\"orange\"],\"size\":10},\"mode\":\"markers\",\"x\":[-1930.8399658203125,-2046.25,3135.139892578125,-3574.6201171875,-194.3800048828125,-2245.550048828125],\"y\":[1285.6400146484375,548.0900268554688,-3313.139892578125,-2212.2900390625,3800.35009765625,-631.8099975585938],\"type\":\"scatter\"},{\"marker\":{\"color\":\"black\",\"size\":10},\"mode\":\"markers\",\"x\":[-2329.31005859375],\"y\":[-511.0799865722656],\"type\":\"scatter\"}]},{\"data\":[{\"marker\":{\"color\":[\"orange\",\"blue\",\"blue\",\"blue\",\"orange\",\"orange\"],\"size\":10},\"mode\":\"markers\",\"x\":[-1943.72998046875,-2030.3499755859375,3135.139892578125,-3608.93994140625,-194.3800048828125,-2199.050048828125],\"y\":[1132.9599609375,558.27001953125,-3313.139892578125,-2374.75,3800.35009765625,-777.9099731445312],\"type\":\"scatter\"},{\"marker\":{\"color\":\"black\",\"size\":10},\"mode\":\"markers\",\"x\":[-2322.909912109375],\"y\":[-527.260009765625],\"type\":\"scatter\"}]},{\"data\":[{\"marker\":{\"color\":[\"orange\",\"blue\",\"blue\",\"blue\",\"orange\",\"orange\"],\"size\":10},\"mode\":\"markers\",\"x\":[-1943.72998046875,-1972.81005859375,3057.5,-3608.93994140625,-194.0,-2199.050048828125],\"y\":[1132.9599609375,595.2000122070312,-3285.06005859375,-2374.75,3644.14990234375,-777.9099731445312],\"type\":\"scatter\"},{\"marker\":{\"color\":\"black\",\"size\":10},\"mode\":\"markers\",\"x\":[-2300.56005859375],\"y\":[-583.8499755859375],\"type\":\"scatter\"}]},{\"data\":[{\"marker\":{\"color\":[\"orange\",\"blue\",\"blue\",\"blue\",\"orange\",\"orange\"],\"size\":10},\"mode\":\"markers\",\"x\":[-1966.3800048828125,-1972.81005859375,3057.5,-3627.340087890625,-194.0,-2157.199951171875],\"y\":[923.5800170898438,595.2000122070312,-3285.06005859375,-2522.25,3644.14990234375,-909.4000244140625],\"type\":\"scatter\"},{\"marker\":{\"color\":\"black\",\"size\":10},\"mode\":\"markers\",\"x\":[-2287.800048828125],\"y\":[-616.1400146484375],\"type\":\"scatter\"}]},{\"data\":[{\"marker\":{\"color\":[\"orange\",\"blue\",\"blue\",\"blue\",\"orange\",\"orange\"],\"size\":10},\"mode\":\"markers\",\"x\":[-1971.010009765625,-1972.81005859375,2913.080078125,-3629.110107421875,-163.9199981689453,-2147.89990234375],\"y\":[885.5700073242188,595.2000122070312,-3261.419921875,-2555.080078125,3478.93994140625,-938.6199951171875],\"type\":\"scatter\"},{\"marker\":{\"color\":\"black\",\"size\":10},\"mode\":\"markers\",\"x\":[-2268.68994140625],\"y\":[-664.52001953125],\"type\":\"scatter\"}]},{\"data\":[{\"marker\":{\"color\":[\"orange\",\"blue\",\"blue\",\"blue\",\"orange\",\"orange\"],\"size\":10},\"mode\":\"markers\",\"x\":[-1995.56005859375,-1867.280029296875,2913.080078125,-3623.550048828125,-163.9199981689453,-2101.39990234375],\"y\":[695.72998046875,662.4400024414062,-3261.419921875,-2717.97998046875,3478.93994140625,-1084.8199462890625],\"type\":\"scatter\"},{\"marker\":{\"color\":\"black\",\"size\":10},\"mode\":\"markers\",\"x\":[-2249.610107421875],\"y\":[-712.8099975585938],\"type\":\"scatter\"}]},{\"data\":[{\"marker\":{\"color\":[\"orange\",\"blue\",\"blue\",\"blue\",\"orange\",\"orange\"],\"size\":10},\"mode\":\"markers\",\"x\":[-1995.56005859375,-1786.0699462890625,2798.93994140625,-3623.550048828125,-127.19999694824219,-2101.39990234375],\"y\":[695.72998046875,713.8800048828125,-3264.6298828125,-2717.97998046875,3354.860107421875,-1084.8199462890625],\"type\":\"scatter\"},{\"marker\":{\"color\":\"black\",\"size\":10},\"mode\":\"markers\",\"x\":[-2233.72998046875],\"y\":[-753.0],\"type\":\"scatter\"}]},{\"data\":[{\"marker\":{\"color\":[\"orange\",\"blue\",\"blue\",\"blue\",\"orange\",\"orange\"],\"size\":10},\"mode\":\"markers\",\"x\":[-2018.719970703125,-1786.0699462890625,2798.93994140625,-3597.179931640625,-88.93000030517578,-2068.85009765625],\"y\":[525.02001953125,713.8800048828125,-3264.6298828125,-2860.260009765625,3241.590087890625,-1187.0400390625],\"type\":\"scatter\"},{\"marker\":{\"color\":\"black\",\"size\":10},\"mode\":\"markers\",\"x\":[-2221.050048828125],\"y\":[-785.1199951171875],\"type\":\"scatter\"}]},{\"data\":[{\"marker\":{\"color\":[\"orange\",\"blue\",\"blue\",\"blue\",\"orange\",\"orange\"],\"size\":10},\"mode\":\"markers\",\"x\":[-2018.719970703125,-1677.260009765625,2669.8798828125,-3597.179931640625,-79.29000091552734,-2022.3499755859375],\"y\":[525.02001953125,782.6400146484375,-3289.419921875,-2860.260009765625,3212.590087890625,-1332.6800537109375],\"type\":\"scatter\"},{\"marker\":{\"color\":\"black\",\"size\":10},\"mode\":\"markers\",\"x\":[-2195.7099609375],\"y\":[-849.25],\"type\":\"scatter\"}]},{\"data\":[{\"marker\":{\"color\":[\"orange\",\"blue\",\"blue\",\"blue\",\"orange\",\"orange\"],\"size\":10},\"mode\":\"markers\",\"x\":[-2044.8900146484375,-1659.06005859375,2669.8798828125,-3545.0400390625,-43.400001525878906,-2013.0400390625],\"y\":[335.4200134277344,794.1199951171875,-3289.419921875,-3009.929931640625,3093.530029296875,-1361.75],\"type\":\"scatter\"},{\"marker\":{\"color\":\"black\",\"size\":10},\"mode\":\"markers\",\"x\":[-2183.070068359375],\"y\":[-881.27001953125],\"type\":\"scatter\"}]},{\"data\":[{\"marker\":{\"color\":[\"orange\",\"blue\",\"blue\",\"blue\",\"orange\",\"orange\"],\"size\":10},\"mode\":\"markers\",\"x\":[-2044.8900146484375,-1586.1199951171875,2539.110107421875,-3545.0400390625,-35.66999816894531,-1976.81005859375],\"y\":[335.4200134277344,840.0599975585938,-3331.199951171875,-3009.929931640625,3063.300048828125,-1474.9100341796875],\"type\":\"scatter\"},{\"marker\":{\"color\":\"black\",\"size\":10},\"mode\":\"markers\",\"x\":[-2164.110107421875],\"y\":[-929.22998046875],\"type\":\"scatter\"}]},{\"data\":[{\"marker\":{\"color\":[\"orange\",\"blue\",\"blue\",\"blue\",\"orange\",\"orange\"],\"size\":10},\"mode\":\"markers\",\"x\":[-2071.25,-1586.1199951171875,2539.110107421875,-3476.0,-35.66999816894531,-1976.81005859375],\"y\":[145.82000732421875,840.0599975585938,-3331.199951171875,-3151.18994140625,3063.300048828125,-1474.9100341796875],\"type\":\"scatter\"},{\"marker\":{\"color\":\"black\",\"size\":10},\"mode\":\"markers\",\"x\":[-2157.800048828125],\"y\":[-945.2000122070312],\"type\":\"scatter\"}]},{\"data\":[{\"marker\":{\"color\":[\"orange\",\"blue\",\"blue\",\"blue\",\"orange\",\"orange\"],\"size\":10},\"mode\":\"markers\",\"x\":[-2071.25,-1586.1199951171875,2391.389892578125,-3476.0,-7.309999942779541,-1976.81005859375],\"y\":[145.82000732421875,840.0599975585938,-3388.97998046875,-3151.18994140625,2926.169921875,-1474.9100341796875],\"type\":\"scatter\"},{\"marker\":{\"color\":\"black\",\"size\":10},\"mode\":\"markers\",\"x\":[-2135.75],\"y\":[-1001.030029296875],\"type\":\"scatter\"}]},{\"data\":[{\"marker\":{\"color\":[\"orange\",\"blue\",\"blue\",\"blue\",\"orange\",\"orange\"],\"size\":10},\"mode\":\"markers\",\"x\":[-2095.1201171875,-1485.530029296875,2391.389892578125,-3390.590087890625,10.989999771118164,-1944.5400390625],\"y\":[-24.799999237060547,903.3099975585938,-3388.97998046875,-3301.1298828125,2802.60009765625,-1609.6400146484375],\"type\":\"scatter\"},{\"marker\":{\"color\":\"black\",\"size\":10},\"mode\":\"markers\",\"x\":[-2123.159912109375],\"y\":[-1032.8900146484375],\"type\":\"scatter\"}]},{\"data\":[{\"marker\":{\"color\":[\"orange\",\"blue\",\"blue\",\"blue\",\"orange\",\"orange\"],\"size\":10},\"mode\":\"markers\",\"x\":[-2095.1201171875,-1485.530029296875,2281.60009765625,-3374.590087890625,14.970000267028809,-1944.5400390625],\"y\":[-24.799999237060547,903.3099975585938,-3438.239990234375,-3328.110107421875,2771.050048828125,-1609.6400146484375],\"type\":\"scatter\"},{\"marker\":{\"color\":\"black\",\"size\":10},\"mode\":\"markers\",\"x\":[-2104.320068359375],\"y\":[-1080.6099853515625],\"type\":\"scatter\"}]},{\"data\":[{\"marker\":{\"color\":[\"orange\",\"blue\",\"blue\",\"blue\",\"orange\",\"orange\"],\"size\":10},\"mode\":\"markers\",\"x\":[-2124.489990234375,-1403.050048828125,2281.60009765625,-3318.080078125,27.969999313354492,-1940.8699951171875],\"y\":[-233.25,955.1099853515625,-3438.239990234375,-3422.219970703125,2658.360107421875,-1696.3699951171875],\"type\":\"scatter\"},{\"marker\":{\"color\":\"black\",\"size\":10},\"mode\":\"markers\",\"x\":[-2101.179931640625],\"y\":[-1088.56005859375],\"type\":\"scatter\"}]},{\"data\":[{\"marker\":{\"color\":[\"orange\",\"blue\",\"blue\",\"blue\",\"orange\",\"orange\"],\"size\":10},\"mode\":\"markers\",\"x\":[-2124.489990234375,-1311.239990234375,2134.7099609375,-3318.080078125,27.969999313354492,-1947.0400390625],\"y\":[-233.25,1012.7100219726562,-3518.5,-3422.219970703125,2658.360107421875,-1772.0400390625],\"type\":\"scatter\"},{\"marker\":{\"color\":\"black\",\"size\":10},\"mode\":\"markers\",\"x\":[-2069.830078125],\"y\":[-1167.9100341796875],\"type\":\"scatter\"}]},{\"data\":[{\"marker\":{\"color\":[\"orange\",\"blue\",\"blue\",\"blue\",\"orange\",\"orange\"],\"size\":10},\"mode\":\"markers\",\"x\":[-2156.4599609375,-1311.239990234375,2032.8599853515625,-3220.3798828125,48.599998474121094,-1947.0400390625],\"y\":[-458.6600036621094,1012.7100219726562,-3584.52001953125,-3583.050048828125,2460.929931640625,-1772.0400390625],\"type\":\"scatter\"},{\"marker\":{\"color\":\"black\",\"size\":10},\"mode\":\"markers\",\"x\":[-2057.31005859375],\"y\":[-1199.5899658203125],\"type\":\"scatter\"}]},{\"data\":[{\"marker\":{\"color\":[\"orange\",\"blue\",\"blue\",\"blue\",\"orange\",\"orange\"],\"size\":10},\"mode\":\"markers\",\"x\":[-2156.4599609375,-1219.219970703125,2032.8599853515625,-3220.3798828125,48.599998474121094,-1951.550048828125],\"y\":[-458.6600036621094,1070.3900146484375,-3584.52001953125,-3583.050048828125,2460.929931640625,-1842.489990234375],\"type\":\"scatter\"},{\"marker\":{\"color\":\"black\",\"size\":10},\"mode\":\"markers\",\"x\":[-2038.5699462890625],\"y\":[-1247.06005859375],\"type\":\"scatter\"}]},{\"data\":[{\"marker\":{\"color\":[\"orange\",\"blue\",\"blue\",\"blue\",\"orange\",\"orange\"],\"size\":10},\"mode\":\"markers\",\"x\":[-2156.4599609375,-1210.0,2032.8599853515625,-3162.550048828125,60.20000076293945,-1951.5799560546875],\"y\":[-458.6600036621094,1076.1600341796875,-3584.52001953125,-3676.280029296875,2345.669921875,-1849.6500244140625],\"type\":\"scatter\"},{\"marker\":{\"color\":\"black\",\"size\":10},\"mode\":\"markers\",\"x\":[-2035.449951171875],\"y\":[-1254.9599609375],\"type\":\"scatter\"}]},{\"data\":[{\"marker\":{\"color\":[\"orange\",\"blue\",\"blue\",\"blue\",\"orange\",\"orange\"],\"size\":10},\"mode\":\"markers\",\"x\":[-2177.570068359375,-1210.0,1899.6800537109375,-3162.550048828125,60.20000076293945,-1951.5799560546875],\"y\":[-661.27001953125,1076.1600341796875,-3684.22998046875,-3676.280029296875,2345.669921875,-1849.6500244140625],\"type\":\"scatter\"},{\"marker\":{\"color\":\"black\",\"size\":10},\"mode\":\"markers\",\"x\":[-2016.72998046875],\"y\":[-1302.3399658203125],\"type\":\"scatter\"}]},{\"data\":[{\"marker\":{\"color\":[\"orange\",\"blue\",\"blue\",\"blue\",\"orange\",\"orange\"],\"size\":10},\"mode\":\"markers\",\"x\":[-2177.570068359375,-1136.1800537109375,1899.6800537109375,-3073.239990234375,60.20000076293945,-1947.75],\"y\":[-661.27001953125,1122.3800048828125,-3684.22998046875,-3804.429931640625,2345.669921875,-1908.1700439453125],\"type\":\"scatter\"},{\"marker\":{\"color\":\"black\",\"size\":10},\"mode\":\"markers\",\"x\":[-2004.280029296875],\"y\":[-1333.8900146484375],\"type\":\"scatter\"}]},{\"data\":[{\"marker\":{\"color\":[\"orange\",\"blue\",\"blue\",\"blue\",\"orange\",\"orange\"],\"size\":10},\"mode\":\"markers\",\"x\":[-2178.18994140625,-1136.1800537109375,1786.8800048828125,-3073.239990234375,83.13999938964844,-1947.75],\"y\":[-840.1699829101562,1122.3800048828125,-3784.14990234375,-3804.429931640625,2115.090087890625,-1908.1700439453125],\"type\":\"scatter\"},{\"marker\":{\"color\":\"black\",\"size\":10},\"mode\":\"markers\",\"x\":[-1991.8399658203125],\"y\":[-1365.4100341796875],\"type\":\"scatter\"}]},{\"data\":[{\"marker\":{\"color\":[\"orange\",\"blue\",\"blue\",\"blue\",\"orange\",\"orange\"],\"size\":10},\"mode\":\"markers\",\"x\":[-2178.18994140625,-1136.1800537109375,1786.8800048828125,-3073.239990234375,83.13999938964844,-1947.75],\"y\":[-840.1699829101562,1122.3800048828125,-3784.14990234375,-3804.429931640625,2115.090087890625,-1908.1700439453125],\"type\":\"scatter\"},{\"marker\":{\"color\":\"black\",\"size\":10},\"mode\":\"markers\",\"x\":[-1991.8399658203125],\"y\":[-1365.4100341796875],\"type\":\"scatter\"}]},{\"data\":[{\"marker\":{\"color\":[\"orange\",\"blue\",\"blue\",\"blue\",\"orange\",\"orange\"],\"size\":10},\"mode\":\"markers\",\"x\":[-2166.159912109375,-1034.3800048828125,1711.780029296875,-2981.929931640625,94.54000091552734,-1928.5],\"y\":[-952.239990234375,1186.030029296875,-3857.969970703125,-3909.97998046875,1999.800048828125,-1990.0400390625],\"type\":\"scatter\"},{\"marker\":{\"color\":\"black\",\"size\":10},\"mode\":\"markers\",\"x\":[-1970.0899658203125],\"y\":[-1420.47998046875],\"type\":\"scatter\"}]},{\"data\":[{\"marker\":{\"color\":[\"orange\",\"blue\",\"blue\",\"blue\",\"orange\",\"orange\"],\"size\":10},\"mode\":\"markers\",\"x\":[-2166.159912109375,-941.5,1711.780029296875,-2866.8701171875,94.54000091552734,-1903.56005859375],\"y\":[-952.239990234375,1244.030029296875,-3857.969970703125,-4011.199951171875,1999.800048828125,-2048.449951171875],\"type\":\"scatter\"},{\"marker\":{\"color\":\"black\",\"size\":10},\"mode\":\"markers\",\"x\":[-1945.2900390625],\"y\":[-1483.31005859375],\"type\":\"scatter\"}]},{\"data\":[{\"marker\":{\"color\":[\"orange\",\"blue\",\"blue\",\"blue\",\"orange\",\"orange\"],\"size\":10},\"mode\":\"markers\",\"x\":[-2166.159912109375,-922.8800048828125,1607.5999755859375,-2842.260009765625,108.23999786376953,-1903.56005859375],\"y\":[-952.239990234375,1255.6500244140625,-3966.389892578125,-4029.090087890625,1834.989990234375,-2048.449951171875],\"type\":\"scatter\"},{\"marker\":{\"color\":\"black\",\"size\":10},\"mode\":\"markers\",\"x\":[-1939.0899658203125],\"y\":[-1498.989990234375],\"type\":\"scatter\"}]},{\"data\":[{\"marker\":{\"color\":[\"orange\",\"blue\",\"blue\",\"blue\",\"orange\",\"orange\"],\"size\":10},\"mode\":\"markers\",\"x\":[-2119.469970703125,-848.260009765625,1607.5999755859375,-2739.25,108.23999786376953,-1863.1500244140625],\"y\":[-1136.280029296875,1302.1700439453125,-3966.389892578125,-4092.02001953125,1834.989990234375,-2120.389892578125],\"type\":\"scatter\"},{\"marker\":{\"color\":\"black\",\"size\":10},\"mode\":\"markers\",\"x\":[-1920.5400390625],\"y\":[-1546.0],\"type\":\"scatter\"}]},{\"data\":[{\"marker\":{\"color\":[\"orange\",\"blue\",\"blue\",\"blue\",\"orange\",\"orange\"],\"size\":10},\"mode\":\"markers\",\"x\":[-2088.909912109375,-838.9099731445312,1515.1500244140625,-2725.93994140625,113.36000061035156,-1863.1500244140625],\"y\":[-1218.81005859375,1307.989990234375,-4065.169921875,-4098.9599609375,1686.489990234375,-2120.389892578125],\"type\":\"scatter\"},{\"marker\":{\"color\":\"black\",\"size\":10},\"mode\":\"markers\",\"x\":[-1905.0899658203125],\"y\":[-1585.1199951171875],\"type\":\"scatter\"}]},{\"data\":[{\"marker\":{\"color\":[\"orange\",\"blue\",\"blue\",\"blue\",\"orange\",\"orange\"],\"size\":10},\"mode\":\"markers\",\"x\":[-2088.909912109375,-838.9099731445312,1515.1500244140625,-2725.93994140625,113.36000061035156,-1816.530029296875],\"y\":[-1218.81005859375,1307.989990234375,-4065.169921875,-4098.9599609375,1686.489990234375,-2180.97998046875],\"type\":\"scatter\"},{\"marker\":{\"color\":\"black\",\"size\":10},\"mode\":\"markers\",\"x\":[-1892.760009765625],\"y\":[-1616.3800048828125],\"type\":\"scatter\"}]},{\"data\":[{\"marker\":{\"color\":[\"orange\",\"blue\",\"blue\",\"blue\",\"orange\",\"orange\"],\"size\":10},\"mode\":\"markers\",\"x\":[-2088.909912109375,-726.4500122070312,1392.1800537109375,-2561.739990234375,110.26000213623047,-1816.530029296875],\"y\":[-1218.81005859375,1377.9599609375,-4196.35986328125,-4170.75,1488.6800537109375,-2180.97998046875],\"type\":\"scatter\"},{\"marker\":{\"color\":\"black\",\"size\":10},\"mode\":\"markers\",\"x\":[-1874.280029296875],\"y\":[-1663.2099609375],\"type\":\"scatter\"}]},{\"data\":[{\"marker\":{\"color\":[\"orange\",\"blue\",\"blue\",\"blue\",\"orange\",\"orange\"],\"size\":10},\"mode\":\"markers\",\"x\":[-2031.6700439453125,-726.4500122070312,1371.5,-2561.739990234375,110.26000213623047,-1753.6700439453125],\"y\":[-1355.9200439453125,1377.9599609375,-4217.47021484375,-4170.75,1488.6800537109375,-2241.389892578125],\"type\":\"scatter\"},{\"marker\":{\"color\":\"black\",\"size\":10},\"mode\":\"markers\",\"x\":[-1861.9599609375],\"y\":[-1694.3900146484375],\"type\":\"scatter\"}]},{\"data\":[{\"marker\":{\"color\":[\"orange\",\"blue\",\"blue\",\"blue\",\"orange\",\"orange\"],\"size\":10},\"mode\":\"markers\",\"x\":[-1987.489990234375,-660.5599975585938,1275.6199951171875,-2462.969970703125,102.12000274658203,-1753.6700439453125],\"y\":[-1457.050048828125,1418.8599853515625,-4307.27978515625,-4202.990234375,1373.8499755859375,-2241.389892578125],\"type\":\"scatter\"},{\"marker\":{\"color\":\"black\",\"size\":10},\"mode\":\"markers\",\"x\":[-1840.469970703125],\"y\":[-1748.8800048828125],\"type\":\"scatter\"}]},{\"data\":[{\"marker\":{\"color\":[\"orange\",\"blue\",\"blue\",\"blue\",\"orange\",\"orange\"],\"size\":10},\"mode\":\"markers\",\"x\":[-1987.489990234375,-563.3300170898438,1275.6199951171875,-2462.969970703125,76.80000305175781,-1671.6600341796875],\"y\":[-1457.050048828125,1468.1400146484375,-4307.27978515625,-4202.990234375,1212.3199462890625,-2295.2099609375],\"type\":\"scatter\"},{\"marker\":{\"color\":\"black\",\"size\":10},\"mode\":\"markers\",\"x\":[-1822.06005859375],\"y\":[-1795.510009765625],\"type\":\"scatter\"}]},{\"data\":[{\"marker\":{\"color\":[\"orange\",\"blue\",\"blue\",\"blue\",\"orange\",\"orange\"],\"size\":10},\"mode\":\"markers\",\"x\":[-1939.199951171875,-563.3300170898438,1160.4300537109375,-2261.010009765625,76.80000305175781,-1671.6600341796875],\"y\":[-1566.3900146484375,1468.1400146484375,-4394.31982421875,-4241.93017578125,1212.3199462890625,-2295.2099609375],\"type\":\"scatter\"},{\"marker\":{\"color\":\"black\",\"size\":10},\"mode\":\"markers\",\"x\":[-1809.8199462890625],\"y\":[-1826.550048828125],\"type\":\"scatter\"}]},{\"data\":[{\"marker\":{\"color\":[\"orange\",\"blue\",\"blue\",\"blue\",\"orange\",\"orange\"],\"size\":10},\"mode\":\"markers\",\"x\":[-1939.199951171875,-455.8399963378906,1160.4300537109375,-2261.010009765625,76.80000305175781,-1604.8399658203125],\"y\":[-1566.3900146484375,1481.77001953125,-4394.31982421875,-4241.93017578125,1212.3199462890625,-2323.659912109375],\"type\":\"scatter\"},{\"marker\":{\"color\":\"black\",\"size\":10},\"mode\":\"markers\",\"x\":[-1797.5799560546875],\"y\":[-1857.56005859375],\"type\":\"scatter\"}]},{\"data\":[{\"marker\":{\"color\":[\"orange\",\"blue\",\"blue\",\"blue\",\"orange\",\"orange\"],\"size\":10},\"mode\":\"markers\",\"x\":[-1895.8199462890625,-455.8399963378906,1049.1199951171875,-2130.56005859375,18.549999237060547,-1604.8399658203125],\"y\":[-1664.31005859375,1481.77001953125,-4456.240234375,-4245.18017578125,1027.5699462890625,-2323.659912109375],\"type\":\"scatter\"},{\"marker\":{\"color\":\"black\",\"size\":10},\"mode\":\"markers\",\"x\":[-1785.3499755859375],\"y\":[-1888.5400390625],\"type\":\"scatter\"}]},{\"data\":[{\"marker\":{\"color\":[\"orange\",\"blue\",\"blue\",\"blue\",\"orange\",\"orange\"],\"size\":10},\"mode\":\"markers\",\"x\":[-1886.1800537109375,-354.57000732421875,1023.9199829101562,-2101.820068359375,18.549999237060547,-1524.5],\"y\":[-1686.0699462890625,1474.43994140625,-4467.9501953125,-4243.43017578125,1027.5699462890625,-2343.169921875],\"type\":\"scatter\"},{\"marker\":{\"color\":\"black\",\"size\":10},\"mode\":\"markers\",\"x\":[-1766.6400146484375],\"y\":[-1935.949951171875],\"type\":\"scatter\"}]},{\"data\":[{\"marker\":{\"color\":[\"orange\",\"blue\",\"blue\",\"blue\",\"orange\",\"orange\"],\"size\":10},\"mode\":\"markers\",\"x\":[-1837.97998046875,-332.30999755859375,926.3099975585938,-1988.75,-62.93000030517578,-1431.6600341796875],\"y\":[-1794.8699951171875,1470.5799560546875,-4510.06982421875,-4227.68994140625,873.0499877929688,-2348.1201171875],\"type\":\"scatter\"},{\"marker\":{\"color\":\"black\",\"size\":10},\"mode\":\"markers\",\"x\":[-1751.0],\"y\":[-1975.56005859375],\"type\":\"scatter\"}]},{\"data\":[{\"marker\":{\"color\":[\"orange\",\"blue\",\"blue\",\"blue\",\"orange\",\"orange\"],\"size\":10},\"mode\":\"markers\",\"x\":[-1828.3399658203125,-220.75,926.3099975585938,-1988.75,-62.93000030517578,-1412.949951171875],\"y\":[-1816.6300048828125,1438.4300537109375,-4510.06982421875,-4227.68994140625,873.0499877929688,-2346.919921875],\"type\":\"scatter\"},{\"marker\":{\"color\":\"black\",\"size\":10},\"mode\":\"markers\",\"x\":[-1735.4000244140625],\"y\":[-2015.1099853515625],\"type\":\"scatter\"}]},{\"data\":[{\"marker\":{\"color\":[\"orange\",\"blue\",\"blue\",\"blue\",\"orange\",\"orange\"],\"size\":10},\"mode\":\"markers\",\"x\":[-1794.5999755859375,-198.63999938964844,816.3800048828125,-1841.6500244140625,-168.5399932861328,-1347.8199462890625],\"y\":[-1892.7900390625,1429.4000244140625,-4560.8701171875,-4181.7998046875,737.469970703125,-2336.909912109375],\"type\":\"scatter\"},{\"marker\":{\"color\":\"black\",\"size\":10},\"mode\":\"markers\",\"x\":[-1722.4000244140625],\"y\":[-2048.02001953125],\"type\":\"scatter\"}]},{\"data\":[{\"marker\":{\"color\":[\"orange\",\"blue\",\"blue\",\"blue\",\"orange\",\"orange\"],\"size\":10},\"mode\":\"markers\",\"x\":[-1765.239990234375,-122.76000213623047,816.3800048828125,-1841.6500244140625,-168.5399932861328,-1347.8199462890625],\"y\":[-1959.050048828125,1391.0400390625,-4560.8701171875,-4181.7998046875,737.469970703125,-2336.909912109375],\"type\":\"scatter\"},{\"marker\":{\"color\":\"black\",\"size\":10},\"mode\":\"markers\",\"x\":[-1712.02001953125],\"y\":[-2074.320068359375],\"type\":\"scatter\"}]},{\"data\":[{\"marker\":{\"color\":[\"orange\",\"blue\",\"blue\",\"blue\",\"orange\",\"orange\"],\"size\":10},\"mode\":\"markers\",\"x\":[-1765.239990234375,-122.76000213623047,742.5700073242188,-1720.3199462890625,-301.3399963378906,-1240.47998046875],\"y\":[-1959.050048828125,1391.0400390625,-4606.02001953125,-4117.259765625,607.47998046875,-2299.050048828125],\"type\":\"scatter\"},{\"marker\":{\"color\":\"black\",\"size\":10},\"mode\":\"markers\",\"x\":[-1695.31005859375],\"y\":[-2116.679931640625],\"type\":\"scatter\"}]},{\"data\":[{\"marker\":{\"color\":[\"orange\",\"blue\",\"blue\",\"blue\",\"orange\",\"orange\"],\"size\":10},\"mode\":\"markers\",\"x\":[-1715.489990234375,-122.76000213623047,742.5700073242188,-1720.3199462890625,-301.3399963378906,-1240.47998046875],\"y\":[-2072.550048828125,1391.0400390625,-4606.02001953125,-4117.259765625,607.47998046875,-2299.050048828125],\"type\":\"scatter\"},{\"marker\":{\"color\":\"black\",\"size\":10},\"mode\":\"markers\",\"x\":[-1675.25],\"y\":[-2165.610107421875],\"type\":\"scatter\"}]},{\"data\":[{\"marker\":{\"color\":[\"orange\",\"blue\",\"blue\",\"blue\",\"orange\",\"orange\"],\"size\":10},\"mode\":\"markers\",\"x\":[-1705.4000244140625,8.199999809265137,686.27001953125,-1623.9300537109375,-301.3399963378906,-1182.489990234375],\"y\":[-2095.56005859375,1292.6700439453125,-4653.81982421875,-4043.60009765625,607.47998046875,-2265.419921875],\"type\":\"scatter\"},{\"marker\":{\"color\":\"black\",\"size\":10},\"mode\":\"markers\",\"x\":[-1660.219970703125],\"y\":[-2202.27001953125],\"type\":\"scatter\"}]},{\"data\":[{\"marker\":{\"color\":[\"orange\",\"blue\",\"blue\",\"blue\",\"orange\",\"orange\"],\"size\":10},\"mode\":\"markers\",\"x\":[-1705.4000244140625,8.199999809265137,686.27001953125,-1604.530029296875,-406.3599853515625,-1166.77001953125],\"y\":[-2095.56005859375,1292.6700439453125,-4653.81982421875,-4025.669921875,516.239990234375,-2254.340087890625],\"type\":\"scatter\"},{\"marker\":{\"color\":\"black\",\"size\":10},\"mode\":\"markers\",\"x\":[-1630.199951171875],\"y\":[-2275.52001953125],\"type\":\"scatter\"}]},{\"data\":[{\"marker\":{\"color\":[\"orange\",\"blue\",\"blue\",\"blue\",\"orange\",\"orange\"],\"size\":10},\"mode\":\"markers\",\"x\":[-1647.93994140625,95.81999969482422,634.5499877929688,-1520.1700439453125,-524.8400268554688,-1094.56005859375],\"y\":[-2226.64990234375,1194.5699462890625,-4713.16015625,-3930.52001953125,417.010009765625,-2190.139892578125],\"type\":\"scatter\"},{\"marker\":{\"color\":\"black\",\"size\":10},\"mode\":\"markers\",\"x\":[-1590.239990234375],\"y\":[-2373.0],\"type\":\"scatter\"}]},{\"data\":[{\"marker\":{\"color\":[\"orange\",\"blue\",\"blue\",\"blue\",\"orange\",\"orange\"],\"size\":10},\"mode\":\"markers\",\"x\":[-1598.6600341796875,155.07000732421875,597.760009765625,-1520.1700439453125,-524.8400268554688,-1094.56005859375],\"y\":[-2339.699951171875,1103.47998046875,-4760.56005859375,-3930.52001953125,417.010009765625,-2190.139892578125],\"type\":\"scatter\"},{\"marker\":{\"color\":\"black\",\"size\":10},\"mode\":\"markers\",\"x\":[-1570.2900390625],\"y\":[-2421.669921875],\"type\":\"scatter\"}]},{\"data\":[{\"marker\":{\"color\":[\"orange\",\"blue\",\"blue\",\"blue\",\"orange\",\"orange\"],\"size\":10},\"mode\":\"markers\",\"x\":[-1587.4599609375,155.07000732421875,597.760009765625,-1458.47998046875,-655.739990234375,-1023.7000122070312],\"y\":[-2365.56005859375,1103.47998046875,-4760.56005859375,-3833.31005859375,308.57000732421875,-2108.0],\"type\":\"scatter\"},{\"marker\":{\"color\":\"black\",\"size\":10},\"mode\":\"markers\",\"x\":[-1545.3900146484375],\"y\":[-2482.43994140625],\"type\":\"scatter\"}]},{\"data\":[{\"marker\":{\"color\":[\"orange\",\"blue\",\"blue\",\"blue\",\"orange\",\"orange\"],\"size\":10},\"mode\":\"markers\",\"x\":[-1565.31005859375,155.07000732421875,556.260009765625,-1458.47998046875,-655.739990234375,-1023.7000122070312],\"y\":[-2416.31005859375,1103.47998046875,-4809.35986328125,-3833.31005859375,308.57000732421875,-2108.0],\"type\":\"scatter\"},{\"marker\":{\"color\":\"black\",\"size\":10},\"mode\":\"markers\",\"x\":[-1535.4300537109375],\"y\":[-2506.719970703125],\"type\":\"scatter\"}]},{\"data\":[{\"marker\":{\"color\":[\"orange\",\"blue\",\"blue\",\"blue\",\"orange\",\"orange\"],\"size\":10},\"mode\":\"markers\",\"x\":[-1565.31005859375,234.7100067138672,556.260009765625,-1410.8399658203125,-655.739990234375,-978.2899780273438],\"y\":[-2416.31005859375,937.1699829101562,-4809.35986328125,-3749.179931640625,308.57000732421875,-2042.030029296875],\"type\":\"scatter\"},{\"marker\":{\"color\":\"black\",\"size\":10},\"mode\":\"markers\",\"x\":[-1495.6800537109375],\"y\":[-2603.739990234375],\"type\":\"scatter\"}]},{\"data\":[{\"marker\":{\"color\":[\"orange\",\"blue\",\"blue\",\"blue\",\"orange\",\"orange\"],\"size\":10},\"mode\":\"markers\",\"x\":[-1492.8399658203125,234.7100067138672,502.260009765625,-1410.8399658203125,-793.3900146484375,-978.2899780273438],\"y\":[-2582.300048828125,937.1699829101562,-4858.740234375,-3749.179931640625,185.1300048828125,-2042.030029296875],\"type\":\"scatter\"},{\"marker\":{\"color\":\"black\",\"size\":10},\"mode\":\"markers\",\"x\":[-1469.969970703125],\"y\":[-2669.02001953125],\"type\":\"scatter\"}]},{\"data\":[{\"marker\":{\"color\":[\"orange\",\"blue\",\"blue\",\"blue\",\"orange\",\"orange\"],\"size\":10},\"mode\":\"markers\",\"x\":[-1492.8399658203125,296.3399963378906,502.260009765625,-1367.0999755859375,-793.3900146484375,-935.3699951171875],\"y\":[-2582.300048828125,791.0399780273438,-4858.740234375,-3668.739990234375,185.1300048828125,-1961.72998046875],\"type\":\"scatter\"},{\"marker\":{\"color\":\"black\",\"size\":10},\"mode\":\"markers\",\"x\":[-1448.9300537109375],\"y\":[-2723.27001953125],\"type\":\"scatter\"}]},{\"data\":[{\"marker\":{\"color\":[\"orange\",\"blue\",\"blue\",\"blue\",\"orange\",\"orange\"],\"size\":10},\"mode\":\"markers\",\"x\":[-1446.800048828125,296.3399963378906,460.8399963378906,-1367.0999755859375,-907.0599975585938,-935.3699951171875],\"y\":[-2689.260009765625,791.0399780273438,-4885.93994140625,-3668.739990234375,64.51000213623047,-1961.72998046875],\"type\":\"scatter\"},{\"marker\":{\"color\":\"black\",\"size\":10},\"mode\":\"markers\",\"x\":[-1417.4000244140625],\"y\":[-2804.5400390625],\"type\":\"scatter\"}]},{\"data\":[{\"marker\":{\"color\":[\"orange\",\"blue\",\"blue\",\"blue\",\"orange\",\"orange\"],\"size\":10},\"mode\":\"markers\",\"x\":[-1446.800048828125,367.9700012207031,460.8399963378906,-1318.5999755859375,-984.1199951171875,-901.1699829101562],\"y\":[-2689.260009765625,613.739990234375,-4885.93994140625,-3573.97998046875,-24.649999618530273,-1865.6800537109375],\"type\":\"scatter\"},{\"marker\":{\"color\":\"black\",\"size\":10},\"mode\":\"markers\",\"x\":[-1396.4000244140625],\"y\":[-2858.64990234375],\"type\":\"scatter\"}]},{\"data\":[{\"marker\":{\"color\":[\"orange\",\"blue\",\"blue\",\"blue\",\"orange\",\"orange\"],\"size\":10},\"mode\":\"markers\",\"x\":[-1387.77001953125,432.1400146484375,407.2300109863281,-1318.5999755859375,-1003.219970703125,-884.4199829101562],\"y\":[-2828.449951171875,454.0899963378906,-4909.93994140625,-3573.97998046875,-46.95000076293945,-1775.260009765625],\"type\":\"scatter\"},{\"marker\":{\"color\":\"black\",\"size\":10},\"mode\":\"markers\",\"x\":[-1359.7099609375],\"y\":[-2953.2099609375],\"type\":\"scatter\"}]},{\"data\":[{\"marker\":{\"color\":[\"orange\",\"blue\",\"blue\",\"blue\",\"orange\",\"orange\"],\"size\":10},\"mode\":\"markers\",\"x\":[-1387.77001953125,432.1400146484375,407.2300109863281,-1267.18994140625,-1070.06005859375,-884.4199829101562],\"y\":[-2828.449951171875,454.0899963378906,-4909.93994140625,-3467.739990234375,-125.01000213623047,-1775.260009765625],\"type\":\"scatter\"},{\"marker\":{\"color\":\"black\",\"size\":10},\"mode\":\"markers\",\"x\":[-1338.780029296875],\"y\":[-3007.159912109375],\"type\":\"scatter\"}]},{\"data\":[{\"marker\":{\"color\":[\"orange\",\"blue\",\"blue\",\"blue\",\"orange\",\"orange\"],\"size\":10},\"mode\":\"markers\",\"x\":[-1333.18994140625,503.42999267578125,356.8399963378906,-1258.1400146484375,-1089.1400146484375,-881.9400024414062],\"y\":[-2959.14990234375,276.69000244140625,-4927.240234375,-3447.580078125,-147.32000732421875,-1674.1800537109375],\"type\":\"scatter\"},{\"marker\":{\"color\":\"black\",\"size\":10},\"mode\":\"markers\",\"x\":[-1317.8599853515625],\"y\":[-3061.06005859375],\"type\":\"scatter\"}]},{\"data\":[{\"marker\":{\"color\":[\"orange\",\"blue\",\"blue\",\"blue\",\"orange\",\"orange\"],\"size\":10},\"mode\":\"markers\",\"x\":[-1333.18994140625,517.6699829101562,356.8399963378906,-1223.1099853515625,-1089.1400146484375,-883.9299926757812],\"y\":[-2959.14990234375,241.22000122070312,-4927.240234375,-3364.5400390625,-147.32000732421875,-1654.2900390625],\"type\":\"scatter\"},{\"marker\":{\"color\":\"black\",\"size\":10},\"mode\":\"markers\",\"x\":[-1297.77001953125],\"y\":[-3116.5],\"type\":\"scatter\"}]},{\"data\":[{\"marker\":{\"color\":[\"orange\",\"blue\",\"blue\",\"blue\",\"orange\",\"orange\"],\"size\":10},\"mode\":\"markers\",\"x\":[-1270.56005859375,567.510009765625,285.1099853515625,-1214.5899658203125,-1181.3199462890625,-883.9299926757812],\"y\":[-3110.06005859375,117.18000030517578,-4947.60009765625,-3343.35009765625,-261.25,-1654.2900390625],\"type\":\"scatter\"},{\"marker\":{\"color\":\"black\",\"size\":10},\"mode\":\"markers\",\"x\":[-1264.469970703125],\"y\":[-3219.090087890625],\"type\":\"scatter\"}]},{\"data\":[{\"marker\":{\"color\":[\"orange\",\"blue\",\"blue\",\"blue\",\"orange\",\"orange\"],\"size\":10},\"mode\":\"markers\",\"x\":[-1212.4599609375,567.510009765625,285.1099853515625,-1184.77001953125,-1255.6199951171875,-911.6199951171875],\"y\":[-3250.93994140625,117.18000030517578,-4947.60009765625,-3269.2099609375,-369.4800109863281,-1550.1600341796875],\"type\":\"scatter\"},{\"marker\":{\"color\":\"black\",\"size\":10},\"mode\":\"markers\",\"x\":[-1235.969970703125],\"y\":[-3306.8798828125],\"type\":\"scatter\"}]},{\"data\":[{\"marker\":{\"color\":[\"orange\",\"blue\",\"blue\",\"blue\",\"orange\",\"orange\"],\"size\":10},\"mode\":\"markers\",\"x\":[-1212.4599609375,652.8699951171875,230.05999755859375,-1184.77001953125,-1255.6199951171875,-911.6199951171875],\"y\":[-3250.93994140625,-95.0199966430664,-4961.4501953125,-3269.2099609375,-369.4800109863281,-1550.1600341796875],\"type\":\"scatter\"},{\"marker\":{\"color\":\"black\",\"size\":10},\"mode\":\"markers\",\"x\":[-1217.010009765625],\"y\":[-3365.330078125],\"type\":\"scatter\"}]},{\"data\":[{\"marker\":{\"color\":[\"orange\",\"blue\",\"blue\",\"blue\",\"orange\",\"orange\"],\"size\":10},\"mode\":\"markers\",\"x\":[-1132.6700439453125,652.8699951171875,185.1999969482422,-1133.6199951171875,-1342.1199951171875,-972.7100219726562],\"y\":[-3445.02001953125,-95.0199966430664,-4971.93017578125,-3142.050048828125,-520.9199829101562,-1452.8699951171875],\"type\":\"scatter\"},{\"marker\":{\"color\":\"black\",\"size\":10},\"mode\":\"markers\",\"x\":[-1179.1300048828125],\"y\":[-3482.050048828125],\"type\":\"scatter\"}]},{\"data\":[{\"marker\":{\"color\":[\"orange\",\"blue\",\"blue\",\"blue\",\"orange\",\"orange\"],\"size\":10},\"mode\":\"markers\",\"x\":[-1132.6700439453125,716.7899780273438,185.1999969482422,-1133.6199951171875,-1342.1199951171875,-972.7100219726562],\"y\":[-3445.02001953125,-253.7899932861328,-4971.93017578125,-3142.050048828125,-520.9199829101562,-1452.8699951171875],\"type\":\"scatter\"},{\"marker\":{\"color\":\"black\",\"size\":10},\"mode\":\"markers\",\"x\":[-1164.93994140625],\"y\":[-3525.760009765625],\"type\":\"scatter\"}]},{\"data\":[{\"marker\":{\"color\":[\"orange\",\"blue\",\"blue\",\"blue\",\"orange\",\"orange\"],\"size\":10},\"mode\":\"markers\",\"x\":[-1072.4599609375,730.989990234375,134.8000030517578,-1086.4200439453125,-1398.1300048828125,-1020.3599853515625],\"y\":[-3592.080078125,-289.0299987792969,-4983.72021484375,-3025.800048828125,-638.5800170898438,-1405.9100341796875],\"type\":\"scatter\"},{\"marker\":{\"color\":\"black\",\"size\":10},\"mode\":\"markers\",\"x\":[-1136.6099853515625],\"y\":[-3613.070068359375],\"type\":\"scatter\"}]},{\"data\":[{\"marker\":{\"color\":[\"orange\",\"blue\",\"blue\",\"blue\",\"orange\",\"orange\"],\"size\":10},\"mode\":\"markers\",\"x\":[-1072.4599609375,787.7899780273438,123.63999938964844,-1086.4200439453125,-1398.1300048828125,-1020.3599853515625],\"y\":[-3592.080078125,-429.92999267578125,-4986.33984375,-3025.800048828125,-638.5800170898438,-1405.9100341796875],\"type\":\"scatter\"},{\"marker\":{\"color\":\"black\",\"size\":10},\"mode\":\"markers\",\"x\":[-1127.1700439453125],\"y\":[-3642.14990234375],\"type\":\"scatter\"}]},{\"data\":[{\"marker\":{\"color\":[\"orange\",\"blue\",\"blue\",\"blue\",\"orange\",\"orange\"],\"size\":10},\"mode\":\"markers\",\"x\":[-1005.5599975585938,787.7899780273438,123.63999938964844,-1051.8299560546875,-1438.9599609375,-1099.4000244140625],\"y\":[-3755.47998046875,-429.92999267578125,-4986.33984375,-2941.449951171875,-747.3900146484375,-1351.989990234375],\"type\":\"scatter\"},{\"marker\":{\"color\":\"black\",\"size\":10},\"mode\":\"markers\",\"x\":[-1089.47998046875],\"y\":[-3758.300048828125],\"type\":\"scatter\"}]},{\"data\":[{\"marker\":{\"color\":[\"orange\",\"blue\",\"blue\",\"blue\",\"orange\",\"orange\"],\"size\":10},\"mode\":\"markers\",\"x\":[-992.1799926757812,865.8900146484375,58.4900016784668,-1051.8299560546875,-1438.9599609375,-1177.5699462890625],\"y\":[-3788.159912109375,-623.5499877929688,-5001.7900390625,-2941.449951171875,-747.3900146484375,-1316.5],\"type\":\"scatter\"},{\"marker\":{\"color\":\"black\",\"size\":10},\"mode\":\"markers\",\"x\":[-1070.6700439453125],\"y\":[-3816.280029296875],\"type\":\"scatter\"}]},{\"data\":[{\"marker\":{\"color\":[\"orange\",\"blue\",\"blue\",\"blue\",\"orange\",\"orange\"],\"size\":10},\"mode\":\"markers\",\"x\":[-931.969970703125,865.8900146484375,21.920000076293945,-1003.8699951171875,-1477.010009765625,-1177.5699462890625],\"y\":[-3935.219970703125,-623.5499877929688,-5010.41015625,-2825.679931640625,-907.97998046875,-1316.5],\"type\":\"scatter\"},{\"marker\":{\"color\":\"black\",\"size\":10},\"mode\":\"markers\",\"x\":[-1037.7900390625],\"y\":[-3917.610107421875],\"type\":\"scatter\"}]},{\"data\":[{\"marker\":{\"color\":[\"orange\",\"blue\",\"blue\",\"blue\",\"orange\",\"orange\"],\"size\":10},\"mode\":\"markers\",\"x\":[-931.969970703125,936.8900146484375,10.859999656677246,-1003.8699951171875,-1477.010009765625,-1177.5699462890625],\"y\":[-3935.219970703125,-799.6900024414062,-5012.89013671875,-2825.679931640625,-907.97998046875,-1316.5],\"type\":\"scatter\"},{\"marker\":{\"color\":\"black\",\"size\":10},\"mode\":\"markers\",\"x\":[-1019.030029296875],\"y\":[-3975.429931640625],\"type\":\"scatter\"}]},{\"data\":[{\"marker\":{\"color\":[\"orange\",\"blue\",\"blue\",\"blue\",\"orange\",\"orange\"],\"size\":10},\"mode\":\"markers\",\"x\":[-878.4500122070312,936.8900146484375,-35.959999084472656,-959.8499755859375,-1490.239990234375,-1306.31005859375],\"y\":[-4065.93994140625,-799.6900024414062,-5022.68994140625,-2720.47998046875,-1062.25,-1293.97998046875],\"type\":\"scatter\"},{\"marker\":{\"color\":\"black\",\"size\":10},\"mode\":\"markers\",\"x\":[-990.9299926757812],\"y\":[-4062.06005859375],\"type\":\"scatter\"}]},{\"data\":[{\"marker\":{\"color\":[\"orange\",\"blue\",\"blue\",\"blue\",\"orange\",\"orange\"],\"size\":10},\"mode\":\"markers\",\"x\":[-878.4500122070312,1007.8900146484375,-35.959999084472656,-959.8499755859375,-1493.31005859375,-1379.699951171875],\"y\":[-4065.93994140625,-976.0499877929688,-5022.68994140625,-2720.47998046875,-1183.010009765625,-1301.9100341796875],\"type\":\"scatter\"},{\"marker\":{\"color\":\"black\",\"size\":10},\"mode\":\"markers\",\"x\":[-972.2100219726562],\"y\":[-4119.72998046875],\"type\":\"scatter\"}]},{\"data\":[{\"marker\":{\"color\":[\"orange\",\"blue\",\"blue\",\"blue\",\"orange\",\"orange\"],\"size\":10},\"mode\":\"markers\",\"x\":[-818.239990234375,1007.8900146484375,-106.33000183105469,-919.9000244140625,-1493.31005859375,-1379.699951171875],\"y\":[-4213.0,-976.0499877929688,-5035.16015625,-2625.72998046875,-1183.010009765625,-1301.9100341796875],\"type\":\"scatter\"},{\"marker\":{\"color\":\"black\",\"size\":10},\"mode\":\"markers\",\"x\":[-939.52001953125],\"y\":[-4220.52001953125],\"type\":\"scatter\"}]},{\"data\":[{\"marker\":{\"color\":[\"orange\",\"blue\",\"blue\",\"blue\",\"orange\",\"orange\"],\"size\":10},\"mode\":\"markers\",\"x\":[-751.3400268554688,1086.06005859375,-106.33000183105469,-875.219970703125,-1547.7900390625,-1457.1600341796875],\"y\":[-4376.39990234375,-1170.3800048828125,-5035.16015625,-2520.2099609375,-1301.4200439453125,-1402.3599853515625],\"type\":\"scatter\"},{\"marker\":{\"color\":\"black\",\"size\":10},\"mode\":\"markers\",\"x\":[-911.5499877929688],\"y\":[-4306.77001953125],\"type\":\"scatter\"}]},{\"data\":[{\"marker\":{\"color\":[\"orange\",\"blue\",\"blue\",\"blue\",\"orange\",\"orange\"],\"size\":10},\"mode\":\"markers\",\"x\":[-751.3400268554688,1086.06005859375,-174.47999572753906,-875.219970703125,-1547.7900390625,-1457.1600341796875],\"y\":[-4376.39990234375,-1170.3800048828125,-5044.39013671875,-2520.2099609375,-1301.4200439453125,-1402.3599853515625],\"type\":\"scatter\"},{\"marker\":{\"color\":\"black\",\"size\":10},\"mode\":\"markers\",\"x\":[-892.9199829101562],\"y\":[-4364.18994140625],\"type\":\"scatter\"}]},{\"data\":[{\"marker\":{\"color\":[\"orange\",\"blue\",\"blue\",\"blue\",\"orange\",\"orange\"],\"size\":10},\"mode\":\"markers\",\"x\":[-751.3400268554688,1155.3199462890625,-174.47999572753906,-875.219970703125,-1547.7900390625,-1457.1600341796875],\"y\":[-4376.39990234375,-1347.4599609375,-5044.39013671875,-2520.2099609375,-1301.4200439453125,-1402.3599853515625],\"type\":\"scatter\"},{\"marker\":{\"color\":\"black\",\"size\":10},\"mode\":\"markers\",\"x\":[-874.3200073242188],\"y\":[-4421.56005859375],\"type\":\"scatter\"}]},{\"data\":[{\"marker\":{\"color\":[\"orange\",\"blue\",\"blue\",\"blue\",\"orange\",\"orange\"],\"size\":10},\"mode\":\"markers\",\"x\":[-676.3300170898438,1167.0799560546875,-174.47999572753906,-825.8699951171875,-1585.0799560546875,-1588.27001953125],\"y\":[-4555.77001953125,-1383.030029296875,-5044.39013671875,-2403.719970703125,-1394.449951171875,-1565.699951171875],\"type\":\"scatter\"},{\"marker\":{\"color\":\"black\",\"size\":10},\"mode\":\"markers\",\"x\":[-860.3699951171875],\"y\":[-4464.5498046875],\"type\":\"scatter\"}]},{\"data\":[{\"marker\":{\"color\":[\"orange\",\"blue\",\"blue\",\"blue\",\"orange\",\"orange\"],\"size\":10},\"mode\":\"markers\",\"x\":[-676.3300170898438,1202.25,-237.0500030517578,-825.8699951171875,-1585.0799560546875,-1588.27001953125],\"y\":[-4555.77001953125,-1508.31005859375,-5050.2900390625,-2403.719970703125,-1394.449951171875,-1565.699951171875],\"type\":\"scatter\"},{\"marker\":{\"color\":\"black\",\"size\":10},\"mode\":\"markers\",\"x\":[-832.530029296875],\"y\":[-4550.419921875],\"type\":\"scatter\"}]},{\"data\":[{\"marker\":{\"color\":[\"orange\",\"blue\",\"blue\",\"blue\",\"orange\",\"orange\"],\"size\":10},\"mode\":\"markers\",\"x\":[-601.4500122070312,1202.25,-305.8500061035156,-780.969970703125,-1618.6300048828125,-1686.02001953125],\"y\":[-4717.2998046875,-1508.31005859375,-5053.5400390625,-2297.719970703125,-1472.43994140625,-1694.6199951171875],\"type\":\"scatter\"},{\"marker\":{\"color\":\"black\",\"size\":10},\"mode\":\"markers\",\"x\":[-804.72998046875],\"y\":[-4636.16015625],\"type\":\"scatter\"}]},{\"data\":[{\"marker\":{\"color\":[\"orange\",\"blue\",\"blue\",\"blue\",\"orange\",\"orange\"],\"size\":10},\"mode\":\"markers\",\"x\":[-601.4500122070312,1246.5699462890625,-319.3900146484375,-780.969970703125,-1618.6300048828125,-1686.02001953125],\"y\":[-4717.2998046875,-1688.06005859375,-5053.72021484375,-2297.719970703125,-1472.43994140625,-1694.6199951171875],\"type\":\"scatter\"},{\"marker\":{\"color\":\"black\",\"size\":10},\"mode\":\"markers\",\"x\":[-786.2100219726562],\"y\":[-4693.25],\"type\":\"scatter\"}]},{\"data\":[{\"marker\":{\"color\":[\"orange\",\"blue\",\"blue\",\"blue\",\"orange\",\"orange\"],\"size\":10},\"mode\":\"markers\",\"x\":[-536.4500122070312,1246.5699462890625,-319.3900146484375,-731.5800170898438,-1648.6199951171875,-1774.3299560546875],\"y\":[-4845.60009765625,-1688.06005859375,-5053.72021484375,-2181.1201171875,-1533.18994140625,-1810.8599853515625],\"type\":\"scatter\"},{\"marker\":{\"color\":\"black\",\"size\":10},\"mode\":\"markers\",\"x\":[-772.3499755859375],\"y\":[-4736.02978515625],\"type\":\"scatter\"}]},{\"data\":[{\"marker\":{\"color\":[\"orange\",\"blue\",\"blue\",\"blue\",\"orange\",\"orange\"],\"size\":10},\"mode\":\"markers\",\"x\":[-536.4500122070312,1283.219970703125,-392.0899963378906,-722.5999755859375,-1687.010009765625,-1774.3299560546875],\"y\":[-4845.60009765625,-1887.6300048828125,-5051.419921875,-2159.919921875,-1598.8499755859375,-1810.8599853515625],\"type\":\"scatter\"},{\"marker\":{\"color\":\"black\",\"size\":10},\"mode\":\"markers\",\"x\":[-735.4099731445312],\"y\":[-4849.93994140625],\"type\":\"scatter\"}]},{\"data\":[{\"marker\":{\"color\":[\"orange\",\"blue\",\"blue\",\"blue\",\"orange\",\"orange\"],\"size\":10},\"mode\":\"markers\",\"x\":[-440.6300048828125,1287.260009765625,-392.0899963378906,-722.5999755859375,-1696.2900390625,-1872.8499755859375],\"y\":[-5021.77978515625,-1924.1400146484375,-5051.419921875,-2159.919921875,-1613.239990234375,-1940.199951171875],\"type\":\"scatter\"},{\"marker\":{\"color\":\"black\",\"size\":10},\"mode\":\"markers\",\"x\":[-726.1900024414062],\"y\":[-4878.3798828125],\"type\":\"scatter\"}]},{\"data\":[{\"marker\":{\"color\":[\"orange\",\"blue\",\"blue\",\"blue\",\"orange\",\"orange\"],\"size\":10},\"mode\":\"markers\",\"x\":[-440.6300048828125,1293.3399658203125,-406.2799987792969,-668.719970703125,-1734.5999755859375,-1872.8499755859375],\"y\":[-5021.77978515625,-2070.090087890625,-5123.8701171875,-2032.719970703125,-1671.5,-1940.199951171875],\"type\":\"scatter\"},{\"marker\":{\"color\":\"black\",\"size\":10},\"mode\":\"markers\",\"x\":[-689.3499755859375],\"y\":[-4991.990234375],\"type\":\"scatter\"}]},{\"data\":[{\"marker\":{\"color\":[\"orange\",\"blue\",\"blue\",\"blue\",\"orange\",\"orange\"],\"size\":10},\"mode\":\"markers\",\"x\":[-358.0,1293.3399658203125,-396.5,-668.719970703125,-1734.5999755859375,-1981.719970703125],\"y\":[-5120.68994140625,-2070.090087890625,-5206.1298828125,-2032.719970703125,-1671.5,-2082.659912109375],\"type\":\"scatter\"},{\"marker\":{\"color\":\"black\",\"size\":10},\"mode\":\"markers\",\"x\":[-668.4500122070312],\"y\":[-5012.89990234375],\"type\":\"scatter\"}]},{\"data\":[{\"marker\":{\"color\":[\"orange\",\"blue\",\"blue\",\"blue\",\"orange\",\"orange\"],\"size\":10},\"mode\":\"markers\",\"x\":[-297.7900085449219,1273.199951171875,-393.5400085449219,-628.3099975585938,-1782.56005859375,-2061.219970703125],\"y\":[-5117.56982421875,-2267.260009765625,-5229.02001953125,-1937.1199951171875,-1757.6700439453125,-2186.3798828125],\"type\":\"scatter\"},{\"marker\":{\"color\":\"black\",\"size\":10},\"mode\":\"markers\",\"x\":[-647.1500244140625],\"y\":[-4961.93017578125],\"type\":\"scatter\"}]},{\"data\":[{\"marker\":{\"color\":[\"orange\",\"blue\",\"blue\",\"blue\",\"orange\",\"orange\"],\"size\":10},\"mode\":\"markers\",\"x\":[-297.7900085449219,1273.199951171875,-390.57000732421875,-583.3300170898438,-1782.56005859375,-2061.219970703125],\"y\":[-5117.56982421875,-2267.260009765625,-5326.68017578125,-1830.530029296875,-1757.6700439453125,-2186.3798828125],\"type\":\"scatter\"},{\"marker\":{\"color\":\"black\",\"size\":10},\"mode\":\"markers\",\"x\":[-625.9000244140625],\"y\":[-4911.02978515625],\"type\":\"scatter\"}]},{\"data\":[{\"marker\":{\"color\":[\"orange\",\"blue\",\"blue\",\"blue\",\"orange\",\"orange\"],\"size\":10},\"mode\":\"markers\",\"x\":[-216.47000122070312,1225.760009765625,-390.57000732421875,-583.3300170898438,-1814.8499755859375,-2160.97998046875],\"y\":[-5120.080078125,-2438.169921875,-5326.68017578125,-1830.530029296875,-1842.3399658203125,-2316.179931640625],\"type\":\"scatter\"},{\"marker\":{\"color\":\"black\",\"size\":10},\"mode\":\"markers\",\"x\":[-611.739990234375],\"y\":[-4877.14990234375],\"type\":\"scatter\"}]},{\"data\":[{\"marker\":{\"color\":[\"orange\",\"blue\",\"blue\",\"blue\",\"orange\",\"orange\"],\"size\":10},\"mode\":\"markers\",\"x\":[-216.47000122070312,1225.760009765625,-403.6700134277344,-542.72998046875,-1814.8499755859375,-2160.97998046875],\"y\":[-5120.080078125,-2438.169921875,-5376.7900390625,-1734.280029296875,-1842.3399658203125,-2316.179931640625],\"type\":\"scatter\"},{\"marker\":{\"color\":\"black\",\"size\":10},\"mode\":\"markers\",\"x\":[-594.0700073242188],\"y\":[-4834.83984375],\"type\":\"scatter\"}]},{\"data\":[{\"marker\":{\"color\":[\"orange\",\"blue\",\"blue\",\"blue\",\"orange\",\"orange\"],\"size\":10},\"mode\":\"markers\",\"x\":[-137.2100067138672,1160.52001953125,-403.6700134277344,-542.72998046875,-1829.4599609375,-2160.97998046875],\"y\":[-5124.419921875,-2581.280029296875,-5376.7900390625,-1734.280029296875,-1924.9200439453125,-2316.179931640625],\"type\":\"scatter\"},{\"marker\":{\"color\":\"black\",\"size\":10},\"mode\":\"markers\",\"x\":[-579.9500122070312],\"y\":[-4801.02978515625],\"type\":\"scatter\"}]},{\"data\":[{\"marker\":{\"color\":[\"orange\",\"blue\",\"blue\",\"blue\",\"orange\",\"orange\"],\"size\":10},\"mode\":\"markers\",\"x\":[-118.86000061035156,1160.52001953125,-413.80999755859375,-497.5299987792969,-1829.4599609375,-2299.22998046875],\"y\":[-5125.419921875,-2581.280029296875,-5396.93017578125,-1627.1800537109375,-1924.9200439453125,-2470.989990234375],\"type\":\"scatter\"},{\"marker\":{\"color\":\"black\",\"size\":10},\"mode\":\"markers\",\"x\":[-558.7899780273438],\"y\":[-4750.3798828125],\"type\":\"scatter\"}]},{\"data\":[{\"marker\":{\"color\":[\"orange\",\"blue\",\"blue\",\"blue\",\"orange\",\"orange\"],\"size\":10},\"mode\":\"markers\",\"x\":[-27.059999465942383,1086.1600341796875,-413.80999755859375,-497.5299987792969,-1826.7900390625,-2299.22998046875],\"y\":[-5130.419921875,-2697.419921875,-5396.93017578125,-1627.1800537109375,-2002.8399658203125,-2470.989990234375],\"type\":\"scatter\"},{\"marker\":{\"color\":\"black\",\"size\":10},\"mode\":\"markers\",\"x\":[-537.6699829101562],\"y\":[-4699.81982421875],\"type\":\"scatter\"}]},{\"data\":[{\"marker\":{\"color\":[\"orange\",\"blue\",\"blue\",\"blue\",\"orange\",\"orange\"],\"size\":10},\"mode\":\"markers\",\"x\":[-27.059999465942383,988.4199829101562,-412.20001220703125,-447.80999755859375,-1803.739990234375,-2396.3798828125],\"y\":[-5130.419921875,-2816.1201171875,-5399.58984375,-1509.3699951171875,-2091.409912109375,-2574.409912109375],\"type\":\"scatter\"},{\"marker\":{\"color\":\"black\",\"size\":10},\"mode\":\"markers\",\"x\":[-520.0999755859375],\"y\":[-4657.740234375],\"type\":\"scatter\"}]},{\"data\":[{\"marker\":{\"color\":[\"orange\",\"blue\",\"blue\",\"blue\",\"orange\",\"orange\"],\"size\":10},\"mode\":\"markers\",\"x\":[73.91999816894531,966.0499877929688,-412.20001220703125,-447.80999755859375,-1795.75,-2503.010009765625],\"y\":[-5135.919921875,-2841.929931640625,-5399.58984375,-1509.3699951171875,-2110.81005859375,-2689.9599609375],\"type\":\"scatter\"},{\"marker\":{\"color\":\"black\",\"size\":10},\"mode\":\"markers\",\"x\":[-499.0400085449219],\"y\":[-4607.31005859375],\"type\":\"scatter\"}]},{\"data\":[{\"marker\":{\"color\":[\"orange\",\"blue\",\"blue\",\"blue\",\"orange\",\"orange\"],\"size\":10},\"mode\":\"markers\",\"x\":[73.91999816894531,854.0399780273438,-409.8500061035156,-393.57000732421875,-1741.4000244140625,-2525.1201171875],\"y\":[-5135.919921875,-2971.1201171875,-5399.2998046875,-1380.8499755859375,-2204.39990234375,-2712.25],\"type\":\"scatter\"},{\"marker\":{\"color\":\"black\",\"size\":10},\"mode\":\"markers\",\"x\":[-478.0199890136719],\"y\":[-4556.9599609375],\"type\":\"scatter\"}]},{\"data\":[{\"marker\":{\"color\":[\"orange\",\"blue\",\"blue\",\"blue\",\"orange\",\"orange\"],\"size\":10},\"mode\":\"markers\",\"x\":[165.72000122070312,854.0399780273438,-406.6600036621094,-393.57000732421875,-1741.4000244140625,-2617.919921875],\"y\":[-5140.919921875,-2971.1201171875,-5398.35009765625,-1380.8499755859375,-2204.39990234375,-2796.090087890625],\"type\":\"scatter\"},{\"marker\":{\"color\":\"black\",\"size\":10},\"mode\":\"markers\",\"x\":[-460.5199890136719],\"y\":[-4515.06982421875],\"type\":\"scatter\"}]},{\"data\":[{\"marker\":{\"color\":[\"orange\",\"blue\",\"blue\",\"blue\",\"orange\",\"orange\"],\"size\":10},\"mode\":\"markers\",\"x\":[165.72000122070312,775.5800170898438,-406.6600036621094,-361.92999267578125,-1690.18994140625,-2617.919921875],\"y\":[-5140.919921875,-3061.52001953125,-5398.35009765625,-1305.8800048828125,-2265.010009765625,-2796.090087890625],\"type\":\"scatter\"},{\"marker\":{\"color\":\"black\",\"size\":10},\"mode\":\"markers\",\"x\":[-439.55999755859375],\"y\":[-4464.8701171875],\"type\":\"scatter\"}]},{\"data\":[{\"marker\":{\"color\":[\"orange\",\"blue\",\"blue\",\"blue\",\"orange\",\"orange\"],\"size\":10},\"mode\":\"markers\",\"x\":[248.33999633789062,659.3400268554688,-402.70001220703125,-361.92999267578125,-1601.47998046875,-2757.639892578125],\"y\":[-5145.419921875,-3193.31005859375,-5397.25,-1305.8800048828125,-2340.669921875,-2893.110107421875],\"type\":\"scatter\"},{\"marker\":{\"color\":\"black\",\"size\":10},\"mode\":\"markers\",\"x\":[-425.6000061035156],\"y\":[-4431.43994140625],\"type\":\"scatter\"}]},{\"data\":[{\"marker\":{\"color\":[\"orange\",\"blue\",\"blue\",\"blue\",\"orange\",\"orange\"],\"size\":10},\"mode\":\"markers\",\"x\":[330.9599914550781,635.3599853515625,-402.70001220703125,-298.54998779296875,-1582.2099609375,-2757.639892578125],\"y\":[-5149.919921875,-3220.1298828125,-5397.25,-1155.93994140625,-2353.68994140625,-2893.110107421875],\"type\":\"scatter\"},{\"marker\":{\"color\":\"black\",\"size\":10},\"mode\":\"markers\",\"x\":[-401.2099914550781],\"y\":[-4373.02978515625],\"type\":\"scatter\"}]},{\"data\":[{\"marker\":{\"color\":[\"orange\",\"blue\",\"blue\",\"blue\",\"orange\",\"orange\"],\"size\":10},\"mode\":\"markers\",\"x\":[349.32000732421875,549.4099731445312,-398.0,-298.54998779296875,-1511.5799560546875,-2907.919921875],\"y\":[-5150.919921875,-3315.080078125,-5395.77978515625,-1155.93994140625,-2393.330078125,-2965.81005859375],\"type\":\"scatter\"},{\"marker\":{\"color\":\"black\",\"size\":10},\"mode\":\"markers\",\"x\":[-387.2900085449219],\"y\":[-4339.7001953125],\"type\":\"scatter\"}]},{\"data\":[{\"marker\":{\"color\":[\"orange\",\"blue\",\"blue\",\"blue\",\"orange\",\"orange\"],\"size\":10},\"mode\":\"markers\",\"x\":[349.32000732421875,549.4099731445312,-398.0,-257.5199890136719,-1511.5799560546875,-2907.919921875],\"y\":[-5150.919921875,-3315.080078125,-5395.77978515625,-1059.469970703125,-2393.330078125,-2965.81005859375],\"type\":\"scatter\"},{\"marker\":{\"color\":\"black\",\"size\":10},\"mode\":\"markers\",\"x\":[-373.3800048828125],\"y\":[-4306.41015625],\"type\":\"scatter\"}]},{\"data\":[{\"marker\":{\"color\":[\"orange\",\"blue\",\"blue\",\"blue\",\"orange\",\"orange\"],\"size\":10},\"mode\":\"markers\",\"x\":[422.95001220703125,422.2900085449219,-393.2200012207031,-257.5199890136719,-1511.5799560546875,-3049.280029296875],\"y\":[-5154.83984375,-3451.9599609375,-5394.02978515625,-1059.469970703125,-2393.330078125,-3004.719970703125],\"type\":\"scatter\"},{\"marker\":{\"color\":\"black\",\"size\":10},\"mode\":\"markers\",\"x\":[-352.55999755859375],\"y\":[-4256.52978515625],\"type\":\"scatter\"}]},{\"data\":[{\"marker\":{\"color\":[\"orange\",\"blue\",\"blue\",\"blue\",\"orange\",\"orange\"],\"size\":10},\"mode\":\"markers\",\"x\":[509.67999267578125,396.4700012207031,-393.2200012207031,-211.9199981689453,-1383.1199951171875,-3049.280029296875],\"y\":[-5157.3798828125,-3479.179931640625,-5394.02978515625,-952.27001953125,-2440.570068359375,-3004.719970703125],\"type\":\"scatter\"},{\"marker\":{\"color\":\"black\",\"size\":10},\"mode\":\"markers\",\"x\":[-338.67999267578125],\"y\":[-4223.31982421875],\"type\":\"scatter\"}]},{\"data\":[{\"marker\":{\"color\":[\"orange\",\"blue\",\"blue\",\"blue\",\"orange\",\"orange\"],\"size\":10},\"mode\":\"markers\",\"x\":[529.6699829101562,278.5899963378906,-385.42999267578125,-211.9199981689453,-1383.1199951171875,-3175.340087890625],\"y\":[-5157.56005859375,-3600.75,-5389.759765625,-952.27001953125,-2440.570068359375,-3010.669921875],\"type\":\"scatter\"},{\"marker\":{\"color\":\"black\",\"size\":10},\"mode\":\"markers\",\"x\":[-314.4599914550781],\"y\":[-4165.2900390625],\"type\":\"scatter\"}]},{\"data\":[{\"marker\":{\"color\":[\"orange\",\"blue\",\"blue\",\"blue\",\"orange\",\"orange\"],\"size\":10},\"mode\":\"markers\",\"x\":[633.3900146484375,278.5899963378906,-385.42999267578125,-161.75999450683594,-1241.0899658203125,-3281.72998046875],\"y\":[-5156.22998046875,-3600.75,-5389.759765625,-834.3499755859375,-2456.0400390625,-2992.4599609375],\"type\":\"scatter\"},{\"marker\":{\"color\":\"black\",\"size\":10},\"mode\":\"markers\",\"x\":[-300.6199951171875],\"y\":[-4132.169921875],\"type\":\"scatter\"}]},{\"data\":[{\"marker\":{\"color\":[\"orange\",\"blue\",\"blue\",\"blue\",\"orange\",\"orange\"],\"size\":10},\"mode\":\"markers\",\"x\":[633.3900146484375,278.5899963378906,-371.32000732421875,-161.75999450683594,-1241.0899658203125,-3281.72998046875],\"y\":[-5156.22998046875,-3600.75,-5380.93994140625,-834.3499755859375,-2456.0400390625,-2992.4599609375],\"type\":\"scatter\"},{\"marker\":{\"color\":\"black\",\"size\":10},\"mode\":\"markers\",\"x\":[-286.82000732421875],\"y\":[-4099.08984375],\"type\":\"scatter\"}]},{\"data\":[{\"marker\":{\"color\":[\"orange\",\"blue\",\"blue\",\"blue\",\"orange\",\"orange\"],\"size\":10},\"mode\":\"markers\",\"x\":[732.0499877929688,116.79000091552734,-371.32000732421875,-116.16000366210938,-1137.3599853515625,-3391.590087890625],\"y\":[-5151.66015625,-3760.02001953125,-5380.93994140625,-727.1500244140625,-2436.60009765625,-2949.7099609375],\"type\":\"scatter\"},{\"marker\":{\"color\":\"black\",\"size\":10},\"mode\":\"markers\",\"x\":[-262.6700134277344],\"y\":[-4041.2900390625],\"type\":\"scatter\"}]},{\"data\":[{\"marker\":{\"color\":[\"orange\",\"blue\",\"blue\",\"blue\",\"orange\",\"orange\"],\"size\":10},\"mode\":\"markers\",\"x\":[732.0499877929688,-8.15999984741211,-353.8500061035156,-84.26000213623047,-1070.9100341796875,-3391.590087890625],\"y\":[-5151.66015625,-3876.929931640625,-5369.47021484375,-652.0900268554688,-2407.669921875,-2949.7099609375],\"type\":\"scatter\"},{\"marker\":{\"color\":\"black\",\"size\":10},\"mode\":\"markers\",\"x\":[-242.02999877929688],\"y\":[-3991.820068359375],\"type\":\"scatter\"}]},{\"data\":[{\"marker\":{\"color\":[\"orange\",\"blue\",\"blue\",\"blue\",\"orange\",\"orange\"],\"size\":10},\"mode\":\"markers\",\"x\":[839.8699951171875,-8.15999984741211,-332.8500061035156,-84.26000213623047,-1070.9100341796875,-3519.679931640625],\"y\":[-5140.72998046875,-3876.929931640625,-5355.5400390625,-652.0900268554688,-2407.669921875,-2865.610107421875],\"type\":\"scatter\"},{\"marker\":{\"color\":\"black\",\"size\":10},\"mode\":\"markers\",\"x\":[-235.8699951171875],\"y\":[-3945.56005859375],\"type\":\"scatter\"}]},{\"data\":[{\"marker\":{\"color\":[\"orange\",\"blue\",\"blue\",\"blue\",\"orange\",\"orange\"],\"size\":10},\"mode\":\"markers\",\"x\":[839.8699951171875,-115.16000366210938,-332.8500061035156,-41.869998931884766,-986.9299926757812,-3519.679931640625],\"y\":[-5140.72998046875,-3977.219970703125,-5355.5400390625,-546.3200073242188,-2348.840087890625,-2865.610107421875],\"type\":\"scatter\"},{\"marker\":{\"color\":\"black\",\"size\":10},\"mode\":\"markers\",\"x\":[-277.6300048828125],\"y\":[-3938.280029296875],\"type\":\"scatter\"}]},{\"data\":[{\"marker\":{\"color\":[\"orange\",\"blue\",\"blue\",\"blue\",\"orange\",\"orange\"],\"size\":10},\"mode\":\"markers\",\"x\":[863.260009765625,-115.16000366210938,-332.8500061035156,-35.36000061035156,-971.8200073242188,-3594.699951171875],\"y\":[-5130.97998046875,-3977.219970703125,-5355.5400390625,-525.6799926757812,-2335.0,-2798.090087890625],\"type\":\"scatter\"},{\"marker\":{\"color\":\"black\",\"size\":10},\"mode\":\"markers\",\"x\":[-402.7900085449219],\"y\":[-3916.43994140625],\"type\":\"scatter\"}]},{\"data\":[{\"marker\":{\"color\":[\"orange\",\"blue\",\"blue\",\"blue\",\"orange\",\"orange\"],\"size\":10},\"mode\":\"markers\",\"x\":[866.02001953125,-226.6300048828125,-309.3599853515625,-35.36000061035156,-971.8200073242188,-3603.639892578125],\"y\":[-5129.7099609375,-4086.260009765625,-5339.8701171875,-525.6799926757812,-2335.0,-2789.22998046875],\"type\":\"scatter\"},{\"marker\":{\"color\":\"black\",\"size\":10},\"mode\":\"markers\",\"x\":[-423.6300048828125],\"y\":[-3912.800048828125],\"type\":\"scatter\"}]},{\"data\":[{\"marker\":{\"color\":[\"orange\",\"blue\",\"blue\",\"blue\",\"orange\",\"orange\"],\"size\":10},\"mode\":\"markers\",\"x\":[880.5900268554688,-226.6300048828125,-309.3599853515625,-19.270000457763672,-911.4199829101562,-3671.8798828125],\"y\":[-5117.5498046875,-4086.260009765625,-5339.8701171875,-434.4800109863281,-2265.580078125,-2715.56005859375],\"type\":\"scatter\"},{\"marker\":{\"color\":\"black\",\"size\":10},\"mode\":\"markers\",\"x\":[-590.1799926757812],\"y\":[-3883.739990234375],\"type\":\"scatter\"}]},{\"data\":[{\"marker\":{\"color\":[\"orange\",\"blue\",\"blue\",\"blue\",\"orange\",\"orange\"],\"size\":10},\"mode\":\"markers\",\"x\":[880.5900268554688,-350.95001220703125,-287.67999267578125,-31.829999923706055,-859.6699829101562,-3671.8798828125],\"y\":[-5117.5498046875,-4207.35986328125,-5325.2900390625,-338.9700012207031,-2177.590087890625,-2715.56005859375],\"type\":\"scatter\"},{\"marker\":{\"color\":\"black\",\"size\":10},\"mode\":\"markers\",\"x\":[-756.3800048828125],\"y\":[-3854.72998046875],\"type\":\"scatter\"}]},{\"data\":[{\"marker\":{\"color\":[\"orange\",\"blue\",\"blue\",\"blue\",\"orange\",\"orange\"],\"size\":10},\"mode\":\"markers\",\"x\":[891.530029296875,-350.95001220703125,-287.67999267578125,-35.86000061035156,-859.6699829101562,-3760.030029296875],\"y\":[-5098.93994140625,-4207.35986328125,-5325.2900390625,-319.9700012207031,-2177.590087890625,-2609.639892578125],\"type\":\"scatter\"},{\"marker\":{\"color\":\"black\",\"size\":10},\"mode\":\"markers\",\"x\":[-818.6199951171875],\"y\":[-3843.8701171875],\"type\":\"scatter\"}]},{\"data\":[{\"marker\":{\"color\":[\"orange\",\"blue\",\"blue\",\"blue\",\"orange\",\"orange\"],\"size\":10},\"mode\":\"markers\",\"x\":[891.530029296875,-513.219970703125,-263.5,-48.7599983215332,-826.6099853515625,-3760.030029296875],\"y\":[-5098.93994140625,-4364.6298828125,-5308.85009765625,-252.47999572753906,-2092.6298828125,-2609.639892578125],\"type\":\"scatter\"},{\"marker\":{\"color\":\"black\",\"size\":10},\"mode\":\"markers\",\"x\":[-942.9500122070312],\"y\":[-3822.159912109375],\"type\":\"scatter\"}]},{\"data\":[{\"marker\":{\"color\":[\"orange\",\"blue\",\"blue\",\"blue\",\"orange\",\"orange\"],\"size\":10},\"mode\":\"markers\",\"x\":[905.8599853515625,-513.219970703125,-263.5,-48.7599983215332,-826.6099853515625,-3841.0400390625],\"y\":[-5083.18017578125,-4364.6298828125,-5308.85009765625,-252.47999572753906,-2092.6298828125,-2514.669921875],\"type\":\"scatter\"},{\"marker\":{\"color\":\"black\",\"size\":10},\"mode\":\"markers\",\"x\":[-1025.72998046875],\"y\":[-3807.719970703125],\"type\":\"scatter\"}]},{\"data\":[{\"marker\":{\"color\":[\"orange\",\"blue\",\"blue\",\"blue\",\"orange\",\"orange\"],\"size\":10},\"mode\":\"markers\",\"x\":[905.8599853515625,-613.4000244140625,-241.22999572753906,-48.7599983215332,-810.75,-3841.0400390625],\"y\":[-5083.18017578125,-4461.33984375,-5293.509765625,-252.47999572753906,-2014.8699951171875,-2514.669921875],\"type\":\"scatter\"},{\"marker\":{\"color\":\"black\",\"size\":10},\"mode\":\"markers\",\"x\":[-1108.4300537109375],\"y\":[-3793.280029296875],\"type\":\"scatter\"}]},{\"data\":[{\"marker\":{\"color\":[\"orange\",\"blue\",\"blue\",\"blue\",\"orange\",\"orange\"],\"size\":10},\"mode\":\"markers\",\"x\":[921.719970703125,-613.4000244140625,-241.22999572753906,-57.209999084472656,-810.75,-3841.0400390625],\"y\":[-5071.22998046875,-4461.33984375,-5293.509765625,-143.30999755859375,-2014.8699951171875,-2514.669921875],\"type\":\"scatter\"},{\"marker\":{\"color\":\"black\",\"size\":10},\"mode\":\"markers\",\"x\":[-1211.68994140625],\"y\":[-3775.260009765625],\"type\":\"scatter\"}]},{\"data\":[{\"marker\":{\"color\":[\"orange\",\"blue\",\"blue\",\"blue\",\"orange\",\"orange\"],\"size\":10},\"mode\":\"markers\",\"x\":[925.6300048828125,-751.5599975585938,-225.52000427246094,-57.209999084472656,-815.1500244140625,-3929.110107421875],\"y\":[-5069.27001953125,-4594.18017578125,-5282.52978515625,-143.30999755859375,-1909.43994140625,-2421.820068359375],\"type\":\"scatter\"},{\"marker\":{\"color\":\"black\",\"size\":10},\"mode\":\"markers\",\"x\":[-1335.4200439453125],\"y\":[-3753.659912109375],\"type\":\"scatter\"}]},{\"data\":[{\"marker\":{\"color\":[\"orange\",\"blue\",\"blue\",\"blue\",\"orange\",\"orange\"],\"size\":10},\"mode\":\"markers\",\"x\":[941.22998046875,-751.5599975585938,-225.52000427246094,-44.0,-815.1500244140625,-3929.110107421875],\"y\":[-5063.35986328125,-4594.18017578125,-5282.52978515625,-23.799999237060547,-1909.43994140625,-2421.820068359375],\"type\":\"scatter\"},{\"marker\":{\"color\":\"black\",\"size\":10},\"mode\":\"markers\",\"x\":[-1417.800048828125],\"y\":[-3739.280029296875],\"type\":\"scatter\"}]},{\"data\":[{\"marker\":{\"color\":[\"orange\",\"blue\",\"blue\",\"blue\",\"orange\",\"orange\"],\"size\":10},\"mode\":\"markers\",\"x\":[945.1300048828125,-852.3599853515625,-198.44000244140625,-39.599998474121094,-837.719970703125,-3988.340087890625],\"y\":[-5061.93994140625,-4690.7001953125,-5263.240234375,-4.289999961853027,-1837.8699951171875,-2364.610107421875],\"type\":\"scatter\"},{\"marker\":{\"color\":\"black\",\"size\":10},\"mode\":\"markers\",\"x\":[-1458.9599609375],\"y\":[-3732.10009765625],\"type\":\"scatter\"}]},{\"data\":[{\"marker\":{\"color\":[\"orange\",\"blue\",\"blue\",\"blue\",\"orange\",\"orange\"],\"size\":10},\"mode\":\"markers\",\"x\":[945.1300048828125,-864.97998046875,-196.17999267578125,-39.599998474121094,-841.5999755859375,-3988.340087890625],\"y\":[-5061.93994140625,-4702.759765625,-5261.60986328125,-4.289999961853027,-1829.3699951171875,-2364.610107421875],\"type\":\"scatter\"},{\"marker\":{\"color\":\"black\",\"size\":10},\"mode\":\"markers\",\"x\":[-1520.6600341796875],\"y\":[-3721.330078125],\"type\":\"scatter\"}]},{\"data\":[{\"marker\":{\"color\":[\"orange\",\"blue\",\"blue\",\"blue\",\"orange\",\"orange\"],\"size\":10},\"mode\":\"markers\",\"x\":[962.6799926757812,-864.97998046875,-196.17999267578125,-10.880000114440918,-841.5999755859375,-4030.179931640625],\"y\":[-5055.5498046875,-4702.759765625,-5261.60986328125,79.98999786376953,-1829.3699951171875,-2328.409912109375],\"type\":\"scatter\"},{\"marker\":{\"color\":\"black\",\"size\":10},\"mode\":\"markers\",\"x\":[-1643.9300537109375],\"y\":[-3699.820068359375],\"type\":\"scatter\"}]},{\"data\":[{\"marker\":{\"color\":[\"orange\",\"blue\",\"blue\",\"blue\",\"orange\",\"orange\"],\"size\":10},\"mode\":\"markers\",\"x\":[962.6799926757812,-966.0499877929688,-178.05999755859375,-10.880000114440918,-880.2899780273438,-4030.179931640625],\"y\":[-5055.5498046875,-4799.18017578125,-5248.39013671875,79.98999786376953,-1764.75,-2328.409912109375],\"type\":\"scatter\"},{\"marker\":{\"color\":\"black\",\"size\":10},\"mode\":\"markers\",\"x\":[-1726.0],\"y\":[-3685.5],\"type\":\"scatter\"}]},{\"data\":[{\"marker\":{\"color\":[\"orange\",\"blue\",\"blue\",\"blue\",\"orange\",\"orange\"],\"size\":10},\"mode\":\"markers\",\"x\":[962.6799926757812,-966.0499877929688,-178.05999755859375,39.880001068115234,-880.2899780273438,-4062.93994140625],\"y\":[-5055.5498046875,-4799.18017578125,-5248.39013671875,162.10000610351562,-1764.75,-2301.72998046875],\"type\":\"scatter\"},{\"marker\":{\"color\":\"black\",\"size\":10},\"mode\":\"markers\",\"x\":[-1848.93994140625],\"y\":[-3664.030029296875],\"type\":\"scatter\"}]},{\"data\":[{\"marker\":{\"color\":[\"orange\",\"blue\",\"blue\",\"blue\",\"orange\",\"orange\"],\"size\":10},\"mode\":\"markers\",\"x\":[986.1099853515625,-1092.75,-156.4199981689453,39.880001068115234,-968.4299926757812,-4062.93994140625],\"y\":[-5047.02978515625,-4919.580078125,-5221.009765625,162.10000610351562,-1665.9200439453125,-2301.72998046875],\"type\":\"scatter\"},{\"marker\":{\"color\":\"black\",\"size\":10},\"mode\":\"markers\",\"x\":[-1951.25],\"y\":[-3646.179931640625],\"type\":\"scatter\"}]},{\"data\":[{\"marker\":{\"color\":[\"orange\",\"blue\",\"blue\",\"blue\",\"orange\",\"orange\"],\"size\":10},\"mode\":\"markers\",\"x\":[986.1099853515625,-1092.75,-156.4199981689453,101.37000274658203,-968.4299926757812,-4076.860107421875],\"y\":[-5047.02978515625,-4919.580078125,-5221.009765625,221.16000366210938,-1665.9200439453125,-2291.1298828125],\"type\":\"scatter\"},{\"marker\":{\"color\":\"black\",\"size\":10},\"mode\":\"markers\",\"x\":[-2033.010009765625],\"y\":[-3631.89990234375],\"type\":\"scatter\"}]},{\"data\":[{\"marker\":{\"color\":[\"orange\",\"blue\",\"blue\",\"blue\",\"orange\",\"orange\"],\"size\":10},\"mode\":\"markers\",\"x\":[1003.760009765625,-1207.1400146484375,-146.24000549316406,116.72000122070312,-1035.4100341796875,-4077.860107421875],\"y\":[-5040.64013671875,-5027.81005859375,-5157.5498046875,232.14999389648438,-1612.18994140625,-2290.570068359375],\"type\":\"scatter\"},{\"marker\":{\"color\":\"black\",\"size\":10},\"mode\":\"markers\",\"x\":[-2114.679931640625],\"y\":[-3617.64990234375],\"type\":\"scatter\"}]},{\"data\":[{\"marker\":{\"color\":[\"orange\",\"blue\",\"blue\",\"blue\",\"orange\",\"orange\"],\"size\":10},\"mode\":\"markers\",\"x\":[1003.760009765625,-1207.1400146484375,-146.24000549316406,116.72000122070312,-1053.2099609375,-4078.610107421875],\"y\":[-5040.64013671875,-5027.81005859375,-5157.5498046875,232.14999389648438,-1600.1199951171875,-2294.929931640625],\"type\":\"scatter\"},{\"marker\":{\"color\":\"black\",\"size\":10},\"mode\":\"markers\",\"x\":[-2237.02001953125],\"y\":[-3596.2900390625],\"type\":\"scatter\"}]},{\"data\":[{\"marker\":{\"color\":[\"orange\",\"blue\",\"blue\",\"blue\",\"orange\",\"orange\"],\"size\":10},\"mode\":\"markers\",\"x\":[1027.43994140625,-1355.0699462890625,-134.47000122070312,218.10000610351562,-1128.25,-4078.340087890625],\"y\":[-5032.1201171875,-5111.27978515625,-5068.52978515625,282.1000061035156,-1558.1700439453125,-2297.699951171875],\"type\":\"scatter\"},{\"marker\":{\"color\":\"black\",\"size\":10},\"mode\":\"markers\",\"x\":[-2318.47998046875],\"y\":[-3582.080078125],\"type\":\"scatter\"}]},{\"data\":[{\"marker\":{\"color\":[\"orange\",\"blue\",\"blue\",\"blue\",\"orange\",\"orange\"],\"size\":10},\"mode\":\"markers\",\"x\":[1027.43994140625,-1355.0699462890625,-134.47000122070312,218.10000610351562,-1128.25,-4077.68994140625],\"y\":[-5032.1201171875,-5111.27978515625,-5068.52978515625,282.1000061035156,-1558.1700439453125,-2312.77001953125],\"type\":\"scatter\"},{\"marker\":{\"color\":\"black\",\"size\":10},\"mode\":\"markers\",\"x\":[-2379.52001953125],\"y\":[-3571.429931640625],\"type\":\"scatter\"}]},{\"data\":[{\"marker\":{\"color\":[\"orange\",\"blue\",\"blue\",\"blue\",\"orange\",\"orange\"],\"size\":10},\"mode\":\"markers\",\"x\":[1041.3399658203125,-1430.0699462890625,-111.12999725341797,320.1199951171875,-1239.4200439453125,-4077.580078125],\"y\":[-5027.14990234375,-5106.35009765625,-4984.72021484375,303.989990234375,-1518.77001953125,-2318.64990234375],\"type\":\"scatter\"},{\"marker\":{\"color\":\"black\",\"size\":10},\"mode\":\"markers\",\"x\":[-2542.080078125],\"y\":[-3543.06005859375],\"type\":\"scatter\"}]},{\"data\":[{\"marker\":{\"color\":[\"orange\",\"blue\",\"blue\",\"blue\",\"orange\",\"orange\"],\"size\":10},\"mode\":\"markers\",\"x\":[1041.3399658203125,-1430.0699462890625,-111.12999725341797,320.1199951171875,-1239.4200439453125,-4077.580078125],\"y\":[-5027.14990234375,-5106.35009765625,-4984.72021484375,303.989990234375,-1518.77001953125,-2318.64990234375],\"type\":\"scatter\"},{\"marker\":{\"color\":\"black\",\"size\":10},\"mode\":\"markers\",\"x\":[-2623.239990234375],\"y\":[-3528.89990234375],\"type\":\"scatter\"}]},{\"data\":[{\"marker\":{\"color\":[\"orange\",\"blue\",\"blue\",\"blue\",\"orange\",\"orange\"],\"size\":10},\"mode\":\"markers\",\"x\":[1065.7099609375,-1549.4599609375,-73.48999786376953,396.6199951171875,-1365.1800537109375,-4077.35009765625],\"y\":[-5018.89013671875,-5101.89013671875,-4891.93017578125,305.4100036621094,-1499.489990234375,-2368.81005859375],\"type\":\"scatter\"},{\"marker\":{\"color\":\"black\",\"size\":10},\"mode\":\"markers\",\"x\":[-2785.2900390625],\"y\":[-3500.6201171875],\"type\":\"scatter\"}]},{\"data\":[{\"marker\":{\"color\":[\"orange\",\"blue\",\"blue\",\"blue\",\"orange\",\"orange\"],\"size\":10},\"mode\":\"markers\",\"x\":[1091.93994140625,-1639.1800537109375,-73.48999786376953,482.2300109863281,-1365.1800537109375,-4077.35009765625],\"y\":[-5014.08984375,-5100.39990234375,-4891.93017578125,292.3900146484375,-1499.489990234375,-2423.199951171875],\"type\":\"scatter\"},{\"marker\":{\"color\":\"black\",\"size\":10},\"mode\":\"markers\",\"x\":[-2886.39990234375],\"y\":[-3482.969970703125],\"type\":\"scatter\"}]},{\"data\":[{\"marker\":{\"color\":[\"orange\",\"blue\",\"blue\",\"blue\",\"orange\",\"orange\"],\"size\":10},\"mode\":\"markers\",\"x\":[1091.93994140625,-1639.1800537109375,-47.869998931884766,482.2300109863281,-1437.5899658203125,-4077.35009765625],\"y\":[-5014.08984375,-5100.39990234375,-4836.72021484375,292.3900146484375,-1501.260009765625,-2423.199951171875],\"type\":\"scatter\"},{\"marker\":{\"color\":\"black\",\"size\":10},\"mode\":\"markers\",\"x\":[-3007.570068359375],\"y\":[-3461.830078125],\"type\":\"scatter\"}]},{\"data\":[{\"marker\":{\"color\":[\"orange\",\"blue\",\"blue\",\"blue\",\"orange\",\"orange\"],\"size\":10},\"mode\":\"markers\",\"x\":[1147.9200439453125,-1736.219970703125,-47.869998931884766,573.6199951171875,-1437.5899658203125,-4077.35009765625],\"y\":[-5011.3701171875,-5100.22021484375,-4836.72021484375,260.2799987792969,-1501.260009765625,-2423.199951171875],\"type\":\"scatter\"},{\"marker\":{\"color\":\"black\",\"size\":10},\"mode\":\"markers\",\"x\":[-3088.25],\"y\":[-3447.75],\"type\":\"scatter\"}]},{\"data\":[{\"marker\":{\"color\":[\"orange\",\"blue\",\"blue\",\"blue\",\"orange\",\"orange\"],\"size\":10},\"mode\":\"markers\",\"x\":[1147.9200439453125,-1754.800048828125,-7.03000020980835,591.3699951171875,-1552.2900390625,-4077.35009765625],\"y\":[-5011.3701171875,-5100.43017578125,-4737.1298828125,252.0800018310547,-1532.4300537109375,-2516.429931640625],\"type\":\"scatter\"},{\"marker\":{\"color\":\"black\",\"size\":10},\"mode\":\"markers\",\"x\":[-3209.1201171875],\"y\":[-3426.659912109375],\"type\":\"scatter\"}]},{\"data\":[{\"marker\":{\"color\":[\"orange\",\"blue\",\"blue\",\"blue\",\"orange\",\"orange\"],\"size\":10},\"mode\":\"markers\",\"x\":[1235.02001953125,-1832.43994140625,-7.03000020980835,670.010009765625,-1552.2900390625,-4077.35009765625],\"y\":[-5009.740234375,-5102.35009765625,-4737.1298828125,210.3300018310547,-1532.4300537109375,-2598.260009765625],\"type\":\"scatter\"},{\"marker\":{\"color\":\"black\",\"size\":10},\"mode\":\"markers\",\"x\":[-3309.68994140625],\"y\":[-3409.110107421875],\"type\":\"scatter\"}]},{\"data\":[{\"marker\":{\"color\":[\"orange\",\"blue\",\"blue\",\"blue\",\"orange\",\"orange\"],\"size\":10},\"mode\":\"markers\",\"x\":[1235.02001953125,-1832.43994140625,19.940000534057617,670.010009765625,-1638.9000244140625,-4077.35009765625],\"y\":[-5009.740234375,-5102.35009765625,-4640.22021484375,210.3300018310547,-1590.5699462890625,-2598.260009765625],\"type\":\"scatter\"},{\"marker\":{\"color\":\"black\",\"size\":10},\"mode\":\"markers\",\"x\":[-3390.050048828125],\"y\":[-3395.080078125],\"type\":\"scatter\"}]},{\"data\":[{\"marker\":{\"color\":[\"orange\",\"blue\",\"blue\",\"blue\",\"orange\",\"orange\"],\"size\":10},\"mode\":\"markers\",\"x\":[1323.6800537109375,-1832.43994140625,19.940000534057617,757.0800170898438,-1638.9000244140625,-4064.68994140625],\"y\":[-4995.77978515625,-5102.35009765625,-4640.22021484375,162.4199981689453,-1590.5699462890625,-2699.22998046875],\"type\":\"scatter\"},{\"marker\":{\"color\":\"black\",\"size\":10},\"mode\":\"markers\",\"x\":[-3510.43994140625],\"y\":[-3374.080078125],\"type\":\"scatter\"}]},{\"data\":[{\"marker\":{\"color\":[\"orange\",\"blue\",\"blue\",\"blue\",\"orange\",\"orange\"],\"size\":10},\"mode\":\"markers\",\"x\":[1323.6800537109375,-1913.1500244140625,33.7599983215332,774.47998046875,-1708.6400146484375,-4059.39990234375],\"y\":[-4995.77978515625,-5103.3701171875,-4567.97998046875,152.86000061035156,-1667.1700439453125,-2720.43994140625],\"type\":\"scatter\"},{\"marker\":{\"color\":\"black\",\"size\":10},\"mode\":\"markers\",\"x\":[-3610.6298828125],\"y\":[-3356.590087890625],\"type\":\"scatter\"}]},{\"data\":[{\"marker\":{\"color\":[\"orange\",\"blue\",\"blue\",\"blue\",\"orange\",\"orange\"],\"size\":10},\"mode\":\"markers\",\"x\":[1408.300048828125,-1951.699951171875,33.7599983215332,871.3300170898438,-1708.6400146484375,-4030.8798828125],\"y\":[-4970.83984375,-5103.06005859375,-4567.97998046875,148.27000427246094,-1667.1700439453125,-2818.830078125],\"type\":\"scatter\"},{\"marker\":{\"color\":\"black\",\"size\":10},\"mode\":\"markers\",\"x\":[-3730.68994140625],\"y\":[-3335.64990234375],\"type\":\"scatter\"}]},{\"data\":[{\"marker\":{\"color\":[\"orange\",\"blue\",\"blue\",\"blue\",\"orange\",\"orange\"],\"size\":10},\"mode\":\"markers\",\"x\":[1408.300048828125,-1957.6700439453125,45.7400016784668,871.3300170898438,-1758.22998046875,-4030.8798828125],\"y\":[-4970.83984375,-5103.02001953125,-4468.22021484375,148.27000427246094,-1747.3900146484375,-2818.830078125],\"type\":\"scatter\"},{\"marker\":{\"color\":\"black\",\"size\":10},\"mode\":\"markers\",\"x\":[-3770.669921875],\"y\":[-3328.669921875],\"type\":\"scatter\"}]},{\"data\":[{\"marker\":{\"color\":[\"orange\",\"blue\",\"blue\",\"blue\",\"orange\",\"orange\"],\"size\":10},\"mode\":\"markers\",\"x\":[1522.2900390625,-1972.969970703125,45.7400016784668,984.8300170898438,-1766.52001953125,-3989.860107421875],\"y\":[-4915.58984375,-5102.9599609375,-4468.22021484375,155.3699951171875,-1764.4100341796875,-2929.219970703125],\"type\":\"scatter\"},{\"marker\":{\"color\":\"black\",\"size\":10},\"mode\":\"markers\",\"x\":[-3930.389892578125],\"y\":[-3300.81005859375],\"type\":\"scatter\"}]},{\"data\":[{\"marker\":{\"color\":[\"orange\",\"blue\",\"blue\",\"blue\",\"orange\",\"orange\"],\"size\":10},\"mode\":\"markers\",\"x\":[1584.8299560546875,-1972.969970703125,40.56999969482422,984.8300170898438,-1797.6800537109375,-3989.860107421875],\"y\":[-4868.89013671875,-5102.9599609375,-4374.0400390625,155.3699951171875,-1844.3399658203125,-2929.219970703125],\"type\":\"scatter\"},{\"marker\":{\"color\":\"black\",\"size\":10},\"mode\":\"markers\",\"x\":[-3993.8701171875],\"y\":[-3285.52001953125],\"type\":\"scatter\"}]},{\"data\":[{\"marker\":{\"color\":[\"orange\",\"blue\",\"blue\",\"blue\",\"orange\",\"orange\"],\"size\":10},\"mode\":\"markers\",\"x\":[1601.8199462890625,-1975.0999755859375,40.56999969482422,1064.280029296875,-1803.2900390625,-3941.5400390625],\"y\":[-4853.6298828125,-5102.9599609375,-4374.0400390625,160.33999633789062,-1862.760009765625,-3050.85009765625],\"type\":\"scatter\"},{\"marker\":{\"color\":\"black\",\"size\":10},\"mode\":\"markers\",\"x\":[-3922.219970703125],\"y\":[-3277.300048828125],\"type\":\"scatter\"}]},{\"data\":[{\"marker\":{\"color\":[\"orange\",\"blue\",\"blue\",\"blue\",\"orange\",\"orange\"],\"size\":10},\"mode\":\"markers\",\"x\":[1665.1800537109375,-1975.0999755859375,8.890000343322754,1181.4300537109375,-1819.4300537109375,-3918.8701171875],\"y\":[-4784.7998046875,-5102.9599609375,-4290.169921875,165.88999938964844,-1938.449951171875,-3096.60009765625],\"type\":\"scatter\"},{\"marker\":{\"color\":\"black\",\"size\":10},\"mode\":\"markers\",\"x\":[-3850.679931640625],\"y\":[-3269.110107421875],\"type\":\"scatter\"}]},{\"data\":[{\"marker\":{\"color\":[\"orange\",\"blue\",\"blue\",\"blue\",\"orange\",\"orange\"],\"size\":10},\"mode\":\"markers\",\"x\":[1665.1800537109375,-1963.3299560546875,8.890000343322754,1205.6700439453125,-1819.4300537109375,-3918.8701171875],\"y\":[-4784.7998046875,-5102.9599609375,-4290.169921875,166.63999938964844,-1938.449951171875,-3096.60009765625],\"type\":\"scatter\"},{\"marker\":{\"color\":\"black\",\"size\":10},\"mode\":\"markers\",\"x\":[-3813.510009765625],\"y\":[-3272.9599609375],\"type\":\"scatter\"}]},{\"data\":[{\"marker\":{\"color\":[\"orange\",\"blue\",\"blue\",\"blue\",\"orange\",\"orange\"],\"size\":10},\"mode\":\"markers\",\"x\":[1746.5,-1943.7900390625,-40.970001220703125,1318.0699462890625,-1824.7099609375,-3816.2900390625],\"y\":[-4655.669921875,-5102.9599609375,-4240.169921875,168.60000610351562,-2045.6800537109375,-3224.97998046875],\"type\":\"scatter\"},{\"marker\":{\"color\":\"black\",\"size\":10},\"mode\":\"markers\",\"x\":[-3675.72998046875],\"y\":[-3381.989990234375],\"type\":\"scatter\"}]},{\"data\":[{\"marker\":{\"color\":[\"orange\",\"blue\",\"blue\",\"blue\",\"orange\",\"orange\"],\"size\":10},\"mode\":\"markers\",\"x\":[1746.5,-1943.7900390625,-85.23999786376953,1318.0699462890625,-1824.7099609375,-3742.3701171875],\"y\":[-4655.669921875,-5102.9599609375,-4221.60986328125,168.60000610351562,-2045.6800537109375,-3314.830078125],\"type\":\"scatter\"},{\"marker\":{\"color\":\"black\",\"size\":10},\"mode\":\"markers\",\"x\":[-3572.590087890625],\"y\":[-3463.6201171875],\"type\":\"scatter\"}]},{\"data\":[{\"marker\":{\"color\":[\"orange\",\"blue\",\"blue\",\"blue\",\"orange\",\"orange\"],\"size\":10},\"mode\":\"markers\",\"x\":[1795.1300048828125,-1904.18994140625,-85.23999786376953,1462.81005859375,-1805.8399658203125,-3742.3701171875],\"y\":[-4549.22021484375,-5102.9599609375,-4221.60986328125,167.64999389648438,-2161.72998046875,-3314.830078125],\"type\":\"scatter\"},{\"marker\":{\"color\":\"black\",\"size\":10},\"mode\":\"markers\",\"x\":[-3486.75],\"y\":[-3531.550048828125],\"type\":\"scatter\"}]},{\"data\":[{\"marker\":{\"color\":[\"orange\",\"blue\",\"blue\",\"blue\",\"orange\",\"orange\"],\"size\":10},\"mode\":\"markers\",\"x\":[1795.1300048828125,-1904.18994140625,-139.1300048828125,1462.81005859375,-1805.8399658203125,-3659.25],\"y\":[-4549.22021484375,-5102.9599609375,-4217.18994140625,167.64999389648438,-2161.72998046875,-3416.1201171875],\"type\":\"scatter\"},{\"marker\":{\"color\":\"black\",\"size\":10},\"mode\":\"markers\",\"x\":[-3418.169921875],\"y\":[-3585.820068359375],\"type\":\"scatter\"}]},{\"data\":[{\"marker\":{\"color\":[\"orange\",\"blue\",\"blue\",\"blue\",\"orange\",\"orange\"],\"size\":10},\"mode\":\"markers\",\"x\":[1842.3800048828125,-1856.6099853515625,-139.1300048828125,1601.3399658203125,-1774.5400390625,-3659.25],\"y\":[-4429.2099609375,-5102.9599609375,-4217.18994140625,163.4499969482422,-2244.3701171875,-3416.1201171875],\"type\":\"scatter\"},{\"marker\":{\"color\":\"black\",\"size\":10},\"mode\":\"markers\",\"x\":[-3281.199951171875],\"y\":[-3694.2099609375],\"type\":\"scatter\"}]},{\"data\":[{\"marker\":{\"color\":[\"orange\",\"blue\",\"blue\",\"blue\",\"orange\",\"orange\"],\"size\":10},\"mode\":\"markers\",\"x\":[1842.3800048828125,-1856.6099853515625,-200.77999877929688,1601.3399658203125,-1734.97998046875,-3566.949951171875],\"y\":[-4429.2099609375,-5102.9599609375,-4229.509765625,163.4499969482422,-2312.260009765625,-3528.719970703125],\"type\":\"scatter\"},{\"marker\":{\"color\":\"black\",\"size\":10},\"mode\":\"markers\",\"x\":[-3212.820068359375],\"y\":[-3748.320068359375],\"type\":\"scatter\"}]},{\"data\":[{\"marker\":{\"color\":[\"orange\",\"blue\",\"blue\",\"blue\",\"orange\",\"orange\"],\"size\":10},\"mode\":\"markers\",\"x\":[1879.4300537109375,-1808.1800537109375,-200.77999877929688,1729.8599853515625,-1723.47998046875,-3566.949951171875],\"y\":[-4330.27978515625,-5102.9599609375,-4229.509765625,157.80999755859375,-2328.18994140625,-3528.719970703125],\"type\":\"scatter\"},{\"marker\":{\"color\":\"black\",\"size\":10},\"mode\":\"markers\",\"x\":[-3161.590087890625],\"y\":[-3788.860107421875],\"type\":\"scatter\"}]},{\"data\":[{\"marker\":{\"color\":[\"orange\",\"blue\",\"blue\",\"blue\",\"orange\",\"orange\"],\"size\":10},\"mode\":\"markers\",\"x\":[1879.4300537109375,-1808.1800537109375,-255.3800048828125,1729.8599853515625,-1723.47998046875,-3483.8798828125],\"y\":[-4330.27978515625,-5102.9599609375,-4253.85986328125,157.80999755859375,-2328.18994140625,-3630.06005859375],\"type\":\"scatter\"},{\"marker\":{\"color\":\"black\",\"size\":10},\"mode\":\"markers\",\"x\":[-3093.330078125],\"y\":[-3842.8701171875],\"type\":\"scatter\"}]},{\"data\":[{\"marker\":{\"color\":[\"orange\",\"blue\",\"blue\",\"blue\",\"orange\",\"orange\"],\"size\":10},\"mode\":\"markers\",\"x\":[1912.06005859375,-1755.0899658203125,-255.3800048828125,1844.1700439453125,-1664.3800048828125,-3483.8798828125],\"y\":[-4242.169921875,-5102.9599609375,-4253.85986328125,152.77000427246094,-2393.840087890625,-3630.06005859375],\"type\":\"scatter\"},{\"marker\":{\"color\":\"black\",\"size\":10},\"mode\":\"markers\",\"x\":[-3025.14990234375],\"y\":[-3896.820068359375],\"type\":\"scatter\"}]},{\"data\":[{\"marker\":{\"color\":[\"orange\",\"blue\",\"blue\",\"blue\",\"orange\",\"orange\"],\"size\":10},\"mode\":\"markers\",\"x\":[1912.06005859375,-1755.0899658203125,-325.0199890136719,1844.1700439453125,-1664.3800048828125,-3373.1201171875],\"y\":[-4242.169921875,-5102.9599609375,-4302.33984375,152.77000427246094,-2393.840087890625,-3765.179931640625],\"type\":\"scatter\"},{\"marker\":{\"color\":\"black\",\"size\":10},\"mode\":\"markers\",\"x\":[-2888.97998046875],\"y\":[-4004.570068359375],\"type\":\"scatter\"}]},{\"data\":[{\"marker\":{\"color\":[\"orange\",\"blue\",\"blue\",\"blue\",\"orange\",\"orange\"],\"size\":10},\"mode\":\"markers\",\"x\":[1962.510009765625,-1755.0899658203125,-325.0199890136719,2015.6300048828125,-1564.27001953125,-3373.1201171875],\"y\":[-4109.81982421875,-5102.9599609375,-4302.33984375,145.2100067138672,-2467.0,-3765.179931640625],\"type\":\"scatter\"},{\"marker\":{\"color\":\"black\",\"size\":10},\"mode\":\"markers\",\"x\":[-2821.0],\"y\":[-4058.360107421875],\"type\":\"scatter\"}]},{\"data\":[{\"marker\":{\"color\":[\"orange\",\"blue\",\"blue\",\"blue\",\"orange\",\"orange\"],\"size\":10},\"mode\":\"markers\",\"x\":[1962.510009765625,-1702.6700439453125,-365.2699890136719,2015.6300048828125,-1564.27001953125,-3308.510009765625],\"y\":[-4109.81982421875,-5102.9599609375,-4336.1201171875,145.2100067138672,-2467.0,-3844.0],\"type\":\"scatter\"},{\"marker\":{\"color\":\"black\",\"size\":10},\"mode\":\"markers\",\"x\":[-2770.070068359375],\"y\":[-4098.669921875],\"type\":\"scatter\"}]},{\"data\":[{\"marker\":{\"color\":[\"orange\",\"blue\",\"blue\",\"blue\",\"orange\",\"orange\"],\"size\":10},\"mode\":\"markers\",\"x\":[1962.510009765625,-1702.6700439453125,-365.2699890136719,2115.639892578125,-1564.27001953125,-3308.510009765625],\"y\":[-4109.81982421875,-5102.9599609375,-4336.1201171875,140.8000030517578,-2467.0,-3844.0],\"type\":\"scatter\"},{\"marker\":{\"color\":\"black\",\"size\":10},\"mode\":\"markers\",\"x\":[-2702.2099609375],\"y\":[-4152.3701171875],\"type\":\"scatter\"}]},{\"data\":[{\"marker\":{\"color\":[\"orange\",\"blue\",\"blue\",\"blue\",\"orange\",\"orange\"],\"size\":10},\"mode\":\"markers\",\"x\":[2004.5699462890625,-1661.0799560546875,-420.1199951171875,2115.639892578125,-1473.93994140625,-3216.2099609375],\"y\":[-4006.7900390625,-5102.9599609375,-4391.81982421875,140.8000030517578,-2508.5400390625,-3956.60009765625],\"type\":\"scatter\"},{\"marker\":{\"color\":\"black\",\"size\":10},\"mode\":\"markers\",\"x\":[-2634.429931640625],\"y\":[-4206.02001953125],\"type\":\"scatter\"}]},{\"data\":[{\"marker\":{\"color\":[\"orange\",\"blue\",\"blue\",\"blue\",\"orange\",\"orange\"],\"size\":10},\"mode\":\"markers\",\"x\":[2056.659912109375,-1661.0799560546875,-430.4200134277344,2258.530029296875,-1361.5400390625,-3197.75],\"y\":[-3887.43994140625,-5102.9599609375,-4404.10009765625,134.5,-2537.6298828125,-3979.1201171875],\"type\":\"scatter\"},{\"marker\":{\"color\":\"black\",\"size\":10},\"mode\":\"markers\",\"x\":[-2499.06005859375],\"y\":[-4313.14013671875],\"type\":\"scatter\"}]},{\"data\":[{\"marker\":{\"color\":[\"orange\",\"blue\",\"blue\",\"blue\",\"orange\",\"orange\"],\"size\":10},\"mode\":\"markers\",\"x\":[2067.669921875,-1620.4599609375,-464.0799865722656,2258.530029296875,-1338.25,-3133.139892578125],\"y\":[-3862.889892578125,-5102.9599609375,-4450.169921875,134.5,-2541.010009765625,-4057.93994140625],\"type\":\"scatter\"},{\"marker\":{\"color\":\"black\",\"size\":10},\"mode\":\"markers\",\"x\":[-2448.3701171875],\"y\":[-4353.25],\"type\":\"scatter\"}]},{\"data\":[{\"marker\":{\"color\":[\"orange\",\"blue\",\"blue\",\"blue\",\"orange\",\"orange\"],\"size\":10},\"mode\":\"markers\",\"x\":[2107.219970703125,-1584.5799560546875,-464.0799865722656,2415.669921875,-1256.5999755859375,-3133.139892578125],\"y\":[-3774.909912109375,-5102.9599609375,-4450.169921875,128.02999877929688,-2546.070068359375,-4057.93994140625],\"type\":\"scatter\"},{\"marker\":{\"color\":\"black\",\"size\":10},\"mode\":\"markers\",\"x\":[-2313.3798828125],\"y\":[-4460.06005859375],\"type\":\"scatter\"}]},{\"data\":[{\"marker\":{\"color\":[\"orange\",\"blue\",\"blue\",\"blue\",\"orange\",\"orange\"],\"size\":10},\"mode\":\"markers\",\"x\":[2107.219970703125,-1577.1600341796875,-503.3500061035156,2415.669921875,-1256.5999755859375,-3040.840087890625],\"y\":[-3774.909912109375,-5102.9599609375,-4524.10009765625,128.02999877929688,-2546.070068359375,-4170.5400390625],\"type\":\"scatter\"},{\"marker\":{\"color\":\"black\",\"size\":10},\"mode\":\"markers\",\"x\":[-2212.330078125],\"y\":[-4540.02978515625],\"type\":\"scatter\"}]},{\"data\":[{\"marker\":{\"color\":[\"orange\",\"blue\",\"blue\",\"blue\",\"orange\",\"orange\"],\"size\":10},\"mode\":\"markers\",\"x\":[2192.81005859375,-1577.1600341796875,-503.3500061035156,2587.179931640625,-1116.52001953125,-3040.840087890625],\"y\":[-3586.39990234375,-5102.9599609375,-4524.10009765625,124.86000061035156,-2530.080078125,-4170.5400390625],\"type\":\"scatter\"},{\"marker\":{\"color\":\"black\",\"size\":10},\"mode\":\"markers\",\"x\":[-2145.050048828125],\"y\":[-4593.27978515625],\"type\":\"scatter\"}]},{\"data\":[{\"marker\":{\"color\":[\"orange\",\"blue\",\"blue\",\"blue\",\"orange\",\"orange\"],\"size\":10},\"mode\":\"markers\",\"x\":[2192.81005859375,-1544.260009765625,-529.0700073242188,2587.179931640625,-1116.52001953125,-2948.530029296875],\"y\":[-3586.39990234375,-5102.9599609375,-4606.080078125,124.86000061035156,-2530.080078125,-4283.14013671875],\"type\":\"scatter\"},{\"marker\":{\"color\":\"black\",\"size\":10},\"mode\":\"markers\",\"x\":[-2061.0400390625],\"y\":[-4659.759765625],\"type\":\"scatter\"}]},{\"data\":[{\"marker\":{\"color\":[\"orange\",\"blue\",\"blue\",\"blue\",\"orange\",\"orange\"],\"size\":10},\"mode\":\"markers\",\"x\":[2263.919921875,-1518.780029296875,-538.6500244140625,2715.6298828125,-1011.4400024414062,-2865.280029296875],\"y\":[-3430.419921875,-5102.9599609375,-4684.4501953125,124.7699966430664,-2497.179931640625,-4384.58984375],\"type\":\"scatter\"},{\"marker\":{\"color\":\"black\",\"size\":10},\"mode\":\"markers\",\"x\":[-1960.3699951171875],\"y\":[-4739.43017578125],\"type\":\"scatter\"}]},{\"data\":[{\"marker\":{\"color\":[\"orange\",\"blue\",\"blue\",\"blue\",\"orange\",\"orange\"],\"size\":10},\"mode\":\"markers\",\"x\":[2327.199951171875,-1503.3699951171875,-538.6500244140625,2715.6298828125,-1011.4400024414062,-2865.280029296875],\"y\":[-3291.639892578125,-5100.5,-4684.4501953125,124.7699966430664,-2497.179931640625,-4384.58984375],\"type\":\"scatter\"},{\"marker\":{\"color\":\"black\",\"size\":10},\"mode\":\"markers\",\"x\":[-1859.8599853515625],\"y\":[-4818.97021484375],\"type\":\"scatter\"}]},{\"data\":[{\"marker\":{\"color\":[\"orange\",\"blue\",\"blue\",\"blue\",\"orange\",\"orange\"],\"size\":10},\"mode\":\"markers\",\"x\":[2327.199951171875,-1503.3699951171875,-531.4400024414062,2857.969970703125,-865.8699951171875,-2763.110107421875],\"y\":[-3291.639892578125,-5100.5,-4782.3798828125,131.1300048828125,-2418.27001953125,-4508.830078125],\"type\":\"scatter\"},{\"marker\":{\"color\":\"black\",\"size\":10},\"mode\":\"markers\",\"x\":[-1776.219970703125],\"y\":[-4885.14990234375],\"type\":\"scatter\"}]},{\"data\":[{\"marker\":{\"color\":[\"orange\",\"blue\",\"blue\",\"blue\",\"orange\",\"orange\"],\"size\":10},\"mode\":\"markers\",\"x\":[2414.2099609375,-1475.4599609375,-531.4400024414062,2985.639892578125,-865.8699951171875,-2763.110107421875],\"y\":[-3100.7900390625,-5070.25,-4782.3798828125,141.6300048828125,-2418.27001953125,-4508.830078125],\"type\":\"scatter\"},{\"marker\":{\"color\":\"black\",\"size\":10},\"mode\":\"markers\",\"x\":[-1675.989990234375],\"y\":[-4964.4599609375],\"type\":\"scatter\"}]},{\"data\":[{\"marker\":{\"color\":[\"orange\",\"blue\",\"blue\",\"blue\",\"orange\",\"orange\"],\"size\":10},\"mode\":\"markers\",\"x\":[2414.2099609375,-1475.4599609375,-506.5899963378906,2985.639892578125,-763.1300048828125,-2669.85009765625],\"y\":[-3100.7900390625,-5070.25,-4869.669921875,141.6300048828125,-2333.699951171875,-4622.0498046875],\"type\":\"scatter\"},{\"marker\":{\"color\":\"black\",\"size\":10},\"mode\":\"markers\",\"x\":[-1620.4100341796875],\"y\":[-4979.52978515625],\"type\":\"scatter\"}]},{\"data\":[{\"marker\":{\"color\":[\"orange\",\"blue\",\"blue\",\"blue\",\"orange\",\"orange\"],\"size\":10},\"mode\":\"markers\",\"x\":[2493.31005859375,-1448.489990234375,-506.5899963378906,3127.39990234375,-763.1300048828125,-2669.85009765625],\"y\":[-2927.2900390625,-5033.06982421875,-4869.669921875,149.13999938964844,-2333.699951171875,-4622.0498046875],\"type\":\"scatter\"},{\"marker\":{\"color\":\"black\",\"size\":10},\"mode\":\"markers\",\"x\":[-1553.8800048828125],\"y\":[-4946.47021484375],\"type\":\"scatter\"}]},{\"data\":[{\"marker\":{\"color\":[\"orange\",\"blue\",\"blue\",\"blue\",\"orange\",\"orange\"],\"size\":10},\"mode\":\"markers\",\"x\":[2493.31005859375,-1448.489990234375,-475.8299865722656,3127.39990234375,-677.6099853515625,-2585.590087890625],\"y\":[-2927.2900390625,-5033.06982421875,-4936.009765625,149.13999938964844,-2243.320068359375,-4724.18994140625],\"type\":\"scatter\"},{\"marker\":{\"color\":\"black\",\"size\":10},\"mode\":\"markers\",\"x\":[-1520.6500244140625],\"y\":[-4929.97021484375],\"type\":\"scatter\"}]},{\"data\":[{\"marker\":{\"color\":[\"orange\",\"blue\",\"blue\",\"blue\",\"orange\",\"orange\"],\"size\":10},\"mode\":\"markers\",\"x\":[2548.679931640625,-1428.5899658203125,-430.7099914550781,3254.300048828125,-677.6099853515625,-2585.590087890625],\"y\":[-2805.840087890625,-5004.1298828125,-5004.14013671875,144.3699951171875,-2243.320068359375,-4724.18994140625],\"type\":\"scatter\"},{\"marker\":{\"color\":\"black\",\"size\":10},\"mode\":\"markers\",\"x\":[-1458.3800048828125],\"y\":[-4889.22021484375],\"type\":\"scatter\"}]},{\"data\":[{\"marker\":{\"color\":[\"orange\",\"blue\",\"blue\",\"blue\",\"orange\",\"orange\"],\"size\":10},\"mode\":\"markers\",\"x\":[2627.780029296875,-1403.77001953125,-419.0199890136719,3254.300048828125,-589.1599731445312,-2491.6201171875],\"y\":[-2632.340087890625,-4982.02001953125,-5017.83984375,144.3699951171875,-2135.510009765625,-4837.91015625],\"type\":\"scatter\"},{\"marker\":{\"color\":\"black\",\"size\":10},\"mode\":\"markers\",\"x\":[-1438.6800537109375],\"y\":[-4767.10009765625],\"type\":\"scatter\"}]},{\"data\":[{\"marker\":{\"color\":[\"orange\",\"blue\",\"blue\",\"blue\",\"orange\",\"orange\"],\"size\":10},\"mode\":\"markers\",\"x\":[2627.780029296875,-1325.6700439453125,-351.8500061035156,3391.8798828125,-504.3399963378906,-2397.260009765625],\"y\":[-2632.340087890625,-4929.080078125,-5075.64990234375,120.98999786376953,-2024.93994140625,-4951.85986328125],\"type\":\"scatter\"},{\"marker\":{\"color\":\"black\",\"size\":10},\"mode\":\"markers\",\"x\":[-1412.3599853515625],\"y\":[-4605.080078125],\"type\":\"scatter\"}]},{\"data\":[{\"marker\":{\"color\":[\"orange\",\"blue\",\"blue\",\"blue\",\"orange\",\"orange\"],\"size\":10},\"mode\":\"markers\",\"x\":[2706.8798828125,-1325.6700439453125,-351.8500061035156,3391.8798828125,-504.3399963378906,-2397.260009765625],\"y\":[-2458.840087890625,-4929.080078125,-5075.64990234375,120.98999786376953,-2024.93994140625,-4951.85986328125],\"type\":\"scatter\"},{\"marker\":{\"color\":\"black\",\"size\":10},\"mode\":\"markers\",\"x\":[-1399.199951171875],\"y\":[-4524.2001953125],\"type\":\"scatter\"}]},{\"data\":[{\"marker\":{\"color\":[\"orange\",\"blue\",\"blue\",\"blue\",\"orange\",\"orange\"],\"size\":10},\"mode\":\"markers\",\"x\":[2706.8798828125,-1254.3199462890625,-281.1400146484375,3509.68994140625,-429.6499938964844,-2312.0],\"y\":[-2458.840087890625,-4880.77001953125,-5110.06982421875,82.54000091552734,-1924.260009765625,-5054.580078125],\"type\":\"scatter\"},{\"marker\":{\"color\":\"black\",\"size\":10},\"mode\":\"markers\",\"x\":[-1382.800048828125],\"y\":[-4423.2099609375],\"type\":\"scatter\"}]},{\"data\":[{\"marker\":{\"color\":[\"orange\",\"blue\",\"blue\",\"blue\",\"orange\",\"orange\"],\"size\":10},\"mode\":\"markers\",\"x\":[2793.889892578125,-1254.3199462890625,-281.1400146484375,3631.02001953125,-429.6499938964844,-2312.0],\"y\":[-2267.989990234375,-4880.77001953125,-5110.06982421875,22.639999389648438,-1924.260009765625,-5054.580078125],\"type\":\"scatter\"},{\"marker\":{\"color\":\"black\",\"size\":10},\"mode\":\"markers\",\"x\":[-1363.1199951171875],\"y\":[-4302.18994140625],\"type\":\"scatter\"}]},{\"data\":[{\"marker\":{\"color\":[\"orange\",\"blue\",\"blue\",\"blue\",\"orange\",\"orange\"],\"size\":10},\"mode\":\"markers\",\"x\":[2793.889892578125,-1159.050048828125,-213.0399932861328,3631.02001953125,-339.32000732421875,-2208.6201171875],\"y\":[-2267.989990234375,-4816.4501953125,-5126.10986328125,22.639999389648438,-1784.4100341796875,-5105.81982421875],\"type\":\"scatter\"},{\"marker\":{\"color\":\"black\",\"size\":10},\"mode\":\"markers\",\"x\":[-1343.489990234375],\"y\":[-4181.35009765625],\"type\":\"scatter\"}]},{\"data\":[{\"marker\":{\"color\":[\"orange\",\"blue\",\"blue\",\"blue\",\"orange\",\"orange\"],\"size\":10},\"mode\":\"markers\",\"x\":[2872.989990234375,-1159.050048828125,-213.0399932861328,3738.260009765625,-339.32000732421875,-2208.6201171875],\"y\":[-2094.489990234375,-4816.4501953125,-5126.10986328125,-52.88999938964844,-1784.4100341796875,-5105.81982421875],\"type\":\"scatter\"},{\"marker\":{\"color\":\"black\",\"size\":10},\"mode\":\"markers\",\"x\":[-1330.4100341796875],\"y\":[-4100.89013671875],\"type\":\"scatter\"}]},{\"data\":[{\"marker\":{\"color\":[\"orange\",\"blue\",\"blue\",\"blue\",\"orange\",\"orange\"],\"size\":10},\"mode\":\"markers\",\"x\":[2872.989990234375,-1087.5899658203125,-115.87999725341797,3747.840087890625,-280.1600036621094,-2141.780029296875],\"y\":[-2094.489990234375,-4768.2099609375,-5127.580078125,-61.369998931884766,-1674.9300537109375,-5102.2099609375],\"type\":\"scatter\"},{\"marker\":{\"color\":\"black\",\"size\":10},\"mode\":\"markers\",\"x\":[-1314.0799560546875],\"y\":[-4000.43994140625],\"type\":\"scatter\"}]},{\"data\":[{\"marker\":{\"color\":[\"orange\",\"blue\",\"blue\",\"blue\",\"orange\",\"orange\"],\"size\":10},\"mode\":\"markers\",\"x\":[2928.3798828125,-1087.5899658203125,-115.87999725341797,3815.610107421875,-280.1600036621094,-2127.8701171875],\"y\":[-1972.97998046875,-4768.2099609375,-5127.580078125,-136.6999969482422,-1674.9300537109375,-5101.8701171875],\"type\":\"scatter\"},{\"marker\":{\"color\":\"black\",\"size\":10},\"mode\":\"markers\",\"x\":[-1301.0400390625],\"y\":[-3920.179931640625],\"type\":\"scatter\"}]},{\"data\":[{\"marker\":{\"color\":[\"orange\",\"blue\",\"blue\",\"blue\",\"orange\",\"orange\"],\"size\":10},\"mode\":\"markers\",\"x\":[3007.590087890625,-1008.1900024414062,-27.989999771118164,3815.610107421875,-220.05999755859375,-2064.909912109375],\"y\":[-1799.2099609375,-4714.60986328125,-5109.43017578125,-136.6999969482422,-1550.5999755859375,-5101.3798828125],\"type\":\"scatter\"},{\"marker\":{\"color\":\"black\",\"size\":10},\"mode\":\"markers\",\"x\":[-1274.97998046875],\"y\":[-3759.89990234375],\"type\":\"scatter\"}]},{\"data\":[{\"marker\":{\"color\":[\"orange\",\"blue\",\"blue\",\"blue\",\"orange\",\"orange\"],\"size\":10},\"mode\":\"markers\",\"x\":[3007.590087890625,-1008.1900024414062,31.239999771118164,3876.659912109375,-220.05999755859375,-2064.909912109375],\"y\":[-1799.2099609375,-4714.60986328125,-5086.16015625,-260.07000732421875,-1550.5999755859375,-5101.3798828125],\"type\":\"scatter\"},{\"marker\":{\"color\":\"black\",\"size\":10},\"mode\":\"markers\",\"x\":[-1265.949951171875],\"y\":[-3705.179931640625],\"type\":\"scatter\"}]},{\"data\":[{\"marker\":{\"color\":[\"orange\",\"blue\",\"blue\",\"blue\",\"orange\",\"orange\"],\"size\":10},\"mode\":\"markers\",\"x\":[3007.590087890625,-936.72998046875,31.239999771118164,3876.659912109375,-168.07000732421875,-2064.909912109375],\"y\":[-1799.2099609375,-4666.3701171875,-5086.16015625,-260.07000732421875,-1437.739990234375,-5101.3798828125],\"type\":\"scatter\"},{\"marker\":{\"color\":\"black\",\"size\":10},\"mode\":\"markers\",\"x\":[-1254.3900146484375],\"y\":[-3635.81005859375],\"type\":\"scatter\"}]},{\"data\":[{\"marker\":{\"color\":[\"orange\",\"blue\",\"blue\",\"blue\",\"orange\",\"orange\"],\"size\":10},\"mode\":\"markers\",\"x\":[3094.68994140625,-936.72998046875,31.239999771118164,3896.35009765625,-168.07000732421875,-2012.1600341796875],\"y\":[-1608.1500244140625,-4666.3701171875,-5086.16015625,-384.9800109863281,-1437.739990234375,-5101.35986328125],\"type\":\"scatter\"},{\"marker\":{\"color\":\"black\",\"size\":10},\"mode\":\"markers\",\"x\":[-1237.050048828125],\"y\":[-3531.889892578125],\"type\":\"scatter\"}]},{\"data\":[{\"marker\":{\"color\":[\"orange\",\"blue\",\"blue\",\"blue\",\"orange\",\"orange\"],\"size\":10},\"mode\":\"markers\",\"x\":[3094.68994140625,-841.4500122070312,124.52999877929688,3896.989990234375,-99.33999633789062,-1987.260009765625],\"y\":[-1608.1500244140625,-4602.0498046875,-5027.22998046875,-410.7699890136719,-1285.8399658203125,-5101.35986328125],\"type\":\"scatter\"},{\"marker\":{\"color\":\"black\",\"size\":10},\"mode\":\"markers\",\"x\":[-1219.760009765625],\"y\":[-3428.1298828125],\"type\":\"scatter\"}]},{\"data\":[{\"marker\":{\"color\":[\"orange\",\"blue\",\"blue\",\"blue\",\"orange\",\"orange\"],\"size\":10},\"mode\":\"markers\",\"x\":[3189.7900390625,-825.5700073242188,124.52999877929688,3890.179931640625,-99.33999633789062,-1982.97998046875],\"y\":[-1400.3499755859375,-4591.330078125,-5027.22998046875,-515.489990234375,-1285.8399658203125,-5101.35986328125],\"type\":\"scatter\"},{\"marker\":{\"color\":\"black\",\"size\":10},\"mode\":\"markers\",\"x\":[-1208.239990234375],\"y\":[-3359.050048828125],\"type\":\"scatter\"}]},{\"data\":[{\"marker\":{\"color\":[\"orange\",\"blue\",\"blue\",\"blue\",\"orange\",\"orange\"],\"size\":10},\"mode\":\"markers\",\"x\":[3189.7900390625,-825.5700073242188,196.6999969482422,3890.179931640625,-99.33999633789062,-1982.97998046875],\"y\":[-1400.3499755859375,-4591.330078125,-4954.31005859375,-515.489990234375,-1285.8399658203125,-5101.35986328125],\"type\":\"scatter\"},{\"marker\":{\"color\":\"black\",\"size\":10},\"mode\":\"markers\",\"x\":[-1199.5999755859375],\"y\":[-3307.280029296875],\"type\":\"scatter\"}]},{\"data\":[{\"marker\":{\"color\":[\"orange\",\"blue\",\"blue\",\"blue\",\"orange\",\"orange\"],\"size\":10},\"mode\":\"markers\",\"x\":[3189.7900390625,-769.989990234375,196.6999969482422,3890.179931640625,-49.65999984741211,-1973.8499755859375],\"y\":[-1400.3499755859375,-4553.81005859375,-4954.31005859375,-515.489990234375,-1165.510009765625,-5098.9501953125],\"type\":\"scatter\"},{\"marker\":{\"color\":\"black\",\"size\":10},\"mode\":\"markers\",\"x\":[-1193.8499755859375],\"y\":[-3272.7900390625],\"type\":\"scatter\"}]},{\"data\":[{\"marker\":{\"color\":[\"orange\",\"blue\",\"blue\",\"blue\",\"orange\",\"orange\"],\"size\":10},\"mode\":\"markers\",\"x\":[3270.739990234375,-769.989990234375,238.83999633789062,3859.52001953125,-49.65999984741211,-1973.8499755859375],\"y\":[-1207.5799560546875,-4553.81005859375,-4891.75,-661.9099731445312,-1165.510009765625,-5098.9501953125],\"type\":\"scatter\"},{\"marker\":{\"color\":\"black\",\"size\":10},\"mode\":\"markers\",\"x\":[-1176.6300048828125],\"y\":[-3169.429931640625],\"type\":\"scatter\"}]},{\"data\":[{\"marker\":{\"color\":[\"orange\",\"blue\",\"blue\",\"blue\",\"orange\",\"orange\"],\"size\":10},\"mode\":\"markers\",\"x\":[3270.739990234375,-690.5900268554688,238.83999633789062,3824.179931640625,-4.300000190734863,-1985.050048828125],\"y\":[-1207.5799560546875,-4500.2099609375,-4891.75,-769.3400268554688,-1022.1400146484375,-5046.72021484375],\"type\":\"scatter\"},{\"marker\":{\"color\":\"black\",\"size\":10},\"mode\":\"markers\",\"x\":[-1153.6800537109375],\"y\":[-3031.860107421875],\"type\":\"scatter\"}]},{\"data\":[{\"marker\":{\"color\":[\"orange\",\"blue\",\"blue\",\"blue\",\"orange\",\"orange\"],\"size\":10},\"mode\":\"markers\",\"x\":[3348.5400390625,-690.5900268554688,282.739990234375,3813.469970703125,-4.300000190734863,-1985.050048828125],\"y\":[-993.47998046875,-4500.2099609375,-4786.490234375,-796.1199951171875,-1022.1400146484375,-5046.72021484375],\"type\":\"scatter\"},{\"marker\":{\"color\":\"black\",\"size\":10},\"mode\":\"markers\",\"x\":[-1142.239990234375],\"y\":[-2963.179931640625],\"type\":\"scatter\"}]},{\"data\":[{\"marker\":{\"color\":[\"orange\",\"blue\",\"blue\",\"blue\",\"orange\",\"orange\"],\"size\":10},\"mode\":\"markers\",\"x\":[3348.5400390625,-603.25,282.739990234375,3813.469970703125,27.25,-2000.8299560546875],\"y\":[-993.47998046875,-4441.25,-4786.490234375,-796.1199951171875,-853.0599975585938,-4991.47998046875],\"type\":\"scatter\"},{\"marker\":{\"color\":\"black\",\"size\":10},\"mode\":\"markers\",\"x\":[-1127.93994140625],\"y\":[-2877.429931640625],\"type\":\"scatter\"}]},{\"data\":[{\"marker\":{\"color\":[\"orange\",\"blue\",\"blue\",\"blue\",\"orange\",\"orange\"],\"size\":10},\"mode\":\"markers\",\"x\":[3403.2099609375,-603.25,298.9100036621094,3740.0,27.25,-2000.8299560546875],\"y\":[-831.6599731445312,-4441.25,-4701.56005859375,-940.75,-853.0599975585938,-4991.47998046875],\"type\":\"scatter\"},{\"marker\":{\"color\":\"black\",\"size\":10},\"mode\":\"markers\",\"x\":[-1116.510009765625],\"y\":[-2808.909912109375],\"type\":\"scatter\"}]},{\"data\":[{\"marker\":{\"color\":[\"orange\",\"blue\",\"blue\",\"blue\",\"orange\",\"orange\"],\"size\":10},\"mode\":\"markers\",\"x\":[3403.2099609375,-523.8499755859375,298.9100036621094,3740.0,43.95000076293945,-2000.8299560546875],\"y\":[-831.6599731445312,-4387.64990234375,-4701.56005859375,-940.75,-690.8400268554688,-4991.47998046875],\"type\":\"scatter\"},{\"marker\":{\"color\":\"black\",\"size\":10},\"mode\":\"markers\",\"x\":[-1099.4100341796875],\"y\":[-2706.260009765625],\"type\":\"scatter\"}]},{\"data\":[{\"marker\":{\"color\":[\"orange\",\"blue\",\"blue\",\"blue\",\"orange\",\"orange\"],\"size\":10},\"mode\":\"markers\",\"x\":[3462.52001953125,-523.8499755859375,299.25,3650.389892578125,43.95000076293945,-2037.7099609375],\"y\":[-651.4000244140625,-4387.64990234375,-4600.47021484375,-1064.4000244140625,-690.8400268554688,-4894.4599609375],\"type\":\"scatter\"},{\"marker\":{\"color\":\"black\",\"size\":10},\"mode\":\"markers\",\"x\":[-1088.010009765625],\"y\":[-2637.919921875],\"type\":\"scatter\"}]}]);\n",
       "                        }).then(function(){\n",
       "                            \n",
       "var gd = document.getElementById('688fae58-5f9d-465b-a267-b7125b74f00b');\n",
       "var x = new MutationObserver(function (mutations, observer) {{\n",
       "        var display = window.getComputedStyle(gd).display;\n",
       "        if (!display || display === 'none') {{\n",
       "            console.log([gd, 'removed!']);\n",
       "            Plotly.purge(gd);\n",
       "            observer.disconnect();\n",
       "        }}\n",
       "}});\n",
       "\n",
       "// Listen for the removal of the full notebook cells\n",
       "var notebookContainer = gd.closest('#notebook-container');\n",
       "if (notebookContainer) {{\n",
       "    x.observe(notebookContainer, {childList: true});\n",
       "}}\n",
       "\n",
       "// Listen for the clearing of the current output cell\n",
       "var outputEl = gd.closest('.output');\n",
       "if (outputEl) {{\n",
       "    x.observe(outputEl, {childList: true});\n",
       "}}\n",
       "\n",
       "                        })                };                });            </script>        </div>"
      ]
     },
     "metadata": {},
     "output_type": "display_data"
    }
   ],
   "source": [
    "random_sample = results_df.sample(1)\n",
    "replay = random_sample['replay_name'].values[0]\n",
    "df, flat_df, game_info, players, df_ball = get_replay_df(replay)\n",
    "is_goal = random_sample['is_goal'].values[0]\n",
    "fig = show_play(go.Figure(), random_sample['expected_goal'].values[0], random_sample['frames'].values[0], is_goal)\n",
    "fig.show()"
   ]
  },
  {
   "cell_type": "code",
   "execution_count": null,
   "metadata": {},
   "outputs": [],
   "source": []
  }
 ],
 "metadata": {
  "kernelspec": {
   "display_name": "Python 3",
   "language": "python",
   "name": "python3"
  },
  "language_info": {
   "codemirror_mode": {
    "name": "ipython",
    "version": 3
   },
   "file_extension": ".py",
   "mimetype": "text/x-python",
   "name": "python",
   "nbconvert_exporter": "python",
   "pygments_lexer": "ipython3",
   "version": "3.8.3"
  }
 },
 "nbformat": 4,
 "nbformat_minor": 4
}
